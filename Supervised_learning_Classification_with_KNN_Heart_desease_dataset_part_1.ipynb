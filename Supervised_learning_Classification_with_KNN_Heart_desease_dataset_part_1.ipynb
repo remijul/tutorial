{
  "nbformat": 4,
  "nbformat_minor": 0,
  "metadata": {
    "colab": {
      "name": "Supervised learning - Classification with KNN - Heart desease dataset part 1.ipynb",
      "provenance": [],
      "collapsed_sections": [],
      "toc_visible": true,
      "include_colab_link": true
    },
    "kernelspec": {
      "name": "python3",
      "display_name": "Python 3"
    }
  },
  "cells": [
    {
      "cell_type": "markdown",
      "metadata": {
        "id": "view-in-github",
        "colab_type": "text"
      },
      "source": [
        "<a href=\"https://colab.research.google.com/github/remijul/tutorial/blob/master/Supervised_learning_Classification_with_KNN_Heart_desease_dataset_part_1.ipynb\" target=\"_parent\"><img src=\"https://colab.research.google.com/assets/colab-badge.svg\" alt=\"Open In Colab\"/></a>"
      ]
    },
    {
      "cell_type": "markdown",
      "metadata": {
        "id": "7RZbCjBZBNKL"
      },
      "source": [
        "# Supervised learning - Classification with KNN - Heart desease dataset\n",
        "Prediction of heart desease with the KNN classifier with scikit-learn.  \n",
        "\n",
        "---\n",
        "\n",
        "This is a tutorial for beginners aiming to improve their Machine Learning' skills."
      ]
    },
    {
      "cell_type": "markdown",
      "metadata": {
        "id": "_CHGX8zyVEGI"
      },
      "source": [
        "### Objectives : for all !\n"
      ]
    },
    {
      "cell_type": "markdown",
      "metadata": {
        "id": "cGUNp2z6VHSR"
      },
      "source": [
        "Build a KNN classifier for predicting cardiac desease fo people based on some of their features.  \n",
        "\n",
        "Classifier is built following a classical Machine Learning workflow (for expert practitioners, the workflow should be more complete).\n",
        "* Explore data\n",
        "* Preprocess data : use only quantitative data\n",
        "* Build model\n",
        "* Evaluate model\n",
        "* Conclusions  \n",
        "\n",
        "\n",
        "What is that KNN Classifier ???? [Démo](https://codepen.io/gangtao/pen/PPoqMW)"
      ]
    },
    {
      "cell_type": "markdown",
      "metadata": {
        "id": "iRZMcjdKQVeT"
      },
      "source": [
        "### Bonus : for more advanced people\n"
      ]
    },
    {
      "cell_type": "markdown",
      "metadata": {
        "id": "ChPZHsI5QVeo"
      },
      "source": [
        "When the first part is done and completely done, you could go above and beyond by ...\n",
        "* Preprocess data : use quantitative and qualitative data, apply the right method for encoding\n",
        "* Build model : explore other algorithm such logistic regression, naive bayes, random forest\n",
        "* Evaluate model : understand how your model if performing or not\n",
        "* Others way you want to explore ...\n",
        "\n",
        "\n",
        "What is that KNN Classifier ???? [Démo](https://codepen.io/gangtao/pen/PPoqMW)"
      ]
    },
    {
      "cell_type": "code",
      "source": [
        ""
      ],
      "metadata": {
        "id": "R7Q0TS2ARaLM"
      },
      "execution_count": null,
      "outputs": []
    }
  ]
}