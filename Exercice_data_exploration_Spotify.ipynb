{
  "nbformat": 4,
  "nbformat_minor": 0,
  "metadata": {
    "colab": {
      "provenance": [],
      "collapsed_sections": [
        "q2r4EMg7qdVl"
      ],
      "include_colab_link": true
    },
    "kernelspec": {
      "name": "python3",
      "display_name": "Python 3"
    }
  },
  "cells": [
    {
      "cell_type": "markdown",
      "metadata": {
        "id": "view-in-github",
        "colab_type": "text"
      },
      "source": [
        "<a href=\"https://colab.research.google.com/github/remijul/tutorial/blob/master/Exercice_data_exploration_Spotify.ipynb\" target=\"_parent\"><img src=\"https://colab.research.google.com/assets/colab-badge.svg\" alt=\"Open In Colab\"/></a>"
      ]
    },
    {
      "cell_type": "markdown",
      "metadata": {
        "id": "pJsqufvk5fOq"
      },
      "source": [
        "# Exercice exploration données_Spotify\n",
        "\n",
        "Explorer les données d'une playlist Spotify avec Python, Pandasn Numpy, Matplotlib et seaborn.  \n",
        "Please execute the code below"
      ]
    },
    {
      "cell_type": "code",
      "metadata": {
        "id": "U4GqLhGX5Yth",
        "outputId": "fb1b0004-23fe-4008-e39b-c81bf16e0155",
        "colab": {
          "base_uri": "https://localhost:8080/",
          "height": 852
        }
      },
      "source": [
        "import pandas as pd\n",
        "import numpy as np\n",
        "import matplotlib.pyplot as plt\n",
        "import seaborn as sns ; sns.set()\n",
        "\n",
        "url = \"https://raw.githubusercontent.com/murpi/wilddata/master/quests/spotify.zip\"\n",
        "df_music = pd.read_csv(url)\n",
        "df_music"
      ],
      "execution_count": null,
      "outputs": [
        {
          "output_type": "execute_result",
          "data": {
            "text/plain": [
              "        genre               artist_name                        track_name  \\\n",
              "0       Movie            Henri Salvador       C'est beau de faire un Show   \n",
              "1       Movie         Martin & les fées  Perdu d'avance (par Gad Elmaleh)   \n",
              "2       Movie           Joseph Williams    Don't Let Me Be Lonely Tonight   \n",
              "3       Movie            Henri Salvador    Dis-moi Monsieur Gordon Cooper   \n",
              "4       Movie              Fabien Nataf                         Ouverture   \n",
              "...       ...                       ...                               ...   \n",
              "232720   Soul                     Slave                      Son Of Slide   \n",
              "232721   Soul  Jr Thomas & The Volcanos                      Burning Fire   \n",
              "232722   Soul              Muddy Waters    (I'm Your) Hoochie Coochie Man   \n",
              "232723   Soul                   R.LUM.R                     With My Words   \n",
              "232724   Soul            Mint Condition    You Don't Have To Hurt No More   \n",
              "\n",
              "                      track_id  popularity  acousticness  danceability  \\\n",
              "0       0BRjO6ga9RKCKjfDqeFgWV           0       0.61100         0.389   \n",
              "1       0BjC1NfoEOOusryehmNudP           1       0.24600         0.590   \n",
              "2       0CoSDzoNIKCRs124s9uTVy           3       0.95200         0.663   \n",
              "3       0Gc6TVm52BwZD07Ki6tIvf           0       0.70300         0.240   \n",
              "4       0IuslXpMROHdEPvSl1fTQK           4       0.95000         0.331   \n",
              "...                        ...         ...           ...           ...   \n",
              "232720  2XGLdVl7lGeq8ksM6Al7jT          39       0.00384         0.687   \n",
              "232721  1qWZdkBl4UVPj9lK6HuuFM          38       0.03290         0.785   \n",
              "232722  2ziWXUmQLrXTiYjCg2fZ2t          47       0.90100         0.517   \n",
              "232723  6EFsue2YbIG4Qkq8Zr9Rir          44       0.26200         0.745   \n",
              "232724  34XO9RwPMKjbvRry54QzWn          35       0.09730         0.758   \n",
              "\n",
              "        duration_ms  energy  instrumentalness key  liveness  loudness   mode  \\\n",
              "0             99373   0.910          0.000000  C#    0.3460    -1.828  Major   \n",
              "1            137373   0.737          0.000000  F#    0.1510    -5.559  Minor   \n",
              "2            170267   0.131          0.000000   C    0.1030   -13.879  Minor   \n",
              "3            152427   0.326          0.000000  C#    0.0985   -12.178  Major   \n",
              "4             82625   0.225          0.123000   F    0.2020   -21.150  Major   \n",
              "...             ...     ...               ...  ..       ...       ...    ...   \n",
              "232720       326240   0.714          0.544000   D    0.0845   -10.626  Major   \n",
              "232721       282447   0.683          0.000880   E    0.2370    -6.944  Minor   \n",
              "232722       166960   0.419          0.000000   D    0.0945    -8.282  Major   \n",
              "232723       222442   0.704          0.000000   A    0.3330    -7.137  Major   \n",
              "232724       323027   0.470          0.000049  G#    0.0836    -6.708  Minor   \n",
              "\n",
              "        speechiness    tempo time_signature  valence  \n",
              "0            0.0525  166.969            4/4    0.814  \n",
              "1            0.0868  174.003            4/4    0.816  \n",
              "2            0.0362   99.488            5/4    0.368  \n",
              "3            0.0395  171.758            4/4    0.227  \n",
              "4            0.0456  140.576            4/4    0.390  \n",
              "...             ...      ...            ...      ...  \n",
              "232720       0.0316  115.542            4/4    0.962  \n",
              "232721       0.0337  113.830            4/4    0.969  \n",
              "232722       0.1480   84.135            4/4    0.813  \n",
              "232723       0.1460  100.031            4/4    0.489  \n",
              "232724       0.0287  113.897            4/4    0.479  \n",
              "\n",
              "[232725 rows x 18 columns]"
            ],
            "text/html": [
              "\n",
              "  <div id=\"df-cd746ce5-2db9-4b99-b7b9-4e709cd3cada\">\n",
              "    <div class=\"colab-df-container\">\n",
              "      <div>\n",
              "<style scoped>\n",
              "    .dataframe tbody tr th:only-of-type {\n",
              "        vertical-align: middle;\n",
              "    }\n",
              "\n",
              "    .dataframe tbody tr th {\n",
              "        vertical-align: top;\n",
              "    }\n",
              "\n",
              "    .dataframe thead th {\n",
              "        text-align: right;\n",
              "    }\n",
              "</style>\n",
              "<table border=\"1\" class=\"dataframe\">\n",
              "  <thead>\n",
              "    <tr style=\"text-align: right;\">\n",
              "      <th></th>\n",
              "      <th>genre</th>\n",
              "      <th>artist_name</th>\n",
              "      <th>track_name</th>\n",
              "      <th>track_id</th>\n",
              "      <th>popularity</th>\n",
              "      <th>acousticness</th>\n",
              "      <th>danceability</th>\n",
              "      <th>duration_ms</th>\n",
              "      <th>energy</th>\n",
              "      <th>instrumentalness</th>\n",
              "      <th>key</th>\n",
              "      <th>liveness</th>\n",
              "      <th>loudness</th>\n",
              "      <th>mode</th>\n",
              "      <th>speechiness</th>\n",
              "      <th>tempo</th>\n",
              "      <th>time_signature</th>\n",
              "      <th>valence</th>\n",
              "    </tr>\n",
              "  </thead>\n",
              "  <tbody>\n",
              "    <tr>\n",
              "      <th>0</th>\n",
              "      <td>Movie</td>\n",
              "      <td>Henri Salvador</td>\n",
              "      <td>C'est beau de faire un Show</td>\n",
              "      <td>0BRjO6ga9RKCKjfDqeFgWV</td>\n",
              "      <td>0</td>\n",
              "      <td>0.61100</td>\n",
              "      <td>0.389</td>\n",
              "      <td>99373</td>\n",
              "      <td>0.910</td>\n",
              "      <td>0.000000</td>\n",
              "      <td>C#</td>\n",
              "      <td>0.3460</td>\n",
              "      <td>-1.828</td>\n",
              "      <td>Major</td>\n",
              "      <td>0.0525</td>\n",
              "      <td>166.969</td>\n",
              "      <td>4/4</td>\n",
              "      <td>0.814</td>\n",
              "    </tr>\n",
              "    <tr>\n",
              "      <th>1</th>\n",
              "      <td>Movie</td>\n",
              "      <td>Martin &amp; les fées</td>\n",
              "      <td>Perdu d'avance (par Gad Elmaleh)</td>\n",
              "      <td>0BjC1NfoEOOusryehmNudP</td>\n",
              "      <td>1</td>\n",
              "      <td>0.24600</td>\n",
              "      <td>0.590</td>\n",
              "      <td>137373</td>\n",
              "      <td>0.737</td>\n",
              "      <td>0.000000</td>\n",
              "      <td>F#</td>\n",
              "      <td>0.1510</td>\n",
              "      <td>-5.559</td>\n",
              "      <td>Minor</td>\n",
              "      <td>0.0868</td>\n",
              "      <td>174.003</td>\n",
              "      <td>4/4</td>\n",
              "      <td>0.816</td>\n",
              "    </tr>\n",
              "    <tr>\n",
              "      <th>2</th>\n",
              "      <td>Movie</td>\n",
              "      <td>Joseph Williams</td>\n",
              "      <td>Don't Let Me Be Lonely Tonight</td>\n",
              "      <td>0CoSDzoNIKCRs124s9uTVy</td>\n",
              "      <td>3</td>\n",
              "      <td>0.95200</td>\n",
              "      <td>0.663</td>\n",
              "      <td>170267</td>\n",
              "      <td>0.131</td>\n",
              "      <td>0.000000</td>\n",
              "      <td>C</td>\n",
              "      <td>0.1030</td>\n",
              "      <td>-13.879</td>\n",
              "      <td>Minor</td>\n",
              "      <td>0.0362</td>\n",
              "      <td>99.488</td>\n",
              "      <td>5/4</td>\n",
              "      <td>0.368</td>\n",
              "    </tr>\n",
              "    <tr>\n",
              "      <th>3</th>\n",
              "      <td>Movie</td>\n",
              "      <td>Henri Salvador</td>\n",
              "      <td>Dis-moi Monsieur Gordon Cooper</td>\n",
              "      <td>0Gc6TVm52BwZD07Ki6tIvf</td>\n",
              "      <td>0</td>\n",
              "      <td>0.70300</td>\n",
              "      <td>0.240</td>\n",
              "      <td>152427</td>\n",
              "      <td>0.326</td>\n",
              "      <td>0.000000</td>\n",
              "      <td>C#</td>\n",
              "      <td>0.0985</td>\n",
              "      <td>-12.178</td>\n",
              "      <td>Major</td>\n",
              "      <td>0.0395</td>\n",
              "      <td>171.758</td>\n",
              "      <td>4/4</td>\n",
              "      <td>0.227</td>\n",
              "    </tr>\n",
              "    <tr>\n",
              "      <th>4</th>\n",
              "      <td>Movie</td>\n",
              "      <td>Fabien Nataf</td>\n",
              "      <td>Ouverture</td>\n",
              "      <td>0IuslXpMROHdEPvSl1fTQK</td>\n",
              "      <td>4</td>\n",
              "      <td>0.95000</td>\n",
              "      <td>0.331</td>\n",
              "      <td>82625</td>\n",
              "      <td>0.225</td>\n",
              "      <td>0.123000</td>\n",
              "      <td>F</td>\n",
              "      <td>0.2020</td>\n",
              "      <td>-21.150</td>\n",
              "      <td>Major</td>\n",
              "      <td>0.0456</td>\n",
              "      <td>140.576</td>\n",
              "      <td>4/4</td>\n",
              "      <td>0.390</td>\n",
              "    </tr>\n",
              "    <tr>\n",
              "      <th>...</th>\n",
              "      <td>...</td>\n",
              "      <td>...</td>\n",
              "      <td>...</td>\n",
              "      <td>...</td>\n",
              "      <td>...</td>\n",
              "      <td>...</td>\n",
              "      <td>...</td>\n",
              "      <td>...</td>\n",
              "      <td>...</td>\n",
              "      <td>...</td>\n",
              "      <td>...</td>\n",
              "      <td>...</td>\n",
              "      <td>...</td>\n",
              "      <td>...</td>\n",
              "      <td>...</td>\n",
              "      <td>...</td>\n",
              "      <td>...</td>\n",
              "      <td>...</td>\n",
              "    </tr>\n",
              "    <tr>\n",
              "      <th>232720</th>\n",
              "      <td>Soul</td>\n",
              "      <td>Slave</td>\n",
              "      <td>Son Of Slide</td>\n",
              "      <td>2XGLdVl7lGeq8ksM6Al7jT</td>\n",
              "      <td>39</td>\n",
              "      <td>0.00384</td>\n",
              "      <td>0.687</td>\n",
              "      <td>326240</td>\n",
              "      <td>0.714</td>\n",
              "      <td>0.544000</td>\n",
              "      <td>D</td>\n",
              "      <td>0.0845</td>\n",
              "      <td>-10.626</td>\n",
              "      <td>Major</td>\n",
              "      <td>0.0316</td>\n",
              "      <td>115.542</td>\n",
              "      <td>4/4</td>\n",
              "      <td>0.962</td>\n",
              "    </tr>\n",
              "    <tr>\n",
              "      <th>232721</th>\n",
              "      <td>Soul</td>\n",
              "      <td>Jr Thomas &amp; The Volcanos</td>\n",
              "      <td>Burning Fire</td>\n",
              "      <td>1qWZdkBl4UVPj9lK6HuuFM</td>\n",
              "      <td>38</td>\n",
              "      <td>0.03290</td>\n",
              "      <td>0.785</td>\n",
              "      <td>282447</td>\n",
              "      <td>0.683</td>\n",
              "      <td>0.000880</td>\n",
              "      <td>E</td>\n",
              "      <td>0.2370</td>\n",
              "      <td>-6.944</td>\n",
              "      <td>Minor</td>\n",
              "      <td>0.0337</td>\n",
              "      <td>113.830</td>\n",
              "      <td>4/4</td>\n",
              "      <td>0.969</td>\n",
              "    </tr>\n",
              "    <tr>\n",
              "      <th>232722</th>\n",
              "      <td>Soul</td>\n",
              "      <td>Muddy Waters</td>\n",
              "      <td>(I'm Your) Hoochie Coochie Man</td>\n",
              "      <td>2ziWXUmQLrXTiYjCg2fZ2t</td>\n",
              "      <td>47</td>\n",
              "      <td>0.90100</td>\n",
              "      <td>0.517</td>\n",
              "      <td>166960</td>\n",
              "      <td>0.419</td>\n",
              "      <td>0.000000</td>\n",
              "      <td>D</td>\n",
              "      <td>0.0945</td>\n",
              "      <td>-8.282</td>\n",
              "      <td>Major</td>\n",
              "      <td>0.1480</td>\n",
              "      <td>84.135</td>\n",
              "      <td>4/4</td>\n",
              "      <td>0.813</td>\n",
              "    </tr>\n",
              "    <tr>\n",
              "      <th>232723</th>\n",
              "      <td>Soul</td>\n",
              "      <td>R.LUM.R</td>\n",
              "      <td>With My Words</td>\n",
              "      <td>6EFsue2YbIG4Qkq8Zr9Rir</td>\n",
              "      <td>44</td>\n",
              "      <td>0.26200</td>\n",
              "      <td>0.745</td>\n",
              "      <td>222442</td>\n",
              "      <td>0.704</td>\n",
              "      <td>0.000000</td>\n",
              "      <td>A</td>\n",
              "      <td>0.3330</td>\n",
              "      <td>-7.137</td>\n",
              "      <td>Major</td>\n",
              "      <td>0.1460</td>\n",
              "      <td>100.031</td>\n",
              "      <td>4/4</td>\n",
              "      <td>0.489</td>\n",
              "    </tr>\n",
              "    <tr>\n",
              "      <th>232724</th>\n",
              "      <td>Soul</td>\n",
              "      <td>Mint Condition</td>\n",
              "      <td>You Don't Have To Hurt No More</td>\n",
              "      <td>34XO9RwPMKjbvRry54QzWn</td>\n",
              "      <td>35</td>\n",
              "      <td>0.09730</td>\n",
              "      <td>0.758</td>\n",
              "      <td>323027</td>\n",
              "      <td>0.470</td>\n",
              "      <td>0.000049</td>\n",
              "      <td>G#</td>\n",
              "      <td>0.0836</td>\n",
              "      <td>-6.708</td>\n",
              "      <td>Minor</td>\n",
              "      <td>0.0287</td>\n",
              "      <td>113.897</td>\n",
              "      <td>4/4</td>\n",
              "      <td>0.479</td>\n",
              "    </tr>\n",
              "  </tbody>\n",
              "</table>\n",
              "<p>232725 rows × 18 columns</p>\n",
              "</div>\n",
              "      <button class=\"colab-df-convert\" onclick=\"convertToInteractive('df-cd746ce5-2db9-4b99-b7b9-4e709cd3cada')\"\n",
              "              title=\"Convert this dataframe to an interactive table.\"\n",
              "              style=\"display:none;\">\n",
              "        \n",
              "  <svg xmlns=\"http://www.w3.org/2000/svg\" height=\"24px\"viewBox=\"0 0 24 24\"\n",
              "       width=\"24px\">\n",
              "    <path d=\"M0 0h24v24H0V0z\" fill=\"none\"/>\n",
              "    <path d=\"M18.56 5.44l.94 2.06.94-2.06 2.06-.94-2.06-.94-.94-2.06-.94 2.06-2.06.94zm-11 1L8.5 8.5l.94-2.06 2.06-.94-2.06-.94L8.5 2.5l-.94 2.06-2.06.94zm10 10l.94 2.06.94-2.06 2.06-.94-2.06-.94-.94-2.06-.94 2.06-2.06.94z\"/><path d=\"M17.41 7.96l-1.37-1.37c-.4-.4-.92-.59-1.43-.59-.52 0-1.04.2-1.43.59L10.3 9.45l-7.72 7.72c-.78.78-.78 2.05 0 2.83L4 21.41c.39.39.9.59 1.41.59.51 0 1.02-.2 1.41-.59l7.78-7.78 2.81-2.81c.8-.78.8-2.07 0-2.86zM5.41 20L4 18.59l7.72-7.72 1.47 1.35L5.41 20z\"/>\n",
              "  </svg>\n",
              "      </button>\n",
              "      \n",
              "  <style>\n",
              "    .colab-df-container {\n",
              "      display:flex;\n",
              "      flex-wrap:wrap;\n",
              "      gap: 12px;\n",
              "    }\n",
              "\n",
              "    .colab-df-convert {\n",
              "      background-color: #E8F0FE;\n",
              "      border: none;\n",
              "      border-radius: 50%;\n",
              "      cursor: pointer;\n",
              "      display: none;\n",
              "      fill: #1967D2;\n",
              "      height: 32px;\n",
              "      padding: 0 0 0 0;\n",
              "      width: 32px;\n",
              "    }\n",
              "\n",
              "    .colab-df-convert:hover {\n",
              "      background-color: #E2EBFA;\n",
              "      box-shadow: 0px 1px 2px rgba(60, 64, 67, 0.3), 0px 1px 3px 1px rgba(60, 64, 67, 0.15);\n",
              "      fill: #174EA6;\n",
              "    }\n",
              "\n",
              "    [theme=dark] .colab-df-convert {\n",
              "      background-color: #3B4455;\n",
              "      fill: #D2E3FC;\n",
              "    }\n",
              "\n",
              "    [theme=dark] .colab-df-convert:hover {\n",
              "      background-color: #434B5C;\n",
              "      box-shadow: 0px 1px 3px 1px rgba(0, 0, 0, 0.15);\n",
              "      filter: drop-shadow(0px 1px 2px rgba(0, 0, 0, 0.3));\n",
              "      fill: #FFFFFF;\n",
              "    }\n",
              "  </style>\n",
              "\n",
              "      <script>\n",
              "        const buttonEl =\n",
              "          document.querySelector('#df-cd746ce5-2db9-4b99-b7b9-4e709cd3cada button.colab-df-convert');\n",
              "        buttonEl.style.display =\n",
              "          google.colab.kernel.accessAllowed ? 'block' : 'none';\n",
              "\n",
              "        async function convertToInteractive(key) {\n",
              "          const element = document.querySelector('#df-cd746ce5-2db9-4b99-b7b9-4e709cd3cada');\n",
              "          const dataTable =\n",
              "            await google.colab.kernel.invokeFunction('convertToInteractive',\n",
              "                                                     [key], {});\n",
              "          if (!dataTable) return;\n",
              "\n",
              "          const docLinkHtml = 'Like what you see? Visit the ' +\n",
              "            '<a target=\"_blank\" href=https://colab.research.google.com/notebooks/data_table.ipynb>data table notebook</a>'\n",
              "            + ' to learn more about interactive tables.';\n",
              "          element.innerHTML = '';\n",
              "          dataTable['output_type'] = 'display_data';\n",
              "          await google.colab.output.renderOutput(dataTable, element);\n",
              "          const docLink = document.createElement('div');\n",
              "          docLink.innerHTML = docLinkHtml;\n",
              "          element.appendChild(docLink);\n",
              "        }\n",
              "      </script>\n",
              "    </div>\n",
              "  </div>\n",
              "  "
            ]
          },
          "metadata": {},
          "execution_count": 2
        }
      ]
    },
    {
      "cell_type": "markdown",
      "metadata": {
        "id": "89frweXF_BxX"
      },
      "source": [
        "# Data exploration"
      ]
    },
    {
      "cell_type": "markdown",
      "metadata": {
        "id": "XqG19wgZ_bQq"
      },
      "source": [
        "## Introduction\n",
        "Display the first rows of the dataset."
      ]
    },
    {
      "cell_type": "code",
      "metadata": {
        "id": "vI_10a8K_DbW",
        "cellView": "both"
      },
      "source": [
        "# Your code here : \n"
      ],
      "execution_count": null,
      "outputs": []
    },
    {
      "cell_type": "markdown",
      "source": [
        "Give some information about the dataset."
      ],
      "metadata": {
        "id": "hDpijQRQuUcC"
      }
    },
    {
      "cell_type": "code",
      "source": [
        "# Your code here : "
      ],
      "metadata": {
        "id": "R4hjgAdbuUTo"
      },
      "execution_count": null,
      "outputs": []
    },
    {
      "cell_type": "markdown",
      "source": [
        "Give the shape of the dataset."
      ],
      "metadata": {
        "id": "ac4uFXOfuUJ3"
      }
    },
    {
      "cell_type": "code",
      "source": [
        "# Your code here : "
      ],
      "metadata": {
        "id": "Jc4xiUrWuUAl"
      },
      "execution_count": null,
      "outputs": []
    },
    {
      "cell_type": "markdown",
      "source": [
        "Give the name of the columns."
      ],
      "metadata": {
        "id": "e4KAxFG8GEFA"
      }
    },
    {
      "cell_type": "code",
      "source": [
        "# Your code here : "
      ],
      "metadata": {
        "id": "lArpW5WnGEpm"
      },
      "execution_count": null,
      "outputs": []
    },
    {
      "cell_type": "markdown",
      "source": [
        "Give the name of the index."
      ],
      "metadata": {
        "id": "wq6juTg_dJB0"
      }
    },
    {
      "cell_type": "code",
      "source": [
        "# Your code here : "
      ],
      "metadata": {
        "id": "Oz4ygwJmdJNq"
      },
      "execution_count": null,
      "outputs": []
    },
    {
      "cell_type": "markdown",
      "source": [
        "Give the data types of each columns."
      ],
      "metadata": {
        "id": "IZkpocVIuT2J"
      }
    },
    {
      "cell_type": "code",
      "source": [
        "# Your code here : "
      ],
      "metadata": {
        "id": "9Dl35QTxuTrl"
      },
      "execution_count": null,
      "outputs": []
    },
    {
      "cell_type": "markdown",
      "metadata": {
        "id": "twNjViML_QeT"
      },
      "source": [
        "Please check the presense / absence of missing values in each column and comment your result."
      ]
    },
    {
      "cell_type": "code",
      "metadata": {
        "id": "2MOeblmH_ORJ",
        "cellView": "both"
      },
      "source": [
        "# Your code here : \n"
      ],
      "execution_count": null,
      "outputs": []
    },
    {
      "cell_type": "markdown",
      "metadata": {
        "id": "BdpoQ5fi_Hjm"
      },
      "source": [
        "Describe the dataset including all types of columns (i.e. numerical and the others) and comment the column popularity."
      ]
    },
    {
      "cell_type": "code",
      "metadata": {
        "id": "YPgfP0Dg_Jkb",
        "cellView": "both"
      },
      "source": [
        "# Your code here : \n"
      ],
      "execution_count": null,
      "outputs": []
    },
    {
      "cell_type": "markdown",
      "source": [
        "## Dataset manipulation"
      ],
      "metadata": {
        "id": "hCIdjLaAGJhR"
      }
    },
    {
      "cell_type": "markdown",
      "source": [
        "Give the 3 first columns of the dataset."
      ],
      "metadata": {
        "id": "XjfV6rDUGJTx"
      }
    },
    {
      "cell_type": "code",
      "source": [
        "# Your code here : "
      ],
      "metadata": {
        "id": "Y0c3N6mpGKvH"
      },
      "execution_count": null,
      "outputs": []
    },
    {
      "cell_type": "markdown",
      "source": [
        "Display the column 'genre', 'artist_name', 'track_name' and 'popularity'."
      ],
      "metadata": {
        "id": "6PumURYoGT0O"
      }
    },
    {
      "cell_type": "code",
      "source": [
        " #Your code here : "
      ],
      "metadata": {
        "id": "JsW6rK-4GUNZ"
      },
      "execution_count": null,
      "outputs": []
    },
    {
      "cell_type": "markdown",
      "source": [
        "Display the dataset when the popularity est greater than 80."
      ],
      "metadata": {
        "id": "iAAJ8bbwGVoC"
      }
    },
    {
      "cell_type": "code",
      "source": [
        " #Your code here : "
      ],
      "metadata": {
        "id": "vxKire4PGVfi"
      },
      "execution_count": null,
      "outputs": []
    },
    {
      "cell_type": "markdown",
      "source": [
        "Display the dataset when the popularity est greater than 80 and the genre is Soul."
      ],
      "metadata": {
        "id": "dmFbUTIqGVWz"
      }
    },
    {
      "cell_type": "code",
      "source": [
        " #Your code here : "
      ],
      "metadata": {
        "id": "RuvRiaMRGVNa"
      },
      "execution_count": null,
      "outputs": []
    },
    {
      "cell_type": "markdown",
      "metadata": {
        "id": "CQir-zCD_gdE"
      },
      "source": [
        "## Some insights about the artists\n",
        "Give the number of tracks for each artist. The result will be sorted by descending order for a better readability."
      ]
    },
    {
      "cell_type": "markdown",
      "metadata": {
        "id": "Syum3VJ_Ds4D"
      },
      "source": [
        "**1. With `groupby()`**"
      ]
    },
    {
      "cell_type": "code",
      "metadata": {
        "id": "8nU4ZGwK_OxR",
        "cellView": "both"
      },
      "source": [
        "# Your code here : \n"
      ],
      "execution_count": null,
      "outputs": []
    },
    {
      "cell_type": "markdown",
      "metadata": {
        "id": "4kjJNt5A_sNY"
      },
      "source": [
        "\n",
        "Give the mean of popularity for each artist. The result will be sorted by descending order for a better readability.\n",
        "In addition, who are the 3 most popular artists ?"
      ]
    },
    {
      "cell_type": "markdown",
      "metadata": {
        "id": "7H77qb8AGik3"
      },
      "source": [
        "**1. With `groupby()`**"
      ]
    },
    {
      "cell_type": "code",
      "metadata": {
        "id": "OMfFlyxUGik4",
        "cellView": "both"
      },
      "source": [
        "# Your code here : \n"
      ],
      "execution_count": null,
      "outputs": []
    },
    {
      "cell_type": "markdown",
      "metadata": {
        "id": "a0u6CHCS_5g-"
      },
      "source": [
        "For the genre 'Pop' only, give the mean of popularity for each artist. The result will be sorted by descending order for a better readability.\n",
        "In addition, who are the 3 most popular artists ?"
      ]
    },
    {
      "cell_type": "markdown",
      "metadata": {
        "id": "UfInzBARHtko"
      },
      "source": [
        "**1. With `groupby()`**"
      ]
    },
    {
      "cell_type": "code",
      "metadata": {
        "id": "YG45LJnpHtkr",
        "cellView": "both"
      },
      "source": [
        "# Your code here : "
      ],
      "execution_count": null,
      "outputs": []
    },
    {
      "cell_type": "markdown",
      "metadata": {
        "id": "dvUdLAC1_8rd"
      },
      "source": [
        "## What about Queen ?\n",
        "Give the track names of Queen ?"
      ]
    },
    {
      "cell_type": "code",
      "metadata": {
        "id": "P9UUNh3J_uai",
        "cellView": "both"
      },
      "source": [
        "# Your code here : "
      ],
      "execution_count": null,
      "outputs": []
    },
    {
      "cell_type": "markdown",
      "metadata": {
        "id": "zpV-PfqX_-Em"
      },
      "source": [
        "What are the popularity of all songs from the Queen band ?"
      ]
    },
    {
      "cell_type": "code",
      "source": [
        "# Your code here :"
      ],
      "metadata": {
        "id": "tNsOSi8Bdfrd"
      },
      "execution_count": null,
      "outputs": []
    },
    {
      "cell_type": "markdown",
      "source": [
        "What are the 3 most popular ?"
      ],
      "metadata": {
        "id": "3Lk4RLMJdeZF"
      }
    },
    {
      "cell_type": "code",
      "metadata": {
        "id": "CWAL9R8rwR2C",
        "cellView": "both"
      },
      "source": [
        "# Your code here :"
      ],
      "execution_count": null,
      "outputs": []
    },
    {
      "cell_type": "markdown",
      "metadata": {
        "id": "JrIwu8vOAASn"
      },
      "source": [
        "## What about Kanye West ?\n",
        "Give the track names of Kanye West ?\n",
        "\n",
        "What are the 3 most popular ?"
      ]
    },
    {
      "cell_type": "code",
      "metadata": {
        "id": "1ESGnkvlw1l2",
        "cellView": "both"
      },
      "source": [
        "# Your code here :"
      ],
      "execution_count": null,
      "outputs": []
    },
    {
      "cell_type": "markdown",
      "metadata": {
        "id": "Vi4CrCQbAPpf"
      },
      "source": [
        "## Transform\n",
        "Create a new column 'nb_words', with the number of words in each title (track names). It's up to you to choose if punctuation is a word or not."
      ]
    },
    {
      "cell_type": "markdown",
      "metadata": {
        "id": "9af-spaWO_x9"
      },
      "source": [
        "**L'objectif ici est d'utiliser la fonction `apply()` ...**  \n",
        "Mais d'abord identifions la méthode à appliquer !"
      ]
    },
    {
      "cell_type": "code",
      "metadata": {
        "id": "I4wKd0g7_wYL",
        "cellView": "both"
      },
      "source": [
        "# Your code here : \n"
      ],
      "execution_count": null,
      "outputs": []
    },
    {
      "cell_type": "markdown",
      "metadata": {
        "id": "2O0yG3KhQduF"
      },
      "source": [
        "La méthode est prête, YAPLUKA !"
      ]
    },
    {
      "cell_type": "code",
      "metadata": {
        "id": "vMjgcUZNQeJO",
        "cellView": "both"
      },
      "source": [
        "# Your code here :"
      ],
      "execution_count": null,
      "outputs": []
    },
    {
      "cell_type": "markdown",
      "metadata": {
        "id": "zJe87gRFBCm9"
      },
      "source": [
        "## Pivot table\n",
        "Let's do a pivot table with genre in lines, key in columns and number of songs in values."
      ]
    },
    {
      "cell_type": "code",
      "metadata": {
        "id": "bA4mg0MV_w78",
        "cellView": "both"
      },
      "source": [
        "# Your code here : "
      ],
      "execution_count": null,
      "outputs": []
    },
    {
      "cell_type": "markdown",
      "metadata": {
        "id": "XOTm_F7tAL1t"
      },
      "source": [
        "## Correlation matrix\n",
        "Give the correlation matrix for a full understanding of our dataset."
      ]
    },
    {
      "cell_type": "code",
      "metadata": {
        "id": "qPGg_6O1_v--",
        "cellView": "both"
      },
      "source": [
        "# Your code here : \n"
      ],
      "execution_count": null,
      "outputs": []
    },
    {
      "cell_type": "markdown",
      "metadata": {
        "id": "Iuv9MhCCtT6d"
      },
      "source": [
        "# Dataviz"
      ]
    },
    {
      "cell_type": "markdown",
      "metadata": {
        "id": "q2r4EMg7qdVl"
      },
      "source": [
        "## Remember, each chart must have :\n",
        "- beautiful colors\n",
        "- title\n",
        "- readable axis ticks\n",
        "- legend"
      ]
    },
    {
      "cell_type": "markdown",
      "metadata": {
        "id": "J3jwvRNhgyH9"
      },
      "source": [
        "## Display a correlation heatmap.\n",
        "Color scale has to be center on 0-value, in order to distinguish negative and positive values. Please choose a beautiful palette, and remember to display a title.\n"
      ]
    },
    {
      "cell_type": "code",
      "metadata": {
        "id": "SRG3IXeK-WaF",
        "cellView": "both"
      },
      "source": [
        "# Your code here :"
      ],
      "execution_count": null,
      "outputs": []
    },
    {
      "cell_type": "markdown",
      "metadata": {
        "id": "vO7eW1UdjmNi"
      },
      "source": [
        "Some columns seems to have a strong (negative) correlations. \n",
        "- Which ones ? acousticness & energy ; acousticness & loudness\n",
        "- What does it means ? => inversement proportionnel"
      ]
    },
    {
      "cell_type": "markdown",
      "metadata": {
        "id": "EmlZWxvSj3-Q"
      },
      "source": [
        "## Find the correlation coefficient between Energy and Acousticness"
      ]
    },
    {
      "cell_type": "code",
      "metadata": {
        "id": "VVjFK0gh-hVe",
        "cellView": "both"
      },
      "source": [
        "# Your code here :"
      ],
      "execution_count": null,
      "outputs": []
    },
    {
      "cell_type": "markdown",
      "metadata": {
        "id": "DXrDANCUkLeb"
      },
      "source": [
        "## Pairplot\n",
        "Only for genres Opera and Reggaeton, display a pairplot which different colors for genres (so you'll have 2 colors)."
      ]
    },
    {
      "cell_type": "code",
      "metadata": {
        "id": "cRTl2VB5BWzo",
        "cellView": "both"
      },
      "source": [
        "# Your code here :"
      ],
      "execution_count": null,
      "outputs": []
    },
    {
      "cell_type": "markdown",
      "metadata": {
        "id": "dClLVFe2lNNk"
      },
      "source": [
        "## Scatterplot\n",
        "Draw a scatterplot on the columns of your choice:\n",
        "- Filter only on genres Opera and Reggaeton\n",
        "- Differents colors for genres\n",
        "- Please choose beautiful colors, and remember to display a title."
      ]
    },
    {
      "cell_type": "code",
      "metadata": {
        "id": "4smhU1xf_BhK",
        "cellView": "both"
      },
      "source": [
        "# Your code here :"
      ],
      "execution_count": null,
      "outputs": []
    },
    {
      "cell_type": "markdown",
      "metadata": {
        "id": "FZBXanXblwuS"
      },
      "source": [
        "## Boxplot\n",
        "Draw on the same figure 2 boxplots : 1 by genre.\n",
        "- Boxplots have to be in vertical\n",
        "- Filter only on genres Opera and Reggaeton\n",
        "- Your boxplots represent danceability\n",
        "\n",
        "Your chart must be similar to this one (without the red arrow)\n",
        "\n",
        "![boxplot](https://raw.githubusercontent.com/murpi/wilddata/master/checkpoint2_boxplot.png)"
      ]
    },
    {
      "cell_type": "code",
      "metadata": {
        "id": "D6yREBRrofvV",
        "cellView": "both"
      },
      "source": [
        "# Your code here :"
      ],
      "execution_count": null,
      "outputs": []
    },
    {
      "cell_type": "markdown",
      "metadata": {
        "id": "6NzK59N2nGpZ"
      },
      "source": [
        "How do we read it ?\n",
        "- What does the horizontal line near the red arrow represent?"
      ]
    },
    {
      "cell_type": "code",
      "metadata": {
        "id": "ItwWPO9aowIA"
      },
      "source": [
        "#@title\n",
        "# Your answer here :\n",
        "\n"
      ],
      "execution_count": null,
      "outputs": []
    },
    {
      "cell_type": "markdown",
      "metadata": {
        "id": "3QTc3cBCo6uU"
      },
      "source": [
        "## Histogram\n",
        "Draw a histogram for the distribution of \"energy\", only for the genre 'Country'"
      ]
    },
    {
      "cell_type": "code",
      "metadata": {
        "id": "KQl7eT6wo7J0",
        "cellView": "both"
      },
      "source": [
        "# Your code here :"
      ],
      "execution_count": null,
      "outputs": []
    },
    {
      "cell_type": "markdown",
      "metadata": {
        "id": "bWBYwAY60QlW"
      },
      "source": [
        "## Comparison between the top 1% popularity and the total dataset\n",
        "Find a way to compare songs with highest popularity and the others. Something like this example, but you could be creative.\n",
        "\n",
        "Here we've compared the frequencies by genre (35% of top-songs are \"pop\", versus 4% of pop songs in the total dataset)\n",
        "\n",
        "\n",
        "![comparison](https://raw.githubusercontent.com/murpi/wilddata/master/checkpoint2_comparison.png)"
      ]
    },
    {
      "cell_type": "code",
      "metadata": {
        "id": "D-zMyeQKuV_X",
        "cellView": "both"
      },
      "source": [
        "# Your code here :"
      ],
      "execution_count": null,
      "outputs": []
    },
    {
      "cell_type": "markdown",
      "metadata": {
        "id": "Sd4o4YBVq5n0"
      },
      "source": [
        "## Interactive chart\n",
        "With plotly express, draw an interactive histogram on energy, with a strip by genre."
      ]
    },
    {
      "cell_type": "code",
      "metadata": {
        "id": "m8Qe-bs3riDE",
        "cellView": "both"
      },
      "source": [
        "# Your code here :"
      ],
      "execution_count": null,
      "outputs": []
    }
  ]
}