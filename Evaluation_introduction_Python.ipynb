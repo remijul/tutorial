{
  "nbformat": 4,
  "nbformat_minor": 0,
  "metadata": {
    "colab": {
      "provenance": [],
      "toc_visible": true,
      "authorship_tag": "ABX9TyPPs3J0VdplxOtD4PE9jST9",
      "include_colab_link": true
    },
    "kernelspec": {
      "name": "python3",
      "display_name": "Python 3"
    },
    "language_info": {
      "name": "python"
    }
  },
  "cells": [
    {
      "cell_type": "markdown",
      "metadata": {
        "id": "view-in-github",
        "colab_type": "text"
      },
      "source": [
        "<a href=\"https://colab.research.google.com/github/remijul/tutorial/blob/master/Evaluation_introduction_Python.ipynb\" target=\"_parent\"><img src=\"https://colab.research.google.com/assets/colab-badge.svg\" alt=\"Open In Colab\"/></a>"
      ]
    },
    {
      "cell_type": "markdown",
      "source": [
        "# Evaluation"
      ],
      "metadata": {
        "id": "e5kEhZfx4md7"
      }
    },
    {
      "cell_type": "markdown",
      "source": [
        "Il s'agit ici d'une suite d'exercices **indépendants** pour tester les compétences acquises en programmation Python. Les exercices sont de niveau débutant ou intermédiaire.  \n",
        "En fin de notebook, vous trouverez une section **bonus** à faire une fois que la première série d'exercices est terminée."
      ],
      "metadata": {
        "id": "aDq3tOC24r8J"
      }
    },
    {
      "cell_type": "markdown",
      "source": [
        "# Jeu de hazard\n",
        "Créer une fonction de jeu de hazard.\n",
        "* Le programme choisit aléatoirement un chiffre entre 1 et 10 inclus.\n",
        "* Le joueur choisit aussi un chiffre entre 1 et 10 inclus.\n",
        "* Si le joueur a gagné,\n",
        "  * le message \"Félicitations, vous êtes l'heureux gagnant du jeu concours !\" est affiché\n",
        "  * et la fonction renvoie la valeur de gain \"500 €\".\n",
        "* Si le joueur a perdu,\n",
        "  * le message \"Dommage, ce sera pour une prochaine fois.\" est affiché\n",
        "  * et la fonction renvoie la valeur de gain \"0 €\".\n",
        "* Dans tous les cas, la fonction affichera également le message \"Merci de votre participation.\". \n",
        "* A votre avis quelle est la probabilité que le joueur remporte les 500€ en jouant une seule fois ?"
      ],
      "metadata": {
        "id": "IT96b1VL5XNn"
      }
    },
    {
      "cell_type": "code",
      "source": [
        "# Your code here"
      ],
      "metadata": {
        "id": "JpzZNPZyQ4fb"
      },
      "execution_count": null,
      "outputs": []
    },
    {
      "cell_type": "markdown",
      "source": [
        "# Compte à rebours"
      ],
      "metadata": {
        "id": "kT5QNb0dgjyJ"
      }
    },
    {
      "cell_type": "markdown",
      "source": [
        "Créer un programme qui effectue un compte à rebours :\n",
        "* En commençant par la valeur renseignée par l'utilisateur.\n",
        "* En terminant à 0.\n",
        "* Qui affiche le message \"Il reste x opérations\", x étant le nombre d'opérations restantes.\n",
        "* Le message s'affiche uniquement lorsque x est un multiple de 5. Sinon aucun message n'est affiché."
      ],
      "metadata": {
        "id": "zJupLmoTgjnW"
      }
    },
    {
      "cell_type": "code",
      "source": [
        "# Your code here"
      ],
      "metadata": {
        "id": "--cNdItigkeX"
      },
      "execution_count": null,
      "outputs": []
    },
    {
      "cell_type": "markdown",
      "source": [
        "#Distance 3D"
      ],
      "metadata": {
        "id": "ZKT5dlVu5aG2"
      }
    },
    {
      "cell_type": "markdown",
      "source": [
        "* Créez une fonction calc_distance_3D() qui calcule la distance euclidienne en trois dimensions entre deux atomes.  \n",
        "* Testez votre fonction sur les 2 points A(0,0,0) et B(1,1,1). Trouvez-vous bien √3 ?  \n",
        "* On rappelle que la distance euclidienne d entre deux points A et B de coordonnées cartésiennes respectives (xA, yA,zA) et (xB, yB,zB) se calcule comme suit :  \n",
        "\n",
        "![formule_3D.png](data:image/png;base64,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)"
      ],
      "metadata": {
        "id": "pI72PAdxjk30"
      }
    },
    {
      "cell_type": "code",
      "source": [
        "# Your code here"
      ],
      "metadata": {
        "id": "_dNddArYjtfd"
      },
      "execution_count": null,
      "outputs": []
    },
    {
      "cell_type": "markdown",
      "source": [
        "# Distance de Hamming"
      ],
      "metadata": {
        "id": "cAsRAfxuizLR"
      }
    },
    {
      "cell_type": "markdown",
      "source": [
        "La distance de Hamming mesure la différence entre deux séquences de même taille en comptant le nombre de positions\n",
        "qui, pour chaque séquence, ne correspondent pas au même acide aminé.\n",
        "* Créer la fonction `dist_hamming()` qui prend en argument deux chaînes de caractères et qui renvoie la distance de\n",
        "Hamming (sous la forme d’un entier) entre ces deux chaînes de caractères.\n",
        "* Calculez la distance de Hamming entre les séquences\n",
        "`AGWPSGGASAGLAIL` et `IGWPSAGASAGLWIL`\n",
        "* puis entre les séquences\n",
        "`ATTCATACGTTACGATT` et `ATACTTACGTAACCATT`.\n",
        "\n",
        "Exemple : la distance de Hamming entre\n",
        "* \"ramer\" et\n",
        "* \"cases\" est 3."
      ],
      "metadata": {
        "id": "iHD30QxTi0sc"
      }
    },
    {
      "cell_type": "code",
      "source": [
        "# Your code here"
      ],
      "metadata": {
        "id": "vfDI8Hg8shPm"
      },
      "execution_count": null,
      "outputs": []
    },
    {
      "cell_type": "markdown",
      "source": [
        "#Traducteur chiffre Romains"
      ],
      "metadata": {
        "id": "W8DvrS5x5Z6E"
      }
    },
    {
      "cell_type": "markdown",
      "source": [
        "Ecris une fonction qui prend un nombre entier compris entre 1 et 3000 inclus, et le convertit en chiffre romains.\n",
        "\n",
        "https://jeretiens.net/wp-content/uploads/2015/12/les_chiffres_romains.jpg\n",
        "![Exemple de chiffres romains](https://jeretiens.net/wp-content/uploads/2015/12/les_chiffres_romains.jpg)"
      ],
      "metadata": {
        "id": "paACWWRi5Z3X"
      }
    },
    {
      "cell_type": "code",
      "source": [
        "# Your code here"
      ],
      "metadata": {
        "id": "i7YeXHo85YJj"
      },
      "execution_count": null,
      "outputs": []
    },
    {
      "cell_type": "markdown",
      "source": [
        "# Bonus"
      ],
      "metadata": {
        "id": "x4Dva-LjMr7G"
      }
    },
    {
      "cell_type": "markdown",
      "source": [
        "Explorer les données d'une playlist Spotify avec Python, Pandas, Numpy, Matplotlib et seaborn."
      ],
      "metadata": {
        "id": "P3T8mh3HMton"
      }
    },
    {
      "cell_type": "code",
      "source": [
        "import pandas as pd\n",
        "import numpy as np\n",
        "import matplotlib.pyplot as plt\n",
        "import seaborn as sns ; sns.set()\n",
        "\n",
        "url = \"https://raw.githubusercontent.com/murpi/wilddata/master/quests/spotify.zip\"\n",
        "df_music = pd.read_csv(url)\n",
        "df_music"
      ],
      "metadata": {
        "id": "l_gbioCFM1aM"
      },
      "execution_count": null,
      "outputs": []
    },
    {
      "cell_type": "markdown",
      "source": [
        "## Pivot table\n",
        "Let's do a pivot table with genre in lines, key in columns and number of songs in values."
      ],
      "metadata": {
        "id": "r9ftww2KM9RZ"
      }
    },
    {
      "cell_type": "code",
      "source": [
        "# Your code here :"
      ],
      "metadata": {
        "id": "hnoDVODYMryA"
      },
      "execution_count": null,
      "outputs": []
    },
    {
      "cell_type": "markdown",
      "source": [
        "## Correlation matrix\n",
        "Give the correlation matrix for a full understanding of our dataset."
      ],
      "metadata": {
        "id": "BudqC9hNNCQQ"
      }
    },
    {
      "cell_type": "code",
      "source": [
        "# Your code here :"
      ],
      "metadata": {
        "id": "h70MyGNWNCam"
      },
      "execution_count": null,
      "outputs": []
    },
    {
      "cell_type": "markdown",
      "source": [
        "## Display a correlation heatmap.\n",
        "Color scale has to be center on 0-value, in order to distinguish negative and positive values. Please choose a beautiful palette, and remember to display a title."
      ],
      "metadata": {
        "id": "Wy6gVwnnNGoA"
      }
    },
    {
      "cell_type": "code",
      "source": [
        "# Your code here :"
      ],
      "metadata": {
        "id": "zs4RCF_BNG6P"
      },
      "execution_count": null,
      "outputs": []
    }
  ]
}