{
  "nbformat": 4,
  "nbformat_minor": 0,
  "metadata": {
    "colab": {
      "name": "PCA Part 1 - USA Arrests dataset.ipynb",
      "provenance": [],
      "collapsed_sections": [
        "kTeMTWSh62db"
      ],
      "toc_visible": true,
      "authorship_tag": "ABX9TyPRniL0TaBMfb0EqGvD/PSg",
      "include_colab_link": true
    },
    "kernelspec": {
      "name": "python3",
      "display_name": "Python 3"
    },
    "language_info": {
      "name": "python"
    }
  },
  "cells": [
    {
      "cell_type": "markdown",
      "metadata": {
        "id": "view-in-github",
        "colab_type": "text"
      },
      "source": [
        "<a href=\"https://colab.research.google.com/github/remijul/tutorial/blob/master/PCA_Part_1_USA_Arrests_dataset.ipynb\" target=\"_parent\"><img src=\"https://colab.research.google.com/assets/colab-badge.svg\" alt=\"Open In Colab\"/></a>"
      ]
    },
    {
      "cell_type": "markdown",
      "source": [
        "# PCA on USA Arrests dataset \n",
        "\n",
        "---\n",
        "This data set contains statistics, in arrests per 100,000 residents for assault, murder, and rape in each of the 50 US states in 1973. Also given is the percent of the population living in urban areas [dataset info](https://www.rdocumentation.org/packages/datasets/versions/3.6.2/topics/USArrests).\n"
      ],
      "metadata": {
        "id": "ELjMdEf86eHU"
      }
    },
    {
      "cell_type": "markdown",
      "source": [
        "## Objectives"
      ],
      "metadata": {
        "id": "PZgqw-8v6sJr"
      }
    },
    {
      "cell_type": "markdown",
      "source": [
        "## 1.Librairies"
      ],
      "metadata": {
        "id": "Ey3Eqg0f6vhv"
      }
    },
    {
      "cell_type": "code",
      "source": [
        "import pandas as pd\n",
        "import seaborn as sns ; sns.set()\n",
        "import matplotlib.pyplot as plt\n",
        "import numpy as np\n",
        "\n",
        "from sklearn.preprocessing import scale\n",
        "from sklearn.pipeline import Pipeline\n",
        "from sklearn.decomposition import PCA\n"
      ],
      "metadata": {
        "id": "buHIP1897UTV"
      },
      "execution_count": 1,
      "outputs": []
    },
    {
      "cell_type": "markdown",
      "source": [
        "## 2.Data"
      ],
      "metadata": {
        "id": "sDSaYOms6zJ5"
      }
    },
    {
      "cell_type": "code",
      "execution_count": 2,
      "metadata": {
        "colab": {
          "base_uri": "https://localhost:8080/",
          "height": 206
        },
        "id": "7H9j9VEh5u6T",
        "outputId": "77a1a80f-c4b8-4c49-83b2-c7cc712252ed"
      },
      "outputs": [
        {
          "output_type": "execute_result",
          "data": {
            "text/plain": [
              "            Murder  Assault  UrbanPop  Rape\n",
              "Alabama       13.2      236        58  21.2\n",
              "Alaska        10.0      263        48  44.5\n",
              "Arizona        8.1      294        80  31.0\n",
              "Arkansas       8.8      190        50  19.5\n",
              "California     9.0      276        91  40.6"
            ],
            "text/html": [
              "\n",
              "  <div id=\"df-ffa64702-6fbc-45f4-a501-c5890af2c8d9\">\n",
              "    <div class=\"colab-df-container\">\n",
              "      <div>\n",
              "<style scoped>\n",
              "    .dataframe tbody tr th:only-of-type {\n",
              "        vertical-align: middle;\n",
              "    }\n",
              "\n",
              "    .dataframe tbody tr th {\n",
              "        vertical-align: top;\n",
              "    }\n",
              "\n",
              "    .dataframe thead th {\n",
              "        text-align: right;\n",
              "    }\n",
              "</style>\n",
              "<table border=\"1\" class=\"dataframe\">\n",
              "  <thead>\n",
              "    <tr style=\"text-align: right;\">\n",
              "      <th></th>\n",
              "      <th>Murder</th>\n",
              "      <th>Assault</th>\n",
              "      <th>UrbanPop</th>\n",
              "      <th>Rape</th>\n",
              "    </tr>\n",
              "  </thead>\n",
              "  <tbody>\n",
              "    <tr>\n",
              "      <th>Alabama</th>\n",
              "      <td>13.2</td>\n",
              "      <td>236</td>\n",
              "      <td>58</td>\n",
              "      <td>21.2</td>\n",
              "    </tr>\n",
              "    <tr>\n",
              "      <th>Alaska</th>\n",
              "      <td>10.0</td>\n",
              "      <td>263</td>\n",
              "      <td>48</td>\n",
              "      <td>44.5</td>\n",
              "    </tr>\n",
              "    <tr>\n",
              "      <th>Arizona</th>\n",
              "      <td>8.1</td>\n",
              "      <td>294</td>\n",
              "      <td>80</td>\n",
              "      <td>31.0</td>\n",
              "    </tr>\n",
              "    <tr>\n",
              "      <th>Arkansas</th>\n",
              "      <td>8.8</td>\n",
              "      <td>190</td>\n",
              "      <td>50</td>\n",
              "      <td>19.5</td>\n",
              "    </tr>\n",
              "    <tr>\n",
              "      <th>California</th>\n",
              "      <td>9.0</td>\n",
              "      <td>276</td>\n",
              "      <td>91</td>\n",
              "      <td>40.6</td>\n",
              "    </tr>\n",
              "  </tbody>\n",
              "</table>\n",
              "</div>\n",
              "      <button class=\"colab-df-convert\" onclick=\"convertToInteractive('df-ffa64702-6fbc-45f4-a501-c5890af2c8d9')\"\n",
              "              title=\"Convert this dataframe to an interactive table.\"\n",
              "              style=\"display:none;\">\n",
              "        \n",
              "  <svg xmlns=\"http://www.w3.org/2000/svg\" height=\"24px\"viewBox=\"0 0 24 24\"\n",
              "       width=\"24px\">\n",
              "    <path d=\"M0 0h24v24H0V0z\" fill=\"none\"/>\n",
              "    <path d=\"M18.56 5.44l.94 2.06.94-2.06 2.06-.94-2.06-.94-.94-2.06-.94 2.06-2.06.94zm-11 1L8.5 8.5l.94-2.06 2.06-.94-2.06-.94L8.5 2.5l-.94 2.06-2.06.94zm10 10l.94 2.06.94-2.06 2.06-.94-2.06-.94-.94-2.06-.94 2.06-2.06.94z\"/><path d=\"M17.41 7.96l-1.37-1.37c-.4-.4-.92-.59-1.43-.59-.52 0-1.04.2-1.43.59L10.3 9.45l-7.72 7.72c-.78.78-.78 2.05 0 2.83L4 21.41c.39.39.9.59 1.41.59.51 0 1.02-.2 1.41-.59l7.78-7.78 2.81-2.81c.8-.78.8-2.07 0-2.86zM5.41 20L4 18.59l7.72-7.72 1.47 1.35L5.41 20z\"/>\n",
              "  </svg>\n",
              "      </button>\n",
              "      \n",
              "  <style>\n",
              "    .colab-df-container {\n",
              "      display:flex;\n",
              "      flex-wrap:wrap;\n",
              "      gap: 12px;\n",
              "    }\n",
              "\n",
              "    .colab-df-convert {\n",
              "      background-color: #E8F0FE;\n",
              "      border: none;\n",
              "      border-radius: 50%;\n",
              "      cursor: pointer;\n",
              "      display: none;\n",
              "      fill: #1967D2;\n",
              "      height: 32px;\n",
              "      padding: 0 0 0 0;\n",
              "      width: 32px;\n",
              "    }\n",
              "\n",
              "    .colab-df-convert:hover {\n",
              "      background-color: #E2EBFA;\n",
              "      box-shadow: 0px 1px 2px rgba(60, 64, 67, 0.3), 0px 1px 3px 1px rgba(60, 64, 67, 0.15);\n",
              "      fill: #174EA6;\n",
              "    }\n",
              "\n",
              "    [theme=dark] .colab-df-convert {\n",
              "      background-color: #3B4455;\n",
              "      fill: #D2E3FC;\n",
              "    }\n",
              "\n",
              "    [theme=dark] .colab-df-convert:hover {\n",
              "      background-color: #434B5C;\n",
              "      box-shadow: 0px 1px 3px 1px rgba(0, 0, 0, 0.15);\n",
              "      filter: drop-shadow(0px 1px 2px rgba(0, 0, 0, 0.3));\n",
              "      fill: #FFFFFF;\n",
              "    }\n",
              "  </style>\n",
              "\n",
              "      <script>\n",
              "        const buttonEl =\n",
              "          document.querySelector('#df-ffa64702-6fbc-45f4-a501-c5890af2c8d9 button.colab-df-convert');\n",
              "        buttonEl.style.display =\n",
              "          google.colab.kernel.accessAllowed ? 'block' : 'none';\n",
              "\n",
              "        async function convertToInteractive(key) {\n",
              "          const element = document.querySelector('#df-ffa64702-6fbc-45f4-a501-c5890af2c8d9');\n",
              "          const dataTable =\n",
              "            await google.colab.kernel.invokeFunction('convertToInteractive',\n",
              "                                                     [key], {});\n",
              "          if (!dataTable) return;\n",
              "\n",
              "          const docLinkHtml = 'Like what you see? Visit the ' +\n",
              "            '<a target=\"_blank\" href=https://colab.research.google.com/notebooks/data_table.ipynb>data table notebook</a>'\n",
              "            + ' to learn more about interactive tables.';\n",
              "          element.innerHTML = '';\n",
              "          dataTable['output_type'] = 'display_data';\n",
              "          await google.colab.output.renderOutput(dataTable, element);\n",
              "          const docLink = document.createElement('div');\n",
              "          docLink.innerHTML = docLinkHtml;\n",
              "          element.appendChild(docLink);\n",
              "        }\n",
              "      </script>\n",
              "    </div>\n",
              "  </div>\n",
              "  "
            ]
          },
          "metadata": {},
          "execution_count": 2
        }
      ],
      "source": [
        "url = \"https://raw.githubusercontent.com/remijul/dataset/master/USArrests.csv\"\n",
        "df = pd.read_csv(url, index_col=0)\n",
        "df.head()"
      ]
    },
    {
      "cell_type": "markdown",
      "source": [
        "## 3.Exploratory Data Analysis"
      ],
      "metadata": {
        "id": "kTeMTWSh62db"
      }
    },
    {
      "cell_type": "markdown",
      "source": [
        "### 3.1 Dataset description"
      ],
      "metadata": {
        "id": "gEZxL3T07NnI"
      }
    },
    {
      "cell_type": "markdown",
      "metadata": {
        "id": "7KJBd0fy_P5s"
      },
      "source": [
        "Dimension of dataset : (lines , columns)"
      ]
    },
    {
      "cell_type": "code",
      "metadata": {
        "id": "hmftMuA2_gMt",
        "colab": {
          "base_uri": "https://localhost:8080/"
        },
        "outputId": "d9bfa115-588e-48a5-a473-e51c76ff3c9d"
      },
      "source": [
        "df.shape"
      ],
      "execution_count": 3,
      "outputs": [
        {
          "output_type": "execute_result",
          "data": {
            "text/plain": [
              "(50, 4)"
            ]
          },
          "metadata": {},
          "execution_count": 3
        }
      ]
    },
    {
      "cell_type": "markdown",
      "metadata": {
        "id": "HyVOXFrN_kYU"
      },
      "source": [
        "Names and data type of columns.\n"
      ]
    },
    {
      "cell_type": "code",
      "metadata": {
        "id": "5bs0fW82_kYW",
        "colab": {
          "base_uri": "https://localhost:8080/"
        },
        "outputId": "75b423b9-8556-4551-a7e4-b24c91b49261"
      },
      "source": [
        "df.dtypes"
      ],
      "execution_count": 4,
      "outputs": [
        {
          "output_type": "execute_result",
          "data": {
            "text/plain": [
              "Murder      float64\n",
              "Assault       int64\n",
              "UrbanPop      int64\n",
              "Rape        float64\n",
              "dtype: object"
            ]
          },
          "metadata": {},
          "execution_count": 4
        }
      ]
    },
    {
      "cell_type": "markdown",
      "source": [
        "Dataset information."
      ],
      "metadata": {
        "id": "AaAwSCiz9IhY"
      }
    },
    {
      "cell_type": "code",
      "metadata": {
        "id": "mSrT3jgg_uWW",
        "colab": {
          "base_uri": "https://localhost:8080/"
        },
        "outputId": "470b1a93-f322-4000-c9b1-3b7e6a9146fb"
      },
      "source": [
        "df.info()"
      ],
      "execution_count": 5,
      "outputs": [
        {
          "output_type": "stream",
          "name": "stdout",
          "text": [
            "<class 'pandas.core.frame.DataFrame'>\n",
            "Index: 50 entries, Alabama to Wyoming\n",
            "Data columns (total 4 columns):\n",
            " #   Column    Non-Null Count  Dtype  \n",
            "---  ------    --------------  -----  \n",
            " 0   Murder    50 non-null     float64\n",
            " 1   Assault   50 non-null     int64  \n",
            " 2   UrbanPop  50 non-null     int64  \n",
            " 3   Rape      50 non-null     float64\n",
            "dtypes: float64(2), int64(2)\n",
            "memory usage: 2.0+ KB\n"
          ]
        }
      ]
    },
    {
      "cell_type": "markdown",
      "metadata": {
        "id": "8ukubNIP_uWU"
      },
      "source": [
        "Missing data."
      ]
    },
    {
      "cell_type": "code",
      "metadata": {
        "colab": {
          "base_uri": "https://localhost:8080/"
        },
        "id": "79UrVTwFAFcN",
        "outputId": "178b07d8-2833-4909-8989-553da0d9f65e"
      },
      "source": [
        "df.isna().sum()"
      ],
      "execution_count": 6,
      "outputs": [
        {
          "output_type": "execute_result",
          "data": {
            "text/plain": [
              "Murder      0\n",
              "Assault     0\n",
              "UrbanPop    0\n",
              "Rape        0\n",
              "dtype: int64"
            ]
          },
          "metadata": {},
          "execution_count": 6
        }
      ]
    },
    {
      "cell_type": "markdown",
      "source": [
        "### 3.2 Data description"
      ],
      "metadata": {
        "id": "WugVmWnC9VSC"
      }
    },
    {
      "cell_type": "code",
      "source": [
        "df.describe(include='all')"
      ],
      "metadata": {
        "colab": {
          "base_uri": "https://localhost:8080/",
          "height": 0
        },
        "id": "yF7sCnd-9Ty-",
        "outputId": "78b48cff-054f-43ad-810c-7500fb865b34"
      },
      "execution_count": 7,
      "outputs": [
        {
          "output_type": "execute_result",
          "data": {
            "text/plain": [
              "         Murder     Assault   UrbanPop       Rape\n",
              "count  50.00000   50.000000  50.000000  50.000000\n",
              "mean    7.78800  170.760000  65.540000  21.232000\n",
              "std     4.35551   83.337661  14.474763   9.366385\n",
              "min     0.80000   45.000000  32.000000   7.300000\n",
              "25%     4.07500  109.000000  54.500000  15.075000\n",
              "50%     7.25000  159.000000  66.000000  20.100000\n",
              "75%    11.25000  249.000000  77.750000  26.175000\n",
              "max    17.40000  337.000000  91.000000  46.000000"
            ],
            "text/html": [
              "\n",
              "  <div id=\"df-4922e38c-0721-4b6f-88c9-5fc5918375d1\">\n",
              "    <div class=\"colab-df-container\">\n",
              "      <div>\n",
              "<style scoped>\n",
              "    .dataframe tbody tr th:only-of-type {\n",
              "        vertical-align: middle;\n",
              "    }\n",
              "\n",
              "    .dataframe tbody tr th {\n",
              "        vertical-align: top;\n",
              "    }\n",
              "\n",
              "    .dataframe thead th {\n",
              "        text-align: right;\n",
              "    }\n",
              "</style>\n",
              "<table border=\"1\" class=\"dataframe\">\n",
              "  <thead>\n",
              "    <tr style=\"text-align: right;\">\n",
              "      <th></th>\n",
              "      <th>Murder</th>\n",
              "      <th>Assault</th>\n",
              "      <th>UrbanPop</th>\n",
              "      <th>Rape</th>\n",
              "    </tr>\n",
              "  </thead>\n",
              "  <tbody>\n",
              "    <tr>\n",
              "      <th>count</th>\n",
              "      <td>50.00000</td>\n",
              "      <td>50.000000</td>\n",
              "      <td>50.000000</td>\n",
              "      <td>50.000000</td>\n",
              "    </tr>\n",
              "    <tr>\n",
              "      <th>mean</th>\n",
              "      <td>7.78800</td>\n",
              "      <td>170.760000</td>\n",
              "      <td>65.540000</td>\n",
              "      <td>21.232000</td>\n",
              "    </tr>\n",
              "    <tr>\n",
              "      <th>std</th>\n",
              "      <td>4.35551</td>\n",
              "      <td>83.337661</td>\n",
              "      <td>14.474763</td>\n",
              "      <td>9.366385</td>\n",
              "    </tr>\n",
              "    <tr>\n",
              "      <th>min</th>\n",
              "      <td>0.80000</td>\n",
              "      <td>45.000000</td>\n",
              "      <td>32.000000</td>\n",
              "      <td>7.300000</td>\n",
              "    </tr>\n",
              "    <tr>\n",
              "      <th>25%</th>\n",
              "      <td>4.07500</td>\n",
              "      <td>109.000000</td>\n",
              "      <td>54.500000</td>\n",
              "      <td>15.075000</td>\n",
              "    </tr>\n",
              "    <tr>\n",
              "      <th>50%</th>\n",
              "      <td>7.25000</td>\n",
              "      <td>159.000000</td>\n",
              "      <td>66.000000</td>\n",
              "      <td>20.100000</td>\n",
              "    </tr>\n",
              "    <tr>\n",
              "      <th>75%</th>\n",
              "      <td>11.25000</td>\n",
              "      <td>249.000000</td>\n",
              "      <td>77.750000</td>\n",
              "      <td>26.175000</td>\n",
              "    </tr>\n",
              "    <tr>\n",
              "      <th>max</th>\n",
              "      <td>17.40000</td>\n",
              "      <td>337.000000</td>\n",
              "      <td>91.000000</td>\n",
              "      <td>46.000000</td>\n",
              "    </tr>\n",
              "  </tbody>\n",
              "</table>\n",
              "</div>\n",
              "      <button class=\"colab-df-convert\" onclick=\"convertToInteractive('df-4922e38c-0721-4b6f-88c9-5fc5918375d1')\"\n",
              "              title=\"Convert this dataframe to an interactive table.\"\n",
              "              style=\"display:none;\">\n",
              "        \n",
              "  <svg xmlns=\"http://www.w3.org/2000/svg\" height=\"24px\"viewBox=\"0 0 24 24\"\n",
              "       width=\"24px\">\n",
              "    <path d=\"M0 0h24v24H0V0z\" fill=\"none\"/>\n",
              "    <path d=\"M18.56 5.44l.94 2.06.94-2.06 2.06-.94-2.06-.94-.94-2.06-.94 2.06-2.06.94zm-11 1L8.5 8.5l.94-2.06 2.06-.94-2.06-.94L8.5 2.5l-.94 2.06-2.06.94zm10 10l.94 2.06.94-2.06 2.06-.94-2.06-.94-.94-2.06-.94 2.06-2.06.94z\"/><path d=\"M17.41 7.96l-1.37-1.37c-.4-.4-.92-.59-1.43-.59-.52 0-1.04.2-1.43.59L10.3 9.45l-7.72 7.72c-.78.78-.78 2.05 0 2.83L4 21.41c.39.39.9.59 1.41.59.51 0 1.02-.2 1.41-.59l7.78-7.78 2.81-2.81c.8-.78.8-2.07 0-2.86zM5.41 20L4 18.59l7.72-7.72 1.47 1.35L5.41 20z\"/>\n",
              "  </svg>\n",
              "      </button>\n",
              "      \n",
              "  <style>\n",
              "    .colab-df-container {\n",
              "      display:flex;\n",
              "      flex-wrap:wrap;\n",
              "      gap: 12px;\n",
              "    }\n",
              "\n",
              "    .colab-df-convert {\n",
              "      background-color: #E8F0FE;\n",
              "      border: none;\n",
              "      border-radius: 50%;\n",
              "      cursor: pointer;\n",
              "      display: none;\n",
              "      fill: #1967D2;\n",
              "      height: 32px;\n",
              "      padding: 0 0 0 0;\n",
              "      width: 32px;\n",
              "    }\n",
              "\n",
              "    .colab-df-convert:hover {\n",
              "      background-color: #E2EBFA;\n",
              "      box-shadow: 0px 1px 2px rgba(60, 64, 67, 0.3), 0px 1px 3px 1px rgba(60, 64, 67, 0.15);\n",
              "      fill: #174EA6;\n",
              "    }\n",
              "\n",
              "    [theme=dark] .colab-df-convert {\n",
              "      background-color: #3B4455;\n",
              "      fill: #D2E3FC;\n",
              "    }\n",
              "\n",
              "    [theme=dark] .colab-df-convert:hover {\n",
              "      background-color: #434B5C;\n",
              "      box-shadow: 0px 1px 3px 1px rgba(0, 0, 0, 0.15);\n",
              "      filter: drop-shadow(0px 1px 2px rgba(0, 0, 0, 0.3));\n",
              "      fill: #FFFFFF;\n",
              "    }\n",
              "  </style>\n",
              "\n",
              "      <script>\n",
              "        const buttonEl =\n",
              "          document.querySelector('#df-4922e38c-0721-4b6f-88c9-5fc5918375d1 button.colab-df-convert');\n",
              "        buttonEl.style.display =\n",
              "          google.colab.kernel.accessAllowed ? 'block' : 'none';\n",
              "\n",
              "        async function convertToInteractive(key) {\n",
              "          const element = document.querySelector('#df-4922e38c-0721-4b6f-88c9-5fc5918375d1');\n",
              "          const dataTable =\n",
              "            await google.colab.kernel.invokeFunction('convertToInteractive',\n",
              "                                                     [key], {});\n",
              "          if (!dataTable) return;\n",
              "\n",
              "          const docLinkHtml = 'Like what you see? Visit the ' +\n",
              "            '<a target=\"_blank\" href=https://colab.research.google.com/notebooks/data_table.ipynb>data table notebook</a>'\n",
              "            + ' to learn more about interactive tables.';\n",
              "          element.innerHTML = '';\n",
              "          dataTable['output_type'] = 'display_data';\n",
              "          await google.colab.output.renderOutput(dataTable, element);\n",
              "          const docLink = document.createElement('div');\n",
              "          docLink.innerHTML = docLinkHtml;\n",
              "          element.appendChild(docLink);\n",
              "        }\n",
              "      </script>\n",
              "    </div>\n",
              "  </div>\n",
              "  "
            ]
          },
          "metadata": {},
          "execution_count": 7
        }
      ]
    },
    {
      "cell_type": "markdown",
      "source": [
        "### 3.3 Data distribution"
      ],
      "metadata": {
        "id": "5xISTJL7_DVm"
      }
    },
    {
      "cell_type": "code",
      "source": [
        "sns.boxplot(data=df, orient=\"h\", palette=\"Set2\")"
      ],
      "metadata": {
        "colab": {
          "base_uri": "https://localhost:8080/",
          "height": 0
        },
        "id": "Z5s96Uz9_DgB",
        "outputId": "8647810d-1cfc-4bf3-f56f-2a18cc8a6e25"
      },
      "execution_count": 8,
      "outputs": [
        {
          "output_type": "execute_result",
          "data": {
            "text/plain": [
              "<matplotlib.axes._subplots.AxesSubplot at 0x7f8813231650>"
            ]
          },
          "metadata": {},
          "execution_count": 8
        },
        {
          "output_type": "display_data",
          "data": {
            "text/plain": [
              "<Figure size 432x288 with 1 Axes>"
            ],
            "image/png": "[encoded data removed]"
          },
          "metadata": {
            "needs_background": "light"
          }
        }
      ]
    },
    {
      "cell_type": "code",
      "source": [
        "sns.histplot(data=df, palette=\"Set2\", kde=True)"
      ],
      "metadata": {
        "colab": {
          "base_uri": "https://localhost:8080/",
          "height": 0
        },
        "id": "UnSwKSOf_UoK",
        "outputId": "f2808061-553e-4bab-a862-ff9860836bd0"
      },
      "execution_count": 9,
      "outputs": [
        {
          "output_type": "execute_result",
          "data": {
            "text/plain": [
              "<matplotlib.axes._subplots.AxesSubplot at 0x7f8813084650>"
            ]
          },
          "metadata": {},
          "execution_count": 9
        },
        {
          "output_type": "display_data",
          "data": {
            "text/plain": [
              "<Figure size 432x288 with 1 Axes>"
            ],
            "image/png": "[encoded data removed]"
          },
          "metadata": {
            "needs_background": "light"
          }
        }
      ]
    },
    {
      "cell_type": "markdown",
      "source": [
        "### 3.4 Data correlation"
      ],
      "metadata": {
        "id": "iuThnIFj-DU_"
      }
    },
    {
      "cell_type": "code",
      "source": [
        "df.corr()"
      ],
      "metadata": {
        "colab": {
          "base_uri": "https://localhost:8080/",
          "height": 0
        },
        "id": "VWO138AN9bFV",
        "outputId": "29705f09-dd4b-44b5-ea8d-dbb4b428709f"
      },
      "execution_count": 10,
      "outputs": [
        {
          "output_type": "execute_result",
          "data": {
            "text/plain": [
              "            Murder   Assault  UrbanPop      Rape\n",
              "Murder    1.000000  0.801873  0.069573  0.563579\n",
              "Assault   0.801873  1.000000  0.258872  0.665241\n",
              "UrbanPop  0.069573  0.258872  1.000000  0.411341\n",
              "Rape      0.563579  0.665241  0.411341  1.000000"
            ],
            "text/html": [
              "\n",
              "  <div id=\"df-eba299cc-8701-4f3d-91bd-8f2caf5c3ace\">\n",
              "    <div class=\"colab-df-container\">\n",
              "      <div>\n",
              "<style scoped>\n",
              "    .dataframe tbody tr th:only-of-type {\n",
              "        vertical-align: middle;\n",
              "    }\n",
              "\n",
              "    .dataframe tbody tr th {\n",
              "        vertical-align: top;\n",
              "    }\n",
              "\n",
              "    .dataframe thead th {\n",
              "        text-align: right;\n",
              "    }\n",
              "</style>\n",
              "<table border=\"1\" class=\"dataframe\">\n",
              "  <thead>\n",
              "    <tr style=\"text-align: right;\">\n",
              "      <th></th>\n",
              "      <th>Murder</th>\n",
              "      <th>Assault</th>\n",
              "      <th>UrbanPop</th>\n",
              "      <th>Rape</th>\n",
              "    </tr>\n",
              "  </thead>\n",
              "  <tbody>\n",
              "    <tr>\n",
              "      <th>Murder</th>\n",
              "      <td>1.000000</td>\n",
              "      <td>0.801873</td>\n",
              "      <td>0.069573</td>\n",
              "      <td>0.563579</td>\n",
              "    </tr>\n",
              "    <tr>\n",
              "      <th>Assault</th>\n",
              "      <td>0.801873</td>\n",
              "      <td>1.000000</td>\n",
              "      <td>0.258872</td>\n",
              "      <td>0.665241</td>\n",
              "    </tr>\n",
              "    <tr>\n",
              "      <th>UrbanPop</th>\n",
              "      <td>0.069573</td>\n",
              "      <td>0.258872</td>\n",
              "      <td>1.000000</td>\n",
              "      <td>0.411341</td>\n",
              "    </tr>\n",
              "    <tr>\n",
              "      <th>Rape</th>\n",
              "      <td>0.563579</td>\n",
              "      <td>0.665241</td>\n",
              "      <td>0.411341</td>\n",
              "      <td>1.000000</td>\n",
              "    </tr>\n",
              "  </tbody>\n",
              "</table>\n",
              "</div>\n",
              "      <button class=\"colab-df-convert\" onclick=\"convertToInteractive('df-eba299cc-8701-4f3d-91bd-8f2caf5c3ace')\"\n",
              "              title=\"Convert this dataframe to an interactive table.\"\n",
              "              style=\"display:none;\">\n",
              "        \n",
              "  <svg xmlns=\"http://www.w3.org/2000/svg\" height=\"24px\"viewBox=\"0 0 24 24\"\n",
              "       width=\"24px\">\n",
              "    <path d=\"M0 0h24v24H0V0z\" fill=\"none\"/>\n",
              "    <path d=\"M18.56 5.44l.94 2.06.94-2.06 2.06-.94-2.06-.94-.94-2.06-.94 2.06-2.06.94zm-11 1L8.5 8.5l.94-2.06 2.06-.94-2.06-.94L8.5 2.5l-.94 2.06-2.06.94zm10 10l.94 2.06.94-2.06 2.06-.94-2.06-.94-.94-2.06-.94 2.06-2.06.94z\"/><path d=\"M17.41 7.96l-1.37-1.37c-.4-.4-.92-.59-1.43-.59-.52 0-1.04.2-1.43.59L10.3 9.45l-7.72 7.72c-.78.78-.78 2.05 0 2.83L4 21.41c.39.39.9.59 1.41.59.51 0 1.02-.2 1.41-.59l7.78-7.78 2.81-2.81c.8-.78.8-2.07 0-2.86zM5.41 20L4 18.59l7.72-7.72 1.47 1.35L5.41 20z\"/>\n",
              "  </svg>\n",
              "      </button>\n",
              "      \n",
              "  <style>\n",
              "    .colab-df-container {\n",
              "      display:flex;\n",
              "      flex-wrap:wrap;\n",
              "      gap: 12px;\n",
              "    }\n",
              "\n",
              "    .colab-df-convert {\n",
              "      background-color: #E8F0FE;\n",
              "      border: none;\n",
              "      border-radius: 50%;\n",
              "      cursor: pointer;\n",
              "      display: none;\n",
              "      fill: #1967D2;\n",
              "      height: 32px;\n",
              "      padding: 0 0 0 0;\n",
              "      width: 32px;\n",
              "    }\n",
              "\n",
              "    .colab-df-convert:hover {\n",
              "      background-color: #E2EBFA;\n",
              "      box-shadow: 0px 1px 2px rgba(60, 64, 67, 0.3), 0px 1px 3px 1px rgba(60, 64, 67, 0.15);\n",
              "      fill: #174EA6;\n",
              "    }\n",
              "\n",
              "    [theme=dark] .colab-df-convert {\n",
              "      background-color: #3B4455;\n",
              "      fill: #D2E3FC;\n",
              "    }\n",
              "\n",
              "    [theme=dark] .colab-df-convert:hover {\n",
              "      background-color: #434B5C;\n",
              "      box-shadow: 0px 1px 3px 1px rgba(0, 0, 0, 0.15);\n",
              "      filter: drop-shadow(0px 1px 2px rgba(0, 0, 0, 0.3));\n",
              "      fill: #FFFFFF;\n",
              "    }\n",
              "  </style>\n",
              "\n",
              "      <script>\n",
              "        const buttonEl =\n",
              "          document.querySelector('#df-eba299cc-8701-4f3d-91bd-8f2caf5c3ace button.colab-df-convert');\n",
              "        buttonEl.style.display =\n",
              "          google.colab.kernel.accessAllowed ? 'block' : 'none';\n",
              "\n",
              "        async function convertToInteractive(key) {\n",
              "          const element = document.querySelector('#df-eba299cc-8701-4f3d-91bd-8f2caf5c3ace');\n",
              "          const dataTable =\n",
              "            await google.colab.kernel.invokeFunction('convertToInteractive',\n",
              "                                                     [key], {});\n",
              "          if (!dataTable) return;\n",
              "\n",
              "          const docLinkHtml = 'Like what you see? Visit the ' +\n",
              "            '<a target=\"_blank\" href=https://colab.research.google.com/notebooks/data_table.ipynb>data table notebook</a>'\n",
              "            + ' to learn more about interactive tables.';\n",
              "          element.innerHTML = '';\n",
              "          dataTable['output_type'] = 'display_data';\n",
              "          await google.colab.output.renderOutput(dataTable, element);\n",
              "          const docLink = document.createElement('div');\n",
              "          docLink.innerHTML = docLinkHtml;\n",
              "          element.appendChild(docLink);\n",
              "        }\n",
              "      </script>\n",
              "    </div>\n",
              "  </div>\n",
              "  "
            ]
          },
          "metadata": {},
          "execution_count": 10
        }
      ]
    },
    {
      "cell_type": "code",
      "source": [
        "sns.heatmap(df.corr(), annot=True, linewidths=0.5)"
      ],
      "metadata": {
        "colab": {
          "base_uri": "https://localhost:8080/",
          "height": 0
        },
        "id": "i2IJPTwK9912",
        "outputId": "d2aa15d6-281c-4178-b3b0-de842b62460f"
      },
      "execution_count": 11,
      "outputs": [
        {
          "output_type": "execute_result",
          "data": {
            "text/plain": [
              "<matplotlib.axes._subplots.AxesSubplot at 0x7f8810ace2d0>"
            ]
          },
          "metadata": {},
          "execution_count": 11
        },
        {
          "output_type": "display_data",
          "data": {
            "text/plain": [
              "<Figure size 432x288 with 2 Axes>"
            ],
            "image/png": "[encoded data removed]"
          },
          "metadata": {
            "needs_background": "light"
          }
        }
      ]
    },
    {
      "cell_type": "code",
      "source": [
        "sns.pairplot(data=df, palette=\"Set2\", diag_kind='kde')"
      ],
      "metadata": {
        "colab": {
          "base_uri": "https://localhost:8080/",
          "height": 0
        },
        "id": "tOYPbLg9_zuE",
        "outputId": "b5c0f1b9-0781-4365-e513-c3a02db53d86"
      },
      "execution_count": 12,
      "outputs": [
        {
          "output_type": "execute_result",
          "data": {
            "text/plain": [
              "<seaborn.axisgrid.PairGrid at 0x7f8810a6f790>"
            ]
          },
          "metadata": {},
          "execution_count": 12
        },
        {
          "output_type": "display_data",
          "data": {
            "text/plain": [
              "<Figure size 720x720 with 20 Axes>"
            ],
            "image/png": "[encoded data removed]"
          },
          "metadata": {
            "needs_background": "light"
          }
        }
      ]
    },
    {
      "cell_type": "markdown",
      "source": [
        "## 4.PCA\n",
        "In the `decomposition` sub-module, we will import the `PCA()` function. The PCA' operation is similar to all the others in scikit-learn.\n",
        "\n",
        "* We first create an object (named here `pca`) which will contain the result of the PCA. In the `PCA()` function, we can also indicate parameters such as the number of components to retain (`n_components`).\n",
        "* Then, we adjust (`fit`) on data with the `fit()` function of the previously created object. In this function, we must therefore pass the data to be used (only quantitative variables).  \n",
        "* If we want a standardized PCA, we have to standardize the data upstream, with for example the `scale()` function of the `preprocessing` sub-module (also imported here).  \n",
        "\n",
        "**Of course, only quantitative variables should be used, with no missing data.**"
      ],
      "metadata": {
        "id": "Tf73-z01Avfc"
      }
    },
    {
      "cell_type": "markdown",
      "source": [
        "### 4.1 Standardisation"
      ],
      "metadata": {
        "id": "SI3rJ-v1HA0M"
      }
    },
    {
      "cell_type": "code",
      "source": [
        "df_scaled = scale(df)\n",
        "df_scaled[:5]"
      ],
      "metadata": {
        "id": "ABLhtApb_0vv",
        "colab": {
          "base_uri": "https://localhost:8080/"
        },
        "outputId": "1606b7f2-3004-4fb0-ada0-c80f374c6815"
      },
      "execution_count": 13,
      "outputs": [
        {
          "output_type": "execute_result",
          "data": {
            "text/plain": [
              "array([[ 1.25517927,  0.79078716, -0.52619514, -0.00345116],\n",
              "       [ 0.51301858,  1.11805959, -1.22406668,  2.50942392],\n",
              "       [ 0.07236067,  1.49381682,  1.00912225,  1.05346626],\n",
              "       [ 0.23470832,  0.23321191, -1.08449238, -0.18679398],\n",
              "       [ 0.28109336,  1.2756352 ,  1.77678094,  2.08881393]])"
            ]
          },
          "metadata": {},
          "execution_count": 13
        }
      ]
    },
    {
      "cell_type": "markdown",
      "source": [
        "Let's check the mean calculation, we expect all means to be closed to 0 after scaling."
      ],
      "metadata": {
        "id": "zJgh4FbOmmW8"
      }
    },
    {
      "cell_type": "code",
      "source": [
        "np.mean(df_scaled, axis=0)"
      ],
      "metadata": {
        "id": "xzJ_6NDpDfgT",
        "colab": {
          "base_uri": "https://localhost:8080/"
        },
        "outputId": "4f6f251d-4e3c-4239-c0ae-d1facd59e6f0"
      },
      "execution_count": 14,
      "outputs": [
        {
          "output_type": "execute_result",
          "data": {
            "text/plain": [
              "array([-7.10542736e-17,  1.38777878e-16, -4.39648318e-16,  8.59312621e-16])"
            ]
          },
          "metadata": {},
          "execution_count": 14
        }
      ]
    },
    {
      "cell_type": "markdown",
      "source": [
        "Let's check the standard deviation calculation, we expect all standard deviations to be closed to 1 after scaling."
      ],
      "metadata": {
        "id": "wjHzjqBMm5-K"
      }
    },
    {
      "cell_type": "code",
      "source": [
        "np.std(df_scaled, axis=0)"
      ],
      "metadata": {
        "colab": {
          "base_uri": "https://localhost:8080/"
        },
        "outputId": "9897d068-65d4-4224-fd56-a207b3152916",
        "id": "JwvH12smm5-R"
      },
      "execution_count": 15,
      "outputs": [
        {
          "output_type": "execute_result",
          "data": {
            "text/plain": [
              "array([1., 1., 1., 1.])"
            ]
          },
          "metadata": {},
          "execution_count": 15
        }
      ]
    },
    {
      "cell_type": "markdown",
      "metadata": {
        "id": "AeA0Z4MA0wHh"
      },
      "source": [
        "###4.2 PCA reduction\n",
        "Here we create an object of the class `PCA` with fitting and data transformation.  \n",
        "The result is a array with the 4 dimensions coordinates of all data points. "
      ]
    },
    {
      "cell_type": "code",
      "metadata": {
        "id": "3BkIVGV80wHl"
      },
      "source": [
        "pca = PCA()\n",
        "data_pca = pca.fit_transform(df_scaled)\n",
        "\n",
        "# Or alternatively\n",
        "#pca.fit(df_scaled)\n",
        "#pca.transform(df_scaled)"
      ],
      "execution_count": 16,
      "outputs": []
    },
    {
      "cell_type": "code",
      "source": [
        "data_pca"
      ],
      "metadata": {
        "colab": {
          "base_uri": "https://localhost:8080/"
        },
        "id": "EyRnAlKv0irQ",
        "outputId": "4521da18-7178-421b-b7eb-af4897bb3f4e"
      },
      "execution_count": 17,
      "outputs": [
        {
          "output_type": "execute_result",
          "data": {
            "text/plain": [
              "array([[ 9.85565885e-01,  1.13339238e+00, -4.44268788e-01,\n",
              "         1.56267145e-01],\n",
              "       [ 1.95013775e+00,  1.07321326e+00,  2.04000333e+00,\n",
              "        -4.38583440e-01],\n",
              "       [ 1.76316354e+00, -7.45956781e-01,  5.47808243e-02,\n",
              "        -8.34652924e-01],\n",
              "       [-1.41420290e-01,  1.11979678e+00,  1.14573692e-01,\n",
              "        -1.82810896e-01],\n",
              "       [ 2.52398013e+00, -1.54293399e+00,  5.98556799e-01,\n",
              "        -3.41996478e-01],\n",
              "       [ 1.51456286e+00, -9.87555085e-01,  1.09500699e+00,\n",
              "         1.46488703e-03],\n",
              "       [-1.35864746e+00, -1.08892789e+00, -6.43257569e-01,\n",
              "        -1.18469414e-01],\n",
              "       [ 4.77093091e-02, -3.25358925e-01, -7.18632942e-01,\n",
              "        -8.81977637e-01],\n",
              "       [ 3.01304227e+00,  3.92285133e-02, -5.76829492e-01,\n",
              "        -9.62847520e-02],\n",
              "       [ 1.63928304e+00,  1.27894240e+00, -3.42460080e-01,\n",
              "         1.07679681e+00],\n",
              "       [-9.12657146e-01, -1.57046001e+00,  5.07818939e-02,\n",
              "         9.02806864e-01],\n",
              "       [-1.63979985e+00,  2.10972917e-01,  2.59801342e-01,\n",
              "        -4.99104101e-01],\n",
              "       [ 1.37891072e+00, -6.81841189e-01, -6.77495641e-01,\n",
              "        -1.22021292e-01],\n",
              "       [-5.05461361e-01, -1.51562542e-01,  2.28054838e-01,\n",
              "         4.24665700e-01],\n",
              "       [-2.25364607e+00, -1.04054073e-01,  1.64564315e-01,\n",
              "         1.75559157e-02],\n",
              "       [-7.96881121e-01, -2.70164705e-01,  2.55533072e-02,\n",
              "         2.06496428e-01],\n",
              "       [-7.50859074e-01,  9.58440286e-01, -2.83694170e-02,\n",
              "         6.70556671e-01],\n",
              "       [ 1.56481798e+00,  8.71054655e-01, -7.83480358e-01,\n",
              "         4.54728038e-01],\n",
              "       [-2.39682949e+00,  3.76391576e-01, -6.56823864e-02,\n",
              "        -3.30459817e-01],\n",
              "       [ 1.76336939e+00,  4.27655192e-01, -1.57250127e-01,\n",
              "        -5.59069521e-01],\n",
              "       [-4.86166287e-01, -1.47449650e+00, -6.09497476e-01,\n",
              "        -1.79598963e-01],\n",
              "       [ 2.10844115e+00, -1.55396819e-01,  3.84868584e-01,\n",
              "         1.02372019e-01],\n",
              "       [-1.69268181e+00, -6.32261251e-01,  1.53070434e-01,\n",
              "         6.73168850e-02],\n",
              "       [ 9.96494459e-01,  2.39379599e+00, -7.40808395e-01,\n",
              "         2.15508013e-01],\n",
              "       [ 6.96787329e-01, -2.63354790e-01,  3.77443827e-01,\n",
              "         2.25824461e-01],\n",
              "       [-1.18545191e+00,  5.36874372e-01,  2.46889321e-01,\n",
              "         1.23742227e-01],\n",
              "       [-1.26563654e+00, -1.93953730e-01,  1.75573906e-01,\n",
              "         1.58928878e-02],\n",
              "       [ 2.87439454e+00, -7.75600196e-01,  1.16338049e+00,\n",
              "         3.14515476e-01],\n",
              "       [-2.38391541e+00, -1.80822897e-02,  3.68553932e-02,\n",
              "        -3.31373376e-02],\n",
              "       [ 1.81566110e-01, -1.44950571e+00, -7.64453551e-01,\n",
              "         2.43382700e-01],\n",
              "       [ 1.98002375e+00,  1.42848780e-01,  1.83692180e-01,\n",
              "        -3.39533597e-01],\n",
              "       [ 1.68257738e+00, -8.23184142e-01, -6.43075093e-01,\n",
              "        -1.34843689e-02],\n",
              "       [ 1.12337861e+00,  2.22800338e+00, -8.63571788e-01,\n",
              "        -9.54381667e-01],\n",
              "       [-2.99222562e+00,  5.99118824e-01,  3.01277285e-01,\n",
              "        -2.53987327e-01],\n",
              "       [-2.25965422e-01, -7.42238237e-01, -3.11391215e-02,\n",
              "         4.73915911e-01],\n",
              "       [-3.11782855e-01, -2.87854206e-01, -1.53097922e-02,\n",
              "         1.03323208e-02],\n",
              "       [ 5.91220768e-02, -5.41411454e-01,  9.39832977e-01,\n",
              "        -2.37780688e-01],\n",
              "       [-8.88415824e-01, -5.71100352e-01, -4.00628706e-01,\n",
              "         3.59061124e-01],\n",
              "       [-8.63772064e-01, -1.49197842e+00, -1.36994570e+00,\n",
              "        -6.13569430e-01],\n",
              "       [ 1.32072380e+00,  1.93340466e+00, -3.00537790e-01,\n",
              "        -1.31466685e-01],\n",
              "       [-1.98777484e+00,  8.23343241e-01,  3.89293329e-01,\n",
              "        -1.09571764e-01],\n",
              "       [ 9.99741684e-01,  8.60251305e-01,  1.88082949e-01,\n",
              "         6.52864291e-01],\n",
              "       [ 1.35513821e+00, -4.12480819e-01, -4.92068858e-01,\n",
              "         6.43195491e-01],\n",
              "       [-5.50565262e-01, -1.47150461e+00,  2.93728037e-01,\n",
              "        -8.23140470e-02],\n",
              "       [-2.80141174e+00,  1.40228806e+00,  8.41263094e-01,\n",
              "        -1.44889914e-01],\n",
              "       [-9.63349112e-02,  1.99735289e-01,  1.17125418e-02,\n",
              "         2.11370813e-01],\n",
              "       [-2.16903379e-01, -9.70124183e-01,  6.24870938e-01,\n",
              "        -2.20847793e-01],\n",
              "       [-2.10858541e+00,  1.42484670e+00,  1.04774671e-01,\n",
              "         1.31908831e-01],\n",
              "       [-2.07971417e+00, -6.11268624e-01, -1.38864998e-01,\n",
              "         1.84103743e-01],\n",
              "       [-6.29426664e-01,  3.21012967e-01, -2.40659234e-01,\n",
              "        -1.66651801e-01]])"
            ]
          },
          "metadata": {},
          "execution_count": 17
        }
      ]
    },
    {
      "cell_type": "markdown",
      "source": [
        "The `pca` object now includes a number of objects and functions, such as :\n",
        "* The components  (`components_`)\n",
        "* The table of explained variances (`explained_variance_` - proportional to the eigenvalues) by each dimension.\n",
        "* The ratio (proportion) of variance explained by dimension (`explained_variance_ratio_`).\n",
        "* and others ... (see [PCA documention](https://scikit-learn.org/stable/modules/generated/sklearn.decomposition.PCA.html))"
      ],
      "metadata": {
        "id": "v8gPjwZ3n2TH"
      }
    },
    {
      "cell_type": "markdown",
      "source": [
        "### 4.3 Explained variance\n",
        "The following instruction returns the variance explained by each of the PCA' dimension."
      ],
      "metadata": {
        "id": "KtnoQJFUo5Rg"
      }
    },
    {
      "cell_type": "code",
      "source": [
        "pca.explained_variance_"
      ],
      "metadata": {
        "colab": {
          "base_uri": "https://localhost:8080/"
        },
        "id": "MNb2BXeunvAR",
        "outputId": "b176f1ae-38e4-4b22-b6d4-6a23d4c12014"
      },
      "execution_count": 18,
      "outputs": [
        {
          "output_type": "execute_result",
          "data": {
            "text/plain": [
              "array([2.53085875, 1.00996444, 0.36383998, 0.17696948])"
            ]
          },
          "metadata": {},
          "execution_count": 18
        }
      ]
    },
    {
      "cell_type": "markdown",
      "metadata": {
        "id": "HpnBGkWk0wHm"
      },
      "source": [
        "But it's more understandable with the percentage of variance explained by each of the PCA' dimension."
      ]
    },
    {
      "cell_type": "code",
      "metadata": {
        "colab": {
          "base_uri": "https://localhost:8080/"
        },
        "outputId": "6e9491d3-fa17-4eec-ac34-7992f3c6e1bb",
        "id": "Ix-rIWiQ0wHm"
      },
      "source": [
        "pca.explained_variance_ratio_"
      ],
      "execution_count": 19,
      "outputs": [
        {
          "output_type": "execute_result",
          "data": {
            "text/plain": [
              "array([0.62006039, 0.24744129, 0.0891408 , 0.04335752])"
            ]
          },
          "metadata": {},
          "execution_count": 19
        }
      ]
    },
    {
      "cell_type": "markdown",
      "metadata": {
        "id": "aDr2BGGR0wHn"
      },
      "source": [
        "We may conclude that :\n",
        "* First dimension explains 62% of variance, \n",
        "* Second dimension explains 25% of variance, \n",
        "* Third dimension explains 9% of variance,\n",
        "* Fourth dimension explains 4% of variance."
      ]
    },
    {
      "cell_type": "markdown",
      "source": [
        "Let's resume this information in a structured data frame."
      ],
      "metadata": {
        "id": "H-BpqOi5qNvx"
      }
    },
    {
      "cell_type": "code",
      "source": [
        "df_variance = pd.DataFrame(\n",
        "    {\n",
        "        \"Dimension\" : [\"Dim\" + str(x + 1) for x in range(4)], \n",
        "        \"Explained variance\" : pca.explained_variance_,\n",
        "        \"% of explained variance\" : np.round(pca.explained_variance_ratio_ * 100),\n",
        "        \"Cumulated % of explained variance\" : np.round(np.cumsum(pca.explained_variance_ratio_) * 100)\n",
        "    }\n",
        ")\n",
        "df_variance.head()"
      ],
      "metadata": {
        "colab": {
          "base_uri": "https://localhost:8080/",
          "height": 174
        },
        "id": "Z7cmEYbvp8V0",
        "outputId": "18fa3a7e-2c95-4c66-eea3-e907cc78f356"
      },
      "execution_count": 20,
      "outputs": [
        {
          "output_type": "execute_result",
          "data": {
            "text/plain": [
              "  Dimension  Explained variance  % of explained variance  \\\n",
              "0      Dim1            2.530859                     62.0   \n",
              "1      Dim2            1.009964                     25.0   \n",
              "2      Dim3            0.363840                      9.0   \n",
              "3      Dim4            0.176969                      4.0   \n",
              "\n",
              "   Cumulated % of explained variance  \n",
              "0                               62.0  \n",
              "1                               87.0  \n",
              "2                               96.0  \n",
              "3                              100.0  "
            ],
            "text/html": [
              "\n",
              "  <div id=\"df-e522953b-3131-4ac0-acea-82852c087863\">\n",
              "    <div class=\"colab-df-container\">\n",
              "      <div>\n",
              "<style scoped>\n",
              "    .dataframe tbody tr th:only-of-type {\n",
              "        vertical-align: middle;\n",
              "    }\n",
              "\n",
              "    .dataframe tbody tr th {\n",
              "        vertical-align: top;\n",
              "    }\n",
              "\n",
              "    .dataframe thead th {\n",
              "        text-align: right;\n",
              "    }\n",
              "</style>\n",
              "<table border=\"1\" class=\"dataframe\">\n",
              "  <thead>\n",
              "    <tr style=\"text-align: right;\">\n",
              "      <th></th>\n",
              "      <th>Dimension</th>\n",
              "      <th>Explained variance</th>\n",
              "      <th>% of explained variance</th>\n",
              "      <th>Cumulated % of explained variance</th>\n",
              "    </tr>\n",
              "  </thead>\n",
              "  <tbody>\n",
              "    <tr>\n",
              "      <th>0</th>\n",
              "      <td>Dim1</td>\n",
              "      <td>2.530859</td>\n",
              "      <td>62.0</td>\n",
              "      <td>62.0</td>\n",
              "    </tr>\n",
              "    <tr>\n",
              "      <th>1</th>\n",
              "      <td>Dim2</td>\n",
              "      <td>1.009964</td>\n",
              "      <td>25.0</td>\n",
              "      <td>87.0</td>\n",
              "    </tr>\n",
              "    <tr>\n",
              "      <th>2</th>\n",
              "      <td>Dim3</td>\n",
              "      <td>0.363840</td>\n",
              "      <td>9.0</td>\n",
              "      <td>96.0</td>\n",
              "    </tr>\n",
              "    <tr>\n",
              "      <th>3</th>\n",
              "      <td>Dim4</td>\n",
              "      <td>0.176969</td>\n",
              "      <td>4.0</td>\n",
              "      <td>100.0</td>\n",
              "    </tr>\n",
              "  </tbody>\n",
              "</table>\n",
              "</div>\n",
              "      <button class=\"colab-df-convert\" onclick=\"convertToInteractive('df-e522953b-3131-4ac0-acea-82852c087863')\"\n",
              "              title=\"Convert this dataframe to an interactive table.\"\n",
              "              style=\"display:none;\">\n",
              "        \n",
              "  <svg xmlns=\"http://www.w3.org/2000/svg\" height=\"24px\"viewBox=\"0 0 24 24\"\n",
              "       width=\"24px\">\n",
              "    <path d=\"M0 0h24v24H0V0z\" fill=\"none\"/>\n",
              "    <path d=\"M18.56 5.44l.94 2.06.94-2.06 2.06-.94-2.06-.94-.94-2.06-.94 2.06-2.06.94zm-11 1L8.5 8.5l.94-2.06 2.06-.94-2.06-.94L8.5 2.5l-.94 2.06-2.06.94zm10 10l.94 2.06.94-2.06 2.06-.94-2.06-.94-.94-2.06-.94 2.06-2.06.94z\"/><path d=\"M17.41 7.96l-1.37-1.37c-.4-.4-.92-.59-1.43-.59-.52 0-1.04.2-1.43.59L10.3 9.45l-7.72 7.72c-.78.78-.78 2.05 0 2.83L4 21.41c.39.39.9.59 1.41.59.51 0 1.02-.2 1.41-.59l7.78-7.78 2.81-2.81c.8-.78.8-2.07 0-2.86zM5.41 20L4 18.59l7.72-7.72 1.47 1.35L5.41 20z\"/>\n",
              "  </svg>\n",
              "      </button>\n",
              "      \n",
              "  <style>\n",
              "    .colab-df-container {\n",
              "      display:flex;\n",
              "      flex-wrap:wrap;\n",
              "      gap: 12px;\n",
              "    }\n",
              "\n",
              "    .colab-df-convert {\n",
              "      background-color: #E8F0FE;\n",
              "      border: none;\n",
              "      border-radius: 50%;\n",
              "      cursor: pointer;\n",
              "      display: none;\n",
              "      fill: #1967D2;\n",
              "      height: 32px;\n",
              "      padding: 0 0 0 0;\n",
              "      width: 32px;\n",
              "    }\n",
              "\n",
              "    .colab-df-convert:hover {\n",
              "      background-color: #E2EBFA;\n",
              "      box-shadow: 0px 1px 2px rgba(60, 64, 67, 0.3), 0px 1px 3px 1px rgba(60, 64, 67, 0.15);\n",
              "      fill: #174EA6;\n",
              "    }\n",
              "\n",
              "    [theme=dark] .colab-df-convert {\n",
              "      background-color: #3B4455;\n",
              "      fill: #D2E3FC;\n",
              "    }\n",
              "\n",
              "    [theme=dark] .colab-df-convert:hover {\n",
              "      background-color: #434B5C;\n",
              "      box-shadow: 0px 1px 3px 1px rgba(0, 0, 0, 0.15);\n",
              "      filter: drop-shadow(0px 1px 2px rgba(0, 0, 0, 0.3));\n",
              "      fill: #FFFFFF;\n",
              "    }\n",
              "  </style>\n",
              "\n",
              "      <script>\n",
              "        const buttonEl =\n",
              "          document.querySelector('#df-e522953b-3131-4ac0-acea-82852c087863 button.colab-df-convert');\n",
              "        buttonEl.style.display =\n",
              "          google.colab.kernel.accessAllowed ? 'block' : 'none';\n",
              "\n",
              "        async function convertToInteractive(key) {\n",
              "          const element = document.querySelector('#df-e522953b-3131-4ac0-acea-82852c087863');\n",
              "          const dataTable =\n",
              "            await google.colab.kernel.invokeFunction('convertToInteractive',\n",
              "                                                     [key], {});\n",
              "          if (!dataTable) return;\n",
              "\n",
              "          const docLinkHtml = 'Like what you see? Visit the ' +\n",
              "            '<a target=\"_blank\" href=https://colab.research.google.com/notebooks/data_table.ipynb>data table notebook</a>'\n",
              "            + ' to learn more about interactive tables.';\n",
              "          element.innerHTML = '';\n",
              "          dataTable['output_type'] = 'display_data';\n",
              "          await google.colab.output.renderOutput(dataTable, element);\n",
              "          const docLink = document.createElement('div');\n",
              "          docLink.innerHTML = docLinkHtml;\n",
              "          element.appendChild(docLink);\n",
              "        }\n",
              "      </script>\n",
              "    </div>\n",
              "  </div>\n",
              "  "
            ]
          },
          "metadata": {},
          "execution_count": 20
        }
      ]
    },
    {
      "cell_type": "markdown",
      "source": [
        "### 4.4 Number of dimensions"
      ],
      "metadata": {
        "id": "G3Wb1f8MsiFh"
      }
    },
    {
      "cell_type": "markdown",
      "source": [
        "And finally the choice of the number of dimensions may be done thanks to this plot, named **scree plot** (*graph des éboulis* in French). "
      ],
      "metadata": {
        "id": "3Tna5HZqsdVB"
      }
    },
    {
      "cell_type": "code",
      "source": [
        "df_variance.plot.bar(x = \"Dimension\", y = \"% of explained variance\", figsize=(8, 6))"
      ],
      "metadata": {
        "colab": {
          "base_uri": "https://localhost:8080/",
          "height": 431
        },
        "id": "EQn548zfspDA",
        "outputId": "1fc5da4e-fe37-4b25-8bc0-e74cf4cd6bb0"
      },
      "execution_count": 21,
      "outputs": [
        {
          "output_type": "execute_result",
          "data": {
            "text/plain": [
              "<matplotlib.axes._subplots.AxesSubplot at 0x7f880daf8c10>"
            ]
          },
          "metadata": {},
          "execution_count": 21
        },
        {
          "output_type": "display_data",
          "data": {
            "text/plain": [
              "<Figure size 576x432 with 1 Axes>"
            ],
            "image/png": "[encoded data removed]"
          },
          "metadata": {
            "needs_background": "light"
          }
        }
      ]
    },
    {
      "cell_type": "markdown",
      "source": [
        "We may conclude that 2 dimensions is enough to explained most of the global variance :\n",
        "* The first 2 dimensions explain 87%.\n",
        "* The gain obtained with the third dimension is marginal, since we observe a gap between dimension 2 and 3."
      ],
      "metadata": {
        "id": "HdtCFKYCtAHA"
      }
    },
    {
      "cell_type": "markdown",
      "source": [
        "### 4.5 Row analysis\n"
      ],
      "metadata": {
        "id": "F31cGldtXFmd"
      }
    },
    {
      "cell_type": "markdown",
      "source": [
        "Let's resume this information in a structured data frame for the first 2 dimensions."
      ],
      "metadata": {
        "id": "CAmq8z7ZXs4b"
      }
    },
    {
      "cell_type": "code",
      "source": [
        "df_pca = pd.DataFrame(\n",
        "    {\n",
        "      \"Dim1\" : data_pca[:,0], \n",
        "      \"Dim2\" : data_pca[:,1],\n",
        "      \"State\" : df.index\n",
        "    }\n",
        ")\n",
        "df_pca.head()"
      ],
      "metadata": {
        "colab": {
          "base_uri": "https://localhost:8080/",
          "height": 206
        },
        "outputId": "decb55f3-048d-43a7-8db2-0b179c9b7105",
        "id": "j9G7S6qlXs4c"
      },
      "execution_count": 22,
      "outputs": [
        {
          "output_type": "execute_result",
          "data": {
            "text/plain": [
              "       Dim1      Dim2       State\n",
              "0  0.985566  1.133392     Alabama\n",
              "1  1.950138  1.073213      Alaska\n",
              "2  1.763164 -0.745957     Arizona\n",
              "3 -0.141420  1.119797    Arkansas\n",
              "4  2.523980 -1.542934  California"
            ],
            "text/html": [
              "\n",
              "  <div id=\"df-9d476172-062b-4df1-b6a7-8708fb527469\">\n",
              "    <div class=\"colab-df-container\">\n",
              "      <div>\n",
              "<style scoped>\n",
              "    .dataframe tbody tr th:only-of-type {\n",
              "        vertical-align: middle;\n",
              "    }\n",
              "\n",
              "    .dataframe tbody tr th {\n",
              "        vertical-align: top;\n",
              "    }\n",
              "\n",
              "    .dataframe thead th {\n",
              "        text-align: right;\n",
              "    }\n",
              "</style>\n",
              "<table border=\"1\" class=\"dataframe\">\n",
              "  <thead>\n",
              "    <tr style=\"text-align: right;\">\n",
              "      <th></th>\n",
              "      <th>Dim1</th>\n",
              "      <th>Dim2</th>\n",
              "      <th>State</th>\n",
              "    </tr>\n",
              "  </thead>\n",
              "  <tbody>\n",
              "    <tr>\n",
              "      <th>0</th>\n",
              "      <td>0.985566</td>\n",
              "      <td>1.133392</td>\n",
              "      <td>Alabama</td>\n",
              "    </tr>\n",
              "    <tr>\n",
              "      <th>1</th>\n",
              "      <td>1.950138</td>\n",
              "      <td>1.073213</td>\n",
              "      <td>Alaska</td>\n",
              "    </tr>\n",
              "    <tr>\n",
              "      <th>2</th>\n",
              "      <td>1.763164</td>\n",
              "      <td>-0.745957</td>\n",
              "      <td>Arizona</td>\n",
              "    </tr>\n",
              "    <tr>\n",
              "      <th>3</th>\n",
              "      <td>-0.141420</td>\n",
              "      <td>1.119797</td>\n",
              "      <td>Arkansas</td>\n",
              "    </tr>\n",
              "    <tr>\n",
              "      <th>4</th>\n",
              "      <td>2.523980</td>\n",
              "      <td>-1.542934</td>\n",
              "      <td>California</td>\n",
              "    </tr>\n",
              "  </tbody>\n",
              "</table>\n",
              "</div>\n",
              "      <button class=\"colab-df-convert\" onclick=\"convertToInteractive('df-9d476172-062b-4df1-b6a7-8708fb527469')\"\n",
              "              title=\"Convert this dataframe to an interactive table.\"\n",
              "              style=\"display:none;\">\n",
              "        \n",
              "  <svg xmlns=\"http://www.w3.org/2000/svg\" height=\"24px\"viewBox=\"0 0 24 24\"\n",
              "       width=\"24px\">\n",
              "    <path d=\"M0 0h24v24H0V0z\" fill=\"none\"/>\n",
              "    <path d=\"M18.56 5.44l.94 2.06.94-2.06 2.06-.94-2.06-.94-.94-2.06-.94 2.06-2.06.94zm-11 1L8.5 8.5l.94-2.06 2.06-.94-2.06-.94L8.5 2.5l-.94 2.06-2.06.94zm10 10l.94 2.06.94-2.06 2.06-.94-2.06-.94-.94-2.06-.94 2.06-2.06.94z\"/><path d=\"M17.41 7.96l-1.37-1.37c-.4-.4-.92-.59-1.43-.59-.52 0-1.04.2-1.43.59L10.3 9.45l-7.72 7.72c-.78.78-.78 2.05 0 2.83L4 21.41c.39.39.9.59 1.41.59.51 0 1.02-.2 1.41-.59l7.78-7.78 2.81-2.81c.8-.78.8-2.07 0-2.86zM5.41 20L4 18.59l7.72-7.72 1.47 1.35L5.41 20z\"/>\n",
              "  </svg>\n",
              "      </button>\n",
              "      \n",
              "  <style>\n",
              "    .colab-df-container {\n",
              "      display:flex;\n",
              "      flex-wrap:wrap;\n",
              "      gap: 12px;\n",
              "    }\n",
              "\n",
              "    .colab-df-convert {\n",
              "      background-color: #E8F0FE;\n",
              "      border: none;\n",
              "      border-radius: 50%;\n",
              "      cursor: pointer;\n",
              "      display: none;\n",
              "      fill: #1967D2;\n",
              "      height: 32px;\n",
              "      padding: 0 0 0 0;\n",
              "      width: 32px;\n",
              "    }\n",
              "\n",
              "    .colab-df-convert:hover {\n",
              "      background-color: #E2EBFA;\n",
              "      box-shadow: 0px 1px 2px rgba(60, 64, 67, 0.3), 0px 1px 3px 1px rgba(60, 64, 67, 0.15);\n",
              "      fill: #174EA6;\n",
              "    }\n",
              "\n",
              "    [theme=dark] .colab-df-convert {\n",
              "      background-color: #3B4455;\n",
              "      fill: #D2E3FC;\n",
              "    }\n",
              "\n",
              "    [theme=dark] .colab-df-convert:hover {\n",
              "      background-color: #434B5C;\n",
              "      box-shadow: 0px 1px 3px 1px rgba(0, 0, 0, 0.15);\n",
              "      filter: drop-shadow(0px 1px 2px rgba(0, 0, 0, 0.3));\n",
              "      fill: #FFFFFF;\n",
              "    }\n",
              "  </style>\n",
              "\n",
              "      <script>\n",
              "        const buttonEl =\n",
              "          document.querySelector('#df-9d476172-062b-4df1-b6a7-8708fb527469 button.colab-df-convert');\n",
              "        buttonEl.style.display =\n",
              "          google.colab.kernel.accessAllowed ? 'block' : 'none';\n",
              "\n",
              "        async function convertToInteractive(key) {\n",
              "          const element = document.querySelector('#df-9d476172-062b-4df1-b6a7-8708fb527469');\n",
              "          const dataTable =\n",
              "            await google.colab.kernel.invokeFunction('convertToInteractive',\n",
              "                                                     [key], {});\n",
              "          if (!dataTable) return;\n",
              "\n",
              "          const docLinkHtml = 'Like what you see? Visit the ' +\n",
              "            '<a target=\"_blank\" href=https://colab.research.google.com/notebooks/data_table.ipynb>data table notebook</a>'\n",
              "            + ' to learn more about interactive tables.';\n",
              "          element.innerHTML = '';\n",
              "          dataTable['output_type'] = 'display_data';\n",
              "          await google.colab.output.renderOutput(dataTable, element);\n",
              "          const docLink = document.createElement('div');\n",
              "          docLink.innerHTML = docLinkHtml;\n",
              "          element.appendChild(docLink);\n",
              "        }\n",
              "      </script>\n",
              "    </div>\n",
              "  </div>\n",
              "  "
            ]
          },
          "metadata": {},
          "execution_count": 22
        }
      ]
    },
    {
      "cell_type": "markdown",
      "source": [
        "Let's visualize the data points of the first factoriel map (i.e. dimensions 1 & 2)."
      ],
      "metadata": {
        "id": "yvozkQwys7Lo"
      }
    },
    {
      "cell_type": "code",
      "source": [
        "df_pca.plot.scatter(\"Dim1\", \"Dim2\", figsize=(9, 9))\n",
        "plt.xlabel(\"Dimension 1 (62%)\")\n",
        "plt.ylabel(\"Dimension 2 (25%)\")\n",
        "plt.suptitle(\"First factoriel map (87%)\")\n",
        "plt.show()"
      ],
      "metadata": {
        "colab": {
          "base_uri": "https://localhost:8080/",
          "height": 659
        },
        "id": "ELC4ueizYE5m",
        "outputId": "2d68c67d-59a4-4942-e9b7-b3feeeadcb10"
      },
      "execution_count": 23,
      "outputs": [
        {
          "output_type": "stream",
          "name": "stderr",
          "text": [
            "*c* argument looks like a single numeric RGB or RGBA sequence, which should be avoided as value-mapping will have precedence in case its length matches with *x* & *y*.  Please use the *color* keyword-argument or provide a 2-D array with a single row if you intend to specify the same RGB or RGBA value for all points.\n"
          ]
        },
        {
          "output_type": "display_data",
          "data": {
            "text/plain": [
              "<Figure size 648x648 with 1 Axes>"
            ],
            "image/png": "[encoded data removed]"
          },
          "metadata": {
            "needs_background": "light"
          }
        }
      ]
    },
    {
      "cell_type": "markdown",
      "source": [
        "Let's visualize only the states for which the contribution is the most important.  \n",
        "Contribution means they have a siginificant effect to the dimension creation.\n",
        "\n"
      ],
      "metadata": {
        "id": "8om9ZMQttHX6"
      }
    },
    {
      "cell_type": "code",
      "source": [
        "# subplots for plot annotation\n",
        "fig, ax = plt.subplots()\n",
        "df_pca.plot.scatter(\"Dim1\", \"Dim2\", ax = ax, figsize=(9, 9)) # option ax for points text on the same plot\n",
        "\n",
        "# loop on each state\n",
        "for k in df_pca.iterrows():\n",
        "    # annotation only if significant contribution on the 2 dimensions (tresholds empirically choosen)\n",
        "    if (abs(k[1]['Dim1']) > 2) | (abs(k[1]['Dim2']) > 1.5):\n",
        "        ax.annotate(k[1][\"State\"], (k[1]['Dim1'], k[1]['Dim2']), fontsize = 9)\n",
        "plt.xlabel(\"Dimension 1 (62%)\")\n",
        "plt.ylabel(\"Dimension 2 (25%)\")\n",
        "plt.suptitle(\"First factoriel plan (87%)\")\n",
        "plt.figure(figsize=(14, 10))\n",
        "plt.show()"
      ],
      "metadata": {
        "colab": {
          "base_uri": "https://localhost:8080/",
          "height": 678
        },
        "id": "3pC_2micYbNg",
        "outputId": "8b63e721-f846-4000-86a8-c98fd8fb313e"
      },
      "execution_count": 24,
      "outputs": [
        {
          "output_type": "stream",
          "name": "stderr",
          "text": [
            "*c* argument looks like a single numeric RGB or RGBA sequence, which should be avoided as value-mapping will have precedence in case its length matches with *x* & *y*.  Please use the *color* keyword-argument or provide a 2-D array with a single row if you intend to specify the same RGB or RGBA value for all points.\n"
          ]
        },
        {
          "output_type": "display_data",
          "data": {
            "text/plain": [
              "<Figure size 648x648 with 1 Axes>"
            ],
            "image/png": "[encoded data removed]"
          },
          "metadata": {
            "needs_background": "light"
          }
        },
        {
          "output_type": "display_data",
          "data": {
            "text/plain": [
              "<Figure size 1008x720 with 0 Axes>"
            ]
          },
          "metadata": {}
        }
      ]
    },
    {
      "cell_type": "markdown",
      "source": [
        "### 4.6 Feature analysis\n",
        "PCA made in an exploratory context (and not of compression) necessary needs to describe the axes from the variables, in order to understand what they represent.  \n",
        "For this, we should realize the circle of correlations."
      ],
      "metadata": {
        "id": "lXYj1KvsZMOL"
      }
    },
    {
      "cell_type": "code",
      "source": [
        "n = df.shape[0] # nb data points\n",
        "p = df.shape[1] # nb features\n",
        "\n",
        "eigval = (n-1) / n * pca.explained_variance_ # eigen values\n",
        "sqrt_eigval = np.sqrt(eigval) # square root of eigen values\n",
        "corvar = np.zeros((p,p)) # empty matrix\n",
        "\n",
        "# loop for matrix filling\n",
        "for k in range(p): \n",
        "    corvar[:,k] = pca.components_[k,:] * sqrt_eigval[k]\n",
        "\n",
        "# dataframe\n",
        "coordvar = pd.DataFrame({'id': df.columns, 'COR_1': corvar[:,0], 'COR_2': corvar[:,1]})\n",
        "coordvar"
      ],
      "metadata": {
        "colab": {
          "base_uri": "https://localhost:8080/",
          "height": 174
        },
        "id": "wjg4_JyRXmry",
        "outputId": "58ab5892-4c38-47b0-cd43-8784520bd05b"
      },
      "execution_count": 25,
      "outputs": [
        {
          "output_type": "execute_result",
          "data": {
            "text/plain": [
              "         id     COR_1     COR_2\n",
              "0    Murder  0.843976  0.416035\n",
              "1   Assault  0.918443  0.187021\n",
              "2  UrbanPop  0.438117 -0.868328\n",
              "3      Rape  0.855839 -0.166460"
            ],
            "text/html": [
              "\n",
              "  <div id=\"df-4993dd22-ac31-410e-a755-d9cab394f86e\">\n",
              "    <div class=\"colab-df-container\">\n",
              "      <div>\n",
              "<style scoped>\n",
              "    .dataframe tbody tr th:only-of-type {\n",
              "        vertical-align: middle;\n",
              "    }\n",
              "\n",
              "    .dataframe tbody tr th {\n",
              "        vertical-align: top;\n",
              "    }\n",
              "\n",
              "    .dataframe thead th {\n",
              "        text-align: right;\n",
              "    }\n",
              "</style>\n",
              "<table border=\"1\" class=\"dataframe\">\n",
              "  <thead>\n",
              "    <tr style=\"text-align: right;\">\n",
              "      <th></th>\n",
              "      <th>id</th>\n",
              "      <th>COR_1</th>\n",
              "      <th>COR_2</th>\n",
              "    </tr>\n",
              "  </thead>\n",
              "  <tbody>\n",
              "    <tr>\n",
              "      <th>0</th>\n",
              "      <td>Murder</td>\n",
              "      <td>0.843976</td>\n",
              "      <td>0.416035</td>\n",
              "    </tr>\n",
              "    <tr>\n",
              "      <th>1</th>\n",
              "      <td>Assault</td>\n",
              "      <td>0.918443</td>\n",
              "      <td>0.187021</td>\n",
              "    </tr>\n",
              "    <tr>\n",
              "      <th>2</th>\n",
              "      <td>UrbanPop</td>\n",
              "      <td>0.438117</td>\n",
              "      <td>-0.868328</td>\n",
              "    </tr>\n",
              "    <tr>\n",
              "      <th>3</th>\n",
              "      <td>Rape</td>\n",
              "      <td>0.855839</td>\n",
              "      <td>-0.166460</td>\n",
              "    </tr>\n",
              "  </tbody>\n",
              "</table>\n",
              "</div>\n",
              "      <button class=\"colab-df-convert\" onclick=\"convertToInteractive('df-4993dd22-ac31-410e-a755-d9cab394f86e')\"\n",
              "              title=\"Convert this dataframe to an interactive table.\"\n",
              "              style=\"display:none;\">\n",
              "        \n",
              "  <svg xmlns=\"http://www.w3.org/2000/svg\" height=\"24px\"viewBox=\"0 0 24 24\"\n",
              "       width=\"24px\">\n",
              "    <path d=\"M0 0h24v24H0V0z\" fill=\"none\"/>\n",
              "    <path d=\"M18.56 5.44l.94 2.06.94-2.06 2.06-.94-2.06-.94-.94-2.06-.94 2.06-2.06.94zm-11 1L8.5 8.5l.94-2.06 2.06-.94-2.06-.94L8.5 2.5l-.94 2.06-2.06.94zm10 10l.94 2.06.94-2.06 2.06-.94-2.06-.94-.94-2.06-.94 2.06-2.06.94z\"/><path d=\"M17.41 7.96l-1.37-1.37c-.4-.4-.92-.59-1.43-.59-.52 0-1.04.2-1.43.59L10.3 9.45l-7.72 7.72c-.78.78-.78 2.05 0 2.83L4 21.41c.39.39.9.59 1.41.59.51 0 1.02-.2 1.41-.59l7.78-7.78 2.81-2.81c.8-.78.8-2.07 0-2.86zM5.41 20L4 18.59l7.72-7.72 1.47 1.35L5.41 20z\"/>\n",
              "  </svg>\n",
              "      </button>\n",
              "      \n",
              "  <style>\n",
              "    .colab-df-container {\n",
              "      display:flex;\n",
              "      flex-wrap:wrap;\n",
              "      gap: 12px;\n",
              "    }\n",
              "\n",
              "    .colab-df-convert {\n",
              "      background-color: #E8F0FE;\n",
              "      border: none;\n",
              "      border-radius: 50%;\n",
              "      cursor: pointer;\n",
              "      display: none;\n",
              "      fill: #1967D2;\n",
              "      height: 32px;\n",
              "      padding: 0 0 0 0;\n",
              "      width: 32px;\n",
              "    }\n",
              "\n",
              "    .colab-df-convert:hover {\n",
              "      background-color: #E2EBFA;\n",
              "      box-shadow: 0px 1px 2px rgba(60, 64, 67, 0.3), 0px 1px 3px 1px rgba(60, 64, 67, 0.15);\n",
              "      fill: #174EA6;\n",
              "    }\n",
              "\n",
              "    [theme=dark] .colab-df-convert {\n",
              "      background-color: #3B4455;\n",
              "      fill: #D2E3FC;\n",
              "    }\n",
              "\n",
              "    [theme=dark] .colab-df-convert:hover {\n",
              "      background-color: #434B5C;\n",
              "      box-shadow: 0px 1px 3px 1px rgba(0, 0, 0, 0.15);\n",
              "      filter: drop-shadow(0px 1px 2px rgba(0, 0, 0, 0.3));\n",
              "      fill: #FFFFFF;\n",
              "    }\n",
              "  </style>\n",
              "\n",
              "      <script>\n",
              "        const buttonEl =\n",
              "          document.querySelector('#df-4993dd22-ac31-410e-a755-d9cab394f86e button.colab-df-convert');\n",
              "        buttonEl.style.display =\n",
              "          google.colab.kernel.accessAllowed ? 'block' : 'none';\n",
              "\n",
              "        async function convertToInteractive(key) {\n",
              "          const element = document.querySelector('#df-4993dd22-ac31-410e-a755-d9cab394f86e');\n",
              "          const dataTable =\n",
              "            await google.colab.kernel.invokeFunction('convertToInteractive',\n",
              "                                                     [key], {});\n",
              "          if (!dataTable) return;\n",
              "\n",
              "          const docLinkHtml = 'Like what you see? Visit the ' +\n",
              "            '<a target=\"_blank\" href=https://colab.research.google.com/notebooks/data_table.ipynb>data table notebook</a>'\n",
              "            + ' to learn more about interactive tables.';\n",
              "          element.innerHTML = '';\n",
              "          dataTable['output_type'] = 'display_data';\n",
              "          await google.colab.output.renderOutput(dataTable, element);\n",
              "          const docLink = document.createElement('div');\n",
              "          docLink.innerHTML = docLinkHtml;\n",
              "          element.appendChild(docLink);\n",
              "        }\n",
              "      </script>\n",
              "    </div>\n",
              "  </div>\n",
              "  "
            ]
          },
          "metadata": {},
          "execution_count": 25
        }
      ]
    },
    {
      "cell_type": "code",
      "source": [
        "# First plot with fixed coordinates (-1 and +1)\n",
        "fig, axes = plt.subplots(figsize = (9,9))\n",
        "fig.suptitle(\"Correlation plot\")\n",
        "axes.set_xlim(-1, 1)\n",
        "axes.set_ylim(-1, 1)\n",
        "\n",
        "# Axis\n",
        "axes.axvline(x = 0, color = 'lightgray', linestyle = '--', linewidth = 1)\n",
        "axes.axhline(y = 0, color = 'lightgray', linestyle = '--', linewidth = 1)\n",
        "\n",
        "# Names of features\n",
        "for j in range(p):\n",
        "    axes.text(x=coordvar[\"COR_1\"][j], y=coordvar[\"COR_2\"][j], s=coordvar[\"id\"][j], fontsize=14)\n",
        "    plt.arrow(0, 0, coordvar[\"COR_1\"][j], coordvar[\"COR_2\"][j], color = 'black', fc=\"k\", ec=\"k\", head_width=0.03, head_length=0.02, alpha = 0.6)\n",
        "\n",
        "# Circle (0, 1)\n",
        "plt.gca().add_artist(plt.Circle((0,0),1,color='blue',fill=False))\n",
        "plt.show()"
      ],
      "metadata": {
        "colab": {
          "base_uri": "https://localhost:8080/",
          "height": 604
        },
        "id": "NkHJkIdKZnT1",
        "outputId": "ae550a0a-5ec1-4223-e838-4460ecb5b0ad"
      },
      "execution_count": 26,
      "outputs": [
        {
          "output_type": "display_data",
          "data": {
            "text/plain": [
              "<Figure size 648x648 with 1 Axes>"
            ],
            "image/png": "[encoded data removed]"
          },
          "metadata": {
            "needs_background": "light"
          }
        }
      ]
    },
    {
      "cell_type": "markdown",
      "source": [
        "### 4.7 PCA interpretation\n",
        "From the last sections we may interprate the PCA' results as following :\n",
        "* First dimension represents the global criminality.\n",
        "* Second dimenion represents the state' urbanisation.\n",
        "* The state of California has a high urban population and a high criminality level.\n",
        "* At the opposite, the state of Vermont has a low urban population and a low criminality level."
      ],
      "metadata": {
        "id": "13WLdVw9wtIt"
      }
    },
    {
      "cell_type": "markdown",
      "source": [
        "## 5.Conclusions\n",
        "* We have seen the use of principal component analysis for dimensionality reduction, for visualization and for feature selection.  \n",
        "* PCA may be a good start in order to visualize the relationship between points, to understand the main variance in the data and to understand the intrinsic dimensionality.  \n",
        "* Certainly PCA is not useful for every high-dimensional dataset, but it offers a straightforward and efficient path to gaining insight into high-dimensional data."
      ],
      "metadata": {
        "id": "DzBXN2OTyTnt"
      }
    },
    {
      "cell_type": "markdown",
      "source": [
        "## 6.Ressources\n",
        "* Python Data Science Handbook [In Depth: Principal Component Analysis](https://github.com/jakevdp/PythonDataScienceHandbook/blob/master/notebooks/05.09-Principal-Component-Analysis.ipynb)\n",
        "* FX Jollois - [Analyse de données sous Python](https://fxjollois.github.io/cours-2019-2020/lp-iot--python-ds/seance2-ACP-classif.html)"
      ],
      "metadata": {
        "id": "vEGEEUN1zSMp"
      }
    }
  ]
}