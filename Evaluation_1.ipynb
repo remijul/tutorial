{
  "nbformat": 4,
  "nbformat_minor": 0,
  "metadata": {
    "colab": {
      "name": "Evaluation_1.ipynb",
      "provenance": [],
      "collapsed_sections": [],
      "include_colab_link": true
    },
    "kernelspec": {
      "name": "python3",
      "display_name": "Python 3"
    }
  },
  "cells": [
    {
      "cell_type": "markdown",
      "metadata": {
        "id": "view-in-github",
        "colab_type": "text"
      },
      "source": [
        "<a href=\"https://colab.research.google.com/github/remijul/tutorial/blob/master/Evaluation_1.ipynb\" target=\"_parent\"><img src=\"https://colab.research.google.com/assets/colab-badge.svg\" alt=\"Open In Colab\"/></a>"
      ]
    },
    {
      "cell_type": "markdown",
      "metadata": {
        "id": "pJsqufvk5fOq"
      },
      "source": [
        "# Dev IA - Evaluation n°1 - Mars 2022\n",
        "Ceci est un point d'étape pour évaluer les compétences acquises à ce stade. \n",
        "  \n",
        "Faites une copie de ce notebook, modifiez-le librement puis partager votre travail en fin de session sur Simplonline (veuillez vous assurer que les accès à votre document sont autorisés à des tiers).\n"
      ]
    },
    {
      "cell_type": "markdown",
      "source": [
        "## Objectifs\n",
        "Pour toute les étapes ci-dessous il vous est demandé d'**argumenter vos choix** et d'**expliquer les résultats** obtenus."
      ],
      "metadata": {
        "id": "NL7TYnxCsIf9"
      }
    },
    {
      "cell_type": "markdown",
      "source": [
        "* Réaliser une EDA (Exploratory Data Analysis) sur le jeu de données\n",
        "  - Descrire les données\n",
        "  - Réaliser une analyse univariée et bivariée\n",
        "\n",
        "* Réaliser le preprocessing des données\n",
        "  - Gérer les données manquantes\n",
        "  - Procéder à la normalisation / encodage\n",
        "\n",
        "* Entrainer un modèle d'apprentissage supervisé\n",
        "  - Choisir un modèle répondant aux objectifs du projet\n",
        "  - Définir les paramètres du modèle\n",
        "  - Utiliser la validation croisée\n",
        "\n",
        "* Evaluer le modèle\n",
        "  - Choisir la ou les métriques d'erreur\n",
        "  - Valider les performances obtenues\n",
        "\n",
        "* Conclure\n",
        "  - Réalisation du projet\n",
        "  - Difficultés\n",
        "  - Performance\n",
        "  - ...\n"
      ],
      "metadata": {
        "id": "XJKGONpNZ2yq"
      }
    },
    {
      "cell_type": "markdown",
      "source": [
        "## Bonus\n",
        "Pour ceux qui veulent aller plus loin, vous pouvez notamment :"
      ],
      "metadata": {
        "id": "czz8lt5vtN38"
      }
    },
    {
      "cell_type": "markdown",
      "source": [
        "* Utiliser un Pipeline\n",
        "* Procéder à une recherche exhaustive des hyper-paramètres (grid search)\n",
        "* Procéder à une comparaison de modèles\n",
        "* Réaliser une prédiction sur des nouvelles données\n",
        "* Restituer des graphiques pour améliorer la compréhension du projet\n",
        "* Laisser parler votre intuition ..."
      ],
      "metadata": {
        "id": "Ua0qvJPmZ24p"
      }
    },
    {
      "cell_type": "markdown",
      "metadata": {
        "id": "YO9riWqL886F"
      },
      "source": [
        "##Le jeu de données\n",
        "Le jeu de données est disponible ci-dessous.  \n",
        "Il concerne le recensement d'animaux marins (dauphins) selon différentes caractéristiques :\n",
        "* la cible à prédire est la colonne `variety`\n",
        "* les features (numériques et catégorielles) sont toutes les autres colonnes :\n",
        "  - `area` : zone géographique où l'animal réside\n",
        "  - `dimension_1_mm` : dimension n°1 de l'animal\n",
        "  - `dimension_2_mm` : dimension n°2 de l'animal\n",
        "  - `dimension_3_mm` : dimension n°3 de l'animal\n",
        "  - `mass_g` : masse de l'animal\n",
        "  - `sex` : genre de l'animal"
      ]
    },
    {
      "cell_type": "code",
      "metadata": {
        "id": "U4GqLhGX5Yth",
        "colab": {
          "base_uri": "https://localhost:8080/",
          "height": 206
        },
        "outputId": "09535dec-b9b8-4010-ad8f-9a12775345ec"
      },
      "source": [
        "import pandas as pd\n",
        "url = \"https://raw.githubusercontent.com/remijul/dataset/master/dolphins.csv\"\n",
        "df = pd.read_csv(url)\n",
        "df.head()"
      ],
      "execution_count": null,
      "outputs": [
        {
          "output_type": "execute_result",
          "data": {
            "text/plain": [
              "      variety   area  dimension_1_mm  dimension_2_mm  dimension_3_mm  mass_g  \\\n",
              "0  Tropicalis  Artic            39.1            18.7           181.0  3750.0   \n",
              "1  Tropicalis  Artic            39.5            17.4           186.0  3800.0   \n",
              "2  Tropicalis  Artic            40.3            18.0           195.0  3250.0   \n",
              "3  Tropicalis  Artic             NaN             NaN             NaN     NaN   \n",
              "4  Tropicalis  Artic            36.7            19.3           193.0  3450.0   \n",
              "\n",
              "      sex  \n",
              "0    MALE  \n",
              "1  FEMALE  \n",
              "2  FEMALE  \n",
              "3     NaN  \n",
              "4  FEMALE  "
            ],
            "text/html": [
              "\n",
              "  <div id=\"df-10acc97f-3e81-4b1f-9ad6-24ab84a0b312\">\n",
              "    <div class=\"colab-df-container\">\n",
              "      <div>\n",
              "<style scoped>\n",
              "    .dataframe tbody tr th:only-of-type {\n",
              "        vertical-align: middle;\n",
              "    }\n",
              "\n",
              "    .dataframe tbody tr th {\n",
              "        vertical-align: top;\n",
              "    }\n",
              "\n",
              "    .dataframe thead th {\n",
              "        text-align: right;\n",
              "    }\n",
              "</style>\n",
              "<table border=\"1\" class=\"dataframe\">\n",
              "  <thead>\n",
              "    <tr style=\"text-align: right;\">\n",
              "      <th></th>\n",
              "      <th>variety</th>\n",
              "      <th>area</th>\n",
              "      <th>dimension_1_mm</th>\n",
              "      <th>dimension_2_mm</th>\n",
              "      <th>dimension_3_mm</th>\n",
              "      <th>mass_g</th>\n",
              "      <th>sex</th>\n",
              "    </tr>\n",
              "  </thead>\n",
              "  <tbody>\n",
              "    <tr>\n",
              "      <th>0</th>\n",
              "      <td>Tropicalis</td>\n",
              "      <td>Artic</td>\n",
              "      <td>39.1</td>\n",
              "      <td>18.7</td>\n",
              "      <td>181.0</td>\n",
              "      <td>3750.0</td>\n",
              "      <td>MALE</td>\n",
              "    </tr>\n",
              "    <tr>\n",
              "      <th>1</th>\n",
              "      <td>Tropicalis</td>\n",
              "      <td>Artic</td>\n",
              "      <td>39.5</td>\n",
              "      <td>17.4</td>\n",
              "      <td>186.0</td>\n",
              "      <td>3800.0</td>\n",
              "      <td>FEMALE</td>\n",
              "    </tr>\n",
              "    <tr>\n",
              "      <th>2</th>\n",
              "      <td>Tropicalis</td>\n",
              "      <td>Artic</td>\n",
              "      <td>40.3</td>\n",
              "      <td>18.0</td>\n",
              "      <td>195.0</td>\n",
              "      <td>3250.0</td>\n",
              "      <td>FEMALE</td>\n",
              "    </tr>\n",
              "    <tr>\n",
              "      <th>3</th>\n",
              "      <td>Tropicalis</td>\n",
              "      <td>Artic</td>\n",
              "      <td>NaN</td>\n",
              "      <td>NaN</td>\n",
              "      <td>NaN</td>\n",
              "      <td>NaN</td>\n",
              "      <td>NaN</td>\n",
              "    </tr>\n",
              "    <tr>\n",
              "      <th>4</th>\n",
              "      <td>Tropicalis</td>\n",
              "      <td>Artic</td>\n",
              "      <td>36.7</td>\n",
              "      <td>19.3</td>\n",
              "      <td>193.0</td>\n",
              "      <td>3450.0</td>\n",
              "      <td>FEMALE</td>\n",
              "    </tr>\n",
              "  </tbody>\n",
              "</table>\n",
              "</div>\n",
              "      <button class=\"colab-df-convert\" onclick=\"convertToInteractive('df-10acc97f-3e81-4b1f-9ad6-24ab84a0b312')\"\n",
              "              title=\"Convert this dataframe to an interactive table.\"\n",
              "              style=\"display:none;\">\n",
              "        \n",
              "  <svg xmlns=\"http://www.w3.org/2000/svg\" height=\"24px\"viewBox=\"0 0 24 24\"\n",
              "       width=\"24px\">\n",
              "    <path d=\"M0 0h24v24H0V0z\" fill=\"none\"/>\n",
              "    <path d=\"M18.56 5.44l.94 2.06.94-2.06 2.06-.94-2.06-.94-.94-2.06-.94 2.06-2.06.94zm-11 1L8.5 8.5l.94-2.06 2.06-.94-2.06-.94L8.5 2.5l-.94 2.06-2.06.94zm10 10l.94 2.06.94-2.06 2.06-.94-2.06-.94-.94-2.06-.94 2.06-2.06.94z\"/><path d=\"M17.41 7.96l-1.37-1.37c-.4-.4-.92-.59-1.43-.59-.52 0-1.04.2-1.43.59L10.3 9.45l-7.72 7.72c-.78.78-.78 2.05 0 2.83L4 21.41c.39.39.9.59 1.41.59.51 0 1.02-.2 1.41-.59l7.78-7.78 2.81-2.81c.8-.78.8-2.07 0-2.86zM5.41 20L4 18.59l7.72-7.72 1.47 1.35L5.41 20z\"/>\n",
              "  </svg>\n",
              "      </button>\n",
              "      \n",
              "  <style>\n",
              "    .colab-df-container {\n",
              "      display:flex;\n",
              "      flex-wrap:wrap;\n",
              "      gap: 12px;\n",
              "    }\n",
              "\n",
              "    .colab-df-convert {\n",
              "      background-color: #E8F0FE;\n",
              "      border: none;\n",
              "      border-radius: 50%;\n",
              "      cursor: pointer;\n",
              "      display: none;\n",
              "      fill: #1967D2;\n",
              "      height: 32px;\n",
              "      padding: 0 0 0 0;\n",
              "      width: 32px;\n",
              "    }\n",
              "\n",
              "    .colab-df-convert:hover {\n",
              "      background-color: #E2EBFA;\n",
              "      box-shadow: 0px 1px 2px rgba(60, 64, 67, 0.3), 0px 1px 3px 1px rgba(60, 64, 67, 0.15);\n",
              "      fill: #174EA6;\n",
              "    }\n",
              "\n",
              "    [theme=dark] .colab-df-convert {\n",
              "      background-color: #3B4455;\n",
              "      fill: #D2E3FC;\n",
              "    }\n",
              "\n",
              "    [theme=dark] .colab-df-convert:hover {\n",
              "      background-color: #434B5C;\n",
              "      box-shadow: 0px 1px 3px 1px rgba(0, 0, 0, 0.15);\n",
              "      filter: drop-shadow(0px 1px 2px rgba(0, 0, 0, 0.3));\n",
              "      fill: #FFFFFF;\n",
              "    }\n",
              "  </style>\n",
              "\n",
              "      <script>\n",
              "        const buttonEl =\n",
              "          document.querySelector('#df-10acc97f-3e81-4b1f-9ad6-24ab84a0b312 button.colab-df-convert');\n",
              "        buttonEl.style.display =\n",
              "          google.colab.kernel.accessAllowed ? 'block' : 'none';\n",
              "\n",
              "        async function convertToInteractive(key) {\n",
              "          const element = document.querySelector('#df-10acc97f-3e81-4b1f-9ad6-24ab84a0b312');\n",
              "          const dataTable =\n",
              "            await google.colab.kernel.invokeFunction('convertToInteractive',\n",
              "                                                     [key], {});\n",
              "          if (!dataTable) return;\n",
              "\n",
              "          const docLinkHtml = 'Like what you see? Visit the ' +\n",
              "            '<a target=\"_blank\" href=https://colab.research.google.com/notebooks/data_table.ipynb>data table notebook</a>'\n",
              "            + ' to learn more about interactive tables.';\n",
              "          element.innerHTML = '';\n",
              "          dataTable['output_type'] = 'display_data';\n",
              "          await google.colab.output.renderOutput(dataTable, element);\n",
              "          const docLink = document.createElement('div');\n",
              "          docLink.innerHTML = docLinkHtml;\n",
              "          element.appendChild(docLink);\n",
              "        }\n",
              "      </script>\n",
              "    </div>\n",
              "  </div>\n",
              "  "
            ]
          },
          "metadata": {},
          "execution_count": 3
        }
      ]
    }
  ]
}