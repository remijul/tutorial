{
  "nbformat": 4,
  "nbformat_minor": 0,
  "metadata": {
    "colab": {
      "provenance": [],
      "toc_visible": true,
      "include_colab_link": true
    },
    "kernelspec": {
      "name": "python3",
      "display_name": "Python 3"
    }
  },
  "cells": [
    {
      "cell_type": "markdown",
      "metadata": {
        "id": "view-in-github",
        "colab_type": "text"
      },
      "source": [
        "<a href=\"https://colab.research.google.com/github/remijul/tutorial/blob/master/Dev_IA_Challenge_SQL.ipynb\" target=\"_parent\"><img src=\"https://colab.research.google.com/assets/colab-badge.svg\" alt=\"Open In Colab\"/></a>"
      ]
    },
    {
      "cell_type": "markdown",
      "metadata": {
        "id": "pJsqufvk5fOq"
      },
      "source": [
        "# Challenge SQL\n",
        "\n",
        "**Bienvenue dans le challenge SQL !** Il s'agit d'évaluer les compétences acquises pour formuler des requêtes SQL et extraire des informations pertinentes.\n",
        "\n",
        "Vous avez une série de 30 questions et vous devez proposer à chaque fois une instruction SQL.\n",
        "\n",
        "La base de données **MySQL** est disponible ici [w3 schools](https://www.w3schools.com/mysql/trymysql.asp?filename=trysql_editor) :\n",
        "- la base comporte 8 tables,\n",
        "- le site vous propose un éditeur MySQL intégré.  \n",
        "\n",
        "  \n",
        "  \n",
        "**Consignes :**\n",
        "- Faites une copie de ce notebook et modifiez-le librement.\n",
        "- Formulez les requêtes dans l'éditeur MySQL de W3 Schools et collez votre instruction ici dans le notebook.\n",
        "- En fin de challenge, partagez votre travail sur Simplonline (veuillez vous assurer que les accès à votre document sont autorisés à des tiers).\n",
        "\n"
      ]
    },
    {
      "cell_type": "markdown",
      "source": [
        "#1.Compréhension de la base de données et des tables"
      ],
      "metadata": {
        "id": "5_sZUKduD986"
      }
    },
    {
      "cell_type": "markdown",
      "source": [
        "## Question 1\n",
        "Compléter ce tableau concernant les clés primaires et étrangères des tables de la base de données."
      ],
      "metadata": {
        "id": "mFeX5N7jHPxf"
      }
    },
    {
      "cell_type": "markdown",
      "source": [
        "| Table        | Clé primaire  | Clé(s) étrangère(s) |\n",
        "| ------------ | ------------- | ------------- |\n",
        "| Customers    | CustomerID    | None         |\n",
        "| Categories   | ...    | ...         |\n",
        "| Employees    | ...    | ...         |\n",
        "| OrderDetails | OrderDetailID | OrderID, ProductID |\n",
        "| Orders       | ...       | ... |\n",
        "| Products     | ...     | ... |\n",
        "| Shippers     | ...     | ...         |\n",
        "| Suppliers    | ...    | ...         |"
      ],
      "metadata": {
        "id": "3zGwKWqxBQn-"
      }
    },
    {
      "cell_type": "markdown",
      "source": [
        "#2.Requêtes simples"
      ],
      "metadata": {
        "id": "z_PDWr_xEHii"
      }
    },
    {
      "cell_type": "markdown",
      "source": [
        "## Question 2\n",
        "Sélectionner les colonnes `ProductName` et `Price` de la table `Products`."
      ],
      "metadata": {
        "id": "1maW0PjIIXeJ"
      }
    },
    {
      "cell_type": "code",
      "source": [
        "%%sql\n",
        "-------------------------------------------------------------------\n",
        "\n",
        "# Votre instruction SQL ci-dessous :"
      ],
      "metadata": {
        "id": "j-rfOiTjIXeL"
      },
      "execution_count": null,
      "outputs": []
    },
    {
      "cell_type": "markdown",
      "source": [
        "## Question 3\n",
        "Quels sont les différents pays représentés dans la table `Suppliers` ?"
      ],
      "metadata": {
        "id": "KuSnB9y_IXv3"
      }
    },
    {
      "cell_type": "code",
      "source": [
        "%%sql\n",
        "-------------------------------------------------------------------\n",
        "\n",
        "# Votre instruction SQL ci-dessous :"
      ],
      "metadata": {
        "id": "GbkTcKtJIXv3"
      },
      "execution_count": null,
      "outputs": []
    },
    {
      "cell_type": "markdown",
      "source": [
        "## Question 4\n",
        "Sélectionner les fournisseurs dont le pays est la France."
      ],
      "metadata": {
        "id": "R08Gp9R3IX5l"
      }
    },
    {
      "cell_type": "code",
      "source": [
        "%%sql\n",
        "-------------------------------------------------------------------\n",
        "\n",
        "# Votre instruction SQL ci-dessous :"
      ],
      "metadata": {
        "id": "_zNWN52kIX5m"
      },
      "execution_count": null,
      "outputs": []
    },
    {
      "cell_type": "markdown",
      "source": [
        "## Question 5\n",
        "Sélectionner les produits dont le prix de vente est supérieur ou égal à 20€."
      ],
      "metadata": {
        "id": "bOyF9ciaIX8T"
      }
    },
    {
      "cell_type": "code",
      "source": [
        "%%sql\n",
        "-------------------------------------------------------------------\n",
        "\n",
        "# Votre instruction SQL ci-dessous :"
      ],
      "metadata": {
        "id": "TUHSdYqmIX8T"
      },
      "execution_count": null,
      "outputs": []
    },
    {
      "cell_type": "markdown",
      "source": [
        "## Question 6\n",
        "Sélectionner les fournisseurs dont le pays n’est pas la France."
      ],
      "metadata": {
        "id": "H9CvRKHLIX_H"
      }
    },
    {
      "cell_type": "code",
      "source": [
        "%%sql\n",
        "-------------------------------------------------------------------\n",
        "\n",
        "# Votre instruction SQL ci-dessous :"
      ],
      "metadata": {
        "id": "_hKduBn2IX_H"
      },
      "execution_count": null,
      "outputs": []
    },
    {
      "cell_type": "markdown",
      "source": [
        "## Question 7\n",
        "Sélectionner les employés dont le prénom est Janet ou Michael."
      ],
      "metadata": {
        "id": "Ex6F90UIH9RE"
      }
    },
    {
      "cell_type": "code",
      "source": [
        "%%sql\n",
        "-------------------------------------------------------------------\n",
        "\n",
        "# Votre instruction SQL ci-dessous :"
      ],
      "metadata": {
        "id": "n8_W5-kGH9RE"
      },
      "execution_count": null,
      "outputs": []
    },
    {
      "cell_type": "markdown",
      "source": [
        "## Question 8\n",
        "Sélectionner la table des produits ordonnée par prix croissant."
      ],
      "metadata": {
        "id": "_Z7QO9usLX-d"
      }
    },
    {
      "cell_type": "code",
      "source": [
        "%%sql\n",
        "-------------------------------------------------------------------\n",
        "\n",
        "# Votre instruction SQL ci-dessous :"
      ],
      "metadata": {
        "id": "1T6SP8AqLX-k"
      },
      "execution_count": null,
      "outputs": []
    },
    {
      "cell_type": "markdown",
      "source": [
        "## Question 9\n",
        "Sélectionner les 3 produits les moins chers."
      ],
      "metadata": {
        "id": "yzNM89vrL3o_"
      }
    },
    {
      "cell_type": "code",
      "source": [
        "%%sql\n",
        "-------------------------------------------------------------------\n",
        "\n",
        "# Votre instruction SQL ci-dessous :"
      ],
      "metadata": {
        "id": "5WUyw5SaL3pG"
      },
      "execution_count": null,
      "outputs": []
    },
    {
      "cell_type": "markdown",
      "source": [
        "#3.Requêtes avec agrégation"
      ],
      "metadata": {
        "id": "xpANwOlXEWUa"
      }
    },
    {
      "cell_type": "markdown",
      "source": [
        "## Question 10\n",
        "Calculer le nombre de fournisseurs par pays.  \n",
        "Ordonner la table par nombre de fournisseurs décroissants."
      ],
      "metadata": {
        "id": "SSL6-g6yIYCB"
      }
    },
    {
      "cell_type": "code",
      "source": [
        "%%sql\n",
        "-------------------------------------------------------------------\n",
        "\n",
        "# Votre instruction SQL ci-dessous :"
      ],
      "metadata": {
        "id": "rp4y9jwXIYCC"
      },
      "execution_count": null,
      "outputs": []
    },
    {
      "cell_type": "markdown",
      "source": [
        "## Question 11\n",
        "Donner le prix moyen des produits en fonction de leur CategorieID.  \n",
        "Ordonner la table prix moyen décroissants.\n"
      ],
      "metadata": {
        "id": "ps8bhWNzIYE5"
      }
    },
    {
      "cell_type": "code",
      "source": [
        "%%sql\n",
        "-------------------------------------------------------------------\n",
        "\n",
        "# Votre instruction SQL ci-dessous :"
      ],
      "metadata": {
        "id": "lwwOPrckIYE6"
      },
      "execution_count": null,
      "outputs": []
    },
    {
      "cell_type": "markdown",
      "source": [
        "## Question 12\n",
        "Calculer le nombre de clients par pays.  \n",
        "Ordonner la table par nombre de clients décroissants."
      ],
      "metadata": {
        "id": "q6E2uqZiIYH_"
      }
    },
    {
      "cell_type": "code",
      "source": [
        "%%sql\n",
        "-------------------------------------------------------------------\n",
        "\n",
        "# Votre instruction SQL ci-dessous :"
      ],
      "metadata": {
        "id": "LqZE3WzJIYH_"
      },
      "execution_count": null,
      "outputs": []
    },
    {
      "cell_type": "markdown",
      "source": [
        "## Question 13\n",
        "Quels sont les pays qui disposent d'au moins 3 fournisseurs différents ?"
      ],
      "metadata": {
        "id": "47qnh-BuIYK_"
      }
    },
    {
      "cell_type": "code",
      "source": [
        "%%sql\n",
        "-------------------------------------------------------------------\n",
        "\n",
        "# Votre instruction SQL ci-dessous :"
      ],
      "metadata": {
        "id": "D39LgkvCIYLA"
      },
      "execution_count": null,
      "outputs": []
    },
    {
      "cell_type": "markdown",
      "source": [
        "## Question 14\n",
        "Quels sont les `ProductID` dont la quantité vendue dépasse ou égale les 1000 unités ?"
      ],
      "metadata": {
        "id": "1GQLIqT6IYN0"
      }
    },
    {
      "cell_type": "code",
      "source": [
        "%%sql\n",
        "-------------------------------------------------------------------\n",
        "\n",
        "# Votre instruction SQL ci-dessous :"
      ],
      "metadata": {
        "id": "l-4vJPBDIYN1"
      },
      "execution_count": null,
      "outputs": []
    },
    {
      "cell_type": "markdown",
      "source": [
        "#4.Gestion des chaînes de caractères"
      ],
      "metadata": {
        "id": "3ZSXvD23Ec1r"
      }
    },
    {
      "cell_type": "markdown",
      "source": [
        "## Question 15\n",
        "Reconstituer l'adresse postale des fournisseurs.  \n",
        "Pour chaque nom de fournisseur restituer l'adresse postale au format donné dans l'example suivant :\n",
        "\n",
        "| SupplierName        | Adresse_postale  |\n",
        "| ------------------- | ------------- |\n",
        "| Exotic Liquid       | 49 Gilbert St. - EC1 4SD - Londona - UK    |"
      ],
      "metadata": {
        "id": "B4oQY6C1IYQT"
      }
    },
    {
      "cell_type": "code",
      "source": [
        "%%sql\n",
        "-------------------------------------------------------------------\n",
        "\n",
        "# Votre instruction SQL ci-dessous :"
      ],
      "metadata": {
        "id": "k1wlOpcFIYQT"
      },
      "execution_count": null,
      "outputs": []
    },
    {
      "cell_type": "markdown",
      "source": [
        "## Question 16\n",
        "Extraire les clients dont le champ `CustomerName` commence par `An`."
      ],
      "metadata": {
        "id": "txXlUJsDIYU5"
      }
    },
    {
      "cell_type": "code",
      "source": [
        "%%sql\n",
        "-------------------------------------------------------------------\n",
        "\n",
        "# Votre instruction SQL ci-dessous :"
      ],
      "metadata": {
        "id": "HoVMwnrhIYU5"
      },
      "execution_count": null,
      "outputs": []
    },
    {
      "cell_type": "markdown",
      "source": [
        "## Question 17\n",
        "Extraire les produits dont l'unité de conditionnement est exprimée en `box` ou en `boxes`."
      ],
      "metadata": {
        "id": "MeA8kmTqIYXP"
      }
    },
    {
      "cell_type": "code",
      "source": [
        "%%sql\n",
        "-------------------------------------------------------------------\n",
        "\n",
        "# Votre instruction SQL ci-dessous :"
      ],
      "metadata": {
        "id": "1wLUDrvmIYXQ"
      },
      "execution_count": null,
      "outputs": []
    },
    {
      "cell_type": "markdown",
      "source": [
        "#5.Gestion des dates"
      ],
      "metadata": {
        "id": "6iFXMXZKEjtG"
      }
    },
    {
      "cell_type": "markdown",
      "source": [
        "## Question 18\n",
        "Extraire les années de naissance des employés.  \n",
        "Pour chaque nom et prénom des employés restituer l'année de naissance, au format donné dans l'example suivant :\n",
        "\n",
        "| LastName     | FirstName  | Annee_naissance  |\n",
        "| -------------| -----------| -----------------|\n",
        "| Fuller       | Andrew     | 1952             |"
      ],
      "metadata": {
        "id": "UN1UGtnmIYbD"
      }
    },
    {
      "cell_type": "code",
      "source": [
        "%%sql\n",
        "-------------------------------------------------------------------\n",
        "\n",
        "# Votre instruction SQL ci-dessous :"
      ],
      "metadata": {
        "id": "Mg3Pe2VlIYbE"
      },
      "execution_count": null,
      "outputs": []
    },
    {
      "cell_type": "markdown",
      "source": [
        "## Question 19\n",
        "Restituer une table qui délivre les volumes de commandes par année.\n",
        "\n"
      ],
      "metadata": {
        "id": "VkbpY_57IYdp"
      }
    },
    {
      "cell_type": "code",
      "source": [
        "%%sql\n",
        "-------------------------------------------------------------------\n",
        "\n",
        "# Votre instruction SQL ci-dessous :"
      ],
      "metadata": {
        "id": "FgsY1FMzIYdq"
      },
      "execution_count": null,
      "outputs": []
    },
    {
      "cell_type": "markdown",
      "source": [
        "## Question 20\n",
        "Restituer une table qui délivre les 3 mois pour lesquels les volumes de commandes sont les plus importants."
      ],
      "metadata": {
        "id": "Q24FY_CWIYgi"
      }
    },
    {
      "cell_type": "code",
      "source": [
        "%%sql\n",
        "-------------------------------------------------------------------\n",
        "\n",
        "# Votre instruction SQL ci-dessous :"
      ],
      "metadata": {
        "id": "POWWBXU1IYgi"
      },
      "execution_count": null,
      "outputs": []
    },
    {
      "cell_type": "markdown",
      "source": [
        "#6.Jointures"
      ],
      "metadata": {
        "id": "y9lser1nE8JJ"
      }
    },
    {
      "cell_type": "markdown",
      "source": [
        "## Question 21\n",
        "Sélectionner les produits et leur catégorie (`CategoryName`) dont le prix de vente est supérieur ou égal à 20€."
      ],
      "metadata": {
        "id": "wAWBAszpIYiz"
      }
    },
    {
      "cell_type": "code",
      "source": [
        "%%sql\n",
        "-------------------------------------------------------------------\n",
        "\n",
        "# Votre instruction SQL ci-dessous :"
      ],
      "metadata": {
        "id": "GpXVlKCoIYi0"
      },
      "execution_count": null,
      "outputs": []
    },
    {
      "cell_type": "markdown",
      "source": [
        "## Question 22\n",
        "Quel est le prix moyen par catégorie (`CategoryName`) de produit ?"
      ],
      "metadata": {
        "id": "rBUBj0i0IYlX"
      }
    },
    {
      "cell_type": "code",
      "source": [
        "%%sql\n",
        "-------------------------------------------------------------------\n",
        "\n",
        "# Votre instruction SQL ci-dessous :"
      ],
      "metadata": {
        "id": "2xd1ceYpIYlY"
      },
      "execution_count": null,
      "outputs": []
    },
    {
      "cell_type": "markdown",
      "source": [
        "## Question 23\n",
        "Quels sont les produits (`ProductName`) dont la quantité vendue est comprise entre 1200 et 1600 unités ?"
      ],
      "metadata": {
        "id": "CSO8V1A6IYo2"
      }
    },
    {
      "cell_type": "code",
      "source": [
        "%%sql\n",
        "-------------------------------------------------------------------\n",
        "\n",
        "# Votre instruction SQL ci-dessous :"
      ],
      "metadata": {
        "id": "8Psu8I0iIYo2"
      },
      "execution_count": null,
      "outputs": []
    },
    {
      "cell_type": "markdown",
      "source": [
        "## Question 24\n",
        "Quels sont les produits (`ProductName`) et leur catégorie (`CategoryName`) dont la quantité vendue est comprise entre 1200 et 1600 unités ?"
      ],
      "metadata": {
        "id": "VtAahpzmIYuX"
      }
    },
    {
      "cell_type": "code",
      "source": [
        "%%sql\n",
        "-------------------------------------------------------------------\n",
        "\n",
        "# Votre instruction SQL ci-dessous :"
      ],
      "metadata": {
        "id": "UuWZujW6IYuX"
      },
      "execution_count": null,
      "outputs": []
    },
    {
      "cell_type": "markdown",
      "source": [
        "## Question 25\n",
        "Quelles sont les quantités vendues réparties par employé et par catégorie de produits ?  \n",
        "\n",
        "La table doit avoir une structure comme dans l'example suivant :  \n",
        "\n",
        "| CategoryName     | Employee  | Qte_totale  |\n",
        "| -------------| -----------| -----------------|\n",
        "| Beverages       | Davolio Nancy     | 1607             |"
      ],
      "metadata": {
        "id": "3QpYPj1eIYq3"
      }
    },
    {
      "cell_type": "code",
      "source": [
        "%%sql\n",
        "-------------------------------------------------------------------\n",
        "\n",
        "# Votre instruction SQL ci-dessous :"
      ],
      "metadata": {
        "id": "qq2PcrNFIYq3"
      },
      "execution_count": null,
      "outputs": []
    },
    {
      "cell_type": "markdown",
      "source": [
        "#7.Requêtes avancées\n",
        "Dans cette section vous serez amené à utiliser les requêtes imbriquées."
      ],
      "metadata": {
        "id": "sKnOn25AFFdt"
      }
    },
    {
      "cell_type": "markdown",
      "source": [
        "## Question 26\n",
        "Quel est le client (`CustomerName`et `ContactName`) qui a établi la dernière commande ?  \n",
        "*Note : La valeur de `OrderID` vous donne l'ordre chronologique des commandes.*"
      ],
      "metadata": {
        "id": "tjW9zWUiIY0H"
      }
    },
    {
      "cell_type": "code",
      "source": [
        "%%sql\n",
        "-------------------------------------------------------------------\n",
        "\n",
        "# Votre instruction SQL ci-dessous :"
      ],
      "metadata": {
        "id": "PEz7BRhqIY0H"
      },
      "execution_count": null,
      "outputs": []
    },
    {
      "cell_type": "markdown",
      "source": [
        "## Question 27\n",
        "Quels sont le client (`CustomerName`et `ContactName`) et l'employé concernés (`FirstName`et `LastName`) par la dernière commande ?  \n",
        "La table doit avoir une structure comme dans l'example suivant :  \n",
        "\n",
        "| OrderID\t| OrderDate\t| CustomerName | \tContactName\t| FirstName\t| LastName|\n",
        "| --| --| --| --| --| --|\n",
        "| 11077\t| 1998-05-06\t| Rattlesnake Canyon Grocery\t| Paula Wilson\t| Nancy\t| Davolio|"
      ],
      "metadata": {
        "id": "lLZXnzPBIY3E"
      }
    },
    {
      "cell_type": "code",
      "source": [
        "%%sql\n",
        "-------------------------------------------------------------------\n",
        "\n",
        "# Votre instruction SQL ci-dessous :"
      ],
      "metadata": {
        "id": "uPCQjqzfIY3F"
      },
      "execution_count": null,
      "outputs": []
    },
    {
      "cell_type": "markdown",
      "source": [
        "## Question 28\n",
        "Calculer le nombre de commandes livrées par livreur (`ShipperName`) ainsi le pourcentage du total de commandes.  \n",
        "Ordonner la table par ordre decroissant du nombre de commandes.  \n",
        "La table doit avoir une structure comme dans l'example suivant :  \n",
        "\n",
        "| ShipperName\t| Nb_commandes\t| Part_commandes |\n",
        "| --| --| --|\n",
        "| United Package\t| 326\t| 39.3 %\t|"
      ],
      "metadata": {
        "id": "e1QSBlTcIY6D"
      }
    },
    {
      "cell_type": "code",
      "source": [
        "%%sql\n",
        "-------------------------------------------------------------------\n",
        "\n",
        "# Votre instruction SQL ci-dessous :"
      ],
      "metadata": {
        "id": "9JGgaClAIY6D"
      },
      "execution_count": null,
      "outputs": []
    },
    {
      "cell_type": "markdown",
      "source": [
        "## Question 29\n",
        "Calculer la quantité d'articles par fournisseur (`SupplierName`) ainsi le pourcentage du total.  \n",
        "Ordonner la table par ordre decroissant du nombre d'articles.  \n",
        "La table doit avoir une structure comme dans l'example suivant :  \n",
        "\n",
        "| SupplierName\t| Nb_articles\t| Part_commandes |\n",
        "| --| --| --|\n",
        "| Plutzer Lebensmittelgroßmärkte AG\t| 4072\t| 7.9 %\t|"
      ],
      "metadata": {
        "id": "qekoYiYkIZAs"
      }
    },
    {
      "cell_type": "code",
      "source": [
        "%%sql\n",
        "-------------------------------------------------------------------\n",
        "\n",
        "# Votre instruction SQL ci-dessous :"
      ],
      "metadata": {
        "id": "AW78JD7AIZAs"
      },
      "execution_count": null,
      "outputs": []
    },
    {
      "cell_type": "markdown",
      "source": [
        "## Question 30\n",
        "A partir de la table `OrderDetails`, créer une colonne `QuantityText` qui prendra les valeurs suivantes :\n",
        "- `\"The quantity is under 30\"` si `Quantity` < 30\n",
        "- `\"The quantity is 30\"` si `Quantity` = 30\n",
        "- `\"The quantity is greater than 30\"` si `Quantity` > 30\n",
        "\n",
        "Ensuite comptabilliser le nombre de fois où les 3 catégories apparraisent et ordonner la table par ordre decroissant de ce comptage.  \n",
        "La table doit avoir une structure comme dans l'example suivant :  \n",
        "\n",
        "| QuantityText\t| Nb_commandes\t|\n",
        "| --| --|\n",
        "| The quantity is under 30\t| 1464\t|"
      ],
      "metadata": {
        "id": "5GehVEmVIY9R"
      }
    },
    {
      "cell_type": "code",
      "source": [
        "%%sql\n",
        "-------------------------------------------------------------------\n",
        "\n",
        "# Votre instruction SQL ci-dessous :"
      ],
      "metadata": {
        "id": "EqXZymqRIY9S"
      },
      "execution_count": null,
      "outputs": []
    },
    {
      "cell_type": "markdown",
      "source": [
        "#8.Fin du challenge\n",
        "Bravo ! Vous êtes arrivés sans peine jusqu'à la fin de ce challenge SQL ✌ !"
      ],
      "metadata": {
        "id": "2OYoCHyjUrNH"
      }
    }
  ]
}