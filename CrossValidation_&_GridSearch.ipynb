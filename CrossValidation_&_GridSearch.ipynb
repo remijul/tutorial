{
  "nbformat": 4,
  "nbformat_minor": 0,
  "metadata": {
    "colab": {
      "name": "CrossValidation & GridSearch.ipynb",
      "provenance": [],
      "collapsed_sections": [],
      "toc_visible": true,
      "include_colab_link": true
    },
    "kernelspec": {
      "name": "python3",
      "display_name": "Python 3"
    }
  },
  "cells": [
    {
      "cell_type": "markdown",
      "metadata": {
        "id": "view-in-github",
        "colab_type": "text"
      },
      "source": [
        "<a href=\"https://colab.research.google.com/github/remijul/tutorial/blob/master/CrossValidation_%26_GridSearch.ipynb\" target=\"_parent\"><img src=\"https://colab.research.google.com/assets/colab-badge.svg\" alt=\"Open In Colab\"/></a>"
      ]
    },
    {
      "cell_type": "markdown",
      "metadata": {
        "id": "i00JLrUna7Iy"
      },
      "source": [
        "# Cross Validation & Grid Search for Machine Learning\n",
        "---\n",
        "\n",
        "Learning the parameters of a prediction function and testing it on the same data is a **methodological mistake**: a model that would just repeat the labels of the samples that it has just seen would have a perfect score but would fail to predict anything useful on yet-unseen data.  \n",
        "This situation is called **overfitting**.  \n",
        "To avoid it, it is common practice when performing a (supervised) machine learning experiment to hold out part of the available data as a test set X_test, y_test.  \n",
        "Note that the word “experiment” is not intended to denote academic use only, because even in commercial settings machine learning usually starts out experimentally. \n",
        "\n",
        "Please visit this great ressource : [Module CrossValidation from scikit-learn.org](https://scikit-learn.org/stable/modules/cross_validation.html)."
      ]
    },
    {
      "cell_type": "markdown",
      "metadata": {
        "id": "0907CKgwa8qa"
      },
      "source": [
        "## Objectives\n",
        "- Understand the usefulness of **cross validation** and **grid search**\n",
        "- Be able to apply them to easily setup a advanced Machine Learning model.\n",
        "- Practice on a dedicated exercice\n",
        "\n",
        "\n",
        "See the great ressource [machinelearnia](https://www.youtube.com/watch?v=VoyMOVfCSfc) for more explanations."
      ]
    },
    {
      "cell_type": "markdown",
      "metadata": {
        "id": "HYK3KI8hbZUn"
      },
      "source": [
        "\n",
        "---\n",
        "\n",
        "\n",
        "## Cross Validation\n",
        "The simplest way to use cross-validation is to call the cross_val_score helper function on the estimator and the dataset.\n",
        "    \n",
        "Check the documentation for further explanation : [Crossvalidation](https://scikit-learn.org/stable/modules/cross_validation.html).\n"
      ]
    },
    {
      "cell_type": "markdown",
      "source": [
        "### Prepare libraries and data"
      ],
      "metadata": {
        "id": "smO1OB86Ugp6"
      }
    },
    {
      "cell_type": "code",
      "source": [
        "import numpy as np\n",
        "from sklearn.model_selection import train_test_split\n",
        "from sklearn import datasets\n",
        "from sklearn import svm\n",
        "\n",
        "X, y = datasets.load_iris(return_X_y=True)\n",
        "X_train, X_test, y_train, y_test = train_test_split(X, y, test_size=0.4, random_state=0)\n",
        "\n",
        "\n",
        "clf = svm.SVC(kernel='linear', C=1).fit(X_train, y_train)\n",
        "clf.score(X_test, y_test)"
      ],
      "metadata": {
        "colab": {
          "base_uri": "https://localhost:8080/"
        },
        "id": "ogtGNV7_xIms",
        "outputId": "8edc5b59-67eb-4ad5-fd3f-54516f4545bd"
      },
      "execution_count": null,
      "outputs": [
        {
          "output_type": "execute_result",
          "data": {
            "text/plain": [
              "0.9666666666666667"
            ]
          },
          "metadata": {},
          "execution_count": 1
        }
      ]
    },
    {
      "cell_type": "markdown",
      "source": [
        "### Use `cross_val_score`\n",
        "The following example demonstrates how to estimate the accuracy of a linear kernel support vector machine on the iris dataset by splitting the data, fitting a model and computing the score 5 consecutive times (with different splits each time):"
      ],
      "metadata": {
        "id": "TRI5EmEBxY_v"
      }
    },
    {
      "cell_type": "code",
      "source": [
        "from sklearn.model_selection import cross_val_score\n",
        "clf = svm.SVC(kernel='linear', C=1, random_state=42)\n",
        "scores = cross_val_score(clf, X, y, cv=5)\n",
        "scores"
      ],
      "metadata": {
        "id": "9uGaw75pUgHe",
        "colab": {
          "base_uri": "https://localhost:8080/"
        },
        "outputId": "947b8ee3-58cd-426a-fc80-8208b93df84b"
      },
      "execution_count": null,
      "outputs": [
        {
          "output_type": "execute_result",
          "data": {
            "text/plain": [
              "array([0.96666667, 1.        , 0.96666667, 0.96666667, 1.        ])"
            ]
          },
          "metadata": {},
          "execution_count": 2
        }
      ]
    },
    {
      "cell_type": "markdown",
      "source": [
        "The mean score and the standard deviation are hence given by:"
      ],
      "metadata": {
        "id": "RyN2iL8wxftD"
      }
    },
    {
      "cell_type": "code",
      "source": [
        "print(\"%0.2f accuracy with a standard deviation of %0.2f\" % (scores.mean(), scores.std()))"
      ],
      "metadata": {
        "colab": {
          "base_uri": "https://localhost:8080/"
        },
        "id": "yszgQeZuxgao",
        "outputId": "9bf8ba56-504b-416f-f111-e0f3d53d38b4"
      },
      "execution_count": null,
      "outputs": [
        {
          "output_type": "stream",
          "name": "stdout",
          "text": [
            "0.98 accuracy with a standard deviation of 0.02\n"
          ]
        }
      ]
    },
    {
      "cell_type": "markdown",
      "source": [
        "### Use `cross_validate`\n",
        "The cross_validate function differs from cross_val_score in two ways:\n",
        "\n",
        "- It allows specifying multiple metrics for evaluation.\n",
        "\n",
        "- It returns a dict containing fit-times, score-times (and optionally training scores as well as fitted estimators) in addition to the test score."
      ],
      "metadata": {
        "id": "UmOzxEFHyDDq"
      }
    },
    {
      "cell_type": "code",
      "source": [
        "from sklearn.model_selection import cross_validate\n",
        "from sklearn.metrics import recall_score\n",
        "scoring = ['precision_macro', 'recall_macro']\n",
        "clf = svm.SVC(kernel='linear', C=1, random_state=0)\n",
        "scores = cross_validate(clf, X, y, scoring=scoring)\n",
        "scores"
      ],
      "metadata": {
        "colab": {
          "base_uri": "https://localhost:8080/"
        },
        "id": "WVmQIQRLyDM-",
        "outputId": "68aa9120-bb0a-417c-b1f6-d06b3873c8d1"
      },
      "execution_count": null,
      "outputs": [
        {
          "output_type": "execute_result",
          "data": {
            "text/plain": [
              "{'fit_time': array([0.00242615, 0.00127101, 0.00112796, 0.00110555, 0.00103307]),\n",
              " 'score_time': array([0.00284362, 0.00178933, 0.00161648, 0.00158119, 0.0016005 ]),\n",
              " 'test_precision_macro': array([0.96969697, 1.        , 0.96969697, 0.96969697, 1.        ]),\n",
              " 'test_recall_macro': array([0.96666667, 1.        , 0.96666667, 0.96666667, 1.        ])}"
            ]
          },
          "metadata": {},
          "execution_count": 15
        }
      ]
    },
    {
      "cell_type": "markdown",
      "metadata": {
        "id": "qq_Y3yIS22Fc"
      },
      "source": [
        "\n",
        "---\n",
        "\n",
        "\n",
        "## Grid Search\n",
        "Hyper-parameters are parameters that are not directly learnt within estimators. In scikit-learn they are passed as arguments to the constructor of the estimator classes.\n",
        "\n",
        "It is possible and recommended to search the hyper-parameter space for the best cross validation score.      \n",
        "Check the documentation for further explanation : [Grid Search](https://scikit-learn.org/stable/modules/grid_search.html).\n"
      ]
    },
    {
      "cell_type": "markdown",
      "source": [
        "### Prepare libraries and data"
      ],
      "metadata": {
        "id": "Ju43aydJ1YbB"
      }
    },
    {
      "cell_type": "code",
      "source": [
        "import numpy as np\n",
        "from sklearn.model_selection import train_test_split\n",
        "from sklearn import datasets\n",
        "from sklearn import svm\n",
        "from sklearn.model_selection import GridSearchCV\n",
        "\n",
        "X, y = datasets.load_iris(return_X_y=True)\n",
        "X_train, X_test, y_train, y_test = train_test_split(X, y, test_size=0.4, random_state=0)"
      ],
      "metadata": {
        "id": "CXsStjLf1YbD"
      },
      "execution_count": null,
      "outputs": []
    },
    {
      "cell_type": "markdown",
      "source": [
        "### Declare model and parameter for Grid Search"
      ],
      "metadata": {
        "id": "ErX2znR422Fd"
      }
    },
    {
      "cell_type": "code",
      "source": [
        "parameters = {'kernel':('linear', 'rbf'), 'C':[1, 10]}\n",
        "svc = svm.SVC()\n",
        "clf = GridSearchCV(svc, parameters)"
      ],
      "metadata": {
        "colab": {
          "base_uri": "https://localhost:8080/"
        },
        "outputId": "7ed552ff-777c-4050-c628-8bb533572872",
        "id": "jf7At96w5RLK"
      },
      "execution_count": null,
      "outputs": [
        {
          "output_type": "execute_result",
          "data": {
            "text/plain": [
              "GridSearchCV(estimator=SVC(),\n",
              "             param_grid={'C': [1, 10], 'kernel': ('linear', 'rbf')})"
            ]
          },
          "metadata": {},
          "execution_count": 18
        }
      ]
    },
    {
      "cell_type": "markdown",
      "source": [
        "### Fit the model"
      ],
      "metadata": {
        "id": "tg3EDXo_2TiP"
      }
    },
    {
      "cell_type": "code",
      "source": [
        "clf.fit(X_train, y_train)"
      ],
      "metadata": {
        "id": "j9lwNcp52Zyb"
      },
      "execution_count": null,
      "outputs": []
    },
    {
      "cell_type": "markdown",
      "source": [
        "### Access to results from Cross Validation\n",
        "List of available results"
      ],
      "metadata": {
        "id": "xHoBjrLK5RLC"
      }
    },
    {
      "cell_type": "code",
      "source": [
        "sorted(clf.cv_results_.keys())"
      ],
      "metadata": {
        "id": "nx6YD6lE22Fe",
        "colab": {
          "base_uri": "https://localhost:8080/"
        },
        "outputId": "d2f97b2c-e1a0-46ec-9638-3849e1f4fe46"
      },
      "execution_count": null,
      "outputs": [
        {
          "output_type": "execute_result",
          "data": {
            "text/plain": [
              "['mean_fit_time',\n",
              " 'mean_score_time',\n",
              " 'mean_test_score',\n",
              " 'param_C',\n",
              " 'param_kernel',\n",
              " 'params',\n",
              " 'rank_test_score',\n",
              " 'split0_test_score',\n",
              " 'split1_test_score',\n",
              " 'split2_test_score',\n",
              " 'split3_test_score',\n",
              " 'split4_test_score',\n",
              " 'std_fit_time',\n",
              " 'std_score_time',\n",
              " 'std_test_score']"
            ]
          },
          "metadata": {},
          "execution_count": 19
        }
      ]
    },
    {
      "cell_type": "markdown",
      "source": [
        "Access to the best score"
      ],
      "metadata": {
        "id": "PVka5hqg2l8e"
      }
    },
    {
      "cell_type": "code",
      "source": [
        "clf.best_score_"
      ],
      "metadata": {
        "colab": {
          "base_uri": "https://localhost:8080/"
        },
        "id": "ku7gMDnJ6cf6",
        "outputId": "c051ca08-7b3a-4187-9d00-64e9e6ff743a"
      },
      "execution_count": null,
      "outputs": [
        {
          "output_type": "execute_result",
          "data": {
            "text/plain": [
              "0.9888888888888889"
            ]
          },
          "metadata": {},
          "execution_count": 20
        }
      ]
    },
    {
      "cell_type": "markdown",
      "source": [
        "Acces to the parameters providing the best score"
      ],
      "metadata": {
        "id": "E4vrC8YD8T3F"
      }
    },
    {
      "cell_type": "code",
      "source": [
        "clf.best_params_"
      ],
      "metadata": {
        "colab": {
          "base_uri": "https://localhost:8080/"
        },
        "id": "aRas8KWa2HYv",
        "outputId": "1ef575e8-e388-46d1-a0a3-fe246dd3f0d5"
      },
      "execution_count": null,
      "outputs": [
        {
          "output_type": "execute_result",
          "data": {
            "text/plain": [
              "{'C': 1, 'kernel': 'linear'}"
            ]
          },
          "metadata": {},
          "execution_count": 21
        }
      ]
    },
    {
      "cell_type": "markdown",
      "metadata": {
        "id": "IBRsybaH4yKz"
      },
      "source": [
        "\n",
        "---\n",
        "\n",
        "\n",
        "## Combine GridSearchCV & Pipeline\n",
        " \n",
        "Check the documentation for further explanation : [Pipeline](https://scikit-learn.org/stable/modules/generated/sklearn.pipeline.Pipeline.html#sklearn.pipeline.Pipeline).\n"
      ]
    },
    {
      "cell_type": "markdown",
      "source": [
        "### Prepare libraries and data"
      ],
      "metadata": {
        "id": "5SWwO1Lc4RaK"
      }
    },
    {
      "cell_type": "code",
      "source": [
        "# data library\n",
        "import numpy as np\n",
        "from sklearn import datasets\n",
        "\n",
        "# Preprocessing\n",
        "from sklearn.impute import SimpleImputer\n",
        "from sklearn.compose import ColumnTransformer\n",
        "from sklearn.preprocessing import LabelEncoder, OneHotEncoder, StandardScaler, RobustScaler, MinMaxScaler\n",
        "\n",
        "# Pipeline and model\n",
        "from sklearn.model_selection import train_test_split\n",
        "from sklearn.pipeline import Pipeline\n",
        "from sklearn import svm\n",
        "from sklearn.model_selection import GridSearchCV"
      ],
      "metadata": {
        "id": "j6Pekqt54Rag"
      },
      "execution_count": null,
      "outputs": []
    },
    {
      "cell_type": "code",
      "source": [
        "# data import\n",
        "X, y = datasets.load_iris(return_X_y=True)\n",
        "X_train, X_test, y_train, y_test = train_test_split(X, y, test_size=0.4, random_state=0)"
      ],
      "metadata": {
        "id": "o_akdhRBkmwn"
      },
      "execution_count": null,
      "outputs": []
    },
    {
      "cell_type": "markdown",
      "source": [
        "### Declare model and parameter for Grid Search\n",
        "Check the documentation for further explanation : [SVC()](https://scikit-learn.org/stable/modules/generated/sklearn.svm.SVC.html)."
      ],
      "metadata": {
        "id": "gUdwPJtR4Rah"
      }
    },
    {
      "cell_type": "code",
      "source": [
        "parameters = {'model__kernel':('linear', 'rbf'), 'model__C':[1, 10]}\n",
        "svc = svm.SVC()"
      ],
      "metadata": {
        "id": "-sM3xU295L-m"
      },
      "execution_count": null,
      "outputs": []
    },
    {
      "cell_type": "markdown",
      "source": [
        "### Declare the pipeline"
      ],
      "metadata": {
        "id": "b0mTVUiu49N4"
      }
    },
    {
      "cell_type": "code",
      "source": [
        "pipe = Pipeline(steps=[\n",
        "    ('scaler', StandardScaler()),\n",
        "    ('model', svc)]\n",
        "    )"
      ],
      "metadata": {
        "id": "0I81xQ4A49ZH"
      },
      "execution_count": null,
      "outputs": []
    },
    {
      "cell_type": "markdown",
      "source": [
        "### Declare the Grid Search method"
      ],
      "metadata": {
        "id": "HgAJOAQq5MGv"
      }
    },
    {
      "cell_type": "code",
      "source": [
        "grid = GridSearchCV(pipe, parameters, cv = 5, n_jobs =-1, verbose = 1)"
      ],
      "metadata": {
        "id": "biAqtP3q4Rah"
      },
      "execution_count": null,
      "outputs": []
    },
    {
      "cell_type": "markdown",
      "source": [
        "### Fit the model"
      ],
      "metadata": {
        "id": "mzLpM0me4Rai"
      }
    },
    {
      "cell_type": "code",
      "source": [
        "grid.fit(X_train, y_train)"
      ],
      "metadata": {
        "colab": {
          "base_uri": "https://localhost:8080/"
        },
        "id": "1LAw7v6-4Rai",
        "outputId": "7734e693-88d7-4857-e39f-d7f21eff0ff7"
      },
      "execution_count": null,
      "outputs": [
        {
          "output_type": "stream",
          "name": "stdout",
          "text": [
            "Fitting 5 folds for each of 4 candidates, totalling 20 fits\n"
          ]
        },
        {
          "output_type": "execute_result",
          "data": {
            "text/plain": [
              "GridSearchCV(cv=5,\n",
              "             estimator=Pipeline(steps=[('scaler', StandardScaler()),\n",
              "                                       ('model', SVC())]),\n",
              "             n_jobs=-1,\n",
              "             param_grid={'model__C': [1, 10],\n",
              "                         'model__kernel': ('linear', 'rbf')},\n",
              "             verbose=1)"
            ]
          },
          "metadata": {},
          "execution_count": 17
        }
      ]
    },
    {
      "cell_type": "markdown",
      "source": [
        "### Access to results from Cross Validation\n",
        "List of available params."
      ],
      "metadata": {
        "id": "h6H50EHu4Raj"
      }
    },
    {
      "cell_type": "code",
      "source": [
        "grid.get_params().keys()"
      ],
      "metadata": {
        "colab": {
          "base_uri": "https://localhost:8080/"
        },
        "id": "XIyytSC85r6D",
        "outputId": "164e38d9-4a29-490c-dbf8-99ef59f43bae"
      },
      "execution_count": null,
      "outputs": [
        {
          "output_type": "execute_result",
          "data": {
            "text/plain": [
              "dict_keys(['cv', 'error_score', 'estimator__memory', 'estimator__steps', 'estimator__verbose', 'estimator__scaler', 'estimator__model', 'estimator__scaler__copy', 'estimator__scaler__with_mean', 'estimator__scaler__with_std', 'estimator__model__C', 'estimator__model__break_ties', 'estimator__model__cache_size', 'estimator__model__class_weight', 'estimator__model__coef0', 'estimator__model__decision_function_shape', 'estimator__model__degree', 'estimator__model__gamma', 'estimator__model__kernel', 'estimator__model__max_iter', 'estimator__model__probability', 'estimator__model__random_state', 'estimator__model__shrinking', 'estimator__model__tol', 'estimator__model__verbose', 'estimator', 'n_jobs', 'param_grid', 'pre_dispatch', 'refit', 'return_train_score', 'scoring', 'verbose'])"
            ]
          },
          "metadata": {},
          "execution_count": 9
        }
      ]
    },
    {
      "cell_type": "markdown",
      "source": [
        "List of available results."
      ],
      "metadata": {
        "id": "5N5NMOvmlKhm"
      }
    },
    {
      "cell_type": "code",
      "source": [
        "sorted(grid.cv_results_.keys())"
      ],
      "metadata": {
        "colab": {
          "base_uri": "https://localhost:8080/"
        },
        "outputId": "e35335e0-100b-4b79-d833-935ca1d4fd44",
        "id": "J3U4zDr44Raj"
      },
      "execution_count": null,
      "outputs": [
        {
          "output_type": "execute_result",
          "data": {
            "text/plain": [
              "['mean_fit_time',\n",
              " 'mean_score_time',\n",
              " 'mean_test_score',\n",
              " 'param_model__C',\n",
              " 'param_model__kernel',\n",
              " 'params',\n",
              " 'rank_test_score',\n",
              " 'split0_test_score',\n",
              " 'split1_test_score',\n",
              " 'split2_test_score',\n",
              " 'split3_test_score',\n",
              " 'split4_test_score',\n",
              " 'std_fit_time',\n",
              " 'std_score_time',\n",
              " 'std_test_score']"
            ]
          },
          "metadata": {},
          "execution_count": 10
        }
      ]
    },
    {
      "cell_type": "markdown",
      "source": [
        "Access to the best score"
      ],
      "metadata": {
        "id": "xLXDZmjP4Rak"
      }
    },
    {
      "cell_type": "code",
      "source": [
        "grid.best_score_"
      ],
      "metadata": {
        "colab": {
          "base_uri": "https://localhost:8080/"
        },
        "outputId": "3e0c7d22-6aea-4d35-b6f0-99fc46d47c77",
        "id": "72bgEvzJ4Rak"
      },
      "execution_count": null,
      "outputs": [
        {
          "output_type": "execute_result",
          "data": {
            "text/plain": [
              "0.9777777777777779"
            ]
          },
          "metadata": {},
          "execution_count": 13
        }
      ]
    },
    {
      "cell_type": "markdown",
      "source": [
        "Acces to the parameters providing the best score"
      ],
      "metadata": {
        "id": "64UmUqdI4Ral"
      }
    },
    {
      "cell_type": "code",
      "source": [
        "grid.best_params_"
      ],
      "metadata": {
        "colab": {
          "base_uri": "https://localhost:8080/"
        },
        "outputId": "b3cba032-0832-4946-fc0e-52171e4370e3",
        "id": "jkqbSHKg4Ral"
      },
      "execution_count": null,
      "outputs": [
        {
          "output_type": "execute_result",
          "data": {
            "text/plain": [
              "{'model__C': 1, 'model__kernel': 'linear'}"
            ]
          },
          "metadata": {},
          "execution_count": 14
        }
      ]
    },
    {
      "cell_type": "markdown",
      "source": [
        "### Make predictions"
      ],
      "metadata": {
        "id": "UldQlgM-CFyK"
      }
    },
    {
      "cell_type": "code",
      "source": [
        "y_pred = grid.predict(X_test)"
      ],
      "metadata": {
        "id": "Fh6gmVHcCF6h"
      },
      "execution_count": null,
      "outputs": []
    },
    {
      "cell_type": "markdown",
      "source": [
        "### Evaluate model performance"
      ],
      "metadata": {
        "id": "yagTC-7Q_68-"
      }
    },
    {
      "cell_type": "code",
      "source": [
        "from sklearn.metrics import r2_score\n",
        "print(\"R2:\", r2_score(y_test, y_pred))"
      ],
      "metadata": {
        "colab": {
          "base_uri": "https://localhost:8080/"
        },
        "id": "WXtnF9HwCM_w",
        "outputId": "24efe385-b1a7-4c0b-ad6d-c4262068fa14"
      },
      "execution_count": null,
      "outputs": [
        {
          "output_type": "stream",
          "name": "stdout",
          "text": [
            "R2: 0.8906605922551253\n"
          ]
        }
      ]
    },
    {
      "cell_type": "markdown",
      "source": [
        "## Wrap-up\n",
        "Let's bring together all pieces of code for a complete set."
      ],
      "metadata": {
        "id": "rlhp3gYenIT5"
      }
    },
    {
      "cell_type": "code",
      "source": [
        "# data library\n",
        "import numpy as np\n",
        "from sklearn import datasets\n",
        "\n",
        "# Preprocessing\n",
        "from sklearn.impute import SimpleImputer\n",
        "from sklearn.compose import ColumnTransformer\n",
        "from sklearn.preprocessing import LabelEncoder, OneHotEncoder, StandardScaler, RobustScaler, MinMaxScaler\n",
        "\n",
        "# Pipeline and model\n",
        "from sklearn.model_selection import train_test_split\n",
        "from sklearn.pipeline import Pipeline\n",
        "from sklearn import svm\n",
        "from sklearn.model_selection import GridSearchCV\n",
        "\n",
        "# Metrics\n",
        "from sklearn.metrics import r2_score\n",
        "\n",
        "# data import\n",
        "X, y = datasets.load_iris(return_X_y=True)\n",
        "X_train, X_test, y_train, y_test = train_test_split(X, y, test_size=0.4, random_state=0)\n",
        "\n",
        "# Declare model and parameter for Grid Search\n",
        "parameters = {'model__kernel':('linear', 'rbf'), 'model__C':[1, 10]}\n",
        "svc = svm.SVC()\n",
        "\n",
        "# Declare the pipeline\n",
        "pipe = Pipeline(steps=[\n",
        "    ('scaler', StandardScaler()),\n",
        "    ('model', svc)]\n",
        "    )\n",
        "\n",
        "# Declare the Grid Search method\n",
        "grid = GridSearchCV(pipe, parameters, scoring='r2', cv = 5, n_jobs =-1, verbose = 1)\n",
        "\n",
        "# Fit the model\n",
        "grid.fit(X_train, y_train)\n",
        "\n",
        "# Evaluate cross validation performance \n",
        "print(\"CV score - R2:\", grid.best_score_)\n",
        "\n",
        "# Make predictions\n",
        "y_pred = grid.predict(X_test)\n",
        "\n",
        "# Evaluate model performance\n",
        "print(\"Test score - R2:\", r2_score(y_test, y_pred))"
      ],
      "metadata": {
        "colab": {
          "base_uri": "https://localhost:8080/"
        },
        "id": "AyFgiWhSnG-O",
        "outputId": "23209ff6-ba83-4466-e33d-affeff926e6e"
      },
      "execution_count": null,
      "outputs": [
        {
          "output_type": "stream",
          "name": "stdout",
          "text": [
            "Fitting 5 folds for each of 4 candidates, totalling 20 fits\n",
            "CV score - R2: 0.9690987124463518\n",
            "Test score - R2: 0.8906605922551253\n"
          ]
        }
      ]
    },
    {
      "cell_type": "markdown",
      "metadata": {
        "id": "g0ehPzz2PK3r"
      },
      "source": [
        "## Conclusions\n",
        "The design and implementation of a machine learning pipeline is at the core of enterprise AI software applications and fundamentally determines the performance and effectiveness. In addition to the software design, additional factors must be considered, including choice of machine learning libraries and runtime environments (processor requirements, memory, and storage).\n",
        "\n",
        "Many real-world machine learning use cases involve complex, multi-step pipelines. Each step may require different libraries and runtimes and may need to execute on specialized hardware profiles. It is therefore critical to factor in management of libraries, runtimes, and hardware profiles during algorithm development and ongoing maintenance activities. Design choices can have a significant impact on both costs and algorithm performance ([https://c3.ai/](https://c3.ai/glossary/machine-learning/machine-learning-pipeline/#:~:text=A%20machine%20learning%20pipeline%20is,model%20parameters%2C%20and%20prediction%20outputs))."
      ]
    }
  ]
}