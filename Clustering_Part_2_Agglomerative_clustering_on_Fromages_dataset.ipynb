{
  "nbformat": 4,
  "nbformat_minor": 0,
  "metadata": {
    "colab": {
      "name": "Clustering Part 2 - Agglomerative clustering on Fromages dataset.ipynb",
      "provenance": [],
      "collapsed_sections": [],
      "toc_visible": true,
      "include_colab_link": true
    },
    "kernelspec": {
      "name": "python3",
      "display_name": "Python 3"
    }
  },
  "cells": [
    {
      "cell_type": "markdown",
      "metadata": {
        "id": "view-in-github",
        "colab_type": "text"
      },
      "source": [
        "<a href=\"https://colab.research.google.com/github/remijul/tutorial/blob/master/Clustering_Part_2_Agglomerative_clustering_on_Fromages_dataset.ipynb\" target=\"_parent\"><img src=\"https://colab.research.google.com/assets/colab-badge.svg\" alt=\"Open In Colab\"/></a>"
      ]
    },
    {
      "cell_type": "markdown",
      "metadata": {
        "id": "7RZbCjBZBNKL"
      },
      "source": [
        "# Hierarchical Clustering  \n",
        "Clustering / Segmentation of 'fromages' with `scikit-learn` and `scipy`.  \n",
        "---"
      ]
    },
    {
      "cell_type": "markdown",
      "metadata": {
        "id": "_CHGX8zyVEGI"
      },
      "source": [
        "## Objectives\n"
      ]
    },
    {
      "cell_type": "markdown",
      "metadata": {
        "id": "cGUNp2z6VHSR"
      },
      "source": [
        "Understand one of the main clustering algorithms and be ready for praticing.  \n",
        "Practice hierarchical clustering to make clusters with 'fromages' dataset."
      ]
    },
    {
      "cell_type": "markdown",
      "metadata": {
        "id": "eAAwp0JNTDz-"
      },
      "source": [
        "## 1.Librairies"
      ]
    },
    {
      "cell_type": "code",
      "metadata": {
        "id": "ih5VsCSsAGWK",
        "cellView": "both"
      },
      "source": [
        "# Libraries for data & dataviz\n",
        "import seaborn as sns\n",
        "import matplotlib.pyplot as plt\n",
        "import pandas as pd\n",
        "\n",
        "# Module for K-means algorithm\n",
        "from sklearn.cluster import AgglomerativeClustering"
      ],
      "execution_count": null,
      "outputs": []
    },
    {
      "cell_type": "markdown",
      "metadata": {
        "id": "dfuRseCpTH4-"
      },
      "source": [
        "## 2.Data"
      ]
    },
    {
      "cell_type": "code",
      "metadata": {
        "id": "v2oQ_TDARU9E",
        "colab": {
          "base_uri": "https://localhost:8080/",
          "height": 238
        },
        "outputId": "6efdb0d9-6cce-494f-cc1d-784a69bd89e2"
      },
      "source": [
        "url = \"https://raw.githubusercontent.com/remijul/dataset/master/fromages.txt\"\n",
        "df = pd.read_csv(url, delimiter = \"\\t\", index_col=0)\n",
        "df.head()"
      ],
      "execution_count": null,
      "outputs": [
        {
          "output_type": "execute_result",
          "data": {
            "text/plain": [
              "             calories  sodium  calcium  lipides  retinol  folates  proteines  \\\n",
              "Fromages                                                                       \n",
              "CarredelEst       314   353.5     72.6     26.3     51.6     30.3       21.0   \n",
              "Babybel           314   238.0    209.8     25.1     63.7      6.4       22.6   \n",
              "Beaufort          401   112.0    259.4     33.3     54.9      1.2       26.6   \n",
              "Bleu              342   336.0    211.1     28.9     37.1     27.5       20.2   \n",
              "Camembert         264   314.0    215.9     19.5    103.0     36.4       23.4   \n",
              "\n",
              "             cholesterol  magnesium  \n",
              "Fromages                             \n",
              "CarredelEst           70         20  \n",
              "Babybel               70         27  \n",
              "Beaufort             120         41  \n",
              "Bleu                  90         27  \n",
              "Camembert             60         20  "
            ],
            "text/html": [
              "\n",
              "  <div id=\"df-1ed97bff-aced-419c-a811-aa12fb820a14\">\n",
              "    <div class=\"colab-df-container\">\n",
              "      <div>\n",
              "<style scoped>\n",
              "    .dataframe tbody tr th:only-of-type {\n",
              "        vertical-align: middle;\n",
              "    }\n",
              "\n",
              "    .dataframe tbody tr th {\n",
              "        vertical-align: top;\n",
              "    }\n",
              "\n",
              "    .dataframe thead th {\n",
              "        text-align: right;\n",
              "    }\n",
              "</style>\n",
              "<table border=\"1\" class=\"dataframe\">\n",
              "  <thead>\n",
              "    <tr style=\"text-align: right;\">\n",
              "      <th></th>\n",
              "      <th>calories</th>\n",
              "      <th>sodium</th>\n",
              "      <th>calcium</th>\n",
              "      <th>lipides</th>\n",
              "      <th>retinol</th>\n",
              "      <th>folates</th>\n",
              "      <th>proteines</th>\n",
              "      <th>cholesterol</th>\n",
              "      <th>magnesium</th>\n",
              "    </tr>\n",
              "    <tr>\n",
              "      <th>Fromages</th>\n",
              "      <th></th>\n",
              "      <th></th>\n",
              "      <th></th>\n",
              "      <th></th>\n",
              "      <th></th>\n",
              "      <th></th>\n",
              "      <th></th>\n",
              "      <th></th>\n",
              "      <th></th>\n",
              "    </tr>\n",
              "  </thead>\n",
              "  <tbody>\n",
              "    <tr>\n",
              "      <th>CarredelEst</th>\n",
              "      <td>314</td>\n",
              "      <td>353.5</td>\n",
              "      <td>72.6</td>\n",
              "      <td>26.3</td>\n",
              "      <td>51.6</td>\n",
              "      <td>30.3</td>\n",
              "      <td>21.0</td>\n",
              "      <td>70</td>\n",
              "      <td>20</td>\n",
              "    </tr>\n",
              "    <tr>\n",
              "      <th>Babybel</th>\n",
              "      <td>314</td>\n",
              "      <td>238.0</td>\n",
              "      <td>209.8</td>\n",
              "      <td>25.1</td>\n",
              "      <td>63.7</td>\n",
              "      <td>6.4</td>\n",
              "      <td>22.6</td>\n",
              "      <td>70</td>\n",
              "      <td>27</td>\n",
              "    </tr>\n",
              "    <tr>\n",
              "      <th>Beaufort</th>\n",
              "      <td>401</td>\n",
              "      <td>112.0</td>\n",
              "      <td>259.4</td>\n",
              "      <td>33.3</td>\n",
              "      <td>54.9</td>\n",
              "      <td>1.2</td>\n",
              "      <td>26.6</td>\n",
              "      <td>120</td>\n",
              "      <td>41</td>\n",
              "    </tr>\n",
              "    <tr>\n",
              "      <th>Bleu</th>\n",
              "      <td>342</td>\n",
              "      <td>336.0</td>\n",
              "      <td>211.1</td>\n",
              "      <td>28.9</td>\n",
              "      <td>37.1</td>\n",
              "      <td>27.5</td>\n",
              "      <td>20.2</td>\n",
              "      <td>90</td>\n",
              "      <td>27</td>\n",
              "    </tr>\n",
              "    <tr>\n",
              "      <th>Camembert</th>\n",
              "      <td>264</td>\n",
              "      <td>314.0</td>\n",
              "      <td>215.9</td>\n",
              "      <td>19.5</td>\n",
              "      <td>103.0</td>\n",
              "      <td>36.4</td>\n",
              "      <td>23.4</td>\n",
              "      <td>60</td>\n",
              "      <td>20</td>\n",
              "    </tr>\n",
              "  </tbody>\n",
              "</table>\n",
              "</div>\n",
              "      <button class=\"colab-df-convert\" onclick=\"convertToInteractive('df-1ed97bff-aced-419c-a811-aa12fb820a14')\"\n",
              "              title=\"Convert this dataframe to an interactive table.\"\n",
              "              style=\"display:none;\">\n",
              "        \n",
              "  <svg xmlns=\"http://www.w3.org/2000/svg\" height=\"24px\"viewBox=\"0 0 24 24\"\n",
              "       width=\"24px\">\n",
              "    <path d=\"M0 0h24v24H0V0z\" fill=\"none\"/>\n",
              "    <path d=\"M18.56 5.44l.94 2.06.94-2.06 2.06-.94-2.06-.94-.94-2.06-.94 2.06-2.06.94zm-11 1L8.5 8.5l.94-2.06 2.06-.94-2.06-.94L8.5 2.5l-.94 2.06-2.06.94zm10 10l.94 2.06.94-2.06 2.06-.94-2.06-.94-.94-2.06-.94 2.06-2.06.94z\"/><path d=\"M17.41 7.96l-1.37-1.37c-.4-.4-.92-.59-1.43-.59-.52 0-1.04.2-1.43.59L10.3 9.45l-7.72 7.72c-.78.78-.78 2.05 0 2.83L4 21.41c.39.39.9.59 1.41.59.51 0 1.02-.2 1.41-.59l7.78-7.78 2.81-2.81c.8-.78.8-2.07 0-2.86zM5.41 20L4 18.59l7.72-7.72 1.47 1.35L5.41 20z\"/>\n",
              "  </svg>\n",
              "      </button>\n",
              "      \n",
              "  <style>\n",
              "    .colab-df-container {\n",
              "      display:flex;\n",
              "      flex-wrap:wrap;\n",
              "      gap: 12px;\n",
              "    }\n",
              "\n",
              "    .colab-df-convert {\n",
              "      background-color: #E8F0FE;\n",
              "      border: none;\n",
              "      border-radius: 50%;\n",
              "      cursor: pointer;\n",
              "      display: none;\n",
              "      fill: #1967D2;\n",
              "      height: 32px;\n",
              "      padding: 0 0 0 0;\n",
              "      width: 32px;\n",
              "    }\n",
              "\n",
              "    .colab-df-convert:hover {\n",
              "      background-color: #E2EBFA;\n",
              "      box-shadow: 0px 1px 2px rgba(60, 64, 67, 0.3), 0px 1px 3px 1px rgba(60, 64, 67, 0.15);\n",
              "      fill: #174EA6;\n",
              "    }\n",
              "\n",
              "    [theme=dark] .colab-df-convert {\n",
              "      background-color: #3B4455;\n",
              "      fill: #D2E3FC;\n",
              "    }\n",
              "\n",
              "    [theme=dark] .colab-df-convert:hover {\n",
              "      background-color: #434B5C;\n",
              "      box-shadow: 0px 1px 3px 1px rgba(0, 0, 0, 0.15);\n",
              "      filter: drop-shadow(0px 1px 2px rgba(0, 0, 0, 0.3));\n",
              "      fill: #FFFFFF;\n",
              "    }\n",
              "  </style>\n",
              "\n",
              "      <script>\n",
              "        const buttonEl =\n",
              "          document.querySelector('#df-1ed97bff-aced-419c-a811-aa12fb820a14 button.colab-df-convert');\n",
              "        buttonEl.style.display =\n",
              "          google.colab.kernel.accessAllowed ? 'block' : 'none';\n",
              "\n",
              "        async function convertToInteractive(key) {\n",
              "          const element = document.querySelector('#df-1ed97bff-aced-419c-a811-aa12fb820a14');\n",
              "          const dataTable =\n",
              "            await google.colab.kernel.invokeFunction('convertToInteractive',\n",
              "                                                     [key], {});\n",
              "          if (!dataTable) return;\n",
              "\n",
              "          const docLinkHtml = 'Like what you see? Visit the ' +\n",
              "            '<a target=\"_blank\" href=https://colab.research.google.com/notebooks/data_table.ipynb>data table notebook</a>'\n",
              "            + ' to learn more about interactive tables.';\n",
              "          element.innerHTML = '';\n",
              "          dataTable['output_type'] = 'display_data';\n",
              "          await google.colab.output.renderOutput(dataTable, element);\n",
              "          const docLink = document.createElement('div');\n",
              "          docLink.innerHTML = docLinkHtml;\n",
              "          element.appendChild(docLink);\n",
              "        }\n",
              "      </script>\n",
              "    </div>\n",
              "  </div>\n",
              "  "
            ]
          },
          "metadata": {},
          "execution_count": 2
        }
      ]
    },
    {
      "cell_type": "markdown",
      "metadata": {
        "id": "MNXEYpg1TPlr"
      },
      "source": [
        "First exploration and description."
      ]
    },
    {
      "cell_type": "markdown",
      "metadata": {
        "id": "iXAuFkBkn1dz"
      },
      "source": [
        "**All together :**"
      ]
    },
    {
      "cell_type": "code",
      "metadata": {
        "id": "SXRergvOTPtf",
        "cellView": "both",
        "colab": {
          "base_uri": "https://localhost:8080/"
        },
        "outputId": "6b23e2ce-8cc1-464f-e6af-68d71fad6558"
      },
      "source": [
        "print(df)"
      ],
      "execution_count": null,
      "outputs": [
        {
          "output_type": "stream",
          "name": "stdout",
          "text": [
            "                    calories  sodium  calcium  lipides  retinol  folates  \\\n",
            "Fromages                                                                   \n",
            "CarredelEst              314   353.5     72.6     26.3     51.6     30.3   \n",
            "Babybel                  314   238.0    209.8     25.1     63.7      6.4   \n",
            "Beaufort                 401   112.0    259.4     33.3     54.9      1.2   \n",
            "Bleu                     342   336.0    211.1     28.9     37.1     27.5   \n",
            "Camembert                264   314.0    215.9     19.5    103.0     36.4   \n",
            "Cantal                   367   256.0    264.0     28.8     48.8      5.7   \n",
            "Chabichou                344   192.0     87.2     27.9     90.1     36.3   \n",
            "Chaource                 292   276.0    132.9     25.4    116.4     32.5   \n",
            "Cheddar                  406   172.0    182.3     32.5     76.4      4.9   \n",
            "Comte                    399    92.0    220.5     32.4     55.9      1.3   \n",
            "Coulomniers              308   222.0     79.2     25.6     63.6     21.1   \n",
            "Edam                     327   148.0    272.2     24.7     65.7      5.5   \n",
            "Emmental                 378    60.0    308.2     29.4     56.3      2.4   \n",
            "Fr.chevrepatemolle       206   160.0     72.8     18.5    150.5     31.0   \n",
            "Fr.fondu.45              292   390.0    168.5     24.0     77.4      5.5   \n",
            "Fr.frais20nat.            80    41.0    146.3      3.5     50.0     20.0   \n",
            "Fr.frais40nat.           115    25.0     94.8      7.8     64.3     22.6   \n",
            "Maroilles                338   311.0    236.7     29.1     46.7      3.6   \n",
            "Morbier                  347   285.0    219.0     29.5     57.6      5.8   \n",
            "Parmesan                 381   240.0    334.6     27.5     90.0      5.2   \n",
            "Petitsuisse40            142    22.0     78.2     10.4     63.4     20.4   \n",
            "PontlEveque              300   223.0    156.7     23.4     53.0      4.0   \n",
            "Pyrenees                 355   232.0    178.9     28.0     51.5      6.8   \n",
            "Reblochon                309   272.0    202.3     24.6     73.1      8.1   \n",
            "Rocquefort               370   432.0    162.0     31.2     83.5     13.3   \n",
            "SaintPaulin              298   205.0    261.0     23.3     60.4      6.7   \n",
            "Tome                     321   252.0    125.5     27.3     62.3      6.2   \n",
            "Vacherin                 321   140.0    218.0     29.3     49.2      3.7   \n",
            "Yaourtlaitent.nat.        70    91.0    215.7      3.4     42.9      2.9   \n",
            "\n",
            "                    proteines  cholesterol  magnesium  \n",
            "Fromages                                               \n",
            "CarredelEst              21.0           70         20  \n",
            "Babybel                  22.6           70         27  \n",
            "Beaufort                 26.6          120         41  \n",
            "Bleu                     20.2           90         27  \n",
            "Camembert                23.4           60         20  \n",
            "Cantal                   23.0           90         30  \n",
            "Chabichou                19.5           80         36  \n",
            "Chaource                 17.8           70         25  \n",
            "Cheddar                  26.0          110         28  \n",
            "Comte                    29.2          120         51  \n",
            "Coulomniers              20.5           80         13  \n",
            "Edam                     24.7           80         44  \n",
            "Emmental                 29.4          110         45  \n",
            "Fr.chevrepatemolle       11.1           50         16  \n",
            "Fr.fondu.45              16.8           70         20  \n",
            "Fr.frais20nat.            8.3           10         11  \n",
            "Fr.frais40nat.            7.0           30         10  \n",
            "Maroilles                20.4           90         40  \n",
            "Morbier                  23.6           80         30  \n",
            "Parmesan                 35.7           80         46  \n",
            "Petitsuisse40             9.4           20         10  \n",
            "PontlEveque              21.1           70         22  \n",
            "Pyrenees                 22.4           90         25  \n",
            "Reblochon                19.7           80         30  \n",
            "Rocquefort               18.7          100         25  \n",
            "SaintPaulin              23.3           70         26  \n",
            "Tome                     21.8           80         20  \n",
            "Vacherin                 17.6           80         30  \n",
            "Yaourtlaitent.nat.        4.1           13         14  \n"
          ]
        }
      ]
    },
    {
      "cell_type": "markdown",
      "metadata": {
        "id": "YjU-julSn56T"
      },
      "source": [
        "**Description :**"
      ]
    },
    {
      "cell_type": "code",
      "metadata": {
        "cellView": "both",
        "id": "Tq1EutFWn56T",
        "colab": {
          "base_uri": "https://localhost:8080/",
          "height": 300
        },
        "outputId": "4d1a73ae-a48f-4dcd-edb3-5cc6933b7de9"
      },
      "source": [
        "df.describe()"
      ],
      "execution_count": null,
      "outputs": [
        {
          "output_type": "execute_result",
          "data": {
            "text/plain": [
              "         calories      sodium     calcium    lipides     retinol    folates  \\\n",
              "count   29.000000   29.000000   29.000000  29.000000   29.000000  29.000000   \n",
              "mean   300.034483  210.086207  185.734483  24.158621   67.562069  13.010345   \n",
              "std     91.914356  108.678923   72.528882   8.129642   24.163098  11.723339   \n",
              "min     70.000000   22.000000   72.600000   3.400000   37.100000   1.200000   \n",
              "25%    292.000000  140.000000  132.900000  23.400000   51.600000   4.900000   \n",
              "50%    321.000000  223.000000  202.300000  26.300000   62.300000   6.400000   \n",
              "75%    355.000000  276.000000  220.500000  29.100000   76.400000  21.100000   \n",
              "max    406.000000  432.000000  334.600000  33.300000  150.500000  36.400000   \n",
              "\n",
              "       proteines  cholesterol  magnesium  \n",
              "count  29.000000    29.000000  29.000000  \n",
              "mean   20.168966    74.586207  26.965517  \n",
              "std     6.959788    28.245755  11.318388  \n",
              "min     4.100000    10.000000  10.000000  \n",
              "25%    17.800000    70.000000  20.000000  \n",
              "50%    21.000000    80.000000  26.000000  \n",
              "75%    23.400000    90.000000  30.000000  \n",
              "max    35.700000   120.000000  51.000000  "
            ],
            "text/html": [
              "\n",
              "  <div id=\"df-b7fbc993-34b4-4714-94b2-136ea3fdfe4f\">\n",
              "    <div class=\"colab-df-container\">\n",
              "      <div>\n",
              "<style scoped>\n",
              "    .dataframe tbody tr th:only-of-type {\n",
              "        vertical-align: middle;\n",
              "    }\n",
              "\n",
              "    .dataframe tbody tr th {\n",
              "        vertical-align: top;\n",
              "    }\n",
              "\n",
              "    .dataframe thead th {\n",
              "        text-align: right;\n",
              "    }\n",
              "</style>\n",
              "<table border=\"1\" class=\"dataframe\">\n",
              "  <thead>\n",
              "    <tr style=\"text-align: right;\">\n",
              "      <th></th>\n",
              "      <th>calories</th>\n",
              "      <th>sodium</th>\n",
              "      <th>calcium</th>\n",
              "      <th>lipides</th>\n",
              "      <th>retinol</th>\n",
              "      <th>folates</th>\n",
              "      <th>proteines</th>\n",
              "      <th>cholesterol</th>\n",
              "      <th>magnesium</th>\n",
              "    </tr>\n",
              "  </thead>\n",
              "  <tbody>\n",
              "    <tr>\n",
              "      <th>count</th>\n",
              "      <td>29.000000</td>\n",
              "      <td>29.000000</td>\n",
              "      <td>29.000000</td>\n",
              "      <td>29.000000</td>\n",
              "      <td>29.000000</td>\n",
              "      <td>29.000000</td>\n",
              "      <td>29.000000</td>\n",
              "      <td>29.000000</td>\n",
              "      <td>29.000000</td>\n",
              "    </tr>\n",
              "    <tr>\n",
              "      <th>mean</th>\n",
              "      <td>300.034483</td>\n",
              "      <td>210.086207</td>\n",
              "      <td>185.734483</td>\n",
              "      <td>24.158621</td>\n",
              "      <td>67.562069</td>\n",
              "      <td>13.010345</td>\n",
              "      <td>20.168966</td>\n",
              "      <td>74.586207</td>\n",
              "      <td>26.965517</td>\n",
              "    </tr>\n",
              "    <tr>\n",
              "      <th>std</th>\n",
              "      <td>91.914356</td>\n",
              "      <td>108.678923</td>\n",
              "      <td>72.528882</td>\n",
              "      <td>8.129642</td>\n",
              "      <td>24.163098</td>\n",
              "      <td>11.723339</td>\n",
              "      <td>6.959788</td>\n",
              "      <td>28.245755</td>\n",
              "      <td>11.318388</td>\n",
              "    </tr>\n",
              "    <tr>\n",
              "      <th>min</th>\n",
              "      <td>70.000000</td>\n",
              "      <td>22.000000</td>\n",
              "      <td>72.600000</td>\n",
              "      <td>3.400000</td>\n",
              "      <td>37.100000</td>\n",
              "      <td>1.200000</td>\n",
              "      <td>4.100000</td>\n",
              "      <td>10.000000</td>\n",
              "      <td>10.000000</td>\n",
              "    </tr>\n",
              "    <tr>\n",
              "      <th>25%</th>\n",
              "      <td>292.000000</td>\n",
              "      <td>140.000000</td>\n",
              "      <td>132.900000</td>\n",
              "      <td>23.400000</td>\n",
              "      <td>51.600000</td>\n",
              "      <td>4.900000</td>\n",
              "      <td>17.800000</td>\n",
              "      <td>70.000000</td>\n",
              "      <td>20.000000</td>\n",
              "    </tr>\n",
              "    <tr>\n",
              "      <th>50%</th>\n",
              "      <td>321.000000</td>\n",
              "      <td>223.000000</td>\n",
              "      <td>202.300000</td>\n",
              "      <td>26.300000</td>\n",
              "      <td>62.300000</td>\n",
              "      <td>6.400000</td>\n",
              "      <td>21.000000</td>\n",
              "      <td>80.000000</td>\n",
              "      <td>26.000000</td>\n",
              "    </tr>\n",
              "    <tr>\n",
              "      <th>75%</th>\n",
              "      <td>355.000000</td>\n",
              "      <td>276.000000</td>\n",
              "      <td>220.500000</td>\n",
              "      <td>29.100000</td>\n",
              "      <td>76.400000</td>\n",
              "      <td>21.100000</td>\n",
              "      <td>23.400000</td>\n",
              "      <td>90.000000</td>\n",
              "      <td>30.000000</td>\n",
              "    </tr>\n",
              "    <tr>\n",
              "      <th>max</th>\n",
              "      <td>406.000000</td>\n",
              "      <td>432.000000</td>\n",
              "      <td>334.600000</td>\n",
              "      <td>33.300000</td>\n",
              "      <td>150.500000</td>\n",
              "      <td>36.400000</td>\n",
              "      <td>35.700000</td>\n",
              "      <td>120.000000</td>\n",
              "      <td>51.000000</td>\n",
              "    </tr>\n",
              "  </tbody>\n",
              "</table>\n",
              "</div>\n",
              "      <button class=\"colab-df-convert\" onclick=\"convertToInteractive('df-b7fbc993-34b4-4714-94b2-136ea3fdfe4f')\"\n",
              "              title=\"Convert this dataframe to an interactive table.\"\n",
              "              style=\"display:none;\">\n",
              "        \n",
              "  <svg xmlns=\"http://www.w3.org/2000/svg\" height=\"24px\"viewBox=\"0 0 24 24\"\n",
              "       width=\"24px\">\n",
              "    <path d=\"M0 0h24v24H0V0z\" fill=\"none\"/>\n",
              "    <path d=\"M18.56 5.44l.94 2.06.94-2.06 2.06-.94-2.06-.94-.94-2.06-.94 2.06-2.06.94zm-11 1L8.5 8.5l.94-2.06 2.06-.94-2.06-.94L8.5 2.5l-.94 2.06-2.06.94zm10 10l.94 2.06.94-2.06 2.06-.94-2.06-.94-.94-2.06-.94 2.06-2.06.94z\"/><path d=\"M17.41 7.96l-1.37-1.37c-.4-.4-.92-.59-1.43-.59-.52 0-1.04.2-1.43.59L10.3 9.45l-7.72 7.72c-.78.78-.78 2.05 0 2.83L4 21.41c.39.39.9.59 1.41.59.51 0 1.02-.2 1.41-.59l7.78-7.78 2.81-2.81c.8-.78.8-2.07 0-2.86zM5.41 20L4 18.59l7.72-7.72 1.47 1.35L5.41 20z\"/>\n",
              "  </svg>\n",
              "      </button>\n",
              "      \n",
              "  <style>\n",
              "    .colab-df-container {\n",
              "      display:flex;\n",
              "      flex-wrap:wrap;\n",
              "      gap: 12px;\n",
              "    }\n",
              "\n",
              "    .colab-df-convert {\n",
              "      background-color: #E8F0FE;\n",
              "      border: none;\n",
              "      border-radius: 50%;\n",
              "      cursor: pointer;\n",
              "      display: none;\n",
              "      fill: #1967D2;\n",
              "      height: 32px;\n",
              "      padding: 0 0 0 0;\n",
              "      width: 32px;\n",
              "    }\n",
              "\n",
              "    .colab-df-convert:hover {\n",
              "      background-color: #E2EBFA;\n",
              "      box-shadow: 0px 1px 2px rgba(60, 64, 67, 0.3), 0px 1px 3px 1px rgba(60, 64, 67, 0.15);\n",
              "      fill: #174EA6;\n",
              "    }\n",
              "\n",
              "    [theme=dark] .colab-df-convert {\n",
              "      background-color: #3B4455;\n",
              "      fill: #D2E3FC;\n",
              "    }\n",
              "\n",
              "    [theme=dark] .colab-df-convert:hover {\n",
              "      background-color: #434B5C;\n",
              "      box-shadow: 0px 1px 3px 1px rgba(0, 0, 0, 0.15);\n",
              "      filter: drop-shadow(0px 1px 2px rgba(0, 0, 0, 0.3));\n",
              "      fill: #FFFFFF;\n",
              "    }\n",
              "  </style>\n",
              "\n",
              "      <script>\n",
              "        const buttonEl =\n",
              "          document.querySelector('#df-b7fbc993-34b4-4714-94b2-136ea3fdfe4f button.colab-df-convert');\n",
              "        buttonEl.style.display =\n",
              "          google.colab.kernel.accessAllowed ? 'block' : 'none';\n",
              "\n",
              "        async function convertToInteractive(key) {\n",
              "          const element = document.querySelector('#df-b7fbc993-34b4-4714-94b2-136ea3fdfe4f');\n",
              "          const dataTable =\n",
              "            await google.colab.kernel.invokeFunction('convertToInteractive',\n",
              "                                                     [key], {});\n",
              "          if (!dataTable) return;\n",
              "\n",
              "          const docLinkHtml = 'Like what you see? Visit the ' +\n",
              "            '<a target=\"_blank\" href=https://colab.research.google.com/notebooks/data_table.ipynb>data table notebook</a>'\n",
              "            + ' to learn more about interactive tables.';\n",
              "          element.innerHTML = '';\n",
              "          dataTable['output_type'] = 'display_data';\n",
              "          await google.colab.output.renderOutput(dataTable, element);\n",
              "          const docLink = document.createElement('div');\n",
              "          docLink.innerHTML = docLinkHtml;\n",
              "          element.appendChild(docLink);\n",
              "        }\n",
              "      </script>\n",
              "    </div>\n",
              "  </div>\n",
              "  "
            ]
          },
          "metadata": {},
          "execution_count": 4
        }
      ]
    },
    {
      "cell_type": "markdown",
      "metadata": {
        "id": "Daf7HsyWn5g0"
      },
      "source": [
        "**Features names :**"
      ]
    },
    {
      "cell_type": "code",
      "metadata": {
        "cellView": "both",
        "id": "ixCDr0M-n5g1",
        "colab": {
          "base_uri": "https://localhost:8080/"
        },
        "outputId": "9a62d86a-f87d-4adc-9e27-3555cfd43141"
      },
      "source": [
        "print(df.columns)"
      ],
      "execution_count": null,
      "outputs": [
        {
          "output_type": "stream",
          "name": "stdout",
          "text": [
            "Index(['calories', 'sodium', 'calcium', 'lipides', 'retinol', 'folates',\n",
            "       'proteines', 'cholesterol', 'magnesium'],\n",
            "      dtype='object')\n"
          ]
        }
      ]
    },
    {
      "cell_type": "markdown",
      "metadata": {
        "id": "RE28sdBlWV-u"
      },
      "source": [
        "## 3.Hierarchical clustering\n",
        "`Agglomerative Clustering` is the provided class from sklearn for recursively merges pair of clusters of sample data; uses linkage distance.  \n",
        "See [sklearn Agglomerative Clustering](https://scikit-learn.org/stable/modules/generated/sklearn.cluster.AgglomerativeClustering.html#sklearn.cluster.AgglomerativeClustering)"
      ]
    },
    {
      "cell_type": "markdown",
      "source": [
        "###3.1 Compute clustering"
      ],
      "metadata": {
        "id": "K7Pup0PrCtpm"
      }
    },
    {
      "cell_type": "code",
      "source": [
        "hc = AgglomerativeClustering(compute_distances=True).fit(df)\n",
        "hc"
      ],
      "metadata": {
        "colab": {
          "base_uri": "https://localhost:8080/"
        },
        "id": "uFotcPKlCx8E",
        "outputId": "01f0dacf-c37e-4695-f4d9-b31172984e2c"
      },
      "execution_count": null,
      "outputs": [
        {
          "output_type": "execute_result",
          "data": {
            "text/plain": [
              "AgglomerativeClustering(compute_distances=True)"
            ]
          },
          "metadata": {},
          "execution_count": 6
        }
      ]
    },
    {
      "cell_type": "markdown",
      "source": [
        "Get the number of clusters found by the algorithm (`n_clusters=2` is the default)"
      ],
      "metadata": {
        "id": "0tWGqC5_C7Qg"
      }
    },
    {
      "cell_type": "code",
      "source": [
        "hc.n_clusters_"
      ],
      "metadata": {
        "colab": {
          "base_uri": "https://localhost:8080/"
        },
        "id": "Ff3Xb6INC7X_",
        "outputId": "cbca82c9-cf36-4405-a04c-4c8e5089b988"
      },
      "execution_count": null,
      "outputs": [
        {
          "output_type": "execute_result",
          "data": {
            "text/plain": [
              "2"
            ]
          },
          "metadata": {},
          "execution_count": 7
        }
      ]
    },
    {
      "cell_type": "markdown",
      "source": [
        "Get the cluster labels for each point."
      ],
      "metadata": {
        "id": "eNJ59lKwC7eW"
      }
    },
    {
      "cell_type": "code",
      "source": [
        "hc.labels_"
      ],
      "metadata": {
        "colab": {
          "base_uri": "https://localhost:8080/"
        },
        "id": "MSrHtKRCC7yH",
        "outputId": "d9f76fde-fb30-46c3-ab02-a6740f8d161c"
      },
      "execution_count": null,
      "outputs": [
        {
          "output_type": "execute_result",
          "data": {
            "text/plain": [
              "array([0, 0, 0, 0, 0, 0, 0, 0, 0, 0, 0, 0, 0, 0, 0, 1, 1, 0, 0, 0, 1, 0,\n",
              "       0, 0, 0, 0, 0, 0, 1])"
            ]
          },
          "metadata": {},
          "execution_count": 8
        }
      ]
    },
    {
      "cell_type": "markdown",
      "source": [
        "Get the number of leaves in the hierarchical tree."
      ],
      "metadata": {
        "id": "E30jWaOoC70i"
      }
    },
    {
      "cell_type": "code",
      "source": [
        "hc.n_leaves_"
      ],
      "metadata": {
        "colab": {
          "base_uri": "https://localhost:8080/"
        },
        "id": "OplifNiJC72X",
        "outputId": "82f1c247-a7c6-480a-cf6e-c4cc4ba1372d"
      },
      "execution_count": null,
      "outputs": [
        {
          "output_type": "execute_result",
          "data": {
            "text/plain": [
              "29"
            ]
          },
          "metadata": {},
          "execution_count": 9
        }
      ]
    },
    {
      "cell_type": "markdown",
      "source": [
        "Get the estimated number of connected components in the graph."
      ],
      "metadata": {
        "id": "prTufsaxC79f"
      }
    },
    {
      "cell_type": "code",
      "source": [
        "hc.n_connected_components_"
      ],
      "metadata": {
        "colab": {
          "base_uri": "https://localhost:8080/"
        },
        "id": "PR43_4oHC8Ev",
        "outputId": "59caee94-2738-4c18-b4a8-457965262cf8"
      },
      "execution_count": null,
      "outputs": [
        {
          "output_type": "execute_result",
          "data": {
            "text/plain": [
              "1"
            ]
          },
          "metadata": {},
          "execution_count": 10
        }
      ]
    },
    {
      "cell_type": "markdown",
      "source": [
        "Get the number of features seen during fit."
      ],
      "metadata": {
        "id": "tXd106XUC8LV"
      }
    },
    {
      "cell_type": "code",
      "source": [
        "hc.n_features_in_"
      ],
      "metadata": {
        "colab": {
          "base_uri": "https://localhost:8080/"
        },
        "id": "hl8FlkaLC8g9",
        "outputId": "96518893-69ab-4341-b756-cd7c6b0986a4"
      },
      "execution_count": null,
      "outputs": [
        {
          "output_type": "execute_result",
          "data": {
            "text/plain": [
              "9"
            ]
          },
          "metadata": {},
          "execution_count": 11
        }
      ]
    },
    {
      "cell_type": "markdown",
      "source": [
        "Get the names of features seen during fit."
      ],
      "metadata": {
        "id": "c8yz2_SkDOcD"
      }
    },
    {
      "cell_type": "code",
      "source": [
        "hc.feature_names_in_"
      ],
      "metadata": {
        "colab": {
          "base_uri": "https://localhost:8080/"
        },
        "id": "JuM2XbosE6M8",
        "outputId": "430beddc-8b11-473f-c82f-3dad2453054c"
      },
      "execution_count": null,
      "outputs": [
        {
          "output_type": "execute_result",
          "data": {
            "text/plain": [
              "array(['calories', 'sodium', 'calcium', 'lipides', 'retinol', 'folates',\n",
              "       'proteines', 'cholesterol', 'magnesium'], dtype=object)"
            ]
          },
          "metadata": {},
          "execution_count": 12
        }
      ]
    },
    {
      "cell_type": "markdown",
      "source": [
        "Get the children of each non-leaf node."
      ],
      "metadata": {
        "id": "aMmJgGqaE6cE"
      }
    },
    {
      "cell_type": "code",
      "source": [
        "hc.children_"
      ],
      "metadata": {
        "colab": {
          "base_uri": "https://localhost:8080/"
        },
        "id": "M4uHnTXCDOjh",
        "outputId": "eb24c65b-5bbf-4b83-ffea-b0fbdc28283e"
      },
      "execution_count": null,
      "outputs": [
        {
          "output_type": "execute_result",
          "data": {
            "text/plain": [
              "array([[16, 20],\n",
              "       [17, 18],\n",
              "       [ 1, 23],\n",
              "       [ 2,  9],\n",
              "       [21, 26],\n",
              "       [ 3, 30],\n",
              "       [11, 27],\n",
              "       [ 6, 10],\n",
              "       [22, 31],\n",
              "       [25, 35],\n",
              "       [ 5, 19],\n",
              "       [15, 28],\n",
              "       [ 7, 33],\n",
              "       [14, 24],\n",
              "       [12, 32],\n",
              "       [37, 41],\n",
              "       [ 4, 34],\n",
              "       [ 0, 42],\n",
              "       [ 8, 38],\n",
              "       [36, 44],\n",
              "       [29, 40],\n",
              "       [39, 47],\n",
              "       [45, 46],\n",
              "       [13, 48],\n",
              "       [43, 50],\n",
              "       [51, 52],\n",
              "       [53, 54],\n",
              "       [49, 55]])"
            ]
          },
          "metadata": {},
          "execution_count": 13
        }
      ]
    },
    {
      "cell_type": "markdown",
      "source": [
        "And finally, get the distances between nodes in the corresponding place in `children_`."
      ],
      "metadata": {
        "id": "sp9-CrIvDOqX"
      }
    },
    {
      "cell_type": "code",
      "source": [
        "hc.distances_"
      ],
      "metadata": {
        "colab": {
          "base_uri": "https://localhost:8080/"
        },
        "id": "OilLz-EpDOw3",
        "outputId": "ecf7fc4d-47a7-4739-bd58-2396bda82d78"
      },
      "execution_count": null,
      "outputs": [
        {
          "output_type": "execute_result",
          "data": {
            "text/plain": [
              "array([ 33.64119498,  37.47452468,  38.02841043,  45.00877692,\n",
              "        49.66356814,  58.4642911 ,  59.83895053,  61.06209954,\n",
              "        70.17045912,  80.84746955,  87.48159806,  88.28833445,\n",
              "        90.54197921,  94.70348462,  96.77015725, 112.88916393,\n",
              "       127.57537641, 135.11430963, 147.18239252, 167.84122209,\n",
              "       168.68274956, 182.17390044, 219.67433797, 236.78176251,\n",
              "       238.93372628, 356.96703351, 571.05871599, 825.48803759])"
            ]
          },
          "metadata": {},
          "execution_count": 14
        }
      ]
    },
    {
      "cell_type": "markdown",
      "source": [
        "###3.2 Plot the dendogram\n",
        "Dendogram's plot is not a implemented in sklearn.  \n",
        "Howerver `scipy` offers the possibility to plot dendogram thanks to the `cluster.hierarchy` module.  \n",
        "See [scipy - cluster.hierarchy.dendrogram](https://docs.scipy.org/doc/scipy/reference/generated/scipy.cluster.hierarchy.dendrogram.html#scipy.cluster.hierarchy.dendrogram) documentation."
      ],
      "metadata": {
        "id": "-f-2_h0kDO4q"
      }
    },
    {
      "cell_type": "code",
      "source": [
        "import scipy.cluster.hierarchy as shc"
      ],
      "metadata": {
        "id": "Zr6KEmWjGb8v"
      },
      "execution_count": null,
      "outputs": []
    },
    {
      "cell_type": "markdown",
      "source": [
        "First, compute again the linkage matrix (distances)."
      ],
      "metadata": {
        "id": "7u1l-vDcF4AX"
      }
    },
    {
      "cell_type": "code",
      "source": [
        "linkage_matrix = shc.linkage(df, method='ward')\n",
        "linkage_matrix"
      ],
      "metadata": {
        "colab": {
          "base_uri": "https://localhost:8080/"
        },
        "id": "guDAPasMDO_d",
        "outputId": "e923f9e3-c097-4c96-e1dd-79556fe7b722"
      },
      "execution_count": null,
      "outputs": [
        {
          "output_type": "execute_result",
          "data": {
            "text/plain": [
              "array([[ 16.        ,  20.        ,  33.64119498,   2.        ],\n",
              "       [ 17.        ,  18.        ,  37.47452468,   2.        ],\n",
              "       [  1.        ,  23.        ,  38.02841043,   2.        ],\n",
              "       [  2.        ,   9.        ,  45.00877692,   2.        ],\n",
              "       [ 21.        ,  26.        ,  49.66356814,   2.        ],\n",
              "       [  3.        ,  30.        ,  58.4642911 ,   3.        ],\n",
              "       [ 11.        ,  27.        ,  59.83895053,   2.        ],\n",
              "       [  6.        ,  10.        ,  61.06209954,   2.        ],\n",
              "       [ 22.        ,  31.        ,  70.17045912,   3.        ],\n",
              "       [ 25.        ,  35.        ,  80.84746955,   3.        ],\n",
              "       [  5.        ,  19.        ,  87.48159806,   2.        ],\n",
              "       [ 15.        ,  28.        ,  88.28833445,   2.        ],\n",
              "       [  7.        ,  33.        ,  90.54197921,   3.        ],\n",
              "       [ 14.        ,  24.        ,  94.70348462,   2.        ],\n",
              "       [ 12.        ,  32.        ,  96.77015725,   3.        ],\n",
              "       [ 37.        ,  41.        , 112.88916393,   6.        ],\n",
              "       [  4.        ,  34.        , 127.57537641,   4.        ],\n",
              "       [  0.        ,  42.        , 135.11430963,   3.        ],\n",
              "       [  8.        ,  38.        , 147.18239252,   4.        ],\n",
              "       [ 36.        ,  44.        , 167.84122209,   8.        ],\n",
              "       [ 29.        ,  40.        , 168.68274956,   4.        ],\n",
              "       [ 39.        ,  47.        , 182.17390044,   6.        ],\n",
              "       [ 45.        ,  46.        , 219.67433797,   7.        ],\n",
              "       [ 13.        ,  48.        , 236.78176251,   9.        ],\n",
              "       [ 43.        ,  50.        , 238.93372628,   9.        ],\n",
              "       [ 51.        ,  52.        , 356.96703351,  16.        ],\n",
              "       [ 53.        ,  54.        , 571.05871599,  25.        ],\n",
              "       [ 49.        ,  55.        , 825.48803759,  29.        ]])"
            ]
          },
          "metadata": {},
          "execution_count": 16
        }
      ]
    },
    {
      "cell_type": "markdown",
      "source": [
        "**What kind of interpretation of this matrix ?**"
      ],
      "metadata": {
        "id": "DhjeS8ZNDPFi"
      }
    },
    {
      "cell_type": "markdown",
      "source": [
        "Then, plot the dendogram."
      ],
      "metadata": {
        "id": "aNZ_AFn2GVfp"
      }
    },
    {
      "cell_type": "code",
      "metadata": {
        "id": "9SyCRZzXoq5O",
        "colab": {
          "base_uri": "https://localhost:8080/",
          "height": 444
        },
        "outputId": "59c3a84c-6755-4896-9b43-cac974fcbb81"
      },
      "source": [
        "plt.figure(figsize=(10, 7))\n",
        "plt.title(\"Cheese Dendogram\")\n",
        "dend = shc.dendrogram(linkage_matrix, labels=df.index, orientation='right')"
      ],
      "execution_count": null,
      "outputs": [
        {
          "output_type": "display_data",
          "data": {
            "text/plain": [
              "<Figure size 720x504 with 1 Axes>"
            ],
            "image/png": "[encoded data removed]"
          },
          "metadata": {
            "needs_background": "light"
          }
        }
      ]
    },
    {
      "cell_type": "markdown",
      "source": [
        "**How many clusters for optimal partition ?**  \n",
        "**Are you agree with the choice of 2 clusters ?**  \n",
        "**What kind of interpretation of this matrix ?**"
      ],
      "metadata": {
        "id": "wHZc7j4pG92c"
      }
    },
    {
      "cell_type": "markdown",
      "source": [
        "###3.3 Plot the dendogram & correlation matrix\n",
        "From this [ressource](http://www.xavierdupre.fr/app/ensae_teaching_cs/helpsphinx/notebooks/td2a_correction_session_3A.html), dendogram and correlation matrix might associated for better understanding."
      ],
      "metadata": {
        "id": "JBJbXPZoIKp3"
      }
    },
    {
      "cell_type": "code",
      "source": [
        "from scipy.spatial.distance import pdist, squareform\n",
        "from scipy.cluster.hierarchy import dendrogram\n",
        "import matplotlib.pyplot as plt\n",
        "\n",
        "data_dist = pdist(df)\n",
        "\n",
        "fig = plt.figure(figsize=(8,8))\n",
        "\n",
        "# x ywidth height\n",
        "ax1 = fig.add_axes([0.05,0.1,0.2,0.6])\n",
        "Z1 = dendrogram(linkage_matrix, orientation='right',labels=list(df.index))\n",
        "ax1.set_xticks([])\n",
        "\n",
        "# Compute and plot second dendrogram.\n",
        "ax2 = fig.add_axes([0.3,0.71,0.6,0.2])\n",
        "Z2 = dendrogram(linkage_matrix)\n",
        "ax2.set_xticks([])\n",
        "ax2.set_yticks([])\n",
        "\n",
        "# Compute and plot the heatmap\n",
        "axmatrix = fig.add_axes([0.3,0.1,0.6,0.6])\n",
        "idx1 = Z1['leaves']\n",
        "idx2 = Z2['leaves']\n",
        "\n",
        "D = squareform(data_dist)\n",
        "D = D[idx1,:]\n",
        "D = D[:,idx2]\n",
        "im = axmatrix.matshow(D, aspect='auto', origin='lower', cmap=plt.cm.YlGnBu)\n",
        "axmatrix.set_xticks([])\n",
        "axmatrix.set_yticks([])\n",
        "\n",
        "# Plot colorbar.\n",
        "axcolor = fig.add_axes([0.91,0.1,0.02,0.6])\n",
        "plt.colorbar(im, cax=axcolor)\n",
        "plt.title(\"Correlation matrix & Dendogram\")"
      ],
      "metadata": {
        "colab": {
          "base_uri": "https://localhost:8080/",
          "height": 521
        },
        "id": "hhdaiouVIKx0",
        "outputId": "7f98030a-83ad-42ad-ef1a-7c2cbae24303"
      },
      "execution_count": null,
      "outputs": [
        {
          "output_type": "execute_result",
          "data": {
            "text/plain": [
              "Text(0.5, 1.0, 'Correlation matrix & Dendogram')"
            ]
          },
          "metadata": {},
          "execution_count": 18
        },
        {
          "output_type": "display_data",
          "data": {
            "text/plain": [
              "<Figure size 576x576 with 4 Axes>"
            ],
            "image/png": "[encoded data removed]"
          },
          "metadata": {
            "needs_background": "light"
          }
        }
      ]
    },
    {
      "cell_type": "markdown",
      "source": [
        "## 4.Conclusions\n",
        "Hierarchical clustering offers somes pros and cons as many other ML algorithm. \n",
        "* pros: allow to sum up the data, dedicated for small-medium data sets.\n",
        "* cons: computationally demanding, fails on larger data sets.\n"
      ],
      "metadata": {
        "id": "4swmkn4jP-qU"
      }
    },
    {
      "cell_type": "code",
      "source": [
        ""
      ],
      "metadata": {
        "id": "k3ozzl8jJkp2"
      },
      "execution_count": null,
      "outputs": []
    }
  ]
}