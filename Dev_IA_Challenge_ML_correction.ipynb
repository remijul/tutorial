{
  "nbformat": 4,
  "nbformat_minor": 0,
  "metadata": {
    "colab": {
      "provenance": [],
      "toc_visible": true,
      "include_colab_link": true
    },
    "kernelspec": {
      "name": "python3",
      "display_name": "Python 3"
    }
  },
  "cells": [
    {
      "cell_type": "markdown",
      "metadata": {
        "id": "view-in-github",
        "colab_type": "text"
      },
      "source": [
        "<a href=\"https://colab.research.google.com/github/remijul/tutorial/blob/master/Dev_IA_Challenge_ML_correction.ipynb\" target=\"_parent\"><img src=\"https://colab.research.google.com/assets/colab-badge.svg\" alt=\"Open In Colab\"/></a>"
      ]
    },
    {
      "cell_type": "markdown",
      "metadata": {
        "id": "pJsqufvk5fOq"
      },
      "source": [
        "# Challenge ML\n",
        "\n",
        "**Bienvenue dans le challenge ML !** Il s'agit d'évaluer les compétences acquises pour développer un modèle de Machine Learning.\n",
        "\n",
        "Vous allez développer un classifieur automatique de Spam grâce à une collection existante de SMS labellisés (Spam / Ham). Ce dataset provient de [UCI Machine Learning Repository](https://archive.ics.uci.edu/dataset/228/sms+spam+collection).  \n",
        "Pour ce challenge, voici les étapes sur lesquelles vous serez particulièrement évalué :\n",
        "- Preprocessing\n",
        "- Automatisation du process avec un pipeline\n",
        "- Entrainement et validation croisée des modèles\n",
        "- Recherche des hyper-paramètres\n",
        "- Comparaison de différents modèles de classification\n",
        "- Sélection d'une métrique d'erreur convenablement choisie vis-à-vis du contexte\n",
        "- Sélection d'un modèle de classification et justification du choix  \n",
        "\n",
        "Et en bonus :\n",
        "- Compréhension et analyses des erreurs du modèle\n",
        "- Compréhension et analyses des caractéristiques (features) d'intérêt\n",
        "  \n",
        "**Consignes :**\n",
        "- Faites une copie de ce notebook et modifiez-le librement.\n",
        "- Structuer votre notebook afin d'en faire un véritable rapport :\n",
        "  - Titres, zones de texte et zones de code.\n",
        "  - Il est important d'apporter des explications et des justifications pour les choix réalisés.\n",
        "- En fin de challenge, partagez votre travail sur Simplonline (veuillez vous assurer que les accès à votre document sont autorisés à des tiers)."
      ]
    },
    {
      "cell_type": "markdown",
      "source": [
        "#1.Chargement des librairies"
      ],
      "metadata": {
        "id": "5IbBCDL-3hRL"
      }
    },
    {
      "cell_type": "code",
      "source": [
        "# Data\n",
        "import pandas as pd\n",
        "import numpy as np\n",
        "\n",
        "# Graphics\n",
        "import seaborn as sns ; sns.set()\n",
        "\n",
        "# Machine learning - Preprocessing\n",
        "from sklearn.feature_extraction.text import CountVectorizer, TfidfVectorizer\n",
        "\n",
        "# Machine learning - Automatisation\n",
        "from sklearn.pipeline import Pipeline\n",
        "from sklearn import set_config\n",
        "\n",
        "# Machine learning - Models\n",
        "from sklearn.linear_model import LogisticRegression\n",
        "from sklearn.svm import SVC\n",
        "from sklearn.ensemble import RandomForestClassifier, GradientBoostingClassifier, HistGradientBoostingClassifier\n",
        "from sklearn.naive_bayes import GaussianNB, MultinomialNB\n",
        "\n",
        "# Machine learning - Model selection\n",
        "from sklearn.model_selection import train_test_split, GridSearchCV\n",
        "\n",
        "# Machine learning - Metrics\n",
        "from sklearn import metrics\n",
        "from sklearn.metrics import confusion_matrix, accuracy_score, ConfusionMatrixDisplay, f1_score, recall_score, fbeta_score, make_scorer"
      ],
      "metadata": {
        "id": "NSylVOpy3hg5"
      },
      "execution_count": 2,
      "outputs": []
    },
    {
      "cell_type": "markdown",
      "source": [
        "#2.Chargement de la collection de SMS"
      ],
      "metadata": {
        "id": "6y1xm1u0FmiE"
      }
    },
    {
      "cell_type": "code",
      "source": [
        "url = \"https://raw.githubusercontent.com/remijul/dataset/master/SMSSpamCollection\"\n",
        "df = pd.read_csv(url, sep=\"\\t\", header=0, names=['label', 'message'])\n",
        "df.head()"
      ],
      "metadata": {
        "colab": {
          "base_uri": "https://localhost:8080/",
          "height": 206
        },
        "id": "cq-CXuXW3sls",
        "outputId": "d0c50df1-db89-4fec-953d-a7edbfc69993"
      },
      "execution_count": 3,
      "outputs": [
        {
          "output_type": "execute_result",
          "data": {
            "text/plain": [
              "  label                                            message\n",
              "0   ham                      Ok lar... Joking wif u oni...\n",
              "1  spam  Free entry in 2 a wkly comp to win FA Cup fina...\n",
              "2   ham  U dun say so early hor... U c already then say...\n",
              "3   ham  Nah I don't think he goes to usf, he lives aro...\n",
              "4  spam  FreeMsg Hey there darling it's been 3 week's n..."
            ],
            "text/html": [
              "\n",
              "  <div id=\"df-094d9f22-e5a5-4130-8a49-73e0c4aef14d\">\n",
              "    <div class=\"colab-df-container\">\n",
              "      <div>\n",
              "<style scoped>\n",
              "    .dataframe tbody tr th:only-of-type {\n",
              "        vertical-align: middle;\n",
              "    }\n",
              "\n",
              "    .dataframe tbody tr th {\n",
              "        vertical-align: top;\n",
              "    }\n",
              "\n",
              "    .dataframe thead th {\n",
              "        text-align: right;\n",
              "    }\n",
              "</style>\n",
              "<table border=\"1\" class=\"dataframe\">\n",
              "  <thead>\n",
              "    <tr style=\"text-align: right;\">\n",
              "      <th></th>\n",
              "      <th>label</th>\n",
              "      <th>message</th>\n",
              "    </tr>\n",
              "  </thead>\n",
              "  <tbody>\n",
              "    <tr>\n",
              "      <th>0</th>\n",
              "      <td>ham</td>\n",
              "      <td>Ok lar... Joking wif u oni...</td>\n",
              "    </tr>\n",
              "    <tr>\n",
              "      <th>1</th>\n",
              "      <td>spam</td>\n",
              "      <td>Free entry in 2 a wkly comp to win FA Cup fina...</td>\n",
              "    </tr>\n",
              "    <tr>\n",
              "      <th>2</th>\n",
              "      <td>ham</td>\n",
              "      <td>U dun say so early hor... U c already then say...</td>\n",
              "    </tr>\n",
              "    <tr>\n",
              "      <th>3</th>\n",
              "      <td>ham</td>\n",
              "      <td>Nah I don't think he goes to usf, he lives aro...</td>\n",
              "    </tr>\n",
              "    <tr>\n",
              "      <th>4</th>\n",
              "      <td>spam</td>\n",
              "      <td>FreeMsg Hey there darling it's been 3 week's n...</td>\n",
              "    </tr>\n",
              "  </tbody>\n",
              "</table>\n",
              "</div>\n",
              "      <button class=\"colab-df-convert\" onclick=\"convertToInteractive('df-094d9f22-e5a5-4130-8a49-73e0c4aef14d')\"\n",
              "              title=\"Convert this dataframe to an interactive table.\"\n",
              "              style=\"display:none;\">\n",
              "        \n",
              "  <svg xmlns=\"http://www.w3.org/2000/svg\" height=\"24px\"viewBox=\"0 0 24 24\"\n",
              "       width=\"24px\">\n",
              "    <path d=\"M0 0h24v24H0V0z\" fill=\"none\"/>\n",
              "    <path d=\"M18.56 5.44l.94 2.06.94-2.06 2.06-.94-2.06-.94-.94-2.06-.94 2.06-2.06.94zm-11 1L8.5 8.5l.94-2.06 2.06-.94-2.06-.94L8.5 2.5l-.94 2.06-2.06.94zm10 10l.94 2.06.94-2.06 2.06-.94-2.06-.94-.94-2.06-.94 2.06-2.06.94z\"/><path d=\"M17.41 7.96l-1.37-1.37c-.4-.4-.92-.59-1.43-.59-.52 0-1.04.2-1.43.59L10.3 9.45l-7.72 7.72c-.78.78-.78 2.05 0 2.83L4 21.41c.39.39.9.59 1.41.59.51 0 1.02-.2 1.41-.59l7.78-7.78 2.81-2.81c.8-.78.8-2.07 0-2.86zM5.41 20L4 18.59l7.72-7.72 1.47 1.35L5.41 20z\"/>\n",
              "  </svg>\n",
              "      </button>\n",
              "      \n",
              "  <style>\n",
              "    .colab-df-container {\n",
              "      display:flex;\n",
              "      flex-wrap:wrap;\n",
              "      gap: 12px;\n",
              "    }\n",
              "\n",
              "    .colab-df-convert {\n",
              "      background-color: #E8F0FE;\n",
              "      border: none;\n",
              "      border-radius: 50%;\n",
              "      cursor: pointer;\n",
              "      display: none;\n",
              "      fill: #1967D2;\n",
              "      height: 32px;\n",
              "      padding: 0 0 0 0;\n",
              "      width: 32px;\n",
              "    }\n",
              "\n",
              "    .colab-df-convert:hover {\n",
              "      background-color: #E2EBFA;\n",
              "      box-shadow: 0px 1px 2px rgba(60, 64, 67, 0.3), 0px 1px 3px 1px rgba(60, 64, 67, 0.15);\n",
              "      fill: #174EA6;\n",
              "    }\n",
              "\n",
              "    [theme=dark] .colab-df-convert {\n",
              "      background-color: #3B4455;\n",
              "      fill: #D2E3FC;\n",
              "    }\n",
              "\n",
              "    [theme=dark] .colab-df-convert:hover {\n",
              "      background-color: #434B5C;\n",
              "      box-shadow: 0px 1px 3px 1px rgba(0, 0, 0, 0.15);\n",
              "      filter: drop-shadow(0px 1px 2px rgba(0, 0, 0, 0.3));\n",
              "      fill: #FFFFFF;\n",
              "    }\n",
              "  </style>\n",
              "\n",
              "      <script>\n",
              "        const buttonEl =\n",
              "          document.querySelector('#df-094d9f22-e5a5-4130-8a49-73e0c4aef14d button.colab-df-convert');\n",
              "        buttonEl.style.display =\n",
              "          google.colab.kernel.accessAllowed ? 'block' : 'none';\n",
              "\n",
              "        async function convertToInteractive(key) {\n",
              "          const element = document.querySelector('#df-094d9f22-e5a5-4130-8a49-73e0c4aef14d');\n",
              "          const dataTable =\n",
              "            await google.colab.kernel.invokeFunction('convertToInteractive',\n",
              "                                                     [key], {});\n",
              "          if (!dataTable) return;\n",
              "\n",
              "          const docLinkHtml = 'Like what you see? Visit the ' +\n",
              "            '<a target=\"_blank\" href=https://colab.research.google.com/notebooks/data_table.ipynb>data table notebook</a>'\n",
              "            + ' to learn more about interactive tables.';\n",
              "          element.innerHTML = '';\n",
              "          dataTable['output_type'] = 'display_data';\n",
              "          await google.colab.output.renderOutput(dataTable, element);\n",
              "          const docLink = document.createElement('div');\n",
              "          docLink.innerHTML = docLinkHtml;\n",
              "          element.appendChild(docLink);\n",
              "        }\n",
              "      </script>\n",
              "    </div>\n",
              "  </div>\n",
              "  "
            ]
          },
          "metadata": {},
          "execution_count": 3
        }
      ]
    },
    {
      "cell_type": "markdown",
      "source": [
        "#3.Inspection des données"
      ],
      "metadata": {
        "id": "6AV2NbuiFte2"
      }
    },
    {
      "cell_type": "markdown",
      "source": [
        "Informations générales sur le jeu de données"
      ],
      "metadata": {
        "id": "GE31fdNKFxvT"
      }
    },
    {
      "cell_type": "code",
      "source": [
        "df.info()"
      ],
      "metadata": {
        "colab": {
          "base_uri": "https://localhost:8080/"
        },
        "id": "E010RxRqF4I9",
        "outputId": "7f6b8f0c-4f4c-410e-a103-26915258a797"
      },
      "execution_count": null,
      "outputs": [
        {
          "output_type": "stream",
          "name": "stdout",
          "text": [
            "<class 'pandas.core.frame.DataFrame'>\n",
            "RangeIndex: 5571 entries, 0 to 5570\n",
            "Data columns (total 2 columns):\n",
            " #   Column   Non-Null Count  Dtype \n",
            "---  ------   --------------  ----- \n",
            " 0   label    5571 non-null   object\n",
            " 1   message  5571 non-null   object\n",
            "dtypes: object(2)\n",
            "memory usage: 87.2+ KB\n"
          ]
        }
      ]
    },
    {
      "cell_type": "markdown",
      "source": [
        "Présence de données manquantes ?"
      ],
      "metadata": {
        "id": "7mY6Nl27F7v3"
      }
    },
    {
      "cell_type": "code",
      "source": [
        "df.isna().sum()"
      ],
      "metadata": {
        "colab": {
          "base_uri": "https://localhost:8080/"
        },
        "id": "ur_xMycFGBKA",
        "outputId": "5a714145-a5a7-4935-9742-81486cf00e09"
      },
      "execution_count": null,
      "outputs": [
        {
          "output_type": "execute_result",
          "data": {
            "text/plain": [
              "label      0\n",
              "message    0\n",
              "dtype: int64"
            ]
          },
          "metadata": {},
          "execution_count": 23
        }
      ]
    },
    {
      "cell_type": "markdown",
      "source": [
        "Répartition des labels Spam / Ham"
      ],
      "metadata": {
        "id": "3N_81NcJGHUQ"
      }
    },
    {
      "cell_type": "code",
      "source": [
        "df['label'].value_counts(normalize=True)"
      ],
      "metadata": {
        "colab": {
          "base_uri": "https://localhost:8080/"
        },
        "id": "02ETWqglGNpQ",
        "outputId": "74f07e57-fa3b-4737-fd87-a3bdf2319e42"
      },
      "execution_count": null,
      "outputs": [
        {
          "output_type": "execute_result",
          "data": {
            "text/plain": [
              "ham     0.865913\n",
              "spam    0.134087\n",
              "Name: label, dtype: float64"
            ]
          },
          "metadata": {},
          "execution_count": 25
        }
      ]
    },
    {
      "cell_type": "markdown",
      "source": [
        "**Info :** il sera nécessaire de respecter ces proportions dans l'étape de train-test-split."
      ],
      "metadata": {
        "id": "Mmu13ewUw51P"
      }
    },
    {
      "cell_type": "markdown",
      "source": [
        "Longueur des messages"
      ],
      "metadata": {
        "id": "flnkZ9J4GmhJ"
      }
    },
    {
      "cell_type": "code",
      "source": [
        "df['message'].str.len().describe()"
      ],
      "metadata": {
        "colab": {
          "base_uri": "https://localhost:8080/"
        },
        "id": "3h9-BbI9GpBf",
        "outputId": "971245b2-5631-4935-971a-f8316d739706"
      },
      "execution_count": null,
      "outputs": [
        {
          "output_type": "execute_result",
          "data": {
            "text/plain": [
              "count    5571.000000\n",
              "mean       80.484473\n",
              "std        59.946894\n",
              "min         2.000000\n",
              "25%        36.000000\n",
              "50%        62.000000\n",
              "75%       122.000000\n",
              "max       910.000000\n",
              "Name: message, dtype: float64"
            ]
          },
          "metadata": {},
          "execution_count": 30
        }
      ]
    },
    {
      "cell_type": "markdown",
      "source": [
        "#4.Preprocessing des messages"
      ],
      "metadata": {
        "id": "kLf91bE3IluB"
      }
    },
    {
      "cell_type": "markdown",
      "source": [
        "##4.1 Vectorisation\n",
        "Cette méthode consiste à convertir la collection de messages en une matrice de comptage des tokens (i.e. mots ou caractères du corpus).  \n",
        "Cette implémentation produit une représentation creuse (sparse) des comptages à l'aide de scipy.sparse.csr_matrix.  \n",
        "Dans cette méthode un certain nombre d'éléments sont paramétrables, comme par exemple :\n",
        "- `stop_words`,\n",
        "- `ngram_range`,\n",
        "- `max_df`,\n",
        "- `max_features`,\n",
        "- etc.  \n",
        "\n",
        "Plus d'infos sur sklearn [CountVectorizer()](https://scikit-learn.org/stable/modules/generated/sklearn.feature_extraction.text.CountVectorizer.html#)."
      ],
      "metadata": {
        "id": "w9EqLa4UIqVM"
      }
    },
    {
      "cell_type": "code",
      "source": [
        "# Explication sur les 3 premiers messages\n",
        "vectorizer = CountVectorizer()\n",
        "test_count_vect = vectorizer.fit_transform(df['message'][0:3])\n",
        "\n",
        "print(\"Messages :\", df['message'][0:3])\n",
        "print(\"\\nFeatures :\", vectorizer.get_feature_names_out())\n",
        "print(\"\\nMatrix :\", test_count_vect.toarray())"
      ],
      "metadata": {
        "colab": {
          "base_uri": "https://localhost:8080/"
        },
        "id": "E0PgsPvcIqoJ",
        "outputId": "bbe7939b-a08d-47e0-8696-ee1cbe7706dc"
      },
      "execution_count": null,
      "outputs": [
        {
          "output_type": "stream",
          "name": "stdout",
          "text": [
            "Messages : 0                        Ok lar... Joking wif u oni...\n",
            "1    Free entry in 2 a wkly comp to win FA Cup fina...\n",
            "2    U dun say so early hor... U c already then say...\n",
            "Name: message, dtype: object\n",
            "\n",
            "Features : ['08452810075over18' '2005' '21st' '87121' 'already' 'apply' 'comp' 'cup'\n",
            " 'dun' 'early' 'entry' 'fa' 'final' 'free' 'hor' 'in' 'joking' 'lar' 'may'\n",
            " 'ok' 'oni' 'question' 'rate' 'receive' 'say' 'so' 'std' 'text' 'then'\n",
            " 'tkts' 'to' 'txt' 'wif' 'win' 'wkly']\n",
            "\n",
            "Matrix : [[0 0 0 0 0 0 0 0 0 0 0 0 0 0 0 0 1 1 0 1 1 0 0 0 0 0 0 0 0 0 0 0 1 0 0]\n",
            " [1 1 1 1 0 1 1 1 0 0 2 2 1 1 0 1 0 0 1 0 0 1 1 1 0 0 1 1 0 1 3 1 0 1 1]\n",
            " [0 0 0 0 1 0 0 0 1 1 0 0 0 0 1 0 0 0 0 0 0 0 0 0 2 1 0 0 1 0 0 0 0 0 0]]\n"
          ]
        }
      ]
    },
    {
      "cell_type": "markdown",
      "source": [
        "##4.2 Transformation et vectorisation TF-IDF\n",
        "Le TF-IDF (de l'anglais term frequency-inverse document frequency) est une méthode de pondération souvent utilisée en recherche d'information et en particulier dans la fouille de textes ([Wikipedia](https://fr.wikipedia.org/wiki/TF-IDF)).  \n",
        "\n",
        "La méthode de sklearn `TfidfVectorizer()` consiste à convertir une collection de messagess en une matrice TF-IDF. Cette méthode est équivalente à `CountVectorizer()` suivi de `TfidfTransformer()`.  \n",
        "\n",
        "Dans cette méthode un certain nombre d'éléments sont paramétrables, comme par exemple :\n",
        "- `stop_words`,\n",
        "- `ngram_range`,\n",
        "- `max_df`,\n",
        "- `max_features`,\n",
        "- etc.  \n",
        "\n",
        "Plus d'infos sur sklearn [TfidfVectorizer()](https://scikit-learn.org/stable/modules/generated/sklearn.feature_extraction.text.TfidfVectorizer.html#).\n"
      ],
      "metadata": {
        "id": "w1OkFly6Iu2P"
      }
    },
    {
      "cell_type": "code",
      "source": [
        "# Explication sur les 3 premiers messages\n",
        "vectorizer = TfidfVectorizer()\n",
        "test_count_vect = vectorizer.fit_transform(df['message'])#[0:3])\n",
        "\n",
        "print(\"Messages :\", df['message'][0:3])\n",
        "print(\"\\nFeatures :\", vectorizer.get_feature_names_out().shape)\n",
        "print(\"\\nMatrix :\", test_count_vect.toarray().shape)"
      ],
      "metadata": {
        "colab": {
          "base_uri": "https://localhost:8080/"
        },
        "id": "5cRpKiylIvKq",
        "outputId": "cc215c4b-19cb-4a75-e836-a9d48caf5abf"
      },
      "execution_count": null,
      "outputs": [
        {
          "output_type": "stream",
          "name": "stdout",
          "text": [
            "Messages : 0                        Ok lar... Joking wif u oni...\n",
            "1    Free entry in 2 a wkly comp to win FA Cup fina...\n",
            "2    U dun say so early hor... U c already then say...\n",
            "Name: message, dtype: object\n",
            "\n",
            "Features : (8711,)\n",
            "\n",
            "Matrix : (5571, 8711)\n"
          ]
        }
      ]
    },
    {
      "cell_type": "markdown",
      "source": [
        "#5.Partition `train-test-split`"
      ],
      "metadata": {
        "id": "QeGlRSyCDeWr"
      }
    },
    {
      "cell_type": "markdown",
      "source": [
        "Dans la description des données, nous avons remarqué que la variable cible \"Spam / Ham\" était déséquilibrée.  \n",
        "Nous devons donc adapter le train-test-split en conséquence en spécifiant le paramètre `stratify`."
      ],
      "metadata": {
        "id": "9fjblwc_DfNo"
      }
    },
    {
      "cell_type": "code",
      "source": [
        "y = df['label']\n",
        "X = df['message']\n",
        "X_train, X_test, y_train, y_test = train_test_split(X, y, test_size=0.25, random_state=42, stratify=y)\n",
        "\n",
        "print(f'Taille de X_rain {X_train.shape} et y_train {y_train.shape}')\n",
        "print(f'Taille de X test {X_test.shape} et y_test {y_test.shape}')"
      ],
      "metadata": {
        "colab": {
          "base_uri": "https://localhost:8080/"
        },
        "id": "HAEiQ24bDgYN",
        "outputId": "40804fba-e136-465f-be55-7487fac8ade8"
      },
      "execution_count": 9,
      "outputs": [
        {
          "output_type": "stream",
          "name": "stdout",
          "text": [
            "Taille de X_rain (4178,) et y_train (4178,)\n",
            "Taille de X test (1393,) et y_test (1393,)\n"
          ]
        }
      ]
    },
    {
      "cell_type": "markdown",
      "source": [
        "Vérifions que la méthode de stratification a bien fonctionné."
      ],
      "metadata": {
        "id": "Lopz41kGEG4H"
      }
    },
    {
      "cell_type": "code",
      "source": [
        "print(f'Répartition of `Spam/Ham` dans y_train :\\n{y_train.value_counts(normalize=True)}')\n",
        "print(f'Répartition of `Spam/Ham` dans y_test :\\n{y_test.value_counts(normalize=True)}')"
      ],
      "metadata": {
        "colab": {
          "base_uri": "https://localhost:8080/"
        },
        "id": "rnHVb9kyEIEJ",
        "outputId": "3c52e8b4-83c2-4233-bdb7-24ed78141d12"
      },
      "execution_count": null,
      "outputs": [
        {
          "output_type": "stream",
          "name": "stdout",
          "text": [
            "Répartition of `Spam/Ham` dans y_train :\n",
            "ham     0.865965\n",
            "spam    0.134035\n",
            "Name: label, dtype: float64\n",
            "Répartition of `Spam/Ham` dans y_test :\n",
            "ham     0.865757\n",
            "spam    0.134243\n",
            "Name: label, dtype: float64\n"
          ]
        }
      ]
    },
    {
      "cell_type": "markdown",
      "source": [
        "#6.Création du pipeline\n",
        "Il s'agit ici de construire le pipeline qui comportera 2 étapes essentielles dans ce projet :\n",
        "- le **preprocessing**, en appliquant la méthode de vectorisation, de transformation TF-IDF, ainsi qu'en ajustant les paramètres de ces méthodes.\n",
        "- la **modélisation**, avec un algorithme de classification de type bayésien par exemple."
      ],
      "metadata": {
        "id": "nIceLiesNRec"
      }
    },
    {
      "cell_type": "markdown",
      "source": [
        "Pour des utilisations ultérieures, nous pouvons préparer une fonction dédiée à la construction de pipeline."
      ],
      "metadata": {
        "id": "voTI8RwyCxfe"
      }
    },
    {
      "cell_type": "code",
      "source": [
        "# Fonction pipeline\n",
        "def pipe_spam(vectorizer=CountVectorizer(), classifier=MultinomialNB()):\n",
        "\n",
        "  pipe = Pipeline(steps=[\n",
        "       ('vect', vectorizer),\n",
        "       ('clf', classifier)\n",
        "       ])\n",
        "\n",
        "  return(pipe)"
      ],
      "metadata": {
        "id": "YITewuRfCdR7"
      },
      "execution_count": 4,
      "outputs": []
    },
    {
      "cell_type": "code",
      "source": [
        "# Test du pipeline\n",
        "pipe = pipe_spam(vectorizer=CountVectorizer(), classifier=MultinomialNB()).fit(X_train, y_train)\n",
        "pipe"
      ],
      "metadata": {
        "colab": {
          "base_uri": "https://localhost:8080/",
          "height": 148
        },
        "id": "WMEMMuajC5jV",
        "outputId": "6d923fa9-ec3e-4a07-9267-b3aa540b4129"
      },
      "execution_count": null,
      "outputs": [
        {
          "output_type": "execute_result",
          "data": {
            "text/plain": [
              "Pipeline(steps=[('vect', CountVectorizer()), ('clf', MultinomialNB())])"
            ],
            "text/html": [
              "<style>#sk-container-id-4 {color: black;background-color: white;}#sk-container-id-4 pre{padding: 0;}#sk-container-id-4 div.sk-toggleable {background-color: white;}#sk-container-id-4 label.sk-toggleable__label {cursor: pointer;display: block;width: 100%;margin-bottom: 0;padding: 0.3em;box-sizing: border-box;text-align: center;}#sk-container-id-4 label.sk-toggleable__label-arrow:before {content: \"▸\";float: left;margin-right: 0.25em;color: #696969;}#sk-container-id-4 label.sk-toggleable__label-arrow:hover:before {color: black;}#sk-container-id-4 div.sk-estimator:hover label.sk-toggleable__label-arrow:before {color: black;}#sk-container-id-4 div.sk-toggleable__content {max-height: 0;max-width: 0;overflow: hidden;text-align: left;background-color: #f0f8ff;}#sk-container-id-4 div.sk-toggleable__content pre {margin: 0.2em;color: black;border-radius: 0.25em;background-color: #f0f8ff;}#sk-container-id-4 input.sk-toggleable__control:checked~div.sk-toggleable__content {max-height: 200px;max-width: 100%;overflow: auto;}#sk-container-id-4 input.sk-toggleable__control:checked~label.sk-toggleable__label-arrow:before {content: \"▾\";}#sk-container-id-4 div.sk-estimator input.sk-toggleable__control:checked~label.sk-toggleable__label {background-color: #d4ebff;}#sk-container-id-4 div.sk-label input.sk-toggleable__control:checked~label.sk-toggleable__label {background-color: #d4ebff;}#sk-container-id-4 input.sk-hidden--visually {border: 0;clip: rect(1px 1px 1px 1px);clip: rect(1px, 1px, 1px, 1px);height: 1px;margin: -1px;overflow: hidden;padding: 0;position: absolute;width: 1px;}#sk-container-id-4 div.sk-estimator {font-family: monospace;background-color: #f0f8ff;border: 1px dotted black;border-radius: 0.25em;box-sizing: border-box;margin-bottom: 0.5em;}#sk-container-id-4 div.sk-estimator:hover {background-color: #d4ebff;}#sk-container-id-4 div.sk-parallel-item::after {content: \"\";width: 100%;border-bottom: 1px solid gray;flex-grow: 1;}#sk-container-id-4 div.sk-label:hover label.sk-toggleable__label {background-color: #d4ebff;}#sk-container-id-4 div.sk-serial::before {content: \"\";position: absolute;border-left: 1px solid gray;box-sizing: border-box;top: 0;bottom: 0;left: 50%;z-index: 0;}#sk-container-id-4 div.sk-serial {display: flex;flex-direction: column;align-items: center;background-color: white;padding-right: 0.2em;padding-left: 0.2em;position: relative;}#sk-container-id-4 div.sk-item {position: relative;z-index: 1;}#sk-container-id-4 div.sk-parallel {display: flex;align-items: stretch;justify-content: center;background-color: white;position: relative;}#sk-container-id-4 div.sk-item::before, #sk-container-id-4 div.sk-parallel-item::before {content: \"\";position: absolute;border-left: 1px solid gray;box-sizing: border-box;top: 0;bottom: 0;left: 50%;z-index: -1;}#sk-container-id-4 div.sk-parallel-item {display: flex;flex-direction: column;z-index: 1;position: relative;background-color: white;}#sk-container-id-4 div.sk-parallel-item:first-child::after {align-self: flex-end;width: 50%;}#sk-container-id-4 div.sk-parallel-item:last-child::after {align-self: flex-start;width: 50%;}#sk-container-id-4 div.sk-parallel-item:only-child::after {width: 0;}#sk-container-id-4 div.sk-dashed-wrapped {border: 1px dashed gray;margin: 0 0.4em 0.5em 0.4em;box-sizing: border-box;padding-bottom: 0.4em;background-color: white;}#sk-container-id-4 div.sk-label label {font-family: monospace;font-weight: bold;display: inline-block;line-height: 1.2em;}#sk-container-id-4 div.sk-label-container {text-align: center;}#sk-container-id-4 div.sk-container {/* jupyter's `normalize.less` sets `[hidden] { display: none; }` but bootstrap.min.css set `[hidden] { display: none !important; }` so we also need the `!important` here to be able to override the default hidden behavior on the sphinx rendered scikit-learn.org. See: https://github.com/scikit-learn/scikit-learn/issues/21755 */display: inline-block !important;position: relative;}#sk-container-id-4 div.sk-text-repr-fallback {display: none;}</style><div id=\"sk-container-id-4\" class=\"sk-top-container\"><div class=\"sk-text-repr-fallback\"><pre>Pipeline(steps=[(&#x27;vect&#x27;, CountVectorizer()), (&#x27;clf&#x27;, MultinomialNB())])</pre><b>In a Jupyter environment, please rerun this cell to show the HTML representation or trust the notebook. <br />On GitHub, the HTML representation is unable to render, please try loading this page with nbviewer.org.</b></div><div class=\"sk-container\" hidden><div class=\"sk-item sk-dashed-wrapped\"><div class=\"sk-label-container\"><div class=\"sk-label sk-toggleable\"><input class=\"sk-toggleable__control sk-hidden--visually\" id=\"sk-estimator-id-10\" type=\"checkbox\" ><label for=\"sk-estimator-id-10\" class=\"sk-toggleable__label sk-toggleable__label-arrow\">Pipeline</label><div class=\"sk-toggleable__content\"><pre>Pipeline(steps=[(&#x27;vect&#x27;, CountVectorizer()), (&#x27;clf&#x27;, MultinomialNB())])</pre></div></div></div><div class=\"sk-serial\"><div class=\"sk-item\"><div class=\"sk-estimator sk-toggleable\"><input class=\"sk-toggleable__control sk-hidden--visually\" id=\"sk-estimator-id-11\" type=\"checkbox\" ><label for=\"sk-estimator-id-11\" class=\"sk-toggleable__label sk-toggleable__label-arrow\">CountVectorizer</label><div class=\"sk-toggleable__content\"><pre>CountVectorizer()</pre></div></div></div><div class=\"sk-item\"><div class=\"sk-estimator sk-toggleable\"><input class=\"sk-toggleable__control sk-hidden--visually\" id=\"sk-estimator-id-12\" type=\"checkbox\" ><label for=\"sk-estimator-id-12\" class=\"sk-toggleable__label sk-toggleable__label-arrow\">MultinomialNB</label><div class=\"sk-toggleable__content\"><pre>MultinomialNB()</pre></div></div></div></div></div></div></div>"
            ]
          },
          "metadata": {},
          "execution_count": 63
        }
      ]
    },
    {
      "cell_type": "markdown",
      "source": [
        "#7.Choix de la métrique d'erreur"
      ],
      "metadata": {
        "id": "79gtakLuFKgb"
      }
    },
    {
      "cell_type": "markdown",
      "source": [
        "##7.1.Recall\n",
        "La performance des modèles sera évaluée à travers le `recall_score`.  \n",
        "Il s'agit du taux de vrais positifs, c’est à dire la proportion de positifs que l’on a correctement identifiés.  \n",
        "C’est la capacité de notre modèle à détecter toutes les alertes, ce qui correspond bien au besoin du projet : développer un classifieur qui détecte les Spam avec la plus grande performance ([voir la documentation sklearn](https://scikit-learn.org/stable/modules/generated/sklearn.metrics.recall_score.html#sklearn.metrics.recall_score))."
      ],
      "metadata": {
        "id": "V1ceYqfqFKGk"
      }
    },
    {
      "cell_type": "code",
      "source": [
        "y_pred = pipe.predict(X_test)\n",
        "\n",
        "recall_score(y_test, y_pred, pos_label='spam')"
      ],
      "metadata": {
        "colab": {
          "base_uri": "https://localhost:8080/"
        },
        "id": "lfe_H5XhJlu1",
        "outputId": "8d7b19fa-8264-4999-c1fd-0a7db2acb228"
      },
      "execution_count": null,
      "outputs": [
        {
          "output_type": "execute_result",
          "data": {
            "text/plain": [
              "0.9090909090909091"
            ]
          },
          "metadata": {},
          "execution_count": 66
        }
      ]
    },
    {
      "cell_type": "markdown",
      "source": [
        "##7.2.F1-score\n",
        "Une métrique complémentaire sera utilisée, le `F1-score` qui et peut être interprété comme une moyenne harmonique de la précision et du rappel ([voir la documentation sklearn](https://scikit-learn.org/stable/modules/generated/sklearn.metrics.f1_score.html))."
      ],
      "metadata": {
        "id": "PfHmDOlHIzyG"
      }
    },
    {
      "cell_type": "code",
      "source": [
        "f1_score(y_test, y_pred, pos_label='spam')"
      ],
      "metadata": {
        "colab": {
          "base_uri": "https://localhost:8080/"
        },
        "id": "J8ObrfENI0Ga",
        "outputId": "5035904c-576b-440a-bf22-c8647b4cc015"
      },
      "execution_count": null,
      "outputs": [
        {
          "output_type": "execute_result",
          "data": {
            "text/plain": [
              "0.9366391184573003"
            ]
          },
          "metadata": {},
          "execution_count": 65
        }
      ]
    },
    {
      "cell_type": "markdown",
      "source": [
        "##7.3.Matrice de confusion\n",
        "La distribution des prédictions vraies et fausses est résumée par la `confusion_matrix` [voir la documentation de sklearn](https://scikit-learn.org/stable/modules/generated/sklearn.metrics.confusion_matrix.html)."
      ],
      "metadata": {
        "id": "2I7Q7Ol5JyTb"
      }
    },
    {
      "cell_type": "code",
      "source": [
        "conf_matrix = confusion_matrix(y_true=y_test, y_pred=y_pred)\n",
        "sns.set_style(\"dark\")\n",
        "cm_plot = ConfusionMatrixDisplay(conf_matrix,\n",
        "                                display_labels=df['label'].unique())\n",
        "\n",
        "cm_plot.plot()"
      ],
      "metadata": {
        "colab": {
          "base_uri": "https://localhost:8080/",
          "height": 482
        },
        "id": "hwUcUQZqJzBW",
        "outputId": "26ee4f77-86f5-45e2-a7e8-041bdc003800"
      },
      "execution_count": null,
      "outputs": [
        {
          "output_type": "execute_result",
          "data": {
            "text/plain": [
              "<sklearn.metrics._plot.confusion_matrix.ConfusionMatrixDisplay at 0x7fe534d37700>"
            ]
          },
          "metadata": {},
          "execution_count": 69
        },
        {
          "output_type": "display_data",
          "data": {
            "text/plain": [
              "<Figure size 640x480 with 2 Axes>"
            ],
            "image/png": "[encoded data removed]"
          },
          "metadata": {}
        }
      ]
    },
    {
      "cell_type": "markdown",
      "source": [
        "##7.4 Fonction de scoring sur les données de test"
      ],
      "metadata": {
        "id": "PnctJzwmqXmo"
      }
    },
    {
      "cell_type": "code",
      "source": [
        "def scoring_model(fitted_estimator, y_test, X_test, pos_label='spam'):\n",
        "  # Prediction\n",
        "  y_pred = fitted_estimator.predict(X_test)\n",
        "\n",
        "  # Recall\n",
        "  recall = recall_score(y_true=y_test, y_pred=y_pred, pos_label=pos_label, average=\"weighted\")\n",
        "\n",
        "  # F1-score\n",
        "  f1 = f1_score(y_true=y_test, y_pred=y_pred, pos_label=pos_label, average=\"weighted\")\n",
        "\n",
        "  # Confusion matrix\n",
        "  conf_matrix = confusion_matrix(y_true=y_test, y_pred=y_pred)\n",
        "\n",
        "  return({'prediction': y_pred,\n",
        "          'recall_score': recall.round(4),\n",
        "          'conf_matrix': conf_matrix,\n",
        "          'f1_score': f1.round(4)\n",
        "   })"
      ],
      "metadata": {
        "id": "XdgrMos3qYEC"
      },
      "execution_count": 5,
      "outputs": []
    },
    {
      "cell_type": "markdown",
      "source": [
        "#8.Validation croisée & Recherche des hyper-paramètres\n",
        "La validation croisée et le réglage des hyper-paramètres sont gérés avec une stratégie de recherche exhaustive `GridSearchCV()`.  \n",
        "Plus d'informations pour [`GridSearchCV()`](https://scikit-learn.org/stable/modules/generated/sklearn.model_selection.GridSearchCV.html)."
      ],
      "metadata": {
        "id": "-XSXmQQIxeaJ"
      }
    },
    {
      "cell_type": "code",
      "source": [
        "def crossval_paramsearch(X_train, y_train, estimator, parameters, cv=5):\n",
        "  # Scoring\n",
        "  multi_scoring = {\"Recall\": make_scorer(recall_score, pos_label=\"spam\", average=\"weighted\"),\n",
        "                   \"F1-score\": make_scorer(f1_score, pos_label=\"spam\", average=\"weighted\")}\n",
        "\n",
        "  # Grid search\n",
        "  grid = GridSearchCV(estimator=estimator, param_grid=parameters,\n",
        "                      scoring=multi_scoring, refit=\"Recall\",\n",
        "                      cv=cv, n_jobs=-1, verbose=0, error_score=\"raise\")\n",
        "\n",
        "  # Fit\n",
        "  grid.fit(X_train, y_train)\n",
        "\n",
        "  # Scores and results\n",
        "  best_score = grid.best_score_.round(4)\n",
        "  best_params = grid.best_params_\n",
        "  training_time = grid.cv_results_['mean_fit_time'].mean().round(4)\n",
        "\n",
        "  # Output\n",
        "  return({\n",
        "      'best_score': best_score,\n",
        "      'best_params': best_params,\n",
        "      'training_time': training_time,\n",
        "      'fitted_model': grid.best_estimator_\n",
        "  })"
      ],
      "metadata": {
        "id": "XBvTW-JqLP6u"
      },
      "execution_count": 7,
      "outputs": []
    },
    {
      "cell_type": "code",
      "source": [
        "# Model and its parameters\n",
        "#clf = GaussianNB()\n",
        "parameters = [{\n",
        "        'vect': [CountVectorizer(), TfidfVectorizer()],\n",
        "        #'vect__ngram_range' : [(1, 1), (1, 2), (1, 3), (1, 4)],\n",
        "        #'vect__max_features': [500, 1000, 3000, 5000, 8000, None],\n",
        "        #'clf__force_alpha' : [True, False]\n",
        "        }]\n",
        "\n",
        "crossval_paramsearch(X_train=X_train,\n",
        "                     y_train=y_train,\n",
        "                     estimator=pipe_spam(vectorizer=CountVectorizer(), classifier=MultinomialNB()),\n",
        "                     parameters=parameters,\n",
        "                     cv=5)"
      ],
      "metadata": {
        "colab": {
          "base_uri": "https://localhost:8080/"
        },
        "id": "MOzlpgJ2MUYP",
        "outputId": "da9022bb-3f2d-4d3f-b1b6-13125fe5c6f2"
      },
      "execution_count": 10,
      "outputs": [
        {
          "output_type": "execute_result",
          "data": {
            "text/plain": [
              "{'best_score': 0.9844,\n",
              " 'best_params': {'vect': CountVectorizer()},\n",
              " 'training_time': 0.2198,\n",
              " 'fitted_model': Pipeline(steps=[('vect', CountVectorizer()), ('clf', MultinomialNB())])}"
            ]
          },
          "metadata": {},
          "execution_count": 10
        }
      ]
    },
    {
      "cell_type": "markdown",
      "source": [
        "#9.Comparaison de modèles\n",
        "Nous allons maintenant utiliser la fonction précédente sur plusieurs modèles de classification et ainsi comparer leurs performances"
      ],
      "metadata": {
        "id": "pWgEv101xeqh"
      }
    },
    {
      "cell_type": "markdown",
      "source": [
        "##9.1 Fonction de comparaison\n",
        "Pour faciliter le processus de comparaison des modèles, nous pouvons créer une fonction dédiée `getClassifResults()`, basée sur les précédentes :\n",
        "- fonction `crossval_paramsearch()` pour la validation croisée et le réglage des hyper-paramètres\n",
        "- fonction `scoring_model()` pour la prédiction et la notation.\n",
        "  \n",
        "Cette fonction globale doit être flexible et adaptable à un ensemble de paramètres d'entrée :\n",
        "- `data` : l'ensemble de données à des fins de classification\n",
        "- `estimator` : le pipeline comprenant à la fois le modèle de prétraitement et de classification\n",
        "- `parameters` : une grille d'hyper-paramètres pour la recherche de grille\n",
        "- `scoring` : la métrique utilisée pour l'évaluation\n",
        "- `cv` : le nombre de sous ensembles pour la validation croisée, `5` est la valeur par défaut."
      ],
      "metadata": {
        "id": "MoQt-r-gpADI"
      }
    },
    {
      "cell_type": "code",
      "source": [
        "def getClassifResults(data, estimator, parameters, scoring='recall', cv=5):\n",
        "\n",
        "  # Prepare data\n",
        "  y = df['label']\n",
        "  X = df['message']\n",
        "\n",
        "  # Split data\n",
        "  X_train, X_test, y_train, y_test = train_test_split(X, y, test_size=0.25, random_state=42, stratify=y)\n",
        "\n",
        "  # Cross Validation & Hyper-Paramaters tuning\n",
        "  fitted_estimator = crossval_paramsearch(X_train=X_train, y_train=y_train, estimator=estimator,\n",
        "                     parameters=parameters, cv=cv)\n",
        "\n",
        "  # Prediction and scoring\n",
        "  test_score = scoring_model(fitted_estimator=fitted_estimator['fitted_model'], y_test=y_test, X_test=X_test)\n",
        "\n",
        "  return({'fitted_model': fitted_estimator,\n",
        "          'test_score': test_score})"
      ],
      "metadata": {
        "id": "AvGRaW_xo-0-"
      },
      "execution_count": 11,
      "outputs": []
    },
    {
      "cell_type": "markdown",
      "source": [
        "##9.2 Multinomial Naive Bayes\n",
        "Le classifieur multinomial Naive Bayes convient à la classification avec des caractéristiques discrètes (par exemple, le nombre de mots pour la classification de texte).  \n",
        "La distribution multinomiale nécessite normalement un nombre entier de caractéristiques. Cependant, en pratique, les comptages fractionnaires tels que tf-idf peuvent également fonctionner.  \n",
        "Voir la documentation [sklearn](https://scikit-learn.org/stable/modules/generated/sklearn.naive_bayes.MultinomialNB.html)."
      ],
      "metadata": {
        "id": "ryJmVtkrxe5K"
      }
    },
    {
      "cell_type": "code",
      "source": [
        "# Model and its parameters\n",
        "estimator = pipe_spam(vectorizer=CountVectorizer(), classifier=MultinomialNB())\n",
        "\n",
        "parameters = [\n",
        "    {\n",
        "        'vect': [CountVectorizer(), TfidfVectorizer()],\n",
        "        'vect__stop_words' : [None, 'english'],\n",
        "        'vect__ngram_range' : [(1, 1), (1, 2), (1, 3), (1, 4)],\n",
        "        'vect__max_features': [500, 1000, 3000, 5000, 8000, None],\n",
        "        'clf__force_alpha' : [True, False]\n",
        "    }\n",
        "]\n",
        "\n",
        "# Results\n",
        "MNB_results = getClassifResults(data=df, estimator=estimator, parameters=parameters)\n",
        "\n",
        "print(f\"Training time (sec): {MNB_results['fitted_model']['training_time']} \")\n",
        "print(f\"Training score (Recall): {MNB_results['fitted_model']['best_score']} \")\n",
        "print(f\"Test score (Recall): {MNB_results['test_score']['recall_score']} \")\n",
        "print(f\"Best model: {MNB_results['fitted_model']['best_params']} \")\n"
      ],
      "metadata": {
        "colab": {
          "base_uri": "https://localhost:8080/"
        },
        "id": "TRz9md0irKYY",
        "outputId": "1e039ef6-ce73-4706-b226-966dbeaa19fb"
      },
      "execution_count": 12,
      "outputs": [
        {
          "output_type": "stream",
          "name": "stdout",
          "text": [
            "Training time (sec): 0.4328 \n",
            "Training score (Recall): 0.9868 \n",
            "Test score (Recall): 0.9871 \n",
            "Best model: {'clf__force_alpha': True, 'vect': CountVectorizer(ngram_range=(1, 2), stop_words='english'), 'vect__max_features': None, 'vect__ngram_range': (1, 2), 'vect__stop_words': 'english'} \n"
          ]
        },
        {
          "output_type": "stream",
          "name": "stderr",
          "text": [
            "/usr/local/lib/python3.10/dist-packages/sklearn/metrics/_classification.py:1396: UserWarning: Note that pos_label (set to 'spam') is ignored when average != 'binary' (got 'weighted'). You may use labels=[pos_label] to specify a single positive class.\n",
            "  warnings.warn(\n",
            "/usr/local/lib/python3.10/dist-packages/sklearn/metrics/_classification.py:1396: UserWarning: Note that pos_label (set to 'spam') is ignored when average != 'binary' (got 'weighted'). You may use labels=[pos_label] to specify a single positive class.\n",
            "  warnings.warn(\n"
          ]
        }
      ]
    },
    {
      "cell_type": "markdown",
      "source": [
        "##9.3 Random Forest Classifier\n",
        "Random Forest Classifier as described in [sklearn](https://scikit-learn.org/stable/modules/generated/sklearn.ensemble.RandomForestClassifier.html)."
      ],
      "metadata": {
        "id": "aN3x6hMGus4a"
      }
    },
    {
      "cell_type": "code",
      "source": [
        "# Model and its parameters\n",
        "estimator = pipe_spam(vectorizer=CountVectorizer(), classifier=RandomForestClassifier())\n",
        "\n",
        "parameters = [\n",
        "    {\n",
        "        'vect': [CountVectorizer(), TfidfVectorizer()],\n",
        "        'vect__ngram_range' : [(1, 1), (1, 2), (1, 3), (1, 4)],\n",
        "        'vect__max_features': [500, 1000, 3000, 5000, 8000, None],\n",
        "        'clf__n_estimators' : range(50, 151, 50),\n",
        "        #'clf__criterion' : ('gini', 'entropy'),\n",
        "        #'clf__max_depth' : range(3, 11, 2),\n",
        "        #'clf__min_samples_split' : range(3, 11, 2),\n",
        "        #'clf__min_samples_leaf' : range(1, 21, 2)\n",
        "    }\n",
        "]\n",
        "\n",
        "# Results\n",
        "RF_results = getClassifResults(data=df, estimator=estimator, parameters=parameters)\n",
        "\n",
        "print(f\"Training time (sec): {RF_results['fitted_model']['training_time']} \")\n",
        "print(f\"Training score (Recall): {RF_results['fitted_model']['best_score']} \")\n",
        "print(f\"Test score (Recall): {RF_results['test_score']['recall_score']} \")\n",
        "print(f\"Best model: {RF_results['fitted_model']['best_params']} \")"
      ],
      "metadata": {
        "id": "JUtC30g1xfWu",
        "colab": {
          "base_uri": "https://localhost:8080/"
        },
        "outputId": "571981f6-be1a-4b05-f7e1-29b64512cbe2"
      },
      "execution_count": null,
      "outputs": [
        {
          "output_type": "stream",
          "name": "stdout",
          "text": [
            "Training time (sec): 2.2193 \n",
            "Training score (Recall): 0.8786 \n",
            "Test score (Recall): 0.861 \n",
            "Best model: {'clf__n_estimators': 150, 'vect': CountVectorizer(max_features=500, ngram_range=(1, 2)), 'vect__max_features': 500, 'vect__ngram_range': (1, 2)} \n"
          ]
        }
      ]
    },
    {
      "cell_type": "markdown",
      "source": [
        "##9.4 Gradient Boosting Classifier\n",
        "Gradient Boosting Classifier as described in [sklearn](https://scikit-learn.org/stable/modules/generated/sklearn.ensemble.GradientBoostingClassifier.html)."
      ],
      "metadata": {
        "id": "2PU8LzmO_POp"
      }
    },
    {
      "cell_type": "code",
      "source": [
        "# Model and its parameters\n",
        "estimator = pipe_spam(classifier=RandomForestClassifier())\n",
        "\n",
        "parameters = [\n",
        "    {\n",
        "        'vect': [CountVectorizer(), TfidfVectorizer()],\n",
        "        'vect__ngram_range' : [(1, 1), (1, 2), (1, 3), (1, 4)],\n",
        "        'vect__max_features': [500, 1000, 3000, 5000, 8000, None],\n",
        "        'clf__n_estimators' : range(50, 151, 50),\n",
        "        'clf__max_depth' : range(3, 8, 2),\n",
        "        #'clf__criterion' : ('gini', 'entropy'),\n",
        "        #'clf__max_depth' : range(3, 11, 2),\n",
        "        #'clf__min_samples_split' : range(3, 11, 2),\n",
        "        #'clf__min_samples_leaf' : range(1, 21, 2)\n",
        "    }\n",
        "]\n",
        "\n",
        "# Results\n",
        "GB_results = getClassifResults(data=df, estimator=estimator, parameters=parameters)\n",
        "\n",
        "print(f\"Training time (sec): {GB_results['fitted_model']['training_time']} \")\n",
        "print(f\"Training score (Recall): {GB_results['fitted_model']['best_score']} \")\n",
        "print(f\"Test score (Recall): {GB_results['test_score']['recall_score']} \")\n",
        "print(f\"Best model: {GB_results['fitted_model']['best_params']} \")"
      ],
      "metadata": {
        "colab": {
          "base_uri": "https://localhost:8080/"
        },
        "id": "2ugJsRGV-vYO",
        "outputId": "ddea76ef-62ae-43cc-fafd-ee2891fbf9c7"
      },
      "execution_count": null,
      "outputs": [
        {
          "output_type": "stream",
          "name": "stdout",
          "text": [
            "Training time (sec): 0.9445 \n",
            "Training score (Recall): 0.5089 \n",
            "Test score (Recall): 0.4973 \n",
            "Best model: {'clf__max_depth': 7, 'clf__n_estimators': 100, 'vect': TfidfVectorizer(max_features=500, ngram_range=(1, 3)), 'vect__max_features': 500, 'vect__ngram_range': (1, 3)} \n"
          ]
        }
      ]
    },
    {
      "cell_type": "markdown",
      "source": [
        "##9.5 Support Vector Machine for Classification\n",
        "Support Vector Classifier as described in [sklearn](https://scikit-learn.org/stable/modules/generated/sklearn.svm.SVC.html#)."
      ],
      "metadata": {
        "id": "k_Cby4yzXIft"
      }
    },
    {
      "cell_type": "code",
      "source": [
        "# Model and its parameters\n",
        "estimator = pipe_spam(classifier=SVC())\n",
        "\n",
        "parameters = [\n",
        "    {\n",
        "        'vect': [CountVectorizer(), TfidfVectorizer()],\n",
        "        'vect__ngram_range' : [(1, 1), (1, 2), (1, 3), (1, 4)],\n",
        "        'vect__max_features': [500, 1000, 3000, 5000, 8000, None],\n",
        "        'clf__kernel': ('linear', 'rbf'),\n",
        "        'clf__C' : [1, 3, 5, 7, 9]\n",
        "    }\n",
        "]\n",
        "\n",
        "# Results\n",
        "SVM_results = getClassifResults(data=df, estimator=estimator, parameters=parameters)\n",
        "\n",
        "print(f\"Training time (sec): {SVM_results['fitted_model']['training_time']} \")\n",
        "print(f\"Training score (Recall): {SVM_results['fitted_model']['best_score']} \")\n",
        "print(f\"Test score (Recall): {SVM_results['test_score']['recall_score']} \")\n",
        "print(f\"Best model: {SVM_results['fitted_model']['best_params']} \")"
      ],
      "metadata": {
        "colab": {
          "base_uri": "https://localhost:8080/"
        },
        "outputId": "a3ff59e9-b1db-49c8-f492-3bace9f83cf6",
        "id": "Rg-5VQ28XIf7"
      },
      "execution_count": null,
      "outputs": [
        {
          "output_type": "stream",
          "name": "stdout",
          "text": [
            "Training time (sec): 1.7123 \n",
            "Training score (Recall): 0.9375 \n",
            "Test score (Recall): 0.9305 \n",
            "Best model: {'clf__C': 3, 'clf__kernel': 'linear', 'vect': TfidfVectorizer(ngram_range=(1, 4)), 'vect__max_features': None, 'vect__ngram_range': (1, 4)} \n"
          ]
        }
      ]
    },
    {
      "cell_type": "markdown",
      "source": [
        "##9.6 Sélection de modèle\n",
        "À partir des modèles précédents et des performances obtenues, nous retiendrons le `MultinomialNB()` pour à la fois sa rapidité, sa performance et son interprétabilité."
      ],
      "metadata": {
        "id": "EWjLKpKCveYy"
      }
    },
    {
      "cell_type": "markdown",
      "source": [
        "#10 Analyse des erreurs du modèle\n",
        "Il s'agit ici de se focaliser sur les messages qui ont été mal classés :\n",
        "- les messages Ham détectés comme des Spam, erreur de type 1\n",
        "- les messages Spam détectés comme des Ham, erreur de type 2"
      ],
      "metadata": {
        "id": "VSrNkIab_XdI"
      }
    },
    {
      "cell_type": "markdown",
      "source": [
        "##10.1 Messages Ham détectés Spam"
      ],
      "metadata": {
        "id": "cv0UincY_zHA"
      }
    },
    {
      "cell_type": "code",
      "source": [],
      "metadata": {
        "id": "jS0mUk4D_yiy"
      },
      "execution_count": null,
      "outputs": []
    },
    {
      "cell_type": "markdown",
      "source": [
        "##10.2 Messages Spam détectés Ham"
      ],
      "metadata": {
        "id": "HKtLcYNr_7so"
      }
    },
    {
      "cell_type": "markdown",
      "source": [
        "###10.2.1 Extraction des messages"
      ],
      "metadata": {
        "id": "iAppo9jof6ef"
      }
    },
    {
      "cell_type": "code",
      "source": [
        "# Etape 1 : récupération des données de test et de prediction\n",
        "y_pred = MNB_results['test_score']['prediction']\n",
        "print(y_pred)\n",
        "print(y_test)"
      ],
      "metadata": {
        "id": "6hp9r99qAB_3",
        "colab": {
          "base_uri": "https://localhost:8080/"
        },
        "outputId": "e6b8c0bb-dc73-46fb-b538-d28f868d5448"
      },
      "execution_count": 13,
      "outputs": [
        {
          "output_type": "stream",
          "name": "stdout",
          "text": [
            "['ham' 'spam' 'ham' ... 'spam' 'ham' 'ham']\n",
            "4942     ham\n",
            "3063    spam\n",
            "2325     ham\n",
            "4259     ham\n",
            "2067     ham\n",
            "        ... \n",
            "2412    spam\n",
            "2389     ham\n",
            "1224    spam\n",
            "4827     ham\n",
            "1481     ham\n",
            "Name: label, Length: 1393, dtype: object\n"
          ]
        }
      ]
    },
    {
      "cell_type": "code",
      "source": [
        "# Etape 2 : test selon conditions pour erreur de type 2\n",
        "print(list(y_test == 'spam'))\n",
        "print(list(y_pred == 'ham'))\n"
      ],
      "metadata": {
        "id": "jhgzVvVof-KI",
        "colab": {
          "base_uri": "https://localhost:8080/"
        },
        "outputId": "b2f9fdc5-5cdc-4290-f706-dbaed88a0e04"
      },
      "execution_count": 14,
      "outputs": [
        {
          "output_type": "stream",
          "name": "stdout",
          "text": [
            "[False, True, False, False, False, False, False, False, True, False, False, False, True, False, False, True, True, False, False, False, False, True, False, True, False, False, False, False, False, False, False, True, False, False, False, False, False, False, False, False, True, False, True, False, False, True, False, False, False, False, False, False, False, False, False, False, True, False, False, False, False, True, False, False, False, False, False, False, False, False, False, False, False, False, False, True, False, False, True, False, False, False, False, True, False, False, False, False, False, False, False, False, False, False, False, False, True, False, True, False, False, False, False, False, False, False, False, False, False, True, False, False, False, False, True, False, False, False, False, False, False, False, False, False, False, False, False, True, False, False, False, False, False, False, True, False, False, False, False, False, False, False, False, False, False, False, False, False, True, False, False, False, False, False, False, False, False, False, False, False, False, True, False, False, False, False, False, False, False, False, False, False, False, False, False, False, False, False, False, False, False, False, False, False, False, False, False, False, True, False, False, False, False, True, False, False, False, True, False, False, False, False, False, False, False, False, False, False, False, False, False, False, True, False, False, False, False, False, False, False, False, False, False, False, False, False, False, False, False, True, False, False, False, False, False, True, True, False, False, False, True, True, True, False, False, False, False, False, False, False, False, False, False, False, True, False, False, False, False, False, True, False, False, False, False, False, True, False, True, False, False, False, True, False, True, False, False, False, False, False, False, False, False, False, False, False, False, False, True, False, False, False, False, False, False, False, False, False, False, False, False, False, False, False, False, True, False, False, False, False, False, False, False, False, False, True, False, False, False, True, False, False, False, True, False, False, False, False, False, False, False, False, False, False, False, False, False, True, False, False, False, False, True, False, False, False, False, False, False, False, False, False, False, False, False, False, False, False, False, False, False, False, False, True, False, False, False, False, False, False, False, False, False, True, False, False, False, False, False, False, False, True, True, False, False, False, False, False, False, False, False, True, True, False, False, True, False, False, False, False, False, True, False, False, False, False, False, False, False, False, False, False, False, False, False, False, True, False, False, False, False, False, True, False, False, False, False, False, False, False, False, False, False, False, False, False, False, True, True, False, False, False, False, False, False, False, False, False, False, False, False, False, False, False, False, False, False, False, False, False, False, False, False, False, False, False, False, False, True, False, False, False, False, False, False, False, True, False, False, False, False, False, False, False, True, False, False, False, False, False, False, False, True, False, False, False, True, True, False, False, True, False, False, False, False, False, False, False, False, False, False, False, False, False, False, False, False, False, False, False, False, False, False, False, False, False, True, False, False, False, False, False, False, False, False, False, False, False, False, False, False, False, True, False, False, False, True, True, False, False, False, False, False, False, False, False, True, False, False, False, False, True, False, False, False, False, True, False, False, False, False, False, True, True, True, False, False, False, True, False, False, True, False, False, False, True, False, False, False, False, False, False, True, False, False, False, False, True, False, False, False, False, False, True, False, False, False, False, False, False, True, False, False, True, False, False, False, False, False, False, True, False, False, False, False, True, False, False, False, False, False, True, False, True, False, True, False, False, False, False, False, True, False, False, True, True, False, False, False, False, False, False, False, False, False, False, False, False, False, False, False, False, False, False, False, False, False, False, False, False, False, False, False, True, True, False, False, False, False, False, False, False, False, False, True, False, False, False, False, False, False, False, False, True, False, True, False, False, False, False, False, False, False, False, False, False, False, False, False, True, False, True, False, False, False, False, False, False, False, False, True, False, False, False, False, False, False, False, False, False, False, False, True, False, False, False, False, False, False, True, False, False, False, True, False, False, True, True, False, False, False, False, False, False, False, False, True, False, False, False, False, False, False, False, False, False, True, False, True, False, False, False, False, False, True, False, False, False, False, False, False, False, True, False, True, False, True, False, True, False, False, False, False, False, False, False, False, False, False, True, False, True, False, False, False, False, False, True, False, False, False, False, False, False, False, False, False, False, False, False, False, False, False, False, False, False, True, False, False, False, True, False, False, False, False, False, False, False, False, False, False, False, False, False, False, False, False, False, True, False, False, True, False, False, False, False, False, True, False, False, False, False, False, False, False, False, False, False, False, False, False, False, False, False, False, True, False, False, True, False, False, False, True, False, False, False, False, False, False, False, False, False, False, False, False, False, False, False, False, False, False, False, True, True, False, False, False, False, False, False, True, False, False, False, False, False, False, False, False, False, False, False, False, False, False, True, False, False, False, False, False, False, False, False, False, False, True, False, False, False, False, False, False, False, False, False, False, False, False, False, False, False, False, False, False, False, False, False, False, False, False, False, False, False, False, False, False, False, False, False, False, False, False, True, False, True, False, False, False, False, False, False, False, False, False, False, False, False, True, False, False, False, False, False, False, False, True, False, False, True, False, False, False, False, False, False, True, False, True, False, False, False, False, False, False, False, False, False, False, False, False, False, False, True, False, False, False, False, False, False, False, False, False, True, False, False, False, False, False, False, True, False, False, False, False, False, False, False, False, True, False, False, False, False, False, False, True, False, False, False, False, False, False, False, True, False, True, False, True, True, False, False, False, False, False, False, False, False, False, False, False, False, False, False, False, False, False, False, False, False, False, False, False, False, False, False, False, False, False, False, False, False, False, False, False, True, False, True, False, False, True, False, False, False, False, False, True, True, False, False, False, False, False, False, False, False, False, False, False, False, True, False, False, True, False, False, False, False, True, False, False, False, False, False, False, False, False, False, False, False, True, True, False, False, False, True, False, False, False, False, False, False, False, False, False, False, False, False, False, True, False, False, True, False, False, False, False, False, False, False, False, True, False, False, False, False, False, False, True, False, False, False, False, False, True, False, False, False, False, True, False, False, False, False, False, True, False, False, False, False, False, False, False, False, False, True, False, False, False, False, False, False, False, False, False, False, False, False, False, False, False, False, False, False, False, False, False, False, False, False, False, False, True, False, False, False, False, False, True, False, True, False, False, False, False, True, False, False, False, False, True, False, False, False, False, False, False, False, False, False, False, False, True, False, False, True, False, False, False, False, True, False, False, False, False, False, False, False, False, False, False, False, False, False, False, True, False, False, False, False, False, False, False, False, False, False, False, False, False, True, False, False, False, False, False, False, False, False, False, False, False, False, False, False, False, False, False, False, False, False, False, False, True, False, False, False, False, True, False, False, False, False, False, False, False, True, True, False, True, False, False, False, False, False, False, False, True, False, False, False, False, False, False, False, True, False, False, False, True, True, False, False, False, False, False, False, False, True, False, False, False, False, False, False, True, False, False, False, True, False, True, False, False]\n",
            "[True, False, True, True, True, True, True, True, False, True, True, True, False, True, True, False, False, True, True, True, True, False, True, True, True, True, True, True, True, True, True, False, True, True, True, True, True, True, True, True, False, True, False, True, True, False, True, True, True, True, True, True, True, True, True, True, False, True, True, True, True, False, True, True, True, True, True, True, True, True, True, True, True, True, True, False, True, True, False, True, True, True, True, True, True, True, True, True, True, True, True, True, True, True, True, True, False, True, False, True, True, True, True, True, True, True, True, True, True, False, True, True, True, True, False, True, True, True, True, True, True, True, True, True, True, True, True, False, True, True, True, True, True, True, True, True, True, True, True, True, True, True, True, True, True, True, True, True, False, True, True, True, True, True, True, True, True, True, True, True, True, False, True, True, True, True, True, True, True, True, True, True, True, True, True, True, True, True, True, True, True, True, True, True, True, True, True, True, False, True, True, True, True, False, True, True, False, False, True, True, True, True, False, True, True, True, True, True, True, True, True, True, False, True, True, True, True, True, True, True, True, True, True, True, True, True, True, True, True, False, True, True, True, True, True, False, False, True, True, True, False, False, False, True, True, True, True, True, True, True, True, True, True, True, False, True, True, True, True, True, False, True, True, True, True, True, False, True, False, True, True, True, False, True, False, True, True, True, True, True, True, True, True, True, True, True, True, True, False, True, True, True, True, True, True, True, True, True, True, True, True, True, True, True, True, False, True, True, True, True, True, True, True, True, True, False, True, True, True, False, True, True, True, False, True, True, True, True, True, True, True, True, True, True, True, True, True, False, True, True, True, True, False, True, True, True, True, True, True, True, True, True, True, True, True, True, True, True, True, True, True, True, True, False, True, True, True, True, True, True, True, True, True, False, True, True, True, True, True, True, True, False, False, True, True, True, True, True, True, True, True, False, False, True, True, False, True, True, True, True, True, False, True, True, True, True, True, True, True, True, True, True, True, True, True, True, False, True, True, True, True, True, False, True, True, True, True, True, True, True, True, True, True, True, True, True, True, False, False, True, True, True, True, True, True, True, True, True, True, True, True, True, True, True, True, True, True, True, True, True, True, True, True, True, True, True, True, True, False, True, True, True, True, True, True, True, False, True, True, True, True, True, True, True, False, True, True, True, True, True, True, True, False, True, True, True, False, False, True, True, False, True, True, True, True, True, True, True, True, True, True, True, True, True, True, True, True, True, True, True, True, True, True, True, True, True, False, True, True, True, True, True, True, True, True, True, True, True, True, True, True, True, False, True, True, True, False, False, True, True, True, True, True, True, True, True, False, True, True, True, True, False, True, True, True, True, False, True, True, True, True, True, True, True, False, True, True, False, False, True, True, False, True, True, True, False, True, True, True, True, True, True, True, True, True, True, True, False, True, True, True, True, True, False, True, True, True, True, True, True, False, True, True, True, True, True, True, True, True, True, False, True, True, True, True, False, True, True, True, True, True, False, True, False, True, False, True, True, True, True, True, False, True, True, False, False, True, True, True, True, True, True, True, True, True, True, True, True, True, True, True, True, True, True, True, True, True, True, True, True, True, True, True, False, False, True, True, True, True, True, True, True, True, True, False, True, True, True, True, True, True, True, True, False, True, False, True, True, True, True, True, True, True, True, True, True, True, True, True, False, True, True, True, True, True, True, True, True, True, True, False, True, True, True, True, True, True, True, True, True, True, True, False, True, True, True, True, True, True, False, True, True, True, False, True, True, False, False, True, True, True, True, True, True, True, True, False, True, True, True, True, True, True, True, True, True, False, True, False, True, True, True, True, True, True, True, True, True, True, True, True, True, True, True, False, True, False, True, False, True, True, True, True, True, False, True, True, True, True, False, True, False, True, True, True, True, True, False, True, True, True, True, True, True, True, True, True, True, True, True, True, True, True, True, True, True, False, True, True, True, False, True, True, True, True, True, True, True, True, True, True, True, True, True, True, True, True, True, False, True, True, False, True, True, True, True, True, False, True, True, True, True, True, True, True, True, True, True, True, True, True, True, True, True, True, False, True, True, False, True, True, True, False, True, True, True, True, True, True, True, True, True, True, True, True, True, True, True, True, True, True, True, False, False, True, True, True, True, True, True, True, True, True, True, True, True, True, True, True, True, True, True, True, True, True, False, True, True, True, True, True, True, True, True, True, True, False, True, True, True, True, True, True, True, True, True, True, True, True, True, True, True, True, True, True, True, True, True, True, True, True, True, True, True, True, True, True, True, True, True, True, True, True, False, True, False, True, True, True, True, True, True, True, True, True, True, True, True, False, True, True, True, True, True, True, True, False, True, True, False, True, True, True, True, True, True, False, True, False, True, True, True, True, True, True, True, True, True, True, True, True, True, True, False, True, True, True, True, True, True, True, True, True, True, True, True, True, True, True, True, False, True, True, True, True, True, True, True, True, False, True, True, True, True, True, True, False, True, True, True, True, True, True, True, False, True, True, True, False, False, True, True, True, True, True, True, True, True, True, True, True, True, True, True, True, True, True, True, True, True, True, True, True, True, True, True, True, True, True, True, True, True, True, True, True, False, True, False, True, True, False, True, True, True, True, True, False, False, True, True, True, True, True, True, True, True, True, True, True, True, False, True, True, False, True, True, True, True, False, True, True, True, True, True, True, True, True, True, True, True, False, False, True, True, True, False, True, True, True, True, True, True, True, True, True, True, True, True, True, False, True, True, False, True, True, True, True, True, True, True, True, False, True, True, True, True, True, True, False, True, True, True, True, True, False, True, True, True, True, False, True, True, True, True, True, False, True, True, True, True, True, True, True, True, True, False, True, True, True, True, True, True, True, True, True, True, True, True, True, True, True, True, True, True, True, True, True, True, True, True, True, True, False, True, True, True, True, True, False, True, False, True, True, True, True, False, True, True, True, True, False, True, True, True, True, True, True, True, True, True, True, True, False, True, True, False, True, True, True, True, False, True, True, True, True, True, True, True, True, True, True, True, True, True, True, False, True, True, True, True, True, True, True, True, True, True, True, True, True, False, True, True, True, True, True, True, False, True, True, True, True, True, True, True, True, True, True, True, True, True, True, True, False, True, True, True, True, False, True, True, True, True, True, True, True, False, False, True, False, True, True, True, True, True, True, True, False, True, True, True, True, True, True, True, False, True, True, True, False, False, True, True, True, True, True, True, True, False, True, True, True, True, True, True, False, True, True, True, False, True, False, True, True]\n"
          ]
        }
      ]
    },
    {
      "cell_type": "code",
      "source": [
        "# Etape 3 : fonction de test de correspondance et d'extraction\n",
        "def compareList(test, pred, label):\n",
        "    # Booléen - Liste des messages réels correspondant à 'label' (spam/ham)\n",
        "    list_test = list(test == label)\n",
        "\n",
        "    # Booléen - Liste des messages prédits correspondant à 'label' (spam/ham)\n",
        "    list_pred = list(pred != label)\n",
        "\n",
        "    # Test des 2 listes de booléens quand égalité\n",
        "    return [i==j for i, j in zip(list_test, list_pred)]\n",
        "\n",
        "print(compareList(test=y_test, pred=y_pred, label='spam'))"
      ],
      "metadata": {
        "id": "5fSIqdr8f-Hh",
        "colab": {
          "base_uri": "https://localhost:8080/"
        },
        "outputId": "d8197f8e-4953-4dc9-dfe6-4e15ea5bd5f2"
      },
      "execution_count": 15,
      "outputs": [
        {
          "output_type": "stream",
          "name": "stdout",
          "text": [
            "[False, False, False, False, False, False, False, False, False, False, False, False, False, False, False, False, False, False, False, False, False, False, False, True, False, False, False, False, False, False, False, False, False, False, False, False, False, False, False, False, False, False, False, False, False, False, False, False, False, False, False, False, False, False, False, False, False, False, False, False, False, False, False, False, False, False, False, False, False, False, False, False, False, False, False, False, False, False, False, False, False, False, False, True, False, False, False, False, False, False, False, False, False, False, False, False, False, False, False, False, False, False, False, False, False, False, False, False, False, False, False, False, False, False, False, False, False, False, False, False, False, False, False, False, False, False, False, False, False, False, False, False, False, False, True, False, False, False, False, False, False, False, False, False, False, False, False, False, False, False, False, False, False, False, False, False, False, False, False, False, False, False, False, False, False, False, False, False, False, False, False, False, False, False, False, False, False, False, False, False, False, False, False, False, False, False, False, False, False, False, False, False, False, False, False, False, True, False, False, False, False, False, True, False, False, False, False, False, False, False, False, False, False, False, False, False, False, False, False, False, False, False, False, False, False, False, False, False, False, False, False, False, False, False, False, False, False, False, False, False, False, False, False, False, False, False, False, False, False, False, False, False, False, False, False, False, False, False, False, False, False, False, False, False, False, False, False, False, False, False, False, False, False, False, False, False, False, False, False, False, False, False, False, False, False, False, False, False, False, False, False, False, False, False, False, False, False, False, False, False, False, False, False, False, False, False, False, False, False, False, False, False, False, False, False, False, False, False, False, False, False, False, False, False, False, False, False, False, False, False, False, False, False, False, False, False, False, False, False, False, False, False, False, False, False, False, False, False, False, False, False, False, False, False, False, False, False, False, False, False, False, False, False, False, False, False, False, False, False, False, False, False, False, False, False, False, False, False, False, False, False, False, False, False, False, False, False, False, False, False, False, False, False, False, False, False, False, False, False, False, False, False, False, False, False, False, False, False, False, False, False, False, False, False, False, False, False, False, False, False, False, False, False, False, False, False, False, False, False, False, False, False, False, False, False, False, False, False, False, False, False, False, False, False, False, False, False, False, False, False, False, False, False, False, False, False, False, False, False, False, False, False, False, False, False, False, False, False, False, False, False, False, False, False, False, False, False, False, False, False, False, False, False, False, False, False, False, False, False, False, False, False, False, False, False, False, False, False, False, False, False, False, False, False, False, False, False, False, False, False, False, False, False, False, False, False, False, False, False, False, False, False, False, False, False, False, False, False, False, False, False, False, False, False, False, False, False, False, False, False, False, False, False, False, False, False, False, False, False, False, False, False, False, False, False, False, False, False, False, False, False, False, False, False, False, False, False, False, False, False, False, False, True, True, False, False, False, True, False, False, False, False, False, False, False, False, False, False, False, False, False, False, True, False, False, False, False, False, False, False, False, False, False, False, False, False, False, False, False, False, False, False, False, True, False, False, False, False, False, False, False, False, False, False, False, False, False, False, False, False, False, False, False, False, False, False, False, False, False, False, False, False, False, False, False, False, False, False, False, False, False, False, False, False, False, False, False, False, False, False, False, False, False, False, False, False, False, False, False, False, False, False, False, False, False, False, False, False, False, False, False, False, False, False, False, False, False, False, False, False, False, False, False, False, False, False, False, False, False, False, False, False, False, False, False, False, False, False, False, False, False, True, False, False, False, False, False, False, False, False, False, False, False, False, False, False, False, False, False, False, False, False, False, False, False, False, False, False, False, False, False, False, False, False, False, False, False, False, False, False, False, False, False, False, False, False, False, False, False, False, False, False, False, False, False, False, False, False, False, False, False, False, False, False, True, False, False, False, False, False, False, False, True, False, False, False, False, False, False, False, False, False, False, False, True, False, False, False, False, False, False, False, False, False, False, False, False, False, False, False, False, False, False, False, False, False, False, False, False, False, False, False, False, False, False, False, False, False, False, False, False, False, False, False, False, False, False, False, False, False, False, False, False, False, False, False, False, False, False, False, False, False, False, False, False, False, False, False, False, False, False, False, False, False, False, False, False, False, False, False, False, False, False, False, False, False, False, False, False, False, False, False, False, False, False, False, False, False, False, False, False, False, False, False, False, False, False, False, False, False, False, False, False, False, False, False, False, False, False, False, True, False, False, False, False, False, False, False, False, False, False, False, False, False, False, False, False, False, False, False, False, False, False, False, False, False, False, False, False, False, False, False, False, False, False, False, False, False, False, False, False, False, False, False, False, False, False, False, False, False, False, False, False, False, False, False, False, False, False, False, False, False, False, False, False, False, False, False, False, False, False, False, False, False, False, False, False, False, False, False, False, False, False, False, False, False, False, False, False, False, False, False, False, False, False, False, False, False, False, False, False, False, False, False, False, False, False, False, False, False, False, False, False, False, False, False, False, False, False, False, False, False, False, True, False, False, False, False, False, False, False, False, False, False, False, False, False, False, False, False, False, False, False, False, False, False, False, False, False, False, False, False, False, False, False, False, True, False, False, False, False, False, False, False, False, False, False, False, False, False, False, False, False, False, False, False, False, False, False, False, False, False, False, False, False, False, False, False, False, False, False, False, False, False, False, False, False, False, False, False, False, False, False, False, False, False, False, False, False, False, False, False, False, False, False, False, False, False, False, False, False, False, False, False, False, False, False, False, False, False, False, False, False, False, False, False, False, False, False, False, False, False, False, False, False, False, False, False, False, False, False, False, False, False, False, False, False, False, False, False, False, False, False, False, False, False, False, False, False, False, False, False, False, False, False, False, False, False, False, False, False, False, False, False, False, False, False, False, False, False, False, False, False, False, False, False, False, False, False, False, False, False, False, False, False, False, False, False, False, False, False, False, False, False, False, False, False, False, False, False, False, False, False, False, False, False, False, False, False, False, False, False, False, False, False, False, False, False, False, False, False, False, False, False, False, False, False, False, False, False, False, False, False, False, False, False, False, False, False, False, False, False, False, False, False, False, False, False, False, False, False, False, False, False, False, False, False, False, False, False, False, False, False, False, False, False, False, False, False, False, False, False, False, False, False, False, False, False, False, False, False, False, False, False, False, False, True, False, False, False, False, False, False, False, False, False, False, False, False, False, False, False, False, False, False, False, False, False, False, False, False, False, False, False, False, False, False, False, False, False, False, False, False, False, False, False, False, False, False, False, False, False, False, False, False, False, False, False, False, False, False, False, False, False, False, False, False, False, False, False, False, False, False, False, False, False, False, False, False, False, False, False, False]\n"
          ]
        }
      ]
    },
    {
      "cell_type": "code",
      "source": [
        "# Etape 4 : récupération des messages pour les erreurs de type 2\n",
        "erreur_type2 = compareList(test=y_test, pred=y_pred, label='spam')\n",
        "msg_erreur_type2 = X_test[erreur_type2]\n",
        "\n",
        "print(msg_erreur_type2)"
      ],
      "metadata": {
        "id": "LUV3M4jmf-FA",
        "colab": {
          "base_uri": "https://localhost:8080/"
        },
        "outputId": "59316d15-85c6-4126-dc5d-3faecba2610b"
      },
      "execution_count": 19,
      "outputs": [
        {
          "output_type": "stream",
          "name": "stdout",
          "text": [
            "3359    Sorry I missed your call let's talk when you h...\n",
            "750     Do you realize that in about 40 years, we'll h...\n",
            "2822    ROMCAPspam Everyone around should be respondin...\n",
            "3414                              No pic. Please re-send.\n",
            "3889                    Unlimited texts. Limited minutes.\n",
            "3980                                   ringtoneking 84484\n",
            "2246    Hi ya babe x u 4goten bout me?' scammers getti...\n",
            "395     From here after The performance award is calcu...\n",
            "1939    More people are dogging in your area now. Call...\n",
            "1662    Hi if ur lookin 4 saucy daytime fun wiv busty ...\n",
            "1268    Can U get 2 phone NOW? I wanna chat 2 set up m...\n",
            "5539    ASKED 3MOBILE IF 0870 CHATLINES INCLU IN FREE ...\n",
            "3301             RCT' THNQ Adrian for U text. Rgds Vatian\n",
            "4701                               I liked the new mobile\n",
            "1637    0A$NETWORKS allow companies to bill for SMS, s...\n",
            "1429    For sale - arsenal dartboard. Good condition b...\n",
            "730     Email AlertFrom: Jeri StewartSize: 2KBSubject:...\n",
            "4599              Have you laid your airtel line to rest?\n",
            "Name: message, dtype: object\n"
          ]
        }
      ]
    },
    {
      "cell_type": "markdown",
      "source": [
        "### 10.2.2 Investigations\n",
        "A partir de maintenant plusieurs pistes sont à investiguer afin d'évaluer si les facteurs suivants sont potentiellement responsables d'une mauvaise détection :\n",
        "- longueur des messages\n",
        "- présence de chiffres, caractèes spéciaux\n",
        "- vocabulaire\n",
        "- etc.\n",
        "\n",
        "Bien sûr une bonne compréhension du modèle permettra de rendre cette investigation plus efficace !"
      ],
      "metadata": {
        "id": "sdT8MjIXgCNx"
      }
    },
    {
      "cell_type": "markdown",
      "source": [
        "#11 Feature importance"
      ],
      "metadata": {
        "id": "XwPLzVsYgEfO"
      }
    },
    {
      "cell_type": "markdown",
      "source": [
        "##11.1 Modèle final"
      ],
      "metadata": {
        "id": "_l9E28Z0gH12"
      }
    },
    {
      "cell_type": "code",
      "source": [
        "# Prepare data\n",
        "y = df['label']\n",
        "X = df['message']\n",
        "\n",
        "# Split data\n",
        "X_train, X_test, y_train, y_test = train_test_split(X, y, test_size=0.25, random_state=42, stratify=y)\n",
        "\n",
        "# Model and its parameters\n",
        "best_estimator = pipe_spam(\n",
        "    vectorizer=CountVectorizer(max_features=1000, ngram_range=(1, 1), stop_words=None),\n",
        "    classifier=MultinomialNB(force_alpha=True))\n",
        "\n",
        "# Fit\n",
        "best_estimator.fit(X_train, y_train)"
      ],
      "metadata": {
        "colab": {
          "base_uri": "https://localhost:8080/",
          "height": 125
        },
        "id": "QDWE1w8QkHLZ",
        "outputId": "e27acb4a-8565-417a-d006-f0dad6f39829"
      },
      "execution_count": 20,
      "outputs": [
        {
          "output_type": "execute_result",
          "data": {
            "text/plain": [
              "Pipeline(steps=[('vect', CountVectorizer(max_features=1000)),\n",
              "                ('clf', MultinomialNB(force_alpha=True))])"
            ],
            "text/html": [
              "<style>#sk-container-id-1 {color: black;background-color: white;}#sk-container-id-1 pre{padding: 0;}#sk-container-id-1 div.sk-toggleable {background-color: white;}#sk-container-id-1 label.sk-toggleable__label {cursor: pointer;display: block;width: 100%;margin-bottom: 0;padding: 0.3em;box-sizing: border-box;text-align: center;}#sk-container-id-1 label.sk-toggleable__label-arrow:before {content: \"▸\";float: left;margin-right: 0.25em;color: #696969;}#sk-container-id-1 label.sk-toggleable__label-arrow:hover:before {color: black;}#sk-container-id-1 div.sk-estimator:hover label.sk-toggleable__label-arrow:before {color: black;}#sk-container-id-1 div.sk-toggleable__content {max-height: 0;max-width: 0;overflow: hidden;text-align: left;background-color: #f0f8ff;}#sk-container-id-1 div.sk-toggleable__content pre {margin: 0.2em;color: black;border-radius: 0.25em;background-color: #f0f8ff;}#sk-container-id-1 input.sk-toggleable__control:checked~div.sk-toggleable__content {max-height: 200px;max-width: 100%;overflow: auto;}#sk-container-id-1 input.sk-toggleable__control:checked~label.sk-toggleable__label-arrow:before {content: \"▾\";}#sk-container-id-1 div.sk-estimator input.sk-toggleable__control:checked~label.sk-toggleable__label {background-color: #d4ebff;}#sk-container-id-1 div.sk-label input.sk-toggleable__control:checked~label.sk-toggleable__label {background-color: #d4ebff;}#sk-container-id-1 input.sk-hidden--visually {border: 0;clip: rect(1px 1px 1px 1px);clip: rect(1px, 1px, 1px, 1px);height: 1px;margin: -1px;overflow: hidden;padding: 0;position: absolute;width: 1px;}#sk-container-id-1 div.sk-estimator {font-family: monospace;background-color: #f0f8ff;border: 1px dotted black;border-radius: 0.25em;box-sizing: border-box;margin-bottom: 0.5em;}#sk-container-id-1 div.sk-estimator:hover {background-color: #d4ebff;}#sk-container-id-1 div.sk-parallel-item::after {content: \"\";width: 100%;border-bottom: 1px solid gray;flex-grow: 1;}#sk-container-id-1 div.sk-label:hover label.sk-toggleable__label {background-color: #d4ebff;}#sk-container-id-1 div.sk-serial::before {content: \"\";position: absolute;border-left: 1px solid gray;box-sizing: border-box;top: 0;bottom: 0;left: 50%;z-index: 0;}#sk-container-id-1 div.sk-serial {display: flex;flex-direction: column;align-items: center;background-color: white;padding-right: 0.2em;padding-left: 0.2em;position: relative;}#sk-container-id-1 div.sk-item {position: relative;z-index: 1;}#sk-container-id-1 div.sk-parallel {display: flex;align-items: stretch;justify-content: center;background-color: white;position: relative;}#sk-container-id-1 div.sk-item::before, #sk-container-id-1 div.sk-parallel-item::before {content: \"\";position: absolute;border-left: 1px solid gray;box-sizing: border-box;top: 0;bottom: 0;left: 50%;z-index: -1;}#sk-container-id-1 div.sk-parallel-item {display: flex;flex-direction: column;z-index: 1;position: relative;background-color: white;}#sk-container-id-1 div.sk-parallel-item:first-child::after {align-self: flex-end;width: 50%;}#sk-container-id-1 div.sk-parallel-item:last-child::after {align-self: flex-start;width: 50%;}#sk-container-id-1 div.sk-parallel-item:only-child::after {width: 0;}#sk-container-id-1 div.sk-dashed-wrapped {border: 1px dashed gray;margin: 0 0.4em 0.5em 0.4em;box-sizing: border-box;padding-bottom: 0.4em;background-color: white;}#sk-container-id-1 div.sk-label label {font-family: monospace;font-weight: bold;display: inline-block;line-height: 1.2em;}#sk-container-id-1 div.sk-label-container {text-align: center;}#sk-container-id-1 div.sk-container {/* jupyter's `normalize.less` sets `[hidden] { display: none; }` but bootstrap.min.css set `[hidden] { display: none !important; }` so we also need the `!important` here to be able to override the default hidden behavior on the sphinx rendered scikit-learn.org. See: https://github.com/scikit-learn/scikit-learn/issues/21755 */display: inline-block !important;position: relative;}#sk-container-id-1 div.sk-text-repr-fallback {display: none;}</style><div id=\"sk-container-id-1\" class=\"sk-top-container\"><div class=\"sk-text-repr-fallback\"><pre>Pipeline(steps=[(&#x27;vect&#x27;, CountVectorizer(max_features=1000)),\n",
              "                (&#x27;clf&#x27;, MultinomialNB(force_alpha=True))])</pre><b>In a Jupyter environment, please rerun this cell to show the HTML representation or trust the notebook. <br />On GitHub, the HTML representation is unable to render, please try loading this page with nbviewer.org.</b></div><div class=\"sk-container\" hidden><div class=\"sk-item sk-dashed-wrapped\"><div class=\"sk-label-container\"><div class=\"sk-label sk-toggleable\"><input class=\"sk-toggleable__control sk-hidden--visually\" id=\"sk-estimator-id-1\" type=\"checkbox\" ><label for=\"sk-estimator-id-1\" class=\"sk-toggleable__label sk-toggleable__label-arrow\">Pipeline</label><div class=\"sk-toggleable__content\"><pre>Pipeline(steps=[(&#x27;vect&#x27;, CountVectorizer(max_features=1000)),\n",
              "                (&#x27;clf&#x27;, MultinomialNB(force_alpha=True))])</pre></div></div></div><div class=\"sk-serial\"><div class=\"sk-item\"><div class=\"sk-estimator sk-toggleable\"><input class=\"sk-toggleable__control sk-hidden--visually\" id=\"sk-estimator-id-2\" type=\"checkbox\" ><label for=\"sk-estimator-id-2\" class=\"sk-toggleable__label sk-toggleable__label-arrow\">CountVectorizer</label><div class=\"sk-toggleable__content\"><pre>CountVectorizer(max_features=1000)</pre></div></div></div><div class=\"sk-item\"><div class=\"sk-estimator sk-toggleable\"><input class=\"sk-toggleable__control sk-hidden--visually\" id=\"sk-estimator-id-3\" type=\"checkbox\" ><label for=\"sk-estimator-id-3\" class=\"sk-toggleable__label sk-toggleable__label-arrow\">MultinomialNB</label><div class=\"sk-toggleable__content\"><pre>MultinomialNB(force_alpha=True)</pre></div></div></div></div></div></div></div>"
            ]
          },
          "metadata": {},
          "execution_count": 20
        }
      ]
    },
    {
      "cell_type": "markdown",
      "source": [
        "##11.2 Features retenues pour l'apprentissage"
      ],
      "metadata": {
        "id": "kMwpGybQkH5z"
      }
    },
    {
      "cell_type": "code",
      "source": [
        "# Vérification de la tailles des différents objets\n",
        "print(len(best_estimator.named_steps['clf'].feature_log_prob_[0]))\n",
        "print(best_estimator.named_steps['clf'].n_features_in_)#feature_names_in_\n",
        "print(len(best_estimator.named_steps['vect'].vocabulary_))"
      ],
      "metadata": {
        "colab": {
          "base_uri": "https://localhost:8080/"
        },
        "id": "B2tXzHXXkN6z",
        "outputId": "f4215bb5-0fc9-4fa2-d1e8-ca3dacff2ca2"
      },
      "execution_count": 22,
      "outputs": [
        {
          "output_type": "stream",
          "name": "stdout",
          "text": [
            "1000\n",
            "1000\n",
            "1000\n"
          ]
        }
      ]
    },
    {
      "cell_type": "code",
      "source": [
        "# Features retenues après vectorisation\n",
        "best_estimator.named_steps['vect'].vocabulary_"
      ],
      "metadata": {
        "colab": {
          "base_uri": "https://localhost:8080/"
        },
        "id": "flNRX569W-QU",
        "outputId": "5ef28866-7ad6-46cc-bc02-d94198d8eb39"
      },
      "execution_count": 23,
      "outputs": [
        {
          "output_type": "execute_result",
          "data": {
            "text/plain": [
              "{'when': 941,\n",
              " 'you': 995,\n",
              " 'just': 446,\n",
              " 'put': 683,\n",
              " 'in': 431,\n",
              " 'the': 826,\n",
              " 'choose': 169,\n",
              " 'my': 565,\n",
              " 'number': 596,\n",
              " 'and': 68,\n",
              " 'will': 953,\n",
              " 'show': 753,\n",
              " 'right': 706,\n",
              " '20': 19,\n",
              " 'that': 824,\n",
              " 'call': 140,\n",
              " 'cost': 199,\n",
              " 'which': 944,\n",
              " 'guess': 368,\n",
              " 'bad': 102,\n",
              " 'miss': 535,\n",
              " 'ya': 986,\n",
              " 'need': 570,\n",
              " 'want': 918,\n",
              " 'love': 495,\n",
              " 'going': 354,\n",
              " 'to': 853,\n",
              " 'fr': 318,\n",
              " 'home': 410,\n",
              " 'ok': 605,\n",
              " 'can': 149,\n",
              " 'so': 773,\n",
              " 'am': 65,\n",
              " 'how': 416,\n",
              " 'much': 560,\n",
              " 'for': 312,\n",
              " 'an': 67,\n",
              " 'dont': 247,\n",
              " 'think': 835,\n",
              " 'card': 152,\n",
              " 'uk': 884,\n",
              " 'ask': 84,\n",
              " 'someone': 775,\n",
              " 'has': 384,\n",
              " 'gone': 355,\n",
              " 'before': 111,\n",
              " 'if': 425,\n",
              " 'do': 239,\n",
              " 'its': 440,\n",
              " 'lt': 498,\n",
              " 'gt': 365,\n",
              " 'did': 231,\n",
              " 'already': 61,\n",
              " 'lar': 458,\n",
              " 'at': 88,\n",
              " 'are': 79,\n",
              " 'write': 979,\n",
              " 'this': 839,\n",
              " 'week': 929,\n",
              " 'im': 428,\n",
              " 'good': 357,\n",
              " 'have': 386,\n",
              " 'been': 110,\n",
              " 'thinking': 837,\n",
              " 'about': 39,\n",
              " 'some': 774,\n",
              " 'eat': 265,\n",
              " 'anything': 75,\n",
              " 'frnd': 327,\n",
              " 'not': 591,\n",
              " 'juz': 447,\n",
              " 'word': 968,\n",
              " 'says': 727,\n",
              " 'be': 106,\n",
              " 'with': 958,\n",
              " 'dear': 223,\n",
              " 'then': 829,\n",
              " 'coming': 186,\n",
              " 'class': 173,\n",
              " 'or': 619,\n",
              " 'know': 453,\n",
              " 'bring': 130,\n",
              " 'food': 311,\n",
              " 'real': 695,\n",
              " 'tho': 841,\n",
              " 'even': 280,\n",
              " 'whole': 947,\n",
              " 'is': 437,\n",
              " 'out': 627,\n",
              " 'between': 116,\n",
              " '10p': 9,\n",
              " 'no': 584,\n",
              " 'money': 546,\n",
              " 'mate': 514,\n",
              " 'him': 403,\n",
              " 'haf': 374,\n",
              " 'found': 317,\n",
              " 'feel': 297,\n",
              " 'stupid': 794,\n",
              " 'da': 213,\n",
              " 'was': 922,\n",
              " 'working': 971,\n",
              " 'thk': 840,\n",
              " 'lor': 489,\n",
              " 'but': 136,\n",
              " 'dunno': 260,\n",
              " 'get': 342,\n",
              " 'tickets': 846,\n",
              " 'wat': 924,\n",
              " 'doing': 244,\n",
              " 'now': 593,\n",
              " 'haha': 375,\n",
              " 'yeah': 988,\n",
              " 'kind': 450,\n",
              " 'of': 599,\n",
              " 'use': 896,\n",
              " 'on': 609,\n",
              " 'way': 927,\n",
              " 'long': 486,\n",
              " 'would': 977,\n",
              " 'over': 629,\n",
              " 'school': 729,\n",
              " 'we': 928,\n",
              " 'go': 350,\n",
              " 'hello': 396,\n",
              " 'little': 480,\n",
              " 'party': 636,\n",
              " 'thought': 844,\n",
              " 'as': 82,\n",
              " 'were': 937,\n",
              " 'your': 996,\n",
              " 'friends': 324,\n",
              " 'grins': 364,\n",
              " 'send': 739,\n",
              " 'kiss': 451,\n",
              " 'frm': 326,\n",
              " 'heart': 394,\n",
              " 'gonna': 356,\n",
              " 'like': 477,\n",
              " 'doin': 243,\n",
              " 'shit': 749,\n",
              " 'minutes': 534,\n",
              " 'ago': 55,\n",
              " 'one': 611,\n",
              " 'lol': 485,\n",
              " 'actually': 45,\n",
              " 'sleeping': 764,\n",
              " 'still': 789,\n",
              " 'might': 528,\n",
              " 'back': 101,\n",
              " 'text': 817,\n",
              " 'gr8': 362,\n",
              " 'sis': 760,\n",
              " 'wen': 935,\n",
              " 'wake': 913,\n",
              " 'hey': 400,\n",
              " 'sexy': 746,\n",
              " 'what': 938,\n",
              " 'day': 220,\n",
              " 'from': 329,\n",
              " 'morning': 550,\n",
              " 'meet': 523,\n",
              " 'other': 624,\n",
              " 'dun': 259,\n",
              " 'wan': 915,\n",
              " 'me': 519,\n",
              " 'ah': 56,\n",
              " 'muz': 564,\n",
              " 'guy': 369,\n",
              " 'rite': 709,\n",
              " 'plans': 654,\n",
              " 'family': 291,\n",
              " 'set': 744,\n",
              " 'together': 856,\n",
              " 'should': 752,\n",
              " 'thinkin': 836,\n",
              " 'give': 347,\n",
              " 'please': 657,\n",
              " 'probably': 679,\n",
              " 'almost': 59,\n",
              " 'gas': 338,\n",
              " 'cash': 156,\n",
              " 'tomorrow': 859,\n",
              " 'things': 834,\n",
              " 'question': 684,\n",
              " 'win': 954,\n",
              " '100': 7,\n",
              " '000': 1,\n",
              " 'pounds': 670,\n",
              " 'txt': 880,\n",
              " '150p': 14,\n",
              " '16': 16,\n",
              " 'apply': 77,\n",
              " 'reply': 704,\n",
              " 'info': 433,\n",
              " 'message': 525,\n",
              " 'offer': 601,\n",
              " 'work': 970,\n",
              " 'evening': 281,\n",
              " 'sleep': 763,\n",
              " 'late': 460,\n",
              " 'since': 758,\n",
              " 'moment': 544,\n",
              " 'always': 64,\n",
              " 're': 690,\n",
              " 'every': 283,\n",
              " 'saturday': 721,\n",
              " 'sorry': 779,\n",
              " 'whenever': 942,\n",
              " 'hold': 408,\n",
              " 'maybe': 518,\n",
              " 'hour': 413,\n",
              " 'two': 879,\n",
              " 'll': 482,\n",
              " 'where': 943,\n",
              " 'away': 96,\n",
              " 'doesn': 241,\n",
              " 'without': 960,\n",
              " 'don': 245,\n",
              " 'crave': 204,\n",
              " 'many': 511,\n",
              " 'more': 549,\n",
              " 'happy': 382,\n",
              " 'wish': 956,\n",
              " 'birthday': 118,\n",
              " 'tel': 811,\n",
              " 'done': 246,\n",
              " 'first': 309,\n",
              " 'answer': 72,\n",
              " 'noe': 586,\n",
              " 'sch': 728,\n",
              " 'hows': 417,\n",
              " 'holiday': 409,\n",
              " 'de': 222,\n",
              " 'got': 360,\n",
              " 'sure': 801,\n",
              " 'they': 832,\n",
              " 'understand': 887,\n",
              " 'had': 373,\n",
              " 'take': 805,\n",
              " 'forever': 313,\n",
              " 'come': 183,\n",
              " 'gotta': 361,\n",
              " 'bathe': 105,\n",
              " 'today': 854,\n",
              " 'aight': 57,\n",
              " 'mu': 559,\n",
              " 'swing': 804,\n",
              " 'by': 139,\n",
              " 'new': 576,\n",
              " 'year': 989,\n",
              " 'brother': 131,\n",
              " 'really': 696,\n",
              " 'decided': 224,\n",
              " 'only': 614,\n",
              " 'happiness': 381,\n",
              " 'abiola': 37,\n",
              " 'better': 115,\n",
              " 'than': 820,\n",
              " 'loving': 497,\n",
              " 'hurt': 420,\n",
              " 'gud': 367,\n",
              " 'nyt': 598,\n",
              " 'wont': 967,\n",
              " 'play': 655,\n",
              " 'driving': 256,\n",
              " 'great': 363,\n",
              " 'safe': 717,\n",
              " 'trip': 872,\n",
              " 'all': 58,\n",
              " 'there': 830,\n",
              " 'yours': 997,\n",
              " 'missing': 537,\n",
              " 'name': 567,\n",
              " 'sent': 741,\n",
              " 'date': 218,\n",
              " 'lot': 492,\n",
              " 'thats': 825,\n",
              " 'everything': 285,\n",
              " 'com': 182,\n",
              " 'felt': 300,\n",
              " 'any': 73,\n",
              " 'reason': 697,\n",
              " 'he': 390,\n",
              " 'didn': 232,\n",
              " 'hav': 385,\n",
              " 'haven': 387,\n",
              " 'seen': 736,\n",
              " 'heard': 393,\n",
              " 'case': 155,\n",
              " 'it': 439,\n",
              " 'here': 399,\n",
              " 'try': 875,\n",
              " 'said': 718,\n",
              " 'she': 748,\n",
              " 'video': 906,\n",
              " 'free': 319,\n",
              " 'download': 250,\n",
              " 'type': 882,\n",
              " 'search': 731,\n",
              " 'later': 461,\n",
              " 'meeting': 524,\n",
              " 'thing': 833,\n",
              " 'next': 578,\n",
              " 'town': 869,\n",
              " 'weekend': 930,\n",
              " 'sweet': 803,\n",
              " 'well': 934,\n",
              " 'princess': 675,\n",
              " 'tell': 812,\n",
              " 'bed': 109,\n",
              " 'down': 249,\n",
              " 'buying': 138,\n",
              " '2000': 21,\n",
              " 'plus': 659,\n",
              " 'support': 800,\n",
              " 'up': 891,\n",
              " 'orange': 620,\n",
              " 'customer': 211,\n",
              " 'may': 516,\n",
              " 'claim': 172,\n",
              " 'camera': 148,\n",
              " 'phone': 645,\n",
              " 'ends': 272,\n",
              " 'opt': 618,\n",
              " 'pick': 648,\n",
              " 'time': 849,\n",
              " 'after': 49,\n",
              " 'could': 200,\n",
              " 'special': 783,\n",
              " '1000': 8,\n",
              " 'our': 626,\n",
              " 'quiz': 687,\n",
              " 'msg': 557,\n",
              " 'custcare': 210,\n",
              " 'say': 725,\n",
              " 'reading': 693,\n",
              " 'being': 112,\n",
              " 'dating': 219,\n",
              " 'service': 742,\n",
              " 'find': 305,\n",
              " 'who': 946,\n",
              " 'mobile': 539,\n",
              " 'landline': 456,\n",
              " 'wasn': 923,\n",
              " 'available': 91,\n",
              " 'last': 459,\n",
              " 'night': 582,\n",
              " 'oh': 604,\n",
              " 'month': 547,\n",
              " 'god': 351,\n",
              " 'nope': 589,\n",
              " 'very': 905,\n",
              " 'girl': 345,\n",
              " 'yesterday': 992,\n",
              " 'park': 634,\n",
              " 'started': 785,\n",
              " 'watching': 926,\n",
              " 'office': 603,\n",
              " '0800': 3,\n",
              " 'place': 652,\n",
              " 'mind': 530,\n",
              " 'remember': 700,\n",
              " 'his': 404,\n",
              " 'price': 674,\n",
              " 'does': 240,\n",
              " 'something': 776,\n",
              " 'used': 897,\n",
              " 'make': 507,\n",
              " 'life': 475,\n",
              " 'too': 864,\n",
              " 'add': 46,\n",
              " 'years': 990,\n",
              " 'ur': 893,\n",
              " 'ni8': 579,\n",
              " 'dreams': 253,\n",
              " 'cos': 198,\n",
              " 'shopping': 751,\n",
              " 'wif': 950,\n",
              " 'darren': 216,\n",
              " 'jus': 445,\n",
              " 'called': 142,\n",
              " 'finally': 304,\n",
              " 'fast': 295,\n",
              " 'easy': 264,\n",
              " 'alright': 62,\n",
              " 'see': 734,\n",
              " 'mins': 532,\n",
              " 'mode': 542,\n",
              " 'okay': 606,\n",
              " 'same': 719,\n",
              " 'thanks': 822,\n",
              " 'hi': 402,\n",
              " 'girls': 346,\n",
              " 'waiting': 912,\n",
              " 'them': 828,\n",
              " 'stop': 790,\n",
              " 'aft': 48,\n",
              " 'tmr': 852,\n",
              " 'urgent': 894,\n",
              " 'complimentary': 189,\n",
              " '10': 6,\n",
              " 'await': 92,\n",
              " 'collection': 179,\n",
              " 'sae': 716,\n",
              " 'cs': 207,\n",
              " 'box': 126,\n",
              " '150ppm': 15,\n",
              " '18': 17,\n",
              " 'afternoon': 50,\n",
              " 'smile': 767,\n",
              " 'world': 972,\n",
              " 'style': 795,\n",
              " '2nd': 25,\n",
              " 'sms': 770,\n",
              " '1st': 18,\n",
              " 'lovely': 496,\n",
              " 'friendship': 325,\n",
              " 'man': 510,\n",
              " 'decimal': 225,\n",
              " 'wife': 951,\n",
              " 'police': 666,\n",
              " 'everyone': 284,\n",
              " 'sir': 759,\n",
              " 'took': 865,\n",
              " 'picking': 650,\n",
              " 'house': 415,\n",
              " 'went': 936,\n",
              " 'post': 669,\n",
              " 'children': 168,\n",
              " 'immediately': 429,\n",
              " 'fine': 306,\n",
              " 'enough': 274,\n",
              " 'most': 551,\n",
              " 'least': 463,\n",
              " 'ringtone': 708,\n",
              " 'http': 418,\n",
              " 'id': 423,\n",
              " 'meant': 522,\n",
              " 'fuck': 330,\n",
              " 'thank': 821,\n",
              " 'test': 816,\n",
              " 'bus': 134,\n",
              " 'oso': 623,\n",
              " 'near': 569,\n",
              " 'both': 124,\n",
              " 'days': 221,\n",
              " 'making': 509,\n",
              " 'dinner': 234,\n",
              " 'tonite': 863,\n",
              " 'invited': 436,\n",
              " 'finish': 307,\n",
              " 'loads': 483,\n",
              " 'pay': 638,\n",
              " 'those': 842,\n",
              " 'people': 641,\n",
              " 'move': 553,\n",
              " 'hope': 411,\n",
              " 'true': 873,\n",
              " 'yet': 993,\n",
              " '50': 28,\n",
              " 'game': 336,\n",
              " 'start': 784,\n",
              " 'march': 512,\n",
              " 'awesome': 97,\n",
              " 'minute': 533,\n",
              " 'didnt': 233,\n",
              " 'another': 70,\n",
              " 'job': 441,\n",
              " 'monday': 545,\n",
              " 'finished': 308,\n",
              " 'let': 472,\n",
              " 'why': 948,\n",
              " 'yourself': 998,\n",
              " 'bslvyl': 132,\n",
              " 'times': 850,\n",
              " 'per': 642,\n",
              " 'problem': 680,\n",
              " 'congratulations': 193,\n",
              " 've': 904,\n",
              " 'won': 964,\n",
              " 'winner': 955,\n",
              " 'prize': 677,\n",
              " 'draw': 251,\n",
              " 'code': 177,\n",
              " 'ready': 694,\n",
              " 'big': 117,\n",
              " 'fun': 333,\n",
              " 'look': 487,\n",
              " 'us': 895,\n",
              " 'outside': 628,\n",
              " 'shall': 747,\n",
              " 'having': 389,\n",
              " 'mean': 520,\n",
              " 'made': 504,\n",
              " 'shop': 750,\n",
              " 'contact': 194,\n",
              " 'pls': 658,\n",
              " 'save': 723,\n",
              " 'beautiful': 107,\n",
              " 'truth': 874,\n",
              " 'against': 52,\n",
              " 'read': 692,\n",
              " 'feels': 299,\n",
              " 'light': 476,\n",
              " 'leaves': 465,\n",
              " 'goodmorning': 358,\n",
              " 'snow': 772,\n",
              " 'enjoy': 273,\n",
              " 'believe': 113,\n",
              " 'wonderful': 965,\n",
              " 'again': 51,\n",
              " 'stay': 787,\n",
              " 'pub': 682,\n",
              " 'her': 398,\n",
              " 'otherwise': 625,\n",
              " 'part': 635,\n",
              " 'na': 566,\n",
              " 'goes': 352,\n",
              " 'babe': 99,\n",
              " 'xxx': 984,\n",
              " 'tot': 867,\n",
              " 'yup': 999,\n",
              " 'liao': 474,\n",
              " 'ard': 78,\n",
              " 'smth': 771,\n",
              " 'min': 529,\n",
              " 'lunch': 502,\n",
              " 'movie': 554,\n",
              " 'chikku': 167,\n",
              " 'nice': 580,\n",
              " 'msgs': 558,\n",
              " 'hmmm': 406,\n",
              " 'also': 63,\n",
              " 'chat': 163,\n",
              " 'person': 643,\n",
              " 'wait': 911,\n",
              " 'till': 848,\n",
              " 'cant': 150,\n",
              " 'takes': 806,\n",
              " 'self': 738,\n",
              " 'means': 521,\n",
              " 'few': 301,\n",
              " 'talking': 809,\n",
              " 'boytoy': 128,\n",
              " 'happened': 380,\n",
              " 'entry': 277,\n",
              " 'wkly': 962,\n",
              " 'final': 303,\n",
              " 'receive': 698,\n",
              " 'std': 788,\n",
              " 'rate': 688,\n",
              " 'ugh': 883,\n",
              " 'eve': 279,\n",
              " 'walk': 914,\n",
              " 'correct': 197,\n",
              " 'attempt': 89,\n",
              " 'awaiting': 93,\n",
              " 'blue': 120,\n",
              " 'nothing': 592,\n",
              " 'bit': 119,\n",
              " 'bored': 123,\n",
              " 'early': 263,\n",
              " 'sad': 715,\n",
              " 'tired': 851,\n",
              " 'saw': 724,\n",
              " 'situation': 762,\n",
              " 'left': 467,\n",
              " 'wil': 952,\n",
              " 'luv': 503,\n",
              " 'tv': 878,\n",
              " 'charged': 161,\n",
              " 'confirm': 191,\n",
              " 'yes': 991,\n",
              " 'own': 630,\n",
              " 'rent': 702,\n",
              " 'fucking': 331,\n",
              " 'because': 108,\n",
              " 'nobody': 585,\n",
              " 'wants': 920,\n",
              " 'tonight': 862,\n",
              " 'cool': 196,\n",
              " 'around': 81,\n",
              " 'small': 766,\n",
              " 'secret': 733,\n",
              " 'sending': 740,\n",
              " 'texts': 818,\n",
              " 'old': 608,\n",
              " 'wondering': 966,\n",
              " 'best': 114,\n",
              " 'bonus': 121,\n",
              " 'caller': 143,\n",
              " '03': 2,\n",
              " 'reach': 691,\n",
              " 'asap': 83,\n",
              " 'double': 248,\n",
              " 'check': 164,\n",
              " 'hair': 376,\n",
              " 'cut': 212,\n",
              " 'until': 890,\n",
              " 'todays': 855,\n",
              " 'numbers': 597,\n",
              " 'selected': 737,\n",
              " '350': 27,\n",
              " 'award': 94,\n",
              " 'fact': 290,\n",
              " 'shows': 755,\n",
              " 'nt': 594,\n",
              " 'simple': 757,\n",
              " 'hw': 421,\n",
              " 'abt': 40,\n",
              " 'slow': 765,\n",
              " 'lucky': 501,\n",
              " 'havent': 388,\n",
              " 'leave': 464,\n",
              " 'darlin': 215,\n",
              " 'sex': 745,\n",
              " 'lose': 490,\n",
              " 'plz': 660,\n",
              " 'area': 80,\n",
              " 'amp': 66,\n",
              " 'bout': 125,\n",
              " 'til': 847,\n",
              " 'though': 843,\n",
              " 'tried': 871,\n",
              " '750': 31,\n",
              " 'bt': 133,\n",
              " 'national': 568,\n",
              " 'care': 153,\n",
              " 'entered': 276,\n",
              " 'pa': 631,\n",
              " 'askd': 85,\n",
              " 'enter': 275,\n",
              " 'ans': 71,\n",
              " 'calling': 144,\n",
              " 'busy': 135,\n",
              " 'noon': 588,\n",
              " 'gd': 340,\n",
              " 'luck': 500,\n",
              " 'keep': 449,\n",
              " 'messages': 526,\n",
              " 'dad': 214,\n",
              " 'never': 575,\n",
              " 'information': 434,\n",
              " 'email': 270,\n",
              " 'boy': 127,\n",
              " 'father': 296,\n",
              " 'power': 671,\n",
              " 'head': 391,\n",
              " 'hard': 383,\n",
              " 'run': 714,\n",
              " 'into': 435,\n",
              " 'lots': 493,\n",
              " 'baby': 100,\n",
              " 'each': 261,\n",
              " 'update': 892,\n",
              " 'latest': 462,\n",
              " 'phones': 646,\n",
              " 'calls': 145,\n",
              " 'freemsg': 320,\n",
              " 'asked': 86,\n",
              " 'chennai': 166,\n",
              " 'christmas': 170,\n",
              " 'these': 831,\n",
              " 'tomo': 858,\n",
              " 'hmv': 407,\n",
              " 'balance': 103,\n",
              " 'currently': 209,\n",
              " '500': 29,\n",
              " '86688': 34,\n",
              " '87077': 36,\n",
              " 'off': 600,\n",
              " 'news': 577,\n",
              " 'club': 175,\n",
              " 'eg': 266,\n",
              " 'gave': 339,\n",
              " 'friend': 323,\n",
              " 'treat': 870,\n",
              " 'pete': 644,\n",
              " 'college': 180,\n",
              " 'congrats': 192,\n",
              " 'wid': 949,\n",
              " 'mates': 515,\n",
              " 'games': 337,\n",
              " 'music': 562,\n",
              " 'points': 665,\n",
              " 'gift': 344,\n",
              " 'voucher': 909,\n",
              " 'seeing': 735,\n",
              " 'carlos': 154,\n",
              " 'full': 332,\n",
              " 'pass': 637,\n",
              " 'dis': 236,\n",
              " 'face': 288,\n",
              " 'hot': 412,\n",
              " 'wana': 916,\n",
              " 'nokia': 587,\n",
              " 'tone': 860,\n",
              " 'www': 981,\n",
              " 'co': 176,\n",
              " 'pobox': 663,\n",
              " 'cum': 208,\n",
              " 'mail': 506,\n",
              " 'details': 230,\n",
              " 'room': 710,\n",
              " 'welcome': 933,\n",
              " 'dogging': 242,\n",
              " 'unsubscribe': 889,\n",
              " 'credit': 206,\n",
              " 'account': 43,\n",
              " 'watch': 925,\n",
              " 'must': 563,\n",
              " 'dat': 217,\n",
              " 'soon': 778,\n",
              " 'charge': 160,\n",
              " 'awarded': 95,\n",
              " 'guaranteed': 366,\n",
              " 'land': 455,\n",
              " 'line': 478,\n",
              " 'valid': 902,\n",
              " '12hrs': 12,\n",
              " 'ever': 282,\n",
              " 'angry': 69,\n",
              " 'leaving': 466,\n",
              " 'ass': 87,\n",
              " 'pc': 640,\n",
              " 'checking': 165,\n",
              " 'prob': 678,\n",
              " 'live': 481,\n",
              " 'ltd': 499,\n",
              " 'end': 271,\n",
              " 'del': 227,\n",
              " '5000': 30,\n",
              " 'tc': 810,\n",
              " 'pm': 661,\n",
              " 'pretty': 673,\n",
              " 'hear': 392,\n",
              " 'voice': 908,\n",
              " 'order': 621,\n",
              " 'book': 122,\n",
              " 'questions': 685,\n",
              " 'chance': 158,\n",
              " 'guys': 370,\n",
              " 'buy': 137,\n",
              " 'lei': 469,\n",
              " 'mum': 561,\n",
              " '11': 10,\n",
              " 'picked': 649,\n",
              " 'mobiles': 540,\n",
              " 'collect': 178,\n",
              " 'sun': 798,\n",
              " 'words': 969,\n",
              " 'address': 47,\n",
              " 'half': 377,\n",
              " 'rental': 703,\n",
              " '12': 11,\n",
              " 'txts': 881,\n",
              " 'mobileupd8': 541,\n",
              " 'call2optout': 141,\n",
              " 'match': 513,\n",
              " 'rates': 689,\n",
              " 'den': 229,\n",
              " 'sat': 720,\n",
              " 'dream': 252,\n",
              " 'saying': 726,\n",
              " 'help': 397,\n",
              " 'xy': 985,\n",
              " 'trying': 876,\n",
              " '30': 26,\n",
              " 'ice': 422,\n",
              " 'age': 53,\n",
              " 'cause': 157,\n",
              " 'pain': 632,\n",
              " 'mom': 543,\n",
              " 'coz': 203,\n",
              " 'yo': 994,\n",
              " 'po': 662,\n",
              " 'goodnight': 359,\n",
              " 'worry': 974,\n",
              " 'ring': 707,\n",
              " 'important': 430,\n",
              " 'user': 898,\n",
              " 'log': 484,\n",
              " 'fantastic': 293,\n",
              " 'surprise': 802,\n",
              " 'lost': 491,\n",
              " 'motorola': 552,\n",
              " '08000839402': 4,\n",
              " 'huh': 419,\n",
              " 'glad': 348,\n",
              " 'possible': 668,\n",
              " 'feeling': 298,\n",
              " 'less': 470,\n",
              " 'ones': 612,\n",
              " 'whats': 940,\n",
              " 'plan': 653,\n",
              " 'ten': 814,\n",
              " 'xmas': 982,\n",
              " 'knw': 454,\n",
              " 'uncle': 886,\n",
              " 'complete': 188,\n",
              " 'valentine': 901,\n",
              " 'told': 857,\n",
              " 'through': 845,\n",
              " 'gym': 371,\n",
              " 'comin': 185,\n",
              " 'quite': 686,\n",
              " 'hee': 395,\n",
              " 'net': 572,\n",
              " 'crazy': 205,\n",
              " 'mah': 505,\n",
              " 'earlier': 262,\n",
              " 'talk': 808,\n",
              " 'car': 151,\n",
              " 'forgot': 315,\n",
              " 'film': 302,\n",
              " 'sister': 761,\n",
              " 'lets': 473,\n",
              " 'join': 443,\n",
              " 'ntt': 595,\n",
              " 'knew': 452,\n",
              " 'looking': 488,\n",
              " 'weekly': 931,\n",
              " 'needs': 571,\n",
              " 'eh': 267,\n",
              " 'wow': 978,\n",
              " 'extra': 287,\n",
              " 'side': 756,\n",
              " 'thanx': 823,\n",
              " 'wanna': 917,\n",
              " 'lesson': 471,\n",
              " 'press': 672,\n",
              " 'sunday': 799,\n",
              " 'company': 187,\n",
              " 'stuff': 793,\n",
              " 'friday': 322,\n",
              " 'accept': 42,\n",
              " 'change': 159,\n",
              " 'facebook': 289,\n",
              " 'mayb': 517,\n",
              " 'tones': 861,\n",
              " 'services': 743,\n",
              " 'th': 819,\n",
              " 'ill': 427,\n",
              " 'wk': 961,\n",
              " 'sounds': 781,\n",
              " 'visit': 907,\n",
              " 'ac': 41,\n",
              " 'smiling': 768,\n",
              " 'forwarded': 316,\n",
              " 'frnds': 328,\n",
              " 'their': 827,\n",
              " 'dude': 258,\n",
              " 'drop': 257,\n",
              " 'open': 616,\n",
              " 'while': 945,\n",
              " 'touch': 868,\n",
              " 'taking': 807,\n",
              " 'project': 681,\n",
              " 'once': 610,\n",
              " 'wap': 921,\n",
              " 'break': 129,\n",
              " 'happen': 379,\n",
              " 'within': 959,\n",
              " 'met': 527,\n",
              " 'gn': 349,\n",
              " 'ge': 341,\n",
              " 'india': 432,\n",
              " 'deep': 226,\n",
              " 'alone': 60,\n",
              " 'telling': 813,\n",
              " 'store': 791,\n",
              " 'far': 294,\n",
              " 'valued': 903,\n",
              " 'network': 573,\n",
              " 'reward': 705,\n",
              " 'hours': 414,\n",
              " 'second': 732,\n",
              " 'forget': 314,\n",
              " 'close': 174,\n",
              " 'terms': 815,\n",
              " 'player': 656,\n",
              " 'content': 195,\n",
              " 'top': 866,\n",
              " 'worried': 973,\n",
              " 'parents': 633,\n",
              " '250': 23,\n",
              " 'ts': 877,\n",
              " 'couple': 201,\n",
              " 'weeks': 932,\n",
              " 'direct': 235,\n",
              " 'john': 442,\n",
              " 'listen': 479,\n",
              " 'leh': 468,\n",
              " '150': 13,\n",
              " 'worth': 975,\n",
              " 'discount': 237,\n",
              " 'vouchers': 910,\n",
              " 'savamob': 722,\n",
              " 'offers': 602,\n",
              " '00': 0,\n",
              " 'sub': 796,\n",
              " 'pics': 651,\n",
              " 'else': 269,\n",
              " 'getting': 343,\n",
              " 'woke': 963,\n",
              " 'rs': 713,\n",
              " 'comes': 184,\n",
              " 'came': 147,\n",
              " 'sound': 780,\n",
              " 'course': 202,\n",
              " 'yar': 987,\n",
              " 'laptop': 457,\n",
              " 'wanted': 919,\n",
              " '8007': 33,\n",
              " 'poly': 667,\n",
              " 'b4': 98,\n",
              " 'unlimited': 888,\n",
              " 'camcorder': 146,\n",
              " '08000930705': 5,\n",
              " 'either': 268,\n",
              " 'story': 792,\n",
              " 'neva': 574,\n",
              " 'whatever': 939,\n",
              " 'kate': 448,\n",
              " 'fri': 321,\n",
              " 'speak': 782,\n",
              " 'xx': 983,\n",
              " 'okie': 607,\n",
              " 'point': 664,\n",
              " 'mr': 555,\n",
              " 'makes': 508,\n",
              " 'missed': 536,\n",
              " 'mine': 531,\n",
              " 'thinks': 838,\n",
              " 'hmm': 405,\n",
              " 'cinema': 171,\n",
              " 'auction': 90,\n",
              " 'hg': 401,\n",
              " 'suite342': 797,\n",
              " '2lands': 24,\n",
              " 'row': 711,\n",
              " 'bank': 104,\n",
              " 'computer': 190,\n",
              " 'hand': 378,\n",
              " 'across': 44,\n",
              " 'sea': 730,\n",
              " 'fone': 310,\n",
              " 'wot': 976,\n",
              " 'pic': 647,\n",
              " 'dnt': 238,\n",
              " 'able': 38,\n",
              " 'mrng': 556,\n",
              " 'joy': 444,\n",
              " 'anyway': 76,\n",
              " 'private': 676,\n",
              " 'age16': 54,\n",
              " 'fancy': 292,\n",
              " 'nite': 583,\n",
              " 'goin': 353,\n",
              " 'wrong': 980,\n",
              " 'statement': 786,\n",
              " 'drive': 255,\n",
              " 'identifier': 424,\n",
              " 'expires': 286,\n",
              " 'wit': 957,\n",
              " 'song': 777,\n",
              " 'mob': 538,\n",
              " 'oredi': 622,\n",
              " 'delivery': 228,\n",
              " 'paying': 639,\n",
              " '2003': 22,\n",
              " '800': 32,\n",
              " 'un': 885,\n",
              " 'redeemed': 699,\n",
              " 'gal': 335,\n",
              " 'rply': 712,\n",
              " 'etc': 278,\n",
              " 'remove': 701,\n",
              " 'ha': 372,\n",
              " 'anyone': 74,\n",
              " 'shower': 754,\n",
              " 'months': 548,\n",
              " 'charity': 162,\n",
              " 'oops': 615,\n",
              " 'il': 426,\n",
              " 'online': 613,\n",
              " 'isn': 438,\n",
              " 'nigeria': 581,\n",
              " 'operator': 617,\n",
              " 'usf': 899,\n",
              " 'drink': 254,\n",
              " 'funny': 334,\n",
              " 'usual': 900,\n",
              " '87066': 35,\n",
              " 'colour': 181,\n",
              " 'normal': 590,\n",
              " '200': 20,\n",
              " 'lovable': 494,\n",
              " 'smoke': 769}"
            ]
          },
          "metadata": {},
          "execution_count": 23
        }
      ]
    },
    {
      "cell_type": "markdown",
      "source": [
        "##11.3 Importance - Probabilité empirique"
      ],
      "metadata": {
        "id": "TV1H5P3KkmYH"
      }
    },
    {
      "cell_type": "code",
      "source": [
        "# Probabilités\n",
        "best_estimator.named_steps['clf'].feature_log_prob_"
      ],
      "metadata": {
        "colab": {
          "base_uri": "https://localhost:8080/"
        },
        "id": "cUNXzCINkpd1",
        "outputId": "a05f86dd-10fa-4819-9960-331a60bfb0b4"
      },
      "execution_count": 24,
      "outputs": [
        {
          "output_type": "execute_result",
          "data": {
            "text/plain": [
              "array([[-10.58007335, -10.58007335, -10.58007335, ...,  -8.50063181,\n",
              "         -7.74686   ,  -7.14608614],\n",
              "       [ -6.99539979,  -6.25346244,  -6.90008961, ...,  -6.90008961,\n",
              "         -9.29798488,  -9.29798488]])"
            ]
          },
          "metadata": {},
          "execution_count": 24
        }
      ]
    },
    {
      "cell_type": "code",
      "source": [
        "# Probabilités HAM\n",
        "best_estimator.named_steps['clf'].feature_log_prob_[0]"
      ],
      "metadata": {
        "colab": {
          "base_uri": "https://localhost:8080/"
        },
        "id": "LWwKnUFAm7fO",
        "outputId": "53638481-e454-422b-cb6f-13e69a3ce832"
      },
      "execution_count": 25,
      "outputs": [
        {
          "output_type": "execute_result",
          "data": {
            "text/plain": [
              "array([-10.58007335, -10.58007335, -10.58007335, -10.58007335,\n",
              "       -10.58007335, -10.58007335,  -7.94101602,  -9.88692617,\n",
              "       -10.58007335, -10.58007335,  -8.78831388,  -8.97063543,\n",
              "       -10.58007335, -10.58007335, -10.58007335, -10.58007335,\n",
              "        -9.88692617, -10.58007335,  -8.38284877,  -8.97063543,\n",
              "       -10.58007335,  -9.88692617, -10.58007335, -10.58007335,\n",
              "       -10.58007335,  -8.27748825,  -8.27748825, -10.58007335,\n",
              "        -8.97063543, -10.58007335, -10.58007335, -10.58007335,\n",
              "       -10.58007335, -10.58007335, -10.58007335, -10.58007335,\n",
              "       -10.58007335,  -8.38284877,  -7.68970159,  -5.70487602,\n",
              "        -7.53555091, -10.58007335,  -8.38284877,  -7.68970159,\n",
              "        -8.38284877,  -7.40201952,  -8.38284877,  -7.87202315,\n",
              "        -7.80748463,  -6.48572879,  -7.58434107,  -6.62882963,\n",
              "        -8.27748825,  -8.78831388, -10.58007335,  -8.01512399,\n",
              "        -7.17887597,  -7.32197681,  -5.39268754,  -8.0951667 ,\n",
              "        -8.27748825,  -6.39041861,  -7.63563437,  -6.64824771,\n",
              "        -6.79588371,  -5.46808556,  -6.43693862,  -6.34596684,\n",
              "        -4.08934981,  -7.87202315,  -7.28423648,  -8.97063543,\n",
              "        -8.27748825,  -6.04747385,  -8.01512399,  -6.43693862,\n",
              "        -7.32197681,  -9.48146106,  -7.44457913,  -4.84673207,\n",
              "        -8.78831388,  -6.75143195,  -5.7925816 ,  -8.97063543,\n",
              "        -6.36056564,  -8.38284877,  -7.87202315,  -8.01512399,\n",
              "        -4.93109911,  -9.88692617,  -9.88692617,  -8.18217807,\n",
              "        -9.88692617, -10.58007335, -10.58007335, -10.58007335,\n",
              "        -7.74686   ,  -7.94101602,  -8.6341632 ,  -6.5910893 ,\n",
              "        -7.36119752,  -5.9849535 ,  -7.32197681,  -9.19377899,\n",
              "        -8.27748825,  -8.38284877,  -4.99657704,  -7.87202315,\n",
              "        -7.14608614,  -7.28423648,  -6.39041861,  -6.64824771,\n",
              "        -7.40201952,  -7.74686   ,  -7.28423648,  -7.17887597,\n",
              "        -7.63563437,  -7.32197681,  -7.53555091,  -6.99655441,\n",
              "        -8.18217807, -10.58007335,  -8.0951667 ,  -7.80748463,\n",
              "        -7.74686   ,  -8.27748825,  -8.78831388,  -7.36119752,\n",
              "        -8.0951667 ,  -8.27748825,  -7.48903089,  -7.80748463,\n",
              "        -8.27748825,  -7.58434107,  -7.63563437,  -7.80748463,\n",
              "        -4.73943169,  -6.60978143,  -8.38284877,  -5.93568245,\n",
              "        -5.38157632, -10.58007335,  -7.40201952,  -9.88692617,\n",
              "        -8.01512399,  -8.0951667 , -10.58007335,  -7.58434107,\n",
              "        -9.19377899,  -4.71644217,  -6.84240373,  -7.14608614,\n",
              "        -8.18217807,  -6.70887234,  -7.94101602,  -8.0951667 ,\n",
              "        -8.0951667 ,  -7.94101602,  -8.27748825,  -7.63563437,\n",
              "        -8.27748825, -10.58007335, -10.58007335,  -7.94101602,\n",
              "        -7.40201952,  -8.0951667 ,  -7.94101602,  -7.63563437,\n",
              "        -8.6341632 ,  -8.6341632 ,  -8.38284877,  -8.78831388,\n",
              "       -10.58007335,  -7.02472529,  -8.18217807,  -9.88692617,\n",
              "        -9.88692617,  -9.88692617,  -8.97063543, -10.58007335,\n",
              "        -7.94101602,  -9.19377899,  -8.01512399,  -5.51116915,\n",
              "        -7.87202315,  -8.38284877,  -6.86650128,  -7.94101602,\n",
              "        -8.50063181, -10.58007335,  -8.6341632 ,  -8.27748825,\n",
              "        -8.6341632 ,  -9.88692617,  -8.18217807,  -9.88692617,\n",
              "        -7.08356579,  -8.50063181,  -6.48572879,  -8.27748825,\n",
              "        -6.84240373,  -8.01512399,  -8.18217807,  -7.63563437,\n",
              "        -8.18217807,  -8.6341632 ,  -8.78831388, -10.58007335,\n",
              "        -8.50063181,  -9.88692617, -10.58007335,  -8.97063543,\n",
              "        -8.18217807,  -5.89794212,  -7.48903089,  -7.87202315,\n",
              "        -8.18217807,  -6.99655441,  -8.27748825, -10.58007335,\n",
              "        -5.53021734,  -7.44457913,  -7.94101602,  -6.24934001,\n",
              "        -7.94101602,  -7.48903089,  -8.27748825,  -9.88692617,\n",
              "        -9.88692617,  -7.40201952,  -7.87202315,  -5.926113  ,\n",
              "        -6.89119389,  -7.40201952,  -7.36119752,  -9.48146106,\n",
              "        -7.58434107,  -9.88692617,  -8.27748825,  -4.91019242,\n",
              "        -7.48903089,  -7.74686   , -10.58007335,  -8.27748825,\n",
              "        -6.39041861,  -5.72804308,  -6.94248719,  -5.94534436,\n",
              "        -8.78831388,  -6.96915543,  -8.18217807,  -9.19377899,\n",
              "        -8.50063181,  -7.87202315,  -8.0951667 ,  -7.87202315,\n",
              "        -7.80748463,  -8.01512399,  -7.68970159,  -6.75143195,\n",
              "        -7.32197681,  -8.50063181,  -8.0951667 ,  -7.40201952,\n",
              "        -7.87202315,  -7.17887597, -10.58007335,  -8.27748825,\n",
              "        -8.38284877,  -7.58434107,  -8.01512399,  -7.58434107,\n",
              "        -8.50063181,  -7.48903089,  -7.63563437,  -9.19377899,\n",
              "        -8.97063543, -10.58007335,  -8.78831388,  -8.01512399,\n",
              "        -6.75143195,  -7.36119752,  -7.40201952,  -7.11433744,\n",
              "        -7.94101602,  -7.53555091, -10.58007335,  -8.97063543,\n",
              "        -7.44457913,  -8.38284877,  -8.50063181,  -7.63563437,\n",
              "        -8.97063543,  -9.48146106,  -8.01512399,  -8.0951667 ,\n",
              "        -8.0951667 ,  -6.70887234,  -7.68970159,  -8.0951667 ,\n",
              "        -8.0951667 ,  -7.11433744,  -8.50063181,  -9.48146106,\n",
              "        -8.0951667 ,  -6.9165117 ,  -6.94248719,  -7.14608614,\n",
              "        -7.87202315,  -6.81887323,  -8.78831388,  -7.53555091,\n",
              "        -4.63203836,  -8.27748825,  -8.0951667 ,  -7.44457913,\n",
              "        -8.78831388,  -7.87202315,  -8.01512399,  -6.70887234,\n",
              "       -10.58007335,  -8.38284877,  -8.01512399,  -7.11433744,\n",
              "        -6.94248719,  -7.63563437,  -8.27748825,  -8.6341632 ,\n",
              "        -8.27748825,  -5.82648316,  -7.28423648,  -7.87202315,\n",
              "        -7.74686   ,  -8.01512399,  -8.38284877,  -8.0951667 ,\n",
              "        -8.18217807,  -9.88692617,  -8.38284877,  -8.38284877,\n",
              "        -7.94101602,  -8.27748825,  -5.14199404,  -7.02472529,\n",
              "        -8.97063543,  -7.21277752,  -8.6341632 ,  -6.26258523,\n",
              "        -8.38284877,  -8.27748825,  -5.28676852,  -7.05371282,\n",
              "        -7.74686   ,  -8.01512399,  -5.68972422,  -8.01512399,\n",
              "        -6.79588371,  -5.3871165 ,  -8.18217807,  -8.38284877,\n",
              "        -5.41528737,  -8.0951667 ,  -8.18217807,  -6.28961391,\n",
              "        -8.27748825,  -5.0388098 , -10.58007335,  -6.70887234,\n",
              "        -7.28423648,  -7.44457913,  -7.63563437,  -8.18217807,\n",
              "        -7.80748463,  -6.39041861,  -7.63563437,  -6.94248719,\n",
              "        -7.80748463,  -7.53555091,  -7.94101602,  -8.01512399,\n",
              "        -7.87202315,  -8.18217807,  -6.1733541 ,  -8.18217807,\n",
              "        -6.45293896,  -7.68970159,  -4.71360529,  -7.48903089,\n",
              "        -7.63563437,  -6.99655441,  -5.46808556,  -7.80748463,\n",
              "        -7.40201952,  -8.50063181,  -7.05371282,  -8.01512399,\n",
              "        -7.05371282,  -7.21277752,  -6.11416523,  -6.06921384,\n",
              "        -6.22336452, -10.58007335,  -6.00536237,  -6.21062549,\n",
              "        -6.66805034,  -8.0951667 ,  -8.38284877, -10.58007335,\n",
              "        -8.0951667 ,  -8.01512399,  -5.80938872,  -6.12572605,\n",
              "        -8.97063543,  -7.44457913,  -8.27748825,  -7.21277752,\n",
              "        -5.1684273 ,  -8.0951667 , -10.58007335,  -7.87202315,\n",
              "        -7.63563437,  -8.27748825,  -8.50063181,  -7.74686   ,\n",
              "       -10.58007335,  -4.97060155,  -8.38284877,  -7.08356579,\n",
              "        -6.46919948,  -8.78831388,  -8.01512399,  -4.13594209,\n",
              "        -8.18217807,  -9.48146106,  -9.48146106,  -7.53555091,\n",
              "        -8.50063181,  -4.27562454,  -8.18217807,  -4.29593919,\n",
              "        -5.45610937,  -7.21277752,  -8.0951667 ,  -8.50063181,\n",
              "        -8.38284877,  -7.32197681,  -5.1864458 ,  -7.48903089,\n",
              "        -8.18217807,  -6.60978143,  -7.94101602,  -7.21277752,\n",
              "        -8.18217807,  -5.35432667,  -7.87202315, -10.58007335,\n",
              "        -9.88692617,  -8.18217807,  -7.24786884,  -6.72992575,\n",
              "        -6.66805034,  -5.88872547,  -9.48146106,  -8.0951667 ,\n",
              "        -6.79588371,  -8.27748825,  -7.58434107,  -7.53555091,\n",
              "        -7.40201952,  -7.63563437,  -8.27748825,  -7.87202315,\n",
              "        -6.57274016,  -8.0951667 ,  -7.08356579,  -6.53702208,\n",
              "        -8.01512399,  -5.36513759,  -8.78831388,  -8.18217807,\n",
              "        -7.68970159,  -7.87202315,  -5.25219718,  -8.18217807,\n",
              "        -9.19377899,  -6.66805034,  -7.05371282,  -7.48903089,\n",
              "        -7.74686   ,  -5.73588626,  -7.87202315,  -8.27748825,\n",
              "        -7.02472529,  -8.01512399,  -8.27748825,  -5.54963543,\n",
              "        -7.94101602,  -8.01512399,  -5.05064426, -10.58007335,\n",
              "        -8.6341632 ,  -8.6341632 ,  -6.9165117 ,  -7.44457913,\n",
              "        -7.36119752,  -8.01512399,  -7.53555091,  -6.42119026,\n",
              "        -7.87202315,  -7.74686   ,  -7.05371282,  -6.89119389,\n",
              "        -8.18217807,  -8.78831388,  -8.18217807,  -9.48146106,\n",
              "        -6.99655441,  -8.38284877,  -7.24786884,  -4.25035244,\n",
              "        -7.74686   ,  -7.48903089,  -7.94101602,  -6.57274016,\n",
              "        -6.94248719,  -6.72992575,  -8.27748825,  -8.18217807,\n",
              "        -7.36119752,  -7.74686   ,  -7.28423648,  -7.87202315,\n",
              "        -8.18217807,  -8.18217807,  -7.44457913,  -6.57274016,\n",
              "        -7.58434107,  -7.44457913, -10.58007335,  -8.27748825,\n",
              "       -10.58007335, -10.58007335,  -8.27748825,  -7.74686   ,\n",
              "        -8.27748825,  -8.27748825,  -6.79588371,  -7.53555091,\n",
              "        -8.6341632 ,  -6.55472166,  -6.5910893 ,  -7.44457913,\n",
              "        -9.88692617,  -8.27748825,  -7.68970159,  -8.38284877,\n",
              "        -8.0951667 ,  -6.75143195,  -8.50063181,  -8.18217807,\n",
              "        -6.09143698,  -7.74686   ,  -9.19377899,  -7.68970159,\n",
              "        -8.18217807,  -4.27015507,  -8.01512399,  -7.14608614,\n",
              "       -10.58007335,  -8.38284877,  -5.75979178,  -8.01512399,\n",
              "        -8.50063181,  -9.19377899,  -7.94101602,  -7.05371282,\n",
              "        -6.62882963,  -8.6341632 ,  -7.11433744,  -8.0951667 ,\n",
              "        -6.72992575,  -8.38284877,  -6.11416523,  -7.94101602,\n",
              "        -5.14199404,  -8.18217807,  -7.74686   ,  -9.48146106,\n",
              "        -8.38284877,  -8.0951667 ,  -8.6341632 ,  -4.84350105,\n",
              "        -7.24786884,  -5.15512333,  -7.87202315, -10.58007335,\n",
              "        -6.72992575,  -9.48146106,  -8.38284877,  -4.61392661,\n",
              "        -6.84240373,  -8.50063181,  -9.88692617,  -7.36119752,\n",
              "        -6.18562419,  -5.18191065,  -7.58434107,  -7.74686   ,\n",
              "        -7.68970159,  -4.84997356,  -7.40201952,  -5.68223355,\n",
              "        -8.50063181,  -8.01512399,  -5.94534436,  -8.27748825,\n",
              "        -7.94101602, -10.58007335, -10.58007335,  -5.3871165 ,\n",
              "        -9.88692617,  -8.97063543,  -8.01512399,  -7.53555091,\n",
              "        -6.84240373,  -8.27748825,  -6.5910893 ,  -5.54963543,\n",
              "        -7.87202315,  -6.77341086,  -8.27748825,  -7.36119752,\n",
              "        -7.58434107,  -8.01512399,  -8.27748825,  -7.80748463,\n",
              "        -8.27748825,  -8.78831388,  -7.24786884,  -8.50063181,\n",
              "        -9.48146106,  -6.99655441,  -8.27748825,  -7.05371282,\n",
              "        -8.50063181,  -6.43693862,  -9.88692617,  -9.48146106,\n",
              "        -6.68825305,  -8.97063543,  -8.0951667 ,  -8.6341632 ,\n",
              "        -6.72992575,  -7.40201952,  -8.0951667 ,  -7.63563437,\n",
              "        -9.19377899,  -6.45293896,  -6.11416523,  -7.80748463,\n",
              "        -7.58434107,  -8.27748825,  -9.48146106, -10.58007335,\n",
              "        -8.27748825,  -9.48146106,  -8.18217807, -10.58007335,\n",
              "        -8.27748825,  -8.0951667 ,  -9.88692617,  -8.38284877,\n",
              "        -8.38284877,  -8.27748825,  -8.50063181,  -7.24786884,\n",
              "        -9.88692617, -10.58007335,  -7.87202315,  -7.36119752,\n",
              "        -7.17887597,  -8.18217807,  -8.0951667 ,  -7.48903089,\n",
              "        -8.0951667 ,  -8.97063543,  -7.28423648, -10.58007335,\n",
              "       -10.58007335,  -9.88692617,  -6.22336452,  -7.48903089,\n",
              "        -8.0951667 ,  -8.0951667 ,  -7.11433744,  -7.53555091,\n",
              "        -6.33157811,  -8.18217807,  -9.19377899, -10.58007335,\n",
              "        -7.40201952,  -8.78831388,  -8.38284877, -10.58007335,\n",
              "        -6.99655441, -10.58007335,  -6.34596684,  -8.18217807,\n",
              "       -10.58007335,  -7.74686   ,  -7.21277752,  -9.88692617,\n",
              "        -8.6341632 ,  -7.87202315,  -7.58434107,  -7.68970159,\n",
              "       -10.58007335,  -8.27748825,  -6.43693862,  -6.9165117 ,\n",
              "        -7.36119752,  -8.50063181, -10.58007335,  -8.6341632 ,\n",
              "        -7.53555091,  -6.37538073,  -7.74686   ,  -7.48903089,\n",
              "        -7.80748463,  -7.44457913,  -8.0951667 ,  -8.18217807,\n",
              "        -7.94101602,  -8.78831388,  -6.03677857,  -8.01512399,\n",
              "        -8.18217807,  -9.48146106,  -8.50063181,  -6.05828477,\n",
              "        -8.50063181,  -6.75143195,  -8.97063543,  -9.88692617,\n",
              "        -7.94101602,  -9.48146106,  -8.18217807,  -7.28423648,\n",
              "        -5.76788899,  -7.24786884,  -7.87202315,  -7.94101602,\n",
              "        -6.39041861,  -7.63563437,  -8.27748825,  -8.78831388,\n",
              "        -8.0951667 ,  -8.0951667 ,  -7.58434107,  -7.28423648,\n",
              "        -7.94101602,  -8.18217807,  -8.38284877,  -6.84240373,\n",
              "        -7.74686   ,  -8.38284877,  -8.27748825,  -6.89119389,\n",
              "        -7.74686   ,  -8.27748825,  -7.53555091,  -7.87202315,\n",
              "        -8.18217807,  -4.77493838,  -6.16123274,  -6.96915543,\n",
              "        -6.51963034,  -8.38284877,  -6.81887323,  -5.74379144,\n",
              "        -8.38284877,  -7.87202315,  -7.68970159,  -7.28423648,\n",
              "        -7.28423648,  -7.87202315,  -9.88692617,  -7.94101602,\n",
              "       -10.58007335,  -5.90724451,  -7.32197681,  -9.19377899,\n",
              "        -7.87202315,  -7.05371282,  -8.0951667 ,  -8.38284877,\n",
              "        -9.88692617, -10.58007335,  -7.80748463,  -8.18217807,\n",
              "        -8.38284877,  -6.5025359 ,  -8.78831388,  -7.48903089,\n",
              "        -8.38284877,  -6.04747385,  -8.27748825,  -8.01512399,\n",
              "        -7.17887597,  -8.38284877,  -9.19377899,  -8.18217807,\n",
              "        -6.00536237,  -8.01512399,  -8.18217807,  -9.48146106,\n",
              "        -7.63563437,  -6.53702208,  -8.38284877,  -8.38284877,\n",
              "        -7.36119752,  -7.48903089,  -6.64824771,  -7.24786884,\n",
              "        -4.57865847,  -7.11433744,  -3.82546925,  -8.0951667 ,\n",
              "        -6.46919948,  -5.42678175,  -5.48632315,  -7.87202315,\n",
              "        -6.14925655,  -6.62882963,  -6.96915543,  -6.06921384,\n",
              "        -8.38284877,  -7.87202315,  -9.48146106,  -5.31738316,\n",
              "        -7.02472529,  -8.18217807,  -7.44457913,  -7.44457913,\n",
              "        -6.9165117 ,  -8.27748825,  -8.50063181,  -7.94101602,\n",
              "        -7.80748463,  -5.49247701,  -7.44457913,  -8.27748825,\n",
              "        -7.58434107,  -3.50088895,  -5.96495283,  -9.19377899,\n",
              "        -7.80748463,  -6.86650128,  -8.0951667 ,  -6.43693862,\n",
              "       -10.58007335, -10.58007335,  -6.79588371,  -8.38284877,\n",
              "        -6.22336452,  -8.0951667 ,  -9.19377899,  -7.53555091,\n",
              "        -8.01512399,  -7.68970159,  -8.38284877,  -8.78831388,\n",
              "        -8.18217807,  -7.48903089,  -8.38284877,  -7.02472529,\n",
              "        -7.48903089, -10.58007335,  -7.63563437,  -7.32197681,\n",
              "        -8.27748825, -10.58007335,  -8.0951667 ,  -8.18217807,\n",
              "        -9.88692617,  -9.88692617,  -8.18217807,  -8.38284877,\n",
              "        -9.48146106, -10.58007335,  -7.74686   ,  -5.15953835,\n",
              "        -8.97063543,  -5.33304928,  -8.97063543,  -6.70887234,\n",
              "        -7.08356579,  -7.94101602,  -9.88692617,  -8.38284877,\n",
              "        -8.38284877,  -8.38284877, -10.58007335,  -9.88692617,\n",
              "        -6.43693862,  -6.43693862,  -9.48146106,  -8.50063181,\n",
              "        -8.38284877,  -9.88692617, -10.58007335,  -6.75143195,\n",
              "        -7.28423648,  -7.48903089,  -8.18217807,  -6.81887323,\n",
              "        -8.18217807,  -7.53555091,  -5.70487602,  -7.63563437,\n",
              "        -7.80748463, -10.58007335,  -5.45610937,  -8.18217807,\n",
              "        -6.16123274,  -7.28423648,  -7.17887597,  -6.19804671,\n",
              "        -4.95967248,  -6.77341086,  -7.63563437, -10.58007335,\n",
              "        -8.6341632 ,  -8.97063543,  -6.09143698,  -7.44457913,\n",
              "        -6.64824771,  -6.77341086,  -5.23296582,  -7.87202315,\n",
              "        -8.01512399,  -5.17739597,  -8.27748825,  -6.11416523,\n",
              "        -6.70887234,  -7.58434107,  -6.57274016,  -8.01512399,\n",
              "        -6.60978143,  -8.01512399,  -7.53555091,  -7.44457913,\n",
              "        -7.87202315,  -5.01939172,  -8.27748825, -10.58007335,\n",
              "        -7.05371282,  -7.87202315,  -5.28175598,  -8.78831388,\n",
              "        -7.87202315,  -8.6341632 , -10.58007335,  -8.27748825,\n",
              "        -7.80748463,  -8.01512399,  -8.38284877,  -7.24786884,\n",
              "        -8.0951667 ,  -7.68970159,  -6.31739347,  -7.53555091,\n",
              "        -7.14608614,  -8.38284877,  -7.63563437,  -9.19377899,\n",
              "        -7.68970159,  -6.45293896,  -8.38284877,  -8.27748825,\n",
              "        -8.27748825,  -9.48146106,  -8.50063181,  -7.94101602,\n",
              "        -7.68970159,  -8.38284877,  -6.75143195,  -8.18217807,\n",
              "        -6.51963034,  -7.11433744,  -7.74686   ,  -6.37538073,\n",
              "        -7.58434107,  -6.94248719,  -7.24786884,  -3.27623012,\n",
              "        -4.8055218 ,  -8.50063181,  -7.74686   ,  -7.14608614])"
            ]
          },
          "metadata": {},
          "execution_count": 25
        }
      ]
    },
    {
      "cell_type": "code",
      "source": [
        "# Probabilités SPAM\n",
        "best_estimator.named_steps['clf'].feature_log_prob_[1]"
      ],
      "metadata": {
        "colab": {
          "base_uri": "https://localhost:8080/"
        },
        "id": "nm5Tu0sgm9jb",
        "outputId": "117b0b74-7210-4955-9894-aeecddc8d93f"
      },
      "execution_count": 26,
      "outputs": [
        {
          "output_type": "execute_result",
          "data": {
            "text/plain": [
              "array([-6.99539979, -6.25346244, -6.90008961, -6.81307823, -6.81307823,\n",
              "       -6.65892755, -6.25346244, -5.77162436, -5.86399768, -6.30225261,\n",
              "       -6.73303552, -7.35207473, -6.90008961, -6.65892755, -5.34674116,\n",
              "       -6.03988834, -5.56031526, -5.68706697, -6.52539616, -7.35207473,\n",
              "       -7.1007603 , -6.40761312, -6.90008961, -6.58993468, -6.90008961,\n",
              "       -6.52539616, -8.6048377 , -6.73303552, -5.60910543, -5.68706697,\n",
              "       -6.20694243, -6.58993468, -6.52539616, -6.65892755, -6.65892755,\n",
              "       -6.90008961, -7.1007603 , -9.29798488, -9.29798488, -7.50622541,\n",
              "       -9.29798488, -6.81307823, -9.29798488, -6.52539616, -9.29798488,\n",
              "       -9.29798488, -9.29798488, -7.91169052, -9.29798488, -7.50622541,\n",
              "       -9.29798488, -7.91169052, -9.29798488, -7.50622541, -7.1007603 ,\n",
              "       -9.29798488, -9.29798488, -9.29798488, -6.11993105, -9.29798488,\n",
              "       -7.91169052, -8.6048377 , -9.29798488, -8.19937259, -9.29798488,\n",
              "       -6.90008961, -9.29798488, -6.3535459 , -4.78712538, -9.29798488,\n",
              "       -9.29798488, -7.35207473, -7.1007603 , -6.46477154, -8.6048377 ,\n",
              "       -9.29798488, -9.29798488, -6.11993105, -9.29798488, -5.23754187,\n",
              "       -7.50622541, -9.29798488, -6.03988834, -7.50622541, -9.29798488,\n",
              "       -9.29798488, -7.50622541, -9.29798488, -6.46477154, -6.73303552,\n",
              "       -6.65892755, -8.19937259, -6.40761312, -7.1007603 , -6.07910906,\n",
              "       -5.96578037, -7.91169052, -9.29798488, -7.50622541, -7.50622541,\n",
              "       -8.19937259, -6.52539616, -8.6048377 , -7.21854334, -8.19937259,\n",
              "       -9.29798488, -5.44783728, -9.29798488, -8.6048377 , -9.29798488,\n",
              "       -5.86399768, -7.50622541, -7.35207473, -8.19937259, -6.99539979,\n",
              "       -8.6048377 , -7.21854334, -8.19937259, -8.6048377 , -9.29798488,\n",
              "       -8.6048377 , -6.52539616, -7.50622541, -7.91169052, -9.29798488,\n",
              "       -9.29798488, -5.96578037, -9.29798488, -9.29798488, -7.91169052,\n",
              "       -9.29798488, -8.6048377 , -9.29798488, -6.65892755, -9.29798488,\n",
              "       -9.29798488, -7.50622541, -7.50622541, -9.29798488, -5.83224898,\n",
              "       -3.71448857, -6.99539979, -8.6048377 , -7.21854334, -7.35207473,\n",
              "       -6.73303552, -6.65892755, -8.6048377 , -6.00214802, -6.11993105,\n",
              "       -7.68854697, -9.29798488, -7.91169052, -7.68854697, -9.29798488,\n",
              "       -9.29798488, -5.20364032, -9.29798488, -6.07910906, -9.29798488,\n",
              "       -7.50622541, -6.90008961, -6.99539979, -5.93068905, -7.68854697,\n",
              "       -9.29798488, -9.29798488, -9.29798488, -7.91169052, -7.35207473,\n",
              "       -8.6048377 , -7.91169052, -4.84363759, -9.29798488, -7.91169052,\n",
              "       -6.65892755, -5.60910543, -6.07910906, -6.30225261, -6.07910906,\n",
              "       -9.29798488, -6.73303552, -5.49132239, -8.19937259, -7.91169052,\n",
              "       -9.29798488, -9.29798488, -8.19937259, -8.6048377 , -6.90008961,\n",
              "       -7.50622541, -8.6048377 , -7.21854334, -6.90008961, -5.58441282,\n",
              "       -6.81307823, -8.6048377 , -7.68854697, -9.29798488, -6.00214802,\n",
              "       -7.35207473, -8.6048377 , -9.29798488, -9.29798488, -9.29798488,\n",
              "       -7.91169052, -7.21854334, -5.68706697, -7.91169052, -7.1007603 ,\n",
              "       -6.99539979, -5.74263682, -9.29798488, -9.29798488, -9.29798488,\n",
              "       -9.29798488, -9.29798488, -9.29798488, -7.1007603 , -6.58993468,\n",
              "       -6.25346244, -6.99539979, -9.29798488, -6.65892755, -9.29798488,\n",
              "       -9.29798488, -9.29798488, -6.99539979, -6.52539616, -9.29798488,\n",
              "       -7.50622541, -8.19937259, -9.29798488, -9.29798488, -9.29798488,\n",
              "       -7.1007603 , -8.19937259, -7.1007603 , -9.29798488, -6.25346244,\n",
              "       -8.19937259, -9.29798488, -7.1007603 , -9.29798488, -9.29798488,\n",
              "       -7.21854334, -7.68854697, -6.90008961, -6.73303552, -8.6048377 ,\n",
              "       -8.6048377 , -5.83224898, -7.91169052, -9.29798488, -9.29798488,\n",
              "       -9.29798488, -8.19937259, -8.19937259, -9.29798488, -9.29798488,\n",
              "       -9.29798488, -7.68854697, -9.29798488, -9.29798488, -6.73303552,\n",
              "       -9.29798488, -6.99539979, -9.29798488, -7.21854334, -8.6048377 ,\n",
              "       -9.29798488, -6.81307823, -7.91169052, -7.1007603 , -8.19937259,\n",
              "       -7.35207473, -7.50622541, -6.40761312, -7.35207473, -7.50622541,\n",
              "       -7.68854697, -9.29798488, -8.19937259, -6.07910906, -8.6048377 ,\n",
              "       -9.29798488, -6.73303552, -7.68854697, -9.29798488, -9.29798488,\n",
              "       -8.6048377 , -9.29798488, -7.21854334, -7.21854334, -9.29798488,\n",
              "       -8.6048377 , -9.29798488, -9.29798488, -8.6048377 , -9.29798488,\n",
              "       -9.29798488, -9.29798488, -8.19937259, -6.99539979, -8.6048377 ,\n",
              "       -6.11993105, -9.29798488, -9.29798488, -9.29798488, -7.35207473,\n",
              "       -7.68854697, -9.29798488, -4.26754696, -9.29798488, -8.19937259,\n",
              "       -9.29798488, -7.91169052, -8.6048377 , -9.29798488, -4.15049041,\n",
              "       -6.99539979, -8.19937259, -9.29798488, -6.99539979, -7.91169052,\n",
              "       -9.29798488, -9.29798488, -7.50622541, -9.29798488, -4.64402453,\n",
              "       -9.29798488, -9.29798488, -9.29798488, -7.50622541, -9.29798488,\n",
              "       -9.29798488, -7.68854697, -6.46477154, -9.29798488, -9.29798488,\n",
              "       -9.29798488, -9.29798488, -5.1708505 , -8.19937259, -6.40761312,\n",
              "       -7.68854697, -7.68854697, -7.35207473, -8.6048377 , -9.29798488,\n",
              "       -6.07910906, -8.6048377 , -9.29798488, -9.29798488, -7.91169052,\n",
              "       -9.29798488, -9.29798488, -6.99539979, -9.29798488, -9.29798488,\n",
              "       -7.50622541, -9.29798488, -7.50622541, -6.90008961, -9.29798488,\n",
              "       -9.29798488, -5.68706697, -9.29798488, -7.35207473, -9.29798488,\n",
              "       -8.19937259, -9.29798488, -9.29798488, -6.58993468, -9.29798488,\n",
              "       -9.29798488, -9.29798488, -6.90008961, -9.29798488, -9.29798488,\n",
              "       -9.29798488, -9.29798488, -8.6048377 , -8.19937259, -6.11993105,\n",
              "       -9.29798488, -4.67301207, -8.6048377 , -9.29798488, -9.29798488,\n",
              "       -9.29798488, -9.29798488, -7.91169052, -7.91169052, -7.91169052,\n",
              "       -9.29798488, -7.68854697, -6.52539616, -6.81307823, -7.35207473,\n",
              "       -8.19937259, -7.1007603 , -6.65892755, -8.6048377 , -9.29798488,\n",
              "       -9.29798488, -9.29798488, -6.90008961, -9.29798488, -5.96578037,\n",
              "       -8.6048377 , -7.68854697, -6.81307823, -9.29798488, -7.68854697,\n",
              "       -9.29798488, -7.21854334, -9.29798488, -6.3535459 , -9.29798488,\n",
              "       -9.29798488, -9.29798488, -8.6048377 , -8.6048377 , -6.73303552,\n",
              "       -6.30225261, -9.29798488, -9.29798488, -7.68854697, -7.68854697,\n",
              "       -6.90008961, -5.20364032, -9.29798488, -6.81307823, -7.1007603 ,\n",
              "       -7.68854697, -7.91169052, -4.44595462, -9.29798488, -6.00214802,\n",
              "       -7.50622541, -9.29798488, -9.29798488, -6.81307823, -9.29798488,\n",
              "       -9.29798488, -5.2906517 , -9.29798488, -9.29798488, -7.50622541,\n",
              "       -9.29798488, -9.29798488, -9.29798488, -6.20694243, -9.29798488,\n",
              "       -6.73303552, -5.96578037, -9.29798488, -9.29798488, -6.73303552,\n",
              "       -8.6048377 , -9.29798488, -6.03988834, -9.29798488, -8.19937259,\n",
              "       -9.29798488, -9.29798488, -8.6048377 , -9.29798488, -9.29798488,\n",
              "       -9.29798488, -9.29798488, -8.19937259, -8.6048377 , -9.29798488,\n",
              "       -8.19937259, -9.29798488, -7.1007603 , -6.07910906, -8.6048377 ,\n",
              "       -7.91169052, -6.16249067, -8.19937259, -8.6048377 , -7.21854334,\n",
              "       -9.29798488, -9.29798488, -8.19937259, -7.50622541, -9.29798488,\n",
              "       -8.6048377 , -8.19937259, -9.29798488, -8.19937259, -9.29798488,\n",
              "       -6.99539979, -9.29798488, -9.29798488, -9.29798488, -6.81307823,\n",
              "       -7.35207473, -7.1007603 , -9.29798488, -7.68854697, -8.6048377 ,\n",
              "       -9.29798488, -9.29798488, -7.21854334, -9.29798488, -9.29798488,\n",
              "       -9.29798488, -8.6048377 , -9.29798488, -7.50622541, -9.29798488,\n",
              "       -7.1007603 , -7.50622541, -9.29798488, -8.19937259, -6.20694243,\n",
              "       -9.29798488, -9.29798488, -9.29798488, -7.50622541, -9.29798488,\n",
              "       -5.8967875 , -6.81307823, -8.6048377 , -9.29798488, -5.86399768,\n",
              "       -8.19937259, -9.29798488, -6.03988834, -7.50622541, -7.50622541,\n",
              "       -7.21854334, -8.6048377 , -8.6048377 , -6.25346244, -4.86716808,\n",
              "       -6.90008961, -6.73303552, -9.29798488, -9.29798488, -9.29798488,\n",
              "       -9.29798488, -7.68854697, -7.21854334, -7.91169052, -6.11993105,\n",
              "       -9.29798488, -8.6048377 , -7.1007603 , -9.29798488, -8.19937259,\n",
              "       -8.6048377 , -9.29798488, -5.53678477, -7.35207473, -9.29798488,\n",
              "       -8.6048377 , -9.29798488, -6.46477154, -7.68854697, -9.29798488,\n",
              "       -7.1007603 , -9.29798488, -7.1007603 , -6.30225261, -9.29798488,\n",
              "       -7.21854334, -8.6048377 , -6.99539979, -6.52539616, -9.29798488,\n",
              "       -8.6048377 , -5.30900084, -6.99539979, -6.65892755, -9.29798488,\n",
              "       -9.29798488, -9.29798488, -7.35207473, -9.29798488, -5.49132239,\n",
              "       -9.29798488, -9.29798488, -5.42678387, -9.29798488, -9.29798488,\n",
              "       -8.19937259, -6.16249067, -7.91169052, -4.29403858, -8.6048377 ,\n",
              "       -6.99539979, -6.20694243, -7.21854334, -8.19937259, -4.99391979,\n",
              "       -7.68854697, -6.25346244, -6.90008961, -8.6048377 , -8.6048377 ,\n",
              "       -7.68854697, -9.29798488, -9.29798488, -8.6048377 , -4.65359398,\n",
              "       -9.29798488, -7.35207473, -8.19937259, -9.29798488, -5.23754187,\n",
              "       -9.29798488, -8.6048377 , -6.81307823, -6.58993468, -4.34922499,\n",
              "       -6.20694243, -6.73303552, -9.29798488, -9.29798488, -8.19937259,\n",
              "       -9.29798488, -5.06387838, -5.36615925, -9.29798488, -6.90008961,\n",
              "       -9.29798488, -9.29798488, -9.29798488, -9.29798488, -9.29798488,\n",
              "       -6.99539979, -9.29798488, -7.50622541, -9.29798488, -8.6048377 ,\n",
              "       -7.35207473, -8.6048377 , -5.68706697, -8.6048377 , -8.6048377 ,\n",
              "       -5.77162436, -6.90008961, -6.73303552, -8.19937259, -7.68854697,\n",
              "       -9.29798488, -7.1007603 , -7.68854697, -9.29798488, -9.29798488,\n",
              "       -6.65892755, -6.90008961, -5.49132239, -7.21854334, -7.21854334,\n",
              "       -9.29798488, -7.1007603 , -5.93068905, -6.81307823, -9.29798488,\n",
              "       -6.73303552, -9.29798488, -6.52539616, -9.29798488, -8.19937259,\n",
              "       -6.81307823, -9.29798488, -7.91169052, -9.29798488, -6.73303552,\n",
              "       -9.29798488, -6.58993468, -5.1391018 , -9.29798488, -9.29798488,\n",
              "       -9.29798488, -9.29798488, -8.6048377 , -8.6048377 , -7.35207473,\n",
              "       -7.35207473, -9.29798488, -6.65892755, -6.11993105, -7.1007603 ,\n",
              "       -6.73303552, -7.68854697, -8.6048377 , -9.29798488, -8.19937259,\n",
              "       -6.90008961, -9.29798488, -9.29798488, -6.07910906, -6.99539979,\n",
              "       -9.29798488, -7.68854697, -9.29798488, -6.99539979, -4.87914427,\n",
              "       -6.99539979, -8.19937259, -8.19937259, -6.20694243, -9.29798488,\n",
              "       -9.29798488, -6.81307823, -8.19937259, -9.29798488, -9.29798488,\n",
              "       -9.29798488, -6.30225261, -9.29798488, -9.29798488, -8.6048377 ,\n",
              "       -8.19937259, -7.35207473, -6.73303552, -7.91169052, -9.29798488,\n",
              "       -8.6048377 , -9.29798488, -9.29798488, -9.29798488, -9.29798488,\n",
              "       -9.29798488, -8.6048377 , -9.29798488, -7.35207473, -6.52539616,\n",
              "       -9.29798488, -9.29798488, -6.25346244, -8.19937259, -5.2906517 ,\n",
              "       -8.19937259, -6.99539979, -5.44783728, -6.81307823, -9.29798488,\n",
              "       -7.1007603 , -7.1007603 , -9.29798488, -9.29798488, -9.29798488,\n",
              "       -7.1007603 , -7.35207473, -7.50622541, -7.68854697, -9.29798488,\n",
              "       -6.07910906, -9.29798488, -8.6048377 , -8.6048377 , -9.29798488,\n",
              "       -9.29798488, -9.29798488, -9.29798488, -9.29798488, -9.29798488,\n",
              "       -8.6048377 , -9.29798488, -9.29798488, -9.29798488, -9.29798488,\n",
              "       -6.00214802, -9.29798488, -9.29798488, -6.46477154, -8.19937259,\n",
              "       -6.65892755, -9.29798488, -7.91169052, -8.19937259, -8.19937259,\n",
              "       -8.6048377 , -8.6048377 , -7.21854334, -6.52539616, -7.68854697,\n",
              "       -8.6048377 , -6.73303552, -7.91169052, -7.1007603 , -7.50622541,\n",
              "       -4.7546901 , -7.35207473, -9.29798488, -8.6048377 , -9.29798488,\n",
              "       -9.29798488, -7.21854334, -6.90008961, -9.29798488, -9.29798488,\n",
              "       -8.19937259, -9.29798488, -7.50622541, -9.29798488, -9.29798488,\n",
              "       -6.65892755, -7.68854697, -8.6048377 , -7.91169052, -9.29798488,\n",
              "       -7.1007603 , -8.6048377 , -6.81307823, -9.29798488, -8.6048377 ,\n",
              "       -7.35207473, -9.29798488, -4.79817521, -6.52539616, -9.29798488,\n",
              "       -8.19937259, -8.6048377 , -6.73303552, -9.29798488, -6.20694243,\n",
              "       -9.29798488, -4.23538985, -9.29798488, -8.19937259, -6.99539979,\n",
              "       -6.65892755, -7.91169052, -6.90008961, -8.6048377 , -8.19937259,\n",
              "       -7.68854697, -9.29798488, -9.29798488, -7.35207473, -5.09329226,\n",
              "       -9.29798488, -9.29798488, -9.29798488, -9.29798488, -9.29798488,\n",
              "       -9.29798488, -7.91169052, -9.29798488, -7.91169052, -6.46477154,\n",
              "       -9.29798488, -9.29798488, -9.29798488, -3.01758904, -6.30225261,\n",
              "       -6.65892755, -9.29798488, -9.29798488, -9.29798488, -7.35207473,\n",
              "       -5.56031526, -6.52539616, -8.19937259, -9.29798488, -8.6048377 ,\n",
              "       -9.29798488, -6.81307823, -9.29798488, -8.6048377 , -8.19937259,\n",
              "       -9.29798488, -6.58993468, -7.68854697, -7.68854697, -9.29798488,\n",
              "       -7.35207473, -6.73303552, -7.1007603 , -6.99539979, -8.6048377 ,\n",
              "       -4.4537978 , -6.81307823, -9.29798488, -9.29798488, -5.2906517 ,\n",
              "       -6.99539979, -9.29798488, -9.29798488, -6.99539979, -6.58993468,\n",
              "       -7.68854697, -6.58993468, -6.73303552, -4.58845468, -5.38596188,\n",
              "       -7.21854334, -6.99539979, -9.29798488, -7.21854334, -9.29798488,\n",
              "       -9.29798488, -8.6048377 , -6.58993468, -6.99539979, -6.90008961,\n",
              "       -8.6048377 , -6.16249067, -7.50622541, -9.29798488, -6.58993468,\n",
              "       -6.3535459 , -8.6048377 , -6.65892755, -9.29798488, -8.6048377 ,\n",
              "       -8.19937259, -9.29798488, -7.50622541, -6.20694243, -8.6048377 ,\n",
              "       -8.6048377 , -7.1007603 , -7.21854334, -9.29798488, -8.6048377 ,\n",
              "       -9.29798488, -9.29798488, -8.6048377 , -5.58441282, -5.68706697,\n",
              "       -6.99539979, -6.46477154, -7.35207473, -6.99539979, -7.68854697,\n",
              "       -9.29798488, -9.29798488, -7.91169052, -6.52539616, -9.29798488,\n",
              "       -8.6048377 , -6.99539979, -9.29798488, -8.19937259, -7.21854334,\n",
              "       -7.91169052, -5.80147732, -9.29798488, -6.90008961, -7.91169052,\n",
              "       -9.29798488, -9.29798488, -9.29798488, -5.66039872, -5.32769297,\n",
              "       -6.81307823, -8.19937259, -9.29798488, -4.95417946, -7.35207473,\n",
              "       -9.29798488, -6.03988834, -6.73303552, -9.29798488, -5.23754187,\n",
              "       -9.29798488, -9.29798488, -9.29798488, -6.46477154, -9.29798488,\n",
              "       -8.19937259, -9.29798488, -8.6048377 , -9.29798488, -9.29798488,\n",
              "       -6.90008961, -8.6048377 , -7.68854697, -8.19937259, -9.29798488,\n",
              "       -9.29798488, -4.95417946, -6.81307823, -7.91169052, -7.1007603 ,\n",
              "       -9.29798488, -9.29798488, -9.29798488, -8.6048377 , -7.68854697,\n",
              "       -7.50622541, -6.40761312, -7.91169052, -8.19937259, -7.91169052,\n",
              "       -3.85556717, -3.99467997, -6.90008961, -9.29798488, -9.29798488])"
            ]
          },
          "metadata": {},
          "execution_count": 26
        }
      ]
    },
    {
      "cell_type": "code",
      "source": [
        "# DataFrame\n",
        "df_importance = pd.DataFrame({\n",
        "    'feature' : best_estimator.named_steps['vect'].vocabulary_.keys(),\n",
        "    'importance_ham': np.exp(best_estimator.named_steps['clf'].feature_log_prob_[0, :]),\n",
        "    'importance_spam': np.exp(best_estimator.named_steps['clf'].feature_log_prob_[1, :])\n",
        "})\n",
        "\n",
        "df_importance.head()"
      ],
      "metadata": {
        "colab": {
          "base_uri": "https://localhost:8080/",
          "height": 206
        },
        "id": "GW1PpMyqnHoS",
        "outputId": "65f1c479-19c9-4d7c-a49d-37c58a9e1b5f"
      },
      "execution_count": 27,
      "outputs": [
        {
          "output_type": "execute_result",
          "data": {
            "text/plain": [
              "  feature  importance_ham  importance_spam\n",
              "0    when        0.000025         0.000916\n",
              "1     you        0.000025         0.001924\n",
              "2    just        0.000025         0.001008\n",
              "3     put        0.000025         0.001099\n",
              "4      in        0.000025         0.001099"
            ],
            "text/html": [
              "\n",
              "  <div id=\"df-159baf19-796f-46c0-9aba-9c4525f2e88e\">\n",
              "    <div class=\"colab-df-container\">\n",
              "      <div>\n",
              "<style scoped>\n",
              "    .dataframe tbody tr th:only-of-type {\n",
              "        vertical-align: middle;\n",
              "    }\n",
              "\n",
              "    .dataframe tbody tr th {\n",
              "        vertical-align: top;\n",
              "    }\n",
              "\n",
              "    .dataframe thead th {\n",
              "        text-align: right;\n",
              "    }\n",
              "</style>\n",
              "<table border=\"1\" class=\"dataframe\">\n",
              "  <thead>\n",
              "    <tr style=\"text-align: right;\">\n",
              "      <th></th>\n",
              "      <th>feature</th>\n",
              "      <th>importance_ham</th>\n",
              "      <th>importance_spam</th>\n",
              "    </tr>\n",
              "  </thead>\n",
              "  <tbody>\n",
              "    <tr>\n",
              "      <th>0</th>\n",
              "      <td>when</td>\n",
              "      <td>0.000025</td>\n",
              "      <td>0.000916</td>\n",
              "    </tr>\n",
              "    <tr>\n",
              "      <th>1</th>\n",
              "      <td>you</td>\n",
              "      <td>0.000025</td>\n",
              "      <td>0.001924</td>\n",
              "    </tr>\n",
              "    <tr>\n",
              "      <th>2</th>\n",
              "      <td>just</td>\n",
              "      <td>0.000025</td>\n",
              "      <td>0.001008</td>\n",
              "    </tr>\n",
              "    <tr>\n",
              "      <th>3</th>\n",
              "      <td>put</td>\n",
              "      <td>0.000025</td>\n",
              "      <td>0.001099</td>\n",
              "    </tr>\n",
              "    <tr>\n",
              "      <th>4</th>\n",
              "      <td>in</td>\n",
              "      <td>0.000025</td>\n",
              "      <td>0.001099</td>\n",
              "    </tr>\n",
              "  </tbody>\n",
              "</table>\n",
              "</div>\n",
              "      <button class=\"colab-df-convert\" onclick=\"convertToInteractive('df-159baf19-796f-46c0-9aba-9c4525f2e88e')\"\n",
              "              title=\"Convert this dataframe to an interactive table.\"\n",
              "              style=\"display:none;\">\n",
              "        \n",
              "  <svg xmlns=\"http://www.w3.org/2000/svg\" height=\"24px\"viewBox=\"0 0 24 24\"\n",
              "       width=\"24px\">\n",
              "    <path d=\"M0 0h24v24H0V0z\" fill=\"none\"/>\n",
              "    <path d=\"M18.56 5.44l.94 2.06.94-2.06 2.06-.94-2.06-.94-.94-2.06-.94 2.06-2.06.94zm-11 1L8.5 8.5l.94-2.06 2.06-.94-2.06-.94L8.5 2.5l-.94 2.06-2.06.94zm10 10l.94 2.06.94-2.06 2.06-.94-2.06-.94-.94-2.06-.94 2.06-2.06.94z\"/><path d=\"M17.41 7.96l-1.37-1.37c-.4-.4-.92-.59-1.43-.59-.52 0-1.04.2-1.43.59L10.3 9.45l-7.72 7.72c-.78.78-.78 2.05 0 2.83L4 21.41c.39.39.9.59 1.41.59.51 0 1.02-.2 1.41-.59l7.78-7.78 2.81-2.81c.8-.78.8-2.07 0-2.86zM5.41 20L4 18.59l7.72-7.72 1.47 1.35L5.41 20z\"/>\n",
              "  </svg>\n",
              "      </button>\n",
              "      \n",
              "  <style>\n",
              "    .colab-df-container {\n",
              "      display:flex;\n",
              "      flex-wrap:wrap;\n",
              "      gap: 12px;\n",
              "    }\n",
              "\n",
              "    .colab-df-convert {\n",
              "      background-color: #E8F0FE;\n",
              "      border: none;\n",
              "      border-radius: 50%;\n",
              "      cursor: pointer;\n",
              "      display: none;\n",
              "      fill: #1967D2;\n",
              "      height: 32px;\n",
              "      padding: 0 0 0 0;\n",
              "      width: 32px;\n",
              "    }\n",
              "\n",
              "    .colab-df-convert:hover {\n",
              "      background-color: #E2EBFA;\n",
              "      box-shadow: 0px 1px 2px rgba(60, 64, 67, 0.3), 0px 1px 3px 1px rgba(60, 64, 67, 0.15);\n",
              "      fill: #174EA6;\n",
              "    }\n",
              "\n",
              "    [theme=dark] .colab-df-convert {\n",
              "      background-color: #3B4455;\n",
              "      fill: #D2E3FC;\n",
              "    }\n",
              "\n",
              "    [theme=dark] .colab-df-convert:hover {\n",
              "      background-color: #434B5C;\n",
              "      box-shadow: 0px 1px 3px 1px rgba(0, 0, 0, 0.15);\n",
              "      filter: drop-shadow(0px 1px 2px rgba(0, 0, 0, 0.3));\n",
              "      fill: #FFFFFF;\n",
              "    }\n",
              "  </style>\n",
              "\n",
              "      <script>\n",
              "        const buttonEl =\n",
              "          document.querySelector('#df-159baf19-796f-46c0-9aba-9c4525f2e88e button.colab-df-convert');\n",
              "        buttonEl.style.display =\n",
              "          google.colab.kernel.accessAllowed ? 'block' : 'none';\n",
              "\n",
              "        async function convertToInteractive(key) {\n",
              "          const element = document.querySelector('#df-159baf19-796f-46c0-9aba-9c4525f2e88e');\n",
              "          const dataTable =\n",
              "            await google.colab.kernel.invokeFunction('convertToInteractive',\n",
              "                                                     [key], {});\n",
              "          if (!dataTable) return;\n",
              "\n",
              "          const docLinkHtml = 'Like what you see? Visit the ' +\n",
              "            '<a target=\"_blank\" href=https://colab.research.google.com/notebooks/data_table.ipynb>data table notebook</a>'\n",
              "            + ' to learn more about interactive tables.';\n",
              "          element.innerHTML = '';\n",
              "          dataTable['output_type'] = 'display_data';\n",
              "          await google.colab.output.renderOutput(dataTable, element);\n",
              "          const docLink = document.createElement('div');\n",
              "          docLink.innerHTML = docLinkHtml;\n",
              "          element.appendChild(docLink);\n",
              "        }\n",
              "      </script>\n",
              "    </div>\n",
              "  </div>\n",
              "  "
            ]
          },
          "metadata": {},
          "execution_count": 27
        }
      ]
    },
    {
      "cell_type": "markdown",
      "source": [
        "##11.4 Résultats"
      ],
      "metadata": {
        "id": "raW5FPGhnOWj"
      }
    },
    {
      "cell_type": "code",
      "source": [
        "sns.barplot(data = df_importance.sort_values(by='importance_spam', ascending=False)[:20],\n",
        "            x=\"importance_spam\", y=\"feature\").set(title='Classe SPAM - Top 20 Features')"
      ],
      "metadata": {
        "colab": {
          "base_uri": "https://localhost:8080/",
          "height": 498
        },
        "id": "UaBaZN-dnOsd",
        "outputId": "69b41e9f-c549-49ac-ee4e-0f378820d4c3"
      },
      "execution_count": 28,
      "outputs": [
        {
          "output_type": "execute_result",
          "data": {
            "text/plain": [
              "[Text(0.5, 1.0, 'Classe SPAM - Top 20 Features')]"
            ]
          },
          "metadata": {},
          "execution_count": 28
        },
        {
          "output_type": "display_data",
          "data": {
            "text/plain": [
              "<Figure size 640x480 with 1 Axes>"
            ],
            "image/png": "[encoded data removed]"
          },
          "metadata": {}
        }
      ]
    },
    {
      "cell_type": "markdown",
      "source": [
        "Voici donc une sélection du vocabulaire qui conduit le classifieur à détecter des messages comme des Spam."
      ],
      "metadata": {
        "id": "DiOev_DunVZZ"
      }
    },
    {
      "cell_type": "markdown",
      "source": [
        "#12 Prochaines étapes\n",
        "Dans une logique de perfectionnement du classifieur et de ce projet de manière générale, voici quelques idées de prochaines étapes :\n",
        "-  Poursuivre l'analyse et la compréhesion des erreurs du modèle\n",
        "-  Poursuivre l'analyse et la compréhesion des feature importances\n",
        "- Améliorer les performances du modèle\n",
        "- Tester ce modèle sur un nouveau dataset de SMS\n",
        "- etc."
      ],
      "metadata": {
        "id": "wZlNdzkd2tYr"
      }
    },
    {
      "cell_type": "markdown",
      "source": [
        "# Fin du challenge\n",
        "Bravo ! Vous êtes arrivés sans peine jusqu'à la fin de ce challenge ML ✌ !"
      ],
      "metadata": {
        "id": "2OYoCHyjUrNH"
      }
    }
  ]
}