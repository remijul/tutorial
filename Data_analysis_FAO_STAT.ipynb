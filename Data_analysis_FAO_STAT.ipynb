{
  "nbformat": 4,
  "nbformat_minor": 0,
  "metadata": {
    "colab": {
      "provenance": [],
      "collapsed_sections": [
        "tD2sagK6Sl5V",
        "SwYnKcC2SnmW",
        "OhNz-WcqUyx8",
        "KWKt7jaRSpzS",
        "FWfzTVPeS9ZA",
        "oklEYPocTfwv",
        "LZKnE7nfTpI9",
        "SS60lplTTq_G",
        "9JwRWfF9TxwF",
        "41fU25ocT6Ro",
        "SGjl5QN0UA7z",
        "ZSkU9_Y4UFjG",
        "aDula7wVUOpK",
        "--_5bgaGURlx",
        "f2RUHBlyUWBh",
        "F4DLJKdwUZhe",
        "8Y8zxZrZUe91",
        "pFMntZ6oUh1I",
        "rWZ5mEygUkX0",
        "-Mg01oy3UnBm",
        "q3x-SZ91Upn1",
        "t66PhZRDUr_h",
        "TY_4WQ-DVrLC",
        "vtWn9l49VwjZ",
        "Wv_r2f8eVz3s",
        "AvsBH3sCWZr-",
        "oqCe9aZQYjGt",
        "jLlDzXHWdiKW",
        "mER1grHpZ-aJ",
        "8I_ncAdrfF2I",
        "2-JLn3bxffn_",
        "uXjEjX8Dhj53",
        "xi3JB9_BmFvK",
        "cvFLMsbTlrnJ",
        "iqaOWpjEpKWV",
        "uzNdjrHNpLWm",
        "yul0Pp0JpL8Z",
        "DVW4OO-epMY1",
        "uzICuEk1upMT",
        "PpReWnlXu228",
        "sIGXGqCvvA3J",
        "IEueLTZXpMY1",
        "eB0ZOzoJvIUm"
      ],
      "toc_visible": true,
      "authorship_tag": "ABX9TyMz//mlKAY9zACjT7EcWtWe",
      "include_colab_link": true
    },
    "kernelspec": {
      "name": "python3",
      "display_name": "Python 3"
    },
    "language_info": {
      "name": "python"
    }
  },
  "cells": [
    {
      "cell_type": "markdown",
      "metadata": {
        "id": "view-in-github",
        "colab_type": "text"
      },
      "source": [
        "<a href=\"https://colab.research.google.com/github/remijul/tutorial/blob/master/Data_analysis_FAO_STAT.ipynb\" target=\"_parent\"><img src=\"https://colab.research.google.com/assets/colab-badge.svg\" alt=\"Open In Colab\"/></a>"
      ]
    },
    {
      "cell_type": "markdown",
      "source": [
        "# FAO Stat : Data Analysis"
      ],
      "metadata": {
        "id": "l99Ws0jzSQxd"
      }
    },
    {
      "cell_type": "markdown",
      "source": [
        "## Librairies"
      ],
      "metadata": {
        "id": "oYH3EZxWSUpz"
      }
    },
    {
      "cell_type": "code",
      "execution_count": 230,
      "metadata": {
        "id": "KwzSsWnmQcvP"
      },
      "outputs": [],
      "source": [
        "# Import des librairies\n",
        "import numpy as np\n",
        "import pandas as pd\n",
        "pd.options.mode.chained_assignment = None\n",
        "#from google.colab import data_table"
      ]
    },
    {
      "cell_type": "markdown",
      "source": [
        "## Data"
      ],
      "metadata": {
        "id": "NmMRM3vtSZht"
      }
    },
    {
      "cell_type": "code",
      "source": [
        "population = pd.read_csv(\"https://raw.githubusercontent.com/remijul/dataset/master/fao_2013/FAOSTAT_2013_population.csv\")\n",
        "animal = pd.read_csv(\"https://raw.githubusercontent.com/remijul/dataset/master/fao_2013/FAOSTAT_2013_animal.csv\")\n",
        "vegetal = pd.read_csv(\"https://raw.githubusercontent.com/remijul/dataset/master/fao_2013/FAOSTAT_2013_vegetal.csv\")\n",
        "cereal = pd.read_csv(\"https://raw.githubusercontent.com/remijul/dataset/master/fao_2013/FAOSTAT_2013_cereal.csv\")\n",
        "sous_nutrition = pd.read_csv(\"https://raw.githubusercontent.com/remijul/dataset/master/fao_2013/FAOSTAT_2013_sous_alimentation.csv\")"
      ],
      "metadata": {
        "id": "Co-tjH12SZ5s"
      },
      "execution_count": 2,
      "outputs": []
    },
    {
      "cell_type": "markdown",
      "source": [
        "## Exploration des données"
      ],
      "metadata": {
        "id": "nYkInvGxSeb6"
      }
    },
    {
      "cell_type": "markdown",
      "source": [
        "A réaliser avant de pouvoir faire les études guidées.\n",
        "L'exploration des données doit permettre :\n",
        "- de se familiariser avec l'ensemble des dataset\n",
        "- d'observer que les unités sont relativement différentes et peuvent représenter un piège par la suite\n",
        "- de constater que la structure de la table alimentation n'est pas propice à l'analyse et l'exploitation (format long au lieu de large)\n",
        "- ..."
      ],
      "metadata": {
        "id": "ViHutEgtwaKC"
      }
    },
    {
      "cell_type": "markdown",
      "source": [
        "## Etude guidée n°1"
      ],
      "metadata": {
        "id": "g5UeKS2kSg-c"
      }
    },
    {
      "cell_type": "markdown",
      "source": [
        "Dans cette section, il s’agit ici de répondre à une liste de question spécifique.  \n",
        "Mais au préalable il convient de préparer les dataset pour harmoniser les unités de chaque dataset et colonnes."
      ],
      "metadata": {
        "id": "AI8q7KmRSjNL"
      }
    },
    {
      "cell_type": "markdown",
      "source": [
        "### Préparation des dataset\n",
        "La suite de l'étude consistera à réaliser un certain de nombre de calculs à partir l'ensemble des informations des dataset. Nous allons donc harmoniser les unités de chaque dataset et colonnes. "
      ],
      "metadata": {
        "id": "tD2sagK6Sl5V"
      }
    },
    {
      "cell_type": "markdown",
      "source": [
        "#### Dataset population\n",
        "Ajustement de l'unité de la population en nombre d'habitant."
      ],
      "metadata": {
        "id": "SwYnKcC2SnmW"
      }
    },
    {
      "cell_type": "code",
      "source": [
        "population.Value = 1000 * population.Value\n",
        "population.Unit = '1 person'"
      ],
      "metadata": {
        "id": "ukt6W-nnSibF"
      },
      "execution_count": 3,
      "outputs": []
    },
    {
      "cell_type": "markdown",
      "source": [
        "#### Dataset sous nutrition\n",
        "Ajustement de l'unité de la population en nombre d'habitant."
      ],
      "metadata": {
        "id": "OhNz-WcqUyx8"
      }
    },
    {
      "cell_type": "code",
      "source": [
        "sous_nutrition.Unité.unique()"
      ],
      "metadata": {
        "colab": {
          "base_uri": "https://localhost:8080/"
        },
        "id": "ijT7rHgNUy5B",
        "outputId": "c4d0b23b-2353-4ae7-feb4-faca6c284b0d"
      },
      "execution_count": 48,
      "outputs": [
        {
          "output_type": "execute_result",
          "data": {
            "text/plain": [
              "array(['millions'], dtype=object)"
            ]
          },
          "metadata": {},
          "execution_count": 48
        }
      ]
    },
    {
      "cell_type": "code",
      "source": [
        "sous_nutrition_prep = sous_nutrition\n",
        "sous_nutrition_prep['Valeur'] *= 1e6\n",
        "sous_nutrition_prep['Unité'] = '1 person'"
      ],
      "metadata": {
        "id": "PsN5CAw5VCD6"
      },
      "execution_count": 50,
      "outputs": []
    },
    {
      "cell_type": "markdown",
      "source": [
        "#### Dataset `animal` et `vegetal`\n",
        "Ajustement de certaines unités. Liste des unités existantes :"
      ],
      "metadata": {
        "id": "KWKt7jaRSpzS"
      }
    },
    {
      "cell_type": "code",
      "source": [
        "animal.Unité.unique()"
      ],
      "metadata": {
        "colab": {
          "base_uri": "https://localhost:8080/"
        },
        "id": "G5Dgtl6ESotl",
        "outputId": "5860dbb4-7601-4ee3-cd86-b3b276c4a31a"
      },
      "execution_count": 4,
      "outputs": [
        {
          "output_type": "execute_result",
          "data": {
            "text/plain": [
              "array(['Milliers de tonnes', 'kg', 'Kcal/personne/jour',\n",
              "       'g/personne/jour'], dtype=object)"
            ]
          },
          "metadata": {},
          "execution_count": 4
        }
      ]
    },
    {
      "cell_type": "markdown",
      "source": [
        "Liste des éléments existants :"
      ],
      "metadata": {
        "id": "GGLUZKW3SvsG"
      }
    },
    {
      "cell_type": "code",
      "source": [
        "animal.Élément.unique()"
      ],
      "metadata": {
        "colab": {
          "base_uri": "https://localhost:8080/"
        },
        "id": "mvvpb9BbSt2N",
        "outputId": "7ad6f46b-fbbb-430c-f3dc-17f8fd0bcbaa"
      },
      "execution_count": 5,
      "outputs": [
        {
          "output_type": "execute_result",
          "data": {
            "text/plain": [
              "array(['Production', 'Importations - Quantité',\n",
              "       'Disponibilité intérieure', 'Nourriture',\n",
              "       'Disponibilité alimentaire en quantité (kg/personne/an)',\n",
              "       'Disponibilité alimentaire (Kcal/personne/jour)',\n",
              "       'Disponibilité de protéines en quantité (g/personne/jour)',\n",
              "       'Disponibilité de matière grasse en quantité (g/personne/jour)',\n",
              "       'Semences', 'Pertes', 'Exportations - Quantité',\n",
              "       'Aliments pour animaux', 'Autres Utilisations',\n",
              "       'Variation de stock', 'Traitement'], dtype=object)"
            ]
          },
          "metadata": {},
          "execution_count": 5
        }
      ]
    },
    {
      "cell_type": "markdown",
      "source": [
        "Création d'une fonction pour corriger automatiquement les unités :  \n",
        "- `'Milliers de tonnes'` en `'kg'`,\n",
        "- `'g/personne/jour'` en `'kg/personne/jour'`,\n",
        "- ainsi que les informations associées dans les colonnes `Valeur` et `Elément`."
      ],
      "metadata": {
        "id": "x-oeO9dhSyxq"
      }
    },
    {
      "cell_type": "code",
      "source": [
        "def prepare_dataset(df):\n",
        "  # Pour les unités en 'Milliers de tonnes'\n",
        "  df.loc[df['Unité'] == 'Milliers de tonnes', 'Valeur'] *= 1e6 #* df.loc[df['Unité'] == 'Milliers de tonnes', 'Valeur']\n",
        "  df.loc[df['Unité'] == 'Milliers de tonnes', 'Unité'] = 'kg'\n",
        "\n",
        "  # Pour les unités en 'g/personne/jour'\n",
        "  df.loc[df['Unité'] == 'g/personne/jour', 'Valeur'] *= 1e-3 #* df.loc[df['Unité'] == 'kg/personne/jour', 'Valeur']\n",
        "  #df.loc[df['Unité'] == 'g/personne/jour', 'Élément'] = df.loc[df['Unité'] == 'g/personne/jour', 'Élément'].replace('g/personne/jour', 'kg/personne/jour', regex=True, inplace=True)\n",
        "  df['Élément'].replace('g/personne/jour', 'kg/personne/jour', regex=True, inplace=True)\n",
        "  df.loc[df['Unité'] == 'g/personne/jour', 'Unité'] = 'kg/personne/jour'\n",
        "\n",
        "  return(df)"
      ],
      "metadata": {
        "id": "3OFIcW_aSw1F"
      },
      "execution_count": 6,
      "outputs": []
    },
    {
      "cell_type": "code",
      "source": [
        "animal_prep = prepare_dataset(animal)\n",
        "print(animal_prep.Élément.unique())\n",
        "print(animal_prep.Unité.unique())"
      ],
      "metadata": {
        "colab": {
          "base_uri": "https://localhost:8080/"
        },
        "id": "XyFDgqncS0AM",
        "outputId": "69ef63be-e032-442b-dc5d-ad6a011e91ea"
      },
      "execution_count": 7,
      "outputs": [
        {
          "output_type": "stream",
          "name": "stdout",
          "text": [
            "['Production' 'Importations - Quantité' 'Disponibilité intérieure'\n",
            " 'Nourriture' 'Disponibilité alimentaire en quantité (kg/personne/an)'\n",
            " 'Disponibilité alimentaire (Kcal/personne/jour)'\n",
            " 'Disponibilité de protéines en quantité (kg/personne/jour)'\n",
            " 'Disponibilité de matière grasse en quantité (kg/personne/jour)'\n",
            " 'Semences' 'Pertes' 'Exportations - Quantité' 'Aliments pour animaux'\n",
            " 'Autres Utilisations' 'Variation de stock' 'Traitement']\n",
            "['kg' 'Kcal/personne/jour' 'kg/personne/jour']\n"
          ]
        }
      ]
    },
    {
      "cell_type": "code",
      "source": [
        "vegetal_prep = prepare_dataset(vegetal)\n",
        "print(vegetal_prep.Élément.unique())\n",
        "print(vegetal_prep.Unité.unique())"
      ],
      "metadata": {
        "colab": {
          "base_uri": "https://localhost:8080/"
        },
        "id": "bZ498OULS2Bk",
        "outputId": "55623df8-65d6-45a6-c11d-33a7b0c5cb80"
      },
      "execution_count": 8,
      "outputs": [
        {
          "output_type": "stream",
          "name": "stdout",
          "text": [
            "['Production' 'Importations - Quantité' 'Variation de stock'\n",
            " 'Disponibilité intérieure' 'Semences' 'Pertes' 'Nourriture'\n",
            " 'Disponibilité alimentaire en quantité (kg/personne/an)'\n",
            " 'Disponibilité alimentaire (Kcal/personne/jour)'\n",
            " 'Disponibilité de protéines en quantité (kg/personne/jour)'\n",
            " 'Disponibilité de matière grasse en quantité (kg/personne/jour)'\n",
            " 'Aliments pour animaux' 'Exportations - Quantité' 'Traitement'\n",
            " 'Autres Utilisations']\n",
            "['kg' 'Kcal/personne/jour' 'kg/personne/jour']\n"
          ]
        }
      ]
    },
    {
      "cell_type": "markdown",
      "source": [
        "### Question1\n",
        "Calculez le nombre total d’humains sur la planète.  \n",
        "Critiquez votre résultat. En cas d’anomalie, analysez et effectuer les corrections nécessaires.  \n",
        "Donnez le résultat de votre calcul pour l'année 2013."
      ],
      "metadata": {
        "id": "FWfzTVPeS9ZA"
      }
    },
    {
      "cell_type": "code",
      "source": [
        "population_mondiale = population.query('Item == \"Population\"')['Value'].sum()\n",
        "\n",
        "print(\n",
        "    'La population mondiale en 2013 : '\n",
        "    f'{round(population_mondiale / 10**9, 3):,}', \"milliards d'habitants\",\n",
        ")"
      ],
      "metadata": {
        "colab": {
          "base_uri": "https://localhost:8080/"
        },
        "id": "tEDkr875S3H6",
        "outputId": "2878b432-4b01-462a-e20f-92d8e4bb0ebe"
      },
      "execution_count": 9,
      "outputs": [
        {
          "output_type": "stream",
          "name": "stdout",
          "text": [
            "La population mondiale en 2013 : 8.414 milliards d'habitants\n"
          ]
        }
      ]
    },
    {
      "cell_type": "markdown",
      "source": [
        "Besoin de corriger le dataset car erreur dans population mondiale."
      ],
      "metadata": {
        "id": "vvsIxm41TBO3"
      }
    },
    {
      "cell_type": "code",
      "source": [
        "# Les données de la Chine ont été agrégées dans le code pays 351, et donc comptabilisées 2 fois\n",
        "population[population['Country'].str.contains('China')]"
      ],
      "metadata": {
        "colab": {
          "base_uri": "https://localhost:8080/",
          "height": 354
        },
        "id": "VELPNtQXTAl0",
        "outputId": "d65020c4-1460-45ee-c041-2f5b506946bb"
      },
      "execution_count": 10,
      "outputs": [
        {
          "output_type": "execute_result",
          "data": {
            "text/plain": [
              "    Domain Code               Domain  Country Code                    Country  \\\n",
              "32          FBS  Food Balance Sheets            96       China, Hong Kong SAR   \n",
              "33          FBS  Food Balance Sheets           128           China, Macao SAR   \n",
              "34          FBS  Food Balance Sheets            41            China, mainland   \n",
              "35          FBS  Food Balance Sheets           214  China, Taiwan Province of   \n",
              "174         FBS  Food Balance Sheets           351                      China   \n",
              "\n",
              "     Element Code                        Element  Item Code        Item  \\\n",
              "32            511  Total Population - Both sexes       2501  Population   \n",
              "33            511  Total Population - Both sexes       2501  Population   \n",
              "34            511  Total Population - Both sexes       2501  Population   \n",
              "35            511  Total Population - Both sexes       2501  Population   \n",
              "174           511  Total Population - Both sexes       2501  Population   \n",
              "\n",
              "     Year Code  Year      Unit       Value Flag  \\\n",
              "32        2013  2013  1 person     7204000  NaN   \n",
              "33        2013  2013  1 person      566000  NaN   \n",
              "34        2013  2013  1 person  1385567000  NaN   \n",
              "35        2013  2013  1 person    23330000  NaN   \n",
              "174       2013  2013  1 person  1416667000    A   \n",
              "\n",
              "                                      Flag Description  \n",
              "32                                       Official data  \n",
              "33                                       Official data  \n",
              "34                                       Official data  \n",
              "35                                       Official data  \n",
              "174  Aggregate, may include official, semi-official...  "
            ],
            "text/html": [
              "\n",
              "  <div id=\"df-62cdc869-3de7-4fbd-a121-d3039bd3c7f7\">\n",
              "    <div class=\"colab-df-container\">\n",
              "      <div>\n",
              "<style scoped>\n",
              "    .dataframe tbody tr th:only-of-type {\n",
              "        vertical-align: middle;\n",
              "    }\n",
              "\n",
              "    .dataframe tbody tr th {\n",
              "        vertical-align: top;\n",
              "    }\n",
              "\n",
              "    .dataframe thead th {\n",
              "        text-align: right;\n",
              "    }\n",
              "</style>\n",
              "<table border=\"1\" class=\"dataframe\">\n",
              "  <thead>\n",
              "    <tr style=\"text-align: right;\">\n",
              "      <th></th>\n",
              "      <th>Domain Code</th>\n",
              "      <th>Domain</th>\n",
              "      <th>Country Code</th>\n",
              "      <th>Country</th>\n",
              "      <th>Element Code</th>\n",
              "      <th>Element</th>\n",
              "      <th>Item Code</th>\n",
              "      <th>Item</th>\n",
              "      <th>Year Code</th>\n",
              "      <th>Year</th>\n",
              "      <th>Unit</th>\n",
              "      <th>Value</th>\n",
              "      <th>Flag</th>\n",
              "      <th>Flag Description</th>\n",
              "    </tr>\n",
              "  </thead>\n",
              "  <tbody>\n",
              "    <tr>\n",
              "      <th>32</th>\n",
              "      <td>FBS</td>\n",
              "      <td>Food Balance Sheets</td>\n",
              "      <td>96</td>\n",
              "      <td>China, Hong Kong SAR</td>\n",
              "      <td>511</td>\n",
              "      <td>Total Population - Both sexes</td>\n",
              "      <td>2501</td>\n",
              "      <td>Population</td>\n",
              "      <td>2013</td>\n",
              "      <td>2013</td>\n",
              "      <td>1 person</td>\n",
              "      <td>7204000</td>\n",
              "      <td>NaN</td>\n",
              "      <td>Official data</td>\n",
              "    </tr>\n",
              "    <tr>\n",
              "      <th>33</th>\n",
              "      <td>FBS</td>\n",
              "      <td>Food Balance Sheets</td>\n",
              "      <td>128</td>\n",
              "      <td>China, Macao SAR</td>\n",
              "      <td>511</td>\n",
              "      <td>Total Population - Both sexes</td>\n",
              "      <td>2501</td>\n",
              "      <td>Population</td>\n",
              "      <td>2013</td>\n",
              "      <td>2013</td>\n",
              "      <td>1 person</td>\n",
              "      <td>566000</td>\n",
              "      <td>NaN</td>\n",
              "      <td>Official data</td>\n",
              "    </tr>\n",
              "    <tr>\n",
              "      <th>34</th>\n",
              "      <td>FBS</td>\n",
              "      <td>Food Balance Sheets</td>\n",
              "      <td>41</td>\n",
              "      <td>China, mainland</td>\n",
              "      <td>511</td>\n",
              "      <td>Total Population - Both sexes</td>\n",
              "      <td>2501</td>\n",
              "      <td>Population</td>\n",
              "      <td>2013</td>\n",
              "      <td>2013</td>\n",
              "      <td>1 person</td>\n",
              "      <td>1385567000</td>\n",
              "      <td>NaN</td>\n",
              "      <td>Official data</td>\n",
              "    </tr>\n",
              "    <tr>\n",
              "      <th>35</th>\n",
              "      <td>FBS</td>\n",
              "      <td>Food Balance Sheets</td>\n",
              "      <td>214</td>\n",
              "      <td>China, Taiwan Province of</td>\n",
              "      <td>511</td>\n",
              "      <td>Total Population - Both sexes</td>\n",
              "      <td>2501</td>\n",
              "      <td>Population</td>\n",
              "      <td>2013</td>\n",
              "      <td>2013</td>\n",
              "      <td>1 person</td>\n",
              "      <td>23330000</td>\n",
              "      <td>NaN</td>\n",
              "      <td>Official data</td>\n",
              "    </tr>\n",
              "    <tr>\n",
              "      <th>174</th>\n",
              "      <td>FBS</td>\n",
              "      <td>Food Balance Sheets</td>\n",
              "      <td>351</td>\n",
              "      <td>China</td>\n",
              "      <td>511</td>\n",
              "      <td>Total Population - Both sexes</td>\n",
              "      <td>2501</td>\n",
              "      <td>Population</td>\n",
              "      <td>2013</td>\n",
              "      <td>2013</td>\n",
              "      <td>1 person</td>\n",
              "      <td>1416667000</td>\n",
              "      <td>A</td>\n",
              "      <td>Aggregate, may include official, semi-official...</td>\n",
              "    </tr>\n",
              "  </tbody>\n",
              "</table>\n",
              "</div>\n",
              "      <button class=\"colab-df-convert\" onclick=\"convertToInteractive('df-62cdc869-3de7-4fbd-a121-d3039bd3c7f7')\"\n",
              "              title=\"Convert this dataframe to an interactive table.\"\n",
              "              style=\"display:none;\">\n",
              "        \n",
              "  <svg xmlns=\"http://www.w3.org/2000/svg\" height=\"24px\"viewBox=\"0 0 24 24\"\n",
              "       width=\"24px\">\n",
              "    <path d=\"M0 0h24v24H0V0z\" fill=\"none\"/>\n",
              "    <path d=\"M18.56 5.44l.94 2.06.94-2.06 2.06-.94-2.06-.94-.94-2.06-.94 2.06-2.06.94zm-11 1L8.5 8.5l.94-2.06 2.06-.94-2.06-.94L8.5 2.5l-.94 2.06-2.06.94zm10 10l.94 2.06.94-2.06 2.06-.94-2.06-.94-.94-2.06-.94 2.06-2.06.94z\"/><path d=\"M17.41 7.96l-1.37-1.37c-.4-.4-.92-.59-1.43-.59-.52 0-1.04.2-1.43.59L10.3 9.45l-7.72 7.72c-.78.78-.78 2.05 0 2.83L4 21.41c.39.39.9.59 1.41.59.51 0 1.02-.2 1.41-.59l7.78-7.78 2.81-2.81c.8-.78.8-2.07 0-2.86zM5.41 20L4 18.59l7.72-7.72 1.47 1.35L5.41 20z\"/>\n",
              "  </svg>\n",
              "      </button>\n",
              "      \n",
              "  <style>\n",
              "    .colab-df-container {\n",
              "      display:flex;\n",
              "      flex-wrap:wrap;\n",
              "      gap: 12px;\n",
              "    }\n",
              "\n",
              "    .colab-df-convert {\n",
              "      background-color: #E8F0FE;\n",
              "      border: none;\n",
              "      border-radius: 50%;\n",
              "      cursor: pointer;\n",
              "      display: none;\n",
              "      fill: #1967D2;\n",
              "      height: 32px;\n",
              "      padding: 0 0 0 0;\n",
              "      width: 32px;\n",
              "    }\n",
              "\n",
              "    .colab-df-convert:hover {\n",
              "      background-color: #E2EBFA;\n",
              "      box-shadow: 0px 1px 2px rgba(60, 64, 67, 0.3), 0px 1px 3px 1px rgba(60, 64, 67, 0.15);\n",
              "      fill: #174EA6;\n",
              "    }\n",
              "\n",
              "    [theme=dark] .colab-df-convert {\n",
              "      background-color: #3B4455;\n",
              "      fill: #D2E3FC;\n",
              "    }\n",
              "\n",
              "    [theme=dark] .colab-df-convert:hover {\n",
              "      background-color: #434B5C;\n",
              "      box-shadow: 0px 1px 3px 1px rgba(0, 0, 0, 0.15);\n",
              "      filter: drop-shadow(0px 1px 2px rgba(0, 0, 0, 0.3));\n",
              "      fill: #FFFFFF;\n",
              "    }\n",
              "  </style>\n",
              "\n",
              "      <script>\n",
              "        const buttonEl =\n",
              "          document.querySelector('#df-62cdc869-3de7-4fbd-a121-d3039bd3c7f7 button.colab-df-convert');\n",
              "        buttonEl.style.display =\n",
              "          google.colab.kernel.accessAllowed ? 'block' : 'none';\n",
              "\n",
              "        async function convertToInteractive(key) {\n",
              "          const element = document.querySelector('#df-62cdc869-3de7-4fbd-a121-d3039bd3c7f7');\n",
              "          const dataTable =\n",
              "            await google.colab.kernel.invokeFunction('convertToInteractive',\n",
              "                                                     [key], {});\n",
              "          if (!dataTable) return;\n",
              "\n",
              "          const docLinkHtml = 'Like what you see? Visit the ' +\n",
              "            '<a target=\"_blank\" href=https://colab.research.google.com/notebooks/data_table.ipynb>data table notebook</a>'\n",
              "            + ' to learn more about interactive tables.';\n",
              "          element.innerHTML = '';\n",
              "          dataTable['output_type'] = 'display_data';\n",
              "          await google.colab.output.renderOutput(dataTable, element);\n",
              "          const docLink = document.createElement('div');\n",
              "          docLink.innerHTML = docLinkHtml;\n",
              "          element.appendChild(docLink);\n",
              "        }\n",
              "      </script>\n",
              "    </div>\n",
              "  </div>\n",
              "  "
            ]
          },
          "metadata": {},
          "execution_count": 10
        }
      ]
    },
    {
      "cell_type": "code",
      "source": [
        "# Vérification de l'hypothèse des données agrégées\n",
        "somme_agregat = population[population['Country Code'].isin([96,128,41,214])]['Value'].sum()\n",
        "\n",
        "print(\n",
        "    'Valeur du code 351 :', '{:,}'.format(int(population[population['Country Code']==351]['Value'].sum())), '\\n',\n",
        "    'Somme des codes 96, 128, 41 et 214 :', '{:,}'.format(somme_agregat)\n",
        ")"
      ],
      "metadata": {
        "colab": {
          "base_uri": "https://localhost:8080/"
        },
        "id": "3nOl-zkTTDqe",
        "outputId": "1334ed43-19eb-4923-fde6-4d21498a0463"
      },
      "execution_count": 11,
      "outputs": [
        {
          "output_type": "stream",
          "name": "stdout",
          "text": [
            "Valeur du code 351 : 1,416,667,000 \n",
            " Somme des codes 96, 128, 41 et 214 : 1,416,667,000\n"
          ]
        }
      ]
    },
    {
      "cell_type": "code",
      "source": [
        "# Fonction de suppression de l'agrégat (code pays 351)\n",
        "def suppression_agregat(df, column):\n",
        "    df.drop(df[df[column]==351].index, inplace=True)\n",
        "    \n",
        "# Suppression de l'agrégat dans toutes les dataframes\n",
        "suppression_agregat(df=population, column='Country Code')\n",
        "suppression_agregat(df=animal_prep, column='Code Pays')\n",
        "suppression_agregat(df=vegetal_prep, column='Code Pays')\n",
        "suppression_agregat(df=sous_nutrition, column='Code zone')"
      ],
      "metadata": {
        "id": "8HDjJa53TFc0"
      },
      "execution_count": 18,
      "outputs": []
    },
    {
      "cell_type": "code",
      "source": [
        "# Vérification de la correction des données agrégées\n",
        "somme_agregat_verif = population[population['Country Code'].isin([96,128,41,214])]['Value'].sum()\n",
        "\n",
        "print(\n",
        "    'Valeur du code 351 :', '{:,}'.format(int(population[population['Country Code']==351]['Value'].sum())), '\\n',\n",
        "    'Somme des codes 96, 128, 41 et 214 :', '{:,}'.format(somme_agregat_verif)\n",
        ")"
      ],
      "metadata": {
        "colab": {
          "base_uri": "https://localhost:8080/"
        },
        "id": "U_KfaU7zTNT5",
        "outputId": "eeced133-707c-4645-f76c-01485708cb89"
      },
      "execution_count": 19,
      "outputs": [
        {
          "output_type": "stream",
          "name": "stdout",
          "text": [
            "Valeur du code 351 : 0 \n",
            " Somme des codes 96, 128, 41 et 214 : 1,416,667,000\n"
          ]
        }
      ]
    },
    {
      "cell_type": "code",
      "source": [
        "population_mondiale_corrigee = population.query('Item == \"Population\"')['Value'].sum()\n",
        "\n",
        "print(\n",
        "    'La population mondiale en 2013 : '\n",
        "    f'{round(population_mondiale_corrigee / 10**9, 3):,}', \"milliards d'habitants\",\n",
        ")"
      ],
      "metadata": {
        "colab": {
          "base_uri": "https://localhost:8080/"
        },
        "id": "KXocy600TGWN",
        "outputId": "64edb9c1-bed2-4647-a2dd-c51f15a7b54e"
      },
      "execution_count": 22,
      "outputs": [
        {
          "output_type": "stream",
          "name": "stdout",
          "text": [
            "La population mondiale en 2013 : 6.997 milliards d'habitants\n"
          ]
        }
      ]
    },
    {
      "cell_type": "markdown",
      "source": [
        "### Question 2\n",
        "Pour les datasets `animal`, `cereal` et `vegetal`, on considère ici les 11 quantités : Disponibilité intérieure, Production, Importations, Variation, Exportations, Nourriture, Aliments, Animaux, Semences, Pertes et Traitement.  \n",
        "Identifiez les redondances, en donnant votre réponse sous forme de formule mathématique (pas besoin de coder ici).  \n",
        "C'est une équation à 3 termes de type (a_1 + a2 + [...] = b_1 + b_2 + [...] = c_1 + c_2 + [...]) ) faisant intervenir chacune des 11 quantités données ci dessus.  \n",
        "Illustrez cette équation avec l'exemple du blé en France.\n"
      ],
      "metadata": {
        "id": "oklEYPocTfwv"
      }
    },
    {
      "cell_type": "code",
      "source": [
        "liste_quantite = ['Disponibilité intérieure', 'Production', 'Importations - Quantité', 'Variation de stock', 'Exportations - Quantité',\n",
        "                   'Nourriture', 'Aliments pour animaux', 'Semences', 'Pertes', 'Traitement', 'Autres Utilisations']\n",
        "\n",
        "vegetal_prep.query('Produit in (\"Blé\")\\\n",
        "              and Pays in (\"France\")\\\n",
        "              and Élément in @liste_quantite')"
      ],
      "metadata": {
        "colab": {
          "base_uri": "https://localhost:8080/",
          "height": 646
        },
        "id": "Zk2gXpymTcg8",
        "outputId": "d84c3e5f-8833-4b2f-e706-befd71812d29"
      },
      "execution_count": 23,
      "outputs": [
        {
          "output_type": "execute_result",
          "data": {
            "text/plain": [
              "      Code Domaine              Domaine  Code Pays    Pays  Code Élément  \\\n",
              "36006          FBS  Bilans Alimentaires         68  France          5511   \n",
              "36007          FBS  Bilans Alimentaires         68  France          5611   \n",
              "36008          FBS  Bilans Alimentaires         68  France          5072   \n",
              "36009          FBS  Bilans Alimentaires         68  France          5911   \n",
              "36010          FBS  Bilans Alimentaires         68  France          5301   \n",
              "36011          FBS  Bilans Alimentaires         68  France          5521   \n",
              "36012          FBS  Bilans Alimentaires         68  France          5527   \n",
              "36013          FBS  Bilans Alimentaires         68  France          5123   \n",
              "36014          FBS  Bilans Alimentaires         68  France          5131   \n",
              "36015          FBS  Bilans Alimentaires         68  France          5154   \n",
              "36016          FBS  Bilans Alimentaires         68  France          5142   \n",
              "\n",
              "                        Élément  Code Produit Produit  Code Année  Année  \\\n",
              "36006                Production          2511     Blé        2013   2013   \n",
              "36007   Importations - Quantité          2511     Blé        2013   2013   \n",
              "36008        Variation de stock          2511     Blé        2013   2013   \n",
              "36009   Exportations - Quantité          2511     Blé        2013   2013   \n",
              "36010  Disponibilité intérieure          2511     Blé        2013   2013   \n",
              "36011     Aliments pour animaux          2511     Blé        2013   2013   \n",
              "36012                  Semences          2511     Blé        2013   2013   \n",
              "36013                    Pertes          2511     Blé        2013   2013   \n",
              "36014                Traitement          2511     Blé        2013   2013   \n",
              "36015       Autres Utilisations          2511     Blé        2013   2013   \n",
              "36016                Nourriture          2511     Blé        2013   2013   \n",
              "\n",
              "      Unité        Valeur Symbole Description du Symbole  \n",
              "36006    kg  3.861400e+10       S  Données standardisées  \n",
              "36007    kg  2.055000e+09       S  Données standardisées  \n",
              "36008    kg  1.131000e+09       S  Données standardisées  \n",
              "36009    kg  2.150200e+10       S  Données standardisées  \n",
              "36010    kg  2.029800e+10       S  Données standardisées  \n",
              "36011    kg  7.822000e+09       S  Données standardisées  \n",
              "36012    kg  7.480000e+08       S  Données standardisées  \n",
              "36013    kg  3.580000e+08       S  Données standardisées  \n",
              "36014    kg  1.575000e+09       S  Données standardisées  \n",
              "36015    kg  2.824000e+09       S  Données standardisées  \n",
              "36016    kg  6.971000e+09       S  Données standardisées  "
            ],
            "text/html": [
              "\n",
              "  <div id=\"df-038b70a2-105a-4144-8bcf-26345e8956ca\">\n",
              "    <div class=\"colab-df-container\">\n",
              "      <div>\n",
              "<style scoped>\n",
              "    .dataframe tbody tr th:only-of-type {\n",
              "        vertical-align: middle;\n",
              "    }\n",
              "\n",
              "    .dataframe tbody tr th {\n",
              "        vertical-align: top;\n",
              "    }\n",
              "\n",
              "    .dataframe thead th {\n",
              "        text-align: right;\n",
              "    }\n",
              "</style>\n",
              "<table border=\"1\" class=\"dataframe\">\n",
              "  <thead>\n",
              "    <tr style=\"text-align: right;\">\n",
              "      <th></th>\n",
              "      <th>Code Domaine</th>\n",
              "      <th>Domaine</th>\n",
              "      <th>Code Pays</th>\n",
              "      <th>Pays</th>\n",
              "      <th>Code Élément</th>\n",
              "      <th>Élément</th>\n",
              "      <th>Code Produit</th>\n",
              "      <th>Produit</th>\n",
              "      <th>Code Année</th>\n",
              "      <th>Année</th>\n",
              "      <th>Unité</th>\n",
              "      <th>Valeur</th>\n",
              "      <th>Symbole</th>\n",
              "      <th>Description du Symbole</th>\n",
              "    </tr>\n",
              "  </thead>\n",
              "  <tbody>\n",
              "    <tr>\n",
              "      <th>36006</th>\n",
              "      <td>FBS</td>\n",
              "      <td>Bilans Alimentaires</td>\n",
              "      <td>68</td>\n",
              "      <td>France</td>\n",
              "      <td>5511</td>\n",
              "      <td>Production</td>\n",
              "      <td>2511</td>\n",
              "      <td>Blé</td>\n",
              "      <td>2013</td>\n",
              "      <td>2013</td>\n",
              "      <td>kg</td>\n",
              "      <td>3.861400e+10</td>\n",
              "      <td>S</td>\n",
              "      <td>Données standardisées</td>\n",
              "    </tr>\n",
              "    <tr>\n",
              "      <th>36007</th>\n",
              "      <td>FBS</td>\n",
              "      <td>Bilans Alimentaires</td>\n",
              "      <td>68</td>\n",
              "      <td>France</td>\n",
              "      <td>5611</td>\n",
              "      <td>Importations - Quantité</td>\n",
              "      <td>2511</td>\n",
              "      <td>Blé</td>\n",
              "      <td>2013</td>\n",
              "      <td>2013</td>\n",
              "      <td>kg</td>\n",
              "      <td>2.055000e+09</td>\n",
              "      <td>S</td>\n",
              "      <td>Données standardisées</td>\n",
              "    </tr>\n",
              "    <tr>\n",
              "      <th>36008</th>\n",
              "      <td>FBS</td>\n",
              "      <td>Bilans Alimentaires</td>\n",
              "      <td>68</td>\n",
              "      <td>France</td>\n",
              "      <td>5072</td>\n",
              "      <td>Variation de stock</td>\n",
              "      <td>2511</td>\n",
              "      <td>Blé</td>\n",
              "      <td>2013</td>\n",
              "      <td>2013</td>\n",
              "      <td>kg</td>\n",
              "      <td>1.131000e+09</td>\n",
              "      <td>S</td>\n",
              "      <td>Données standardisées</td>\n",
              "    </tr>\n",
              "    <tr>\n",
              "      <th>36009</th>\n",
              "      <td>FBS</td>\n",
              "      <td>Bilans Alimentaires</td>\n",
              "      <td>68</td>\n",
              "      <td>France</td>\n",
              "      <td>5911</td>\n",
              "      <td>Exportations - Quantité</td>\n",
              "      <td>2511</td>\n",
              "      <td>Blé</td>\n",
              "      <td>2013</td>\n",
              "      <td>2013</td>\n",
              "      <td>kg</td>\n",
              "      <td>2.150200e+10</td>\n",
              "      <td>S</td>\n",
              "      <td>Données standardisées</td>\n",
              "    </tr>\n",
              "    <tr>\n",
              "      <th>36010</th>\n",
              "      <td>FBS</td>\n",
              "      <td>Bilans Alimentaires</td>\n",
              "      <td>68</td>\n",
              "      <td>France</td>\n",
              "      <td>5301</td>\n",
              "      <td>Disponibilité intérieure</td>\n",
              "      <td>2511</td>\n",
              "      <td>Blé</td>\n",
              "      <td>2013</td>\n",
              "      <td>2013</td>\n",
              "      <td>kg</td>\n",
              "      <td>2.029800e+10</td>\n",
              "      <td>S</td>\n",
              "      <td>Données standardisées</td>\n",
              "    </tr>\n",
              "    <tr>\n",
              "      <th>36011</th>\n",
              "      <td>FBS</td>\n",
              "      <td>Bilans Alimentaires</td>\n",
              "      <td>68</td>\n",
              "      <td>France</td>\n",
              "      <td>5521</td>\n",
              "      <td>Aliments pour animaux</td>\n",
              "      <td>2511</td>\n",
              "      <td>Blé</td>\n",
              "      <td>2013</td>\n",
              "      <td>2013</td>\n",
              "      <td>kg</td>\n",
              "      <td>7.822000e+09</td>\n",
              "      <td>S</td>\n",
              "      <td>Données standardisées</td>\n",
              "    </tr>\n",
              "    <tr>\n",
              "      <th>36012</th>\n",
              "      <td>FBS</td>\n",
              "      <td>Bilans Alimentaires</td>\n",
              "      <td>68</td>\n",
              "      <td>France</td>\n",
              "      <td>5527</td>\n",
              "      <td>Semences</td>\n",
              "      <td>2511</td>\n",
              "      <td>Blé</td>\n",
              "      <td>2013</td>\n",
              "      <td>2013</td>\n",
              "      <td>kg</td>\n",
              "      <td>7.480000e+08</td>\n",
              "      <td>S</td>\n",
              "      <td>Données standardisées</td>\n",
              "    </tr>\n",
              "    <tr>\n",
              "      <th>36013</th>\n",
              "      <td>FBS</td>\n",
              "      <td>Bilans Alimentaires</td>\n",
              "      <td>68</td>\n",
              "      <td>France</td>\n",
              "      <td>5123</td>\n",
              "      <td>Pertes</td>\n",
              "      <td>2511</td>\n",
              "      <td>Blé</td>\n",
              "      <td>2013</td>\n",
              "      <td>2013</td>\n",
              "      <td>kg</td>\n",
              "      <td>3.580000e+08</td>\n",
              "      <td>S</td>\n",
              "      <td>Données standardisées</td>\n",
              "    </tr>\n",
              "    <tr>\n",
              "      <th>36014</th>\n",
              "      <td>FBS</td>\n",
              "      <td>Bilans Alimentaires</td>\n",
              "      <td>68</td>\n",
              "      <td>France</td>\n",
              "      <td>5131</td>\n",
              "      <td>Traitement</td>\n",
              "      <td>2511</td>\n",
              "      <td>Blé</td>\n",
              "      <td>2013</td>\n",
              "      <td>2013</td>\n",
              "      <td>kg</td>\n",
              "      <td>1.575000e+09</td>\n",
              "      <td>S</td>\n",
              "      <td>Données standardisées</td>\n",
              "    </tr>\n",
              "    <tr>\n",
              "      <th>36015</th>\n",
              "      <td>FBS</td>\n",
              "      <td>Bilans Alimentaires</td>\n",
              "      <td>68</td>\n",
              "      <td>France</td>\n",
              "      <td>5154</td>\n",
              "      <td>Autres Utilisations</td>\n",
              "      <td>2511</td>\n",
              "      <td>Blé</td>\n",
              "      <td>2013</td>\n",
              "      <td>2013</td>\n",
              "      <td>kg</td>\n",
              "      <td>2.824000e+09</td>\n",
              "      <td>S</td>\n",
              "      <td>Données standardisées</td>\n",
              "    </tr>\n",
              "    <tr>\n",
              "      <th>36016</th>\n",
              "      <td>FBS</td>\n",
              "      <td>Bilans Alimentaires</td>\n",
              "      <td>68</td>\n",
              "      <td>France</td>\n",
              "      <td>5142</td>\n",
              "      <td>Nourriture</td>\n",
              "      <td>2511</td>\n",
              "      <td>Blé</td>\n",
              "      <td>2013</td>\n",
              "      <td>2013</td>\n",
              "      <td>kg</td>\n",
              "      <td>6.971000e+09</td>\n",
              "      <td>S</td>\n",
              "      <td>Données standardisées</td>\n",
              "    </tr>\n",
              "  </tbody>\n",
              "</table>\n",
              "</div>\n",
              "      <button class=\"colab-df-convert\" onclick=\"convertToInteractive('df-038b70a2-105a-4144-8bcf-26345e8956ca')\"\n",
              "              title=\"Convert this dataframe to an interactive table.\"\n",
              "              style=\"display:none;\">\n",
              "        \n",
              "  <svg xmlns=\"http://www.w3.org/2000/svg\" height=\"24px\"viewBox=\"0 0 24 24\"\n",
              "       width=\"24px\">\n",
              "    <path d=\"M0 0h24v24H0V0z\" fill=\"none\"/>\n",
              "    <path d=\"M18.56 5.44l.94 2.06.94-2.06 2.06-.94-2.06-.94-.94-2.06-.94 2.06-2.06.94zm-11 1L8.5 8.5l.94-2.06 2.06-.94-2.06-.94L8.5 2.5l-.94 2.06-2.06.94zm10 10l.94 2.06.94-2.06 2.06-.94-2.06-.94-.94-2.06-.94 2.06-2.06.94z\"/><path d=\"M17.41 7.96l-1.37-1.37c-.4-.4-.92-.59-1.43-.59-.52 0-1.04.2-1.43.59L10.3 9.45l-7.72 7.72c-.78.78-.78 2.05 0 2.83L4 21.41c.39.39.9.59 1.41.59.51 0 1.02-.2 1.41-.59l7.78-7.78 2.81-2.81c.8-.78.8-2.07 0-2.86zM5.41 20L4 18.59l7.72-7.72 1.47 1.35L5.41 20z\"/>\n",
              "  </svg>\n",
              "      </button>\n",
              "      \n",
              "  <style>\n",
              "    .colab-df-container {\n",
              "      display:flex;\n",
              "      flex-wrap:wrap;\n",
              "      gap: 12px;\n",
              "    }\n",
              "\n",
              "    .colab-df-convert {\n",
              "      background-color: #E8F0FE;\n",
              "      border: none;\n",
              "      border-radius: 50%;\n",
              "      cursor: pointer;\n",
              "      display: none;\n",
              "      fill: #1967D2;\n",
              "      height: 32px;\n",
              "      padding: 0 0 0 0;\n",
              "      width: 32px;\n",
              "    }\n",
              "\n",
              "    .colab-df-convert:hover {\n",
              "      background-color: #E2EBFA;\n",
              "      box-shadow: 0px 1px 2px rgba(60, 64, 67, 0.3), 0px 1px 3px 1px rgba(60, 64, 67, 0.15);\n",
              "      fill: #174EA6;\n",
              "    }\n",
              "\n",
              "    [theme=dark] .colab-df-convert {\n",
              "      background-color: #3B4455;\n",
              "      fill: #D2E3FC;\n",
              "    }\n",
              "\n",
              "    [theme=dark] .colab-df-convert:hover {\n",
              "      background-color: #434B5C;\n",
              "      box-shadow: 0px 1px 3px 1px rgba(0, 0, 0, 0.15);\n",
              "      filter: drop-shadow(0px 1px 2px rgba(0, 0, 0, 0.3));\n",
              "      fill: #FFFFFF;\n",
              "    }\n",
              "  </style>\n",
              "\n",
              "      <script>\n",
              "        const buttonEl =\n",
              "          document.querySelector('#df-038b70a2-105a-4144-8bcf-26345e8956ca button.colab-df-convert');\n",
              "        buttonEl.style.display =\n",
              "          google.colab.kernel.accessAllowed ? 'block' : 'none';\n",
              "\n",
              "        async function convertToInteractive(key) {\n",
              "          const element = document.querySelector('#df-038b70a2-105a-4144-8bcf-26345e8956ca');\n",
              "          const dataTable =\n",
              "            await google.colab.kernel.invokeFunction('convertToInteractive',\n",
              "                                                     [key], {});\n",
              "          if (!dataTable) return;\n",
              "\n",
              "          const docLinkHtml = 'Like what you see? Visit the ' +\n",
              "            '<a target=\"_blank\" href=https://colab.research.google.com/notebooks/data_table.ipynb>data table notebook</a>'\n",
              "            + ' to learn more about interactive tables.';\n",
              "          element.innerHTML = '';\n",
              "          dataTable['output_type'] = 'display_data';\n",
              "          await google.colab.output.renderOutput(dataTable, element);\n",
              "          const docLink = document.createElement('div');\n",
              "          docLink.innerHTML = docLinkHtml;\n",
              "          element.appendChild(docLink);\n",
              "        }\n",
              "      </script>\n",
              "    </div>\n",
              "  </div>\n",
              "  "
            ]
          },
          "metadata": {},
          "execution_count": 23
        }
      ]
    },
    {
      "cell_type": "markdown",
      "source": [
        "La redondance d'informations peut s'exprimer de la manière suivante :\n",
        "- Disponibilité intérieure = \n",
        "- Production + Importations + Variation de stock - Exportations' = \n",
        "- Nourriture + Aliments pour animaux + Semences + Pertes + Traitement + Autres Utilisations\n",
        "\n",
        "Vérification par calcul :"
      ],
      "metadata": {
        "id": "rtywDOXpTlN8"
      }
    },
    {
      "cell_type": "code",
      "source": [
        "liste_equil_eco_pos = ['Production', 'Importations - Quantité', 'Variation de stock']\n",
        "liste_equil_eco_neg = ['Exportations - Quantité']\n",
        "liste_usage = ['Nourriture', 'Aliments pour animaux', 'Semences', 'Pertes', 'Traitement', 'Autres Utilisations']                   \n",
        "\n",
        "print(\n",
        "    '''Blé - France : Disponibilité intérieure = ''' \n",
        "    f'''{round(vegetal_prep.query('Produit in (\"Blé\") and Pays in (\"France\") and Élément in \"Disponibilité intérieure\"').Valeur.sum() / 1e3)}''', \"Tonnes\",\n",
        "    '\\n'\n",
        "    '''Blé - France : Equilibre économique : ''' \n",
        "    f'''{round(vegetal_prep.query('Produit in (\"Blé\") and Pays in (\"France\") and Élément in @liste_equil_eco_pos').Valeur.sum()/1e3 -\n",
        "               vegetal_prep.query('Produit in (\"Blé\") and Pays in (\"France\") and Élément in @liste_equil_eco_neg').Valeur.sum()/1e3)}''', \"Tonnes\"\n",
        "    '\\n'\n",
        "    '''Blé - France : Usage = ''' \n",
        "    f'''{round(vegetal_prep.query('Produit in (\"Blé\") and Pays in (\"France\") and Élément in @liste_usage').Valeur.sum()/ 1e3)}''', \"Tonnes\"\n",
        ")"
      ],
      "metadata": {
        "colab": {
          "base_uri": "https://localhost:8080/"
        },
        "id": "KPpojIdATc6M",
        "outputId": "0e7908ca-2b7f-4dc8-9c6f-04198fd40a50"
      },
      "execution_count": 24,
      "outputs": [
        {
          "output_type": "stream",
          "name": "stdout",
          "text": [
            "Blé - France : Disponibilité intérieure = 20298000 Tonnes \n",
            "Blé - France : Equilibre économique : 20298000 Tonnes\n",
            "Blé - France : Usage = 20298000 Tonnes\n"
          ]
        }
      ]
    },
    {
      "cell_type": "markdown",
      "source": [
        "### Question 3\n",
        "Calculez (pour chaque pays et chaque produit) la disponibilité alimentaire en kcal par an puis en kg de protéines par an. Vous ferez cela à partir de ces informations :\n",
        "- Population de chaque pays\n",
        "- Disponibilité alimentaire donnée pour chaque produit et pour chaque pays en kcal/personne/jour,\n",
        "- Disponibilité alimentaire en protéines donnée pour chaque produit et pour chaque pays en g/personne/jour.\n",
        "\n",
        "Pour cette étape vous avez besoin de constituer une seule et même table à partir des tables animaux, végétaux et population. Nommer cette nouvelle table « aliments »."
      ],
      "metadata": {
        "id": "LZKnE7nfTpI9"
      }
    },
    {
      "cell_type": "markdown",
      "source": [
        "#### Préparation de la table"
      ],
      "metadata": {
        "id": "SS60lplTTq_G"
      }
    },
    {
      "cell_type": "code",
      "source": [
        "# Ajout d'une colonne 'Origine' dans animaux et vegetaux\n",
        "animal_prep['Origine'] = 'Animale'\n",
        "vegetal_prep['Origine'] = 'Végétale'\n",
        "\n",
        "# Union de Végétaux et Animaux\n",
        "aliments = pd.concat([vegetal_prep, animal_prep])\n",
        "\n",
        "# Projection\n",
        "aliments = aliments[[\n",
        "    'Pays',\n",
        "    'Code Pays',\n",
        "    'Produit',\n",
        "    'Code Produit',\n",
        "    'Origine',\n",
        "    'Élément',\n",
        "    'Valeur',\n",
        "    'Année'\n",
        "]]\n",
        "\n",
        "# Table pivot sur aliments\n",
        "aliments = aliments.pivot_table('Valeur', index=['Code Pays','Pays','Produit','Code Produit','Année','Origine'], columns='Élément')\n",
        "\n",
        "# Reset index\n",
        "aliments.reset_index(inplace=True)\n",
        "\n",
        "# Joindre population et aliments\n",
        "aliments = pd.merge(aliments, population[['Country Code', 'Value']], left_on='Code Pays', right_on='Country Code')\n",
        "\n",
        "# Suppression de la colonne Country car inutile\n",
        "aliments.drop('Country Code', axis=1, inplace=True)\n",
        "\n",
        "# # Renommer les colonnes\n",
        "aliments.rename(columns={\n",
        "     'Value' : 'Population'\n",
        "}, inplace=True)\n",
        "\n",
        "# Remplacer les Nan\n",
        "aliments.replace(np.nan, 0, inplace=True)\n",
        "\n",
        "# Affichage\n",
        "print('Résultat : ', aliments.shape[1], 'colonnes, ', aliments.shape[0], 'lignes')\n",
        "aliments.head()"
      ],
      "metadata": {
        "colab": {
          "base_uri": "https://localhost:8080/",
          "height": 456
        },
        "id": "SHfxckiRTmhL",
        "outputId": "211a1f6b-f481-46c8-f9f9-8c4817abeb74"
      },
      "execution_count": 26,
      "outputs": [
        {
          "output_type": "stream",
          "name": "stdout",
          "text": [
            "Résultat :  22 colonnes,  15605 lignes\n"
          ]
        },
        {
          "output_type": "execute_result",
          "data": {
            "text/plain": [
              "   Code Pays     Pays                 Produit  Code Produit  Année   Origine  \\\n",
              "0          1  Arménie        Abats Comestible          2736   2013   Animale   \n",
              "1          1  Arménie         Agrumes, Autres          2614   2013  Végétale   \n",
              "2          1  Arménie  Alcool, non Comestible          2659   2013  Végétale   \n",
              "3          1  Arménie   Aliments pour enfants          2680   2013  Végétale   \n",
              "4          1  Arménie                  Ananas          2618   2013  Végétale   \n",
              "\n",
              "   Aliments pour animaux  Autres Utilisations  \\\n",
              "0                    0.0            3000000.0   \n",
              "1                    0.0                  0.0   \n",
              "2                    0.0                  0.0   \n",
              "3                    0.0                  0.0   \n",
              "4                    0.0                  0.0   \n",
              "\n",
              "   Disponibilité alimentaire (Kcal/personne/jour)  \\\n",
              "0                                            14.0   \n",
              "1                                             0.0   \n",
              "2                                             0.0   \n",
              "3                                             2.0   \n",
              "4                                             0.0   \n",
              "\n",
              "   Disponibilité alimentaire en quantité (kg/personne/an)  ...  \\\n",
              "0                                               4.59       ...   \n",
              "1                                               0.46       ...   \n",
              "2                                               0.00       ...   \n",
              "3                                               0.16       ...   \n",
              "4                                               0.16       ...   \n",
              "\n",
              "   Disponibilité intérieure  Exportations - Quantité  Importations - Quantité  \\\n",
              "0                17000000.0                      0.0                2000000.0   \n",
              "1                 1000000.0                      0.0                1000000.0   \n",
              "2                       0.0                3000000.0                1000000.0   \n",
              "3                       0.0                      0.0                      0.0   \n",
              "4                       0.0                      0.0                1000000.0   \n",
              "\n",
              "   Nourriture  Pertes  Production  Semences  Traitement  Variation de stock  \\\n",
              "0  14000000.0     0.0  15000000.0       0.0         0.0                 0.0   \n",
              "1   1000000.0     0.0         0.0       0.0         0.0                 0.0   \n",
              "2         0.0     0.0   3000000.0       0.0         0.0                 0.0   \n",
              "3         0.0     0.0         0.0       0.0         0.0                 0.0   \n",
              "4         0.0     0.0         0.0       0.0         0.0                 0.0   \n",
              "\n",
              "   Population  \n",
              "0     2977000  \n",
              "1     2977000  \n",
              "2     2977000  \n",
              "3     2977000  \n",
              "4     2977000  \n",
              "\n",
              "[5 rows x 22 columns]"
            ],
            "text/html": [
              "\n",
              "  <div id=\"df-32419e24-f9f2-4d19-82d9-66e9e317799b\">\n",
              "    <div class=\"colab-df-container\">\n",
              "      <div>\n",
              "<style scoped>\n",
              "    .dataframe tbody tr th:only-of-type {\n",
              "        vertical-align: middle;\n",
              "    }\n",
              "\n",
              "    .dataframe tbody tr th {\n",
              "        vertical-align: top;\n",
              "    }\n",
              "\n",
              "    .dataframe thead th {\n",
              "        text-align: right;\n",
              "    }\n",
              "</style>\n",
              "<table border=\"1\" class=\"dataframe\">\n",
              "  <thead>\n",
              "    <tr style=\"text-align: right;\">\n",
              "      <th></th>\n",
              "      <th>Code Pays</th>\n",
              "      <th>Pays</th>\n",
              "      <th>Produit</th>\n",
              "      <th>Code Produit</th>\n",
              "      <th>Année</th>\n",
              "      <th>Origine</th>\n",
              "      <th>Aliments pour animaux</th>\n",
              "      <th>Autres Utilisations</th>\n",
              "      <th>Disponibilité alimentaire (Kcal/personne/jour)</th>\n",
              "      <th>Disponibilité alimentaire en quantité (kg/personne/an)</th>\n",
              "      <th>...</th>\n",
              "      <th>Disponibilité intérieure</th>\n",
              "      <th>Exportations - Quantité</th>\n",
              "      <th>Importations - Quantité</th>\n",
              "      <th>Nourriture</th>\n",
              "      <th>Pertes</th>\n",
              "      <th>Production</th>\n",
              "      <th>Semences</th>\n",
              "      <th>Traitement</th>\n",
              "      <th>Variation de stock</th>\n",
              "      <th>Population</th>\n",
              "    </tr>\n",
              "  </thead>\n",
              "  <tbody>\n",
              "    <tr>\n",
              "      <th>0</th>\n",
              "      <td>1</td>\n",
              "      <td>Arménie</td>\n",
              "      <td>Abats Comestible</td>\n",
              "      <td>2736</td>\n",
              "      <td>2013</td>\n",
              "      <td>Animale</td>\n",
              "      <td>0.0</td>\n",
              "      <td>3000000.0</td>\n",
              "      <td>14.0</td>\n",
              "      <td>4.59</td>\n",
              "      <td>...</td>\n",
              "      <td>17000000.0</td>\n",
              "      <td>0.0</td>\n",
              "      <td>2000000.0</td>\n",
              "      <td>14000000.0</td>\n",
              "      <td>0.0</td>\n",
              "      <td>15000000.0</td>\n",
              "      <td>0.0</td>\n",
              "      <td>0.0</td>\n",
              "      <td>0.0</td>\n",
              "      <td>2977000</td>\n",
              "    </tr>\n",
              "    <tr>\n",
              "      <th>1</th>\n",
              "      <td>1</td>\n",
              "      <td>Arménie</td>\n",
              "      <td>Agrumes, Autres</td>\n",
              "      <td>2614</td>\n",
              "      <td>2013</td>\n",
              "      <td>Végétale</td>\n",
              "      <td>0.0</td>\n",
              "      <td>0.0</td>\n",
              "      <td>0.0</td>\n",
              "      <td>0.46</td>\n",
              "      <td>...</td>\n",
              "      <td>1000000.0</td>\n",
              "      <td>0.0</td>\n",
              "      <td>1000000.0</td>\n",
              "      <td>1000000.0</td>\n",
              "      <td>0.0</td>\n",
              "      <td>0.0</td>\n",
              "      <td>0.0</td>\n",
              "      <td>0.0</td>\n",
              "      <td>0.0</td>\n",
              "      <td>2977000</td>\n",
              "    </tr>\n",
              "    <tr>\n",
              "      <th>2</th>\n",
              "      <td>1</td>\n",
              "      <td>Arménie</td>\n",
              "      <td>Alcool, non Comestible</td>\n",
              "      <td>2659</td>\n",
              "      <td>2013</td>\n",
              "      <td>Végétale</td>\n",
              "      <td>0.0</td>\n",
              "      <td>0.0</td>\n",
              "      <td>0.0</td>\n",
              "      <td>0.00</td>\n",
              "      <td>...</td>\n",
              "      <td>0.0</td>\n",
              "      <td>3000000.0</td>\n",
              "      <td>1000000.0</td>\n",
              "      <td>0.0</td>\n",
              "      <td>0.0</td>\n",
              "      <td>3000000.0</td>\n",
              "      <td>0.0</td>\n",
              "      <td>0.0</td>\n",
              "      <td>0.0</td>\n",
              "      <td>2977000</td>\n",
              "    </tr>\n",
              "    <tr>\n",
              "      <th>3</th>\n",
              "      <td>1</td>\n",
              "      <td>Arménie</td>\n",
              "      <td>Aliments pour enfants</td>\n",
              "      <td>2680</td>\n",
              "      <td>2013</td>\n",
              "      <td>Végétale</td>\n",
              "      <td>0.0</td>\n",
              "      <td>0.0</td>\n",
              "      <td>2.0</td>\n",
              "      <td>0.16</td>\n",
              "      <td>...</td>\n",
              "      <td>0.0</td>\n",
              "      <td>0.0</td>\n",
              "      <td>0.0</td>\n",
              "      <td>0.0</td>\n",
              "      <td>0.0</td>\n",
              "      <td>0.0</td>\n",
              "      <td>0.0</td>\n",
              "      <td>0.0</td>\n",
              "      <td>0.0</td>\n",
              "      <td>2977000</td>\n",
              "    </tr>\n",
              "    <tr>\n",
              "      <th>4</th>\n",
              "      <td>1</td>\n",
              "      <td>Arménie</td>\n",
              "      <td>Ananas</td>\n",
              "      <td>2618</td>\n",
              "      <td>2013</td>\n",
              "      <td>Végétale</td>\n",
              "      <td>0.0</td>\n",
              "      <td>0.0</td>\n",
              "      <td>0.0</td>\n",
              "      <td>0.16</td>\n",
              "      <td>...</td>\n",
              "      <td>0.0</td>\n",
              "      <td>0.0</td>\n",
              "      <td>1000000.0</td>\n",
              "      <td>0.0</td>\n",
              "      <td>0.0</td>\n",
              "      <td>0.0</td>\n",
              "      <td>0.0</td>\n",
              "      <td>0.0</td>\n",
              "      <td>0.0</td>\n",
              "      <td>2977000</td>\n",
              "    </tr>\n",
              "  </tbody>\n",
              "</table>\n",
              "<p>5 rows × 22 columns</p>\n",
              "</div>\n",
              "      <button class=\"colab-df-convert\" onclick=\"convertToInteractive('df-32419e24-f9f2-4d19-82d9-66e9e317799b')\"\n",
              "              title=\"Convert this dataframe to an interactive table.\"\n",
              "              style=\"display:none;\">\n",
              "        \n",
              "  <svg xmlns=\"http://www.w3.org/2000/svg\" height=\"24px\"viewBox=\"0 0 24 24\"\n",
              "       width=\"24px\">\n",
              "    <path d=\"M0 0h24v24H0V0z\" fill=\"none\"/>\n",
              "    <path d=\"M18.56 5.44l.94 2.06.94-2.06 2.06-.94-2.06-.94-.94-2.06-.94 2.06-2.06.94zm-11 1L8.5 8.5l.94-2.06 2.06-.94-2.06-.94L8.5 2.5l-.94 2.06-2.06.94zm10 10l.94 2.06.94-2.06 2.06-.94-2.06-.94-.94-2.06-.94 2.06-2.06.94z\"/><path d=\"M17.41 7.96l-1.37-1.37c-.4-.4-.92-.59-1.43-.59-.52 0-1.04.2-1.43.59L10.3 9.45l-7.72 7.72c-.78.78-.78 2.05 0 2.83L4 21.41c.39.39.9.59 1.41.59.51 0 1.02-.2 1.41-.59l7.78-7.78 2.81-2.81c.8-.78.8-2.07 0-2.86zM5.41 20L4 18.59l7.72-7.72 1.47 1.35L5.41 20z\"/>\n",
              "  </svg>\n",
              "      </button>\n",
              "      \n",
              "  <style>\n",
              "    .colab-df-container {\n",
              "      display:flex;\n",
              "      flex-wrap:wrap;\n",
              "      gap: 12px;\n",
              "    }\n",
              "\n",
              "    .colab-df-convert {\n",
              "      background-color: #E8F0FE;\n",
              "      border: none;\n",
              "      border-radius: 50%;\n",
              "      cursor: pointer;\n",
              "      display: none;\n",
              "      fill: #1967D2;\n",
              "      height: 32px;\n",
              "      padding: 0 0 0 0;\n",
              "      width: 32px;\n",
              "    }\n",
              "\n",
              "    .colab-df-convert:hover {\n",
              "      background-color: #E2EBFA;\n",
              "      box-shadow: 0px 1px 2px rgba(60, 64, 67, 0.3), 0px 1px 3px 1px rgba(60, 64, 67, 0.15);\n",
              "      fill: #174EA6;\n",
              "    }\n",
              "\n",
              "    [theme=dark] .colab-df-convert {\n",
              "      background-color: #3B4455;\n",
              "      fill: #D2E3FC;\n",
              "    }\n",
              "\n",
              "    [theme=dark] .colab-df-convert:hover {\n",
              "      background-color: #434B5C;\n",
              "      box-shadow: 0px 1px 3px 1px rgba(0, 0, 0, 0.15);\n",
              "      filter: drop-shadow(0px 1px 2px rgba(0, 0, 0, 0.3));\n",
              "      fill: #FFFFFF;\n",
              "    }\n",
              "  </style>\n",
              "\n",
              "      <script>\n",
              "        const buttonEl =\n",
              "          document.querySelector('#df-32419e24-f9f2-4d19-82d9-66e9e317799b button.colab-df-convert');\n",
              "        buttonEl.style.display =\n",
              "          google.colab.kernel.accessAllowed ? 'block' : 'none';\n",
              "\n",
              "        async function convertToInteractive(key) {\n",
              "          const element = document.querySelector('#df-32419e24-f9f2-4d19-82d9-66e9e317799b');\n",
              "          const dataTable =\n",
              "            await google.colab.kernel.invokeFunction('convertToInteractive',\n",
              "                                                     [key], {});\n",
              "          if (!dataTable) return;\n",
              "\n",
              "          const docLinkHtml = 'Like what you see? Visit the ' +\n",
              "            '<a target=\"_blank\" href=https://colab.research.google.com/notebooks/data_table.ipynb>data table notebook</a>'\n",
              "            + ' to learn more about interactive tables.';\n",
              "          element.innerHTML = '';\n",
              "          dataTable['output_type'] = 'display_data';\n",
              "          await google.colab.output.renderOutput(dataTable, element);\n",
              "          const docLink = document.createElement('div');\n",
              "          docLink.innerHTML = docLinkHtml;\n",
              "          element.appendChild(docLink);\n",
              "        }\n",
              "      </script>\n",
              "    </div>\n",
              "  </div>\n",
              "  "
            ]
          },
          "metadata": {},
          "execution_count": 26
        }
      ]
    },
    {
      "cell_type": "markdown",
      "source": [
        "#### Intégration des 2 nouvelles colonnes\n",
        "- disponibilité alimentaire en kcal par an \n",
        "- disponibilité alimentaire en kg de protéines par an"
      ],
      "metadata": {
        "id": "9JwRWfF9TxwF"
      }
    },
    {
      "cell_type": "code",
      "source": [
        "#Ajout des Series \"Disponibilités alimentaire en Kcal et kg\"\n",
        "aliments['Disponibilité alimentaire (Kcal/an)'] = aliments['Disponibilité alimentaire (Kcal/personne/jour)'] * 365 * aliments['Population'] \n",
        "aliments['Disponibilité alimentaire en quantité (kg/an)'] = aliments['Disponibilité alimentaire en quantité (kg/personne/an)'] * aliments['Population']\n",
        "\n",
        "#\"Disponibilités protéines en Kg\"\n",
        "aliments['Disponibilité de protéines en quantité (kg/an)'] = aliments['Disponibilité de protéines en quantité (kg/personne/jour)'] * 365 * aliments['Population']\n",
        "\n",
        "aliments.head()"
      ],
      "metadata": {
        "colab": {
          "base_uri": "https://localhost:8080/",
          "height": 438
        },
        "id": "tzrfwtymTsMj",
        "outputId": "9acc90dc-5770-4d5f-f90e-a35cae95a1b8"
      },
      "execution_count": 27,
      "outputs": [
        {
          "output_type": "execute_result",
          "data": {
            "text/plain": [
              "   Code Pays     Pays                 Produit  Code Produit  Année   Origine  \\\n",
              "0          1  Arménie        Abats Comestible          2736   2013   Animale   \n",
              "1          1  Arménie         Agrumes, Autres          2614   2013  Végétale   \n",
              "2          1  Arménie  Alcool, non Comestible          2659   2013  Végétale   \n",
              "3          1  Arménie   Aliments pour enfants          2680   2013  Végétale   \n",
              "4          1  Arménie                  Ananas          2618   2013  Végétale   \n",
              "\n",
              "   Aliments pour animaux  Autres Utilisations  \\\n",
              "0                    0.0            3000000.0   \n",
              "1                    0.0                  0.0   \n",
              "2                    0.0                  0.0   \n",
              "3                    0.0                  0.0   \n",
              "4                    0.0                  0.0   \n",
              "\n",
              "   Disponibilité alimentaire (Kcal/personne/jour)  \\\n",
              "0                                            14.0   \n",
              "1                                             0.0   \n",
              "2                                             0.0   \n",
              "3                                             2.0   \n",
              "4                                             0.0   \n",
              "\n",
              "   Disponibilité alimentaire en quantité (kg/personne/an)  ...  Nourriture  \\\n",
              "0                                               4.59       ...  14000000.0   \n",
              "1                                               0.46       ...   1000000.0   \n",
              "2                                               0.00       ...         0.0   \n",
              "3                                               0.16       ...         0.0   \n",
              "4                                               0.16       ...         0.0   \n",
              "\n",
              "   Pertes  Production  Semences  Traitement  Variation de stock  Population  \\\n",
              "0     0.0  15000000.0       0.0         0.0                 0.0     2977000   \n",
              "1     0.0         0.0       0.0         0.0                 0.0     2977000   \n",
              "2     0.0   3000000.0       0.0         0.0                 0.0     2977000   \n",
              "3     0.0         0.0       0.0         0.0                 0.0     2977000   \n",
              "4     0.0         0.0       0.0         0.0                 0.0     2977000   \n",
              "\n",
              "   Disponibilité alimentaire (Kcal/an)  \\\n",
              "0                         1.521247e+10   \n",
              "1                         0.000000e+00   \n",
              "2                         0.000000e+00   \n",
              "3                         2.173210e+09   \n",
              "4                         0.000000e+00   \n",
              "\n",
              "   Disponibilité alimentaire en quantité (kg/an)  \\\n",
              "0                                     13664430.0   \n",
              "1                                      1369420.0   \n",
              "2                                            0.0   \n",
              "3                                       476320.0   \n",
              "4                                       476320.0   \n",
              "\n",
              "   Disponibilité de protéines en quantité (kg/an)  \n",
              "0                                      2444861.25  \n",
              "1                                        10866.05  \n",
              "2                                            0.00  \n",
              "3                                        76062.35  \n",
              "4                                            0.00  \n",
              "\n",
              "[5 rows x 25 columns]"
            ],
            "text/html": [
              "\n",
              "  <div id=\"df-ec372e1e-5e39-4499-947f-d1962a48ea13\">\n",
              "    <div class=\"colab-df-container\">\n",
              "      <div>\n",
              "<style scoped>\n",
              "    .dataframe tbody tr th:only-of-type {\n",
              "        vertical-align: middle;\n",
              "    }\n",
              "\n",
              "    .dataframe tbody tr th {\n",
              "        vertical-align: top;\n",
              "    }\n",
              "\n",
              "    .dataframe thead th {\n",
              "        text-align: right;\n",
              "    }\n",
              "</style>\n",
              "<table border=\"1\" class=\"dataframe\">\n",
              "  <thead>\n",
              "    <tr style=\"text-align: right;\">\n",
              "      <th></th>\n",
              "      <th>Code Pays</th>\n",
              "      <th>Pays</th>\n",
              "      <th>Produit</th>\n",
              "      <th>Code Produit</th>\n",
              "      <th>Année</th>\n",
              "      <th>Origine</th>\n",
              "      <th>Aliments pour animaux</th>\n",
              "      <th>Autres Utilisations</th>\n",
              "      <th>Disponibilité alimentaire (Kcal/personne/jour)</th>\n",
              "      <th>Disponibilité alimentaire en quantité (kg/personne/an)</th>\n",
              "      <th>...</th>\n",
              "      <th>Nourriture</th>\n",
              "      <th>Pertes</th>\n",
              "      <th>Production</th>\n",
              "      <th>Semences</th>\n",
              "      <th>Traitement</th>\n",
              "      <th>Variation de stock</th>\n",
              "      <th>Population</th>\n",
              "      <th>Disponibilité alimentaire (Kcal/an)</th>\n",
              "      <th>Disponibilité alimentaire en quantité (kg/an)</th>\n",
              "      <th>Disponibilité de protéines en quantité (kg/an)</th>\n",
              "    </tr>\n",
              "  </thead>\n",
              "  <tbody>\n",
              "    <tr>\n",
              "      <th>0</th>\n",
              "      <td>1</td>\n",
              "      <td>Arménie</td>\n",
              "      <td>Abats Comestible</td>\n",
              "      <td>2736</td>\n",
              "      <td>2013</td>\n",
              "      <td>Animale</td>\n",
              "      <td>0.0</td>\n",
              "      <td>3000000.0</td>\n",
              "      <td>14.0</td>\n",
              "      <td>4.59</td>\n",
              "      <td>...</td>\n",
              "      <td>14000000.0</td>\n",
              "      <td>0.0</td>\n",
              "      <td>15000000.0</td>\n",
              "      <td>0.0</td>\n",
              "      <td>0.0</td>\n",
              "      <td>0.0</td>\n",
              "      <td>2977000</td>\n",
              "      <td>1.521247e+10</td>\n",
              "      <td>13664430.0</td>\n",
              "      <td>2444861.25</td>\n",
              "    </tr>\n",
              "    <tr>\n",
              "      <th>1</th>\n",
              "      <td>1</td>\n",
              "      <td>Arménie</td>\n",
              "      <td>Agrumes, Autres</td>\n",
              "      <td>2614</td>\n",
              "      <td>2013</td>\n",
              "      <td>Végétale</td>\n",
              "      <td>0.0</td>\n",
              "      <td>0.0</td>\n",
              "      <td>0.0</td>\n",
              "      <td>0.46</td>\n",
              "      <td>...</td>\n",
              "      <td>1000000.0</td>\n",
              "      <td>0.0</td>\n",
              "      <td>0.0</td>\n",
              "      <td>0.0</td>\n",
              "      <td>0.0</td>\n",
              "      <td>0.0</td>\n",
              "      <td>2977000</td>\n",
              "      <td>0.000000e+00</td>\n",
              "      <td>1369420.0</td>\n",
              "      <td>10866.05</td>\n",
              "    </tr>\n",
              "    <tr>\n",
              "      <th>2</th>\n",
              "      <td>1</td>\n",
              "      <td>Arménie</td>\n",
              "      <td>Alcool, non Comestible</td>\n",
              "      <td>2659</td>\n",
              "      <td>2013</td>\n",
              "      <td>Végétale</td>\n",
              "      <td>0.0</td>\n",
              "      <td>0.0</td>\n",
              "      <td>0.0</td>\n",
              "      <td>0.00</td>\n",
              "      <td>...</td>\n",
              "      <td>0.0</td>\n",
              "      <td>0.0</td>\n",
              "      <td>3000000.0</td>\n",
              "      <td>0.0</td>\n",
              "      <td>0.0</td>\n",
              "      <td>0.0</td>\n",
              "      <td>2977000</td>\n",
              "      <td>0.000000e+00</td>\n",
              "      <td>0.0</td>\n",
              "      <td>0.00</td>\n",
              "    </tr>\n",
              "    <tr>\n",
              "      <th>3</th>\n",
              "      <td>1</td>\n",
              "      <td>Arménie</td>\n",
              "      <td>Aliments pour enfants</td>\n",
              "      <td>2680</td>\n",
              "      <td>2013</td>\n",
              "      <td>Végétale</td>\n",
              "      <td>0.0</td>\n",
              "      <td>0.0</td>\n",
              "      <td>2.0</td>\n",
              "      <td>0.16</td>\n",
              "      <td>...</td>\n",
              "      <td>0.0</td>\n",
              "      <td>0.0</td>\n",
              "      <td>0.0</td>\n",
              "      <td>0.0</td>\n",
              "      <td>0.0</td>\n",
              "      <td>0.0</td>\n",
              "      <td>2977000</td>\n",
              "      <td>2.173210e+09</td>\n",
              "      <td>476320.0</td>\n",
              "      <td>76062.35</td>\n",
              "    </tr>\n",
              "    <tr>\n",
              "      <th>4</th>\n",
              "      <td>1</td>\n",
              "      <td>Arménie</td>\n",
              "      <td>Ananas</td>\n",
              "      <td>2618</td>\n",
              "      <td>2013</td>\n",
              "      <td>Végétale</td>\n",
              "      <td>0.0</td>\n",
              "      <td>0.0</td>\n",
              "      <td>0.0</td>\n",
              "      <td>0.16</td>\n",
              "      <td>...</td>\n",
              "      <td>0.0</td>\n",
              "      <td>0.0</td>\n",
              "      <td>0.0</td>\n",
              "      <td>0.0</td>\n",
              "      <td>0.0</td>\n",
              "      <td>0.0</td>\n",
              "      <td>2977000</td>\n",
              "      <td>0.000000e+00</td>\n",
              "      <td>476320.0</td>\n",
              "      <td>0.00</td>\n",
              "    </tr>\n",
              "  </tbody>\n",
              "</table>\n",
              "<p>5 rows × 25 columns</p>\n",
              "</div>\n",
              "      <button class=\"colab-df-convert\" onclick=\"convertToInteractive('df-ec372e1e-5e39-4499-947f-d1962a48ea13')\"\n",
              "              title=\"Convert this dataframe to an interactive table.\"\n",
              "              style=\"display:none;\">\n",
              "        \n",
              "  <svg xmlns=\"http://www.w3.org/2000/svg\" height=\"24px\"viewBox=\"0 0 24 24\"\n",
              "       width=\"24px\">\n",
              "    <path d=\"M0 0h24v24H0V0z\" fill=\"none\"/>\n",
              "    <path d=\"M18.56 5.44l.94 2.06.94-2.06 2.06-.94-2.06-.94-.94-2.06-.94 2.06-2.06.94zm-11 1L8.5 8.5l.94-2.06 2.06-.94-2.06-.94L8.5 2.5l-.94 2.06-2.06.94zm10 10l.94 2.06.94-2.06 2.06-.94-2.06-.94-.94-2.06-.94 2.06-2.06.94z\"/><path d=\"M17.41 7.96l-1.37-1.37c-.4-.4-.92-.59-1.43-.59-.52 0-1.04.2-1.43.59L10.3 9.45l-7.72 7.72c-.78.78-.78 2.05 0 2.83L4 21.41c.39.39.9.59 1.41.59.51 0 1.02-.2 1.41-.59l7.78-7.78 2.81-2.81c.8-.78.8-2.07 0-2.86zM5.41 20L4 18.59l7.72-7.72 1.47 1.35L5.41 20z\"/>\n",
              "  </svg>\n",
              "      </button>\n",
              "      \n",
              "  <style>\n",
              "    .colab-df-container {\n",
              "      display:flex;\n",
              "      flex-wrap:wrap;\n",
              "      gap: 12px;\n",
              "    }\n",
              "\n",
              "    .colab-df-convert {\n",
              "      background-color: #E8F0FE;\n",
              "      border: none;\n",
              "      border-radius: 50%;\n",
              "      cursor: pointer;\n",
              "      display: none;\n",
              "      fill: #1967D2;\n",
              "      height: 32px;\n",
              "      padding: 0 0 0 0;\n",
              "      width: 32px;\n",
              "    }\n",
              "\n",
              "    .colab-df-convert:hover {\n",
              "      background-color: #E2EBFA;\n",
              "      box-shadow: 0px 1px 2px rgba(60, 64, 67, 0.3), 0px 1px 3px 1px rgba(60, 64, 67, 0.15);\n",
              "      fill: #174EA6;\n",
              "    }\n",
              "\n",
              "    [theme=dark] .colab-df-convert {\n",
              "      background-color: #3B4455;\n",
              "      fill: #D2E3FC;\n",
              "    }\n",
              "\n",
              "    [theme=dark] .colab-df-convert:hover {\n",
              "      background-color: #434B5C;\n",
              "      box-shadow: 0px 1px 3px 1px rgba(0, 0, 0, 0.15);\n",
              "      filter: drop-shadow(0px 1px 2px rgba(0, 0, 0, 0.3));\n",
              "      fill: #FFFFFF;\n",
              "    }\n",
              "  </style>\n",
              "\n",
              "      <script>\n",
              "        const buttonEl =\n",
              "          document.querySelector('#df-ec372e1e-5e39-4499-947f-d1962a48ea13 button.colab-df-convert');\n",
              "        buttonEl.style.display =\n",
              "          google.colab.kernel.accessAllowed ? 'block' : 'none';\n",
              "\n",
              "        async function convertToInteractive(key) {\n",
              "          const element = document.querySelector('#df-ec372e1e-5e39-4499-947f-d1962a48ea13');\n",
              "          const dataTable =\n",
              "            await google.colab.kernel.invokeFunction('convertToInteractive',\n",
              "                                                     [key], {});\n",
              "          if (!dataTable) return;\n",
              "\n",
              "          const docLinkHtml = 'Like what you see? Visit the ' +\n",
              "            '<a target=\"_blank\" href=https://colab.research.google.com/notebooks/data_table.ipynb>data table notebook</a>'\n",
              "            + ' to learn more about interactive tables.';\n",
              "          element.innerHTML = '';\n",
              "          dataTable['output_type'] = 'display_data';\n",
              "          await google.colab.output.renderOutput(dataTable, element);\n",
              "          const docLink = document.createElement('div');\n",
              "          docLink.innerHTML = docLinkHtml;\n",
              "          element.appendChild(docLink);\n",
              "        }\n",
              "      </script>\n",
              "    </div>\n",
              "  </div>\n",
              "  "
            ]
          },
          "metadata": {},
          "execution_count": 27
        }
      ]
    },
    {
      "cell_type": "markdown",
      "source": [
        "### Question 4\n",
        "A partir de ces dernières informations, et à partir du poids de la disponibilité alimentaire (pour chaque pays et chaque produit), calculez pour chaque produit le ratio \"énergie/poids\", que vous donnerez en kcal/kg.  \n",
        "Vous pouvez vérifier la cohérence de votre calcul en comparant ce ratio aux\n",
        "données disponibles sur internet, par exemple en cherchant la valeur calorique d'un oeuf."
      ],
      "metadata": {
        "id": "41fU25ocT6Ro"
      }
    },
    {
      "cell_type": "code",
      "source": [
        "# Ratio énergie/poids (Kcal/kg)\n",
        "aliments['Ratio énergie/poids (Kcal/kg)'] = aliments['Disponibilité alimentaire (Kcal/an)'] / aliments['Disponibilité alimentaire en quantité (kg/an)']\n",
        "\n",
        "# Ratio aliments['Ratio proteine (kg prot/kg)'] = aliments['Disponibilité alimentaire (Kcal/an)'] / aliments['Disponibilité alimentaire en quantité (kg/an)']\n",
        "aliments['Ratio proteine (kg prot/kg)'] = aliments['Disponibilité de protéines en quantité (kg/an)'] / aliments['Disponibilité alimentaire en quantité (kg/an)']"
      ],
      "metadata": {
        "id": "liyhy515T3JM"
      },
      "execution_count": 28,
      "outputs": []
    },
    {
      "cell_type": "code",
      "source": [
        "aliments.head()"
      ],
      "metadata": {
        "colab": {
          "base_uri": "https://localhost:8080/",
          "height": 438
        },
        "id": "TBTrnHMBT7rU",
        "outputId": "421a9f18-a15d-4fac-ad3d-d721367433dc"
      },
      "execution_count": 29,
      "outputs": [
        {
          "output_type": "execute_result",
          "data": {
            "text/plain": [
              "   Code Pays     Pays                 Produit  Code Produit  Année   Origine  \\\n",
              "0          1  Arménie        Abats Comestible          2736   2013   Animale   \n",
              "1          1  Arménie         Agrumes, Autres          2614   2013  Végétale   \n",
              "2          1  Arménie  Alcool, non Comestible          2659   2013  Végétale   \n",
              "3          1  Arménie   Aliments pour enfants          2680   2013  Végétale   \n",
              "4          1  Arménie                  Ananas          2618   2013  Végétale   \n",
              "\n",
              "   Aliments pour animaux  Autres Utilisations  \\\n",
              "0                    0.0            3000000.0   \n",
              "1                    0.0                  0.0   \n",
              "2                    0.0                  0.0   \n",
              "3                    0.0                  0.0   \n",
              "4                    0.0                  0.0   \n",
              "\n",
              "   Disponibilité alimentaire (Kcal/personne/jour)  \\\n",
              "0                                            14.0   \n",
              "1                                             0.0   \n",
              "2                                             0.0   \n",
              "3                                             2.0   \n",
              "4                                             0.0   \n",
              "\n",
              "   Disponibilité alimentaire en quantité (kg/personne/an)  ...  Production  \\\n",
              "0                                               4.59       ...  15000000.0   \n",
              "1                                               0.46       ...         0.0   \n",
              "2                                               0.00       ...   3000000.0   \n",
              "3                                               0.16       ...         0.0   \n",
              "4                                               0.16       ...         0.0   \n",
              "\n",
              "   Semences  Traitement  Variation de stock  Population  \\\n",
              "0       0.0         0.0                 0.0     2977000   \n",
              "1       0.0         0.0                 0.0     2977000   \n",
              "2       0.0         0.0                 0.0     2977000   \n",
              "3       0.0         0.0                 0.0     2977000   \n",
              "4       0.0         0.0                 0.0     2977000   \n",
              "\n",
              "   Disponibilité alimentaire (Kcal/an)  \\\n",
              "0                         1.521247e+10   \n",
              "1                         0.000000e+00   \n",
              "2                         0.000000e+00   \n",
              "3                         2.173210e+09   \n",
              "4                         0.000000e+00   \n",
              "\n",
              "   Disponibilité alimentaire en quantité (kg/an)  \\\n",
              "0                                     13664430.0   \n",
              "1                                      1369420.0   \n",
              "2                                            0.0   \n",
              "3                                       476320.0   \n",
              "4                                       476320.0   \n",
              "\n",
              "   Disponibilité de protéines en quantité (kg/an)  \\\n",
              "0                                      2444861.25   \n",
              "1                                        10866.05   \n",
              "2                                            0.00   \n",
              "3                                        76062.35   \n",
              "4                                            0.00   \n",
              "\n",
              "   Ratio énergie/poids (Kcal/kg)  Ratio proteine (kg prot/kg)  \n",
              "0                     1113.28976                     0.178922  \n",
              "1                        0.00000                     0.007935  \n",
              "2                            NaN                          NaN  \n",
              "3                     4562.50000                     0.159688  \n",
              "4                        0.00000                     0.000000  \n",
              "\n",
              "[5 rows x 27 columns]"
            ],
            "text/html": [
              "\n",
              "  <div id=\"df-ea83a4b3-437a-4997-9202-3a7981aa0054\">\n",
              "    <div class=\"colab-df-container\">\n",
              "      <div>\n",
              "<style scoped>\n",
              "    .dataframe tbody tr th:only-of-type {\n",
              "        vertical-align: middle;\n",
              "    }\n",
              "\n",
              "    .dataframe tbody tr th {\n",
              "        vertical-align: top;\n",
              "    }\n",
              "\n",
              "    .dataframe thead th {\n",
              "        text-align: right;\n",
              "    }\n",
              "</style>\n",
              "<table border=\"1\" class=\"dataframe\">\n",
              "  <thead>\n",
              "    <tr style=\"text-align: right;\">\n",
              "      <th></th>\n",
              "      <th>Code Pays</th>\n",
              "      <th>Pays</th>\n",
              "      <th>Produit</th>\n",
              "      <th>Code Produit</th>\n",
              "      <th>Année</th>\n",
              "      <th>Origine</th>\n",
              "      <th>Aliments pour animaux</th>\n",
              "      <th>Autres Utilisations</th>\n",
              "      <th>Disponibilité alimentaire (Kcal/personne/jour)</th>\n",
              "      <th>Disponibilité alimentaire en quantité (kg/personne/an)</th>\n",
              "      <th>...</th>\n",
              "      <th>Production</th>\n",
              "      <th>Semences</th>\n",
              "      <th>Traitement</th>\n",
              "      <th>Variation de stock</th>\n",
              "      <th>Population</th>\n",
              "      <th>Disponibilité alimentaire (Kcal/an)</th>\n",
              "      <th>Disponibilité alimentaire en quantité (kg/an)</th>\n",
              "      <th>Disponibilité de protéines en quantité (kg/an)</th>\n",
              "      <th>Ratio énergie/poids (Kcal/kg)</th>\n",
              "      <th>Ratio proteine (kg prot/kg)</th>\n",
              "    </tr>\n",
              "  </thead>\n",
              "  <tbody>\n",
              "    <tr>\n",
              "      <th>0</th>\n",
              "      <td>1</td>\n",
              "      <td>Arménie</td>\n",
              "      <td>Abats Comestible</td>\n",
              "      <td>2736</td>\n",
              "      <td>2013</td>\n",
              "      <td>Animale</td>\n",
              "      <td>0.0</td>\n",
              "      <td>3000000.0</td>\n",
              "      <td>14.0</td>\n",
              "      <td>4.59</td>\n",
              "      <td>...</td>\n",
              "      <td>15000000.0</td>\n",
              "      <td>0.0</td>\n",
              "      <td>0.0</td>\n",
              "      <td>0.0</td>\n",
              "      <td>2977000</td>\n",
              "      <td>1.521247e+10</td>\n",
              "      <td>13664430.0</td>\n",
              "      <td>2444861.25</td>\n",
              "      <td>1113.28976</td>\n",
              "      <td>0.178922</td>\n",
              "    </tr>\n",
              "    <tr>\n",
              "      <th>1</th>\n",
              "      <td>1</td>\n",
              "      <td>Arménie</td>\n",
              "      <td>Agrumes, Autres</td>\n",
              "      <td>2614</td>\n",
              "      <td>2013</td>\n",
              "      <td>Végétale</td>\n",
              "      <td>0.0</td>\n",
              "      <td>0.0</td>\n",
              "      <td>0.0</td>\n",
              "      <td>0.46</td>\n",
              "      <td>...</td>\n",
              "      <td>0.0</td>\n",
              "      <td>0.0</td>\n",
              "      <td>0.0</td>\n",
              "      <td>0.0</td>\n",
              "      <td>2977000</td>\n",
              "      <td>0.000000e+00</td>\n",
              "      <td>1369420.0</td>\n",
              "      <td>10866.05</td>\n",
              "      <td>0.00000</td>\n",
              "      <td>0.007935</td>\n",
              "    </tr>\n",
              "    <tr>\n",
              "      <th>2</th>\n",
              "      <td>1</td>\n",
              "      <td>Arménie</td>\n",
              "      <td>Alcool, non Comestible</td>\n",
              "      <td>2659</td>\n",
              "      <td>2013</td>\n",
              "      <td>Végétale</td>\n",
              "      <td>0.0</td>\n",
              "      <td>0.0</td>\n",
              "      <td>0.0</td>\n",
              "      <td>0.00</td>\n",
              "      <td>...</td>\n",
              "      <td>3000000.0</td>\n",
              "      <td>0.0</td>\n",
              "      <td>0.0</td>\n",
              "      <td>0.0</td>\n",
              "      <td>2977000</td>\n",
              "      <td>0.000000e+00</td>\n",
              "      <td>0.0</td>\n",
              "      <td>0.00</td>\n",
              "      <td>NaN</td>\n",
              "      <td>NaN</td>\n",
              "    </tr>\n",
              "    <tr>\n",
              "      <th>3</th>\n",
              "      <td>1</td>\n",
              "      <td>Arménie</td>\n",
              "      <td>Aliments pour enfants</td>\n",
              "      <td>2680</td>\n",
              "      <td>2013</td>\n",
              "      <td>Végétale</td>\n",
              "      <td>0.0</td>\n",
              "      <td>0.0</td>\n",
              "      <td>2.0</td>\n",
              "      <td>0.16</td>\n",
              "      <td>...</td>\n",
              "      <td>0.0</td>\n",
              "      <td>0.0</td>\n",
              "      <td>0.0</td>\n",
              "      <td>0.0</td>\n",
              "      <td>2977000</td>\n",
              "      <td>2.173210e+09</td>\n",
              "      <td>476320.0</td>\n",
              "      <td>76062.35</td>\n",
              "      <td>4562.50000</td>\n",
              "      <td>0.159688</td>\n",
              "    </tr>\n",
              "    <tr>\n",
              "      <th>4</th>\n",
              "      <td>1</td>\n",
              "      <td>Arménie</td>\n",
              "      <td>Ananas</td>\n",
              "      <td>2618</td>\n",
              "      <td>2013</td>\n",
              "      <td>Végétale</td>\n",
              "      <td>0.0</td>\n",
              "      <td>0.0</td>\n",
              "      <td>0.0</td>\n",
              "      <td>0.16</td>\n",
              "      <td>...</td>\n",
              "      <td>0.0</td>\n",
              "      <td>0.0</td>\n",
              "      <td>0.0</td>\n",
              "      <td>0.0</td>\n",
              "      <td>2977000</td>\n",
              "      <td>0.000000e+00</td>\n",
              "      <td>476320.0</td>\n",
              "      <td>0.00</td>\n",
              "      <td>0.00000</td>\n",
              "      <td>0.000000</td>\n",
              "    </tr>\n",
              "  </tbody>\n",
              "</table>\n",
              "<p>5 rows × 27 columns</p>\n",
              "</div>\n",
              "      <button class=\"colab-df-convert\" onclick=\"convertToInteractive('df-ea83a4b3-437a-4997-9202-3a7981aa0054')\"\n",
              "              title=\"Convert this dataframe to an interactive table.\"\n",
              "              style=\"display:none;\">\n",
              "        \n",
              "  <svg xmlns=\"http://www.w3.org/2000/svg\" height=\"24px\"viewBox=\"0 0 24 24\"\n",
              "       width=\"24px\">\n",
              "    <path d=\"M0 0h24v24H0V0z\" fill=\"none\"/>\n",
              "    <path d=\"M18.56 5.44l.94 2.06.94-2.06 2.06-.94-2.06-.94-.94-2.06-.94 2.06-2.06.94zm-11 1L8.5 8.5l.94-2.06 2.06-.94-2.06-.94L8.5 2.5l-.94 2.06-2.06.94zm10 10l.94 2.06.94-2.06 2.06-.94-2.06-.94-.94-2.06-.94 2.06-2.06.94z\"/><path d=\"M17.41 7.96l-1.37-1.37c-.4-.4-.92-.59-1.43-.59-.52 0-1.04.2-1.43.59L10.3 9.45l-7.72 7.72c-.78.78-.78 2.05 0 2.83L4 21.41c.39.39.9.59 1.41.59.51 0 1.02-.2 1.41-.59l7.78-7.78 2.81-2.81c.8-.78.8-2.07 0-2.86zM5.41 20L4 18.59l7.72-7.72 1.47 1.35L5.41 20z\"/>\n",
              "  </svg>\n",
              "      </button>\n",
              "      \n",
              "  <style>\n",
              "    .colab-df-container {\n",
              "      display:flex;\n",
              "      flex-wrap:wrap;\n",
              "      gap: 12px;\n",
              "    }\n",
              "\n",
              "    .colab-df-convert {\n",
              "      background-color: #E8F0FE;\n",
              "      border: none;\n",
              "      border-radius: 50%;\n",
              "      cursor: pointer;\n",
              "      display: none;\n",
              "      fill: #1967D2;\n",
              "      height: 32px;\n",
              "      padding: 0 0 0 0;\n",
              "      width: 32px;\n",
              "    }\n",
              "\n",
              "    .colab-df-convert:hover {\n",
              "      background-color: #E2EBFA;\n",
              "      box-shadow: 0px 1px 2px rgba(60, 64, 67, 0.3), 0px 1px 3px 1px rgba(60, 64, 67, 0.15);\n",
              "      fill: #174EA6;\n",
              "    }\n",
              "\n",
              "    [theme=dark] .colab-df-convert {\n",
              "      background-color: #3B4455;\n",
              "      fill: #D2E3FC;\n",
              "    }\n",
              "\n",
              "    [theme=dark] .colab-df-convert:hover {\n",
              "      background-color: #434B5C;\n",
              "      box-shadow: 0px 1px 3px 1px rgba(0, 0, 0, 0.15);\n",
              "      filter: drop-shadow(0px 1px 2px rgba(0, 0, 0, 0.3));\n",
              "      fill: #FFFFFF;\n",
              "    }\n",
              "  </style>\n",
              "\n",
              "      <script>\n",
              "        const buttonEl =\n",
              "          document.querySelector('#df-ea83a4b3-437a-4997-9202-3a7981aa0054 button.colab-df-convert');\n",
              "        buttonEl.style.display =\n",
              "          google.colab.kernel.accessAllowed ? 'block' : 'none';\n",
              "\n",
              "        async function convertToInteractive(key) {\n",
              "          const element = document.querySelector('#df-ea83a4b3-437a-4997-9202-3a7981aa0054');\n",
              "          const dataTable =\n",
              "            await google.colab.kernel.invokeFunction('convertToInteractive',\n",
              "                                                     [key], {});\n",
              "          if (!dataTable) return;\n",
              "\n",
              "          const docLinkHtml = 'Like what you see? Visit the ' +\n",
              "            '<a target=\"_blank\" href=https://colab.research.google.com/notebooks/data_table.ipynb>data table notebook</a>'\n",
              "            + ' to learn more about interactive tables.';\n",
              "          element.innerHTML = '';\n",
              "          dataTable['output_type'] = 'display_data';\n",
              "          await google.colab.output.renderOutput(dataTable, element);\n",
              "          const docLink = document.createElement('div');\n",
              "          docLink.innerHTML = docLinkHtml;\n",
              "          element.appendChild(docLink);\n",
              "        }\n",
              "      </script>\n",
              "    </div>\n",
              "  </div>\n",
              "  "
            ]
          },
          "metadata": {},
          "execution_count": 29
        }
      ]
    },
    {
      "cell_type": "code",
      "source": [
        "print(\n",
        "    'Le ratio moyen pour un oeuf est : ' \n",
        "    f'''{round(aliments.query('Produit == \"Oeufs\"')['Ratio énergie/poids (Kcal/kg)'].mean(), 1)}''', \"Kcal/kg\",\n",
        ")"
      ],
      "metadata": {
        "colab": {
          "base_uri": "https://localhost:8080/"
        },
        "id": "HgWfracDT85j",
        "outputId": "5243cd2f-a322-4be0-b2b3-375883e3be44"
      },
      "execution_count": 30,
      "outputs": [
        {
          "output_type": "stream",
          "name": "stdout",
          "text": [
            "Le ratio moyen pour un oeuf est : 1364.8 Kcal/kg\n"
          ]
        }
      ]
    },
    {
      "cell_type": "markdown",
      "source": [
        "### Question 5\n",
        "En considérant les aliments végétaux et animaux, citez 5 aliments parmi les 20 aliments les plus caloriques, en utilisant le ratio énergie/poids. Citez 5 aliments parmi les 20 aliments les plus riches en protéines."
      ],
      "metadata": {
        "id": "SGjl5QN0UA7z"
      }
    },
    {
      "cell_type": "code",
      "source": [
        "# 20 aliments les plus caloriques (en moyenne)\n",
        "aliments.groupby(['Produit']).mean() \\\n",
        ".replace([np.inf, -np.inf], np.nan) \\\n",
        ".dropna(subset=[\"Ratio énergie/poids (Kcal/kg)\"], how=\"all\")['Ratio énergie/poids (Kcal/kg)'] \\\n",
        ".sort_values(ascending=False).head(20)"
      ],
      "metadata": {
        "colab": {
          "base_uri": "https://localhost:8080/"
        },
        "id": "4QuHo8m8T_XD",
        "outputId": "c51b5719-224c-4d30-c834-849497810b53"
      },
      "execution_count": 31,
      "outputs": [
        {
          "output_type": "execute_result",
          "data": {
            "text/plain": [
              "Produit\n",
              "Huile de Palme              8713.419149\n",
              "Huile de Soja               8625.483876\n",
              "Huile de Son de Riz         8497.969939\n",
              "Huile de Colza&Moutarde     8368.869607\n",
              "Huil Plantes Oleif Autr     8246.215771\n",
              "Huile Graines de Coton      8177.340910\n",
              "Huile de Palmistes          7885.602997\n",
              "Huile de Germe de Maïs      7827.167158\n",
              "Huile d'Olive               7774.263485\n",
              "Graisses Animales Crue      7579.278844\n",
              "Huiles de Poissons          7133.945055\n",
              "Beurre, Ghee                6946.278887\n",
              "Arachides Decortiquees      5466.324644\n",
              "Sésame                      5010.932143\n",
              "Feve de Cacao               4343.034036\n",
              "Riz (Eq Blanchi)            3640.609092\n",
              "Huiles de Foie de Poisso    3633.539548\n",
              "Sucre Eq Brut               3578.891980\n",
              "Haricots                    3256.453914\n",
              "Sucre non centrifugé        3254.135701\n",
              "Name: Ratio énergie/poids (Kcal/kg), dtype: float64"
            ]
          },
          "metadata": {},
          "execution_count": 31
        }
      ]
    },
    {
      "cell_type": "code",
      "source": [
        "# 20 aliments les plus protéiques (en moyenne)\n",
        "aliments.groupby(['Produit']).mean() \\\n",
        ".replace([np.inf, -np.inf], np.nan) \\\n",
        ".dropna(subset=['Ratio proteine (kg prot/kg)'], how=\"all\")['Ratio proteine (kg prot/kg)'] \\\n",
        ".sort_values(ascending=False).head(20)"
      ],
      "metadata": {
        "colab": {
          "base_uri": "https://localhost:8080/"
        },
        "id": "dN3lVy9lUCh0",
        "outputId": "695c9553-9f4c-4031-922e-46c385e3a6c4"
      },
      "execution_count": 32,
      "outputs": [
        {
          "output_type": "execute_result",
          "data": {
            "text/plain": [
              "Produit\n",
              "Arachides Decortiquees      0.247908\n",
              "Soja                        0.247579\n",
              "Légumineuses Autres         0.220259\n",
              "Pois                        0.219535\n",
              "Haricots                    0.215743\n",
              "Abats Comestible            0.176309\n",
              "Viande, Autre               0.174102\n",
              "Sésame                      0.173375\n",
              "Plantes Oleiferes, Autre    0.156095\n",
              "Aliments pour enfants       0.148726\n",
              "Viande de Bovins            0.144611\n",
              "Cephalopodes                0.140573\n",
              "Viande d'Ovins/Caprins      0.137363\n",
              "Viande de Volailles         0.126200\n",
              "Poissons Pelagiques         0.121300\n",
              "Piments                     0.109856\n",
              "Graines Colza/Moutarde      0.109500\n",
              "Poissons Marins, Autres     0.109425\n",
              "Oeufs                       0.106961\n",
              "Épices, Autres              0.106794\n",
              "Name: Ratio proteine (kg prot/kg), dtype: float64"
            ]
          },
          "metadata": {},
          "execution_count": 32
        }
      ]
    },
    {
      "cell_type": "markdown",
      "source": [
        "### Question 6\n",
        "Calculez, pour les produits végétaux uniquement, la disponibilité intérieure mondiale exprimée en kcal."
      ],
      "metadata": {
        "id": "ZSkU9_Y4UFjG"
      }
    },
    {
      "cell_type": "code",
      "source": [
        "#Ajout d'une colonne 'Disponibilité intérieure Kcal'\n",
        "aliments['Disponibilité intérieure (Kcal)'] = aliments['Disponibilité intérieure'] * aliments['Ratio énergie/poids (Kcal/kg)']\n",
        "\n",
        "#Ajout d'une colonne 'Disponibilité intérieure kg proteines' => utile pour question 7 et 8\n",
        "aliments['Disponibilité intérieure de protéines (kg prot)'] = aliments['Disponibilité intérieure'] * aliments['Ratio proteine (kg prot/kg)']"
      ],
      "metadata": {
        "id": "msPkKIIeUFZd"
      },
      "execution_count": 33,
      "outputs": []
    },
    {
      "cell_type": "code",
      "source": [
        "# Extraction du top 10 des produits/pays les plus disponibles\n",
        "aliments.query('`Disponibilité intérieure (Kcal)` != inf')[['Pays','Produit','Disponibilité intérieure (Kcal)']].sort_values('Disponibilité intérieure (Kcal)', ascending = False).head(10)"
      ],
      "metadata": {
        "colab": {
          "base_uri": "https://localhost:8080/",
          "height": 363
        },
        "id": "1zukEb9eUDp7",
        "outputId": "fa0a7345-5337-464e-db0b-c2763b3299aa"
      },
      "execution_count": 35,
      "outputs": [
        {
          "output_type": "execute_result",
          "data": {
            "text/plain": [
              "                        Pays           Produit  \\\n",
              "14314  États-Unis d'Amérique              Maïs   \n",
              "2538     Chine, continentale              Maïs   \n",
              "2565     Chine, continentale  Riz (Eq Blanchi)   \n",
              "2498     Chine, continentale               Blé   \n",
              "6110                    Inde  Riz (Eq Blanchi)   \n",
              "6043                    Inde               Blé   \n",
              "2567     Chine, continentale              Soja   \n",
              "1418                  Brésil      Sucre, canne   \n",
              "2578     Chine, continentale  Viande de Suides   \n",
              "1385                  Brésil              Maïs   \n",
              "\n",
              "       Disponibilité intérieure (Kcal)  \n",
              "14314                     8.032204e+14  \n",
              "2538                      6.192022e+14  \n",
              "2565                      5.017612e+14  \n",
              "2498                      3.961114e+14  \n",
              "6110                      3.432776e+14  \n",
              "6043                      2.691352e+14  \n",
              "2567                      2.620655e+14  \n",
              "1418                      2.129825e+14  \n",
              "2578                      1.866875e+14  \n",
              "1385                      1.711875e+14  "
            ],
            "text/html": [
              "\n",
              "  <div id=\"df-c3740929-2a9f-4d31-9f8a-0b6ffac57ae6\">\n",
              "    <div class=\"colab-df-container\">\n",
              "      <div>\n",
              "<style scoped>\n",
              "    .dataframe tbody tr th:only-of-type {\n",
              "        vertical-align: middle;\n",
              "    }\n",
              "\n",
              "    .dataframe tbody tr th {\n",
              "        vertical-align: top;\n",
              "    }\n",
              "\n",
              "    .dataframe thead th {\n",
              "        text-align: right;\n",
              "    }\n",
              "</style>\n",
              "<table border=\"1\" class=\"dataframe\">\n",
              "  <thead>\n",
              "    <tr style=\"text-align: right;\">\n",
              "      <th></th>\n",
              "      <th>Pays</th>\n",
              "      <th>Produit</th>\n",
              "      <th>Disponibilité intérieure (Kcal)</th>\n",
              "    </tr>\n",
              "  </thead>\n",
              "  <tbody>\n",
              "    <tr>\n",
              "      <th>14314</th>\n",
              "      <td>États-Unis d'Amérique</td>\n",
              "      <td>Maïs</td>\n",
              "      <td>8.032204e+14</td>\n",
              "    </tr>\n",
              "    <tr>\n",
              "      <th>2538</th>\n",
              "      <td>Chine, continentale</td>\n",
              "      <td>Maïs</td>\n",
              "      <td>6.192022e+14</td>\n",
              "    </tr>\n",
              "    <tr>\n",
              "      <th>2565</th>\n",
              "      <td>Chine, continentale</td>\n",
              "      <td>Riz (Eq Blanchi)</td>\n",
              "      <td>5.017612e+14</td>\n",
              "    </tr>\n",
              "    <tr>\n",
              "      <th>2498</th>\n",
              "      <td>Chine, continentale</td>\n",
              "      <td>Blé</td>\n",
              "      <td>3.961114e+14</td>\n",
              "    </tr>\n",
              "    <tr>\n",
              "      <th>6110</th>\n",
              "      <td>Inde</td>\n",
              "      <td>Riz (Eq Blanchi)</td>\n",
              "      <td>3.432776e+14</td>\n",
              "    </tr>\n",
              "    <tr>\n",
              "      <th>6043</th>\n",
              "      <td>Inde</td>\n",
              "      <td>Blé</td>\n",
              "      <td>2.691352e+14</td>\n",
              "    </tr>\n",
              "    <tr>\n",
              "      <th>2567</th>\n",
              "      <td>Chine, continentale</td>\n",
              "      <td>Soja</td>\n",
              "      <td>2.620655e+14</td>\n",
              "    </tr>\n",
              "    <tr>\n",
              "      <th>1418</th>\n",
              "      <td>Brésil</td>\n",
              "      <td>Sucre, canne</td>\n",
              "      <td>2.129825e+14</td>\n",
              "    </tr>\n",
              "    <tr>\n",
              "      <th>2578</th>\n",
              "      <td>Chine, continentale</td>\n",
              "      <td>Viande de Suides</td>\n",
              "      <td>1.866875e+14</td>\n",
              "    </tr>\n",
              "    <tr>\n",
              "      <th>1385</th>\n",
              "      <td>Brésil</td>\n",
              "      <td>Maïs</td>\n",
              "      <td>1.711875e+14</td>\n",
              "    </tr>\n",
              "  </tbody>\n",
              "</table>\n",
              "</div>\n",
              "      <button class=\"colab-df-convert\" onclick=\"convertToInteractive('df-c3740929-2a9f-4d31-9f8a-0b6ffac57ae6')\"\n",
              "              title=\"Convert this dataframe to an interactive table.\"\n",
              "              style=\"display:none;\">\n",
              "        \n",
              "  <svg xmlns=\"http://www.w3.org/2000/svg\" height=\"24px\"viewBox=\"0 0 24 24\"\n",
              "       width=\"24px\">\n",
              "    <path d=\"M0 0h24v24H0V0z\" fill=\"none\"/>\n",
              "    <path d=\"M18.56 5.44l.94 2.06.94-2.06 2.06-.94-2.06-.94-.94-2.06-.94 2.06-2.06.94zm-11 1L8.5 8.5l.94-2.06 2.06-.94-2.06-.94L8.5 2.5l-.94 2.06-2.06.94zm10 10l.94 2.06.94-2.06 2.06-.94-2.06-.94-.94-2.06-.94 2.06-2.06.94z\"/><path d=\"M17.41 7.96l-1.37-1.37c-.4-.4-.92-.59-1.43-.59-.52 0-1.04.2-1.43.59L10.3 9.45l-7.72 7.72c-.78.78-.78 2.05 0 2.83L4 21.41c.39.39.9.59 1.41.59.51 0 1.02-.2 1.41-.59l7.78-7.78 2.81-2.81c.8-.78.8-2.07 0-2.86zM5.41 20L4 18.59l7.72-7.72 1.47 1.35L5.41 20z\"/>\n",
              "  </svg>\n",
              "      </button>\n",
              "      \n",
              "  <style>\n",
              "    .colab-df-container {\n",
              "      display:flex;\n",
              "      flex-wrap:wrap;\n",
              "      gap: 12px;\n",
              "    }\n",
              "\n",
              "    .colab-df-convert {\n",
              "      background-color: #E8F0FE;\n",
              "      border: none;\n",
              "      border-radius: 50%;\n",
              "      cursor: pointer;\n",
              "      display: none;\n",
              "      fill: #1967D2;\n",
              "      height: 32px;\n",
              "      padding: 0 0 0 0;\n",
              "      width: 32px;\n",
              "    }\n",
              "\n",
              "    .colab-df-convert:hover {\n",
              "      background-color: #E2EBFA;\n",
              "      box-shadow: 0px 1px 2px rgba(60, 64, 67, 0.3), 0px 1px 3px 1px rgba(60, 64, 67, 0.15);\n",
              "      fill: #174EA6;\n",
              "    }\n",
              "\n",
              "    [theme=dark] .colab-df-convert {\n",
              "      background-color: #3B4455;\n",
              "      fill: #D2E3FC;\n",
              "    }\n",
              "\n",
              "    [theme=dark] .colab-df-convert:hover {\n",
              "      background-color: #434B5C;\n",
              "      box-shadow: 0px 1px 3px 1px rgba(0, 0, 0, 0.15);\n",
              "      filter: drop-shadow(0px 1px 2px rgba(0, 0, 0, 0.3));\n",
              "      fill: #FFFFFF;\n",
              "    }\n",
              "  </style>\n",
              "\n",
              "      <script>\n",
              "        const buttonEl =\n",
              "          document.querySelector('#df-c3740929-2a9f-4d31-9f8a-0b6ffac57ae6 button.colab-df-convert');\n",
              "        buttonEl.style.display =\n",
              "          google.colab.kernel.accessAllowed ? 'block' : 'none';\n",
              "\n",
              "        async function convertToInteractive(key) {\n",
              "          const element = document.querySelector('#df-c3740929-2a9f-4d31-9f8a-0b6ffac57ae6');\n",
              "          const dataTable =\n",
              "            await google.colab.kernel.invokeFunction('convertToInteractive',\n",
              "                                                     [key], {});\n",
              "          if (!dataTable) return;\n",
              "\n",
              "          const docLinkHtml = 'Like what you see? Visit the ' +\n",
              "            '<a target=\"_blank\" href=https://colab.research.google.com/notebooks/data_table.ipynb>data table notebook</a>'\n",
              "            + ' to learn more about interactive tables.';\n",
              "          element.innerHTML = '';\n",
              "          dataTable['output_type'] = 'display_data';\n",
              "          await google.colab.output.renderOutput(dataTable, element);\n",
              "          const docLink = document.createElement('div');\n",
              "          docLink.innerHTML = docLinkHtml;\n",
              "          element.appendChild(docLink);\n",
              "        }\n",
              "      </script>\n",
              "    </div>\n",
              "  </div>\n",
              "  "
            ]
          },
          "metadata": {},
          "execution_count": 35
        }
      ]
    },
    {
      "cell_type": "code",
      "source": [
        "disponibilite_interieure_kcal = aliments.query('Origine == \"Végétale\"').replace([np.inf, -np.inf], np.nan)\\\n",
        ".dropna(subset=[\"Disponibilité intérieure (Kcal)\"], how=\"all\")\\\n",
        "['Disponibilité intérieure (Kcal)'].sum()\n",
        "\n",
        "print(\n",
        "    'Dispo. intérieure mondiale des végétaux : '\n",
        "    f'{round(disponibilite_interieure_kcal / 10**9):,}', 'milliards de kcal',\n",
        ")"
      ],
      "metadata": {
        "colab": {
          "base_uri": "https://localhost:8080/"
        },
        "id": "-6KbysDiUIO7",
        "outputId": "a2cb42e3-13e9-44ce-8bf9-cb6ac14e9788"
      },
      "execution_count": 36,
      "outputs": [
        {
          "output_type": "stream",
          "name": "stdout",
          "text": [
            "Dispo. intérieure mondiale des végétaux : 12,166,422 milliards de kcal\n"
          ]
        }
      ]
    },
    {
      "cell_type": "markdown",
      "source": [
        "### Question 7\n",
        "Combien d'humains pourraient être nourris si toute la disponibilité intérieure mondiale de produits végétaux était utilisée pour de la nourriture ?  \n",
        "Donnez les résultats en termes de :\n",
        "- calories, \n",
        "- puis de protéines,\n",
        "- et exprimez ensuite ces 2 résultats en pourcentage de la population mondiale.  \n",
        " \n",
        "Vous aurez besoin ici de rechercher et définir le besoin calorique par personne."
      ],
      "metadata": {
        "id": "aDula7wVUOpK"
      }
    },
    {
      "cell_type": "markdown",
      "source": [
        "#### Potentiel alimentaire en calorie"
      ],
      "metadata": {
        "id": "--_5bgaGURlx"
      }
    },
    {
      "cell_type": "code",
      "source": [
        "# Hypothese besoin calorique par personne et par jour\n",
        "hypothese_besoin_cal = 2350 #kcal/pers/jour"
      ],
      "metadata": {
        "id": "RMjkC68UUNP8"
      },
      "execution_count": 37,
      "outputs": []
    },
    {
      "cell_type": "code",
      "source": [
        "# Résultats en termes de calories\n",
        "# Utilisation de la 'disponibilite_interieure_kcal' précédemment trouvée\n",
        "humain_nourris_veg_kcal = round((disponibilite_interieure_kcal / (hypothese_besoin_cal * 365)), 2)\n",
        "\n",
        "print(\n",
        "    \"En considérant les besoins caloriques journalier d'un être humain de :\", hypothese_besoin_cal, \"kcal/jour\",\n",
        "    \"\\n\",\n",
        "    \"Le nombre d'humains pouvant être alimentés par les végétaux est de : \"\n",
        "    f\"{round(humain_nourris_veg_kcal / 10**9, 3):,}\", \"milliards d'individus\",\n",
        "    \"\\n\",\n",
        "    \"Soit une couverture de la population mondiale de : \"\n",
        "    f'{round(humain_nourris_veg_kcal/population_mondiale*100, 1):,}', '%',\n",
        ")"
      ],
      "metadata": {
        "colab": {
          "base_uri": "https://localhost:8080/"
        },
        "id": "6tArS8x4UTTc",
        "outputId": "0b65b960-46e7-41b0-ffe2-a56e4d940f0c"
      },
      "execution_count": 38,
      "outputs": [
        {
          "output_type": "stream",
          "name": "stdout",
          "text": [
            "En considérant les besoins caloriques journalier d'un être humain de : 2350 kcal/jour \n",
            " Le nombre d'humains pouvant être alimentés par les végétaux est de : 14.184 milliards d'individus \n",
            " Soit une couverture de la population mondiale de : 168.6 %\n"
          ]
        }
      ]
    },
    {
      "cell_type": "markdown",
      "source": [
        "#### Potentiel alimentaire en protéine"
      ],
      "metadata": {
        "id": "f2RUHBlyUWBh"
      }
    },
    {
      "cell_type": "code",
      "source": [
        "# Résultats en termes de protéines\n",
        "disponibilite_interieure_kg_prot = aliments.query('Origine == \"Végétale\"').replace([np.inf, -np.inf], np.nan)\\\n",
        ".dropna(subset=['Disponibilité intérieure de protéines (kg prot)'], how=\"all\")\\\n",
        "['Disponibilité intérieure de protéines (kg prot)'].sum()\n",
        "\n",
        "print(\n",
        "    'Dispo. intérieure mondiale des végétaux : '\n",
        "    f'{round(disponibilite_interieure_kg_prot / 10**9):,}', 'milliards de kg de protéines',\n",
        ")"
      ],
      "metadata": {
        "colab": {
          "base_uri": "https://localhost:8080/"
        },
        "id": "lF221R1yUUDM",
        "outputId": "4f7a8fa0-5a11-4edb-925a-c0c2c069586a"
      },
      "execution_count": 39,
      "outputs": [
        {
          "output_type": "stream",
          "name": "stdout",
          "text": [
            "Dispo. intérieure mondiale des végétaux : 292 milliards de kg de protéines\n"
          ]
        }
      ]
    },
    {
      "cell_type": "code",
      "source": [
        "# Résultats en termes de protéines\n",
        "# Hypothese besoin protéines par personne et par jour\n",
        "hypothese_besoin_prot = 50 # 50 g/personne/jour\n",
        "\n",
        "# Utilisation de la 'disponibilite_interieure_kcal' précédemment trouvée (ramenée en kg/an)\n",
        "humain_nourris_veg_prot = round((disponibilite_interieure_kg_prot / (hypothese_besoin_prot * 1e-3 * 365)), 2)\n",
        "\n",
        "print(\n",
        "    \"En considérant les besoins journalier de protéines d'un être humain de :\", hypothese_besoin_prot, \"g de protéines/jour\",\n",
        "    \"\\n\",\n",
        "    \"Le nombre d'humains pouvant être alimentés par les végétaux est de : \"\n",
        "    f\"{round(humain_nourris_veg_prot / 10**9, 3):,}\", \"milliards d'individus\",\n",
        "    \"\\n\",\n",
        "    \"Soit une couverture de la population mondiale de : \"\n",
        "    f'{round(humain_nourris_veg_prot/population_mondiale*100, 1):,}', '%',\n",
        ")"
      ],
      "metadata": {
        "colab": {
          "base_uri": "https://localhost:8080/"
        },
        "id": "qF18t3jhUXEj",
        "outputId": "d3c63ea7-1257-405e-c9cf-eacfd08e1792"
      },
      "execution_count": 40,
      "outputs": [
        {
          "output_type": "stream",
          "name": "stdout",
          "text": [
            "En considérant les besoins journalier de protéines d'un être humain de : 50 g de protéines/jour \n",
            " Le nombre d'humains pouvant être alimentés par les végétaux est de : 16.0 milliards d'individus \n",
            " Soit une couverture de la population mondiale de : 190.2 %\n"
          ]
        }
      ]
    },
    {
      "cell_type": "markdown",
      "source": [
        "### Question 8\n",
        "Combien d'humains pourraient être nourris si toute la disponibilité alimentaire en produits végétaux, la nourriture végétale destinée aux animaux et les pertes de produits végétaux étaient utilisés pour de la nourriture ?  \n",
        "Donnez les résultats en termes de :\n",
        "- calories, \n",
        "- puis de protéines, \n",
        "- et exprimez ensuite ces 2 résultats en pourcentage de la population mondiale."
      ],
      "metadata": {
        "id": "F4DLJKdwUZhe"
      }
    },
    {
      "cell_type": "code",
      "source": [
        "# Ajout des colonnes nécessaires\n",
        "# en termes de calories\n",
        "aliments['Nourriture (Kcal)'] = aliments['Nourriture'] * aliments['Ratio énergie/poids (Kcal/kg)']\n",
        "aliments['Pertes (Kcal)'] = aliments['Pertes'] * aliments['Ratio énergie/poids (Kcal/kg)']\n",
        "\n",
        "# en termes de protéines\n",
        "aliments['Nourriture (kg prot)'] = aliments['Nourriture'] * aliments['Ratio proteine (kg prot/kg)']\n",
        "aliments['Pertes (kg prot)'] = aliments['Pertes'] * aliments['Ratio proteine (kg prot/kg)']"
      ],
      "metadata": {
        "id": "QH-7JJ69UYGc"
      },
      "execution_count": 41,
      "outputs": []
    },
    {
      "cell_type": "markdown",
      "source": [
        "#### Potentiel alimentaire en calorie"
      ],
      "metadata": {
        "id": "8Y8zxZrZUe91"
      }
    },
    {
      "cell_type": "code",
      "source": [
        "# Résultats en termes de calories\n",
        "disponibilite_alim_vegetaux_kcal = aliments.query('Origine == \"Végétale\"').replace([np.inf, -np.inf], np.nan)\\\n",
        ".dropna(subset=['Disponibilité alimentaire (Kcal/an)'], how=\"all\")\\\n",
        "[['Disponibilité alimentaire (Kcal/an)', 'Nourriture (Kcal)', 'Pertes (Kcal)']].sum().sum()\n",
        "\n",
        "print(\n",
        "    'Dispo. intérieure mondiale des végétaux : '\n",
        "    f'{round(disponibilite_alim_vegetaux_kcal / 10**9):,}', 'milliards de kcal',\n",
        ")\n",
        "\n",
        "# Utilisation de la 'disponibilite_interieure_kcal' précédemment trouvée\n",
        "humain_nourris_dispo_alim_veg_kcal = round((disponibilite_alim_vegetaux_kcal / (hypothese_besoin_cal * 365)), 2)\n",
        "\n",
        "print(\n",
        "    \"En considérant les besoins caloriques journalier d'un être humain de :\", hypothese_besoin_cal, \"kcal/jour\",\n",
        "    \"\\n\",\n",
        "    \"Le nombre d'humains pouvant être alimentés par les végétaux est de : \"\n",
        "    f\"{round(humain_nourris_dispo_alim_veg_kcal / 10**9, 3):,}\", \"milliards d'individus\",\n",
        "    \"\\n\",\n",
        "    \"Soit une couverture de la population mondiale de : \"\n",
        "    f'{round(humain_nourris_dispo_alim_veg_kcal/population_mondiale*100, 1):,}', '%',\n",
        ")\n"
      ],
      "metadata": {
        "colab": {
          "base_uri": "https://localhost:8080/"
        },
        "id": "95ILJ8dPUdmE",
        "outputId": "4bf1bfc6-416d-4b50-ea53-47b705576b02"
      },
      "execution_count": 42,
      "outputs": [
        {
          "output_type": "stream",
          "name": "stdout",
          "text": [
            "Dispo. intérieure mondiale des végétaux : 12,608,203 milliards de kcal\n",
            "En considérant les besoins caloriques journalier d'un être humain de : 2350 kcal/jour \n",
            " Le nombre d'humains pouvant être alimentés par les végétaux est de : 14.699 milliards d'individus \n",
            " Soit une couverture de la population mondiale de : 174.7 %\n"
          ]
        }
      ]
    },
    {
      "cell_type": "markdown",
      "source": [
        "#### Potentiel alimentaire en protéine"
      ],
      "metadata": {
        "id": "pFMntZ6oUh1I"
      }
    },
    {
      "cell_type": "code",
      "source": [
        "# Résultats en termes de protéines\n",
        "disponibilite_alim_vegetaux_prot = aliments.query('Origine == \"Végétale\"').replace([np.inf, -np.inf], np.nan)\\\n",
        ".dropna(subset=['Disponibilité de protéines en quantité (kg/an)'], how=\"all\")\\\n",
        "[['Disponibilité de protéines en quantité (kg/an)', 'Nourriture (kg prot)', 'Pertes (kg prot)']].sum().sum()\n",
        "\n",
        "print(\n",
        "    'Dispo. alimentaire mondiale des végétaux : '\n",
        "    f'{round(disponibilite_alim_vegetaux_prot / 10**9):,}', 'milliards de kg de protéines',\n",
        ")\n",
        "\n",
        "# Utilisation de la 'humain_nourris_dispo_alim_veg_prot' précédemment trouvée\n",
        "humain_nourris_dispo_alim_veg_prot = round((disponibilite_alim_vegetaux_prot / (hypothese_besoin_prot * 1e-3 * 365)), 2)\n",
        "\n",
        "print(\n",
        "    \"En considérant les besoins journalier de protéines d'un être humain de :\", hypothese_besoin_prot, \"kcal/jour\",\n",
        "    \"\\n\",\n",
        "    \"Le nombre d'humains pouvant être alimentés par les végétaux est de : \"\n",
        "    f\"{round(humain_nourris_dispo_alim_veg_prot / 10**9, 3):,}\", \"milliards d'individus\",\n",
        "    \"\\n\",\n",
        "    \"Soit une couverture de la population mondiale de : \"\n",
        "    f'{round(humain_nourris_dispo_alim_veg_prot/population_mondiale*100, 1):,}', '%',\n",
        ")"
      ],
      "metadata": {
        "colab": {
          "base_uri": "https://localhost:8080/"
        },
        "id": "JHN9EhRlUf67",
        "outputId": "4c659e93-e944-4edd-8b35-ec7830920e0f"
      },
      "execution_count": 43,
      "outputs": [
        {
          "output_type": "stream",
          "name": "stdout",
          "text": [
            "Dispo. alimentaire mondiale des végétaux : 263 milliards de kg de protéines\n",
            "En considérant les besoins journalier de protéines d'un être humain de : 50 kcal/jour \n",
            " Le nombre d'humains pouvant être alimentés par les végétaux est de : 14.412 milliards d'individus \n",
            " Soit une couverture de la population mondiale de : 171.3 %\n"
          ]
        }
      ]
    },
    {
      "cell_type": "markdown",
      "source": [
        "### Question 9\n",
        "Combien d'humains pourraient être nourris avec la disponibilité alimentaire mondiale ?  \n",
        "Donnez les résultats en termes de :\n",
        "- calories, \n",
        "- puis de protéines,\n",
        "- et exprimez ensuite ces 2 résultats en pourcentage de la population mondiale."
      ],
      "metadata": {
        "id": "rWZ5mEygUkX0"
      }
    },
    {
      "cell_type": "markdown",
      "source": [
        "#### Potentiel alimentaire en calorie"
      ],
      "metadata": {
        "id": "-Mg01oy3UnBm"
      }
    },
    {
      "cell_type": "code",
      "source": [
        "# Résultats en termes de calories\n",
        "disponibilite_alim_kcal = aliments.replace([np.inf, -np.inf], np.nan)\\\n",
        ".dropna(subset=['Disponibilité alimentaire (Kcal/an)'], how=\"all\")\\\n",
        "['Disponibilité alimentaire (Kcal/an)'].sum()\n",
        "\n",
        "print(\n",
        "    'Dispo. alimentaire mondiale : '\n",
        "    f'{round(disponibilite_alim_kcal / 10**9):,}', 'milliards de kcal',\n",
        ")\n",
        "\n",
        "# Utilisation de la 'disponibilite_interieure_kcal' précédemment trouvée\n",
        "humain_nourris_dispo_alim_kcal = round((disponibilite_alim_kcal / (hypothese_besoin_cal * 365)), 2)\n",
        "\n",
        "print(\n",
        "    \"En considérant les besoins caloriques journalier d'un être humain de :\", hypothese_besoin_cal, \"kcal/jour\",\n",
        "    \"\\n\",\n",
        "    \"Le nombre d'humains pouvant être alimentés par la disponibilité alimentaire mondiale est de : \"\n",
        "    f\"{round(humain_nourris_dispo_alim_kcal / 10**9, 3):,}\", \"milliards d'individus\",\n",
        "    \"\\n\",\n",
        "    \"Soit une couverture de la population mondiale de : \"\n",
        "    f'{round(humain_nourris_dispo_alim_kcal/population_mondiale*100, 1):,}', '%',\n",
        ")"
      ],
      "metadata": {
        "colab": {
          "base_uri": "https://localhost:8080/"
        },
        "id": "gF-1M5x4Ui6t",
        "outputId": "839b5e5a-c33b-46ac-a58d-14cc2ec77915"
      },
      "execution_count": 44,
      "outputs": [
        {
          "output_type": "stream",
          "name": "stdout",
          "text": [
            "Dispo. alimentaire mondiale : 7,363,883 milliards de kcal\n",
            "En considérant les besoins caloriques journalier d'un être humain de : 2350 kcal/jour \n",
            " Le nombre d'humains pouvant être alimentés par la disponibilité alimentaire mondiale est de : 8.585 milliards d'individus \n",
            " Soit une couverture de la population mondiale de : 102.0 %\n"
          ]
        }
      ]
    },
    {
      "cell_type": "markdown",
      "source": [
        "#### Potentiel alimentaire en protéine"
      ],
      "metadata": {
        "id": "q3x-SZ91Upn1"
      }
    },
    {
      "cell_type": "code",
      "source": [
        "# Résultats en termes de protéines\n",
        "disponibilite_alim_prot = aliments.replace([np.inf, -np.inf], np.nan)\\\n",
        ".dropna(subset=['Disponibilité de protéines en quantité (kg/an)'], how=\"all\")\\\n",
        "['Disponibilité de protéines en quantité (kg/an)'].sum()\n",
        "\n",
        "print(\n",
        "    'Dispo. alimentaire mondiale : '\n",
        "    f'{round(disponibilite_alim_prot / 10**9):,}', 'milliards de kg de protéines',\n",
        ")\n",
        "\n",
        "# Utilisation de la 'humain_nourris_dispo_alim_veg_prot' précédemment trouvée\n",
        "humain_nourris_dispo_alim_prot = round((disponibilite_alim_prot / (hypothese_besoin_prot * 1e-3 * 365)), 2)\n",
        "\n",
        "print(\n",
        "    \"En considérant les besoins journalier de protéines d'un être humain de :\", hypothese_besoin_prot, \"kcal/jour\",\n",
        "    \"\\n\",\n",
        "    \"Le nombre d'humains pouvant être alimentés par la disponibilité alimentaire mondiale est de : \"\n",
        "    f\"{round(humain_nourris_dispo_alim_prot / 10**9, 3):,}\", \"milliards d'individus\",\n",
        "    \"\\n\",\n",
        "    \"Soit une couverture de la population mondiale de : \"\n",
        "    f'{round(humain_nourris_dispo_alim_prot/population_mondiale*100, 1):,}', '%',\n",
        ")"
      ],
      "metadata": {
        "colab": {
          "base_uri": "https://localhost:8080/"
        },
        "id": "gup8SUrPUn_c",
        "outputId": "5de6b3a5-9d53-4c42-94f3-7a187ba33661"
      },
      "execution_count": 45,
      "outputs": [
        {
          "output_type": "stream",
          "name": "stdout",
          "text": [
            "Dispo. alimentaire mondiale : 207 milliards de kg de protéines\n",
            "En considérant les besoins journalier de protéines d'un être humain de : 50 kcal/jour \n",
            " Le nombre d'humains pouvant être alimentés par la disponibilité alimentaire mondiale est de : 11.357 milliards d'individus \n",
            " Soit une couverture de la population mondiale de : 135.0 %\n"
          ]
        }
      ]
    },
    {
      "cell_type": "markdown",
      "source": [
        "### Question 10\n",
        "A partir des données téléchargées qui concernent la sous-nutrition, répondez à cette question : Quelle proportion de la population mondiale est considérée comme étant en sous-nutrition ?"
      ],
      "metadata": {
        "id": "t66PhZRDUr_h"
      }
    },
    {
      "cell_type": "code",
      "source": [
        "population_sous_nutrition = sous_nutrition_prep.query('Produit in (\"Nombre de personnes sous-alimentées (millions) (moyenne sur 3 ans)\") and\\\n",
        "                                                      Année in (\"2012-2014\")').Valeur.sum()\n",
        "\n",
        "print(\n",
        "    \"Le nombre d'humains considérés comme étant en sous-nutrition est de : \"\n",
        "    f\"{round(population_sous_nutrition, 3):,}\", \"millions d'individus\",\n",
        "    \"\\n\",\n",
        "    \"Soit une proportion de la population population mondiale de : \"\n",
        "    f'{round(population_sous_nutrition/population_mondiale*100, 1):,}', '%',\n",
        ")                                                     "
      ],
      "metadata": {
        "colab": {
          "base_uri": "https://localhost:8080/"
        },
        "id": "8Ood-p63Uqlj",
        "outputId": "7e113e3a-f9a4-4791-a5f3-dd80b6f32e9e"
      },
      "execution_count": 52,
      "outputs": [
        {
          "output_type": "stream",
          "name": "stdout",
          "text": [
            "Le nombre d'humains considérés comme étant en sous-nutrition est de : 739,700,000.0 millions d'individus \n",
            " Soit une proportion de la population population mondiale de : 8.8 %\n"
          ]
        }
      ]
    },
    {
      "cell_type": "markdown",
      "source": [
        "**Remarque :** Cette estimation est une fourchette basse car\n",
        "- Certains pays ne sont pas recencés dans le jeu de données,\n",
        "- Pour des pays recencés, il apparaît certaines fois que l'estimation du nombre de personnes sous-alimentées est `Nan` (lorsque que la valeur est par exemple `< 0.1`)."
      ],
      "metadata": {
        "id": "zqUqAMpGVpZM"
      }
    },
    {
      "cell_type": "markdown",
      "source": [
        "### Question 11\n",
        "Établissez la liste des produits (ainsi que leur code) considéré comme des céréales selon la FAO.  \n",
        "En ne prenant en compte que les céréales destinées à l'alimentation (humaine et animale), quelle proportion (en termes de poids) est destinée à l'alimentation animale ?"
      ],
      "metadata": {
        "id": "TY_4WQ-DVrLC"
      }
    },
    {
      "cell_type": "code",
      "source": [
        "# Liste des céréales\n",
        "liste_cereales = cereal.Produit.unique()\n",
        "code_cereales = cereal['Code Produit'].unique()\n",
        "\n",
        "print(\"Codes des céréales : \",code_cereales)\n",
        "print(\"Liste des céréales : \", liste_cereales)"
      ],
      "metadata": {
        "colab": {
          "base_uri": "https://localhost:8080/"
        },
        "id": "FADf9-2lUuc0",
        "outputId": "3d06cb70-3155-49b8-a508-fb3c694efaaf"
      },
      "execution_count": 110,
      "outputs": [
        {
          "output_type": "stream",
          "name": "stdout",
          "text": [
            "Codes des céréales :  [2511 2805 2513 2514 2517 2520 2515 2516 2518]\n",
            "Liste des céréales :  ['Blé' 'Riz (Eq Blanchi)' 'Orge' 'Maïs' 'Millet' 'Céréales, Autres'\n",
            " 'Seigle' 'Avoine' 'Sorgho']\n"
          ]
        }
      ]
    },
    {
      "cell_type": "code",
      "source": [
        "# Calcul de la proportion\n",
        "proportion_alim_animale = aliments.query('`Code Produit` in @code_cereales')['Aliments pour animaux'].sum() /\\\n",
        "                      (aliments.query('`Code Produit` in @code_cereales')['Aliments pour animaux'].sum() \\\n",
        "                       + aliments.query('`Code Produit` in @code_cereales')['Nourriture'].sum()\n",
        "                       )\n",
        "                      \n",
        "print(\n",
        "    \"En ne prenant en compte que les céréales destinées à l'alimentation (humaine et animale), \\nla proportion (en termes de poids) destinée à l'alimentation animale est de : \"\n",
        "    f'{round(100 * proportion_alim_animale, 2)}', '%',\n",
        ")                      "
      ],
      "metadata": {
        "colab": {
          "base_uri": "https://localhost:8080/"
        },
        "id": "sKTCxLlEVuNk",
        "outputId": "ada43489-f4a0-415d-fd2c-a44b828df11e"
      },
      "execution_count": 111,
      "outputs": [
        {
          "output_type": "stream",
          "name": "stdout",
          "text": [
            "En ne prenant en compte que les céréales destinées à l'alimentation (humaine et animale), \n",
            "la proportion (en termes de poids) destinée à l'alimentation animale est de : 45.91 %\n"
          ]
        }
      ]
    },
    {
      "cell_type": "markdown",
      "source": [
        "### Question 12\n",
        "Sélectionnez parmi les données des bilans alimentaires les informations relatives aux pays dans lesquels la FAO recense des personnes en sous-nutrition.  \n",
        "Repérez les 15 produits les plus exportés par ce groupe de pays.  \n",
        "Parmi les données des bilans alimentaires au niveau mondial, sélectionnez les 200 plus grandes importations de ces produits (1 importation = une quantité d'un produit donné importée par un pays donné).  \n",
        "Groupez ces importations par produit, afin d'avoir une table contenant 1 ligne pour chacun des 15 produits.  \n",
        "Ensuite, calculez pour chaque produit les 2 quantités suivantes :\n",
        "-\tle ratio entre la quantité destinés aux \"Autres utilisations\" (Other uses) et la disponibilité intérieure.\n",
        "-\tle ratio entre la quantité destinée à la nourriture animale et la quantité destinée à la nourriture (animale + humaine)  \n",
        "\n",
        "Donnez les 3 produits qui ont la plus grande valeur pour chacun des 2 ratios (vous aurez donc 6 produits à citer)\n"
      ],
      "metadata": {
        "id": "vtWn9l49VwjZ"
      }
    },
    {
      "cell_type": "markdown",
      "source": [
        "#### Pays en sous nutrition"
      ],
      "metadata": {
        "id": "Wv_r2f8eVz3s"
      }
    },
    {
      "cell_type": "code",
      "source": [
        "pays_sous_nutrition = sous_nutrition_prep.dropna(subset=['Valeur'])[['Code zone', 'Zone']].drop_duplicates()\n",
        "pays_sous_nutrition.head()"
      ],
      "metadata": {
        "colab": {
          "base_uri": "https://localhost:8080/",
          "height": 206
        },
        "id": "akKEs8frV-Ue",
        "outputId": "bea7b986-822e-4f24-9518-1f65345bd86b"
      },
      "execution_count": 94,
      "outputs": [
        {
          "output_type": "execute_result",
          "data": {
            "text/plain": [
              "   Code zone            Zone\n",
              "0          2     Afghanistan\n",
              "1        202  Afrique du Sud\n",
              "2          3         Albanie\n",
              "3          4         Algérie\n",
              "6          7          Angola"
            ],
            "text/html": [
              "\n",
              "  <div id=\"df-269a0d14-8505-436e-91da-a502cbc2e506\">\n",
              "    <div class=\"colab-df-container\">\n",
              "      <div>\n",
              "<style scoped>\n",
              "    .dataframe tbody tr th:only-of-type {\n",
              "        vertical-align: middle;\n",
              "    }\n",
              "\n",
              "    .dataframe tbody tr th {\n",
              "        vertical-align: top;\n",
              "    }\n",
              "\n",
              "    .dataframe thead th {\n",
              "        text-align: right;\n",
              "    }\n",
              "</style>\n",
              "<table border=\"1\" class=\"dataframe\">\n",
              "  <thead>\n",
              "    <tr style=\"text-align: right;\">\n",
              "      <th></th>\n",
              "      <th>Code zone</th>\n",
              "      <th>Zone</th>\n",
              "    </tr>\n",
              "  </thead>\n",
              "  <tbody>\n",
              "    <tr>\n",
              "      <th>0</th>\n",
              "      <td>2</td>\n",
              "      <td>Afghanistan</td>\n",
              "    </tr>\n",
              "    <tr>\n",
              "      <th>1</th>\n",
              "      <td>202</td>\n",
              "      <td>Afrique du Sud</td>\n",
              "    </tr>\n",
              "    <tr>\n",
              "      <th>2</th>\n",
              "      <td>3</td>\n",
              "      <td>Albanie</td>\n",
              "    </tr>\n",
              "    <tr>\n",
              "      <th>3</th>\n",
              "      <td>4</td>\n",
              "      <td>Algérie</td>\n",
              "    </tr>\n",
              "    <tr>\n",
              "      <th>6</th>\n",
              "      <td>7</td>\n",
              "      <td>Angola</td>\n",
              "    </tr>\n",
              "  </tbody>\n",
              "</table>\n",
              "</div>\n",
              "      <button class=\"colab-df-convert\" onclick=\"convertToInteractive('df-269a0d14-8505-436e-91da-a502cbc2e506')\"\n",
              "              title=\"Convert this dataframe to an interactive table.\"\n",
              "              style=\"display:none;\">\n",
              "        \n",
              "  <svg xmlns=\"http://www.w3.org/2000/svg\" height=\"24px\"viewBox=\"0 0 24 24\"\n",
              "       width=\"24px\">\n",
              "    <path d=\"M0 0h24v24H0V0z\" fill=\"none\"/>\n",
              "    <path d=\"M18.56 5.44l.94 2.06.94-2.06 2.06-.94-2.06-.94-.94-2.06-.94 2.06-2.06.94zm-11 1L8.5 8.5l.94-2.06 2.06-.94-2.06-.94L8.5 2.5l-.94 2.06-2.06.94zm10 10l.94 2.06.94-2.06 2.06-.94-2.06-.94-.94-2.06-.94 2.06-2.06.94z\"/><path d=\"M17.41 7.96l-1.37-1.37c-.4-.4-.92-.59-1.43-.59-.52 0-1.04.2-1.43.59L10.3 9.45l-7.72 7.72c-.78.78-.78 2.05 0 2.83L4 21.41c.39.39.9.59 1.41.59.51 0 1.02-.2 1.41-.59l7.78-7.78 2.81-2.81c.8-.78.8-2.07 0-2.86zM5.41 20L4 18.59l7.72-7.72 1.47 1.35L5.41 20z\"/>\n",
              "  </svg>\n",
              "      </button>\n",
              "      \n",
              "  <style>\n",
              "    .colab-df-container {\n",
              "      display:flex;\n",
              "      flex-wrap:wrap;\n",
              "      gap: 12px;\n",
              "    }\n",
              "\n",
              "    .colab-df-convert {\n",
              "      background-color: #E8F0FE;\n",
              "      border: none;\n",
              "      border-radius: 50%;\n",
              "      cursor: pointer;\n",
              "      display: none;\n",
              "      fill: #1967D2;\n",
              "      height: 32px;\n",
              "      padding: 0 0 0 0;\n",
              "      width: 32px;\n",
              "    }\n",
              "\n",
              "    .colab-df-convert:hover {\n",
              "      background-color: #E2EBFA;\n",
              "      box-shadow: 0px 1px 2px rgba(60, 64, 67, 0.3), 0px 1px 3px 1px rgba(60, 64, 67, 0.15);\n",
              "      fill: #174EA6;\n",
              "    }\n",
              "\n",
              "    [theme=dark] .colab-df-convert {\n",
              "      background-color: #3B4455;\n",
              "      fill: #D2E3FC;\n",
              "    }\n",
              "\n",
              "    [theme=dark] .colab-df-convert:hover {\n",
              "      background-color: #434B5C;\n",
              "      box-shadow: 0px 1px 3px 1px rgba(0, 0, 0, 0.15);\n",
              "      filter: drop-shadow(0px 1px 2px rgba(0, 0, 0, 0.3));\n",
              "      fill: #FFFFFF;\n",
              "    }\n",
              "  </style>\n",
              "\n",
              "      <script>\n",
              "        const buttonEl =\n",
              "          document.querySelector('#df-269a0d14-8505-436e-91da-a502cbc2e506 button.colab-df-convert');\n",
              "        buttonEl.style.display =\n",
              "          google.colab.kernel.accessAllowed ? 'block' : 'none';\n",
              "\n",
              "        async function convertToInteractive(key) {\n",
              "          const element = document.querySelector('#df-269a0d14-8505-436e-91da-a502cbc2e506');\n",
              "          const dataTable =\n",
              "            await google.colab.kernel.invokeFunction('convertToInteractive',\n",
              "                                                     [key], {});\n",
              "          if (!dataTable) return;\n",
              "\n",
              "          const docLinkHtml = 'Like what you see? Visit the ' +\n",
              "            '<a target=\"_blank\" href=https://colab.research.google.com/notebooks/data_table.ipynb>data table notebook</a>'\n",
              "            + ' to learn more about interactive tables.';\n",
              "          element.innerHTML = '';\n",
              "          dataTable['output_type'] = 'display_data';\n",
              "          await google.colab.output.renderOutput(dataTable, element);\n",
              "          const docLink = document.createElement('div');\n",
              "          docLink.innerHTML = docLinkHtml;\n",
              "          element.appendChild(docLink);\n",
              "        }\n",
              "      </script>\n",
              "    </div>\n",
              "  </div>\n",
              "  "
            ]
          },
          "metadata": {},
          "execution_count": 94
        }
      ]
    },
    {
      "cell_type": "markdown",
      "source": [
        "#### Liste des 15 produits les plus exportés par ce groupe de pays"
      ],
      "metadata": {
        "id": "AvsBH3sCWZr-"
      }
    },
    {
      "cell_type": "code",
      "source": [
        "top_15_export = aliments[aliments['Code Pays'].isin(list(pays_sous_nutrition['Code zone']))].sort_values('Exportations - Quantité', ascending=False)[['Produit', 'Pays', 'Exportations - Quantité']].head(15)\n",
        "top_15_export.head()"
      ],
      "metadata": {
        "colab": {
          "base_uri": "https://localhost:8080/",
          "height": 206
        },
        "id": "jjaNmt95XJQw",
        "outputId": "1f0fd717-d4e6-49af-f5a3-ef1b55fb4fea"
      },
      "execution_count": 80,
      "outputs": [
        {
          "output_type": "execute_result",
          "data": {
            "text/plain": [
              "                Produit       Pays  Exportations - Quantité\n",
              "13385            Manioc  Thaïlande             2.521400e+10\n",
              "6167     Huile de Palme  Indonésie             2.333300e+10\n",
              "556                Maïs  Argentine             2.024100e+10\n",
              "8457     Huile de Palme   Malaisie             1.962200e+10\n",
              "6110   Riz (Eq Blanchi)       Inde             1.133700e+10"
            ],
            "text/html": [
              "\n",
              "  <div id=\"df-b935c745-6ad7-417c-b133-cdd229e17c6e\">\n",
              "    <div class=\"colab-df-container\">\n",
              "      <div>\n",
              "<style scoped>\n",
              "    .dataframe tbody tr th:only-of-type {\n",
              "        vertical-align: middle;\n",
              "    }\n",
              "\n",
              "    .dataframe tbody tr th {\n",
              "        vertical-align: top;\n",
              "    }\n",
              "\n",
              "    .dataframe thead th {\n",
              "        text-align: right;\n",
              "    }\n",
              "</style>\n",
              "<table border=\"1\" class=\"dataframe\">\n",
              "  <thead>\n",
              "    <tr style=\"text-align: right;\">\n",
              "      <th></th>\n",
              "      <th>Produit</th>\n",
              "      <th>Pays</th>\n",
              "      <th>Exportations - Quantité</th>\n",
              "    </tr>\n",
              "  </thead>\n",
              "  <tbody>\n",
              "    <tr>\n",
              "      <th>13385</th>\n",
              "      <td>Manioc</td>\n",
              "      <td>Thaïlande</td>\n",
              "      <td>2.521400e+10</td>\n",
              "    </tr>\n",
              "    <tr>\n",
              "      <th>6167</th>\n",
              "      <td>Huile de Palme</td>\n",
              "      <td>Indonésie</td>\n",
              "      <td>2.333300e+10</td>\n",
              "    </tr>\n",
              "    <tr>\n",
              "      <th>556</th>\n",
              "      <td>Maïs</td>\n",
              "      <td>Argentine</td>\n",
              "      <td>2.024100e+10</td>\n",
              "    </tr>\n",
              "    <tr>\n",
              "      <th>8457</th>\n",
              "      <td>Huile de Palme</td>\n",
              "      <td>Malaisie</td>\n",
              "      <td>1.962200e+10</td>\n",
              "    </tr>\n",
              "    <tr>\n",
              "      <th>6110</th>\n",
              "      <td>Riz (Eq Blanchi)</td>\n",
              "      <td>Inde</td>\n",
              "      <td>1.133700e+10</td>\n",
              "    </tr>\n",
              "  </tbody>\n",
              "</table>\n",
              "</div>\n",
              "      <button class=\"colab-df-convert\" onclick=\"convertToInteractive('df-b935c745-6ad7-417c-b133-cdd229e17c6e')\"\n",
              "              title=\"Convert this dataframe to an interactive table.\"\n",
              "              style=\"display:none;\">\n",
              "        \n",
              "  <svg xmlns=\"http://www.w3.org/2000/svg\" height=\"24px\"viewBox=\"0 0 24 24\"\n",
              "       width=\"24px\">\n",
              "    <path d=\"M0 0h24v24H0V0z\" fill=\"none\"/>\n",
              "    <path d=\"M18.56 5.44l.94 2.06.94-2.06 2.06-.94-2.06-.94-.94-2.06-.94 2.06-2.06.94zm-11 1L8.5 8.5l.94-2.06 2.06-.94-2.06-.94L8.5 2.5l-.94 2.06-2.06.94zm10 10l.94 2.06.94-2.06 2.06-.94-2.06-.94-.94-2.06-.94 2.06-2.06.94z\"/><path d=\"M17.41 7.96l-1.37-1.37c-.4-.4-.92-.59-1.43-.59-.52 0-1.04.2-1.43.59L10.3 9.45l-7.72 7.72c-.78.78-.78 2.05 0 2.83L4 21.41c.39.39.9.59 1.41.59.51 0 1.02-.2 1.41-.59l7.78-7.78 2.81-2.81c.8-.78.8-2.07 0-2.86zM5.41 20L4 18.59l7.72-7.72 1.47 1.35L5.41 20z\"/>\n",
              "  </svg>\n",
              "      </button>\n",
              "      \n",
              "  <style>\n",
              "    .colab-df-container {\n",
              "      display:flex;\n",
              "      flex-wrap:wrap;\n",
              "      gap: 12px;\n",
              "    }\n",
              "\n",
              "    .colab-df-convert {\n",
              "      background-color: #E8F0FE;\n",
              "      border: none;\n",
              "      border-radius: 50%;\n",
              "      cursor: pointer;\n",
              "      display: none;\n",
              "      fill: #1967D2;\n",
              "      height: 32px;\n",
              "      padding: 0 0 0 0;\n",
              "      width: 32px;\n",
              "    }\n",
              "\n",
              "    .colab-df-convert:hover {\n",
              "      background-color: #E2EBFA;\n",
              "      box-shadow: 0px 1px 2px rgba(60, 64, 67, 0.3), 0px 1px 3px 1px rgba(60, 64, 67, 0.15);\n",
              "      fill: #174EA6;\n",
              "    }\n",
              "\n",
              "    [theme=dark] .colab-df-convert {\n",
              "      background-color: #3B4455;\n",
              "      fill: #D2E3FC;\n",
              "    }\n",
              "\n",
              "    [theme=dark] .colab-df-convert:hover {\n",
              "      background-color: #434B5C;\n",
              "      box-shadow: 0px 1px 3px 1px rgba(0, 0, 0, 0.15);\n",
              "      filter: drop-shadow(0px 1px 2px rgba(0, 0, 0, 0.3));\n",
              "      fill: #FFFFFF;\n",
              "    }\n",
              "  </style>\n",
              "\n",
              "      <script>\n",
              "        const buttonEl =\n",
              "          document.querySelector('#df-b935c745-6ad7-417c-b133-cdd229e17c6e button.colab-df-convert');\n",
              "        buttonEl.style.display =\n",
              "          google.colab.kernel.accessAllowed ? 'block' : 'none';\n",
              "\n",
              "        async function convertToInteractive(key) {\n",
              "          const element = document.querySelector('#df-b935c745-6ad7-417c-b133-cdd229e17c6e');\n",
              "          const dataTable =\n",
              "            await google.colab.kernel.invokeFunction('convertToInteractive',\n",
              "                                                     [key], {});\n",
              "          if (!dataTable) return;\n",
              "\n",
              "          const docLinkHtml = 'Like what you see? Visit the ' +\n",
              "            '<a target=\"_blank\" href=https://colab.research.google.com/notebooks/data_table.ipynb>data table notebook</a>'\n",
              "            + ' to learn more about interactive tables.';\n",
              "          element.innerHTML = '';\n",
              "          dataTable['output_type'] = 'display_data';\n",
              "          await google.colab.output.renderOutput(dataTable, element);\n",
              "          const docLink = document.createElement('div');\n",
              "          docLink.innerHTML = docLinkHtml;\n",
              "          element.appendChild(docLink);\n",
              "        }\n",
              "      </script>\n",
              "    </div>\n",
              "  </div>\n",
              "  "
            ]
          },
          "metadata": {},
          "execution_count": 80
        }
      ]
    },
    {
      "cell_type": "markdown",
      "source": [
        "#### Liste des 200 plus grandes importations "
      ],
      "metadata": {
        "id": "oqCe9aZQYjGt"
      }
    },
    {
      "cell_type": "code",
      "source": [
        "top_200_import = aliments[aliments['Produit'].isin(list(top_15_export['Produit']))]\\\n",
        "  .sort_values('Importations - Quantité', ascending=False)[['Produit', 'Pays', 'Importations - Quantité', 'Autres Utilisations', 'Disponibilité intérieure', 'Aliments pour animaux', 'Nourriture']].head(200)\n",
        "\n",
        "top_200_import.head()"
      ],
      "metadata": {
        "colab": {
          "base_uri": "https://localhost:8080/",
          "height": 206
        },
        "id": "Tnxd5oj0YltA",
        "outputId": "af6b779d-8896-4d06-90b1-d219e8f35f87"
      },
      "execution_count": 98,
      "outputs": [
        {
          "output_type": "execute_result",
          "data": {
            "text/plain": [
              "     Produit                 Pays  Importations - Quantité  \\\n",
              "2567    Soja  Chine, continentale             6.338100e+10   \n",
              "2537  Manioc  Chine, continentale             2.904600e+10   \n",
              "7015    Maïs                Japon             1.440300e+10   \n",
              "3686     Blé               Égypte             1.033100e+10   \n",
              "7539    Maïs  République de Corée             8.755000e+09   \n",
              "\n",
              "      Autres Utilisations  Disponibilité intérieure  Aliments pour animaux  \\\n",
              "2567         0.000000e+00              7.508100e+10           9.530000e+09   \n",
              "2537         7.940000e+09              3.359000e+10           2.286800e+10   \n",
              "7015         2.880000e+08              1.466100e+10           1.096400e+10   \n",
              "3686         0.000000e+00              1.934100e+10           4.860000e+09   \n",
              "7539         4.700000e+07              8.749000e+09           6.281000e+09   \n",
              "\n",
              "        Nourriture  \n",
              "2567  5.072000e+09  \n",
              "2537  2.645000e+09  \n",
              "7015  1.171000e+09  \n",
              "3686  1.204800e+10  \n",
              "7539  6.140000e+08  "
            ],
            "text/html": [
              "\n",
              "  <div id=\"df-e10d2cea-85fc-42b1-8fe3-4ffd29ffe04d\">\n",
              "    <div class=\"colab-df-container\">\n",
              "      <div>\n",
              "<style scoped>\n",
              "    .dataframe tbody tr th:only-of-type {\n",
              "        vertical-align: middle;\n",
              "    }\n",
              "\n",
              "    .dataframe tbody tr th {\n",
              "        vertical-align: top;\n",
              "    }\n",
              "\n",
              "    .dataframe thead th {\n",
              "        text-align: right;\n",
              "    }\n",
              "</style>\n",
              "<table border=\"1\" class=\"dataframe\">\n",
              "  <thead>\n",
              "    <tr style=\"text-align: right;\">\n",
              "      <th></th>\n",
              "      <th>Produit</th>\n",
              "      <th>Pays</th>\n",
              "      <th>Importations - Quantité</th>\n",
              "      <th>Autres Utilisations</th>\n",
              "      <th>Disponibilité intérieure</th>\n",
              "      <th>Aliments pour animaux</th>\n",
              "      <th>Nourriture</th>\n",
              "    </tr>\n",
              "  </thead>\n",
              "  <tbody>\n",
              "    <tr>\n",
              "      <th>2567</th>\n",
              "      <td>Soja</td>\n",
              "      <td>Chine, continentale</td>\n",
              "      <td>6.338100e+10</td>\n",
              "      <td>0.000000e+00</td>\n",
              "      <td>7.508100e+10</td>\n",
              "      <td>9.530000e+09</td>\n",
              "      <td>5.072000e+09</td>\n",
              "    </tr>\n",
              "    <tr>\n",
              "      <th>2537</th>\n",
              "      <td>Manioc</td>\n",
              "      <td>Chine, continentale</td>\n",
              "      <td>2.904600e+10</td>\n",
              "      <td>7.940000e+09</td>\n",
              "      <td>3.359000e+10</td>\n",
              "      <td>2.286800e+10</td>\n",
              "      <td>2.645000e+09</td>\n",
              "    </tr>\n",
              "    <tr>\n",
              "      <th>7015</th>\n",
              "      <td>Maïs</td>\n",
              "      <td>Japon</td>\n",
              "      <td>1.440300e+10</td>\n",
              "      <td>2.880000e+08</td>\n",
              "      <td>1.466100e+10</td>\n",
              "      <td>1.096400e+10</td>\n",
              "      <td>1.171000e+09</td>\n",
              "    </tr>\n",
              "    <tr>\n",
              "      <th>3686</th>\n",
              "      <td>Blé</td>\n",
              "      <td>Égypte</td>\n",
              "      <td>1.033100e+10</td>\n",
              "      <td>0.000000e+00</td>\n",
              "      <td>1.934100e+10</td>\n",
              "      <td>4.860000e+09</td>\n",
              "      <td>1.204800e+10</td>\n",
              "    </tr>\n",
              "    <tr>\n",
              "      <th>7539</th>\n",
              "      <td>Maïs</td>\n",
              "      <td>République de Corée</td>\n",
              "      <td>8.755000e+09</td>\n",
              "      <td>4.700000e+07</td>\n",
              "      <td>8.749000e+09</td>\n",
              "      <td>6.281000e+09</td>\n",
              "      <td>6.140000e+08</td>\n",
              "    </tr>\n",
              "  </tbody>\n",
              "</table>\n",
              "</div>\n",
              "      <button class=\"colab-df-convert\" onclick=\"convertToInteractive('df-e10d2cea-85fc-42b1-8fe3-4ffd29ffe04d')\"\n",
              "              title=\"Convert this dataframe to an interactive table.\"\n",
              "              style=\"display:none;\">\n",
              "        \n",
              "  <svg xmlns=\"http://www.w3.org/2000/svg\" height=\"24px\"viewBox=\"0 0 24 24\"\n",
              "       width=\"24px\">\n",
              "    <path d=\"M0 0h24v24H0V0z\" fill=\"none\"/>\n",
              "    <path d=\"M18.56 5.44l.94 2.06.94-2.06 2.06-.94-2.06-.94-.94-2.06-.94 2.06-2.06.94zm-11 1L8.5 8.5l.94-2.06 2.06-.94-2.06-.94L8.5 2.5l-.94 2.06-2.06.94zm10 10l.94 2.06.94-2.06 2.06-.94-2.06-.94-.94-2.06-.94 2.06-2.06.94z\"/><path d=\"M17.41 7.96l-1.37-1.37c-.4-.4-.92-.59-1.43-.59-.52 0-1.04.2-1.43.59L10.3 9.45l-7.72 7.72c-.78.78-.78 2.05 0 2.83L4 21.41c.39.39.9.59 1.41.59.51 0 1.02-.2 1.41-.59l7.78-7.78 2.81-2.81c.8-.78.8-2.07 0-2.86zM5.41 20L4 18.59l7.72-7.72 1.47 1.35L5.41 20z\"/>\n",
              "  </svg>\n",
              "      </button>\n",
              "      \n",
              "  <style>\n",
              "    .colab-df-container {\n",
              "      display:flex;\n",
              "      flex-wrap:wrap;\n",
              "      gap: 12px;\n",
              "    }\n",
              "\n",
              "    .colab-df-convert {\n",
              "      background-color: #E8F0FE;\n",
              "      border: none;\n",
              "      border-radius: 50%;\n",
              "      cursor: pointer;\n",
              "      display: none;\n",
              "      fill: #1967D2;\n",
              "      height: 32px;\n",
              "      padding: 0 0 0 0;\n",
              "      width: 32px;\n",
              "    }\n",
              "\n",
              "    .colab-df-convert:hover {\n",
              "      background-color: #E2EBFA;\n",
              "      box-shadow: 0px 1px 2px rgba(60, 64, 67, 0.3), 0px 1px 3px 1px rgba(60, 64, 67, 0.15);\n",
              "      fill: #174EA6;\n",
              "    }\n",
              "\n",
              "    [theme=dark] .colab-df-convert {\n",
              "      background-color: #3B4455;\n",
              "      fill: #D2E3FC;\n",
              "    }\n",
              "\n",
              "    [theme=dark] .colab-df-convert:hover {\n",
              "      background-color: #434B5C;\n",
              "      box-shadow: 0px 1px 3px 1px rgba(0, 0, 0, 0.15);\n",
              "      filter: drop-shadow(0px 1px 2px rgba(0, 0, 0, 0.3));\n",
              "      fill: #FFFFFF;\n",
              "    }\n",
              "  </style>\n",
              "\n",
              "      <script>\n",
              "        const buttonEl =\n",
              "          document.querySelector('#df-e10d2cea-85fc-42b1-8fe3-4ffd29ffe04d button.colab-df-convert');\n",
              "        buttonEl.style.display =\n",
              "          google.colab.kernel.accessAllowed ? 'block' : 'none';\n",
              "\n",
              "        async function convertToInteractive(key) {\n",
              "          const element = document.querySelector('#df-e10d2cea-85fc-42b1-8fe3-4ffd29ffe04d');\n",
              "          const dataTable =\n",
              "            await google.colab.kernel.invokeFunction('convertToInteractive',\n",
              "                                                     [key], {});\n",
              "          if (!dataTable) return;\n",
              "\n",
              "          const docLinkHtml = 'Like what you see? Visit the ' +\n",
              "            '<a target=\"_blank\" href=https://colab.research.google.com/notebooks/data_table.ipynb>data table notebook</a>'\n",
              "            + ' to learn more about interactive tables.';\n",
              "          element.innerHTML = '';\n",
              "          dataTable['output_type'] = 'display_data';\n",
              "          await google.colab.output.renderOutput(dataTable, element);\n",
              "          const docLink = document.createElement('div');\n",
              "          docLink.innerHTML = docLinkHtml;\n",
              "          element.appendChild(docLink);\n",
              "        }\n",
              "      </script>\n",
              "    </div>\n",
              "  </div>\n",
              "  "
            ]
          },
          "metadata": {},
          "execution_count": 98
        }
      ]
    },
    {
      "cell_type": "markdown",
      "source": [
        "#### Préparation de la table agrégée par produit"
      ],
      "metadata": {
        "id": "jLlDzXHWdiKW"
      }
    },
    {
      "cell_type": "code",
      "source": [
        "table_agr_top_15_export = top_200_import.groupby('Produit')[['Importations - Quantité', 'Autres Utilisations', 'Disponibilité intérieure', 'Aliments pour animaux', 'Nourriture']].sum()\n",
        "table_agr_top_15_export.head()"
      ],
      "metadata": {
        "colab": {
          "base_uri": "https://localhost:8080/",
          "height": 237
        },
        "id": "jCSoHx9XZ-nJ",
        "outputId": "e82b54c3-f10a-4ae0-949d-f861957296b9"
      },
      "execution_count": 100,
      "outputs": [
        {
          "output_type": "execute_result",
          "data": {
            "text/plain": [
              "                 Importations - Quantité  Autres Utilisations  \\\n",
              "Produit                                                         \n",
              "Bananes                     1.063800e+10         0.000000e+00   \n",
              "Blé                         1.614380e+11         1.821400e+10   \n",
              "Huile de Palme              3.468400e+10         2.293700e+10   \n",
              "Légumes, Autres             2.903400e+10         1.900000e+07   \n",
              "Manioc                      3.549900e+10         2.119100e+10   \n",
              "\n",
              "                 Disponibilité intérieure  Aliments pour animaux    Nourriture  \n",
              "Produit                                                                         \n",
              "Bananes                      8.441000e+09           0.000000e+00  7.932000e+09  \n",
              "Blé                          4.904870e+11           1.053310e+11  3.213280e+11  \n",
              "Huile de Palme               3.117200e+10           0.000000e+00  7.971000e+09  \n",
              "Légumes, Autres              8.796700e+10           3.980000e+09  7.648100e+10  \n",
              "Manioc                       6.822900e+10           2.515200e+10  1.531800e+10  "
            ],
            "text/html": [
              "\n",
              "  <div id=\"df-8b91528e-210d-4579-a16b-cfb060e3da8d\">\n",
              "    <div class=\"colab-df-container\">\n",
              "      <div>\n",
              "<style scoped>\n",
              "    .dataframe tbody tr th:only-of-type {\n",
              "        vertical-align: middle;\n",
              "    }\n",
              "\n",
              "    .dataframe tbody tr th {\n",
              "        vertical-align: top;\n",
              "    }\n",
              "\n",
              "    .dataframe thead th {\n",
              "        text-align: right;\n",
              "    }\n",
              "</style>\n",
              "<table border=\"1\" class=\"dataframe\">\n",
              "  <thead>\n",
              "    <tr style=\"text-align: right;\">\n",
              "      <th></th>\n",
              "      <th>Importations - Quantité</th>\n",
              "      <th>Autres Utilisations</th>\n",
              "      <th>Disponibilité intérieure</th>\n",
              "      <th>Aliments pour animaux</th>\n",
              "      <th>Nourriture</th>\n",
              "    </tr>\n",
              "    <tr>\n",
              "      <th>Produit</th>\n",
              "      <th></th>\n",
              "      <th></th>\n",
              "      <th></th>\n",
              "      <th></th>\n",
              "      <th></th>\n",
              "    </tr>\n",
              "  </thead>\n",
              "  <tbody>\n",
              "    <tr>\n",
              "      <th>Bananes</th>\n",
              "      <td>1.063800e+10</td>\n",
              "      <td>0.000000e+00</td>\n",
              "      <td>8.441000e+09</td>\n",
              "      <td>0.000000e+00</td>\n",
              "      <td>7.932000e+09</td>\n",
              "    </tr>\n",
              "    <tr>\n",
              "      <th>Blé</th>\n",
              "      <td>1.614380e+11</td>\n",
              "      <td>1.821400e+10</td>\n",
              "      <td>4.904870e+11</td>\n",
              "      <td>1.053310e+11</td>\n",
              "      <td>3.213280e+11</td>\n",
              "    </tr>\n",
              "    <tr>\n",
              "      <th>Huile de Palme</th>\n",
              "      <td>3.468400e+10</td>\n",
              "      <td>2.293700e+10</td>\n",
              "      <td>3.117200e+10</td>\n",
              "      <td>0.000000e+00</td>\n",
              "      <td>7.971000e+09</td>\n",
              "    </tr>\n",
              "    <tr>\n",
              "      <th>Légumes, Autres</th>\n",
              "      <td>2.903400e+10</td>\n",
              "      <td>1.900000e+07</td>\n",
              "      <td>8.796700e+10</td>\n",
              "      <td>3.980000e+09</td>\n",
              "      <td>7.648100e+10</td>\n",
              "    </tr>\n",
              "    <tr>\n",
              "      <th>Manioc</th>\n",
              "      <td>3.549900e+10</td>\n",
              "      <td>2.119100e+10</td>\n",
              "      <td>6.822900e+10</td>\n",
              "      <td>2.515200e+10</td>\n",
              "      <td>1.531800e+10</td>\n",
              "    </tr>\n",
              "  </tbody>\n",
              "</table>\n",
              "</div>\n",
              "      <button class=\"colab-df-convert\" onclick=\"convertToInteractive('df-8b91528e-210d-4579-a16b-cfb060e3da8d')\"\n",
              "              title=\"Convert this dataframe to an interactive table.\"\n",
              "              style=\"display:none;\">\n",
              "        \n",
              "  <svg xmlns=\"http://www.w3.org/2000/svg\" height=\"24px\"viewBox=\"0 0 24 24\"\n",
              "       width=\"24px\">\n",
              "    <path d=\"M0 0h24v24H0V0z\" fill=\"none\"/>\n",
              "    <path d=\"M18.56 5.44l.94 2.06.94-2.06 2.06-.94-2.06-.94-.94-2.06-.94 2.06-2.06.94zm-11 1L8.5 8.5l.94-2.06 2.06-.94-2.06-.94L8.5 2.5l-.94 2.06-2.06.94zm10 10l.94 2.06.94-2.06 2.06-.94-2.06-.94-.94-2.06-.94 2.06-2.06.94z\"/><path d=\"M17.41 7.96l-1.37-1.37c-.4-.4-.92-.59-1.43-.59-.52 0-1.04.2-1.43.59L10.3 9.45l-7.72 7.72c-.78.78-.78 2.05 0 2.83L4 21.41c.39.39.9.59 1.41.59.51 0 1.02-.2 1.41-.59l7.78-7.78 2.81-2.81c.8-.78.8-2.07 0-2.86zM5.41 20L4 18.59l7.72-7.72 1.47 1.35L5.41 20z\"/>\n",
              "  </svg>\n",
              "      </button>\n",
              "      \n",
              "  <style>\n",
              "    .colab-df-container {\n",
              "      display:flex;\n",
              "      flex-wrap:wrap;\n",
              "      gap: 12px;\n",
              "    }\n",
              "\n",
              "    .colab-df-convert {\n",
              "      background-color: #E8F0FE;\n",
              "      border: none;\n",
              "      border-radius: 50%;\n",
              "      cursor: pointer;\n",
              "      display: none;\n",
              "      fill: #1967D2;\n",
              "      height: 32px;\n",
              "      padding: 0 0 0 0;\n",
              "      width: 32px;\n",
              "    }\n",
              "\n",
              "    .colab-df-convert:hover {\n",
              "      background-color: #E2EBFA;\n",
              "      box-shadow: 0px 1px 2px rgba(60, 64, 67, 0.3), 0px 1px 3px 1px rgba(60, 64, 67, 0.15);\n",
              "      fill: #174EA6;\n",
              "    }\n",
              "\n",
              "    [theme=dark] .colab-df-convert {\n",
              "      background-color: #3B4455;\n",
              "      fill: #D2E3FC;\n",
              "    }\n",
              "\n",
              "    [theme=dark] .colab-df-convert:hover {\n",
              "      background-color: #434B5C;\n",
              "      box-shadow: 0px 1px 3px 1px rgba(0, 0, 0, 0.15);\n",
              "      filter: drop-shadow(0px 1px 2px rgba(0, 0, 0, 0.3));\n",
              "      fill: #FFFFFF;\n",
              "    }\n",
              "  </style>\n",
              "\n",
              "      <script>\n",
              "        const buttonEl =\n",
              "          document.querySelector('#df-8b91528e-210d-4579-a16b-cfb060e3da8d button.colab-df-convert');\n",
              "        buttonEl.style.display =\n",
              "          google.colab.kernel.accessAllowed ? 'block' : 'none';\n",
              "\n",
              "        async function convertToInteractive(key) {\n",
              "          const element = document.querySelector('#df-8b91528e-210d-4579-a16b-cfb060e3da8d');\n",
              "          const dataTable =\n",
              "            await google.colab.kernel.invokeFunction('convertToInteractive',\n",
              "                                                     [key], {});\n",
              "          if (!dataTable) return;\n",
              "\n",
              "          const docLinkHtml = 'Like what you see? Visit the ' +\n",
              "            '<a target=\"_blank\" href=https://colab.research.google.com/notebooks/data_table.ipynb>data table notebook</a>'\n",
              "            + ' to learn more about interactive tables.';\n",
              "          element.innerHTML = '';\n",
              "          dataTable['output_type'] = 'display_data';\n",
              "          await google.colab.output.renderOutput(dataTable, element);\n",
              "          const docLink = document.createElement('div');\n",
              "          docLink.innerHTML = docLinkHtml;\n",
              "          element.appendChild(docLink);\n",
              "        }\n",
              "      </script>\n",
              "    </div>\n",
              "  </div>\n",
              "  "
            ]
          },
          "metadata": {},
          "execution_count": 100
        }
      ]
    },
    {
      "cell_type": "markdown",
      "source": [
        "#### Ratio entre la quantité destinés aux \"Autres utilisations\" et la disponibilité intérieure"
      ],
      "metadata": {
        "id": "mER1grHpZ-aJ"
      }
    },
    {
      "cell_type": "code",
      "source": [
        "table_agr_top_15_export['Ratio Autres utilisations et Dispo intérieure'] = table_agr_top_15_export['Autres Utilisations'] / table_agr_top_15_export['Disponibilité intérieure']\n",
        "table_agr_top_15_export.head()\n"
      ],
      "metadata": {
        "colab": {
          "base_uri": "https://localhost:8080/",
          "height": 281
        },
        "id": "ZyRYS0OFeGHp",
        "outputId": "5592ca2e-0ef4-408a-9e77-98504293dd80"
      },
      "execution_count": 102,
      "outputs": [
        {
          "output_type": "execute_result",
          "data": {
            "text/plain": [
              "                 Importations - Quantité  Autres Utilisations  \\\n",
              "Produit                                                         \n",
              "Bananes                     1.063800e+10         0.000000e+00   \n",
              "Blé                         1.614380e+11         1.821400e+10   \n",
              "Huile de Palme              3.468400e+10         2.293700e+10   \n",
              "Légumes, Autres             2.903400e+10         1.900000e+07   \n",
              "Manioc                      3.549900e+10         2.119100e+10   \n",
              "\n",
              "                 Disponibilité intérieure  Aliments pour animaux  \\\n",
              "Produit                                                            \n",
              "Bananes                      8.441000e+09           0.000000e+00   \n",
              "Blé                          4.904870e+11           1.053310e+11   \n",
              "Huile de Palme               3.117200e+10           0.000000e+00   \n",
              "Légumes, Autres              8.796700e+10           3.980000e+09   \n",
              "Manioc                       6.822900e+10           2.515200e+10   \n",
              "\n",
              "                   Nourriture  Ratio Autres utilisations et Dispo intérieure  \n",
              "Produit                                                                       \n",
              "Bananes          7.932000e+09                                       0.000000  \n",
              "Blé              3.213280e+11                                       0.037135  \n",
              "Huile de Palme   7.971000e+09                                       0.735821  \n",
              "Légumes, Autres  7.648100e+10                                       0.000216  \n",
              "Manioc           1.531800e+10                                       0.310586  "
            ],
            "text/html": [
              "\n",
              "  <div id=\"df-c685e192-baf9-4b0c-8c88-3a49e50dc28f\">\n",
              "    <div class=\"colab-df-container\">\n",
              "      <div>\n",
              "<style scoped>\n",
              "    .dataframe tbody tr th:only-of-type {\n",
              "        vertical-align: middle;\n",
              "    }\n",
              "\n",
              "    .dataframe tbody tr th {\n",
              "        vertical-align: top;\n",
              "    }\n",
              "\n",
              "    .dataframe thead th {\n",
              "        text-align: right;\n",
              "    }\n",
              "</style>\n",
              "<table border=\"1\" class=\"dataframe\">\n",
              "  <thead>\n",
              "    <tr style=\"text-align: right;\">\n",
              "      <th></th>\n",
              "      <th>Importations - Quantité</th>\n",
              "      <th>Autres Utilisations</th>\n",
              "      <th>Disponibilité intérieure</th>\n",
              "      <th>Aliments pour animaux</th>\n",
              "      <th>Nourriture</th>\n",
              "      <th>Ratio Autres utilisations et Dispo intérieure</th>\n",
              "    </tr>\n",
              "    <tr>\n",
              "      <th>Produit</th>\n",
              "      <th></th>\n",
              "      <th></th>\n",
              "      <th></th>\n",
              "      <th></th>\n",
              "      <th></th>\n",
              "      <th></th>\n",
              "    </tr>\n",
              "  </thead>\n",
              "  <tbody>\n",
              "    <tr>\n",
              "      <th>Bananes</th>\n",
              "      <td>1.063800e+10</td>\n",
              "      <td>0.000000e+00</td>\n",
              "      <td>8.441000e+09</td>\n",
              "      <td>0.000000e+00</td>\n",
              "      <td>7.932000e+09</td>\n",
              "      <td>0.000000</td>\n",
              "    </tr>\n",
              "    <tr>\n",
              "      <th>Blé</th>\n",
              "      <td>1.614380e+11</td>\n",
              "      <td>1.821400e+10</td>\n",
              "      <td>4.904870e+11</td>\n",
              "      <td>1.053310e+11</td>\n",
              "      <td>3.213280e+11</td>\n",
              "      <td>0.037135</td>\n",
              "    </tr>\n",
              "    <tr>\n",
              "      <th>Huile de Palme</th>\n",
              "      <td>3.468400e+10</td>\n",
              "      <td>2.293700e+10</td>\n",
              "      <td>3.117200e+10</td>\n",
              "      <td>0.000000e+00</td>\n",
              "      <td>7.971000e+09</td>\n",
              "      <td>0.735821</td>\n",
              "    </tr>\n",
              "    <tr>\n",
              "      <th>Légumes, Autres</th>\n",
              "      <td>2.903400e+10</td>\n",
              "      <td>1.900000e+07</td>\n",
              "      <td>8.796700e+10</td>\n",
              "      <td>3.980000e+09</td>\n",
              "      <td>7.648100e+10</td>\n",
              "      <td>0.000216</td>\n",
              "    </tr>\n",
              "    <tr>\n",
              "      <th>Manioc</th>\n",
              "      <td>3.549900e+10</td>\n",
              "      <td>2.119100e+10</td>\n",
              "      <td>6.822900e+10</td>\n",
              "      <td>2.515200e+10</td>\n",
              "      <td>1.531800e+10</td>\n",
              "      <td>0.310586</td>\n",
              "    </tr>\n",
              "  </tbody>\n",
              "</table>\n",
              "</div>\n",
              "      <button class=\"colab-df-convert\" onclick=\"convertToInteractive('df-c685e192-baf9-4b0c-8c88-3a49e50dc28f')\"\n",
              "              title=\"Convert this dataframe to an interactive table.\"\n",
              "              style=\"display:none;\">\n",
              "        \n",
              "  <svg xmlns=\"http://www.w3.org/2000/svg\" height=\"24px\"viewBox=\"0 0 24 24\"\n",
              "       width=\"24px\">\n",
              "    <path d=\"M0 0h24v24H0V0z\" fill=\"none\"/>\n",
              "    <path d=\"M18.56 5.44l.94 2.06.94-2.06 2.06-.94-2.06-.94-.94-2.06-.94 2.06-2.06.94zm-11 1L8.5 8.5l.94-2.06 2.06-.94-2.06-.94L8.5 2.5l-.94 2.06-2.06.94zm10 10l.94 2.06.94-2.06 2.06-.94-2.06-.94-.94-2.06-.94 2.06-2.06.94z\"/><path d=\"M17.41 7.96l-1.37-1.37c-.4-.4-.92-.59-1.43-.59-.52 0-1.04.2-1.43.59L10.3 9.45l-7.72 7.72c-.78.78-.78 2.05 0 2.83L4 21.41c.39.39.9.59 1.41.59.51 0 1.02-.2 1.41-.59l7.78-7.78 2.81-2.81c.8-.78.8-2.07 0-2.86zM5.41 20L4 18.59l7.72-7.72 1.47 1.35L5.41 20z\"/>\n",
              "  </svg>\n",
              "      </button>\n",
              "      \n",
              "  <style>\n",
              "    .colab-df-container {\n",
              "      display:flex;\n",
              "      flex-wrap:wrap;\n",
              "      gap: 12px;\n",
              "    }\n",
              "\n",
              "    .colab-df-convert {\n",
              "      background-color: #E8F0FE;\n",
              "      border: none;\n",
              "      border-radius: 50%;\n",
              "      cursor: pointer;\n",
              "      display: none;\n",
              "      fill: #1967D2;\n",
              "      height: 32px;\n",
              "      padding: 0 0 0 0;\n",
              "      width: 32px;\n",
              "    }\n",
              "\n",
              "    .colab-df-convert:hover {\n",
              "      background-color: #E2EBFA;\n",
              "      box-shadow: 0px 1px 2px rgba(60, 64, 67, 0.3), 0px 1px 3px 1px rgba(60, 64, 67, 0.15);\n",
              "      fill: #174EA6;\n",
              "    }\n",
              "\n",
              "    [theme=dark] .colab-df-convert {\n",
              "      background-color: #3B4455;\n",
              "      fill: #D2E3FC;\n",
              "    }\n",
              "\n",
              "    [theme=dark] .colab-df-convert:hover {\n",
              "      background-color: #434B5C;\n",
              "      box-shadow: 0px 1px 3px 1px rgba(0, 0, 0, 0.15);\n",
              "      filter: drop-shadow(0px 1px 2px rgba(0, 0, 0, 0.3));\n",
              "      fill: #FFFFFF;\n",
              "    }\n",
              "  </style>\n",
              "\n",
              "      <script>\n",
              "        const buttonEl =\n",
              "          document.querySelector('#df-c685e192-baf9-4b0c-8c88-3a49e50dc28f button.colab-df-convert');\n",
              "        buttonEl.style.display =\n",
              "          google.colab.kernel.accessAllowed ? 'block' : 'none';\n",
              "\n",
              "        async function convertToInteractive(key) {\n",
              "          const element = document.querySelector('#df-c685e192-baf9-4b0c-8c88-3a49e50dc28f');\n",
              "          const dataTable =\n",
              "            await google.colab.kernel.invokeFunction('convertToInteractive',\n",
              "                                                     [key], {});\n",
              "          if (!dataTable) return;\n",
              "\n",
              "          const docLinkHtml = 'Like what you see? Visit the ' +\n",
              "            '<a target=\"_blank\" href=https://colab.research.google.com/notebooks/data_table.ipynb>data table notebook</a>'\n",
              "            + ' to learn more about interactive tables.';\n",
              "          element.innerHTML = '';\n",
              "          dataTable['output_type'] = 'display_data';\n",
              "          await google.colab.output.renderOutput(dataTable, element);\n",
              "          const docLink = document.createElement('div');\n",
              "          docLink.innerHTML = docLinkHtml;\n",
              "          element.appendChild(docLink);\n",
              "        }\n",
              "      </script>\n",
              "    </div>\n",
              "  </div>\n",
              "  "
            ]
          },
          "metadata": {},
          "execution_count": 102
        }
      ]
    },
    {
      "cell_type": "code",
      "source": [
        "print(\n",
        "    \"Les 3 produits qui ont la plus grande valeur du ratio Autres utilisations / Dispo intérieure : \",\n",
        "    table_agr_top_15_export.sort_values('Ratio Autres utilisations et Dispo intérieure', ascending=False)['Ratio Autres utilisations et Dispo intérieure'].head(3)\n",
        ") "
      ],
      "metadata": {
        "colab": {
          "base_uri": "https://localhost:8080/"
        },
        "id": "UWB0ABQleZJJ",
        "outputId": "7e28be3d-4909-4733-ffc7-b16eed113e45"
      },
      "execution_count": 106,
      "outputs": [
        {
          "output_type": "stream",
          "name": "stdout",
          "text": [
            "Les 3 produits qui ont la plus grande valeur du ratio Autres utilisations / Dispo intérieure :  Produit\n",
            "Huile de Palme    0.735821\n",
            "Manioc            0.310586\n",
            "Maïs              0.236274\n",
            "Name: Ratio Autres utilisations et Dispo intérieure, dtype: float64\n"
          ]
        }
      ]
    },
    {
      "cell_type": "markdown",
      "source": [
        "#### Ratio entre la quantité destinée à la nourriture animale et la quantité destinée à la nourriture (animale + humaine)"
      ],
      "metadata": {
        "id": "8I_ncAdrfF2I"
      }
    },
    {
      "cell_type": "code",
      "source": [
        "table_agr_top_15_export['Ratio Nourriture animale et Nourriture totale'] = table_agr_top_15_export['Aliments pour animaux'] / table_agr_top_15_export['Nourriture']\n",
        "table_agr_top_15_export.head()"
      ],
      "metadata": {
        "colab": {
          "base_uri": "https://localhost:8080/",
          "height": 333
        },
        "outputId": "ea0a4915-90aa-429b-abde-1b61d0482e67",
        "id": "VKPAbi-pfF2I"
      },
      "execution_count": 107,
      "outputs": [
        {
          "output_type": "execute_result",
          "data": {
            "text/plain": [
              "                 Importations - Quantité  Autres Utilisations  \\\n",
              "Produit                                                         \n",
              "Bananes                     1.063800e+10         0.000000e+00   \n",
              "Blé                         1.614380e+11         1.821400e+10   \n",
              "Huile de Palme              3.468400e+10         2.293700e+10   \n",
              "Légumes, Autres             2.903400e+10         1.900000e+07   \n",
              "Manioc                      3.549900e+10         2.119100e+10   \n",
              "\n",
              "                 Disponibilité intérieure  Aliments pour animaux  \\\n",
              "Produit                                                            \n",
              "Bananes                      8.441000e+09           0.000000e+00   \n",
              "Blé                          4.904870e+11           1.053310e+11   \n",
              "Huile de Palme               3.117200e+10           0.000000e+00   \n",
              "Légumes, Autres              8.796700e+10           3.980000e+09   \n",
              "Manioc                       6.822900e+10           2.515200e+10   \n",
              "\n",
              "                   Nourriture  Ratio Autres utilisations et Dispo intérieure  \\\n",
              "Produit                                                                        \n",
              "Bananes          7.932000e+09                                       0.000000   \n",
              "Blé              3.213280e+11                                       0.037135   \n",
              "Huile de Palme   7.971000e+09                                       0.735821   \n",
              "Légumes, Autres  7.648100e+10                                       0.000216   \n",
              "Manioc           1.531800e+10                                       0.310586   \n",
              "\n",
              "                 Ratio Nourriture animale et Nourriture totale  \n",
              "Produit                                                         \n",
              "Bananes                                               0.000000  \n",
              "Blé                                                   0.327799  \n",
              "Huile de Palme                                        0.000000  \n",
              "Légumes, Autres                                       0.052039  \n",
              "Manioc                                                1.641990  "
            ],
            "text/html": [
              "\n",
              "  <div id=\"df-5a4dd14c-c946-4105-95f7-0944adebcc3a\">\n",
              "    <div class=\"colab-df-container\">\n",
              "      <div>\n",
              "<style scoped>\n",
              "    .dataframe tbody tr th:only-of-type {\n",
              "        vertical-align: middle;\n",
              "    }\n",
              "\n",
              "    .dataframe tbody tr th {\n",
              "        vertical-align: top;\n",
              "    }\n",
              "\n",
              "    .dataframe thead th {\n",
              "        text-align: right;\n",
              "    }\n",
              "</style>\n",
              "<table border=\"1\" class=\"dataframe\">\n",
              "  <thead>\n",
              "    <tr style=\"text-align: right;\">\n",
              "      <th></th>\n",
              "      <th>Importations - Quantité</th>\n",
              "      <th>Autres Utilisations</th>\n",
              "      <th>Disponibilité intérieure</th>\n",
              "      <th>Aliments pour animaux</th>\n",
              "      <th>Nourriture</th>\n",
              "      <th>Ratio Autres utilisations et Dispo intérieure</th>\n",
              "      <th>Ratio Nourriture animale et Nourriture totale</th>\n",
              "    </tr>\n",
              "    <tr>\n",
              "      <th>Produit</th>\n",
              "      <th></th>\n",
              "      <th></th>\n",
              "      <th></th>\n",
              "      <th></th>\n",
              "      <th></th>\n",
              "      <th></th>\n",
              "      <th></th>\n",
              "    </tr>\n",
              "  </thead>\n",
              "  <tbody>\n",
              "    <tr>\n",
              "      <th>Bananes</th>\n",
              "      <td>1.063800e+10</td>\n",
              "      <td>0.000000e+00</td>\n",
              "      <td>8.441000e+09</td>\n",
              "      <td>0.000000e+00</td>\n",
              "      <td>7.932000e+09</td>\n",
              "      <td>0.000000</td>\n",
              "      <td>0.000000</td>\n",
              "    </tr>\n",
              "    <tr>\n",
              "      <th>Blé</th>\n",
              "      <td>1.614380e+11</td>\n",
              "      <td>1.821400e+10</td>\n",
              "      <td>4.904870e+11</td>\n",
              "      <td>1.053310e+11</td>\n",
              "      <td>3.213280e+11</td>\n",
              "      <td>0.037135</td>\n",
              "      <td>0.327799</td>\n",
              "    </tr>\n",
              "    <tr>\n",
              "      <th>Huile de Palme</th>\n",
              "      <td>3.468400e+10</td>\n",
              "      <td>2.293700e+10</td>\n",
              "      <td>3.117200e+10</td>\n",
              "      <td>0.000000e+00</td>\n",
              "      <td>7.971000e+09</td>\n",
              "      <td>0.735821</td>\n",
              "      <td>0.000000</td>\n",
              "    </tr>\n",
              "    <tr>\n",
              "      <th>Légumes, Autres</th>\n",
              "      <td>2.903400e+10</td>\n",
              "      <td>1.900000e+07</td>\n",
              "      <td>8.796700e+10</td>\n",
              "      <td>3.980000e+09</td>\n",
              "      <td>7.648100e+10</td>\n",
              "      <td>0.000216</td>\n",
              "      <td>0.052039</td>\n",
              "    </tr>\n",
              "    <tr>\n",
              "      <th>Manioc</th>\n",
              "      <td>3.549900e+10</td>\n",
              "      <td>2.119100e+10</td>\n",
              "      <td>6.822900e+10</td>\n",
              "      <td>2.515200e+10</td>\n",
              "      <td>1.531800e+10</td>\n",
              "      <td>0.310586</td>\n",
              "      <td>1.641990</td>\n",
              "    </tr>\n",
              "  </tbody>\n",
              "</table>\n",
              "</div>\n",
              "      <button class=\"colab-df-convert\" onclick=\"convertToInteractive('df-5a4dd14c-c946-4105-95f7-0944adebcc3a')\"\n",
              "              title=\"Convert this dataframe to an interactive table.\"\n",
              "              style=\"display:none;\">\n",
              "        \n",
              "  <svg xmlns=\"http://www.w3.org/2000/svg\" height=\"24px\"viewBox=\"0 0 24 24\"\n",
              "       width=\"24px\">\n",
              "    <path d=\"M0 0h24v24H0V0z\" fill=\"none\"/>\n",
              "    <path d=\"M18.56 5.44l.94 2.06.94-2.06 2.06-.94-2.06-.94-.94-2.06-.94 2.06-2.06.94zm-11 1L8.5 8.5l.94-2.06 2.06-.94-2.06-.94L8.5 2.5l-.94 2.06-2.06.94zm10 10l.94 2.06.94-2.06 2.06-.94-2.06-.94-.94-2.06-.94 2.06-2.06.94z\"/><path d=\"M17.41 7.96l-1.37-1.37c-.4-.4-.92-.59-1.43-.59-.52 0-1.04.2-1.43.59L10.3 9.45l-7.72 7.72c-.78.78-.78 2.05 0 2.83L4 21.41c.39.39.9.59 1.41.59.51 0 1.02-.2 1.41-.59l7.78-7.78 2.81-2.81c.8-.78.8-2.07 0-2.86zM5.41 20L4 18.59l7.72-7.72 1.47 1.35L5.41 20z\"/>\n",
              "  </svg>\n",
              "      </button>\n",
              "      \n",
              "  <style>\n",
              "    .colab-df-container {\n",
              "      display:flex;\n",
              "      flex-wrap:wrap;\n",
              "      gap: 12px;\n",
              "    }\n",
              "\n",
              "    .colab-df-convert {\n",
              "      background-color: #E8F0FE;\n",
              "      border: none;\n",
              "      border-radius: 50%;\n",
              "      cursor: pointer;\n",
              "      display: none;\n",
              "      fill: #1967D2;\n",
              "      height: 32px;\n",
              "      padding: 0 0 0 0;\n",
              "      width: 32px;\n",
              "    }\n",
              "\n",
              "    .colab-df-convert:hover {\n",
              "      background-color: #E2EBFA;\n",
              "      box-shadow: 0px 1px 2px rgba(60, 64, 67, 0.3), 0px 1px 3px 1px rgba(60, 64, 67, 0.15);\n",
              "      fill: #174EA6;\n",
              "    }\n",
              "\n",
              "    [theme=dark] .colab-df-convert {\n",
              "      background-color: #3B4455;\n",
              "      fill: #D2E3FC;\n",
              "    }\n",
              "\n",
              "    [theme=dark] .colab-df-convert:hover {\n",
              "      background-color: #434B5C;\n",
              "      box-shadow: 0px 1px 3px 1px rgba(0, 0, 0, 0.15);\n",
              "      filter: drop-shadow(0px 1px 2px rgba(0, 0, 0, 0.3));\n",
              "      fill: #FFFFFF;\n",
              "    }\n",
              "  </style>\n",
              "\n",
              "      <script>\n",
              "        const buttonEl =\n",
              "          document.querySelector('#df-5a4dd14c-c946-4105-95f7-0944adebcc3a button.colab-df-convert');\n",
              "        buttonEl.style.display =\n",
              "          google.colab.kernel.accessAllowed ? 'block' : 'none';\n",
              "\n",
              "        async function convertToInteractive(key) {\n",
              "          const element = document.querySelector('#df-5a4dd14c-c946-4105-95f7-0944adebcc3a');\n",
              "          const dataTable =\n",
              "            await google.colab.kernel.invokeFunction('convertToInteractive',\n",
              "                                                     [key], {});\n",
              "          if (!dataTable) return;\n",
              "\n",
              "          const docLinkHtml = 'Like what you see? Visit the ' +\n",
              "            '<a target=\"_blank\" href=https://colab.research.google.com/notebooks/data_table.ipynb>data table notebook</a>'\n",
              "            + ' to learn more about interactive tables.';\n",
              "          element.innerHTML = '';\n",
              "          dataTable['output_type'] = 'display_data';\n",
              "          await google.colab.output.renderOutput(dataTable, element);\n",
              "          const docLink = document.createElement('div');\n",
              "          docLink.innerHTML = docLinkHtml;\n",
              "          element.appendChild(docLink);\n",
              "        }\n",
              "      </script>\n",
              "    </div>\n",
              "  </div>\n",
              "  "
            ]
          },
          "metadata": {},
          "execution_count": 107
        }
      ]
    },
    {
      "cell_type": "code",
      "source": [
        "print(\n",
        "    \"Les 3 produits qui ont la plus grande valeur du ratio Nourriture animale / Nourriture totale : \",\n",
        "    table_agr_top_15_export.sort_values('Ratio Nourriture animale et Nourriture totale', ascending=False)['Ratio Nourriture animale et Nourriture totale'].head(3)\n",
        ") "
      ],
      "metadata": {
        "colab": {
          "base_uri": "https://localhost:8080/"
        },
        "outputId": "3af193b2-cb58-4529-cafc-10fe4b74f5c3",
        "id": "wqOt6WAAfF2I"
      },
      "execution_count": 108,
      "outputs": [
        {
          "output_type": "stream",
          "name": "stdout",
          "text": [
            "Les 3 produits qui ont la plus grande valeur du ratio Nourriture animale / Nourriture totale :  Produit\n",
            "Maïs                   6.989189\n",
            "Poissons Pelagiques    2.286462\n",
            "Soja                   1.830892\n",
            "Name: Ratio Nourriture animale et Nourriture totale, dtype: float64\n"
          ]
        }
      ]
    },
    {
      "cell_type": "markdown",
      "source": [
        "### Question 13\n",
        "Combien de tonnes de céréales pourraient être libérées si les USA diminuaient leur production de produits animaux de 10% ?"
      ],
      "metadata": {
        "id": "2-JLn3bxffn_"
      }
    },
    {
      "cell_type": "code",
      "source": [
        "cereal_usa = aliments.query('''`Code Produit` in @code_cereales and Pays in \"États-Unis d'Amérique\"''')['Aliments pour animaux'].sum() * 0.1\n",
        "\n",
        "print(\n",
        "    \"Si les USA diminuaient leur production de produits animaux de 10%, cela libèrerait : \"\n",
        "    f'{round(cereal_usa / 1e6, 2)}', 'Milliers de Tonnes de céréales',\n",
        ")"
      ],
      "metadata": {
        "colab": {
          "base_uri": "https://localhost:8080/"
        },
        "id": "tyMoH2riff9L",
        "outputId": "cfe88611-f23f-466f-f877-ccb3003706cf"
      },
      "execution_count": 126,
      "outputs": [
        {
          "output_type": "stream",
          "name": "stdout",
          "text": [
            "Si les USA diminuaient leur production de produits animaux de 10%, cela libèrerait : 14009.6 Milliers de Tonnes de céréales\n"
          ]
        }
      ]
    },
    {
      "cell_type": "markdown",
      "source": [
        "### Question 14\n",
        "En Thaïlande, quelle proportion de manioc est exportée ?  \n",
        "Quelle est la proportion de personnes en sous-nutrition ?"
      ],
      "metadata": {
        "id": "uXjEjX8Dhj53"
      }
    },
    {
      "cell_type": "code",
      "source": [
        "manioc_thai_export = aliments.query('''`Produit` in 'Manioc' and Pays in \"Thaïlande\"''')['Exportations - Quantité'] / aliments.query('''`Produit` in 'Manioc' and Pays in \"Thaïlande\"''')['Disponibilité intérieure']\n",
        "\n",
        "print(\n",
        "    \"En Thaïlande, la proportion de manioc est exportée vis-à-vis de la Disponibilité intérieure est de : \"\n",
        "    f'{(100*manioc_thai_export.values).round(1)[0]}', '%',\n",
        ")"
      ],
      "metadata": {
        "colab": {
          "base_uri": "https://localhost:8080/"
        },
        "id": "kifuqvYjhkco",
        "outputId": "050c0e34-1f3e-482b-afcf-0cac23773202"
      },
      "execution_count": 155,
      "outputs": [
        {
          "output_type": "stream",
          "name": "stdout",
          "text": [
            "En Thaïlande, la proportion de manioc est exportée vis-à-vis de la Disponibilité intérieure est de : 402.5 %\n"
          ]
        }
      ]
    },
    {
      "cell_type": "code",
      "source": [
        "prop_sous_alim_thai = sous_nutrition_prep.query('''Zone in \"Thaïlande\"''')['Valeur'].values / population.query('''Country in \"Thailand\"''')['Value'].values\n",
        "\n",
        "print(\n",
        "    \"En Thaïlande, la proportion de la population considérée en sous-alimentation est de : \"\n",
        "    f'{(100*prop_sous_alim_thai).round(1)[0]}', '%',\n",
        ")"
      ],
      "metadata": {
        "colab": {
          "base_uri": "https://localhost:8080/"
        },
        "id": "fLJIhPRNkShz",
        "outputId": "2de8d13c-d5bf-42d9-9d22-25a8c18cb48f"
      },
      "execution_count": 171,
      "outputs": [
        {
          "output_type": "stream",
          "name": "stdout",
          "text": [
            "En Thaïlande, la proportion de la population considérée en sous-alimentation est de : 9.1 %\n"
          ]
        }
      ]
    },
    {
      "cell_type": "markdown",
      "source": [
        "\n",
        "\n",
        "---\n",
        "\n",
        "\n",
        "\n",
        "\n",
        "## Etude guidée n°2"
      ],
      "metadata": {
        "id": "5A4pmMQzleEE"
      }
    },
    {
      "cell_type": "markdown",
      "source": [
        "Il s’agit ici d’intégrer toutes les données dans une base de données relationnelle puis de répondre à toutes les questions ci-dessous.  \n",
        "La base de données contiendra 4 tables :\n",
        "- population,\n",
        "- dispo_alim,\n",
        "- equilibre_prod,\n",
        "- sous_nutrition.\n"
      ],
      "metadata": {
        "id": "AZaFZViFld7P"
      }
    },
    {
      "cell_type": "markdown",
      "source": [
        "### Intégration des données dans une base de données relationnelle\n",
        "Préparation et configuration de la base."
      ],
      "metadata": {
        "id": "xi3JB9_BmFvK"
      }
    },
    {
      "cell_type": "code",
      "source": [
        "import sqlite3\n",
        "con = sqlite3.connect(\"fao.db\")\n",
        "cur = con.cursor()"
      ],
      "metadata": {
        "id": "v88NB9Y8mN3h"
      },
      "execution_count": 192,
      "outputs": []
    },
    {
      "cell_type": "markdown",
      "source": [
        "### Question 15\n",
        "Définir une clé primaire pertinente pour la table population.  \n",
        "Intégrer la table dans la base de données relationnelle."
      ],
      "metadata": {
        "id": "cvFLMsbTlrnJ"
      }
    },
    {
      "cell_type": "markdown",
      "source": [
        "La clé primaire retenue pour la table population sera le code pays."
      ],
      "metadata": {
        "id": "202ueHtInLwV"
      }
    },
    {
      "cell_type": "code",
      "source": [
        "#@title\n",
        "#Création de la table population\n",
        "cur.execute('''CREATE TABLE population(\n",
        "           code_pays INTEGER PRIMARY KEY,\n",
        "           pays TEXT,\n",
        "           annee INTEGER,\n",
        "           population REAL)''')"
      ],
      "metadata": {
        "cellView": "form",
        "id": "8gx1jXS0leYM"
      },
      "execution_count": null,
      "outputs": []
    },
    {
      "cell_type": "code",
      "source": [
        "# Preparation de la table population\n",
        "population_prep = population[['Country Code', 'Country', 'Year', 'Value']]\n",
        "population_prep.rename(columns={'Country Code': 'code_pays', 'Country': 'pays', 'Year': 'annee', 'Value': 'population'},inplace=True)"
      ],
      "metadata": {
        "id": "OalO4CU8nca6"
      },
      "execution_count": 188,
      "outputs": []
    },
    {
      "cell_type": "code",
      "source": [
        "# Alimentation de la bdd\n",
        "population_prep.to_sql('population', con, if_exists='append', index=False)"
      ],
      "metadata": {
        "id": "WGGMTmK9oFO1"
      },
      "execution_count": 190,
      "outputs": []
    },
    {
      "cell_type": "code",
      "source": [
        "# Vérification\n",
        "cur.execute(\"\"\" SELECT * FROM population LIMIT 3 \"\"\")\n",
        "cur.fetchall()"
      ],
      "metadata": {
        "colab": {
          "base_uri": "https://localhost:8080/"
        },
        "id": "HVcS--g-oetC",
        "outputId": "44f8b39e-d71c-4c79-c741-e69548f637d1"
      },
      "execution_count": 196,
      "outputs": [
        {
          "output_type": "execute_result",
          "data": {
            "text/plain": [
              "[(1, 'Armenia', 2013, 2977000.0),\n",
              " (2, 'Afghanistan', 2013, 30552000.0),\n",
              " (3, 'Albania', 2013, 3173000.0)]"
            ]
          },
          "metadata": {},
          "execution_count": 196
        }
      ]
    },
    {
      "cell_type": "markdown",
      "source": [
        "### Question 16\n",
        "La table appelée dispo_alim contient pour chaque pays, pour chaque produit, sur l'année 2013, les informations suivantes:\n",
        "- la nature du produit (deux valeurs possibles“animal” ou “végétal”)\n",
        "- disponibilité alimentaire en tonnes\n",
        "- disponibilité alimentaire en Kcal/personne/jour\n",
        "- disponibilité alimentaire de protéines en g/personne/jour\n",
        "- disponibilité alimentaire de matières grasses en g/personne/jour\n",
        "\n",
        "La table contient ces colonnes :\n",
        "- pays,\n",
        "- code_pays,\n",
        "- année,\n",
        "- produit,\n",
        "- code_produit,\n",
        "- origin,\n",
        "- dispo_alim_tonnes,\n",
        "- dispo_alim_kcal_p_j,\n",
        "- dispo_prot,\n",
        "- dispo_mat_gr.\n",
        "\n",
        "Définir une clé primaire pertinente pour la table dispo_alim.  \n",
        "Intégrer la table dans la base de données relationnelle.\n"
      ],
      "metadata": {
        "id": "iqaOWpjEpKWV"
      }
    },
    {
      "cell_type": "markdown",
      "source": [
        "La clé primaire de la table dispo_alim sera id (clé artificielle).  \n",
        "En cas d'évolution future, la création de l'id [PK] est une solution qui restera stable."
      ],
      "metadata": {
        "id": "-7XH7OZgpKWW"
      }
    },
    {
      "cell_type": "code",
      "source": [
        "cur.execute('''DROP TABLE dispo_alim''')"
      ],
      "metadata": {
        "colab": {
          "base_uri": "https://localhost:8080/"
        },
        "id": "bEmm8pSNsLH7",
        "outputId": "1455402c-dcf4-49d0-df32-854e6207ad07"
      },
      "execution_count": 209,
      "outputs": [
        {
          "output_type": "execute_result",
          "data": {
            "text/plain": [
              "<sqlite3.Cursor at 0x7f062c5221f0>"
            ]
          },
          "metadata": {},
          "execution_count": 209
        }
      ]
    },
    {
      "cell_type": "code",
      "source": [
        "#Création de la table population\n",
        "cur.execute('''CREATE TABLE dispo_alim(\n",
        "            id INTEGER primary key,\n",
        "            code_pays INTEGER,\n",
        "            pays TEXT,\n",
        "            annee INTEGER,\n",
        "            produit TEXT,\n",
        "            code_produit INTEGER,\n",
        "            origin TEXT,\n",
        "            dispo_alim_tonnes REAL,\n",
        "            dispo_alim_kcal_p_j REAL,\n",
        "            dispo_prot REAL,\n",
        "            dispo_mat_gr REAL)''')"
      ],
      "metadata": {
        "colab": {
          "base_uri": "https://localhost:8080/"
        },
        "outputId": "e1122fc1-1c52-4035-a1ea-6e38bf9d4158",
        "id": "gIJLkaOApKWW"
      },
      "execution_count": 210,
      "outputs": [
        {
          "output_type": "execute_result",
          "data": {
            "text/plain": [
              "<sqlite3.Cursor at 0x7f062c5221f0>"
            ]
          },
          "metadata": {},
          "execution_count": 210
        }
      ]
    },
    {
      "cell_type": "code",
      "source": [
        "#Préparation de la table dispo_alim à partir du dataframe aliments sur les bilans alimentaires de la FAO\n",
        "dispo_alim = aliments\n",
        "dispo_alim['Disponibilité alimentaire en quantité tonnes'] = dispo_alim['Disponibilité alimentaire en quantité (kg/an)'] / 1000\n",
        "dispo_alim = dispo_alim.rename(columns={'Pays': 'pays', 'Code Pays': 'code_pays', 'Année': 'annee', 'Produit': 'produit', 'Code Produit': 'code_produit', 'Origine': 'origin', 'Disponibilité alimentaire en quantité tonnes': 'dispo_alim_tonnes', 'Disponibilité alimentaire (Kcal/personne/jour)': 'dispo_alim_kcal_p_j', 'Disponibilité de protéines en quantité (kg/an)': 'dispo_prot', 'Disponibilité de matière grasse en quantité (kg/personne/jour)': 'dispo_mat_gr'})\n",
        "dispo_alim['dispo_prot'] *= 1000\n",
        "dispo_alim['dispo_mat_gr'] *= 1000\n",
        "dispo_alim = dispo_alim[['pays', 'code_pays', 'annee', 'produit', 'code_produit', 'origin', 'dispo_alim_tonnes', 'dispo_alim_kcal_p_j', 'dispo_prot', 'dispo_mat_gr']]"
      ],
      "metadata": {
        "id": "7XKSYHZppKWW"
      },
      "execution_count": 211,
      "outputs": []
    },
    {
      "cell_type": "code",
      "source": [
        "# Alimentation de la bdd\n",
        "dispo_alim.to_sql('dispo_alim', con, if_exists='append', index=False)"
      ],
      "metadata": {
        "id": "BxyupPnMpKWX"
      },
      "execution_count": 212,
      "outputs": []
    },
    {
      "cell_type": "code",
      "source": [
        "# Vérification\n",
        "cur.execute(\"\"\" SELECT * FROM dispo_alim LIMIT 1 \"\"\")\n",
        "cur.fetchall()"
      ],
      "metadata": {
        "colab": {
          "base_uri": "https://localhost:8080/"
        },
        "outputId": "b2c1ac7d-b069-43e9-f53b-d85fcf810bd7",
        "id": "XHAJKvtGpKWX"
      },
      "execution_count": 214,
      "outputs": [
        {
          "output_type": "execute_result",
          "data": {
            "text/plain": [
              "[(1,\n",
              "  1,\n",
              "  'Arménie',\n",
              "  2013,\n",
              "  'Abats Comestible',\n",
              "  2736,\n",
              "  'Animale',\n",
              "  13664.43,\n",
              "  14.0,\n",
              "  2444861250.0000005,\n",
              "  0.39000000000000007)]"
            ]
          },
          "metadata": {},
          "execution_count": 214
        }
      ]
    },
    {
      "cell_type": "markdown",
      "source": [
        "### Question 17\n",
        "La table appelée equilibre_prod contient pour chaque pays, pour chaque produit, et pour l'année disponible 2013, les quantités suivantes :\n",
        "- disponibilité intérieure\n",
        "- aliments pour animaux\n",
        "- semences\n",
        "- pertes\n",
        "- transformés\n",
        "- nourriture\n",
        "- autres utilisations\n",
        "\n",
        "Elle contient ces colonnes :\n",
        "- pays,\n",
        "- code_pays, \n",
        "- année,\n",
        "- produit,\n",
        "- code_produit,\n",
        "- dispo_int,\n",
        "- alim_ani,\n",
        "- semences,\n",
        "- pertes,\n",
        "- transfo,\n",
        "- nourriture,\n",
        "- autres_utilisations.\n",
        "\n",
        "Définir une clé primaire pertinente pour la table equilibre_prod.  \n",
        "Intégrer la table dans la base de données relationnelle.\n"
      ],
      "metadata": {
        "id": "uzNdjrHNpLWm"
      }
    },
    {
      "cell_type": "markdown",
      "source": [
        "La clé primaire de la table dispo_alim sera id (clé artificielle).  \n",
        "En cas d'évolution future, la création de l'id [PK] est une solution qui restera stable"
      ],
      "metadata": {
        "id": "QjpHtTt4pLWm"
      }
    },
    {
      "cell_type": "code",
      "source": [
        "#Création de la table equilibre_prod\n",
        "cur.execute(\"\"\"CREATE TABLE equilibre_prod(\n",
        "            id INTEGER PRIMARY KEY,\n",
        "            pays TEXT, \n",
        "            code_pays INTEGER, \n",
        "            annee INTEGER, \n",
        "            produit TEXT, \n",
        "            code_produit INTEGER, \n",
        "            dispo_int REAL, \n",
        "            alim_ani REAL, \n",
        "            semences REAL, \n",
        "            pertes REAL, \n",
        "            nourriture REAL, \n",
        "            autres_utilisations REAL)\"\"\")"
      ],
      "metadata": {
        "colab": {
          "base_uri": "https://localhost:8080/"
        },
        "outputId": "06f04812-e312-48d2-899a-e8bdce6f2168",
        "id": "HCNtiYrApLWn"
      },
      "execution_count": 215,
      "outputs": [
        {
          "output_type": "execute_result",
          "data": {
            "text/plain": [
              "<sqlite3.Cursor at 0x7f062c5221f0>"
            ]
          },
          "metadata": {},
          "execution_count": 215
        }
      ]
    },
    {
      "cell_type": "code",
      "source": [
        "#Préparation de la table equilibre_prod à partir du dataframe aliments sur les bilans alimentaires de la FAO\n",
        "equilibre_prod = aliments\n",
        "equilibre_prod = equilibre_prod.rename(columns={'Pays': 'pays', 'Code Pays': 'code_pays', 'Année': 'annee', 'Produit': 'produit', 'Code Produit': 'code_produit', 'Disponibilité intérieure': 'dispo_int', 'Aliments pour animaux': 'alim_ani', 'Semences': 'semences', 'Pertes': 'pertes', 'Nourriture': 'nourriture', 'Autres Utilisations': 'autres_utilisations'})\n",
        "equilibre_prod = equilibre_prod[['pays', 'code_pays', 'annee', 'produit', 'code_produit', 'dispo_int', 'alim_ani',  'semences', 'pertes', 'nourriture', 'autres_utilisations']]"
      ],
      "metadata": {
        "id": "LJjKI20epLWn"
      },
      "execution_count": 216,
      "outputs": []
    },
    {
      "cell_type": "code",
      "source": [
        "# Alimentation de la bdd\n",
        "equilibre_prod.to_sql('equilibre_prod', con, if_exists='append', index=False)"
      ],
      "metadata": {
        "id": "tXf5zgc_pLWn"
      },
      "execution_count": 217,
      "outputs": []
    },
    {
      "cell_type": "code",
      "source": [
        "# Vérification\n",
        "cur.execute(\"\"\" SELECT * FROM equilibre_prod LIMIT 1 \"\"\")\n",
        "cur.fetchall()"
      ],
      "metadata": {
        "colab": {
          "base_uri": "https://localhost:8080/"
        },
        "outputId": "c64d4060-8596-4d50-9221-a936c5300581",
        "id": "ZNPr_DO-pLWn"
      },
      "execution_count": 218,
      "outputs": [
        {
          "output_type": "execute_result",
          "data": {
            "text/plain": [
              "[(1,\n",
              "  'Arménie',\n",
              "  1,\n",
              "  2013,\n",
              "  'Abats Comestible',\n",
              "  2736,\n",
              "  17000000.0,\n",
              "  0.0,\n",
              "  0.0,\n",
              "  0.0,\n",
              "  14000000.0,\n",
              "  3000000.0)]"
            ]
          },
          "metadata": {},
          "execution_count": 218
        }
      ]
    },
    {
      "cell_type": "markdown",
      "source": [
        "### Question 18\n",
        "La table appelée sous_nutrition, contient le nombre de personnes en sous-alimentation pour chaque pays et pour chaque année.\n",
        "Elle contient 4 colonnes : \n",
        "- pays,\n",
        "- code_pays,\n",
        "- année,\n",
        "- nb_personnes.\n",
        "\n",
        "Définir une clé primaire pertinente pour la table sous_nutrition.  \n",
        "Intégrer la table dans la base de données relationnelle.\n"
      ],
      "metadata": {
        "id": "yul0Pp0JpL8Z"
      }
    },
    {
      "cell_type": "markdown",
      "source": [
        "La clé primaire retenue pour la table sous_nutrition sera le couple pays, année."
      ],
      "metadata": {
        "id": "D38NTh7upL8a"
      }
    },
    {
      "cell_type": "code",
      "source": [
        "#Création de la table sous_nutrition\n",
        "cur.execute(\"\"\"CREATE TABLE sous_nutrition(\n",
        "            pays TEXT, code_pays INTEGER, annee TEXT, nb_personnes REAL, CONSTRAINT pays_annee PRIMARY KEY (pays, annee))\"\"\")"
      ],
      "metadata": {
        "colab": {
          "base_uri": "https://localhost:8080/"
        },
        "outputId": "8bf37234-fb7c-4b3b-efad-66852d072977",
        "id": "6WRbuZiGpL8a"
      },
      "execution_count": 219,
      "outputs": [
        {
          "output_type": "execute_result",
          "data": {
            "text/plain": [
              "<sqlite3.Cursor at 0x7f062c5221f0>"
            ]
          },
          "metadata": {},
          "execution_count": 219
        }
      ]
    },
    {
      "cell_type": "code",
      "source": [
        "# Preparation de la table sous_nutrition\n",
        "sous_nutri = sous_nutrition_prep\n",
        "sous_nutri = sous_nutri.rename(columns={'Zone': 'pays', 'Code zone': 'code_pays', 'Année': 'annee', 'Valeur': 'nb_personnes'})\n",
        "sous_nutri = sous_nutri[['pays', 'code_pays', 'annee', 'nb_personnes']]"
      ],
      "metadata": {
        "id": "vuDvVjNQpL8a"
      },
      "execution_count": 220,
      "outputs": []
    },
    {
      "cell_type": "code",
      "source": [
        "# Alimentation de la bdd\n",
        "sous_nutri.to_sql('sous_nutrition', con, if_exists='append', index=False)"
      ],
      "metadata": {
        "id": "F2bhl3WxpL8b"
      },
      "execution_count": 222,
      "outputs": []
    },
    {
      "cell_type": "code",
      "source": [
        "# Vérification\n",
        "cur.execute(\"\"\" SELECT * FROM sous_nutrition LIMIT 3 \"\"\")\n",
        "cur.fetchall()"
      ],
      "metadata": {
        "colab": {
          "base_uri": "https://localhost:8080/"
        },
        "outputId": "122d3496-49a3-44a3-fd7f-2d104d4fb952",
        "id": "Y0_anKA0pL8b"
      },
      "execution_count": 223,
      "outputs": [
        {
          "output_type": "execute_result",
          "data": {
            "text/plain": [
              "[('Afghanistan', 2, '2012-2014', 8100000.0),\n",
              " ('Afrique du Sud', 202, '2012-2014', 2600000.0),\n",
              " ('Albanie', 3, '2012-2014', 200000.0)]"
            ]
          },
          "metadata": {},
          "execution_count": 223
        }
      ]
    },
    {
      "cell_type": "markdown",
      "source": [
        "### Question 19\n",
        "Formuler les requêtes SQL pour répondre aux questions suivantes :"
      ],
      "metadata": {
        "id": "DVW4OO-epMY1"
      }
    },
    {
      "cell_type": "markdown",
      "source": [
        "#### Quels sont les 10 pays ayant le plus haut ratio disponibilité alimentaire/habitant en termes de protéines (en kg) par habitant, puis en termes de kcal par habitant ?"
      ],
      "metadata": {
        "id": "uzICuEk1upMT"
      }
    },
    {
      "cell_type": "code",
      "source": [
        "#Ratio disponibilité alimentaire en protéines (en kg et kcal) par habitant\n",
        "cur.execute(\"\"\"\n",
        "SELECT pays, ROUND(SUM(dispo_prot)/1000, 2) AS dispo_prot_kg, SUM(dispo_alim_kcal_p_j) AS dispo_kcal \n",
        "FROM dispo_alim\n",
        "WHERE annee = 2013\n",
        "GROUP BY pays \n",
        "ORDER BY(dispo_prot_kg) \n",
        "DESC LIMIT 10\n",
        "\"\"\")\n",
        "cur.fetchall()"
      ],
      "metadata": {
        "colab": {
          "base_uri": "https://localhost:8080/"
        },
        "id": "sgK2tUBDutWq",
        "outputId": "823b64a0-4911-480f-82f0-074f2707ebae"
      },
      "execution_count": 224,
      "outputs": [
        {
          "output_type": "execute_result",
          "data": {
            "text/plain": [
              "[('Chine, continentale', 49587018187.75, 3112.0),\n",
              " ('Inde', 27380733201.0, 2454.0),\n",
              " (\"États-Unis d'Amérique\", 12782292853.3, 3682.0),\n",
              " ('Brésil', 6948283671.3, 3262.0),\n",
              " ('Indonésie', 5672707798.0, 2776.0),\n",
              " ('Fédération de Russie', 5359938692.1, 3360.0),\n",
              " ('Pakistan', 4351259662.75, 2438.0),\n",
              " ('Japon', 4067622634.0, 2726.0),\n",
              " ('Nigéria', 4041071420.75, 2700.0),\n",
              " ('Mexique', 3910550344.4, 3068.0)]"
            ]
          },
          "metadata": {},
          "execution_count": 224
        }
      ]
    },
    {
      "cell_type": "markdown",
      "source": [
        "#### Quels sont les 10 pays ayant le plus faible ratio disponibilité alimentaire/habitant en termes de protéines (en kg) par habitant ?"
      ],
      "metadata": {
        "id": "PpReWnlXu228"
      }
    },
    {
      "cell_type": "code",
      "source": [
        "cur.execute(\"\"\"\n",
        "SELECT PAYS, ROUND(SUM(dispo_prot)/1000, 2) AS dispo_prot_kg\n",
        "FROM dispo_alim\n",
        "WHERE annee = 2013\n",
        "GROUP BY pays\n",
        "ORDER BY(dispo_prot_kg)\n",
        "ASC LIMIT 10\n",
        "\"\"\").fetchall()"
      ],
      "metadata": {
        "colab": {
          "base_uri": "https://localhost:8080/"
        },
        "id": "uQ5P-elXu3Ss",
        "outputId": "93b7abe5-2795-4b35-a924-b9e1bcdd4aeb"
      },
      "execution_count": 225,
      "outputs": [
        {
          "output_type": "execute_result",
          "data": {
            "text/plain": [
              "[('Saint-Kitts-et-Nevis', 1425427.2),\n",
              " ('Dominique', 2004638.4),\n",
              " ('Bermudes', 2143791.0),\n",
              " ('Grenade', 2677348.0),\n",
              " ('Kiribati', 2730448.2),\n",
              " ('Antigua-et-Barbuda', 2742646.5),\n",
              " ('Saint-Vincent-et-les Grenadines', 3432251.95),\n",
              " ('Sao Tomé-et-Principe', 3740629.5),\n",
              " ('Sainte-Lucie', 5695708.2),\n",
              " ('Samoa', 5931505.5)]"
            ]
          },
          "metadata": {},
          "execution_count": 225
        }
      ]
    },
    {
      "cell_type": "markdown",
      "source": [
        "#### Quelle est la quantité totale (en kg) de produits perdus par pays?"
      ],
      "metadata": {
        "id": "sIGXGqCvvA3J"
      }
    },
    {
      "cell_type": "code",
      "source": [
        "cur.execute(\"\"\"\n",
        "SELECT pays, SUM(pertes)\n",
        "FROM equilibre_prod\n",
        "WHERE annee = 2013\n",
        "GROUP BY pays\n",
        "ORDER BY SUM(pertes)\n",
        "DESC LIMIT 20\n",
        "\"\"\").fetchall()"
      ],
      "metadata": {
        "colab": {
          "base_uri": "https://localhost:8080/"
        },
        "id": "pwE67m-JvBLL",
        "outputId": "41ada782-5e08-43f5-a4ec-fb1c1a6ebc79"
      },
      "execution_count": 226,
      "outputs": [
        {
          "output_type": "execute_result",
          "data": {
            "text/plain": [
              "[('Chine, continentale', 89575000000.0),\n",
              " ('Brésil', 75914000000.0),\n",
              " ('Inde', 55930000000.0),\n",
              " ('Nigéria', 19854000000.0),\n",
              " ('Indonésie', 13081000000.0),\n",
              " ('Turquie', 12036000000.0),\n",
              " ('Mexique', 8289000000.0),\n",
              " ('Égypte', 7608000000.0),\n",
              " ('Ghana', 7442000000.0),\n",
              " (\"États-Unis d'Amérique\", 7162000000.0),\n",
              " ('Viet Nam', 6743000000.0),\n",
              " ('Pakistan', 5897000000.0),\n",
              " ('Thaïlande', 5749000000.0),\n",
              " (\"Iran (République islamique d')\", 5450000000.0),\n",
              " ('Fédération de Russie', 4997000000.0),\n",
              " ('Angola', 4799000000.0),\n",
              " ('Ukraine', 4138000000.0),\n",
              " ('Bangladesh', 4080000000.0),\n",
              " ('Cameroun', 3981000000.0),\n",
              " ('Allemagne', 3781000000.0)]"
            ]
          },
          "metadata": {},
          "execution_count": 226
        }
      ]
    },
    {
      "cell_type": "markdown",
      "source": [
        "#### Quels sont les 10 pays pour lesquels la proportion de personnes sous-alimentées est la plus forte ?"
      ],
      "metadata": {
        "id": "IEueLTZXpMY1"
      }
    },
    {
      "cell_type": "code",
      "source": [
        "cur.execute(\"\"\"\n",
        "SELECT pays, SUM(nb_personnes) AS personnes\n",
        "FROM sous_nutrition\n",
        "GROUP BY pays\n",
        "ORDER BY personnes DESC LIMIT 10\n",
        "\"\"\").fetchall()"
      ],
      "metadata": {
        "colab": {
          "base_uri": "https://localhost:8080/"
        },
        "id": "vTlCUBB7vIgy",
        "outputId": "5e62e4b4-9a57-4756-c7c8-56202873361d"
      },
      "execution_count": 228,
      "outputs": [
        {
          "output_type": "execute_result",
          "data": {
            "text/plain": [
              "[('Inde', 213100000.0),\n",
              " ('Chine, continentale', 136200000.0),\n",
              " ('Pakistan', 38400000.0),\n",
              " ('Bangladesh', 26400000.0),\n",
              " ('Éthiopie', 25500000.0),\n",
              " ('Indonésie', 19100000.0),\n",
              " ('République-Unie de Tanzanie', 16500000.0),\n",
              " ('Philippines', 14000000.0),\n",
              " ('Ouganda', 12600000.0),\n",
              " ('Nigéria', 12200000.0)]"
            ]
          },
          "metadata": {},
          "execution_count": 228
        }
      ]
    },
    {
      "cell_type": "markdown",
      "source": [
        "#### Quels sont les 10 produits pour lesquels le ratio Autres utilisations/Disponibilité intérieure est le plus élevé ?"
      ],
      "metadata": {
        "id": "eB0ZOzoJvIUm"
      }
    },
    {
      "cell_type": "code",
      "source": [
        "cur.execute(\"\"\"\n",
        "SELECT produit, ROUND(SUM(autres_utilisations/dispo_int), 2) AS ratio\n",
        "FROM equilibre_prod\n",
        "GROUP BY produit\n",
        "ORDER BY ratio DESC LIMIT 10\n",
        "\"\"\").fetchall()"
      ],
      "metadata": {
        "colab": {
          "base_uri": "https://localhost:8080/"
        },
        "outputId": "b7b63a29-2a59-4399-9dc0-809a2e9192af",
        "id": "Zcr6Afd1pMY2"
      },
      "execution_count": 229,
      "outputs": [
        {
          "output_type": "execute_result",
          "data": {
            "text/plain": [
              "[('Alcool, non Comestible', 112.0),\n",
              " ('Huile de Palme', 96.57),\n",
              " ('Huil Plantes Oleif Autr', 85.36),\n",
              " ('Graisses Animales Crue', 46.64),\n",
              " ('Huile de Palmistes', 44.87),\n",
              " ('Huile de Colza&Moutarde', 42.56),\n",
              " ('Plantes Aquatiques', 40.51),\n",
              " ('Huile de Coco', 35.97),\n",
              " ('Manioc', 28.17),\n",
              " ('Edulcorants Autres', 23.44)]"
            ]
          },
          "metadata": {},
          "execution_count": 229
        }
      ]
    }
  ]
}