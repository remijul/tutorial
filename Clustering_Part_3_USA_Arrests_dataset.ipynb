{
  "nbformat": 4,
  "nbformat_minor": 0,
  "metadata": {
    "colab": {
      "name": "Clustering Part 3 - USA Arrests dataset.ipynb",
      "provenance": [],
      "collapsed_sections": [],
      "toc_visible": true,
      "authorship_tag": "ABX9TyOXoKBLUwfcXBiILMREKMSP",
      "include_colab_link": true
    },
    "kernelspec": {
      "name": "python3",
      "display_name": "Python 3"
    },
    "language_info": {
      "name": "python"
    }
  },
  "cells": [
    {
      "cell_type": "markdown",
      "metadata": {
        "id": "view-in-github",
        "colab_type": "text"
      },
      "source": [
        "<a href=\"https://colab.research.google.com/github/remijul/tutorial/blob/master/Clustering_Part_3_USA_Arrests_dataset.ipynb\" target=\"_parent\"><img src=\"https://colab.research.google.com/assets/colab-badge.svg\" alt=\"Open In Colab\"/></a>"
      ]
    },
    {
      "cell_type": "markdown",
      "source": [
        "# Clustering on USA Arrests dataset \n",
        "\n",
        "---\n",
        "[dataset info](info)\n"
      ],
      "metadata": {
        "id": "ELjMdEf86eHU"
      }
    },
    {
      "cell_type": "markdown",
      "source": [
        "## Objectives"
      ],
      "metadata": {
        "id": "PZgqw-8v6sJr"
      }
    },
    {
      "cell_type": "markdown",
      "source": [
        "## 1.Libraries"
      ],
      "metadata": {
        "id": "Ey3Eqg0f6vhv"
      }
    },
    {
      "cell_type": "code",
      "source": [
        "import pandas as pd\n",
        "import seaborn as sns ; sns.set()\n",
        "import matplotlib.pyplot as plt\n",
        "import numpy as np\n",
        "\n",
        "from sklearn.preprocessing import MinMaxScaler\n",
        "from sklearn.pipeline import Pipeline\n",
        "from sklearn.cluster import KMeans, DBSCAN\n",
        "from sklearn.cluster import AgglomerativeClustering\n",
        "import scipy.cluster.hierarchy as shc\n",
        "from sklearn.decomposition import PCA\n",
        "from sklearn.metrics import silhouette_score"
      ],
      "metadata": {
        "id": "buHIP1897UTV"
      },
      "execution_count": 57,
      "outputs": []
    },
    {
      "cell_type": "markdown",
      "source": [
        "## 2.Data"
      ],
      "metadata": {
        "id": "sDSaYOms6zJ5"
      }
    },
    {
      "cell_type": "code",
      "execution_count": 58,
      "metadata": {
        "colab": {
          "base_uri": "https://localhost:8080/",
          "height": 206
        },
        "id": "7H9j9VEh5u6T",
        "outputId": "9acfb062-0ea3-43b6-fd36-e6f412d1f3c8"
      },
      "outputs": [
        {
          "output_type": "execute_result",
          "data": {
            "text/plain": [
              "            Murder  Assault  UrbanPop  Rape\n",
              "Alabama       13.2      236        58  21.2\n",
              "Alaska        10.0      263        48  44.5\n",
              "Arizona        8.1      294        80  31.0\n",
              "Arkansas       8.8      190        50  19.5\n",
              "California     9.0      276        91  40.6"
            ],
            "text/html": [
              "\n",
              "  <div id=\"df-c52b8826-a7d1-4879-aa1d-761c69f1ecaa\">\n",
              "    <div class=\"colab-df-container\">\n",
              "      <div>\n",
              "<style scoped>\n",
              "    .dataframe tbody tr th:only-of-type {\n",
              "        vertical-align: middle;\n",
              "    }\n",
              "\n",
              "    .dataframe tbody tr th {\n",
              "        vertical-align: top;\n",
              "    }\n",
              "\n",
              "    .dataframe thead th {\n",
              "        text-align: right;\n",
              "    }\n",
              "</style>\n",
              "<table border=\"1\" class=\"dataframe\">\n",
              "  <thead>\n",
              "    <tr style=\"text-align: right;\">\n",
              "      <th></th>\n",
              "      <th>Murder</th>\n",
              "      <th>Assault</th>\n",
              "      <th>UrbanPop</th>\n",
              "      <th>Rape</th>\n",
              "    </tr>\n",
              "  </thead>\n",
              "  <tbody>\n",
              "    <tr>\n",
              "      <th>Alabama</th>\n",
              "      <td>13.2</td>\n",
              "      <td>236</td>\n",
              "      <td>58</td>\n",
              "      <td>21.2</td>\n",
              "    </tr>\n",
              "    <tr>\n",
              "      <th>Alaska</th>\n",
              "      <td>10.0</td>\n",
              "      <td>263</td>\n",
              "      <td>48</td>\n",
              "      <td>44.5</td>\n",
              "    </tr>\n",
              "    <tr>\n",
              "      <th>Arizona</th>\n",
              "      <td>8.1</td>\n",
              "      <td>294</td>\n",
              "      <td>80</td>\n",
              "      <td>31.0</td>\n",
              "    </tr>\n",
              "    <tr>\n",
              "      <th>Arkansas</th>\n",
              "      <td>8.8</td>\n",
              "      <td>190</td>\n",
              "      <td>50</td>\n",
              "      <td>19.5</td>\n",
              "    </tr>\n",
              "    <tr>\n",
              "      <th>California</th>\n",
              "      <td>9.0</td>\n",
              "      <td>276</td>\n",
              "      <td>91</td>\n",
              "      <td>40.6</td>\n",
              "    </tr>\n",
              "  </tbody>\n",
              "</table>\n",
              "</div>\n",
              "      <button class=\"colab-df-convert\" onclick=\"convertToInteractive('df-c52b8826-a7d1-4879-aa1d-761c69f1ecaa')\"\n",
              "              title=\"Convert this dataframe to an interactive table.\"\n",
              "              style=\"display:none;\">\n",
              "        \n",
              "  <svg xmlns=\"http://www.w3.org/2000/svg\" height=\"24px\"viewBox=\"0 0 24 24\"\n",
              "       width=\"24px\">\n",
              "    <path d=\"M0 0h24v24H0V0z\" fill=\"none\"/>\n",
              "    <path d=\"M18.56 5.44l.94 2.06.94-2.06 2.06-.94-2.06-.94-.94-2.06-.94 2.06-2.06.94zm-11 1L8.5 8.5l.94-2.06 2.06-.94-2.06-.94L8.5 2.5l-.94 2.06-2.06.94zm10 10l.94 2.06.94-2.06 2.06-.94-2.06-.94-.94-2.06-.94 2.06-2.06.94z\"/><path d=\"M17.41 7.96l-1.37-1.37c-.4-.4-.92-.59-1.43-.59-.52 0-1.04.2-1.43.59L10.3 9.45l-7.72 7.72c-.78.78-.78 2.05 0 2.83L4 21.41c.39.39.9.59 1.41.59.51 0 1.02-.2 1.41-.59l7.78-7.78 2.81-2.81c.8-.78.8-2.07 0-2.86zM5.41 20L4 18.59l7.72-7.72 1.47 1.35L5.41 20z\"/>\n",
              "  </svg>\n",
              "      </button>\n",
              "      \n",
              "  <style>\n",
              "    .colab-df-container {\n",
              "      display:flex;\n",
              "      flex-wrap:wrap;\n",
              "      gap: 12px;\n",
              "    }\n",
              "\n",
              "    .colab-df-convert {\n",
              "      background-color: #E8F0FE;\n",
              "      border: none;\n",
              "      border-radius: 50%;\n",
              "      cursor: pointer;\n",
              "      display: none;\n",
              "      fill: #1967D2;\n",
              "      height: 32px;\n",
              "      padding: 0 0 0 0;\n",
              "      width: 32px;\n",
              "    }\n",
              "\n",
              "    .colab-df-convert:hover {\n",
              "      background-color: #E2EBFA;\n",
              "      box-shadow: 0px 1px 2px rgba(60, 64, 67, 0.3), 0px 1px 3px 1px rgba(60, 64, 67, 0.15);\n",
              "      fill: #174EA6;\n",
              "    }\n",
              "\n",
              "    [theme=dark] .colab-df-convert {\n",
              "      background-color: #3B4455;\n",
              "      fill: #D2E3FC;\n",
              "    }\n",
              "\n",
              "    [theme=dark] .colab-df-convert:hover {\n",
              "      background-color: #434B5C;\n",
              "      box-shadow: 0px 1px 3px 1px rgba(0, 0, 0, 0.15);\n",
              "      filter: drop-shadow(0px 1px 2px rgba(0, 0, 0, 0.3));\n",
              "      fill: #FFFFFF;\n",
              "    }\n",
              "  </style>\n",
              "\n",
              "      <script>\n",
              "        const buttonEl =\n",
              "          document.querySelector('#df-c52b8826-a7d1-4879-aa1d-761c69f1ecaa button.colab-df-convert');\n",
              "        buttonEl.style.display =\n",
              "          google.colab.kernel.accessAllowed ? 'block' : 'none';\n",
              "\n",
              "        async function convertToInteractive(key) {\n",
              "          const element = document.querySelector('#df-c52b8826-a7d1-4879-aa1d-761c69f1ecaa');\n",
              "          const dataTable =\n",
              "            await google.colab.kernel.invokeFunction('convertToInteractive',\n",
              "                                                     [key], {});\n",
              "          if (!dataTable) return;\n",
              "\n",
              "          const docLinkHtml = 'Like what you see? Visit the ' +\n",
              "            '<a target=\"_blank\" href=https://colab.research.google.com/notebooks/data_table.ipynb>data table notebook</a>'\n",
              "            + ' to learn more about interactive tables.';\n",
              "          element.innerHTML = '';\n",
              "          dataTable['output_type'] = 'display_data';\n",
              "          await google.colab.output.renderOutput(dataTable, element);\n",
              "          const docLink = document.createElement('div');\n",
              "          docLink.innerHTML = docLinkHtml;\n",
              "          element.appendChild(docLink);\n",
              "        }\n",
              "      </script>\n",
              "    </div>\n",
              "  </div>\n",
              "  "
            ]
          },
          "metadata": {},
          "execution_count": 58
        }
      ],
      "source": [
        "url = \"https://raw.githubusercontent.com/remijul/dataset/master/USArrests.csv\"\n",
        "df = pd.read_csv(url, index_col=0)\n",
        "df.head()"
      ]
    },
    {
      "cell_type": "markdown",
      "source": [
        "## 3.Exploratory Data Analysis"
      ],
      "metadata": {
        "id": "kTeMTWSh62db"
      }
    },
    {
      "cell_type": "markdown",
      "source": [
        "### 3.1 Dataset description"
      ],
      "metadata": {
        "id": "gEZxL3T07NnI"
      }
    },
    {
      "cell_type": "markdown",
      "metadata": {
        "id": "7KJBd0fy_P5s"
      },
      "source": [
        "Dimension of dataset : (lines , columns)"
      ]
    },
    {
      "cell_type": "code",
      "metadata": {
        "id": "hmftMuA2_gMt",
        "colab": {
          "base_uri": "https://localhost:8080/"
        },
        "outputId": "8bb0bc0f-0aeb-4d1b-af15-37d5708e2565"
      },
      "source": [
        "df.shape"
      ],
      "execution_count": 59,
      "outputs": [
        {
          "output_type": "execute_result",
          "data": {
            "text/plain": [
              "(50, 4)"
            ]
          },
          "metadata": {},
          "execution_count": 59
        }
      ]
    },
    {
      "cell_type": "markdown",
      "metadata": {
        "id": "HyVOXFrN_kYU"
      },
      "source": [
        "Names and data type of columns.\n"
      ]
    },
    {
      "cell_type": "code",
      "metadata": {
        "id": "5bs0fW82_kYW",
        "colab": {
          "base_uri": "https://localhost:8080/"
        },
        "outputId": "2444d391-fd54-4995-96d7-19e139ce41ee"
      },
      "source": [
        "df.dtypes"
      ],
      "execution_count": 60,
      "outputs": [
        {
          "output_type": "execute_result",
          "data": {
            "text/plain": [
              "Murder      float64\n",
              "Assault       int64\n",
              "UrbanPop      int64\n",
              "Rape        float64\n",
              "dtype: object"
            ]
          },
          "metadata": {},
          "execution_count": 60
        }
      ]
    },
    {
      "cell_type": "markdown",
      "source": [
        "Dataset information."
      ],
      "metadata": {
        "id": "AaAwSCiz9IhY"
      }
    },
    {
      "cell_type": "code",
      "metadata": {
        "id": "mSrT3jgg_uWW",
        "colab": {
          "base_uri": "https://localhost:8080/"
        },
        "outputId": "14d2f075-329a-45ae-dabb-c286c2902c5c"
      },
      "source": [
        "df.info()"
      ],
      "execution_count": 61,
      "outputs": [
        {
          "output_type": "stream",
          "name": "stdout",
          "text": [
            "<class 'pandas.core.frame.DataFrame'>\n",
            "Index: 50 entries, Alabama to Wyoming\n",
            "Data columns (total 4 columns):\n",
            " #   Column    Non-Null Count  Dtype  \n",
            "---  ------    --------------  -----  \n",
            " 0   Murder    50 non-null     float64\n",
            " 1   Assault   50 non-null     int64  \n",
            " 2   UrbanPop  50 non-null     int64  \n",
            " 3   Rape      50 non-null     float64\n",
            "dtypes: float64(2), int64(2)\n",
            "memory usage: 2.0+ KB\n"
          ]
        }
      ]
    },
    {
      "cell_type": "markdown",
      "metadata": {
        "id": "8ukubNIP_uWU"
      },
      "source": [
        "Missing data."
      ]
    },
    {
      "cell_type": "code",
      "metadata": {
        "colab": {
          "base_uri": "https://localhost:8080/"
        },
        "id": "79UrVTwFAFcN",
        "outputId": "4c1d7479-eec5-419c-a886-bc253ed84d15"
      },
      "source": [
        "df.isna().sum()"
      ],
      "execution_count": 62,
      "outputs": [
        {
          "output_type": "execute_result",
          "data": {
            "text/plain": [
              "Murder      0\n",
              "Assault     0\n",
              "UrbanPop    0\n",
              "Rape        0\n",
              "dtype: int64"
            ]
          },
          "metadata": {},
          "execution_count": 62
        }
      ]
    },
    {
      "cell_type": "markdown",
      "source": [
        "### 3.2 Data description"
      ],
      "metadata": {
        "id": "WugVmWnC9VSC"
      }
    },
    {
      "cell_type": "code",
      "source": [
        "df.describe(include='all')"
      ],
      "metadata": {
        "colab": {
          "base_uri": "https://localhost:8080/",
          "height": 300
        },
        "id": "yF7sCnd-9Ty-",
        "outputId": "2fa77731-7ec9-428b-ca41-47384669b59e"
      },
      "execution_count": 63,
      "outputs": [
        {
          "output_type": "execute_result",
          "data": {
            "text/plain": [
              "         Murder     Assault   UrbanPop       Rape\n",
              "count  50.00000   50.000000  50.000000  50.000000\n",
              "mean    7.78800  170.760000  65.540000  21.232000\n",
              "std     4.35551   83.337661  14.474763   9.366385\n",
              "min     0.80000   45.000000  32.000000   7.300000\n",
              "25%     4.07500  109.000000  54.500000  15.075000\n",
              "50%     7.25000  159.000000  66.000000  20.100000\n",
              "75%    11.25000  249.000000  77.750000  26.175000\n",
              "max    17.40000  337.000000  91.000000  46.000000"
            ],
            "text/html": [
              "\n",
              "  <div id=\"df-751b9e90-b750-44b0-9b37-7200dee1e6aa\">\n",
              "    <div class=\"colab-df-container\">\n",
              "      <div>\n",
              "<style scoped>\n",
              "    .dataframe tbody tr th:only-of-type {\n",
              "        vertical-align: middle;\n",
              "    }\n",
              "\n",
              "    .dataframe tbody tr th {\n",
              "        vertical-align: top;\n",
              "    }\n",
              "\n",
              "    .dataframe thead th {\n",
              "        text-align: right;\n",
              "    }\n",
              "</style>\n",
              "<table border=\"1\" class=\"dataframe\">\n",
              "  <thead>\n",
              "    <tr style=\"text-align: right;\">\n",
              "      <th></th>\n",
              "      <th>Murder</th>\n",
              "      <th>Assault</th>\n",
              "      <th>UrbanPop</th>\n",
              "      <th>Rape</th>\n",
              "    </tr>\n",
              "  </thead>\n",
              "  <tbody>\n",
              "    <tr>\n",
              "      <th>count</th>\n",
              "      <td>50.00000</td>\n",
              "      <td>50.000000</td>\n",
              "      <td>50.000000</td>\n",
              "      <td>50.000000</td>\n",
              "    </tr>\n",
              "    <tr>\n",
              "      <th>mean</th>\n",
              "      <td>7.78800</td>\n",
              "      <td>170.760000</td>\n",
              "      <td>65.540000</td>\n",
              "      <td>21.232000</td>\n",
              "    </tr>\n",
              "    <tr>\n",
              "      <th>std</th>\n",
              "      <td>4.35551</td>\n",
              "      <td>83.337661</td>\n",
              "      <td>14.474763</td>\n",
              "      <td>9.366385</td>\n",
              "    </tr>\n",
              "    <tr>\n",
              "      <th>min</th>\n",
              "      <td>0.80000</td>\n",
              "      <td>45.000000</td>\n",
              "      <td>32.000000</td>\n",
              "      <td>7.300000</td>\n",
              "    </tr>\n",
              "    <tr>\n",
              "      <th>25%</th>\n",
              "      <td>4.07500</td>\n",
              "      <td>109.000000</td>\n",
              "      <td>54.500000</td>\n",
              "      <td>15.075000</td>\n",
              "    </tr>\n",
              "    <tr>\n",
              "      <th>50%</th>\n",
              "      <td>7.25000</td>\n",
              "      <td>159.000000</td>\n",
              "      <td>66.000000</td>\n",
              "      <td>20.100000</td>\n",
              "    </tr>\n",
              "    <tr>\n",
              "      <th>75%</th>\n",
              "      <td>11.25000</td>\n",
              "      <td>249.000000</td>\n",
              "      <td>77.750000</td>\n",
              "      <td>26.175000</td>\n",
              "    </tr>\n",
              "    <tr>\n",
              "      <th>max</th>\n",
              "      <td>17.40000</td>\n",
              "      <td>337.000000</td>\n",
              "      <td>91.000000</td>\n",
              "      <td>46.000000</td>\n",
              "    </tr>\n",
              "  </tbody>\n",
              "</table>\n",
              "</div>\n",
              "      <button class=\"colab-df-convert\" onclick=\"convertToInteractive('df-751b9e90-b750-44b0-9b37-7200dee1e6aa')\"\n",
              "              title=\"Convert this dataframe to an interactive table.\"\n",
              "              style=\"display:none;\">\n",
              "        \n",
              "  <svg xmlns=\"http://www.w3.org/2000/svg\" height=\"24px\"viewBox=\"0 0 24 24\"\n",
              "       width=\"24px\">\n",
              "    <path d=\"M0 0h24v24H0V0z\" fill=\"none\"/>\n",
              "    <path d=\"M18.56 5.44l.94 2.06.94-2.06 2.06-.94-2.06-.94-.94-2.06-.94 2.06-2.06.94zm-11 1L8.5 8.5l.94-2.06 2.06-.94-2.06-.94L8.5 2.5l-.94 2.06-2.06.94zm10 10l.94 2.06.94-2.06 2.06-.94-2.06-.94-.94-2.06-.94 2.06-2.06.94z\"/><path d=\"M17.41 7.96l-1.37-1.37c-.4-.4-.92-.59-1.43-.59-.52 0-1.04.2-1.43.59L10.3 9.45l-7.72 7.72c-.78.78-.78 2.05 0 2.83L4 21.41c.39.39.9.59 1.41.59.51 0 1.02-.2 1.41-.59l7.78-7.78 2.81-2.81c.8-.78.8-2.07 0-2.86zM5.41 20L4 18.59l7.72-7.72 1.47 1.35L5.41 20z\"/>\n",
              "  </svg>\n",
              "      </button>\n",
              "      \n",
              "  <style>\n",
              "    .colab-df-container {\n",
              "      display:flex;\n",
              "      flex-wrap:wrap;\n",
              "      gap: 12px;\n",
              "    }\n",
              "\n",
              "    .colab-df-convert {\n",
              "      background-color: #E8F0FE;\n",
              "      border: none;\n",
              "      border-radius: 50%;\n",
              "      cursor: pointer;\n",
              "      display: none;\n",
              "      fill: #1967D2;\n",
              "      height: 32px;\n",
              "      padding: 0 0 0 0;\n",
              "      width: 32px;\n",
              "    }\n",
              "\n",
              "    .colab-df-convert:hover {\n",
              "      background-color: #E2EBFA;\n",
              "      box-shadow: 0px 1px 2px rgba(60, 64, 67, 0.3), 0px 1px 3px 1px rgba(60, 64, 67, 0.15);\n",
              "      fill: #174EA6;\n",
              "    }\n",
              "\n",
              "    [theme=dark] .colab-df-convert {\n",
              "      background-color: #3B4455;\n",
              "      fill: #D2E3FC;\n",
              "    }\n",
              "\n",
              "    [theme=dark] .colab-df-convert:hover {\n",
              "      background-color: #434B5C;\n",
              "      box-shadow: 0px 1px 3px 1px rgba(0, 0, 0, 0.15);\n",
              "      filter: drop-shadow(0px 1px 2px rgba(0, 0, 0, 0.3));\n",
              "      fill: #FFFFFF;\n",
              "    }\n",
              "  </style>\n",
              "\n",
              "      <script>\n",
              "        const buttonEl =\n",
              "          document.querySelector('#df-751b9e90-b750-44b0-9b37-7200dee1e6aa button.colab-df-convert');\n",
              "        buttonEl.style.display =\n",
              "          google.colab.kernel.accessAllowed ? 'block' : 'none';\n",
              "\n",
              "        async function convertToInteractive(key) {\n",
              "          const element = document.querySelector('#df-751b9e90-b750-44b0-9b37-7200dee1e6aa');\n",
              "          const dataTable =\n",
              "            await google.colab.kernel.invokeFunction('convertToInteractive',\n",
              "                                                     [key], {});\n",
              "          if (!dataTable) return;\n",
              "\n",
              "          const docLinkHtml = 'Like what you see? Visit the ' +\n",
              "            '<a target=\"_blank\" href=https://colab.research.google.com/notebooks/data_table.ipynb>data table notebook</a>'\n",
              "            + ' to learn more about interactive tables.';\n",
              "          element.innerHTML = '';\n",
              "          dataTable['output_type'] = 'display_data';\n",
              "          await google.colab.output.renderOutput(dataTable, element);\n",
              "          const docLink = document.createElement('div');\n",
              "          docLink.innerHTML = docLinkHtml;\n",
              "          element.appendChild(docLink);\n",
              "        }\n",
              "      </script>\n",
              "    </div>\n",
              "  </div>\n",
              "  "
            ]
          },
          "metadata": {},
          "execution_count": 63
        }
      ]
    },
    {
      "cell_type": "markdown",
      "source": [
        "### 3.3 Data distribution"
      ],
      "metadata": {
        "id": "5xISTJL7_DVm"
      }
    },
    {
      "cell_type": "code",
      "source": [
        "sns.boxplot(data=df, orient=\"h\", palette=\"Set2\")"
      ],
      "metadata": {
        "colab": {
          "base_uri": "https://localhost:8080/",
          "height": 286
        },
        "id": "Z5s96Uz9_DgB",
        "outputId": "226f9249-4b6b-45d5-f45c-0c5b97ffd960"
      },
      "execution_count": 64,
      "outputs": [
        {
          "output_type": "execute_result",
          "data": {
            "text/plain": [
              "<matplotlib.axes._subplots.AxesSubplot at 0x7f9c2e68e2d0>"
            ]
          },
          "metadata": {},
          "execution_count": 64
        },
        {
          "output_type": "display_data",
          "data": {
            "text/plain": [
              "<Figure size 432x288 with 1 Axes>"
            ],
            "image/png": "[encoded data removed]"
          },
          "metadata": {}
        }
      ]
    },
    {
      "cell_type": "code",
      "source": [
        "sns.histplot(data=df, palette=\"Set2\", kde=True)"
      ],
      "metadata": {
        "colab": {
          "base_uri": "https://localhost:8080/",
          "height": 286
        },
        "id": "UnSwKSOf_UoK",
        "outputId": "f42f6267-42ca-478b-e0ab-ed8b9f181884"
      },
      "execution_count": 65,
      "outputs": [
        {
          "output_type": "execute_result",
          "data": {
            "text/plain": [
              "<matplotlib.axes._subplots.AxesSubplot at 0x7f9c2cd95250>"
            ]
          },
          "metadata": {},
          "execution_count": 65
        },
        {
          "output_type": "display_data",
          "data": {
            "text/plain": [
              "<Figure size 432x288 with 1 Axes>"
            ],
            "image/png": "[encoded data removed]"
          },
          "metadata": {}
        }
      ]
    },
    {
      "cell_type": "markdown",
      "source": [
        "### 3.4 Data correlation"
      ],
      "metadata": {
        "id": "iuThnIFj-DU_"
      }
    },
    {
      "cell_type": "code",
      "source": [
        "df.corr()"
      ],
      "metadata": {
        "colab": {
          "base_uri": "https://localhost:8080/",
          "height": 174
        },
        "id": "VWO138AN9bFV",
        "outputId": "3e44e0af-461e-4a90-8d9b-a3070caa30e3"
      },
      "execution_count": 66,
      "outputs": [
        {
          "output_type": "execute_result",
          "data": {
            "text/plain": [
              "            Murder   Assault  UrbanPop      Rape\n",
              "Murder    1.000000  0.801873  0.069573  0.563579\n",
              "Assault   0.801873  1.000000  0.258872  0.665241\n",
              "UrbanPop  0.069573  0.258872  1.000000  0.411341\n",
              "Rape      0.563579  0.665241  0.411341  1.000000"
            ],
            "text/html": [
              "\n",
              "  <div id=\"df-4434bf1f-308c-498c-b851-5dc122846d36\">\n",
              "    <div class=\"colab-df-container\">\n",
              "      <div>\n",
              "<style scoped>\n",
              "    .dataframe tbody tr th:only-of-type {\n",
              "        vertical-align: middle;\n",
              "    }\n",
              "\n",
              "    .dataframe tbody tr th {\n",
              "        vertical-align: top;\n",
              "    }\n",
              "\n",
              "    .dataframe thead th {\n",
              "        text-align: right;\n",
              "    }\n",
              "</style>\n",
              "<table border=\"1\" class=\"dataframe\">\n",
              "  <thead>\n",
              "    <tr style=\"text-align: right;\">\n",
              "      <th></th>\n",
              "      <th>Murder</th>\n",
              "      <th>Assault</th>\n",
              "      <th>UrbanPop</th>\n",
              "      <th>Rape</th>\n",
              "    </tr>\n",
              "  </thead>\n",
              "  <tbody>\n",
              "    <tr>\n",
              "      <th>Murder</th>\n",
              "      <td>1.000000</td>\n",
              "      <td>0.801873</td>\n",
              "      <td>0.069573</td>\n",
              "      <td>0.563579</td>\n",
              "    </tr>\n",
              "    <tr>\n",
              "      <th>Assault</th>\n",
              "      <td>0.801873</td>\n",
              "      <td>1.000000</td>\n",
              "      <td>0.258872</td>\n",
              "      <td>0.665241</td>\n",
              "    </tr>\n",
              "    <tr>\n",
              "      <th>UrbanPop</th>\n",
              "      <td>0.069573</td>\n",
              "      <td>0.258872</td>\n",
              "      <td>1.000000</td>\n",
              "      <td>0.411341</td>\n",
              "    </tr>\n",
              "    <tr>\n",
              "      <th>Rape</th>\n",
              "      <td>0.563579</td>\n",
              "      <td>0.665241</td>\n",
              "      <td>0.411341</td>\n",
              "      <td>1.000000</td>\n",
              "    </tr>\n",
              "  </tbody>\n",
              "</table>\n",
              "</div>\n",
              "      <button class=\"colab-df-convert\" onclick=\"convertToInteractive('df-4434bf1f-308c-498c-b851-5dc122846d36')\"\n",
              "              title=\"Convert this dataframe to an interactive table.\"\n",
              "              style=\"display:none;\">\n",
              "        \n",
              "  <svg xmlns=\"http://www.w3.org/2000/svg\" height=\"24px\"viewBox=\"0 0 24 24\"\n",
              "       width=\"24px\">\n",
              "    <path d=\"M0 0h24v24H0V0z\" fill=\"none\"/>\n",
              "    <path d=\"M18.56 5.44l.94 2.06.94-2.06 2.06-.94-2.06-.94-.94-2.06-.94 2.06-2.06.94zm-11 1L8.5 8.5l.94-2.06 2.06-.94-2.06-.94L8.5 2.5l-.94 2.06-2.06.94zm10 10l.94 2.06.94-2.06 2.06-.94-2.06-.94-.94-2.06-.94 2.06-2.06.94z\"/><path d=\"M17.41 7.96l-1.37-1.37c-.4-.4-.92-.59-1.43-.59-.52 0-1.04.2-1.43.59L10.3 9.45l-7.72 7.72c-.78.78-.78 2.05 0 2.83L4 21.41c.39.39.9.59 1.41.59.51 0 1.02-.2 1.41-.59l7.78-7.78 2.81-2.81c.8-.78.8-2.07 0-2.86zM5.41 20L4 18.59l7.72-7.72 1.47 1.35L5.41 20z\"/>\n",
              "  </svg>\n",
              "      </button>\n",
              "      \n",
              "  <style>\n",
              "    .colab-df-container {\n",
              "      display:flex;\n",
              "      flex-wrap:wrap;\n",
              "      gap: 12px;\n",
              "    }\n",
              "\n",
              "    .colab-df-convert {\n",
              "      background-color: #E8F0FE;\n",
              "      border: none;\n",
              "      border-radius: 50%;\n",
              "      cursor: pointer;\n",
              "      display: none;\n",
              "      fill: #1967D2;\n",
              "      height: 32px;\n",
              "      padding: 0 0 0 0;\n",
              "      width: 32px;\n",
              "    }\n",
              "\n",
              "    .colab-df-convert:hover {\n",
              "      background-color: #E2EBFA;\n",
              "      box-shadow: 0px 1px 2px rgba(60, 64, 67, 0.3), 0px 1px 3px 1px rgba(60, 64, 67, 0.15);\n",
              "      fill: #174EA6;\n",
              "    }\n",
              "\n",
              "    [theme=dark] .colab-df-convert {\n",
              "      background-color: #3B4455;\n",
              "      fill: #D2E3FC;\n",
              "    }\n",
              "\n",
              "    [theme=dark] .colab-df-convert:hover {\n",
              "      background-color: #434B5C;\n",
              "      box-shadow: 0px 1px 3px 1px rgba(0, 0, 0, 0.15);\n",
              "      filter: drop-shadow(0px 1px 2px rgba(0, 0, 0, 0.3));\n",
              "      fill: #FFFFFF;\n",
              "    }\n",
              "  </style>\n",
              "\n",
              "      <script>\n",
              "        const buttonEl =\n",
              "          document.querySelector('#df-4434bf1f-308c-498c-b851-5dc122846d36 button.colab-df-convert');\n",
              "        buttonEl.style.display =\n",
              "          google.colab.kernel.accessAllowed ? 'block' : 'none';\n",
              "\n",
              "        async function convertToInteractive(key) {\n",
              "          const element = document.querySelector('#df-4434bf1f-308c-498c-b851-5dc122846d36');\n",
              "          const dataTable =\n",
              "            await google.colab.kernel.invokeFunction('convertToInteractive',\n",
              "                                                     [key], {});\n",
              "          if (!dataTable) return;\n",
              "\n",
              "          const docLinkHtml = 'Like what you see? Visit the ' +\n",
              "            '<a target=\"_blank\" href=https://colab.research.google.com/notebooks/data_table.ipynb>data table notebook</a>'\n",
              "            + ' to learn more about interactive tables.';\n",
              "          element.innerHTML = '';\n",
              "          dataTable['output_type'] = 'display_data';\n",
              "          await google.colab.output.renderOutput(dataTable, element);\n",
              "          const docLink = document.createElement('div');\n",
              "          docLink.innerHTML = docLinkHtml;\n",
              "          element.appendChild(docLink);\n",
              "        }\n",
              "      </script>\n",
              "    </div>\n",
              "  </div>\n",
              "  "
            ]
          },
          "metadata": {},
          "execution_count": 66
        }
      ]
    },
    {
      "cell_type": "code",
      "source": [
        "sns.heatmap(df.corr(), annot=True, linewidths=0.5)"
      ],
      "metadata": {
        "colab": {
          "base_uri": "https://localhost:8080/",
          "height": 290
        },
        "id": "i2IJPTwK9912",
        "outputId": "2a5c42e8-382e-4e15-ffd3-68150d9d4ae2"
      },
      "execution_count": 67,
      "outputs": [
        {
          "output_type": "execute_result",
          "data": {
            "text/plain": [
              "<matplotlib.axes._subplots.AxesSubplot at 0x7f9c2cc08410>"
            ]
          },
          "metadata": {},
          "execution_count": 67
        },
        {
          "output_type": "display_data",
          "data": {
            "text/plain": [
              "<Figure size 432x288 with 2 Axes>"
            ],
            "image/png": "[encoded data removed]"
          },
          "metadata": {}
        }
      ]
    },
    {
      "cell_type": "code",
      "source": [
        "sns.pairplot(data=df, palette=\"Set2\", diag_kind='kde')"
      ],
      "metadata": {
        "colab": {
          "base_uri": "https://localhost:8080/",
          "height": 743
        },
        "id": "tOYPbLg9_zuE",
        "outputId": "ad6f5188-b6d4-47b5-b02e-e44b0861634e"
      },
      "execution_count": 68,
      "outputs": [
        {
          "output_type": "execute_result",
          "data": {
            "text/plain": [
              "<seaborn.axisgrid.PairGrid at 0x7f9c2cb94210>"
            ]
          },
          "metadata": {},
          "execution_count": 68
        },
        {
          "output_type": "display_data",
          "data": {
            "text/plain": [
              "<Figure size 720x720 with 20 Axes>"
            ],
            "image/png": "[encoded data removed]"
          },
          "metadata": {}
        }
      ]
    },
    {
      "cell_type": "markdown",
      "source": [
        "## 4.K-means clustering"
      ],
      "metadata": {
        "id": "Tf73-z01Avfc"
      }
    },
    {
      "cell_type": "markdown",
      "source": [
        "### 4.1 A basic model"
      ],
      "metadata": {
        "id": "SI3rJ-v1HA0M"
      }
    },
    {
      "cell_type": "code",
      "source": [
        "scaler = MinMaxScaler()\n",
        "df_scaled = scaler.fit_transform(df)"
      ],
      "metadata": {
        "id": "ABLhtApb_0vv"
      },
      "execution_count": 69,
      "outputs": []
    },
    {
      "cell_type": "code",
      "source": [
        "'''\n",
        "kmeans = Pipeline(steps=[\n",
        "    ('scaler', MinMaxScaler()),\n",
        "    ('model', KMeans(n_clusters=2))]\n",
        "    )\n",
        "'''"
      ],
      "metadata": {
        "id": "xzJ_6NDpDfgT",
        "colab": {
          "base_uri": "https://localhost:8080/",
          "height": 35
        },
        "outputId": "4219348a-c763-4471-c34d-c1a3be523e64"
      },
      "execution_count": 70,
      "outputs": [
        {
          "output_type": "execute_result",
          "data": {
            "text/plain": [
              "\"\\nkmeans = Pipeline(steps=[\\n    ('scaler', MinMaxScaler()),\\n    ('model', KMeans(n_clusters=2))]\\n    )\\n\""
            ],
            "application/vnd.google.colaboratory.intrinsic+json": {
              "type": "string"
            }
          },
          "metadata": {},
          "execution_count": 70
        }
      ]
    },
    {
      "cell_type": "code",
      "source": [
        "kmeans = KMeans(n_clusters=2)\n",
        "kmeans.fit(df_scaled)"
      ],
      "metadata": {
        "colab": {
          "base_uri": "https://localhost:8080/"
        },
        "id": "bPHaCFqHBn91",
        "outputId": "cb2ead21-41d2-48a4-a579-7ba554ce19c0"
      },
      "execution_count": 71,
      "outputs": [
        {
          "output_type": "execute_result",
          "data": {
            "text/plain": [
              "KMeans(n_clusters=2)"
            ]
          },
          "metadata": {},
          "execution_count": 71
        }
      ]
    },
    {
      "cell_type": "code",
      "source": [
        "kmeans.labels_"
      ],
      "metadata": {
        "colab": {
          "base_uri": "https://localhost:8080/"
        },
        "id": "42eLrJU9Bp_3",
        "outputId": "0d0bd28c-baaf-4310-e929-11c2ba76d135"
      },
      "execution_count": 72,
      "outputs": [
        {
          "output_type": "execute_result",
          "data": {
            "text/plain": [
              "array([1, 1, 1, 0, 1, 1, 0, 0, 1, 1, 0, 0, 1, 0, 0, 0, 0, 1, 0, 1, 0, 1,\n",
              "       0, 1, 1, 0, 0, 1, 0, 0, 1, 1, 1, 0, 0, 0, 0, 0, 0, 1, 0, 1, 1, 0,\n",
              "       0, 0, 0, 0, 0, 0], dtype=int32)"
            ]
          },
          "metadata": {},
          "execution_count": 72
        }
      ]
    },
    {
      "cell_type": "code",
      "source": [
        "kmeans.cluster_centers_"
      ],
      "metadata": {
        "colab": {
          "base_uri": "https://localhost:8080/"
        },
        "id": "4m1PWsyPB7jX",
        "outputId": "e3080fa4-f575-459b-a46b-26339387d0f4"
      },
      "execution_count": 73,
      "outputs": [
        {
          "output_type": "execute_result",
          "data": {
            "text/plain": [
              "array([[0.24518072, 0.23778539, 0.53615819, 0.22334195],\n",
              "       [0.68463855, 0.72003425, 0.61694915, 0.56498708]])"
            ]
          },
          "metadata": {},
          "execution_count": 73
        }
      ]
    },
    {
      "cell_type": "code",
      "source": [
        "sns.scatterplot(df_scaled[:, 0], df_scaled[:, 2], hue = kmeans.labels_)\n",
        "sns.scatterplot(kmeans.cluster_centers_[:, 0], kmeans.cluster_centers_[:, 2], color='green', s=100)\n",
        "plt.xlabel(df.columns[0])\n",
        "plt.ylabel(df.columns[2])\n",
        "plt.title(\"Cluster\")"
      ],
      "metadata": {
        "colab": {
          "base_uri": "https://localhost:8080/",
          "height": 412
        },
        "id": "Uh_U9jXUD5hP",
        "outputId": "e43d6b91-0640-4cfe-9757-6965d2ee1128"
      },
      "execution_count": 74,
      "outputs": [
        {
          "output_type": "stream",
          "name": "stderr",
          "text": [
            "/usr/local/lib/python3.7/dist-packages/seaborn/_decorators.py:43: FutureWarning: Pass the following variables as keyword args: x, y. From version 0.12, the only valid positional argument will be `data`, and passing other arguments without an explicit keyword will result in an error or misinterpretation.\n",
            "  FutureWarning\n",
            "/usr/local/lib/python3.7/dist-packages/seaborn/_decorators.py:43: FutureWarning: Pass the following variables as keyword args: x, y. From version 0.12, the only valid positional argument will be `data`, and passing other arguments without an explicit keyword will result in an error or misinterpretation.\n",
            "  FutureWarning\n"
          ]
        },
        {
          "output_type": "execute_result",
          "data": {
            "text/plain": [
              "Text(0.5, 1.0, 'Cluster')"
            ]
          },
          "metadata": {},
          "execution_count": 74
        },
        {
          "output_type": "display_data",
          "data": {
            "text/plain": [
              "<Figure size 432x288 with 1 Axes>"
            ],
            "image/png": "[encoded data removed]"
          },
          "metadata": {}
        }
      ]
    },
    {
      "cell_type": "markdown",
      "metadata": {
        "id": "AeA0Z4MA0wHh"
      },
      "source": [
        "###4.2 Choice of K with the Silhouette method\n",
        "More info about the Silhouette [Wikipedia](https://en.wikipedia.org/wiki/Silhouette_(clustering)).  \n",
        "Silhouette refers to a method of interpretation and validation of consistency within clusters of data.\n",
        "The technique provides a succinct graphical representation of how well each object has been classified."
      ]
    },
    {
      "cell_type": "code",
      "metadata": {
        "id": "3BkIVGV80wHl"
      },
      "source": [
        "silhouette = [] \n",
        "K = range(2,10) \n",
        "\n",
        "for k in K: \n",
        "  #Build / Fit the model \n",
        "  model_kmean = KMeans(n_clusters=k).fit(df_scaled) \n",
        "\n",
        "  # Labels of clusters\n",
        "  labels = model_kmean.labels_\n",
        "\n",
        "  # Store inertia in a list\n",
        "  silhouette.append(silhouette_score(df_scaled, labels, metric='euclidean')) "
      ],
      "execution_count": 75,
      "outputs": []
    },
    {
      "cell_type": "markdown",
      "metadata": {
        "id": "HpnBGkWk0wHm"
      },
      "source": [
        "Let's vizualise the silhouette plot..."
      ]
    },
    {
      "cell_type": "code",
      "metadata": {
        "colab": {
          "base_uri": "https://localhost:8080/",
          "height": 301
        },
        "outputId": "f32753f6-5add-47f2-9b60-a47cbddce191",
        "id": "Ix-rIWiQ0wHm"
      },
      "source": [
        "plt.title(\"Silhouette method\")\n",
        "plt.xlabel(\"K : nb of clusters\")\n",
        "plt.ylabel(\"silhouette\")\n",
        "plt.plot(K, silhouette)\n",
        "plt.show()"
      ],
      "execution_count": 76,
      "outputs": [
        {
          "output_type": "display_data",
          "data": {
            "text/plain": [
              "<Figure size 432x288 with 1 Axes>"
            ],
            "image/png": "[encoded data removed]"
          },
          "metadata": {}
        }
      ]
    },
    {
      "cell_type": "markdown",
      "metadata": {
        "id": "aDr2BGGR0wHn"
      },
      "source": [
        "The silhouette is clearly shown on the graph, 2 clusters lead to the optimal `s` score.  \n",
        "BUT, knowledge about data and its context is useful (expecially with unsupervised machine learning) : so 4 clusters could be also a right choice."
      ]
    },
    {
      "cell_type": "markdown",
      "source": [
        "## 5.Agglomerative clustering\n",
        "`Agglomerative Clustering` is the provided class from sklearn for recursively merges pair of clusters of sample data; uses linkage distance.  \n",
        "See [sklearn Agglomerative Clustering](https://scikit-learn.org/stable/modules/generated/sklearn.cluster.AgglomerativeClustering.html#sklearn.cluster.AgglomerativeClustering)"
      ],
      "metadata": {
        "id": "uP4tHj6TKFn7"
      }
    },
    {
      "cell_type": "markdown",
      "source": [
        "###5.1 Compute clustering"
      ],
      "metadata": {
        "id": "K7Pup0PrCtpm"
      }
    },
    {
      "cell_type": "code",
      "source": [
        "hc = AgglomerativeClustering(compute_distances=True).fit(df_scaled)\n",
        "hc"
      ],
      "metadata": {
        "colab": {
          "base_uri": "https://localhost:8080/"
        },
        "id": "uFotcPKlCx8E",
        "outputId": "ad50f318-bc78-4dc6-8e3a-9125c8726d5b"
      },
      "execution_count": 77,
      "outputs": [
        {
          "output_type": "execute_result",
          "data": {
            "text/plain": [
              "AgglomerativeClustering(compute_distances=True)"
            ]
          },
          "metadata": {},
          "execution_count": 77
        }
      ]
    },
    {
      "cell_type": "markdown",
      "source": [
        "Get the number of clusters found by the algorithm (`n_clusters=2` is the default)"
      ],
      "metadata": {
        "id": "0tWGqC5_C7Qg"
      }
    },
    {
      "cell_type": "code",
      "source": [
        "hc.n_clusters_"
      ],
      "metadata": {
        "colab": {
          "base_uri": "https://localhost:8080/"
        },
        "id": "Ff3Xb6INC7X_",
        "outputId": "96d79f3f-25a8-4ab6-82a9-d7dd0ee2e8ff"
      },
      "execution_count": 78,
      "outputs": [
        {
          "output_type": "execute_result",
          "data": {
            "text/plain": [
              "2"
            ]
          },
          "metadata": {},
          "execution_count": 78
        }
      ]
    },
    {
      "cell_type": "markdown",
      "source": [
        "Get the cluster labels for each point."
      ],
      "metadata": {
        "id": "eNJ59lKwC7eW"
      }
    },
    {
      "cell_type": "code",
      "source": [
        "hc.labels_"
      ],
      "metadata": {
        "colab": {
          "base_uri": "https://localhost:8080/"
        },
        "id": "MSrHtKRCC7yH",
        "outputId": "785e2b8f-29ae-4451-ea15-0ab9228f0228"
      },
      "execution_count": 79,
      "outputs": [
        {
          "output_type": "execute_result",
          "data": {
            "text/plain": [
              "array([1, 1, 1, 0, 1, 1, 0, 0, 1, 1, 0, 0, 1, 0, 0, 0, 0, 1, 0, 1, 0, 1,\n",
              "       0, 1, 1, 0, 0, 1, 0, 0, 1, 1, 1, 0, 0, 0, 0, 0, 0, 1, 0, 1, 1, 0,\n",
              "       0, 0, 0, 0, 0, 0])"
            ]
          },
          "metadata": {},
          "execution_count": 79
        }
      ]
    },
    {
      "cell_type": "markdown",
      "source": [
        "Get the number of leaves in the hierarchical tree."
      ],
      "metadata": {
        "id": "E30jWaOoC70i"
      }
    },
    {
      "cell_type": "code",
      "source": [
        "hc.n_leaves_"
      ],
      "metadata": {
        "colab": {
          "base_uri": "https://localhost:8080/"
        },
        "id": "OplifNiJC72X",
        "outputId": "5eade58b-c6c5-4b8a-f079-315f65f93622"
      },
      "execution_count": 80,
      "outputs": [
        {
          "output_type": "execute_result",
          "data": {
            "text/plain": [
              "50"
            ]
          },
          "metadata": {},
          "execution_count": 80
        }
      ]
    },
    {
      "cell_type": "markdown",
      "source": [
        "Get the estimated number of connected components in the graph."
      ],
      "metadata": {
        "id": "prTufsaxC79f"
      }
    },
    {
      "cell_type": "code",
      "source": [
        "hc.n_connected_components_"
      ],
      "metadata": {
        "colab": {
          "base_uri": "https://localhost:8080/"
        },
        "id": "PR43_4oHC8Ev",
        "outputId": "687e3935-629d-409b-eac9-adea79e2b4b4"
      },
      "execution_count": 81,
      "outputs": [
        {
          "output_type": "execute_result",
          "data": {
            "text/plain": [
              "1"
            ]
          },
          "metadata": {},
          "execution_count": 81
        }
      ]
    },
    {
      "cell_type": "markdown",
      "source": [
        "Get the number of features seen during fit."
      ],
      "metadata": {
        "id": "tXd106XUC8LV"
      }
    },
    {
      "cell_type": "code",
      "source": [
        "hc.n_features_in_"
      ],
      "metadata": {
        "colab": {
          "base_uri": "https://localhost:8080/"
        },
        "id": "hl8FlkaLC8g9",
        "outputId": "d9c1aaa5-e147-4ac3-d4da-17e2e7db8952"
      },
      "execution_count": 82,
      "outputs": [
        {
          "output_type": "execute_result",
          "data": {
            "text/plain": [
              "4"
            ]
          },
          "metadata": {},
          "execution_count": 82
        }
      ]
    },
    {
      "cell_type": "markdown",
      "source": [
        "Get the names of features seen during fit."
      ],
      "metadata": {
        "id": "c8yz2_SkDOcD"
      }
    },
    {
      "cell_type": "code",
      "source": [
        "#hc.feature_names_in_"
      ],
      "metadata": {
        "id": "JuM2XbosE6M8"
      },
      "execution_count": 83,
      "outputs": []
    },
    {
      "cell_type": "markdown",
      "source": [
        "Get the children of each non-leaf node."
      ],
      "metadata": {
        "id": "aMmJgGqaE6cE"
      }
    },
    {
      "cell_type": "code",
      "source": [
        "hc.children_"
      ],
      "metadata": {
        "colab": {
          "base_uri": "https://localhost:8080/"
        },
        "id": "M4uHnTXCDOjh",
        "outputId": "a95c2362-1c7a-44f5-a434-505ff75257cc"
      },
      "execution_count": 84,
      "outputs": [
        {
          "output_type": "execute_result",
          "data": {
            "text/plain": [
              "array([[14, 28],\n",
              "       [12, 31],\n",
              "       [13, 15],\n",
              "       [22, 48],\n",
              "       [19, 30],\n",
              "       [35, 45],\n",
              "       [36, 46],\n",
              "       [18, 50],\n",
              "       [40, 47],\n",
              "       [25, 26],\n",
              "       [49, 55],\n",
              "       [37, 52],\n",
              "       [ 0, 17],\n",
              "       [23, 39],\n",
              "       [34, 61],\n",
              "       [20, 29],\n",
              "       [11, 59],\n",
              "       [33, 44],\n",
              "       [21, 54],\n",
              "       [42, 51],\n",
              "       [ 9, 41],\n",
              "       [ 6, 38],\n",
              "       [43, 56],\n",
              "       [62, 70],\n",
              "       [ 3, 16],\n",
              "       [ 4, 27],\n",
              "       [ 5, 24],\n",
              "       [53, 57],\n",
              "       [32, 63],\n",
              "       [60, 64],\n",
              "       [ 2, 68],\n",
              "       [58, 67],\n",
              "       [65, 71],\n",
              "       [ 8, 80],\n",
              "       [66, 77],\n",
              "       [ 7, 82],\n",
              "       [10, 72],\n",
              "       [69, 76],\n",
              "       [74, 79],\n",
              "       [75, 83],\n",
              "       [73, 78],\n",
              "       [85, 86],\n",
              "       [87, 89],\n",
              "       [81, 84],\n",
              "       [ 1, 92],\n",
              "       [88, 91],\n",
              "       [90, 94],\n",
              "       [93, 95],\n",
              "       [96, 97]])"
            ]
          },
          "metadata": {},
          "execution_count": 84
        }
      ]
    },
    {
      "cell_type": "markdown",
      "source": [
        "And finally, get the distances between nodes in the corresponding place in `children_`."
      ],
      "metadata": {
        "id": "sp9-CrIvDOqX"
      }
    },
    {
      "cell_type": "code",
      "source": [
        "hc.distances_"
      ],
      "metadata": {
        "colab": {
          "base_uri": "https://localhost:8080/"
        },
        "id": "OilLz-EpDOw3",
        "outputId": "7adc1e36-1327-4567-9347-3a98a8a8667c"
      },
      "execution_count": 85,
      "outputs": [
        {
          "output_type": "execute_result",
          "data": {
            "text/plain": [
              "array([0.04998623, 0.08718602, 0.10756005, 0.1244755 , 0.13268872,\n",
              "       0.14457807, 0.14831256, 0.16911103, 0.17864748, 0.18530589,\n",
              "       0.1878152 , 0.19093789, 0.19646763, 0.19810454, 0.19946072,\n",
              "       0.2064051 , 0.20964281, 0.24236626, 0.24476699, 0.25732397,\n",
              "       0.26704783, 0.28642176, 0.28778061, 0.28826119, 0.29643718,\n",
              "       0.30350213, 0.32298338, 0.32975058, 0.33071893, 0.33261661,\n",
              "       0.33292919, 0.34970491, 0.38370079, 0.44833287, 0.4619419 ,\n",
              "       0.48816973, 0.49411173, 0.5425684 , 0.5489781 , 0.6463219 ,\n",
              "       0.70300102, 0.71401703, 0.71490398, 0.73695949, 0.82400754,\n",
              "       0.95501923, 1.59125576, 1.77090278, 3.62966353])"
            ]
          },
          "metadata": {},
          "execution_count": 85
        }
      ]
    },
    {
      "cell_type": "markdown",
      "source": [
        "###5.2 Plot the dendogram\n",
        "Dendogram's plot is not a implemented in sklearn.  \n",
        "Howerver `scipy` offers the possibility to plot dendogram thanks to the `cluster.hierarchy` module.  \n",
        "See [scipy - cluster.hierarchy.dendrogram](https://docs.scipy.org/doc/scipy/reference/generated/scipy.cluster.hierarchy.dendrogram.html#scipy.cluster.hierarchy.dendrogram) documentation."
      ],
      "metadata": {
        "id": "-f-2_h0kDO4q"
      }
    },
    {
      "cell_type": "code",
      "source": [
        "import scipy.cluster.hierarchy as shc"
      ],
      "metadata": {
        "id": "Zr6KEmWjGb8v"
      },
      "execution_count": 86,
      "outputs": []
    },
    {
      "cell_type": "markdown",
      "source": [
        "First, compute again the linkage matrix (distances)."
      ],
      "metadata": {
        "id": "7u1l-vDcF4AX"
      }
    },
    {
      "cell_type": "code",
      "source": [
        "linkage_matrix = shc.linkage(df_scaled, method='complete')\n",
        "linkage_matrix"
      ],
      "metadata": {
        "colab": {
          "base_uri": "https://localhost:8080/"
        },
        "id": "guDAPasMDO_d",
        "outputId": "1af8ef27-4d5f-456d-f7bf-df0bd35a8ebc"
      },
      "execution_count": 87,
      "outputs": [
        {
          "output_type": "execute_result",
          "data": {
            "text/plain": [
              "array([[1.40000000e+01, 2.80000000e+01, 4.99862313e-02, 2.00000000e+00],\n",
              "       [1.20000000e+01, 3.10000000e+01, 8.71860232e-02, 2.00000000e+00],\n",
              "       [1.30000000e+01, 1.50000000e+01, 1.07560045e-01, 2.00000000e+00],\n",
              "       [2.20000000e+01, 4.80000000e+01, 1.24475500e-01, 2.00000000e+00],\n",
              "       [1.90000000e+01, 3.00000000e+01, 1.32688717e-01, 2.00000000e+00],\n",
              "       [3.50000000e+01, 4.50000000e+01, 1.44578065e-01, 2.00000000e+00],\n",
              "       [3.60000000e+01, 4.60000000e+01, 1.48312560e-01, 2.00000000e+00],\n",
              "       [1.80000000e+01, 5.00000000e+01, 1.64643019e-01, 3.00000000e+00],\n",
              "       [4.00000000e+01, 4.70000000e+01, 1.78647476e-01, 2.00000000e+00],\n",
              "       [4.90000000e+01, 5.50000000e+01, 1.80637986e-01, 3.00000000e+00],\n",
              "       [2.50000000e+01, 2.60000000e+01, 1.85305888e-01, 2.00000000e+00],\n",
              "       [3.40000000e+01, 3.70000000e+01, 1.91633219e-01, 2.00000000e+00],\n",
              "       [0.00000000e+00, 1.70000000e+01, 1.96467627e-01, 2.00000000e+00],\n",
              "       [2.30000000e+01, 3.90000000e+01, 1.98104543e-01, 2.00000000e+00],\n",
              "       [5.20000000e+01, 6.10000000e+01, 2.05998779e-01, 4.00000000e+00],\n",
              "       [2.00000000e+01, 2.90000000e+01, 2.06405099e-01, 2.00000000e+00],\n",
              "       [1.10000000e+01, 6.00000000e+01, 2.16538623e-01, 3.00000000e+00],\n",
              "       [4.20000000e+01, 5.10000000e+01, 2.29819788e-01, 3.00000000e+00],\n",
              "       [3.30000000e+01, 4.40000000e+01, 2.42366264e-01, 2.00000000e+00],\n",
              "       [9.00000000e+00, 4.10000000e+01, 2.67047825e-01, 2.00000000e+00],\n",
              "       [6.00000000e+00, 5.30000000e+01, 2.73319585e-01, 3.00000000e+00],\n",
              "       [2.10000000e+01, 5.40000000e+01, 2.75191180e-01, 3.00000000e+00],\n",
              "       [1.00000000e+01, 4.30000000e+01, 2.96109424e-01, 2.00000000e+00],\n",
              "       [3.00000000e+00, 1.60000000e+01, 2.96437177e-01, 2.00000000e+00],\n",
              "       [6.20000000e+01, 6.90000000e+01, 3.00051588e-01, 4.00000000e+00],\n",
              "       [4.00000000e+00, 2.70000000e+01, 3.03502126e-01, 2.00000000e+00],\n",
              "       [2.00000000e+00, 7.10000000e+01, 3.12198814e-01, 4.00000000e+00],\n",
              "       [5.00000000e+00, 2.40000000e+01, 3.22983376e-01, 2.00000000e+00],\n",
              "       [3.20000000e+01, 6.30000000e+01, 3.27390069e-01, 3.00000000e+00],\n",
              "       [5.90000000e+01, 6.40000000e+01, 3.28207764e-01, 7.00000000e+00],\n",
              "       [5.80000000e+01, 6.80000000e+01, 3.34938999e-01, 4.00000000e+00],\n",
              "       [5.70000000e+01, 6.60000000e+01, 3.48259065e-01, 6.00000000e+00],\n",
              "       [3.80000000e+01, 6.50000000e+01, 3.68055569e-01, 3.00000000e+00],\n",
              "       [7.00000000e+00, 8.20000000e+01, 4.15829960e-01, 4.00000000e+00],\n",
              "       [5.60000000e+01, 7.90000000e+01, 4.30920627e-01, 9.00000000e+00],\n",
              "       [6.70000000e+01, 7.60000000e+01, 4.45448922e-01, 7.00000000e+00],\n",
              "       [7.00000000e+01, 7.20000000e+01, 4.56089408e-01, 5.00000000e+00],\n",
              "       [7.70000000e+01, 8.50000000e+01, 5.13933573e-01, 9.00000000e+00],\n",
              "       [8.00000000e+00, 7.50000000e+01, 5.24182085e-01, 3.00000000e+00],\n",
              "       [7.30000000e+01, 8.40000000e+01, 5.70292660e-01, 1.10000000e+01],\n",
              "       [8.00000000e+01, 8.10000000e+01, 5.72280859e-01, 1.00000000e+01],\n",
              "       [7.40000000e+01, 7.80000000e+01, 6.28259724e-01, 7.00000000e+00],\n",
              "       [8.70000000e+01, 8.80000000e+01, 6.89638484e-01, 1.20000000e+01],\n",
              "       [8.30000000e+01, 8.60000000e+01, 6.93789893e-01, 9.00000000e+00],\n",
              "       [8.90000000e+01, 9.30000000e+01, 7.75126334e-01, 2.00000000e+01],\n",
              "       [1.00000000e+00, 9.10000000e+01, 8.00685195e-01, 8.00000000e+00],\n",
              "       [9.20000000e+01, 9.50000000e+01, 1.09071001e+00, 2.00000000e+01],\n",
              "       [9.00000000e+01, 9.40000000e+01, 1.10206630e+00, 3.00000000e+01],\n",
              "       [9.60000000e+01, 9.70000000e+01, 1.59572503e+00, 5.00000000e+01]])"
            ]
          },
          "metadata": {},
          "execution_count": 87
        }
      ]
    },
    {
      "cell_type": "markdown",
      "source": [
        "**What kind of interpretation of this matrix ?**"
      ],
      "metadata": {
        "id": "DhjeS8ZNDPFi"
      }
    },
    {
      "cell_type": "markdown",
      "source": [
        "Then, plot the dendogram."
      ],
      "metadata": {
        "id": "aNZ_AFn2GVfp"
      }
    },
    {
      "cell_type": "code",
      "metadata": {
        "id": "9SyCRZzXoq5O",
        "colab": {
          "base_uri": "https://localhost:8080/",
          "height": 447
        },
        "outputId": "7c1d884f-3081-4ca6-f84d-5b7868ebb80a"
      },
      "source": [
        "plt.figure(figsize=(10, 7))\n",
        "plt.title(\"USA Arrests Dendogram\")\n",
        "dend = shc.dendrogram(linkage_matrix, labels=df.index, orientation='right')"
      ],
      "execution_count": 88,
      "outputs": [
        {
          "output_type": "display_data",
          "data": {
            "text/plain": [
              "<Figure size 720x504 with 1 Axes>"
            ],
            "image/png": "[encoded data removed]"
          },
          "metadata": {}
        }
      ]
    },
    {
      "cell_type": "code",
      "source": [
        "distance"
      ],
      "metadata": {
        "colab": {
          "base_uri": "https://localhost:8080/"
        },
        "id": "tSMMAbRRJyg6",
        "outputId": "ebd3d77d-fe27-4f0c-e90b-82f8f8ed243e"
      },
      "execution_count": 89,
      "outputs": [
        {
          "output_type": "execute_result",
          "data": {
            "text/plain": [
              "0.6"
            ]
          },
          "metadata": {},
          "execution_count": 89
        }
      ]
    },
    {
      "cell_type": "markdown",
      "metadata": {
        "id": "oQ_qvc-wIbKo"
      },
      "source": [
        "Let's vizualise the silhouette plot..."
      ]
    },
    {
      "cell_type": "code",
      "metadata": {
        "colab": {
          "base_uri": "https://localhost:8080/",
          "height": 301
        },
        "outputId": "6855b3ab-6b6d-4fc5-8c1d-b290ccda3a50",
        "id": "RLFCR133IbKo"
      },
      "source": [
        "plt.title(\"Silhouette method\")\n",
        "plt.xlabel(\"K : nb of clusters\")\n",
        "plt.ylabel(\"silhouette\")\n",
        "plt.plot(K, silhouette)\n",
        "plt.show()"
      ],
      "execution_count": 90,
      "outputs": [
        {
          "output_type": "display_data",
          "data": {
            "text/plain": [
              "<Figure size 432x288 with 1 Axes>"
            ],
            "image/png": "[encoded data removed]"
          },
          "metadata": {}
        }
      ]
    },
    {
      "cell_type": "markdown",
      "metadata": {
        "id": "2gFr4WKrIbKp"
      },
      "source": [
        "The silhouette is clearly shown on the graph, 2 clusters lead to the optimal `s` score.  \n",
        "BUT, knowledge about data and its context is useful (expecially with unsupervised machine learning) : so 4 clusters could be also a right choice."
      ]
    },
    {
      "cell_type": "markdown",
      "source": [
        "## 6.Cluster interpretation\n",
        "Let's consider the K-means method as the most appropriate, with K=4 as the best choice."
      ],
      "metadata": {
        "id": "2apvptfISzvC"
      }
    },
    {
      "cell_type": "code",
      "source": [
        "kmeans_4 = KMeans(n_clusters=4).fit(df_scaled)\n",
        "kmeans_4"
      ],
      "metadata": {
        "colab": {
          "base_uri": "https://localhost:8080/"
        },
        "id": "aXifKibfRsjI",
        "outputId": "8878bcab-07f2-43e8-c5f0-fd9e7f98d8ff"
      },
      "execution_count": 91,
      "outputs": [
        {
          "output_type": "execute_result",
          "data": {
            "text/plain": [
              "KMeans(n_clusters=4)"
            ]
          },
          "metadata": {},
          "execution_count": 91
        }
      ]
    },
    {
      "cell_type": "markdown",
      "source": [
        "The labels of our data as the following :"
      ],
      "metadata": {
        "id": "UOytQtEyU9FD"
      }
    },
    {
      "cell_type": "code",
      "source": [
        "kmeans_4.labels_"
      ],
      "metadata": {
        "colab": {
          "base_uri": "https://localhost:8080/"
        },
        "id": "XwuzZziLTLQ9",
        "outputId": "6bd7ad7e-8b2d-4fd1-8d90-0e18bf319da9"
      },
      "execution_count": 92,
      "outputs": [
        {
          "output_type": "execute_result",
          "data": {
            "text/plain": [
              "array([1, 3, 3, 1, 3, 3, 2, 2, 3, 1, 2, 0, 3, 2, 0, 2, 0, 1, 0, 3, 2, 3,\n",
              "       0, 1, 3, 0, 0, 3, 0, 2, 3, 3, 1, 0, 2, 2, 2, 2, 2, 1, 0, 1, 3, 2,\n",
              "       0, 2, 2, 0, 0, 2], dtype=int32)"
            ]
          },
          "metadata": {},
          "execution_count": 92
        }
      ]
    },
    {
      "cell_type": "markdown",
      "source": [
        "Let's describe some statistics on the differents clusters."
      ],
      "metadata": {
        "id": "RoTa3t1UVDyr"
      }
    },
    {
      "cell_type": "code",
      "source": [
        "df['cluster'] = kmeans_4.labels_\n",
        "df.head()"
      ],
      "metadata": {
        "id": "0iMD1owWTU8W",
        "colab": {
          "base_uri": "https://localhost:8080/",
          "height": 206
        },
        "outputId": "e63b612d-b712-4cd1-eba6-c9be378ba169"
      },
      "execution_count": 93,
      "outputs": [
        {
          "output_type": "execute_result",
          "data": {
            "text/plain": [
              "            Murder  Assault  UrbanPop  Rape  cluster\n",
              "Alabama       13.2      236        58  21.2        1\n",
              "Alaska        10.0      263        48  44.5        3\n",
              "Arizona        8.1      294        80  31.0        3\n",
              "Arkansas       8.8      190        50  19.5        1\n",
              "California     9.0      276        91  40.6        3"
            ],
            "text/html": [
              "\n",
              "  <div id=\"df-e7677ba0-5372-4403-a59e-2733efb32b40\">\n",
              "    <div class=\"colab-df-container\">\n",
              "      <div>\n",
              "<style scoped>\n",
              "    .dataframe tbody tr th:only-of-type {\n",
              "        vertical-align: middle;\n",
              "    }\n",
              "\n",
              "    .dataframe tbody tr th {\n",
              "        vertical-align: top;\n",
              "    }\n",
              "\n",
              "    .dataframe thead th {\n",
              "        text-align: right;\n",
              "    }\n",
              "</style>\n",
              "<table border=\"1\" class=\"dataframe\">\n",
              "  <thead>\n",
              "    <tr style=\"text-align: right;\">\n",
              "      <th></th>\n",
              "      <th>Murder</th>\n",
              "      <th>Assault</th>\n",
              "      <th>UrbanPop</th>\n",
              "      <th>Rape</th>\n",
              "      <th>cluster</th>\n",
              "    </tr>\n",
              "  </thead>\n",
              "  <tbody>\n",
              "    <tr>\n",
              "      <th>Alabama</th>\n",
              "      <td>13.2</td>\n",
              "      <td>236</td>\n",
              "      <td>58</td>\n",
              "      <td>21.2</td>\n",
              "      <td>1</td>\n",
              "    </tr>\n",
              "    <tr>\n",
              "      <th>Alaska</th>\n",
              "      <td>10.0</td>\n",
              "      <td>263</td>\n",
              "      <td>48</td>\n",
              "      <td>44.5</td>\n",
              "      <td>3</td>\n",
              "    </tr>\n",
              "    <tr>\n",
              "      <th>Arizona</th>\n",
              "      <td>8.1</td>\n",
              "      <td>294</td>\n",
              "      <td>80</td>\n",
              "      <td>31.0</td>\n",
              "      <td>3</td>\n",
              "    </tr>\n",
              "    <tr>\n",
              "      <th>Arkansas</th>\n",
              "      <td>8.8</td>\n",
              "      <td>190</td>\n",
              "      <td>50</td>\n",
              "      <td>19.5</td>\n",
              "      <td>1</td>\n",
              "    </tr>\n",
              "    <tr>\n",
              "      <th>California</th>\n",
              "      <td>9.0</td>\n",
              "      <td>276</td>\n",
              "      <td>91</td>\n",
              "      <td>40.6</td>\n",
              "      <td>3</td>\n",
              "    </tr>\n",
              "  </tbody>\n",
              "</table>\n",
              "</div>\n",
              "      <button class=\"colab-df-convert\" onclick=\"convertToInteractive('df-e7677ba0-5372-4403-a59e-2733efb32b40')\"\n",
              "              title=\"Convert this dataframe to an interactive table.\"\n",
              "              style=\"display:none;\">\n",
              "        \n",
              "  <svg xmlns=\"http://www.w3.org/2000/svg\" height=\"24px\"viewBox=\"0 0 24 24\"\n",
              "       width=\"24px\">\n",
              "    <path d=\"M0 0h24v24H0V0z\" fill=\"none\"/>\n",
              "    <path d=\"M18.56 5.44l.94 2.06.94-2.06 2.06-.94-2.06-.94-.94-2.06-.94 2.06-2.06.94zm-11 1L8.5 8.5l.94-2.06 2.06-.94-2.06-.94L8.5 2.5l-.94 2.06-2.06.94zm10 10l.94 2.06.94-2.06 2.06-.94-2.06-.94-.94-2.06-.94 2.06-2.06.94z\"/><path d=\"M17.41 7.96l-1.37-1.37c-.4-.4-.92-.59-1.43-.59-.52 0-1.04.2-1.43.59L10.3 9.45l-7.72 7.72c-.78.78-.78 2.05 0 2.83L4 21.41c.39.39.9.59 1.41.59.51 0 1.02-.2 1.41-.59l7.78-7.78 2.81-2.81c.8-.78.8-2.07 0-2.86zM5.41 20L4 18.59l7.72-7.72 1.47 1.35L5.41 20z\"/>\n",
              "  </svg>\n",
              "      </button>\n",
              "      \n",
              "  <style>\n",
              "    .colab-df-container {\n",
              "      display:flex;\n",
              "      flex-wrap:wrap;\n",
              "      gap: 12px;\n",
              "    }\n",
              "\n",
              "    .colab-df-convert {\n",
              "      background-color: #E8F0FE;\n",
              "      border: none;\n",
              "      border-radius: 50%;\n",
              "      cursor: pointer;\n",
              "      display: none;\n",
              "      fill: #1967D2;\n",
              "      height: 32px;\n",
              "      padding: 0 0 0 0;\n",
              "      width: 32px;\n",
              "    }\n",
              "\n",
              "    .colab-df-convert:hover {\n",
              "      background-color: #E2EBFA;\n",
              "      box-shadow: 0px 1px 2px rgba(60, 64, 67, 0.3), 0px 1px 3px 1px rgba(60, 64, 67, 0.15);\n",
              "      fill: #174EA6;\n",
              "    }\n",
              "\n",
              "    [theme=dark] .colab-df-convert {\n",
              "      background-color: #3B4455;\n",
              "      fill: #D2E3FC;\n",
              "    }\n",
              "\n",
              "    [theme=dark] .colab-df-convert:hover {\n",
              "      background-color: #434B5C;\n",
              "      box-shadow: 0px 1px 3px 1px rgba(0, 0, 0, 0.15);\n",
              "      filter: drop-shadow(0px 1px 2px rgba(0, 0, 0, 0.3));\n",
              "      fill: #FFFFFF;\n",
              "    }\n",
              "  </style>\n",
              "\n",
              "      <script>\n",
              "        const buttonEl =\n",
              "          document.querySelector('#df-e7677ba0-5372-4403-a59e-2733efb32b40 button.colab-df-convert');\n",
              "        buttonEl.style.display =\n",
              "          google.colab.kernel.accessAllowed ? 'block' : 'none';\n",
              "\n",
              "        async function convertToInteractive(key) {\n",
              "          const element = document.querySelector('#df-e7677ba0-5372-4403-a59e-2733efb32b40');\n",
              "          const dataTable =\n",
              "            await google.colab.kernel.invokeFunction('convertToInteractive',\n",
              "                                                     [key], {});\n",
              "          if (!dataTable) return;\n",
              "\n",
              "          const docLinkHtml = 'Like what you see? Visit the ' +\n",
              "            '<a target=\"_blank\" href=https://colab.research.google.com/notebooks/data_table.ipynb>data table notebook</a>'\n",
              "            + ' to learn more about interactive tables.';\n",
              "          element.innerHTML = '';\n",
              "          dataTable['output_type'] = 'display_data';\n",
              "          await google.colab.output.renderOutput(dataTable, element);\n",
              "          const docLink = document.createElement('div');\n",
              "          docLink.innerHTML = docLinkHtml;\n",
              "          element.appendChild(docLink);\n",
              "        }\n",
              "      </script>\n",
              "    </div>\n",
              "  </div>\n",
              "  "
            ]
          },
          "metadata": {},
          "execution_count": 93
        }
      ]
    },
    {
      "cell_type": "code",
      "source": [
        "df.groupby('cluster').mean()"
      ],
      "metadata": {
        "colab": {
          "base_uri": "https://localhost:8080/",
          "height": 206
        },
        "id": "RxB2XoRtTjfi",
        "outputId": "1c09c571-0a70-48bd-d927-2ab962880325"
      },
      "execution_count": 94,
      "outputs": [
        {
          "output_type": "execute_result",
          "data": {
            "text/plain": [
              "            Murder     Assault   UrbanPop       Rape\n",
              "cluster                                             \n",
              "0         3.600000   78.538462  52.076923  12.176923\n",
              "1        13.937500  243.625000  53.750000  21.412500\n",
              "2         5.656250  138.875000  73.875000  18.781250\n",
              "3        10.815385  257.384615  76.000000  33.192308"
            ],
            "text/html": [
              "\n",
              "  <div id=\"df-72ada6ad-0af3-4c78-a7d8-849f6b7592f5\">\n",
              "    <div class=\"colab-df-container\">\n",
              "      <div>\n",
              "<style scoped>\n",
              "    .dataframe tbody tr th:only-of-type {\n",
              "        vertical-align: middle;\n",
              "    }\n",
              "\n",
              "    .dataframe tbody tr th {\n",
              "        vertical-align: top;\n",
              "    }\n",
              "\n",
              "    .dataframe thead th {\n",
              "        text-align: right;\n",
              "    }\n",
              "</style>\n",
              "<table border=\"1\" class=\"dataframe\">\n",
              "  <thead>\n",
              "    <tr style=\"text-align: right;\">\n",
              "      <th></th>\n",
              "      <th>Murder</th>\n",
              "      <th>Assault</th>\n",
              "      <th>UrbanPop</th>\n",
              "      <th>Rape</th>\n",
              "    </tr>\n",
              "    <tr>\n",
              "      <th>cluster</th>\n",
              "      <th></th>\n",
              "      <th></th>\n",
              "      <th></th>\n",
              "      <th></th>\n",
              "    </tr>\n",
              "  </thead>\n",
              "  <tbody>\n",
              "    <tr>\n",
              "      <th>0</th>\n",
              "      <td>3.600000</td>\n",
              "      <td>78.538462</td>\n",
              "      <td>52.076923</td>\n",
              "      <td>12.176923</td>\n",
              "    </tr>\n",
              "    <tr>\n",
              "      <th>1</th>\n",
              "      <td>13.937500</td>\n",
              "      <td>243.625000</td>\n",
              "      <td>53.750000</td>\n",
              "      <td>21.412500</td>\n",
              "    </tr>\n",
              "    <tr>\n",
              "      <th>2</th>\n",
              "      <td>5.656250</td>\n",
              "      <td>138.875000</td>\n",
              "      <td>73.875000</td>\n",
              "      <td>18.781250</td>\n",
              "    </tr>\n",
              "    <tr>\n",
              "      <th>3</th>\n",
              "      <td>10.815385</td>\n",
              "      <td>257.384615</td>\n",
              "      <td>76.000000</td>\n",
              "      <td>33.192308</td>\n",
              "    </tr>\n",
              "  </tbody>\n",
              "</table>\n",
              "</div>\n",
              "      <button class=\"colab-df-convert\" onclick=\"convertToInteractive('df-72ada6ad-0af3-4c78-a7d8-849f6b7592f5')\"\n",
              "              title=\"Convert this dataframe to an interactive table.\"\n",
              "              style=\"display:none;\">\n",
              "        \n",
              "  <svg xmlns=\"http://www.w3.org/2000/svg\" height=\"24px\"viewBox=\"0 0 24 24\"\n",
              "       width=\"24px\">\n",
              "    <path d=\"M0 0h24v24H0V0z\" fill=\"none\"/>\n",
              "    <path d=\"M18.56 5.44l.94 2.06.94-2.06 2.06-.94-2.06-.94-.94-2.06-.94 2.06-2.06.94zm-11 1L8.5 8.5l.94-2.06 2.06-.94-2.06-.94L8.5 2.5l-.94 2.06-2.06.94zm10 10l.94 2.06.94-2.06 2.06-.94-2.06-.94-.94-2.06-.94 2.06-2.06.94z\"/><path d=\"M17.41 7.96l-1.37-1.37c-.4-.4-.92-.59-1.43-.59-.52 0-1.04.2-1.43.59L10.3 9.45l-7.72 7.72c-.78.78-.78 2.05 0 2.83L4 21.41c.39.39.9.59 1.41.59.51 0 1.02-.2 1.41-.59l7.78-7.78 2.81-2.81c.8-.78.8-2.07 0-2.86zM5.41 20L4 18.59l7.72-7.72 1.47 1.35L5.41 20z\"/>\n",
              "  </svg>\n",
              "      </button>\n",
              "      \n",
              "  <style>\n",
              "    .colab-df-container {\n",
              "      display:flex;\n",
              "      flex-wrap:wrap;\n",
              "      gap: 12px;\n",
              "    }\n",
              "\n",
              "    .colab-df-convert {\n",
              "      background-color: #E8F0FE;\n",
              "      border: none;\n",
              "      border-radius: 50%;\n",
              "      cursor: pointer;\n",
              "      display: none;\n",
              "      fill: #1967D2;\n",
              "      height: 32px;\n",
              "      padding: 0 0 0 0;\n",
              "      width: 32px;\n",
              "    }\n",
              "\n",
              "    .colab-df-convert:hover {\n",
              "      background-color: #E2EBFA;\n",
              "      box-shadow: 0px 1px 2px rgba(60, 64, 67, 0.3), 0px 1px 3px 1px rgba(60, 64, 67, 0.15);\n",
              "      fill: #174EA6;\n",
              "    }\n",
              "\n",
              "    [theme=dark] .colab-df-convert {\n",
              "      background-color: #3B4455;\n",
              "      fill: #D2E3FC;\n",
              "    }\n",
              "\n",
              "    [theme=dark] .colab-df-convert:hover {\n",
              "      background-color: #434B5C;\n",
              "      box-shadow: 0px 1px 3px 1px rgba(0, 0, 0, 0.15);\n",
              "      filter: drop-shadow(0px 1px 2px rgba(0, 0, 0, 0.3));\n",
              "      fill: #FFFFFF;\n",
              "    }\n",
              "  </style>\n",
              "\n",
              "      <script>\n",
              "        const buttonEl =\n",
              "          document.querySelector('#df-72ada6ad-0af3-4c78-a7d8-849f6b7592f5 button.colab-df-convert');\n",
              "        buttonEl.style.display =\n",
              "          google.colab.kernel.accessAllowed ? 'block' : 'none';\n",
              "\n",
              "        async function convertToInteractive(key) {\n",
              "          const element = document.querySelector('#df-72ada6ad-0af3-4c78-a7d8-849f6b7592f5');\n",
              "          const dataTable =\n",
              "            await google.colab.kernel.invokeFunction('convertToInteractive',\n",
              "                                                     [key], {});\n",
              "          if (!dataTable) return;\n",
              "\n",
              "          const docLinkHtml = 'Like what you see? Visit the ' +\n",
              "            '<a target=\"_blank\" href=https://colab.research.google.com/notebooks/data_table.ipynb>data table notebook</a>'\n",
              "            + ' to learn more about interactive tables.';\n",
              "          element.innerHTML = '';\n",
              "          dataTable['output_type'] = 'display_data';\n",
              "          await google.colab.output.renderOutput(dataTable, element);\n",
              "          const docLink = document.createElement('div');\n",
              "          docLink.innerHTML = docLinkHtml;\n",
              "          element.appendChild(docLink);\n",
              "        }\n",
              "      </script>\n",
              "    </div>\n",
              "  </div>\n",
              "  "
            ]
          },
          "metadata": {},
          "execution_count": 94
        }
      ]
    },
    {
      "cell_type": "markdown",
      "source": [
        "**Cluster interpretation** :\n",
        "* Cluster 0 : **low** criminality and **low** urban population\n",
        "* Cluster 1 : **low** criminality and **high** urban population\n",
        "* Cluster 2 : **high** criminality and **low** urban population\n",
        "* Cluster 3 : **high** criminality and **high** urban population"
      ],
      "metadata": {
        "id": "RQIxvtd5VKD3"
      }
    },
    {
      "cell_type": "markdown",
      "source": [
        "##7.Data visualisation with PCA\n",
        "Let's visualize our data (i.e US States) on 2D plot.  \n",
        "We are going first to reduce the dataset into 2 principal dimensions, with the PCA' method (Principal Component Analysis)."
      ],
      "metadata": {
        "id": "2K-xe-6_y_KD"
      }
    },
    {
      "cell_type": "code",
      "source": [
        "df_reduced = PCA(n_components=2).fit_transform(df_scaled)\n",
        "df_reduced"
      ],
      "metadata": {
        "id": "WCEWU6fAEpVQ",
        "colab": {
          "base_uri": "https://localhost:8080/"
        },
        "outputId": "316918df-638f-4bf8-c104-1da256404598"
      },
      "execution_count": 95,
      "outputs": [
        {
          "output_type": "execute_result",
          "data": {
            "text/plain": [
              "array([[ 0.29308154,  0.27317675],\n",
              "       [ 0.49729939,  0.22549848],\n",
              "       [ 0.46030222, -0.20137959],\n",
              "       [-0.00600344,  0.27569832],\n",
              "       [ 0.61201638, -0.40998459],\n",
              "       [ 0.34232314, -0.26810129],\n",
              "       [-0.36348715, -0.24833813],\n",
              "       [ 0.04424396, -0.07374598],\n",
              "       [ 0.80292705, -0.01467209],\n",
              "       [ 0.44112938,  0.30157847],\n",
              "       [-0.30290366, -0.37766352],\n",
              "       [-0.41549962,  0.0656169 ],\n",
              "       [ 0.36148248, -0.1749245 ],\n",
              "       [-0.15214187, -0.03441924],\n",
              "       [-0.59455652, -0.00489204],\n",
              "       [-0.22060801, -0.05881063],\n",
              "       [-0.18740047,  0.24339131],\n",
              "       [ 0.43792654,  0.20613836],\n",
              "       [-0.60487646,  0.11683089],\n",
              "       [ 0.48885331,  0.08923308],\n",
              "       [-0.14532396, -0.35208769],\n",
              "       [ 0.53345734, -0.06264098],\n",
              "       [-0.4630113 , -0.14021756],\n",
              "       [ 0.33429193,  0.58581784],\n",
              "       [ 0.15975247, -0.0751852 ],\n",
              "       [-0.30430277,  0.14141152],\n",
              "       [-0.33959922, -0.03685547],\n",
              "       [ 0.69252524, -0.23003533],\n",
              "       [-0.62185514,  0.01873538],\n",
              "       [ 0.02230844, -0.3510684 ],\n",
              "       [ 0.52396662,  0.01385429],\n",
              "       [ 0.43334474, -0.21300254],\n",
              "       [ 0.39608094,  0.54492591],\n",
              "       [-0.76524871,  0.17403358],\n",
              "       [-0.08949043, -0.18000113],\n",
              "       [-0.08860002, -0.06756831],\n",
              "       [-0.0155347 , -0.1425656 ],\n",
              "       [-0.24572022, -0.12790573],\n",
              "       [-0.21442947, -0.34552095],\n",
              "       [ 0.40499281,  0.46525328],\n",
              "       [-0.50351112,  0.21843682],\n",
              "       [ 0.2614773 ,  0.1999315 ],\n",
              "       [ 0.33808949, -0.11017699],\n",
              "       [-0.18666089, -0.35920326],\n",
              "       [-0.71076393,  0.36459428],\n",
              "       [-0.02564732,  0.04996389],\n",
              "       [-0.09128571, -0.24231072],\n",
              "       [-0.5186541 ,  0.3702305 ],\n",
              "       [-0.55918308, -0.12848921],\n",
              "       [-0.14557342,  0.0874153 ]])"
            ]
          },
          "metadata": {},
          "execution_count": 95
        }
      ]
    },
    {
      "cell_type": "markdown",
      "source": [
        "KMeans are fitted on the reduced dataset."
      ],
      "metadata": {
        "id": "EjCy16K0zlnn"
      }
    },
    {
      "cell_type": "code",
      "source": [
        "kmeans_reduc_4 = KMeans(n_clusters=4).fit(df_reduced)"
      ],
      "metadata": {
        "id": "Tre3P32if4yB"
      },
      "execution_count": 96,
      "outputs": []
    },
    {
      "cell_type": "markdown",
      "source": [
        "Let's plot all US States on the 2D representation :\n",
        "* US States are coloured by their cluster.\n",
        "* Cluster centroids are added as well."
      ],
      "metadata": {
        "id": "8B_BJk_ezsQh"
      }
    },
    {
      "cell_type": "code",
      "source": [
        "plt.figure(figsize=(14, 10))\n",
        "\n",
        "sns.scatterplot(df_reduced[:, 0], df_reduced[:, 1], hue = kmeans_4.labels_, s=80)\n",
        "sns.scatterplot(kmeans_reduc_4.cluster_centers_[:, 0], kmeans_reduc_4.cluster_centers_[:, 1], color='green', s=100)\n",
        "plt.xlabel(\"Dimension 1\")\n",
        "plt.ylabel(\"Dimension 2\")\n",
        "plt.title(\"Cluster\")\n",
        "\n",
        "# add annotations one by one with a loop\n",
        "for line in range(0, df_reduced.shape[0]):\n",
        "     plt.text(df_reduced[:, 0][line], df_reduced[:, 1][line], df.index[line], horizontalalignment='left', size='small', color='black')"
      ],
      "metadata": {
        "colab": {
          "base_uri": "https://localhost:8080/",
          "height": 720
        },
        "id": "36hUdVucHUED",
        "outputId": "83da455f-d30b-4c94-e5f0-eeb734ccb8d8"
      },
      "execution_count": 97,
      "outputs": [
        {
          "output_type": "stream",
          "name": "stderr",
          "text": [
            "/usr/local/lib/python3.7/dist-packages/seaborn/_decorators.py:43: FutureWarning: Pass the following variables as keyword args: x, y. From version 0.12, the only valid positional argument will be `data`, and passing other arguments without an explicit keyword will result in an error or misinterpretation.\n",
            "  FutureWarning\n",
            "/usr/local/lib/python3.7/dist-packages/seaborn/_decorators.py:43: FutureWarning: Pass the following variables as keyword args: x, y. From version 0.12, the only valid positional argument will be `data`, and passing other arguments without an explicit keyword will result in an error or misinterpretation.\n",
            "  FutureWarning\n"
          ]
        },
        {
          "output_type": "display_data",
          "data": {
            "text/plain": [
              "<Figure size 1008x720 with 1 Axes>"
            ],
            "image/png": "[encoded data removed]"
          },
          "metadata": {}
        }
      ]
    }
  ]
}