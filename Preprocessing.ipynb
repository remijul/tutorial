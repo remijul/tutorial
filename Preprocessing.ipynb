{
  "nbformat": 4,
  "nbformat_minor": 0,
  "metadata": {
    "colab": {
      "name": "Preprocessing.ipynb",
      "provenance": [],
      "collapsed_sections": [],
      "toc_visible": true,
      "include_colab_link": true
    },
    "kernelspec": {
      "name": "python3",
      "display_name": "Python 3"
    }
  },
  "cells": [
    {
      "cell_type": "markdown",
      "metadata": {
        "id": "view-in-github",
        "colab_type": "text"
      },
      "source": [
        "<a href=\"https://colab.research.google.com/github/remijul/tutorial/blob/master/Preprocessing.ipynb\" target=\"_parent\"><img src=\"https://colab.research.google.com/assets/colab-badge.svg\" alt=\"Open In Colab\"/></a>"
      ]
    },
    {
      "cell_type": "markdown",
      "metadata": {
        "id": "i00JLrUna7Iy"
      },
      "source": [
        "# Data Preprocessing for Machine Learning\n",
        "---\n",
        "\n",
        "Data preprocessing is an integral step in Machine Learning as the quality of data and the useful information that can be derived from it directly affects the ability of our model to learn; therefore, it is extremely important that we preprocess our data before feeding it into our model.\n",
        "\n",
        "Please visit this great ressource : [Module Preprocessing from scikit-learn.org](https://scikit-learn.org/stable/modules/classes.html#module-sklearn.preprocessing)"
      ]
    },
    {
      "cell_type": "markdown",
      "metadata": {
        "id": "0907CKgwa8qa"
      },
      "source": [
        "## Objectives\n",
        "- Understand the usefulness of **handling with missing values** and be able to apply it\n",
        "- Understand the usefulness of data **encoding** and be able to apply it\n",
        "- Understand the usefulness of data **scaling** and be able to apply it\n",
        "- Practice on a dedicated exercice"
      ]
    },
    {
      "cell_type": "code",
      "metadata": {
        "id": "OKFIW_z5OKbq"
      },
      "source": [
        "import numpy as np\n",
        "import pandas as pd"
      ],
      "execution_count": null,
      "outputs": []
    },
    {
      "cell_type": "markdown",
      "source": [
        "## Handling with missing values\n",
        "Missing values is a real-life matter when you want to perform some data analysis and modelisation.  \n",
        "Many ML algorithms don't knwo how to deal with missing values.  \n",
        "Then preprocessing is there to solve this matter with mainly 2 possibilities :\n",
        "- Drop missing values\n",
        "- Impute values to replace missing ones\n"
      ],
      "metadata": {
        "id": "BPXpMHdFzzpN"
      }
    },
    {
      "cell_type": "markdown",
      "source": [
        "### Drop missing values\n",
        "Pandas has a `drop.na()` method for that.  \n",
        "So first, let's generate data with missing value."
      ],
      "metadata": {
        "id": "eEavuViW0g3X"
      }
    },
    {
      "cell_type": "code",
      "source": [
        "data = pd.Series(data = [10, 12, 58, 0.1, np.nan, 125])\n",
        "data"
      ],
      "metadata": {
        "colab": {
          "base_uri": "https://localhost:8080/"
        },
        "id": "GU0JX2CN00qc",
        "outputId": "882acd9c-44ac-40b0-a4e3-a869ec017737"
      },
      "execution_count": null,
      "outputs": [
        {
          "output_type": "execute_result",
          "data": {
            "text/plain": [
              "0     10.0\n",
              "1     12.0\n",
              "2     58.0\n",
              "3      0.1\n",
              "4      NaN\n",
              "5    125.0\n",
              "dtype: float64"
            ]
          },
          "metadata": {},
          "execution_count": 3
        }
      ]
    },
    {
      "cell_type": "markdown",
      "source": [
        "We can check the presence of any missing value with `isna()` method."
      ],
      "metadata": {
        "id": "aoz0l4b81LC6"
      }
    },
    {
      "cell_type": "code",
      "source": [
        "pd.isna(data)"
      ],
      "metadata": {
        "colab": {
          "base_uri": "https://localhost:8080/"
        },
        "id": "p9_aNIOM1LJn",
        "outputId": "c944632c-8e9a-41ee-da7a-477b926cabaf"
      },
      "execution_count": null,
      "outputs": [
        {
          "output_type": "execute_result",
          "data": {
            "text/plain": [
              "0    False\n",
              "1    False\n",
              "2    False\n",
              "3    False\n",
              "4     True\n",
              "5    False\n",
              "dtype: bool"
            ]
          },
          "metadata": {},
          "execution_count": 4
        }
      ]
    },
    {
      "cell_type": "markdown",
      "source": [
        "Let's drop the missing value with the `drop.na()` method"
      ],
      "metadata": {
        "id": "ucyAD_5J10OK"
      }
    },
    {
      "cell_type": "code",
      "source": [
        "data.dropna()"
      ],
      "metadata": {
        "colab": {
          "base_uri": "https://localhost:8080/"
        },
        "id": "is5cRXrE10Xl",
        "outputId": "b2c2a44e-30c0-47cc-9436-6fe137d6e542"
      },
      "execution_count": null,
      "outputs": [
        {
          "output_type": "execute_result",
          "data": {
            "text/plain": [
              "0     10.0\n",
              "1     12.0\n",
              "2     58.0\n",
              "3      0.1\n",
              "5    125.0\n",
              "dtype: float64"
            ]
          },
          "metadata": {},
          "execution_count": 5
        }
      ]
    },
    {
      "cell_type": "markdown",
      "source": [
        "The last instruction doesn't alter the object named `data`.  \n",
        "You need to specify the argument `inplace = True` for that.  \n",
        "Check the documentation for other configuration : [Pandas drop Na](https://pandas.pydata.org/docs/reference/api/pandas.DataFrame.dropna.html)."
      ],
      "metadata": {
        "id": "xV4-vMi2eQYq"
      }
    },
    {
      "cell_type": "code",
      "source": [
        "data.dropna(inplace = True)\n",
        "data"
      ],
      "metadata": {
        "colab": {
          "base_uri": "https://localhost:8080/"
        },
        "id": "ktHXFEv3eRF8",
        "outputId": "01401506-2cf7-4d22-a10c-34b370d0080e"
      },
      "execution_count": null,
      "outputs": [
        {
          "output_type": "execute_result",
          "data": {
            "text/plain": [
              "0     10.0\n",
              "1     12.0\n",
              "2     58.0\n",
              "3      0.1\n",
              "5    125.0\n",
              "dtype: float64"
            ]
          },
          "metadata": {},
          "execution_count": 8
        }
      ]
    },
    {
      "cell_type": "markdown",
      "source": [
        "### Impute values\n",
        "Second statregy consists in imputation of values instead of missing values."
      ],
      "metadata": {
        "id": "AD8-z0VrfFKj"
      }
    },
    {
      "cell_type": "markdown",
      "source": [
        "#### The `SimpleImputer()`\n",
        "scikit-learn offers a way for completing missing values.  \n",
        "Completion could be done with :\n",
        "- `mean`, then replace missing values using the mean along each column. Can only be used with numeric data.\n",
        "- `median`, then replace missing values using the median along each column. Can only be used with numeric data.\n",
        "- `most_frequent`, then replace missing using the most frequent value along each column. Can be used with strings or numeric data. If there is more than one such value, only the smallest is returned.\n",
        "- `constant`, then replace missing values with fill_value. Can be used with strings or numeric data.\n",
        "\n",
        "Check the documentation for further explanation : [SimpleImputer](https://scikit-learn.org/stable/modules/generated/sklearn.impute.SimpleImputer.html#sklearn.impute.SimpleImputer)."
      ],
      "metadata": {
        "id": "ll8lTvb7ftRk"
      }
    },
    {
      "cell_type": "markdown",
      "metadata": {
        "id": "h64aCE0XiOW-"
      },
      "source": [
        "1. Declare your data and create an object from the class `SimpleImputer`"
      ]
    },
    {
      "cell_type": "code",
      "source": [
        "data = [[np.nan, 2, 3], [4, np.nan, 6], [10, np.nan, 9]]\n",
        "data"
      ],
      "metadata": {
        "colab": {
          "base_uri": "https://localhost:8080/"
        },
        "id": "iaMKghgv6Ave",
        "outputId": "01ea13b6-0c57-4b2c-c0ce-07f6146ec7bf"
      },
      "execution_count": null,
      "outputs": [
        {
          "output_type": "execute_result",
          "data": {
            "text/plain": [
              "[[nan, 2, 3], [4, nan, 6], [10, nan, 9]]"
            ]
          },
          "metadata": {},
          "execution_count": 26
        }
      ]
    },
    {
      "cell_type": "code",
      "metadata": {
        "id": "9JROUbGciOW_"
      },
      "source": [
        "from sklearn.impute import SimpleImputer\n",
        "imputer = SimpleImputer(missing_values=np.nan, strategy='mean')"
      ],
      "execution_count": null,
      "outputs": []
    },
    {
      "cell_type": "markdown",
      "metadata": {
        "id": "dBTWPzWtiOW_"
      },
      "source": [
        "2. Fit the `SimpleImputer()` on our data with `.fit()`"
      ]
    },
    {
      "cell_type": "code",
      "metadata": {
        "colab": {
          "base_uri": "https://localhost:8080/"
        },
        "outputId": "13a7a7e0-6fde-455c-deda-38eb740b791d",
        "id": "Qi-2ufhEiOXA"
      },
      "source": [
        "imputer.fit(data)"
      ],
      "execution_count": null,
      "outputs": [
        {
          "output_type": "execute_result",
          "data": {
            "text/plain": [
              "SimpleImputer()"
            ]
          },
          "metadata": {},
          "execution_count": 28
        }
      ]
    },
    {
      "cell_type": "markdown",
      "metadata": {
        "id": "tSOHZbQoiOXA"
      },
      "source": [
        "3. Transform data with imputation and with `.transform()`."
      ]
    },
    {
      "cell_type": "code",
      "metadata": {
        "colab": {
          "base_uri": "https://localhost:8080/"
        },
        "outputId": "c1c82831-a12d-4d07-ebd0-b1a0af70e7ae",
        "id": "xHgbRIdziOXB"
      },
      "source": [
        "imputer.transform(data)"
      ],
      "execution_count": null,
      "outputs": [
        {
          "output_type": "execute_result",
          "data": {
            "text/plain": [
              "array([[ 7.,  2.,  3.],\n",
              "       [ 4.,  2.,  6.],\n",
              "       [10.,  2.,  9.]])"
            ]
          },
          "metadata": {},
          "execution_count": 29
        }
      ]
    },
    {
      "cell_type": "markdown",
      "metadata": {
        "id": "lrKvZpjmiOXB"
      },
      "source": [
        "Steps 2 & 3 could be directly done with `.fit_transform()`"
      ]
    },
    {
      "cell_type": "code",
      "metadata": {
        "colab": {
          "base_uri": "https://localhost:8080/"
        },
        "outputId": "35d2689f-4995-4e6a-fcaf-c1ffa44f8f3e",
        "id": "cBN8lBfviOXB"
      },
      "source": [
        "imputer.fit_transform(data)"
      ],
      "execution_count": null,
      "outputs": [
        {
          "output_type": "execute_result",
          "data": {
            "text/plain": [
              "array([[ 7.,  2.,  3.],\n",
              "       [ 4.,  2.,  6.],\n",
              "       [10.,  2.,  9.]])"
            ]
          },
          "metadata": {},
          "execution_count": 25
        }
      ]
    },
    {
      "cell_type": "markdown",
      "source": [
        "#### The `KNNImputer()`\n",
        "scikit-learn offers a way for completing missing values with `KNNImputer()`.  \n",
        "The KNNImputer class provides imputation for filling in missing values using the k-Nearest Neighbors approach.\n",
        "\n",
        "Check the documentation for further explanation : [KNNImputer](https://scikit-learn.org/stable/modules/generated/sklearn.impute.KNNImputer.html#sklearn.impute.KNNImputer)."
      ],
      "metadata": {
        "id": "i8c0DLYSi8Fd"
      }
    },
    {
      "cell_type": "markdown",
      "metadata": {
        "id": "qeuFHrOxi8Fr"
      },
      "source": [
        "1. Declare your data and create an object from the class `KNNImputer`"
      ]
    },
    {
      "cell_type": "code",
      "metadata": {
        "id": "VluQIKryi8Fs"
      },
      "source": [
        "from sklearn.impute import KNNImputer\n",
        "data = [[1, 2, np.nan], [3, 4, 3], [np.nan, 6, 5], [8, 8, 7]]\n",
        "imputer = KNNImputer(n_neighbors=2)"
      ],
      "execution_count": null,
      "outputs": []
    },
    {
      "cell_type": "markdown",
      "metadata": {
        "id": "WHvFPBewi8Fs"
      },
      "source": [
        "2. Fit the `KNNImputer()` on our data with `.fit()`"
      ]
    },
    {
      "cell_type": "code",
      "metadata": {
        "colab": {
          "base_uri": "https://localhost:8080/"
        },
        "outputId": "92be2835-92a2-4329-d9e3-a4ce2dfd4c70",
        "id": "khaUlg2Hi8Fs"
      },
      "source": [
        "imputer.fit(data)"
      ],
      "execution_count": null,
      "outputs": [
        {
          "output_type": "execute_result",
          "data": {
            "text/plain": [
              "KNNImputer(n_neighbors=2)"
            ]
          },
          "metadata": {},
          "execution_count": 31
        }
      ]
    },
    {
      "cell_type": "markdown",
      "metadata": {
        "id": "aUnFV4a-i8Ft"
      },
      "source": [
        "3. Transform names into integer codes with `.transform()`"
      ]
    },
    {
      "cell_type": "code",
      "metadata": {
        "colab": {
          "base_uri": "https://localhost:8080/"
        },
        "outputId": "3ea6c853-d4a2-41a8-e965-bbb80e18d70d",
        "id": "tMv64K3Oi8Ft"
      },
      "source": [
        "imputer.transform(data)"
      ],
      "execution_count": null,
      "outputs": [
        {
          "output_type": "execute_result",
          "data": {
            "text/plain": [
              "array([[1. , 2. , 4. ],\n",
              "       [3. , 4. , 3. ],\n",
              "       [5.5, 6. , 5. ],\n",
              "       [8. , 8. , 7. ]])"
            ]
          },
          "metadata": {},
          "execution_count": 32
        }
      ]
    },
    {
      "cell_type": "markdown",
      "metadata": {
        "id": "6trR2RMsi8Ft"
      },
      "source": [
        "Steps 2 & 3 could be directly done with `.fit_transform()`"
      ]
    },
    {
      "cell_type": "code",
      "metadata": {
        "colab": {
          "base_uri": "https://localhost:8080/"
        },
        "outputId": "60ee8956-20d5-43ea-b54a-2b7a6c8fc845",
        "id": "cROLBcOUi8Ft"
      },
      "source": [
        "imputer.fit_transform(data)"
      ],
      "execution_count": null,
      "outputs": [
        {
          "output_type": "execute_result",
          "data": {
            "text/plain": [
              "array([[1. , 2. , 4. ],\n",
              "       [3. , 4. , 3. ],\n",
              "       [5.5, 6. , 5. ],\n",
              "       [8. , 8. , 7. ]])"
            ]
          },
          "metadata": {},
          "execution_count": 33
        }
      ]
    },
    {
      "cell_type": "markdown",
      "source": [
        "#### More options"
      ],
      "metadata": {
        "id": "zjGyFGUo7amr"
      }
    },
    {
      "cell_type": "markdown",
      "source": [
        "scikit-learn offers more sophisticated approach for completing missing.  \n",
        "\n",
        "Check the guide for further explanation : [Imputation of missing values](https://scikit-learn.org/stable/modules/impute.html#multivariate-feature-imputation)."
      ],
      "metadata": {
        "id": "vanv8CrT75Ki"
      }
    },
    {
      "cell_type": "markdown",
      "metadata": {
        "id": "HYK3KI8hbZUn"
      },
      "source": [
        "\n",
        "---\n",
        "\n",
        "\n",
        "## Encode your data\n",
        "Encoding is a part of preprocessing when we want to convert **qualitative** data into numerical one.  \n",
        "See the great ressource [machinelearnia](https://www.youtube.com/watch?v=OGWwzm304Xs) [0 - 15 min] for more explanations."
      ]
    },
    {
      "cell_type": "markdown",
      "metadata": {
        "id": "kNVPfhHkOBE_"
      },
      "source": [
        "### Method `LabelEncoder()`  \n",
        "This method is useful for encoding data in a 1D shape, specially for y (target) variable.  \n",
        "Check the documentation for further explanation : [LabelEncoder](https://scikit-learn.org/stable/modules/generated/sklearn.preprocessing.LabelEncoder.html).\n"
      ]
    },
    {
      "cell_type": "code",
      "metadata": {
        "id": "xY7IPxDrN6uy"
      },
      "source": [
        "from sklearn.preprocessing import LabelEncoder"
      ],
      "execution_count": null,
      "outputs": []
    },
    {
      "cell_type": "markdown",
      "metadata": {
        "id": "ATcxpcHEPbDP"
      },
      "source": [
        "1. Declare our data (names of Wilders) and create an object from the class `LabelEncoder`"
      ]
    },
    {
      "cell_type": "code",
      "metadata": {
        "id": "63v3ThwaOsWf"
      },
      "source": [
        "firstnames = np.array(['Rémi', 'Célia', 'Victorien', 'Silvain', 'Clara', 'Louis'])\n",
        "label_encod = LabelEncoder()"
      ],
      "execution_count": null,
      "outputs": []
    },
    {
      "cell_type": "markdown",
      "metadata": {
        "id": "8XiUpkpfP-Mh"
      },
      "source": [
        "2. Fit the `LabelEncoder()` on our data with `.fit()`"
      ]
    },
    {
      "cell_type": "code",
      "metadata": {
        "id": "j_zucimDP-WP",
        "colab": {
          "base_uri": "https://localhost:8080/"
        },
        "outputId": "2fa1bd5f-05a7-4024-b688-f39f2a0ebe39"
      },
      "source": [
        "label_encod.fit(firstnames)"
      ],
      "execution_count": null,
      "outputs": [
        {
          "output_type": "execute_result",
          "data": {
            "text/plain": [
              "LabelEncoder()"
            ]
          },
          "metadata": {},
          "execution_count": 4
        }
      ]
    },
    {
      "cell_type": "markdown",
      "metadata": {
        "id": "2T99kpcTPtF9"
      },
      "source": [
        "3. Transform names into integer codes with `.transform()`"
      ]
    },
    {
      "cell_type": "code",
      "metadata": {
        "id": "AF9YQgxYO76A",
        "colab": {
          "base_uri": "https://localhost:8080/"
        },
        "outputId": "616014cd-1bc3-4a75-ca94-a0936485ec54"
      },
      "source": [
        "label_encod.transform(firstnames)"
      ],
      "execution_count": null,
      "outputs": [
        {
          "output_type": "execute_result",
          "data": {
            "text/plain": [
              "array([3, 1, 5, 4, 0, 2])"
            ]
          },
          "metadata": {},
          "execution_count": 5
        }
      ]
    },
    {
      "cell_type": "markdown",
      "metadata": {
        "id": "Jmzz36_XQtvz"
      },
      "source": [
        "Steps 2 & 3 could be directly done with `.fit_transform()`"
      ]
    },
    {
      "cell_type": "code",
      "metadata": {
        "id": "39BiDNmtPWVA",
        "colab": {
          "base_uri": "https://localhost:8080/"
        },
        "outputId": "23868815-6c9b-4d4a-ef6a-e071dc97e251"
      },
      "source": [
        "label_encod.fit_transform(firstnames)"
      ],
      "execution_count": null,
      "outputs": [
        {
          "output_type": "execute_result",
          "data": {
            "text/plain": [
              "array([3, 1, 5, 4, 0, 2])"
            ]
          },
          "metadata": {},
          "execution_count": 37
        }
      ]
    },
    {
      "cell_type": "markdown",
      "metadata": {
        "id": "kFsW7EpvQ3d5"
      },
      "source": [
        "From now we could easliy come back to original data (names) with `.inverse_transform()`."
      ]
    },
    {
      "cell_type": "code",
      "metadata": {
        "id": "XPflIIQlQ3lm",
        "colab": {
          "base_uri": "https://localhost:8080/"
        },
        "outputId": "02b8e690-2db1-4556-dd5c-f03b3338a597"
      },
      "source": [
        "# On known data\n",
        "label_encod.inverse_transform(np.array([0, 1, 2, 3, 4, 5]))"
      ],
      "execution_count": null,
      "outputs": [
        {
          "output_type": "execute_result",
          "data": {
            "text/plain": [
              "array(['Clara', 'Célia', 'Louis', 'Rémi', 'Silvain', 'Victorien'],\n",
              "      dtype='<U9')"
            ]
          },
          "metadata": {},
          "execution_count": 38
        }
      ]
    },
    {
      "cell_type": "code",
      "metadata": {
        "id": "UJC1Uol5Rh3V"
      },
      "source": [
        "# On unknown data\n",
        "label_encod.inverse_transform(np.array([0, 1, 2, 3, 4, 5, 6]))"
      ],
      "execution_count": null,
      "outputs": []
    },
    {
      "cell_type": "markdown",
      "metadata": {
        "id": "sz0b-0T2SBDi"
      },
      "source": [
        "### Method `OrdinalEncoder()`  \n",
        "This method is useful for encoding data in a 2D shape, specially for X (features) variables.  \n",
        "Check the documentation for further explanation : [OrdinalEncoder](https://scikit-learn.org/stable/modules/generated/sklearn.preprocessing.OrdinalEncoder.html#sklearn.preprocessing.OrdinalEncoder)."
      ]
    },
    {
      "cell_type": "code",
      "metadata": {
        "id": "KuFyih8oSBDl"
      },
      "source": [
        "from sklearn.preprocessing import OrdinalEncoder"
      ],
      "execution_count": null,
      "outputs": []
    },
    {
      "cell_type": "markdown",
      "metadata": {
        "id": "oGW_RGbkSBDt"
      },
      "source": [
        "1. Declare our data (names of Wilders) and create an object from the class `OrdinalEncoder`"
      ]
    },
    {
      "cell_type": "code",
      "metadata": {
        "id": "I0WV12wnSBDv"
      },
      "source": [
        "names = np.array([\n",
        "                  ['Rémi', 'Julien'],\n",
        "                  ['Célia', 'Mato'],\n",
        "                  ['Victorien', 'Flon-Beulin'],\n",
        "                  ['Silvain', 'Lorand'],\n",
        "                  ['Clara', 'Bustamante'],\n",
        "                  ['Louis', 'Menou']\n",
        "                  ])\n",
        "ord_encod = OrdinalEncoder()"
      ],
      "execution_count": null,
      "outputs": []
    },
    {
      "cell_type": "markdown",
      "metadata": {
        "id": "1gzpNvpnSBD4"
      },
      "source": [
        "2. Fit the `OrdinalEncoder()` on our data with `.fit()`"
      ]
    },
    {
      "cell_type": "code",
      "metadata": {
        "id": "QuBNOx9bSBD5",
        "colab": {
          "base_uri": "https://localhost:8080/"
        },
        "outputId": "2ef65900-2fb0-4af3-a978-1f312c40e5fa"
      },
      "source": [
        "ord_encod.fit(names, )"
      ],
      "execution_count": null,
      "outputs": [
        {
          "output_type": "execute_result",
          "data": {
            "text/plain": [
              "OrdinalEncoder()"
            ]
          },
          "metadata": {},
          "execution_count": 19
        }
      ]
    },
    {
      "cell_type": "markdown",
      "metadata": {
        "id": "tVrOhyJsSBD_"
      },
      "source": [
        "3. Transform names into integer codes with `.transform()`"
      ]
    },
    {
      "cell_type": "code",
      "metadata": {
        "id": "-lK23JqbSBEA",
        "colab": {
          "base_uri": "https://localhost:8080/"
        },
        "outputId": "fd9719fe-3162-48e1-c8e2-37a1984eebee"
      },
      "source": [
        "ord_encod.transform(names)"
      ],
      "execution_count": null,
      "outputs": [
        {
          "output_type": "execute_result",
          "data": {
            "text/plain": [
              "array([[3., 2.],\n",
              "       [1., 4.],\n",
              "       [5., 1.],\n",
              "       [4., 3.],\n",
              "       [0., 0.],\n",
              "       [2., 5.]])"
            ]
          },
          "metadata": {},
          "execution_count": 20
        }
      ]
    },
    {
      "cell_type": "markdown",
      "metadata": {
        "id": "K-r1I4IKSBEG"
      },
      "source": [
        "Steps 2 & 3 could be directly done with `.fit_transform()`"
      ]
    },
    {
      "cell_type": "code",
      "metadata": {
        "id": "GppB4wSKSBEG",
        "colab": {
          "base_uri": "https://localhost:8080/"
        },
        "outputId": "5e59239c-0951-4c04-91fe-3369489f734f"
      },
      "source": [
        "ord_encod.fit_transform(names)"
      ],
      "execution_count": null,
      "outputs": [
        {
          "output_type": "execute_result",
          "data": {
            "text/plain": [
              "array([[3., 2.],\n",
              "       [1., 4.],\n",
              "       [5., 1.],\n",
              "       [4., 3.],\n",
              "       [0., 0.],\n",
              "       [2., 5.]])"
            ]
          },
          "metadata": {},
          "execution_count": 21
        }
      ]
    },
    {
      "cell_type": "markdown",
      "metadata": {
        "id": "mKU1nXorSBEJ"
      },
      "source": [
        "From now we could easly come back to original data (names) with `.inverse_transform()`"
      ]
    },
    {
      "cell_type": "code",
      "metadata": {
        "id": "WWXncajxSBEJ",
        "colab": {
          "base_uri": "https://localhost:8080/"
        },
        "outputId": "93833f52-0663-4684-bd2e-39370a8dc0b2"
      },
      "source": [
        "# On known data\n",
        "ord_encod.inverse_transform(np.array([[3., 2.],\n",
        "                                      [1., 4.],\n",
        "                                      [5., 1.],\n",
        "                                      [4., 3.],\n",
        "                                      [0., 0.],\n",
        "                                      [2., 5.]]))"
      ],
      "execution_count": null,
      "outputs": [
        {
          "output_type": "execute_result",
          "data": {
            "text/plain": [
              "array([['Rémi', 'Julien'],\n",
              "       ['Célia', 'Mato'],\n",
              "       ['Victorien', 'Flon-Beulin'],\n",
              "       ['Silvain', 'Lorand'],\n",
              "       ['Clara', 'Bustamante'],\n",
              "       ['Louis', 'Menou']], dtype=object)"
            ]
          },
          "metadata": {},
          "execution_count": 23
        }
      ]
    },
    {
      "cell_type": "code",
      "metadata": {
        "id": "xoxdy9FmSBEM"
      },
      "source": [
        "# On unknown data\n",
        "ord_encod.inverse_transform(np.array([[6, 6]]))"
      ],
      "execution_count": null,
      "outputs": []
    },
    {
      "cell_type": "markdown",
      "metadata": {
        "id": "vbtAg9mxU0va"
      },
      "source": [
        "**By the way, do you think it's acceptable to say Clara (0) < Louis (2) < Silvain (4) ???**"
      ]
    },
    {
      "cell_type": "markdown",
      "metadata": {
        "id": "meUfnR4_VLE-"
      },
      "source": [
        "### Methods  `LabelBinarizer()`, `MultiLabelBinarizer()`, `OneHotEncoder()`  \n",
        "These methods are useful for encoding data into codes 0 or 1 :\n",
        "- `LabelBinarizer()` for data in a 1D shape, specially for y (target) variable.\n",
        "- `MultiLabelBinarizer()` for data in a 1D shape, specially for y (target) variable.\n",
        "- `OneHotEncoder()` for data in a 2D shape, specially for X (features) variables.\n",
        "\n",
        "Check the documentation for further explanation : [OneHotEncoder](https://scikit-learn.org/stable/modules/generated/sklearn.preprocessing.OneHotEncoder.html#sklearn.preprocessing.OneHotEncoder).\n"
      ]
    },
    {
      "cell_type": "markdown",
      "metadata": {
        "id": "E1G_CNc2VLFH"
      },
      "source": [
        "1. Ceate an object from the class `OneHotEncoder`"
      ]
    },
    {
      "cell_type": "code",
      "metadata": {
        "id": "fVFxmZEPVLFJ"
      },
      "source": [
        "from sklearn.preprocessing import OneHotEncoder\n",
        "ohe_encod = OneHotEncoder(sparse = False)"
      ],
      "execution_count": null,
      "outputs": []
    },
    {
      "cell_type": "markdown",
      "metadata": {
        "id": "wRCtpSq-VLFO"
      },
      "source": [
        "2. Fit & Transform our data with  `.fit_transform()`"
      ]
    },
    {
      "cell_type": "code",
      "metadata": {
        "id": "_VgdD_KoVLFQ",
        "colab": {
          "base_uri": "https://localhost:8080/"
        },
        "outputId": "da807999-cb8b-4ac9-a615-11fc77e949a2"
      },
      "source": [
        "ohe_encod.fit_transform(names)"
      ],
      "execution_count": null,
      "outputs": [
        {
          "output_type": "execute_result",
          "data": {
            "text/plain": [
              "array([[0., 0., 0., 1., 0., 0., 0., 0., 1., 0., 0., 0.],\n",
              "       [0., 1., 0., 0., 0., 0., 0., 0., 0., 0., 1., 0.],\n",
              "       [0., 0., 0., 0., 0., 1., 0., 1., 0., 0., 0., 0.],\n",
              "       [0., 0., 0., 0., 1., 0., 0., 0., 0., 1., 0., 0.],\n",
              "       [1., 0., 0., 0., 0., 0., 1., 0., 0., 0., 0., 0.],\n",
              "       [0., 0., 1., 0., 0., 0., 0., 0., 0., 0., 0., 1.]])"
            ]
          },
          "metadata": {},
          "execution_count": 26
        }
      ]
    },
    {
      "cell_type": "markdown",
      "metadata": {
        "id": "Nk_jahzSel6i"
      },
      "source": [
        "What does it means ??"
      ]
    },
    {
      "cell_type": "code",
      "metadata": {
        "id": "9WJ0WPW2fveX",
        "colab": {
          "base_uri": "https://localhost:8080/"
        },
        "outputId": "8f733c1a-0f6e-4fc3-c57f-7ca3b8f4305e"
      },
      "source": [
        "columns_names = np.array([np.sort(names[:,0].flatten()), np.sort(names[:,1].flatten())]).flatten()\n",
        "columns_names"
      ],
      "execution_count": null,
      "outputs": [
        {
          "output_type": "execute_result",
          "data": {
            "text/plain": [
              "array(['Clara', 'Célia', 'Louis', 'Rémi', 'Silvain', 'Victorien',\n",
              "       'Bustamante', 'Flon-Beulin', 'Julien', 'Lorand', 'Mato', 'Menou'],\n",
              "      dtype='<U11')"
            ]
          },
          "metadata": {},
          "execution_count": 27
        }
      ]
    },
    {
      "cell_type": "code",
      "metadata": {
        "id": "IHHZ2rbFemDf",
        "colab": {
          "base_uri": "https://localhost:8080/",
          "height": 238
        },
        "outputId": "0b3b1dd3-299e-4aad-8f22-c27fb8d59ff0"
      },
      "source": [
        "pd.DataFrame(data=ohe_encod.fit_transform(names), columns=columns_names)"
      ],
      "execution_count": null,
      "outputs": [
        {
          "output_type": "execute_result",
          "data": {
            "text/html": [
              "\n",
              "  <div id=\"df-7423ecb1-29b4-41f3-aa63-4123119e9929\">\n",
              "    <div class=\"colab-df-container\">\n",
              "      <div>\n",
              "<style scoped>\n",
              "    .dataframe tbody tr th:only-of-type {\n",
              "        vertical-align: middle;\n",
              "    }\n",
              "\n",
              "    .dataframe tbody tr th {\n",
              "        vertical-align: top;\n",
              "    }\n",
              "\n",
              "    .dataframe thead th {\n",
              "        text-align: right;\n",
              "    }\n",
              "</style>\n",
              "<table border=\"1\" class=\"dataframe\">\n",
              "  <thead>\n",
              "    <tr style=\"text-align: right;\">\n",
              "      <th></th>\n",
              "      <th>Clara</th>\n",
              "      <th>Célia</th>\n",
              "      <th>Louis</th>\n",
              "      <th>Rémi</th>\n",
              "      <th>Silvain</th>\n",
              "      <th>Victorien</th>\n",
              "      <th>Bustamante</th>\n",
              "      <th>Flon-Beulin</th>\n",
              "      <th>Julien</th>\n",
              "      <th>Lorand</th>\n",
              "      <th>Mato</th>\n",
              "      <th>Menou</th>\n",
              "    </tr>\n",
              "  </thead>\n",
              "  <tbody>\n",
              "    <tr>\n",
              "      <th>0</th>\n",
              "      <td>0.0</td>\n",
              "      <td>0.0</td>\n",
              "      <td>0.0</td>\n",
              "      <td>1.0</td>\n",
              "      <td>0.0</td>\n",
              "      <td>0.0</td>\n",
              "      <td>0.0</td>\n",
              "      <td>0.0</td>\n",
              "      <td>1.0</td>\n",
              "      <td>0.0</td>\n",
              "      <td>0.0</td>\n",
              "      <td>0.0</td>\n",
              "    </tr>\n",
              "    <tr>\n",
              "      <th>1</th>\n",
              "      <td>0.0</td>\n",
              "      <td>1.0</td>\n",
              "      <td>0.0</td>\n",
              "      <td>0.0</td>\n",
              "      <td>0.0</td>\n",
              "      <td>0.0</td>\n",
              "      <td>0.0</td>\n",
              "      <td>0.0</td>\n",
              "      <td>0.0</td>\n",
              "      <td>0.0</td>\n",
              "      <td>1.0</td>\n",
              "      <td>0.0</td>\n",
              "    </tr>\n",
              "    <tr>\n",
              "      <th>2</th>\n",
              "      <td>0.0</td>\n",
              "      <td>0.0</td>\n",
              "      <td>0.0</td>\n",
              "      <td>0.0</td>\n",
              "      <td>0.0</td>\n",
              "      <td>1.0</td>\n",
              "      <td>0.0</td>\n",
              "      <td>1.0</td>\n",
              "      <td>0.0</td>\n",
              "      <td>0.0</td>\n",
              "      <td>0.0</td>\n",
              "      <td>0.0</td>\n",
              "    </tr>\n",
              "    <tr>\n",
              "      <th>3</th>\n",
              "      <td>0.0</td>\n",
              "      <td>0.0</td>\n",
              "      <td>0.0</td>\n",
              "      <td>0.0</td>\n",
              "      <td>1.0</td>\n",
              "      <td>0.0</td>\n",
              "      <td>0.0</td>\n",
              "      <td>0.0</td>\n",
              "      <td>0.0</td>\n",
              "      <td>1.0</td>\n",
              "      <td>0.0</td>\n",
              "      <td>0.0</td>\n",
              "    </tr>\n",
              "    <tr>\n",
              "      <th>4</th>\n",
              "      <td>1.0</td>\n",
              "      <td>0.0</td>\n",
              "      <td>0.0</td>\n",
              "      <td>0.0</td>\n",
              "      <td>0.0</td>\n",
              "      <td>0.0</td>\n",
              "      <td>1.0</td>\n",
              "      <td>0.0</td>\n",
              "      <td>0.0</td>\n",
              "      <td>0.0</td>\n",
              "      <td>0.0</td>\n",
              "      <td>0.0</td>\n",
              "    </tr>\n",
              "    <tr>\n",
              "      <th>5</th>\n",
              "      <td>0.0</td>\n",
              "      <td>0.0</td>\n",
              "      <td>1.0</td>\n",
              "      <td>0.0</td>\n",
              "      <td>0.0</td>\n",
              "      <td>0.0</td>\n",
              "      <td>0.0</td>\n",
              "      <td>0.0</td>\n",
              "      <td>0.0</td>\n",
              "      <td>0.0</td>\n",
              "      <td>0.0</td>\n",
              "      <td>1.0</td>\n",
              "    </tr>\n",
              "  </tbody>\n",
              "</table>\n",
              "</div>\n",
              "      <button class=\"colab-df-convert\" onclick=\"convertToInteractive('df-7423ecb1-29b4-41f3-aa63-4123119e9929')\"\n",
              "              title=\"Convert this dataframe to an interactive table.\"\n",
              "              style=\"display:none;\">\n",
              "        \n",
              "  <svg xmlns=\"http://www.w3.org/2000/svg\" height=\"24px\"viewBox=\"0 0 24 24\"\n",
              "       width=\"24px\">\n",
              "    <path d=\"M0 0h24v24H0V0z\" fill=\"none\"/>\n",
              "    <path d=\"M18.56 5.44l.94 2.06.94-2.06 2.06-.94-2.06-.94-.94-2.06-.94 2.06-2.06.94zm-11 1L8.5 8.5l.94-2.06 2.06-.94-2.06-.94L8.5 2.5l-.94 2.06-2.06.94zm10 10l.94 2.06.94-2.06 2.06-.94-2.06-.94-.94-2.06-.94 2.06-2.06.94z\"/><path d=\"M17.41 7.96l-1.37-1.37c-.4-.4-.92-.59-1.43-.59-.52 0-1.04.2-1.43.59L10.3 9.45l-7.72 7.72c-.78.78-.78 2.05 0 2.83L4 21.41c.39.39.9.59 1.41.59.51 0 1.02-.2 1.41-.59l7.78-7.78 2.81-2.81c.8-.78.8-2.07 0-2.86zM5.41 20L4 18.59l7.72-7.72 1.47 1.35L5.41 20z\"/>\n",
              "  </svg>\n",
              "      </button>\n",
              "      \n",
              "  <style>\n",
              "    .colab-df-container {\n",
              "      display:flex;\n",
              "      flex-wrap:wrap;\n",
              "      gap: 12px;\n",
              "    }\n",
              "\n",
              "    .colab-df-convert {\n",
              "      background-color: #E8F0FE;\n",
              "      border: none;\n",
              "      border-radius: 50%;\n",
              "      cursor: pointer;\n",
              "      display: none;\n",
              "      fill: #1967D2;\n",
              "      height: 32px;\n",
              "      padding: 0 0 0 0;\n",
              "      width: 32px;\n",
              "    }\n",
              "\n",
              "    .colab-df-convert:hover {\n",
              "      background-color: #E2EBFA;\n",
              "      box-shadow: 0px 1px 2px rgba(60, 64, 67, 0.3), 0px 1px 3px 1px rgba(60, 64, 67, 0.15);\n",
              "      fill: #174EA6;\n",
              "    }\n",
              "\n",
              "    [theme=dark] .colab-df-convert {\n",
              "      background-color: #3B4455;\n",
              "      fill: #D2E3FC;\n",
              "    }\n",
              "\n",
              "    [theme=dark] .colab-df-convert:hover {\n",
              "      background-color: #434B5C;\n",
              "      box-shadow: 0px 1px 3px 1px rgba(0, 0, 0, 0.15);\n",
              "      filter: drop-shadow(0px 1px 2px rgba(0, 0, 0, 0.3));\n",
              "      fill: #FFFFFF;\n",
              "    }\n",
              "  </style>\n",
              "\n",
              "      <script>\n",
              "        const buttonEl =\n",
              "          document.querySelector('#df-7423ecb1-29b4-41f3-aa63-4123119e9929 button.colab-df-convert');\n",
              "        buttonEl.style.display =\n",
              "          google.colab.kernel.accessAllowed ? 'block' : 'none';\n",
              "\n",
              "        async function convertToInteractive(key) {\n",
              "          const element = document.querySelector('#df-7423ecb1-29b4-41f3-aa63-4123119e9929');\n",
              "          const dataTable =\n",
              "            await google.colab.kernel.invokeFunction('convertToInteractive',\n",
              "                                                     [key], {});\n",
              "          if (!dataTable) return;\n",
              "\n",
              "          const docLinkHtml = 'Like what you see? Visit the ' +\n",
              "            '<a target=\"_blank\" href=https://colab.research.google.com/notebooks/data_table.ipynb>data table notebook</a>'\n",
              "            + ' to learn more about interactive tables.';\n",
              "          element.innerHTML = '';\n",
              "          dataTable['output_type'] = 'display_data';\n",
              "          await google.colab.output.renderOutput(dataTable, element);\n",
              "          const docLink = document.createElement('div');\n",
              "          docLink.innerHTML = docLinkHtml;\n",
              "          element.appendChild(docLink);\n",
              "        }\n",
              "      </script>\n",
              "    </div>\n",
              "  </div>\n",
              "  "
            ],
            "text/plain": [
              "   Clara  Célia  Louis  Rémi  Silvain  ...  Flon-Beulin  Julien  Lorand  Mato  Menou\n",
              "0    0.0    0.0    0.0   1.0      0.0  ...          0.0     1.0     0.0   0.0    0.0\n",
              "1    0.0    1.0    0.0   0.0      0.0  ...          0.0     0.0     0.0   1.0    0.0\n",
              "2    0.0    0.0    0.0   0.0      0.0  ...          1.0     0.0     0.0   0.0    0.0\n",
              "3    0.0    0.0    0.0   0.0      1.0  ...          0.0     0.0     1.0   0.0    0.0\n",
              "4    1.0    0.0    0.0   0.0      0.0  ...          0.0     0.0     0.0   0.0    0.0\n",
              "5    0.0    0.0    1.0   0.0      0.0  ...          0.0     0.0     0.0   0.0    1.0\n",
              "\n",
              "[6 rows x 12 columns]"
            ]
          },
          "metadata": {},
          "execution_count": 29
        }
      ]
    },
    {
      "cell_type": "markdown",
      "metadata": {
        "id": "1paxrXy5VLFn"
      },
      "source": [
        "From now we could easly come back to original data (names) with `.inverse_transform()`"
      ]
    },
    {
      "cell_type": "code",
      "metadata": {
        "id": "iWB1avMwVLFo",
        "colab": {
          "base_uri": "https://localhost:8080/"
        },
        "outputId": "b38a9b4a-ba8b-4e1b-fed8-8c1934c4e5f2"
      },
      "source": [
        "# On known data\n",
        "ohe_encod.inverse_transform(np.array([[0., 0., 0., 1., 0., 0., 0., 0., 1., 0., 0., 0.],\n",
        "       [0., 1., 0., 0., 0., 0., 0., 0., 0., 0., 1., 0.],\n",
        "       [0., 0., 0., 0., 0., 1., 0., 1., 0., 0., 0., 0.],\n",
        "       [0., 0., 0., 0., 1., 0., 0., 0., 0., 1., 0., 0.],\n",
        "       [1., 0., 0., 0., 0., 0., 1., 0., 0., 0., 0., 0.],\n",
        "       [0., 0., 1., 0., 0., 0., 0., 0., 0., 0., 0., 1.]]))"
      ],
      "execution_count": null,
      "outputs": [
        {
          "output_type": "execute_result",
          "data": {
            "text/plain": [
              "array([['Rémi', 'Julien'],\n",
              "       ['Célia', 'Mato'],\n",
              "       ['Victorien', 'Flon-Beulin'],\n",
              "       ['Silvain', 'Lorand'],\n",
              "       ['Clara', 'Bustamante'],\n",
              "       ['Louis', 'Menou']], dtype=object)"
            ]
          },
          "metadata": {},
          "execution_count": 32
        }
      ]
    },
    {
      "cell_type": "code",
      "metadata": {
        "id": "1QqhfPOPVLFu"
      },
      "source": [
        "# On unknown data\n",
        "ohe_encod.inverse_transform(np.array([[0., 0., 0., 1., 0., 0., 0., 0., 1., 0., 0., 0., 1.]]))"
      ],
      "execution_count": null,
      "outputs": []
    },
    {
      "cell_type": "markdown",
      "metadata": {
        "id": "Oymj854yh1ZL"
      },
      "source": [
        "\n",
        "\n",
        "---\n",
        "\n",
        "\n",
        "\n",
        "---\n",
        "\n",
        "\n",
        "## Normalise your data\n",
        "Normalisation is another part of preprocessing when we want to scale our **quantitative** data on a same scale / basis.  \n",
        "3 main methods are used :\n",
        "- `MinMaxScaler()` : rescales the data set such that all feature values are in the range [0, 1]\n",
        "- `StandardScaler` : removes the mean and scales the data to unit variance\n",
        "- `RobustScaler` : removes the median and scales the data to unit quartile\n",
        "\n",
        "More info about scaling and its different approaches : [scikit-learn.org](https://scikit-learn.org/stable/auto_examples/preprocessing/plot_all_scaling.html#sphx-glr-auto-examples-preprocessing-plot-all-scaling-py).\n",
        "  \n",
        "See the great ressource [machinelearnia](https://www.youtube.com/watch?v=OGWwzm304Xs) [15 - 29 min] for more explanation as well."
      ]
    },
    {
      "cell_type": "markdown",
      "metadata": {
        "id": "qgoqazMMrdrA"
      },
      "source": [
        "### Method `MinMaxScaler()`\n",
        "Rescales the data set such that all feature values are in the range [0, 1]"
      ]
    },
    {
      "cell_type": "code",
      "metadata": {
        "id": "_jM6ClJKrd2d",
        "colab": {
          "base_uri": "https://localhost:8080/"
        },
        "outputId": "fda0f579-1c45-4ef2-e52f-d62c505273c1"
      },
      "source": [
        "from sklearn.preprocessing import MinMaxScaler\n",
        "\n",
        "data = np.array([[180], [200], [100]]) #Height of Obi-wan, Chewbacca and Yoda \n",
        "print(\"Data :\", data.flatten())\n",
        "\n",
        "mm_scaler = MinMaxScaler()\n",
        "data_scale = mm_scaler.fit_transform(data)\n",
        "\n",
        "print(\"Scaled data:\", data_scale.flatten())"
      ],
      "execution_count": null,
      "outputs": [
        {
          "output_type": "stream",
          "name": "stdout",
          "text": [
            "Data : [180 200 100]\n",
            "Scaled data: [0.8 1.  0. ]\n"
          ]
        }
      ]
    },
    {
      "cell_type": "markdown",
      "metadata": {
        "id": "AqsOOuxVtpes"
      },
      "source": [
        "This method is sensitive to outliers"
      ]
    },
    {
      "cell_type": "code",
      "metadata": {
        "id": "0-xexXKotplm",
        "colab": {
          "base_uri": "https://localhost:8080/"
        },
        "outputId": "4f1b317d-0188-4b8e-efb5-71c0439576ff"
      },
      "source": [
        "data_outlier = np.array([[180], [2000], [100]])\n",
        "print(\"Data outlier:\", data_outlier.flatten())\n",
        "\n",
        "mm_scaler = MinMaxScaler()\n",
        "data_scale = mm_scaler.fit_transform(data_outlier)\n",
        "\n",
        "print(\"Scaled data outlier:\", data_scale.flatten())"
      ],
      "execution_count": null,
      "outputs": [
        {
          "output_type": "stream",
          "name": "stdout",
          "text": [
            "Data outlier: [ 180 2000  100]\n",
            "Scaled data outlier: [0.04210526 1.         0.        ]\n"
          ]
        }
      ]
    },
    {
      "cell_type": "markdown",
      "metadata": {
        "id": "iBalzkyouifx"
      },
      "source": [
        "### Method `StandardScaler()`\n",
        "Removes the mean and scales the data to unit variance."
      ]
    },
    {
      "cell_type": "code",
      "metadata": {
        "id": "AGDYuYvGuifz",
        "colab": {
          "base_uri": "https://localhost:8080/"
        },
        "outputId": "0a7aaaee-812f-4280-f49b-3972fcadb29b"
      },
      "source": [
        "from sklearn.preprocessing import StandardScaler\n",
        "\n",
        "data = np.array([[180], [200], [100]])\n",
        "print(\"Data :\", data.flatten())\n",
        "\n",
        "std_scaler = StandardScaler()\n",
        "data_scale = std_scaler.fit_transform(data)\n",
        "\n",
        "print(\"Scaled data:\", data_scale.flatten())"
      ],
      "execution_count": null,
      "outputs": [
        {
          "output_type": "stream",
          "name": "stdout",
          "text": [
            "Data : [180 200 100]\n",
            "Scaled data: [ 0.46291005  0.9258201  -1.38873015]\n"
          ]
        }
      ]
    },
    {
      "cell_type": "markdown",
      "metadata": {
        "id": "lpyteb9Wuif5"
      },
      "source": [
        "This method is sensitive to outliers as well."
      ]
    },
    {
      "cell_type": "code",
      "metadata": {
        "id": "0IDUfkdbuif6",
        "colab": {
          "base_uri": "https://localhost:8080/"
        },
        "outputId": "86bb9f80-baba-4cab-b8ca-6cef9c7c3260"
      },
      "source": [
        "data_outlier = np.array([[180], [2000], [100]]) \n",
        "print(\"Data outlier:\", data_outlier.flatten())\n",
        "\n",
        "std_scaler = StandardScaler()\n",
        "data_scale = std_scaler.fit_transform(data_outlier)\n",
        "\n",
        "print(\"Scaled data outlier:\", data_scale.flatten())"
      ],
      "execution_count": null,
      "outputs": [
        {
          "output_type": "stream",
          "name": "stdout",
          "text": [
            "Data outlier: [ 180 2000  100]\n",
            "Scaled data outlier: [-0.66102858  1.41323351 -0.75220493]\n"
          ]
        }
      ]
    },
    {
      "cell_type": "markdown",
      "metadata": {
        "id": "hOQgEzmFvFkY"
      },
      "source": [
        "### Method `RobustScaler()`\n",
        "Removes the median and scales the data to unit quartile."
      ]
    },
    {
      "cell_type": "code",
      "metadata": {
        "id": "PfyFzRtFvFka",
        "colab": {
          "base_uri": "https://localhost:8080/"
        },
        "outputId": "c2124d4e-9958-4f7b-c3d5-a7dcd1cb9995"
      },
      "source": [
        "from sklearn.preprocessing import RobustScaler\n",
        "\n",
        "data = np.array([[180], [200], [100]])\n",
        "print(\"Data :\", data.flatten())\n",
        "\n",
        "rob_scaler = RobustScaler()\n",
        "data_scale = rob_scaler.fit_transform(data)\n",
        "\n",
        "print(\"Scaled data:\", data_scale.flatten())"
      ],
      "execution_count": null,
      "outputs": [
        {
          "output_type": "stream",
          "name": "stdout",
          "text": [
            "Data : [180 200 100]\n",
            "Scaled data: [ 0.   0.4 -1.6]\n"
          ]
        }
      ]
    },
    {
      "cell_type": "markdown",
      "metadata": {
        "id": "WdtUuGHGvFkn"
      },
      "source": [
        "This method is much less sensitive to outliers."
      ]
    },
    {
      "cell_type": "code",
      "metadata": {
        "id": "xJfOKJaxvFko",
        "colab": {
          "base_uri": "https://localhost:8080/"
        },
        "outputId": "87b876d6-dfd4-4211-b9bf-588f3d7be3d5"
      },
      "source": [
        "data_outlier = np.array([[180], [2000], [100]])\n",
        "print(\"Data outlier:\", data_outlier.flatten())\n",
        "\n",
        "rob_scaler = RobustScaler()\n",
        "data_scale = rob_scaler.fit_transform(data_outlier)\n",
        "\n",
        "print(\"Scaled data outlier:\", data_scale.flatten())"
      ],
      "execution_count": null,
      "outputs": [
        {
          "output_type": "stream",
          "name": "stdout",
          "text": [
            "Data outlier: [ 180 2000  100]\n",
            "Scaled data outlier: [ 0.          1.91578947 -0.08421053]\n"
          ]
        }
      ]
    },
    {
      "cell_type": "markdown",
      "metadata": {
        "id": "FDS6M02mvfgZ"
      },
      "source": [
        "But particularly with more data ...."
      ]
    },
    {
      "cell_type": "code",
      "metadata": {
        "id": "q8HleX9evfzE",
        "colab": {
          "base_uri": "https://localhost:8080/"
        },
        "outputId": "2e813cb0-4d70-4e82-d0f2-e1d7ff9fbd92"
      },
      "source": [
        "data_outlier = np.array([[180], [2000], [100], [160], [192], [169], [183]]) \n",
        "print(\"Data outlier:\", data_outlier.flatten())\n",
        "\n",
        "rob_scaler = RobustScaler()\n",
        "data_scale = rob_scaler.fit_transform(data_outlier)\n",
        "\n",
        "print(\"Scaled data outlier:\", data_scale.flatten())"
      ],
      "execution_count": null,
      "outputs": [
        {
          "output_type": "stream",
          "name": "stdout",
          "text": [
            "Data outlier: [ 180 2000  100  160  192  169  183]\n",
            "Scaled data outlier: [ 0.         79.13043478 -3.47826087 -0.86956522  0.52173913 -0.47826087\n",
            "  0.13043478]\n"
          ]
        }
      ]
    },
    {
      "cell_type": "markdown",
      "source": [
        "### Application of scaling on 2 series of data\n",
        "Let's generate a first serie of data with numpy."
      ],
      "metadata": {
        "id": "_r1zT-yium5w"
      }
    },
    {
      "cell_type": "code",
      "source": [
        "data1 = np.random.normal(80, 6, 1000)\n",
        "data1"
      ],
      "metadata": {
        "id": "6rB_5NKhu1ox"
      },
      "execution_count": null,
      "outputs": []
    },
    {
      "cell_type": "markdown",
      "source": [
        "Let's generate a second serie of data with different parameters."
      ],
      "metadata": {
        "id": "K4Kqp0I1weL4"
      }
    },
    {
      "cell_type": "code",
      "source": [
        "data2 = np.random.normal(40, 2, 1000)\n",
        "data2"
      ],
      "metadata": {
        "id": "dr7_J_6MweVc"
      },
      "execution_count": null,
      "outputs": []
    },
    {
      "cell_type": "markdown",
      "source": [
        "Let's scale the data."
      ],
      "metadata": {
        "id": "5qKQ6cLDvF9z"
      }
    },
    {
      "cell_type": "code",
      "source": [
        "data1_scaled = StandardScaler().fit_transform(data1.reshape(-1, 1))\n",
        "data2_scaled = StandardScaler().fit_transform(data2.reshape(-1, 1))\n",
        "\n",
        "data1_scaled"
      ],
      "metadata": {
        "id": "Tp4oLpEovKUL"
      },
      "execution_count": null,
      "outputs": []
    },
    {
      "cell_type": "markdown",
      "source": [
        "Let's compare both data distributions : before and after scaling."
      ],
      "metadata": {
        "id": "kG-wSRdTv8qs"
      }
    },
    {
      "cell_type": "code",
      "source": [
        "plt.figure(figsize=(10, 6))\n",
        "sns.distplot(data1, label=\"Data1 - Before scaling\")\n",
        "sns.distplot(data1_scaled, label=\"Data1 - After scaling\")\n",
        "sns.distplot(data2, label=\"Data2 - Before scaling\")\n",
        "sns.distplot(data2_scaled, label=\"Data2 - After scaling\")\n",
        "plt.title(\"Comparison of data distribution\")\n",
        "plt.legend()"
      ],
      "metadata": {
        "colab": {
          "base_uri": "https://localhost:8080/",
          "height": 540
        },
        "id": "g_KUsbuNwBhq",
        "outputId": "eb1d38d4-74a3-47c3-e49b-a138c5772621"
      },
      "execution_count": null,
      "outputs": [
        {
          "output_type": "stream",
          "name": "stderr",
          "text": [
            "/usr/local/lib/python3.7/dist-packages/seaborn/distributions.py:2619: FutureWarning: `distplot` is a deprecated function and will be removed in a future version. Please adapt your code to use either `displot` (a figure-level function with similar flexibility) or `histplot` (an axes-level function for histograms).\n",
            "  warnings.warn(msg, FutureWarning)\n",
            "/usr/local/lib/python3.7/dist-packages/seaborn/distributions.py:2619: FutureWarning: `distplot` is a deprecated function and will be removed in a future version. Please adapt your code to use either `displot` (a figure-level function with similar flexibility) or `histplot` (an axes-level function for histograms).\n",
            "  warnings.warn(msg, FutureWarning)\n",
            "/usr/local/lib/python3.7/dist-packages/seaborn/distributions.py:2619: FutureWarning: `distplot` is a deprecated function and will be removed in a future version. Please adapt your code to use either `displot` (a figure-level function with similar flexibility) or `histplot` (an axes-level function for histograms).\n",
            "  warnings.warn(msg, FutureWarning)\n"
          ]
        },
        {
          "output_type": "execute_result",
          "data": {
            "text/plain": [
              "<matplotlib.legend.Legend at 0x7f40f79a2110>"
            ]
          },
          "metadata": {},
          "execution_count": 79
        },
        {
          "output_type": "display_data",
          "data": {
            "image/png": "[encoded data removed]",
            "text/plain": [
              "<Figure size 720x432 with 1 Axes>"
            ]
          },
          "metadata": {}
        }
      ]
    },
    {
      "cell_type": "markdown",
      "source": [
        "**Ok ,what do you think about the process of scaling ???**"
      ],
      "metadata": {
        "id": "74uP4lUdxm71"
      }
    },
    {
      "cell_type": "markdown",
      "source": [
        "## Exercices\n",
        "\n",
        "![your_turn_gatsby.jpg](data:image/jpeg;base64,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)\n"
      ],
      "metadata": {
        "id": "rTcbWzNA9yjG"
      }
    },
    {
      "cell_type": "markdown",
      "source": [
        "The goal of this exercice is to :\n",
        "- Use the following ML script that provides a process to predict the genre of a song [spotify playlist].\n",
        "- Apply full preprocessing on all data (numerical & categorical) to reach the best accuracy score.\n",
        "\n",
        "**Let's compete to the ML challenge!** 💪\n"
      ],
      "metadata": {
        "id": "b0_CQrv4-D5l"
      }
    },
    {
      "cell_type": "code",
      "source": [
        "# Load data\n",
        "import pandas as pd\n",
        "url = \"https://raw.githubusercontent.com/murpi/wilddata/master/quests/spotify.zip\"\n",
        "df_music = pd.read_csv(url)\n",
        "\n",
        "# Train test split\n",
        "from sklearn.model_selection import train_test_split\n",
        "y= df_music['genre']\n",
        "X = df_music.select_dtypes(exclude=['object'])\n",
        "X_train, X_test, y_train, y_test = train_test_split(X, y, test_size=0.2, random_state=2)\n",
        "\n",
        "# Fit and predict : KNN\n",
        "from sklearn.neighbors import KNeighborsClassifier\n",
        "knn_model = KNeighborsClassifier()\n",
        "knn_model.fit(X_train, y_train)\n",
        "knn_prediction = knn_model.predict(X_test)\n",
        "\n",
        "# Score of models\n",
        "from sklearn.metrics import accuracy_score\n",
        "knn_score = accuracy_score(y_test, knn_prediction)\n",
        "print(\"KNN :\", round(knn_score, 5))"
      ],
      "metadata": {
        "colab": {
          "base_uri": "https://localhost:8080/"
        },
        "id": "kfGRoyFD-EL0",
        "outputId": "e952881e-d319-4398-c98a-f8695151598f"
      },
      "execution_count": null,
      "outputs": [
        {
          "output_type": "stream",
          "name": "stdout",
          "text": [
            "KNN : 0.08274\n"
          ]
        }
      ]
    },
    {
      "cell_type": "markdown",
      "metadata": {
        "id": "g0ehPzz2PK3r"
      },
      "source": [
        "## Conclusions\n",
        "Standardization is always good in preprocessing, before machine learning classifications and regressions. At worst, it does not change anything. At best, it improves results."
      ]
    }
  ]
}