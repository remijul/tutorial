{
  "nbformat": 4,
  "nbformat_minor": 0,
  "metadata": {
    "colab": {
      "name": "Metrics for classification - Part 1 - 2 class classification.ipynb",
      "provenance": [],
      "collapsed_sections": [],
      "toc_visible": true,
      "include_colab_link": true
    },
    "kernelspec": {
      "name": "python3",
      "display_name": "Python 3"
    }
  },
  "cells": [
    {
      "cell_type": "markdown",
      "metadata": {
        "id": "view-in-github",
        "colab_type": "text"
      },
      "source": [
        "<a href=\"https://colab.research.google.com/github/remijul/tutorial/blob/master/Metrics_for_classification_Part_1_2_class_classification.ipynb\" target=\"_parent\"><img src=\"https://colab.research.google.com/assets/colab-badge.svg\" alt=\"Open In Colab\"/></a>"
      ]
    },
    {
      "cell_type": "markdown",
      "metadata": {
        "id": "i00JLrUna7Iy"
      },
      "source": [
        "# Metrics for classification - Supervised Learning\n",
        "---\n",
        "This first part is focused on **2-class** classification metrics only The second part covers the **n-class** classification.  \n",
        "\n",
        "Evaluating a model is a major part of building an effective machine learning model. The most frequent classification evaluation metric that we use should be **Accuracy**.  \n",
        "You might believe that the model is good when the accuracy rate is 99%!  \n",
        "However, it is not always true and can be misleading in some situations. Other metrics are available and useful :\n",
        "\n",
        "- The **Confusion Matrix** for a 2-class (or n-class) classification problem\n",
        "- The key classification metrics: **Accuracy**, **Recall**, **Precision**, and **F1- Score**\n",
        "- The **Receiver Operating Characteristic** (ROC) curve and the **Area Under the Curve**\n",
        "\n",
        "Please visit this great ressource : [scikit-learn-mooc - Classification](https://inria.github.io/scikit-learn-mooc/python_scripts/metrics_classification.html)."
      ]
    },
    {
      "cell_type": "markdown",
      "metadata": {
        "id": "0907CKgwa8qa"
      },
      "source": [
        "## Objectives\n",
        "- Understand the meaning and computation of the main **classification metrics**.\n",
        "- Apply **scikit-learn** for computation of the main classification metrics.\n",
        "- Be able to user classification metrics in a **ML workflow** with Pipeleine & GridSearch."
      ]
    },
    {
      "cell_type": "markdown",
      "source": [
        "## Build a model\n",
        "First we are building a first a very simple model.  \n"
      ],
      "metadata": {
        "id": "VtIyAFfp4y9v"
      }
    },
    {
      "cell_type": "markdown",
      "source": [
        "#### Load data"
      ],
      "metadata": {
        "id": "encynhu15J0-"
      }
    },
    {
      "cell_type": "code",
      "source": [
        "# Load data\n",
        "import pandas as pd\n",
        "url = \"https://raw.githubusercontent.com/remijul/dataset/master/penguins_size.csv\"\n",
        "data = pd.read_csv(url)"
      ],
      "metadata": {
        "id": "8NgoDER1rVUU"
      },
      "execution_count": null,
      "outputs": []
    },
    {
      "cell_type": "markdown",
      "source": [
        "#### Drop missing values"
      ],
      "metadata": {
        "id": "Ty-4xuqK5OUf"
      }
    },
    {
      "cell_type": "code",
      "source": [
        "# Drop missing value\n",
        "data.dropna(axis='rows', inplace = True)\n",
        "data.head()"
      ],
      "metadata": {
        "colab": {
          "base_uri": "https://localhost:8080/",
          "height": 206
        },
        "id": "GkZ0IhNM5SBW",
        "outputId": "1cc3d152-5661-4792-934c-f4790b06db5f"
      },
      "execution_count": null,
      "outputs": [
        {
          "output_type": "execute_result",
          "data": {
            "text/html": [
              "\n",
              "  <div id=\"df-7d52296f-6641-4cf3-917b-f9c5af29803c\">\n",
              "    <div class=\"colab-df-container\">\n",
              "      <div>\n",
              "<style scoped>\n",
              "    .dataframe tbody tr th:only-of-type {\n",
              "        vertical-align: middle;\n",
              "    }\n",
              "\n",
              "    .dataframe tbody tr th {\n",
              "        vertical-align: top;\n",
              "    }\n",
              "\n",
              "    .dataframe thead th {\n",
              "        text-align: right;\n",
              "    }\n",
              "</style>\n",
              "<table border=\"1\" class=\"dataframe\">\n",
              "  <thead>\n",
              "    <tr style=\"text-align: right;\">\n",
              "      <th></th>\n",
              "      <th>species</th>\n",
              "      <th>island</th>\n",
              "      <th>culmen_length_mm</th>\n",
              "      <th>culmen_depth_mm</th>\n",
              "      <th>flipper_length_mm</th>\n",
              "      <th>body_mass_g</th>\n",
              "      <th>sex</th>\n",
              "    </tr>\n",
              "  </thead>\n",
              "  <tbody>\n",
              "    <tr>\n",
              "      <th>0</th>\n",
              "      <td>Adelie</td>\n",
              "      <td>Torgersen</td>\n",
              "      <td>39.1</td>\n",
              "      <td>18.7</td>\n",
              "      <td>181.0</td>\n",
              "      <td>3750.0</td>\n",
              "      <td>MALE</td>\n",
              "    </tr>\n",
              "    <tr>\n",
              "      <th>1</th>\n",
              "      <td>Adelie</td>\n",
              "      <td>Torgersen</td>\n",
              "      <td>39.5</td>\n",
              "      <td>17.4</td>\n",
              "      <td>186.0</td>\n",
              "      <td>3800.0</td>\n",
              "      <td>FEMALE</td>\n",
              "    </tr>\n",
              "    <tr>\n",
              "      <th>2</th>\n",
              "      <td>Adelie</td>\n",
              "      <td>Torgersen</td>\n",
              "      <td>40.3</td>\n",
              "      <td>18.0</td>\n",
              "      <td>195.0</td>\n",
              "      <td>3250.0</td>\n",
              "      <td>FEMALE</td>\n",
              "    </tr>\n",
              "    <tr>\n",
              "      <th>4</th>\n",
              "      <td>Adelie</td>\n",
              "      <td>Torgersen</td>\n",
              "      <td>36.7</td>\n",
              "      <td>19.3</td>\n",
              "      <td>193.0</td>\n",
              "      <td>3450.0</td>\n",
              "      <td>FEMALE</td>\n",
              "    </tr>\n",
              "    <tr>\n",
              "      <th>5</th>\n",
              "      <td>Adelie</td>\n",
              "      <td>Torgersen</td>\n",
              "      <td>39.3</td>\n",
              "      <td>20.6</td>\n",
              "      <td>190.0</td>\n",
              "      <td>3650.0</td>\n",
              "      <td>MALE</td>\n",
              "    </tr>\n",
              "  </tbody>\n",
              "</table>\n",
              "</div>\n",
              "      <button class=\"colab-df-convert\" onclick=\"convertToInteractive('df-7d52296f-6641-4cf3-917b-f9c5af29803c')\"\n",
              "              title=\"Convert this dataframe to an interactive table.\"\n",
              "              style=\"display:none;\">\n",
              "        \n",
              "  <svg xmlns=\"http://www.w3.org/2000/svg\" height=\"24px\"viewBox=\"0 0 24 24\"\n",
              "       width=\"24px\">\n",
              "    <path d=\"M0 0h24v24H0V0z\" fill=\"none\"/>\n",
              "    <path d=\"M18.56 5.44l.94 2.06.94-2.06 2.06-.94-2.06-.94-.94-2.06-.94 2.06-2.06.94zm-11 1L8.5 8.5l.94-2.06 2.06-.94-2.06-.94L8.5 2.5l-.94 2.06-2.06.94zm10 10l.94 2.06.94-2.06 2.06-.94-2.06-.94-.94-2.06-.94 2.06-2.06.94z\"/><path d=\"M17.41 7.96l-1.37-1.37c-.4-.4-.92-.59-1.43-.59-.52 0-1.04.2-1.43.59L10.3 9.45l-7.72 7.72c-.78.78-.78 2.05 0 2.83L4 21.41c.39.39.9.59 1.41.59.51 0 1.02-.2 1.41-.59l7.78-7.78 2.81-2.81c.8-.78.8-2.07 0-2.86zM5.41 20L4 18.59l7.72-7.72 1.47 1.35L5.41 20z\"/>\n",
              "  </svg>\n",
              "      </button>\n",
              "      \n",
              "  <style>\n",
              "    .colab-df-container {\n",
              "      display:flex;\n",
              "      flex-wrap:wrap;\n",
              "      gap: 12px;\n",
              "    }\n",
              "\n",
              "    .colab-df-convert {\n",
              "      background-color: #E8F0FE;\n",
              "      border: none;\n",
              "      border-radius: 50%;\n",
              "      cursor: pointer;\n",
              "      display: none;\n",
              "      fill: #1967D2;\n",
              "      height: 32px;\n",
              "      padding: 0 0 0 0;\n",
              "      width: 32px;\n",
              "    }\n",
              "\n",
              "    .colab-df-convert:hover {\n",
              "      background-color: #E2EBFA;\n",
              "      box-shadow: 0px 1px 2px rgba(60, 64, 67, 0.3), 0px 1px 3px 1px rgba(60, 64, 67, 0.15);\n",
              "      fill: #174EA6;\n",
              "    }\n",
              "\n",
              "    [theme=dark] .colab-df-convert {\n",
              "      background-color: #3B4455;\n",
              "      fill: #D2E3FC;\n",
              "    }\n",
              "\n",
              "    [theme=dark] .colab-df-convert:hover {\n",
              "      background-color: #434B5C;\n",
              "      box-shadow: 0px 1px 3px 1px rgba(0, 0, 0, 0.15);\n",
              "      filter: drop-shadow(0px 1px 2px rgba(0, 0, 0, 0.3));\n",
              "      fill: #FFFFFF;\n",
              "    }\n",
              "  </style>\n",
              "\n",
              "      <script>\n",
              "        const buttonEl =\n",
              "          document.querySelector('#df-7d52296f-6641-4cf3-917b-f9c5af29803c button.colab-df-convert');\n",
              "        buttonEl.style.display =\n",
              "          google.colab.kernel.accessAllowed ? 'block' : 'none';\n",
              "\n",
              "        async function convertToInteractive(key) {\n",
              "          const element = document.querySelector('#df-7d52296f-6641-4cf3-917b-f9c5af29803c');\n",
              "          const dataTable =\n",
              "            await google.colab.kernel.invokeFunction('convertToInteractive',\n",
              "                                                     [key], {});\n",
              "          if (!dataTable) return;\n",
              "\n",
              "          const docLinkHtml = 'Like what you see? Visit the ' +\n",
              "            '<a target=\"_blank\" href=https://colab.research.google.com/notebooks/data_table.ipynb>data table notebook</a>'\n",
              "            + ' to learn more about interactive tables.';\n",
              "          element.innerHTML = '';\n",
              "          dataTable['output_type'] = 'display_data';\n",
              "          await google.colab.output.renderOutput(dataTable, element);\n",
              "          const docLink = document.createElement('div');\n",
              "          docLink.innerHTML = docLinkHtml;\n",
              "          element.appendChild(docLink);\n",
              "        }\n",
              "      </script>\n",
              "    </div>\n",
              "  </div>\n",
              "  "
            ],
            "text/plain": [
              "  species     island  culmen_length_mm  ...  flipper_length_mm  body_mass_g     sex\n",
              "0  Adelie  Torgersen              39.1  ...              181.0       3750.0    MALE\n",
              "1  Adelie  Torgersen              39.5  ...              186.0       3800.0  FEMALE\n",
              "2  Adelie  Torgersen              40.3  ...              195.0       3250.0  FEMALE\n",
              "4  Adelie  Torgersen              36.7  ...              193.0       3450.0  FEMALE\n",
              "5  Adelie  Torgersen              39.3  ...              190.0       3650.0    MALE\n",
              "\n",
              "[5 rows x 7 columns]"
            ]
          },
          "metadata": {},
          "execution_count": 12
        }
      ]
    },
    {
      "cell_type": "markdown",
      "source": [
        "#### Encode target data\n",
        "This first chapter focuses on the 2-class classification.  \n",
        "Then our target `y` should be processed as following."
      ],
      "metadata": {
        "id": "BWU0wpkx5Q1Y"
      }
    },
    {
      "cell_type": "code",
      "source": [
        "data['species'].value_counts()"
      ],
      "metadata": {
        "colab": {
          "base_uri": "https://localhost:8080/"
        },
        "id": "wOoWz47OrBaj",
        "outputId": "371d1089-41e1-4a0a-e190-9214149a0470"
      },
      "execution_count": null,
      "outputs": [
        {
          "output_type": "execute_result",
          "data": {
            "text/plain": [
              "other     188\n",
              "Adelie    146\n",
              "Name: species, dtype: int64"
            ]
          },
          "metadata": {},
          "execution_count": 13
        }
      ]
    },
    {
      "cell_type": "markdown",
      "source": [
        "Lets' consider we would like to develop a 2-class classifier among the `Adelie` specie and the all other species."
      ],
      "metadata": {
        "id": "g1z8jSAfsUYl"
      }
    },
    {
      "cell_type": "code",
      "source": [
        "import numpy as np\n",
        "data['species'] = np.where(data.species == 'Gentoo', 'other', data.species)\n",
        "data['species'] = np.where(data.species == 'Chinstrap', 'other', data.species)\n",
        "data['species'].value_counts()"
      ],
      "metadata": {
        "colab": {
          "base_uri": "https://localhost:8080/"
        },
        "id": "Dbh3_QLpsUhv",
        "outputId": "fb7b22cd-aa92-460d-8dc6-679eac0f2ce5"
      },
      "execution_count": null,
      "outputs": [
        {
          "output_type": "execute_result",
          "data": {
            "text/plain": [
              "other     188\n",
              "Adelie    146\n",
              "Name: species, dtype: int64"
            ]
          },
          "metadata": {},
          "execution_count": 14
        }
      ]
    },
    {
      "cell_type": "code",
      "source": [
        "# target preprocessing\n",
        "from sklearn.preprocessing import LabelEncoder\n",
        "lb_encod = LabelEncoder()\n",
        "y = lb_encod.fit_transform(data['species'])\n",
        "y[:5]"
      ],
      "metadata": {
        "colab": {
          "base_uri": "https://localhost:8080/"
        },
        "id": "GRiZeG4m5XwQ",
        "outputId": "9307b4a4-e155-47a1-d55e-67b9e5ba64f6"
      },
      "execution_count": null,
      "outputs": [
        {
          "output_type": "execute_result",
          "data": {
            "text/plain": [
              "array([0, 0, 0, 0, 0])"
            ]
          },
          "metadata": {},
          "execution_count": 16
        }
      ]
    },
    {
      "cell_type": "markdown",
      "source": [
        "#### Declare the features"
      ],
      "metadata": {
        "id": "qB1K7KZe5idk"
      }
    },
    {
      "cell_type": "code",
      "source": [
        "X = data.select_dtypes(exclude=['object'])\n",
        "X.head()"
      ],
      "metadata": {
        "colab": {
          "base_uri": "https://localhost:8080/",
          "height": 206
        },
        "id": "f9nBTzkX5mFn",
        "outputId": "3171cd93-a402-477e-d6b3-8135f9a3e7c9"
      },
      "execution_count": null,
      "outputs": [
        {
          "output_type": "execute_result",
          "data": {
            "text/html": [
              "\n",
              "  <div id=\"df-2d5dc909-894f-42e0-a4d7-110ba080e3c4\">\n",
              "    <div class=\"colab-df-container\">\n",
              "      <div>\n",
              "<style scoped>\n",
              "    .dataframe tbody tr th:only-of-type {\n",
              "        vertical-align: middle;\n",
              "    }\n",
              "\n",
              "    .dataframe tbody tr th {\n",
              "        vertical-align: top;\n",
              "    }\n",
              "\n",
              "    .dataframe thead th {\n",
              "        text-align: right;\n",
              "    }\n",
              "</style>\n",
              "<table border=\"1\" class=\"dataframe\">\n",
              "  <thead>\n",
              "    <tr style=\"text-align: right;\">\n",
              "      <th></th>\n",
              "      <th>culmen_length_mm</th>\n",
              "      <th>culmen_depth_mm</th>\n",
              "      <th>flipper_length_mm</th>\n",
              "      <th>body_mass_g</th>\n",
              "    </tr>\n",
              "  </thead>\n",
              "  <tbody>\n",
              "    <tr>\n",
              "      <th>0</th>\n",
              "      <td>39.1</td>\n",
              "      <td>18.7</td>\n",
              "      <td>181.0</td>\n",
              "      <td>3750.0</td>\n",
              "    </tr>\n",
              "    <tr>\n",
              "      <th>1</th>\n",
              "      <td>39.5</td>\n",
              "      <td>17.4</td>\n",
              "      <td>186.0</td>\n",
              "      <td>3800.0</td>\n",
              "    </tr>\n",
              "    <tr>\n",
              "      <th>2</th>\n",
              "      <td>40.3</td>\n",
              "      <td>18.0</td>\n",
              "      <td>195.0</td>\n",
              "      <td>3250.0</td>\n",
              "    </tr>\n",
              "    <tr>\n",
              "      <th>4</th>\n",
              "      <td>36.7</td>\n",
              "      <td>19.3</td>\n",
              "      <td>193.0</td>\n",
              "      <td>3450.0</td>\n",
              "    </tr>\n",
              "    <tr>\n",
              "      <th>5</th>\n",
              "      <td>39.3</td>\n",
              "      <td>20.6</td>\n",
              "      <td>190.0</td>\n",
              "      <td>3650.0</td>\n",
              "    </tr>\n",
              "  </tbody>\n",
              "</table>\n",
              "</div>\n",
              "      <button class=\"colab-df-convert\" onclick=\"convertToInteractive('df-2d5dc909-894f-42e0-a4d7-110ba080e3c4')\"\n",
              "              title=\"Convert this dataframe to an interactive table.\"\n",
              "              style=\"display:none;\">\n",
              "        \n",
              "  <svg xmlns=\"http://www.w3.org/2000/svg\" height=\"24px\"viewBox=\"0 0 24 24\"\n",
              "       width=\"24px\">\n",
              "    <path d=\"M0 0h24v24H0V0z\" fill=\"none\"/>\n",
              "    <path d=\"M18.56 5.44l.94 2.06.94-2.06 2.06-.94-2.06-.94-.94-2.06-.94 2.06-2.06.94zm-11 1L8.5 8.5l.94-2.06 2.06-.94-2.06-.94L8.5 2.5l-.94 2.06-2.06.94zm10 10l.94 2.06.94-2.06 2.06-.94-2.06-.94-.94-2.06-.94 2.06-2.06.94z\"/><path d=\"M17.41 7.96l-1.37-1.37c-.4-.4-.92-.59-1.43-.59-.52 0-1.04.2-1.43.59L10.3 9.45l-7.72 7.72c-.78.78-.78 2.05 0 2.83L4 21.41c.39.39.9.59 1.41.59.51 0 1.02-.2 1.41-.59l7.78-7.78 2.81-2.81c.8-.78.8-2.07 0-2.86zM5.41 20L4 18.59l7.72-7.72 1.47 1.35L5.41 20z\"/>\n",
              "  </svg>\n",
              "      </button>\n",
              "      \n",
              "  <style>\n",
              "    .colab-df-container {\n",
              "      display:flex;\n",
              "      flex-wrap:wrap;\n",
              "      gap: 12px;\n",
              "    }\n",
              "\n",
              "    .colab-df-convert {\n",
              "      background-color: #E8F0FE;\n",
              "      border: none;\n",
              "      border-radius: 50%;\n",
              "      cursor: pointer;\n",
              "      display: none;\n",
              "      fill: #1967D2;\n",
              "      height: 32px;\n",
              "      padding: 0 0 0 0;\n",
              "      width: 32px;\n",
              "    }\n",
              "\n",
              "    .colab-df-convert:hover {\n",
              "      background-color: #E2EBFA;\n",
              "      box-shadow: 0px 1px 2px rgba(60, 64, 67, 0.3), 0px 1px 3px 1px rgba(60, 64, 67, 0.15);\n",
              "      fill: #174EA6;\n",
              "    }\n",
              "\n",
              "    [theme=dark] .colab-df-convert {\n",
              "      background-color: #3B4455;\n",
              "      fill: #D2E3FC;\n",
              "    }\n",
              "\n",
              "    [theme=dark] .colab-df-convert:hover {\n",
              "      background-color: #434B5C;\n",
              "      box-shadow: 0px 1px 3px 1px rgba(0, 0, 0, 0.15);\n",
              "      filter: drop-shadow(0px 1px 2px rgba(0, 0, 0, 0.3));\n",
              "      fill: #FFFFFF;\n",
              "    }\n",
              "  </style>\n",
              "\n",
              "      <script>\n",
              "        const buttonEl =\n",
              "          document.querySelector('#df-2d5dc909-894f-42e0-a4d7-110ba080e3c4 button.colab-df-convert');\n",
              "        buttonEl.style.display =\n",
              "          google.colab.kernel.accessAllowed ? 'block' : 'none';\n",
              "\n",
              "        async function convertToInteractive(key) {\n",
              "          const element = document.querySelector('#df-2d5dc909-894f-42e0-a4d7-110ba080e3c4');\n",
              "          const dataTable =\n",
              "            await google.colab.kernel.invokeFunction('convertToInteractive',\n",
              "                                                     [key], {});\n",
              "          if (!dataTable) return;\n",
              "\n",
              "          const docLinkHtml = 'Like what you see? Visit the ' +\n",
              "            '<a target=\"_blank\" href=https://colab.research.google.com/notebooks/data_table.ipynb>data table notebook</a>'\n",
              "            + ' to learn more about interactive tables.';\n",
              "          element.innerHTML = '';\n",
              "          dataTable['output_type'] = 'display_data';\n",
              "          await google.colab.output.renderOutput(dataTable, element);\n",
              "          const docLink = document.createElement('div');\n",
              "          docLink.innerHTML = docLinkHtml;\n",
              "          element.appendChild(docLink);\n",
              "        }\n",
              "      </script>\n",
              "    </div>\n",
              "  </div>\n",
              "  "
            ],
            "text/plain": [
              "   culmen_length_mm  culmen_depth_mm  flipper_length_mm  body_mass_g\n",
              "0              39.1             18.7              181.0       3750.0\n",
              "1              39.5             17.4              186.0       3800.0\n",
              "2              40.3             18.0              195.0       3250.0\n",
              "4              36.7             19.3              193.0       3450.0\n",
              "5              39.3             20.6              190.0       3650.0"
            ]
          },
          "metadata": {},
          "execution_count": 17
        }
      ]
    },
    {
      "cell_type": "markdown",
      "source": [
        "#### Split data into train and test set"
      ],
      "metadata": {
        "id": "XDEcWTfU5k2R"
      }
    },
    {
      "cell_type": "code",
      "source": [
        "from sklearn.model_selection import train_test_split\n",
        "X_train, X_test, y_train, y_test = train_test_split(X, y, test_size=0.2, random_state=2, stratify=y)"
      ],
      "metadata": {
        "id": "BcrBitXy52N7"
      },
      "execution_count": null,
      "outputs": []
    },
    {
      "cell_type": "markdown",
      "source": [
        "#### Declare and train a basic model"
      ],
      "metadata": {
        "id": "G3-GKCWN53RU"
      }
    },
    {
      "cell_type": "code",
      "source": [
        "from sklearn.linear_model import LogisticRegression\n",
        "model = LogisticRegression()\n",
        "model.fit(X_train, y_train)"
      ],
      "metadata": {
        "colab": {
          "base_uri": "https://localhost:8080/"
        },
        "id": "QSac-nXi58Aa",
        "outputId": "bb928787-e85e-41c5-8f7d-55323986041d"
      },
      "execution_count": null,
      "outputs": [
        {
          "output_type": "execute_result",
          "data": {
            "text/plain": [
              "LogisticRegression()"
            ]
          },
          "metadata": {},
          "execution_count": 21
        }
      ]
    },
    {
      "cell_type": "markdown",
      "source": [
        "#### Make predictions from the X_test set"
      ],
      "metadata": {
        "id": "ajsUBz0x6Bzi"
      }
    },
    {
      "cell_type": "code",
      "source": [
        "y_pred = model.predict(X_test)"
      ],
      "metadata": {
        "id": "-202pOYW6Haz"
      },
      "execution_count": null,
      "outputs": []
    },
    {
      "cell_type": "markdown",
      "source": [
        "#### Evaluate the accuracy score of the model"
      ],
      "metadata": {
        "id": "ppL_GgvI6J9F"
      }
    },
    {
      "cell_type": "code",
      "source": [
        "# Score of models\n",
        "from sklearn.metrics import accuracy_score\n",
        "score = accuracy_score(y_test, y_pred)\n",
        "print(\"score :\", round(score, 5))"
      ],
      "metadata": {
        "colab": {
          "base_uri": "https://localhost:8080/"
        },
        "id": "C0VP4cCi6KLb",
        "outputId": "e0b77dbb-937c-43dd-968d-d8b7db1120ae"
      },
      "execution_count": null,
      "outputs": [
        {
          "output_type": "stream",
          "name": "stdout",
          "text": [
            "score : 0.98507\n"
          ]
        }
      ]
    },
    {
      "cell_type": "markdown",
      "source": [
        "## Accuracy score\n",
        "Accuracy as a baseline : now that we have these predictions, we can compare them with the true predictions (sometimes called ground-truth) which we did not use until now."
      ],
      "metadata": {
        "id": "pbWKEZM36UIb"
      }
    },
    {
      "cell_type": "code",
      "source": [
        "y_test == y_pred"
      ],
      "metadata": {
        "colab": {
          "base_uri": "https://localhost:8080/"
        },
        "id": "jOPLpkWR6Th5",
        "outputId": "189a68e9-6705-41c9-85a4-d167fe5dcffa"
      },
      "execution_count": null,
      "outputs": [
        {
          "output_type": "execute_result",
          "data": {
            "text/plain": [
              "array([ True,  True,  True,  True,  True,  True,  True,  True,  True,\n",
              "        True,  True,  True,  True,  True,  True,  True,  True,  True,\n",
              "        True,  True,  True,  True,  True,  True,  True, False,  True,\n",
              "        True,  True,  True,  True,  True,  True,  True,  True,  True,\n",
              "        True,  True,  True,  True,  True,  True,  True,  True,  True,\n",
              "        True,  True,  True,  True,  True,  True,  True,  True,  True,\n",
              "        True,  True,  True,  True,  True,  True,  True,  True,  True,\n",
              "        True,  True,  True,  True])"
            ]
          },
          "metadata": {},
          "execution_count": 25
        }
      ]
    },
    {
      "cell_type": "markdown",
      "source": [
        "In the comparison above, a `True` value means that the value predicted by our classifier is identical to the real value, while a `False` means that our classifier made a mistake.  \n",
        "One way of getting an overall rate representing the generalization performance of our classifier would be to compute how many times our classifier was right and divide it by the number of samples in our set."
      ],
      "metadata": {
        "id": "2RHHiYNU6p81"
      }
    },
    {
      "cell_type": "code",
      "source": [
        "# Global average of right predictions\n",
        "import numpy as np\n",
        "np.mean(y_test == y_pred)"
      ],
      "metadata": {
        "colab": {
          "base_uri": "https://localhost:8080/"
        },
        "id": "TALEHypd60Ku",
        "outputId": "ab21750f-010c-47a2-f55c-da5096d238fb"
      },
      "execution_count": null,
      "outputs": [
        {
          "output_type": "execute_result",
          "data": {
            "text/plain": [
              "0.9850746268656716"
            ]
          },
          "metadata": {},
          "execution_count": 26
        }
      ]
    },
    {
      "cell_type": "markdown",
      "source": [
        "This measure is called the **accuracy**. "
      ],
      "metadata": {
        "id": "TynosRuK7Gt5"
      }
    },
    {
      "cell_type": "code",
      "source": [
        "accuracy_score(y_test, y_pred)"
      ],
      "metadata": {
        "colab": {
          "base_uri": "https://localhost:8080/"
        },
        "id": "ookXq2187OyK",
        "outputId": "145c1a1c-ce5e-411d-84a9-2060c13f9c73"
      },
      "execution_count": null,
      "outputs": [
        {
          "output_type": "execute_result",
          "data": {
            "text/plain": [
              "0.9850746268656716"
            ]
          },
          "metadata": {},
          "execution_count": 27
        }
      ]
    },
    {
      "cell_type": "markdown",
      "source": [
        "## Confusion matrix\n",
        "The comparison that we did above and the accuracy that we calculated did not take into account the type of error our classifier was making.   Accuracy is an aggregate of the errors made by the classifier.  \n",
        "We may be interested in finer granularity - to know independently what the error is for each of the two following cases:\n",
        "\n",
        "- we predicted an event as a alert whereas it was a normal event;\n",
        "\n",
        "- we predicted an event as normal wheareas it's a real alert."
      ],
      "metadata": {
        "id": "UxYGiudq7V5o"
      }
    },
    {
      "cell_type": "code",
      "source": [
        "# Basic confusion matrix\n",
        "from sklearn.metrics import confusion_matrix\n",
        "confusion_matrix = confusion_matrix(y_test, y_pred)\n",
        "confusion_matrix"
      ],
      "metadata": {
        "colab": {
          "base_uri": "https://localhost:8080/"
        },
        "id": "78as2_RzA4uQ",
        "outputId": "44463f3e-7628-4702-bc0f-f6d24a414e27"
      },
      "execution_count": null,
      "outputs": [
        {
          "output_type": "execute_result",
          "data": {
            "text/plain": [
              "array([[28,  1],\n",
              "       [ 0, 38]])"
            ]
          },
          "metadata": {},
          "execution_count": 28
        }
      ]
    },
    {
      "cell_type": "markdown",
      "source": [
        "#### Plot confusion matrix with `sklearn`"
      ],
      "metadata": {
        "id": "lvifDMUoA-fA"
      }
    },
    {
      "cell_type": "code",
      "source": [
        "from sklearn.metrics import ConfusionMatrixDisplay\n",
        "cm_plot = ConfusionMatrixDisplay(confusion_matrix,\n",
        "                                display_labels=np.unique(lb_encod.inverse_transform(model.classes_)))\n",
        "\n",
        "cm_plot.plot()"
      ],
      "metadata": {
        "colab": {
          "base_uri": "https://localhost:8080/",
          "height": 297
        },
        "id": "vJWR9QX8BD5m",
        "outputId": "8512e25d-eb16-4646-c046-e28e52172a0a"
      },
      "execution_count": null,
      "outputs": [
        {
          "output_type": "execute_result",
          "data": {
            "text/plain": [
              "<sklearn.metrics._plot.confusion_matrix.ConfusionMatrixDisplay at 0x7f8b5fa53f90>"
            ]
          },
          "metadata": {},
          "execution_count": 29
        },
        {
          "output_type": "display_data",
          "data": {
            "image/png": "[encoded data removed]",
            "text/plain": [
              "<Figure size 432x288 with 2 Axes>"
            ]
          },
          "metadata": {
            "needs_background": "light"
          }
        }
      ]
    },
    {
      "cell_type": "markdown",
      "source": [
        "The in-diagonal numbers are related to predictions that were correct while off-diagonal numbers are related to incorrect predictions (misclassifications). We now know the four types of correct and erroneous predictions:\n",
        "\n",
        "- the top left corner are true positives (TP) and corresponds to people who gave blood and were predicted as such by the classifier;\n",
        "\n",
        "- the bottom right corner are true negatives (TN) and correspond to people who did not give blood and were predicted as such by the classifier;\n",
        "\n",
        "- the top right corner are false negatives (FN) and correspond to people who gave blood but were predicted to not have given blood;\n",
        "\n",
        "- the bottom left corner are false positives (FP) and correspond to people who did not give blood but were predicted to have given blood."
      ],
      "metadata": {
        "id": "KC_XAQerB-CY"
      }
    },
    {
      "cell_type": "code",
      "source": [
        "# Equivalent \n",
        "from sklearn.metrics import ConfusionMatrixDisplay\n",
        "\n",
        "ConfusionMatrixDisplay.from_estimator(estimator = model,\n",
        "                                      X = X_test,\n",
        "                                      y = y_test,\n",
        "                                      display_labels=np.unique(lb_encod.inverse_transform(model.classes_)))"
      ],
      "metadata": {
        "colab": {
          "base_uri": "https://localhost:8080/",
          "height": 297
        },
        "id": "TJYizdEgBKF1",
        "outputId": "30bf5972-f5c9-44de-ef72-90686bdff327"
      },
      "execution_count": null,
      "outputs": [
        {
          "output_type": "execute_result",
          "data": {
            "text/plain": [
              "<sklearn.metrics._plot.confusion_matrix.ConfusionMatrixDisplay at 0x7f8b5f95db90>"
            ]
          },
          "metadata": {},
          "execution_count": 30
        },
        {
          "output_type": "display_data",
          "data": {
            "image/png": "[encoded data removed]",
            "text/plain": [
              "<Figure size 432x288 with 2 Axes>"
            ]
          },
          "metadata": {
            "needs_background": "light"
          }
        }
      ]
    },
    {
      "cell_type": "markdown",
      "source": [
        "#### Plot confusion matrix with `seaborn`"
      ],
      "metadata": {
        "id": "fhl1K_QABs1h"
      }
    },
    {
      "cell_type": "code",
      "source": [
        "# Confusion matrix\n",
        "import seaborn as sns\n",
        "sns.heatmap(confusion_matrix, annot=True, fmt=\"d\")"
      ],
      "metadata": {
        "colab": {
          "base_uri": "https://localhost:8080/",
          "height": 283
        },
        "id": "oHAhXyC67jwp",
        "outputId": "13f5126e-ae4e-4a33-d704-03451cad0822"
      },
      "execution_count": null,
      "outputs": [
        {
          "output_type": "execute_result",
          "data": {
            "text/plain": [
              "<matplotlib.axes._subplots.AxesSubplot at 0x7f8b5f3e7690>"
            ]
          },
          "metadata": {},
          "execution_count": 31
        },
        {
          "output_type": "display_data",
          "data": {
            "image/png": "[encoded data removed]",
            "text/plain": [
              "<Figure size 432x288 with 2 Axes>"
            ]
          },
          "metadata": {
            "needs_background": "light"
          }
        }
      ]
    },
    {
      "cell_type": "markdown",
      "source": [
        "For a better understanding, we could add the labels of species."
      ],
      "metadata": {
        "id": "Bmfurqz2-P5P"
      }
    },
    {
      "cell_type": "code",
      "source": [
        "df_confusion_matrix = pd.DataFrame(confusion_matrix,\n",
        "                                   index=np.unique(lb_encod.inverse_transform(y)),\n",
        "                                   columns=np.unique(lb_encod.inverse_transform(y))\n",
        "                                   )\n",
        "df_confusion_matrix.head()"
      ],
      "metadata": {
        "colab": {
          "base_uri": "https://localhost:8080/",
          "height": 112
        },
        "id": "-27GNRAz8wwm",
        "outputId": "a1188450-f405-43fd-f6d9-bd4b221596fd"
      },
      "execution_count": null,
      "outputs": [
        {
          "output_type": "execute_result",
          "data": {
            "text/html": [
              "\n",
              "  <div id=\"df-933ed57d-89d0-472d-8e8d-cb09b3ba7154\">\n",
              "    <div class=\"colab-df-container\">\n",
              "      <div>\n",
              "<style scoped>\n",
              "    .dataframe tbody tr th:only-of-type {\n",
              "        vertical-align: middle;\n",
              "    }\n",
              "\n",
              "    .dataframe tbody tr th {\n",
              "        vertical-align: top;\n",
              "    }\n",
              "\n",
              "    .dataframe thead th {\n",
              "        text-align: right;\n",
              "    }\n",
              "</style>\n",
              "<table border=\"1\" class=\"dataframe\">\n",
              "  <thead>\n",
              "    <tr style=\"text-align: right;\">\n",
              "      <th></th>\n",
              "      <th>Adelie</th>\n",
              "      <th>other</th>\n",
              "    </tr>\n",
              "  </thead>\n",
              "  <tbody>\n",
              "    <tr>\n",
              "      <th>Adelie</th>\n",
              "      <td>28</td>\n",
              "      <td>1</td>\n",
              "    </tr>\n",
              "    <tr>\n",
              "      <th>other</th>\n",
              "      <td>0</td>\n",
              "      <td>38</td>\n",
              "    </tr>\n",
              "  </tbody>\n",
              "</table>\n",
              "</div>\n",
              "      <button class=\"colab-df-convert\" onclick=\"convertToInteractive('df-933ed57d-89d0-472d-8e8d-cb09b3ba7154')\"\n",
              "              title=\"Convert this dataframe to an interactive table.\"\n",
              "              style=\"display:none;\">\n",
              "        \n",
              "  <svg xmlns=\"http://www.w3.org/2000/svg\" height=\"24px\"viewBox=\"0 0 24 24\"\n",
              "       width=\"24px\">\n",
              "    <path d=\"M0 0h24v24H0V0z\" fill=\"none\"/>\n",
              "    <path d=\"M18.56 5.44l.94 2.06.94-2.06 2.06-.94-2.06-.94-.94-2.06-.94 2.06-2.06.94zm-11 1L8.5 8.5l.94-2.06 2.06-.94-2.06-.94L8.5 2.5l-.94 2.06-2.06.94zm10 10l.94 2.06.94-2.06 2.06-.94-2.06-.94-.94-2.06-.94 2.06-2.06.94z\"/><path d=\"M17.41 7.96l-1.37-1.37c-.4-.4-.92-.59-1.43-.59-.52 0-1.04.2-1.43.59L10.3 9.45l-7.72 7.72c-.78.78-.78 2.05 0 2.83L4 21.41c.39.39.9.59 1.41.59.51 0 1.02-.2 1.41-.59l7.78-7.78 2.81-2.81c.8-.78.8-2.07 0-2.86zM5.41 20L4 18.59l7.72-7.72 1.47 1.35L5.41 20z\"/>\n",
              "  </svg>\n",
              "      </button>\n",
              "      \n",
              "  <style>\n",
              "    .colab-df-container {\n",
              "      display:flex;\n",
              "      flex-wrap:wrap;\n",
              "      gap: 12px;\n",
              "    }\n",
              "\n",
              "    .colab-df-convert {\n",
              "      background-color: #E8F0FE;\n",
              "      border: none;\n",
              "      border-radius: 50%;\n",
              "      cursor: pointer;\n",
              "      display: none;\n",
              "      fill: #1967D2;\n",
              "      height: 32px;\n",
              "      padding: 0 0 0 0;\n",
              "      width: 32px;\n",
              "    }\n",
              "\n",
              "    .colab-df-convert:hover {\n",
              "      background-color: #E2EBFA;\n",
              "      box-shadow: 0px 1px 2px rgba(60, 64, 67, 0.3), 0px 1px 3px 1px rgba(60, 64, 67, 0.15);\n",
              "      fill: #174EA6;\n",
              "    }\n",
              "\n",
              "    [theme=dark] .colab-df-convert {\n",
              "      background-color: #3B4455;\n",
              "      fill: #D2E3FC;\n",
              "    }\n",
              "\n",
              "    [theme=dark] .colab-df-convert:hover {\n",
              "      background-color: #434B5C;\n",
              "      box-shadow: 0px 1px 3px 1px rgba(0, 0, 0, 0.15);\n",
              "      filter: drop-shadow(0px 1px 2px rgba(0, 0, 0, 0.3));\n",
              "      fill: #FFFFFF;\n",
              "    }\n",
              "  </style>\n",
              "\n",
              "      <script>\n",
              "        const buttonEl =\n",
              "          document.querySelector('#df-933ed57d-89d0-472d-8e8d-cb09b3ba7154 button.colab-df-convert');\n",
              "        buttonEl.style.display =\n",
              "          google.colab.kernel.accessAllowed ? 'block' : 'none';\n",
              "\n",
              "        async function convertToInteractive(key) {\n",
              "          const element = document.querySelector('#df-933ed57d-89d0-472d-8e8d-cb09b3ba7154');\n",
              "          const dataTable =\n",
              "            await google.colab.kernel.invokeFunction('convertToInteractive',\n",
              "                                                     [key], {});\n",
              "          if (!dataTable) return;\n",
              "\n",
              "          const docLinkHtml = 'Like what you see? Visit the ' +\n",
              "            '<a target=\"_blank\" href=https://colab.research.google.com/notebooks/data_table.ipynb>data table notebook</a>'\n",
              "            + ' to learn more about interactive tables.';\n",
              "          element.innerHTML = '';\n",
              "          dataTable['output_type'] = 'display_data';\n",
              "          await google.colab.output.renderOutput(dataTable, element);\n",
              "          const docLink = document.createElement('div');\n",
              "          docLink.innerHTML = docLinkHtml;\n",
              "          element.appendChild(docLink);\n",
              "        }\n",
              "      </script>\n",
              "    </div>\n",
              "  </div>\n",
              "  "
            ],
            "text/plain": [
              "        Adelie  other\n",
              "Adelie      28      1\n",
              "other        0     38"
            ]
          },
          "metadata": {},
          "execution_count": 32
        }
      ]
    },
    {
      "cell_type": "markdown",
      "source": [
        "Let's plot the labeled confusion matrix."
      ],
      "metadata": {
        "id": "L98xAXgn-n3j"
      }
    },
    {
      "cell_type": "code",
      "source": [
        "sns.heatmap(df_confusion_matrix, annot=True, fmt=\"d\", cmap = sns.cm.rocket_r)"
      ],
      "metadata": {
        "colab": {
          "base_uri": "https://localhost:8080/",
          "height": 283
        },
        "id": "3-HkSezj-udt",
        "outputId": "4a6cc55e-49ea-4bbd-8525-1ac8ce2d6bdd"
      },
      "execution_count": null,
      "outputs": [
        {
          "output_type": "execute_result",
          "data": {
            "text/plain": [
              "<matplotlib.axes._subplots.AxesSubplot at 0x7f8b5f3e70d0>"
            ]
          },
          "metadata": {},
          "execution_count": 33
        },
        {
          "output_type": "display_data",
          "data": {
            "image/png": "[encoded data removed]",
            "text/plain": [
              "<Figure size 432x288 with 2 Axes>"
            ]
          },
          "metadata": {
            "needs_background": "light"
          }
        }
      ]
    },
    {
      "cell_type": "markdown",
      "source": [
        "## Precision & Recall\n",
        "- **Precision** (also called positive predictive value) proportion of correct predictions among the points that were predicted positive. This is the ability of our model to trigger an alarm only for a real case.  \n",
        "- **Recall** (also known as sensitivity) is the true positive rate, i.e. the proportion of positives that have been correctly identified. This is the ability of our model to detect all true alertes.  \n",
        "\n",
        "Both precision and recall are therefore based on relevance."
      ],
      "metadata": {
        "id": "5BN8K4sN0d8i"
      }
    },
    {
      "cell_type": "code",
      "source": [
        "# counts the number of true positives (y_test = 1, y_pred = 1)\n",
        "TP = sum((y_test == 1) & (y_pred == 1))\n",
        "TP"
      ],
      "metadata": {
        "colab": {
          "base_uri": "https://localhost:8080/"
        },
        "id": "z_3hXXv0EFid",
        "outputId": "ec38f163-26b6-43aa-acc5-71766ee6a62b"
      },
      "execution_count": null,
      "outputs": [
        {
          "output_type": "execute_result",
          "data": {
            "text/plain": [
              "38"
            ]
          },
          "metadata": {},
          "execution_count": 34
        }
      ]
    },
    {
      "cell_type": "code",
      "source": [
        "# counts the number of true negatives (y_test = 0, y_pred = 0)\n",
        "TN = sum((y_test == 0) & (y_pred == 0))\n",
        "TN"
      ],
      "metadata": {
        "colab": {
          "base_uri": "https://localhost:8080/"
        },
        "outputId": "e0c6f67b-ac55-41e3-d74d-57749414f294",
        "id": "iT_yNHDcEosg"
      },
      "execution_count": null,
      "outputs": [
        {
          "output_type": "execute_result",
          "data": {
            "text/plain": [
              "28"
            ]
          },
          "metadata": {},
          "execution_count": 35
        }
      ]
    },
    {
      "cell_type": "code",
      "source": [
        "# counts the number of false negatives (y_test = 1, y_pred = 0)\n",
        "FN = sum((y_test == 1) & (y_pred == 0))\n",
        "FN"
      ],
      "metadata": {
        "colab": {
          "base_uri": "https://localhost:8080/"
        },
        "outputId": "81fcd7d9-8a99-4a76-d891-d8161203a1d1",
        "id": "r-JtRtgJEoXv"
      },
      "execution_count": null,
      "outputs": [
        {
          "output_type": "execute_result",
          "data": {
            "text/plain": [
              "0"
            ]
          },
          "metadata": {},
          "execution_count": 36
        }
      ]
    },
    {
      "cell_type": "code",
      "source": [
        "# counts the number of false positives (y_test = 0, y_pred = 1)\n",
        "FP = sum((y_test == 0) & (y_pred == 1))\n",
        "FP"
      ],
      "metadata": {
        "colab": {
          "base_uri": "https://localhost:8080/"
        },
        "outputId": "951a71b7-0267-4e23-8977-bbba58461db0",
        "id": "TqprQ7ldEokz"
      },
      "execution_count": null,
      "outputs": [
        {
          "output_type": "execute_result",
          "data": {
            "text/plain": [
              "1"
            ]
          },
          "metadata": {},
          "execution_count": 37
        }
      ]
    },
    {
      "cell_type": "markdown",
      "source": [
        "#### Precision score\n",
        "Precision is the fraction of predicted positives events that are actually positive.  \n",
        "Precision score is computed as : TP / (TP + FP)"
      ],
      "metadata": {
        "id": "dtNU0ZMHD7Xp"
      }
    },
    {
      "cell_type": "code",
      "source": [
        "precision = TP / (TP + FP)\n",
        "precision"
      ],
      "metadata": {
        "colab": {
          "base_uri": "https://localhost:8080/"
        },
        "id": "wxPbXV8RFU6o",
        "outputId": "9910f31f-ba5f-42f3-9fcc-cf5cf9e8bb63"
      },
      "execution_count": null,
      "outputs": [
        {
          "output_type": "execute_result",
          "data": {
            "text/plain": [
              "0.9743589743589743"
            ]
          },
          "metadata": {},
          "execution_count": 38
        }
      ]
    },
    {
      "cell_type": "markdown",
      "source": [
        "And is available with `precision_score` from `sklearn.metrics`."
      ],
      "metadata": {
        "id": "AkYbFb9AFZaq"
      }
    },
    {
      "cell_type": "code",
      "source": [
        "from sklearn.metrics import precision_score\n",
        "precision2 = precision_score(y_test, y_pred)\n",
        "precision2"
      ],
      "metadata": {
        "colab": {
          "base_uri": "https://localhost:8080/"
        },
        "id": "fbW3NUX3FZjb",
        "outputId": "8044b342-f7e4-4266-fdcc-f04feaaf8ef9"
      },
      "execution_count": null,
      "outputs": [
        {
          "output_type": "execute_result",
          "data": {
            "text/plain": [
              "0.9743589743589743"
            ]
          },
          "metadata": {},
          "execution_count": 43
        }
      ]
    },
    {
      "cell_type": "markdown",
      "source": [
        "#### Recall score\n",
        "Recall score is the fraction of positives events that you predicted correctly.  \n",
        "Recall is computed as : TP / (TP + FN)"
      ],
      "metadata": {
        "id": "nhg1wf_kcLZn"
      }
    },
    {
      "cell_type": "code",
      "source": [
        "recall = TP / (TP + FN)\n",
        "recall"
      ],
      "metadata": {
        "colab": {
          "base_uri": "https://localhost:8080/"
        },
        "outputId": "6a46d951-198f-4eab-a876-9f32f80284ad",
        "id": "iXs5DVkccLZv"
      },
      "execution_count": null,
      "outputs": [
        {
          "output_type": "execute_result",
          "data": {
            "text/plain": [
              "1.0"
            ]
          },
          "metadata": {},
          "execution_count": 40
        }
      ]
    },
    {
      "cell_type": "markdown",
      "source": [
        "And is available with `recall_score` from `sklearn.metrics`."
      ],
      "metadata": {
        "id": "1IX3lx4UcLZv"
      }
    },
    {
      "cell_type": "code",
      "source": [
        "from sklearn.metrics import recall_score\n",
        "recall2 = recall_score(y_test, y_pred)\n",
        "recall2"
      ],
      "metadata": {
        "colab": {
          "base_uri": "https://localhost:8080/"
        },
        "outputId": "5cd357e6-79fe-4d52-a4ef-096166b63557",
        "id": "G4CTnnMkcLZv"
      },
      "execution_count": null,
      "outputs": [
        {
          "output_type": "execute_result",
          "data": {
            "text/plain": [
              "1.0"
            ]
          },
          "metadata": {},
          "execution_count": 42
        }
      ]
    },
    {
      "cell_type": "markdown",
      "source": [
        "## ROC curve\n",
        "A receiver operating characteristic curve, or ROC curve, is a graphical plot that illustrates the diagnostic ability of a binary classifier system as its discrimination threshold is varied.  \n",
        "The method was originally developed for operators of military radar receivers starting in 1941, which led to its name. [Wikipedia](https://en.wikipedia.org/wiki/Receiver_operating_characteristic)\n"
      ],
      "metadata": {
        "id": "cBnjDXR2FUUF"
      }
    },
    {
      "cell_type": "markdown",
      "source": [
        "#### ROC computation with `roc_curve`from `metrics`"
      ],
      "metadata": {
        "id": "Nv5kEVJHe4mh"
      }
    },
    {
      "cell_type": "code",
      "source": [
        "from sklearn.metrics import roc_curve\n",
        "fpr, tpr, thresholds = metrics.roc_curve(y_test, y_pred)\n",
        "print(\"False positive rate:\", fpr)\n",
        "print(\"True positive rate:\", tpr)\n",
        "print(\"Thresholds:\", thresholds)"
      ],
      "metadata": {
        "colab": {
          "base_uri": "https://localhost:8080/"
        },
        "id": "km-OmYKOu_VR",
        "outputId": "0353a3fe-e380-4bcc-cf02-529cfa65bd97"
      },
      "execution_count": null,
      "outputs": [
        {
          "output_type": "stream",
          "name": "stdout",
          "text": [
            "False positive rate: [0.         0.03448276 1.        ]\n",
            "True positive rate: [0. 1. 1.]\n",
            "Thresholds: [2 1 0]\n"
          ]
        }
      ]
    },
    {
      "cell_type": "markdown",
      "source": [
        "#### ROC Curve with `RocCurveDisplay`from `metrics`"
      ],
      "metadata": {
        "id": "U5ngevNuvkSn"
      }
    },
    {
      "cell_type": "code",
      "source": [
        "from sklearn.metrics import RocCurveDisplay\n",
        "RocCurveDisplay.from_predictions(y_test, y_pred)"
      ],
      "metadata": {
        "colab": {
          "base_uri": "https://localhost:8080/",
          "height": 297
        },
        "id": "oCh1HsPmunSj",
        "outputId": "4ac2f953-a580-43b9-ae65-2014f6cb948e"
      },
      "execution_count": null,
      "outputs": [
        {
          "output_type": "execute_result",
          "data": {
            "text/plain": [
              "<sklearn.metrics._plot.roc_curve.RocCurveDisplay at 0x7f8b56209b90>"
            ]
          },
          "metadata": {},
          "execution_count": 47
        },
        {
          "output_type": "display_data",
          "data": {
            "image/png": "[encoded data removed]",
            "text/plain": [
              "<Figure size 432x288 with 1 Axes>"
            ]
          },
          "metadata": {
            "needs_background": "light"
          }
        }
      ]
    },
    {
      "cell_type": "markdown",
      "source": [
        "Othe computations and informations are available with :\n",
        "- `RocCurveDisplay.from_estimator` : Plot Receiver Operating Characteristic (ROC) curve given an estimator and some data.\n",
        "\n",
        "- `RocCurveDisplay.from_predictions`: Plot Receiver Operating Characteristic (ROC) curve given the true and predicted values.\n",
        "\n",
        "- `det_curve`: Compute error rates for different probability thresholds.\n",
        "\n",
        "- `roc_auc_score`: Compute the area under the ROC curve.\n"
      ],
      "metadata": {
        "id": "h5omSM02vpU2"
      }
    },
    {
      "cell_type": "markdown",
      "metadata": {
        "id": "HYK3KI8hbZUn"
      },
      "source": [
        "\n",
        "## AUC : Area Under the Curve\n",
        "The ROC curve can be summarized  by a number: \"the area under the curve\", also denoted AUC for \"Area Under the ROC\", which makes it easier to compare several models.\n",
        "\n",
        "A perfect classifier has an AUC of 1; a random classifier, an AUC of 0.5.\n"
      ]
    },
    {
      "cell_type": "code",
      "source": [
        "from sklearn import metrics\n",
        "print(\"AUC: \", metrics.auc(fpr, tpr))"
      ],
      "metadata": {
        "id": "McC-WMj_jU09",
        "colab": {
          "base_uri": "https://localhost:8080/"
        },
        "outputId": "1893dbb3-b049-4949-80a4-4ba12d9e40b4"
      },
      "execution_count": null,
      "outputs": [
        {
          "output_type": "stream",
          "name": "stdout",
          "text": [
            "AUC:  0.9827586206896552\n"
          ]
        }
      ]
    },
    {
      "cell_type": "markdown",
      "source": [
        "# Use metrics into a ML worflow\n",
        "Let's consider we would like to apply different classification metrics into a complete ML workflow including `Pipeline` and `GridSearchCV`."
      ],
      "metadata": {
        "id": "-sP9e3SGwzrV"
      }
    },
    {
      "cell_type": "markdown",
      "source": [
        "### Load libraries"
      ],
      "metadata": {
        "id": "efxV2lrttVmS"
      }
    },
    {
      "cell_type": "code",
      "source": [
        "# data\n",
        "import pandas as pd\n",
        "import numpy as np\n",
        "\n",
        "# Preprocessing\n",
        "from sklearn.impute import SimpleImputer\n",
        "from sklearn.compose import ColumnTransformer\n",
        "from sklearn.preprocessing import LabelEncoder, OneHotEncoder, StandardScaler, RobustScaler, MinMaxScaler\n",
        "\n",
        "# Pipeline and model\n",
        "from sklearn.pipeline import Pipeline\n",
        "from sklearn.model_selection import train_test_split\n",
        "from sklearn.linear_model import LogisticRegression\n",
        "from sklearn.naive_bayes import CategoricalNB, GaussianNB\n",
        "from sklearn.ensemble import GradientBoostingClassifier\n",
        "from sklearn.svm import SVC\n",
        "from sklearn.model_selection import GridSearchCV\n",
        "\n",
        "# Score of models\n",
        "from sklearn.metrics import accuracy_score, SCORERS"
      ],
      "metadata": {
        "id": "76Xg4L-1nG81"
      },
      "execution_count": 49,
      "outputs": []
    },
    {
      "cell_type": "markdown",
      "source": [
        "### Load data"
      ],
      "metadata": {
        "id": "ULlQ334WtYCJ"
      }
    },
    {
      "cell_type": "code",
      "source": [
        "# Load data\n",
        "url = \"https://raw.githubusercontent.com/remijul/dataset/master/penguins_size.csv\"\n",
        "data = pd.read_csv(url)"
      ],
      "metadata": {
        "id": "w-uJ6wPSpE1v"
      },
      "execution_count": 50,
      "outputs": []
    },
    {
      "cell_type": "markdown",
      "source": [
        "### Preprocessing\n",
        "Target preprocessing"
      ],
      "metadata": {
        "id": "82dcm2katepg"
      }
    },
    {
      "cell_type": "code",
      "source": [
        "# target preprocessing\n",
        "data['species'] = np.where(data.species == 'Gentoo', 'other', data.species)\n",
        "data['species'] = np.where(data.species == 'Chinstrap', 'other', data.species)\n",
        "\n",
        "lb_encod = LabelEncoder()\n",
        "y = lb_encod.fit_transform(data['species'])\n",
        "y"
      ],
      "metadata": {
        "colab": {
          "base_uri": "https://localhost:8080/"
        },
        "id": "k25mcBXDo7-K",
        "outputId": "e18f1fdd-364b-46c8-d8d8-ae70c12f3c0f"
      },
      "execution_count": 51,
      "outputs": [
        {
          "output_type": "execute_result",
          "data": {
            "text/plain": [
              "array([0, 0, 0, 0, 0, 0, 0, 0, 0, 0, 0, 0, 0, 0, 0, 0, 0, 0, 0, 0, 0, 0,\n",
              "       0, 0, 0, 0, 0, 0, 0, 0, 0, 0, 0, 0, 0, 0, 0, 0, 0, 0, 0, 0, 0, 0,\n",
              "       0, 0, 0, 0, 0, 0, 0, 0, 0, 0, 0, 0, 0, 0, 0, 0, 0, 0, 0, 0, 0, 0,\n",
              "       0, 0, 0, 0, 0, 0, 0, 0, 0, 0, 0, 0, 0, 0, 0, 0, 0, 0, 0, 0, 0, 0,\n",
              "       0, 0, 0, 0, 0, 0, 0, 0, 0, 0, 0, 0, 0, 0, 0, 0, 0, 0, 0, 0, 0, 0,\n",
              "       0, 0, 0, 0, 0, 0, 0, 0, 0, 0, 0, 0, 0, 0, 0, 0, 0, 0, 0, 0, 0, 0,\n",
              "       0, 0, 0, 0, 0, 0, 0, 0, 0, 0, 0, 0, 0, 0, 0, 0, 0, 0, 0, 0, 1, 1,\n",
              "       1, 1, 1, 1, 1, 1, 1, 1, 1, 1, 1, 1, 1, 1, 1, 1, 1, 1, 1, 1, 1, 1,\n",
              "       1, 1, 1, 1, 1, 1, 1, 1, 1, 1, 1, 1, 1, 1, 1, 1, 1, 1, 1, 1, 1, 1,\n",
              "       1, 1, 1, 1, 1, 1, 1, 1, 1, 1, 1, 1, 1, 1, 1, 1, 1, 1, 1, 1, 1, 1,\n",
              "       1, 1, 1, 1, 1, 1, 1, 1, 1, 1, 1, 1, 1, 1, 1, 1, 1, 1, 1, 1, 1, 1,\n",
              "       1, 1, 1, 1, 1, 1, 1, 1, 1, 1, 1, 1, 1, 1, 1, 1, 1, 1, 1, 1, 1, 1,\n",
              "       1, 1, 1, 1, 1, 1, 1, 1, 1, 1, 1, 1, 1, 1, 1, 1, 1, 1, 1, 1, 1, 1,\n",
              "       1, 1, 1, 1, 1, 1, 1, 1, 1, 1, 1, 1, 1, 1, 1, 1, 1, 1, 1, 1, 1, 1,\n",
              "       1, 1, 1, 1, 1, 1, 1, 1, 1, 1, 1, 1, 1, 1, 1, 1, 1, 1, 1, 1, 1, 1,\n",
              "       1, 1, 1, 1, 1, 1, 1, 1, 1, 1, 1, 1, 1, 1])"
            ]
          },
          "metadata": {},
          "execution_count": 51
        }
      ]
    },
    {
      "cell_type": "markdown",
      "source": [
        "Features preprocessing"
      ],
      "metadata": {
        "id": "AZkYawQbtsAK"
      }
    },
    {
      "cell_type": "code",
      "source": [
        "# features preprocessing\n",
        "X = data.drop(columns='species')\n",
        "X.head()"
      ],
      "metadata": {
        "colab": {
          "base_uri": "https://localhost:8080/",
          "height": 206
        },
        "id": "780I54HCpuzm",
        "outputId": "85d19e69-6dc4-4212-9f21-51e5c672e9f5"
      },
      "execution_count": 52,
      "outputs": [
        {
          "output_type": "execute_result",
          "data": {
            "text/html": [
              "\n",
              "  <div id=\"df-d3531bd2-ab27-4670-a70e-59f90685e02b\">\n",
              "    <div class=\"colab-df-container\">\n",
              "      <div>\n",
              "<style scoped>\n",
              "    .dataframe tbody tr th:only-of-type {\n",
              "        vertical-align: middle;\n",
              "    }\n",
              "\n",
              "    .dataframe tbody tr th {\n",
              "        vertical-align: top;\n",
              "    }\n",
              "\n",
              "    .dataframe thead th {\n",
              "        text-align: right;\n",
              "    }\n",
              "</style>\n",
              "<table border=\"1\" class=\"dataframe\">\n",
              "  <thead>\n",
              "    <tr style=\"text-align: right;\">\n",
              "      <th></th>\n",
              "      <th>island</th>\n",
              "      <th>culmen_length_mm</th>\n",
              "      <th>culmen_depth_mm</th>\n",
              "      <th>flipper_length_mm</th>\n",
              "      <th>body_mass_g</th>\n",
              "      <th>sex</th>\n",
              "    </tr>\n",
              "  </thead>\n",
              "  <tbody>\n",
              "    <tr>\n",
              "      <th>0</th>\n",
              "      <td>Torgersen</td>\n",
              "      <td>39.1</td>\n",
              "      <td>18.7</td>\n",
              "      <td>181.0</td>\n",
              "      <td>3750.0</td>\n",
              "      <td>MALE</td>\n",
              "    </tr>\n",
              "    <tr>\n",
              "      <th>1</th>\n",
              "      <td>Torgersen</td>\n",
              "      <td>39.5</td>\n",
              "      <td>17.4</td>\n",
              "      <td>186.0</td>\n",
              "      <td>3800.0</td>\n",
              "      <td>FEMALE</td>\n",
              "    </tr>\n",
              "    <tr>\n",
              "      <th>2</th>\n",
              "      <td>Torgersen</td>\n",
              "      <td>40.3</td>\n",
              "      <td>18.0</td>\n",
              "      <td>195.0</td>\n",
              "      <td>3250.0</td>\n",
              "      <td>FEMALE</td>\n",
              "    </tr>\n",
              "    <tr>\n",
              "      <th>3</th>\n",
              "      <td>Torgersen</td>\n",
              "      <td>NaN</td>\n",
              "      <td>NaN</td>\n",
              "      <td>NaN</td>\n",
              "      <td>NaN</td>\n",
              "      <td>NaN</td>\n",
              "    </tr>\n",
              "    <tr>\n",
              "      <th>4</th>\n",
              "      <td>Torgersen</td>\n",
              "      <td>36.7</td>\n",
              "      <td>19.3</td>\n",
              "      <td>193.0</td>\n",
              "      <td>3450.0</td>\n",
              "      <td>FEMALE</td>\n",
              "    </tr>\n",
              "  </tbody>\n",
              "</table>\n",
              "</div>\n",
              "      <button class=\"colab-df-convert\" onclick=\"convertToInteractive('df-d3531bd2-ab27-4670-a70e-59f90685e02b')\"\n",
              "              title=\"Convert this dataframe to an interactive table.\"\n",
              "              style=\"display:none;\">\n",
              "        \n",
              "  <svg xmlns=\"http://www.w3.org/2000/svg\" height=\"24px\"viewBox=\"0 0 24 24\"\n",
              "       width=\"24px\">\n",
              "    <path d=\"M0 0h24v24H0V0z\" fill=\"none\"/>\n",
              "    <path d=\"M18.56 5.44l.94 2.06.94-2.06 2.06-.94-2.06-.94-.94-2.06-.94 2.06-2.06.94zm-11 1L8.5 8.5l.94-2.06 2.06-.94-2.06-.94L8.5 2.5l-.94 2.06-2.06.94zm10 10l.94 2.06.94-2.06 2.06-.94-2.06-.94-.94-2.06-.94 2.06-2.06.94z\"/><path d=\"M17.41 7.96l-1.37-1.37c-.4-.4-.92-.59-1.43-.59-.52 0-1.04.2-1.43.59L10.3 9.45l-7.72 7.72c-.78.78-.78 2.05 0 2.83L4 21.41c.39.39.9.59 1.41.59.51 0 1.02-.2 1.41-.59l7.78-7.78 2.81-2.81c.8-.78.8-2.07 0-2.86zM5.41 20L4 18.59l7.72-7.72 1.47 1.35L5.41 20z\"/>\n",
              "  </svg>\n",
              "      </button>\n",
              "      \n",
              "  <style>\n",
              "    .colab-df-container {\n",
              "      display:flex;\n",
              "      flex-wrap:wrap;\n",
              "      gap: 12px;\n",
              "    }\n",
              "\n",
              "    .colab-df-convert {\n",
              "      background-color: #E8F0FE;\n",
              "      border: none;\n",
              "      border-radius: 50%;\n",
              "      cursor: pointer;\n",
              "      display: none;\n",
              "      fill: #1967D2;\n",
              "      height: 32px;\n",
              "      padding: 0 0 0 0;\n",
              "      width: 32px;\n",
              "    }\n",
              "\n",
              "    .colab-df-convert:hover {\n",
              "      background-color: #E2EBFA;\n",
              "      box-shadow: 0px 1px 2px rgba(60, 64, 67, 0.3), 0px 1px 3px 1px rgba(60, 64, 67, 0.15);\n",
              "      fill: #174EA6;\n",
              "    }\n",
              "\n",
              "    [theme=dark] .colab-df-convert {\n",
              "      background-color: #3B4455;\n",
              "      fill: #D2E3FC;\n",
              "    }\n",
              "\n",
              "    [theme=dark] .colab-df-convert:hover {\n",
              "      background-color: #434B5C;\n",
              "      box-shadow: 0px 1px 3px 1px rgba(0, 0, 0, 0.15);\n",
              "      filter: drop-shadow(0px 1px 2px rgba(0, 0, 0, 0.3));\n",
              "      fill: #FFFFFF;\n",
              "    }\n",
              "  </style>\n",
              "\n",
              "      <script>\n",
              "        const buttonEl =\n",
              "          document.querySelector('#df-d3531bd2-ab27-4670-a70e-59f90685e02b button.colab-df-convert');\n",
              "        buttonEl.style.display =\n",
              "          google.colab.kernel.accessAllowed ? 'block' : 'none';\n",
              "\n",
              "        async function convertToInteractive(key) {\n",
              "          const element = document.querySelector('#df-d3531bd2-ab27-4670-a70e-59f90685e02b');\n",
              "          const dataTable =\n",
              "            await google.colab.kernel.invokeFunction('convertToInteractive',\n",
              "                                                     [key], {});\n",
              "          if (!dataTable) return;\n",
              "\n",
              "          const docLinkHtml = 'Like what you see? Visit the ' +\n",
              "            '<a target=\"_blank\" href=https://colab.research.google.com/notebooks/data_table.ipynb>data table notebook</a>'\n",
              "            + ' to learn more about interactive tables.';\n",
              "          element.innerHTML = '';\n",
              "          dataTable['output_type'] = 'display_data';\n",
              "          await google.colab.output.renderOutput(dataTable, element);\n",
              "          const docLink = document.createElement('div');\n",
              "          docLink.innerHTML = docLinkHtml;\n",
              "          element.appendChild(docLink);\n",
              "        }\n",
              "      </script>\n",
              "    </div>\n",
              "  </div>\n",
              "  "
            ],
            "text/plain": [
              "      island  culmen_length_mm  ...  body_mass_g     sex\n",
              "0  Torgersen              39.1  ...       3750.0    MALE\n",
              "1  Torgersen              39.5  ...       3800.0  FEMALE\n",
              "2  Torgersen              40.3  ...       3250.0  FEMALE\n",
              "3  Torgersen               NaN  ...          NaN     NaN\n",
              "4  Torgersen              36.7  ...       3450.0  FEMALE\n",
              "\n",
              "[5 rows x 6 columns]"
            ]
          },
          "metadata": {},
          "execution_count": 52
        }
      ]
    },
    {
      "cell_type": "markdown",
      "source": [
        "Selection of categorical variables"
      ],
      "metadata": {
        "id": "ZAc3-ADLtwF_"
      }
    },
    {
      "cell_type": "code",
      "source": [
        "# selection of categorical variables\n",
        "column_cat = X.select_dtypes(include=['object']).columns#.drop(['artist_name', 'genre', 'track_name', 'track_id'])\n",
        "column_cat"
      ],
      "metadata": {
        "colab": {
          "base_uri": "https://localhost:8080/"
        },
        "id": "-qK3e1XamAnw",
        "outputId": "8a77ed56-7ed5-4613-9631-493d6d26fd5a"
      },
      "execution_count": 53,
      "outputs": [
        {
          "output_type": "execute_result",
          "data": {
            "text/plain": [
              "Index(['island', 'sex'], dtype='object')"
            ]
          },
          "metadata": {},
          "execution_count": 53
        }
      ]
    },
    {
      "cell_type": "code",
      "source": [
        "# categorical variables\n",
        "transfo_cat = Pipeline(steps=[\n",
        "    ('imputation', SimpleImputer(strategy='most_frequent')),\n",
        "    ('onehot', OneHotEncoder(handle_unknown='ignore', sparse = False))\n",
        "])"
      ],
      "metadata": {
        "id": "FWoaTtBQmhsB"
      },
      "execution_count": 54,
      "outputs": []
    },
    {
      "cell_type": "markdown",
      "source": [
        "Selection of numerical variables"
      ],
      "metadata": {
        "id": "3cP7vzBNtyjn"
      }
    },
    {
      "cell_type": "code",
      "source": [
        "# selection of numerical variables\n",
        "column_num = X.select_dtypes(exclude=['object']).columns\n",
        "column_num"
      ],
      "metadata": {
        "colab": {
          "base_uri": "https://localhost:8080/"
        },
        "id": "CUCd4ecam8NZ",
        "outputId": "628518ce-3ef2-421b-9f1b-486ba93dcc6b"
      },
      "execution_count": 55,
      "outputs": [
        {
          "output_type": "execute_result",
          "data": {
            "text/plain": [
              "Index(['culmen_length_mm', 'culmen_depth_mm', 'flipper_length_mm',\n",
              "       'body_mass_g'],\n",
              "      dtype='object')"
            ]
          },
          "metadata": {},
          "execution_count": 55
        }
      ]
    },
    {
      "cell_type": "code",
      "source": [
        "# Numerical variables\n",
        "transfo_num = Pipeline(steps=[\n",
        "    ('imputation', SimpleImputer(strategy='median')),\n",
        "    ('scaling', MinMaxScaler())\n",
        "])"
      ],
      "metadata": {
        "id": "pVSmAPtvmAtv"
      },
      "execution_count": 56,
      "outputs": []
    },
    {
      "cell_type": "markdown",
      "source": [
        "### Column transformer"
      ],
      "metadata": {
        "id": "an1xkVYot0yy"
      }
    },
    {
      "cell_type": "code",
      "source": [
        "# Class ColumnTransformer : apply alls steps on the whole dataset\n",
        "preparation = ColumnTransformer(\n",
        "    transformers=[\n",
        "        ('data_cat', transfo_cat , column_cat),\n",
        "        ('data_num', transfo_num , column_num)\n",
        "    ])"
      ],
      "metadata": {
        "id": "owIBQ98mpoC9"
      },
      "execution_count": 57,
      "outputs": []
    },
    {
      "cell_type": "markdown",
      "source": [
        "### Declare the model and parameters for Grid Search\n",
        "Check the documentation for further explanation : [SVC()](https://scikit-learn.org/stable/modules/generated/sklearn.svm.SVC.html)."
      ],
      "metadata": {
        "id": "zP8RUfo_z0qq"
      }
    },
    {
      "cell_type": "code",
      "source": [
        "parameters = {'model__kernel':('linear', 'rbf'), 'model__C':[1, 10]}\n",
        "svc = SVC()"
      ],
      "metadata": {
        "id": "M_yHZJOgz0qs"
      },
      "execution_count": 58,
      "outputs": []
    },
    {
      "cell_type": "markdown",
      "source": [
        "### Declare the pipeline"
      ],
      "metadata": {
        "id": "lvpVErvMz0qs"
      }
    },
    {
      "cell_type": "code",
      "source": [
        "pipe = Pipeline(steps=[('preparation', preparation),\n",
        "                        ('model',svc)])\n",
        "pipe"
      ],
      "metadata": {
        "colab": {
          "base_uri": "https://localhost:8080/"
        },
        "id": "zKbnOnaCmLBI",
        "outputId": "0d48a9d4-cd03-444b-e4e0-fdde7268f232"
      },
      "execution_count": 59,
      "outputs": [
        {
          "output_type": "execute_result",
          "data": {
            "text/plain": [
              "Pipeline(steps=[('preparation',\n",
              "                 ColumnTransformer(transformers=[('data_cat',\n",
              "                                                  Pipeline(steps=[('imputation',\n",
              "                                                                   SimpleImputer(strategy='most_frequent')),\n",
              "                                                                  ('onehot',\n",
              "                                                                   OneHotEncoder(handle_unknown='ignore',\n",
              "                                                                                 sparse=False))]),\n",
              "                                                  Index(['island', 'sex'], dtype='object')),\n",
              "                                                 ('data_num',\n",
              "                                                  Pipeline(steps=[('imputation',\n",
              "                                                                   SimpleImputer(strategy='median')),\n",
              "                                                                  ('scaling',\n",
              "                                                                   MinMaxScaler())]),\n",
              "                                                  Index(['culmen_length_mm', 'culmen_depth_mm', 'flipper_length_mm',\n",
              "       'body_mass_g'],\n",
              "      dtype='object'))])),\n",
              "                ('model', SVC())])"
            ]
          },
          "metadata": {},
          "execution_count": 59
        }
      ]
    },
    {
      "cell_type": "markdown",
      "source": [
        "### Declare the metrics to be used\n",
        "Metrics are defined at this stage, or at least, before any fitting operations."
      ],
      "metadata": {
        "id": "8BlibpWUz0qt"
      }
    },
    {
      "cell_type": "code",
      "source": [
        "metrics = ['accuracy', 'precision', 'recall', 'roc_auc']"
      ],
      "metadata": {
        "id": "uy3VCsz9z0qu"
      },
      "execution_count": 60,
      "outputs": []
    },
    {
      "cell_type": "markdown",
      "source": [
        "More info about classification metrics [here](https://scikit-learn.org/stable/modules/model_evaluation.html#classification-metrics]).  \n",
        "Available metrics are shown below :"
      ],
      "metadata": {
        "id": "4CCp836lhGu3"
      }
    },
    {
      "cell_type": "code",
      "source": [
        "sorted(SCORERS.keys()) "
      ],
      "metadata": {
        "colab": {
          "base_uri": "https://localhost:8080/"
        },
        "id": "emonV-HiPr4X",
        "outputId": "9d451e3f-b335-4ae5-8ee3-ea84d4dbb955"
      },
      "execution_count": 61,
      "outputs": [
        {
          "output_type": "execute_result",
          "data": {
            "text/plain": [
              "['accuracy',\n",
              " 'adjusted_mutual_info_score',\n",
              " 'adjusted_rand_score',\n",
              " 'average_precision',\n",
              " 'balanced_accuracy',\n",
              " 'completeness_score',\n",
              " 'explained_variance',\n",
              " 'f1',\n",
              " 'f1_macro',\n",
              " 'f1_micro',\n",
              " 'f1_samples',\n",
              " 'f1_weighted',\n",
              " 'fowlkes_mallows_score',\n",
              " 'homogeneity_score',\n",
              " 'jaccard',\n",
              " 'jaccard_macro',\n",
              " 'jaccard_micro',\n",
              " 'jaccard_samples',\n",
              " 'jaccard_weighted',\n",
              " 'max_error',\n",
              " 'mutual_info_score',\n",
              " 'neg_brier_score',\n",
              " 'neg_log_loss',\n",
              " 'neg_mean_absolute_error',\n",
              " 'neg_mean_absolute_percentage_error',\n",
              " 'neg_mean_gamma_deviance',\n",
              " 'neg_mean_poisson_deviance',\n",
              " 'neg_mean_squared_error',\n",
              " 'neg_mean_squared_log_error',\n",
              " 'neg_median_absolute_error',\n",
              " 'neg_root_mean_squared_error',\n",
              " 'normalized_mutual_info_score',\n",
              " 'precision',\n",
              " 'precision_macro',\n",
              " 'precision_micro',\n",
              " 'precision_samples',\n",
              " 'precision_weighted',\n",
              " 'r2',\n",
              " 'rand_score',\n",
              " 'recall',\n",
              " 'recall_macro',\n",
              " 'recall_micro',\n",
              " 'recall_samples',\n",
              " 'recall_weighted',\n",
              " 'roc_auc',\n",
              " 'roc_auc_ovo',\n",
              " 'roc_auc_ovo_weighted',\n",
              " 'roc_auc_ovr',\n",
              " 'roc_auc_ovr_weighted',\n",
              " 'top_k_accuracy',\n",
              " 'v_measure_score']"
            ]
          },
          "metadata": {},
          "execution_count": 61
        }
      ]
    },
    {
      "cell_type": "markdown",
      "source": [
        "### Declare the Grid Search method"
      ],
      "metadata": {
        "id": "J1ucYw72OR3d"
      }
    },
    {
      "cell_type": "code",
      "source": [
        "grid = GridSearchCV(estimator = pipe, param_grid = parameters, scoring = metrics, refit = 'roc_auc', cv = 5, n_jobs =-1, verbose = 1)"
      ],
      "metadata": {
        "id": "1v7snhN6OR3f"
      },
      "execution_count": 62,
      "outputs": []
    },
    {
      "cell_type": "markdown",
      "source": [
        "### Split data into train and test set"
      ],
      "metadata": {
        "id": "QhH12CDAPkSM"
      }
    },
    {
      "cell_type": "code",
      "source": [
        "X_train, X_test, y_train, y_test = train_test_split(X, y, test_size=0.2, random_state=2, stratify=y)"
      ],
      "metadata": {
        "id": "IOsjDHr-PkST"
      },
      "execution_count": 63,
      "outputs": []
    },
    {
      "cell_type": "markdown",
      "source": [
        "### Fit the model"
      ],
      "metadata": {
        "id": "nebGHZjxz0qu"
      }
    },
    {
      "cell_type": "code",
      "source": [
        "grid.fit(X_train, y_train)"
      ],
      "metadata": {
        "colab": {
          "base_uri": "https://localhost:8080/"
        },
        "outputId": "dda1c775-a6ea-401c-c7fa-e1b50efa16e8",
        "id": "YqbY9eFWz0qu"
      },
      "execution_count": 64,
      "outputs": [
        {
          "output_type": "stream",
          "name": "stdout",
          "text": [
            "Fitting 5 folds for each of 4 candidates, totalling 20 fits\n"
          ]
        },
        {
          "output_type": "execute_result",
          "data": {
            "text/plain": [
              "GridSearchCV(cv=5,\n",
              "             estimator=Pipeline(steps=[('preparation',\n",
              "                                        ColumnTransformer(transformers=[('data_cat',\n",
              "                                                                         Pipeline(steps=[('imputation',\n",
              "                                                                                          SimpleImputer(strategy='most_frequent')),\n",
              "                                                                                         ('onehot',\n",
              "                                                                                          OneHotEncoder(handle_unknown='ignore',\n",
              "                                                                                                        sparse=False))]),\n",
              "                                                                         Index(['island', 'sex'], dtype='object')),\n",
              "                                                                        ('data_num',\n",
              "                                                                         Pipeline(steps=[('imputation',\n",
              "                                                                                          SimpleImputer(strategy='median')),\n",
              "                                                                                         ('scaling',\n",
              "                                                                                          MinMaxScaler())]),\n",
              "                                                                         Index(['culmen_length_mm', 'culmen_depth_mm', 'flipper_length_mm',\n",
              "       'body_mass_g'],\n",
              "      dtype='object'))])),\n",
              "                                       ('model', SVC())]),\n",
              "             n_jobs=-1,\n",
              "             param_grid={'model__C': [1, 10],\n",
              "                         'model__kernel': ('linear', 'rbf')},\n",
              "             refit='roc_auc',\n",
              "             scoring=['accuracy', 'precision', 'recall', 'roc_auc'], verbose=1)"
            ]
          },
          "metadata": {},
          "execution_count": 64
        }
      ]
    },
    {
      "cell_type": "markdown",
      "source": [
        "### Access to results from Cross Validation\n",
        "List of available params from the GridSearch."
      ],
      "metadata": {
        "id": "_FHARUvnz0qv"
      }
    },
    {
      "cell_type": "code",
      "source": [
        "sorted(grid.get_params().keys())"
      ],
      "metadata": {
        "colab": {
          "base_uri": "https://localhost:8080/"
        },
        "outputId": "5b61c234-aa59-4a06-c08f-5b0fe4a12a28",
        "id": "eHCx-tllz0qw"
      },
      "execution_count": 65,
      "outputs": [
        {
          "output_type": "execute_result",
          "data": {
            "text/plain": [
              "['cv',\n",
              " 'error_score',\n",
              " 'estimator',\n",
              " 'estimator__memory',\n",
              " 'estimator__model',\n",
              " 'estimator__model__C',\n",
              " 'estimator__model__break_ties',\n",
              " 'estimator__model__cache_size',\n",
              " 'estimator__model__class_weight',\n",
              " 'estimator__model__coef0',\n",
              " 'estimator__model__decision_function_shape',\n",
              " 'estimator__model__degree',\n",
              " 'estimator__model__gamma',\n",
              " 'estimator__model__kernel',\n",
              " 'estimator__model__max_iter',\n",
              " 'estimator__model__probability',\n",
              " 'estimator__model__random_state',\n",
              " 'estimator__model__shrinking',\n",
              " 'estimator__model__tol',\n",
              " 'estimator__model__verbose',\n",
              " 'estimator__preparation',\n",
              " 'estimator__preparation__data_cat',\n",
              " 'estimator__preparation__data_cat__imputation',\n",
              " 'estimator__preparation__data_cat__imputation__add_indicator',\n",
              " 'estimator__preparation__data_cat__imputation__copy',\n",
              " 'estimator__preparation__data_cat__imputation__fill_value',\n",
              " 'estimator__preparation__data_cat__imputation__missing_values',\n",
              " 'estimator__preparation__data_cat__imputation__strategy',\n",
              " 'estimator__preparation__data_cat__imputation__verbose',\n",
              " 'estimator__preparation__data_cat__memory',\n",
              " 'estimator__preparation__data_cat__onehot',\n",
              " 'estimator__preparation__data_cat__onehot__categories',\n",
              " 'estimator__preparation__data_cat__onehot__drop',\n",
              " 'estimator__preparation__data_cat__onehot__dtype',\n",
              " 'estimator__preparation__data_cat__onehot__handle_unknown',\n",
              " 'estimator__preparation__data_cat__onehot__sparse',\n",
              " 'estimator__preparation__data_cat__steps',\n",
              " 'estimator__preparation__data_cat__verbose',\n",
              " 'estimator__preparation__data_num',\n",
              " 'estimator__preparation__data_num__imputation',\n",
              " 'estimator__preparation__data_num__imputation__add_indicator',\n",
              " 'estimator__preparation__data_num__imputation__copy',\n",
              " 'estimator__preparation__data_num__imputation__fill_value',\n",
              " 'estimator__preparation__data_num__imputation__missing_values',\n",
              " 'estimator__preparation__data_num__imputation__strategy',\n",
              " 'estimator__preparation__data_num__imputation__verbose',\n",
              " 'estimator__preparation__data_num__memory',\n",
              " 'estimator__preparation__data_num__scaling',\n",
              " 'estimator__preparation__data_num__scaling__clip',\n",
              " 'estimator__preparation__data_num__scaling__copy',\n",
              " 'estimator__preparation__data_num__scaling__feature_range',\n",
              " 'estimator__preparation__data_num__steps',\n",
              " 'estimator__preparation__data_num__verbose',\n",
              " 'estimator__preparation__n_jobs',\n",
              " 'estimator__preparation__remainder',\n",
              " 'estimator__preparation__sparse_threshold',\n",
              " 'estimator__preparation__transformer_weights',\n",
              " 'estimator__preparation__transformers',\n",
              " 'estimator__preparation__verbose',\n",
              " 'estimator__preparation__verbose_feature_names_out',\n",
              " 'estimator__steps',\n",
              " 'estimator__verbose',\n",
              " 'n_jobs',\n",
              " 'param_grid',\n",
              " 'pre_dispatch',\n",
              " 'refit',\n",
              " 'return_train_score',\n",
              " 'scoring',\n",
              " 'verbose']"
            ]
          },
          "metadata": {},
          "execution_count": 65
        }
      ]
    },
    {
      "cell_type": "markdown",
      "source": [
        "And all params in one call."
      ],
      "metadata": {
        "id": "YqFTLNd3Rvzq"
      }
    },
    {
      "cell_type": "code",
      "source": [
        "grid.get_params()#['cv']"
      ],
      "metadata": {
        "colab": {
          "base_uri": "https://localhost:8080/"
        },
        "id": "_awi8QImSK_-",
        "outputId": "3b93a60b-80fd-4cca-f9b0-1e1c2779ab79"
      },
      "execution_count": 71,
      "outputs": [
        {
          "output_type": "execute_result",
          "data": {
            "text/plain": [
              "{'cv': 5, 'error_score': nan, 'estimator': Pipeline(steps=[('preparation',\n",
              "                  ColumnTransformer(transformers=[('data_cat',\n",
              "                                                   Pipeline(steps=[('imputation',\n",
              "                                                                    SimpleImputer(strategy='most_frequent')),\n",
              "                                                                   ('onehot',\n",
              "                                                                    OneHotEncoder(handle_unknown='ignore',\n",
              "                                                                                  sparse=False))]),\n",
              "                                                   Index(['island', 'sex'], dtype='object')),\n",
              "                                                  ('data_num',\n",
              "                                                   Pipeline(steps=[('imputation',\n",
              "                                                                    SimpleImputer(strategy='median')),\n",
              "                                                                   ('scaling',\n",
              "                                                                    MinMaxScaler())]),\n",
              "                                                   Index(['culmen_length_mm', 'culmen_depth_mm', 'flipper_length_mm',\n",
              "        'body_mass_g'],\n",
              "       dtype='object'))])),\n",
              "                 ('model', SVC())]), 'estimator__memory': None, 'estimator__model': SVC(), 'estimator__model__C': 1.0, 'estimator__model__break_ties': False, 'estimator__model__cache_size': 200, 'estimator__model__class_weight': None, 'estimator__model__coef0': 0.0, 'estimator__model__decision_function_shape': 'ovr', 'estimator__model__degree': 3, 'estimator__model__gamma': 'scale', 'estimator__model__kernel': 'rbf', 'estimator__model__max_iter': -1, 'estimator__model__probability': False, 'estimator__model__random_state': None, 'estimator__model__shrinking': True, 'estimator__model__tol': 0.001, 'estimator__model__verbose': False, 'estimator__preparation': ColumnTransformer(transformers=[('data_cat',\n",
              "                                  Pipeline(steps=[('imputation',\n",
              "                                                   SimpleImputer(strategy='most_frequent')),\n",
              "                                                  ('onehot',\n",
              "                                                   OneHotEncoder(handle_unknown='ignore',\n",
              "                                                                 sparse=False))]),\n",
              "                                  Index(['island', 'sex'], dtype='object')),\n",
              "                                 ('data_num',\n",
              "                                  Pipeline(steps=[('imputation',\n",
              "                                                   SimpleImputer(strategy='median')),\n",
              "                                                  ('scaling', MinMaxScaler())]),\n",
              "                                  Index(['culmen_length_mm', 'culmen_depth_mm', 'flipper_length_mm',\n",
              "        'body_mass_g'],\n",
              "       dtype='object'))]), 'estimator__preparation__data_cat': Pipeline(steps=[('imputation', SimpleImputer(strategy='most_frequent')),\n",
              "                 ('onehot',\n",
              "                  OneHotEncoder(handle_unknown='ignore', sparse=False))]), 'estimator__preparation__data_cat__imputation': SimpleImputer(strategy='most_frequent'), 'estimator__preparation__data_cat__imputation__add_indicator': False, 'estimator__preparation__data_cat__imputation__copy': True, 'estimator__preparation__data_cat__imputation__fill_value': None, 'estimator__preparation__data_cat__imputation__missing_values': nan, 'estimator__preparation__data_cat__imputation__strategy': 'most_frequent', 'estimator__preparation__data_cat__imputation__verbose': 0, 'estimator__preparation__data_cat__memory': None, 'estimator__preparation__data_cat__onehot': OneHotEncoder(handle_unknown='ignore', sparse=False), 'estimator__preparation__data_cat__onehot__categories': 'auto', 'estimator__preparation__data_cat__onehot__drop': None, 'estimator__preparation__data_cat__onehot__dtype': numpy.float64, 'estimator__preparation__data_cat__onehot__handle_unknown': 'ignore', 'estimator__preparation__data_cat__onehot__sparse': False, 'estimator__preparation__data_cat__steps': [('imputation',\n",
              "   SimpleImputer(strategy='most_frequent')),\n",
              "  ('onehot',\n",
              "   OneHotEncoder(handle_unknown='ignore', sparse=False))], 'estimator__preparation__data_cat__verbose': False, 'estimator__preparation__data_num': Pipeline(steps=[('imputation', SimpleImputer(strategy='median')),\n",
              "                 ('scaling', MinMaxScaler())]), 'estimator__preparation__data_num__imputation': SimpleImputer(strategy='median'), 'estimator__preparation__data_num__imputation__add_indicator': False, 'estimator__preparation__data_num__imputation__copy': True, 'estimator__preparation__data_num__imputation__fill_value': None, 'estimator__preparation__data_num__imputation__missing_values': nan, 'estimator__preparation__data_num__imputation__strategy': 'median', 'estimator__preparation__data_num__imputation__verbose': 0, 'estimator__preparation__data_num__memory': None, 'estimator__preparation__data_num__scaling': MinMaxScaler(), 'estimator__preparation__data_num__scaling__clip': False, 'estimator__preparation__data_num__scaling__copy': True, 'estimator__preparation__data_num__scaling__feature_range': (0,\n",
              "  1), 'estimator__preparation__data_num__steps': [('imputation',\n",
              "   SimpleImputer(strategy='median')),\n",
              "  ('scaling',\n",
              "   MinMaxScaler())], 'estimator__preparation__data_num__verbose': False, 'estimator__preparation__n_jobs': None, 'estimator__preparation__remainder': 'drop', 'estimator__preparation__sparse_threshold': 0.3, 'estimator__preparation__transformer_weights': None, 'estimator__preparation__transformers': [('data_cat',\n",
              "   Pipeline(steps=[('imputation', SimpleImputer(strategy='most_frequent')),\n",
              "                   ('onehot',\n",
              "                    OneHotEncoder(handle_unknown='ignore', sparse=False))]),\n",
              "   Index(['island', 'sex'], dtype='object')),\n",
              "  ('data_num',\n",
              "   Pipeline(steps=[('imputation', SimpleImputer(strategy='median')),\n",
              "                   ('scaling', MinMaxScaler())]),\n",
              "   Index(['culmen_length_mm', 'culmen_depth_mm', 'flipper_length_mm',\n",
              "          'body_mass_g'],\n",
              "         dtype='object'))], 'estimator__preparation__verbose': False, 'estimator__preparation__verbose_feature_names_out': True, 'estimator__steps': [('preparation',\n",
              "   ColumnTransformer(transformers=[('data_cat',\n",
              "                                    Pipeline(steps=[('imputation',\n",
              "                                                     SimpleImputer(strategy='most_frequent')),\n",
              "                                                    ('onehot',\n",
              "                                                     OneHotEncoder(handle_unknown='ignore',\n",
              "                                                                   sparse=False))]),\n",
              "                                    Index(['island', 'sex'], dtype='object')),\n",
              "                                   ('data_num',\n",
              "                                    Pipeline(steps=[('imputation',\n",
              "                                                     SimpleImputer(strategy='median')),\n",
              "                                                    ('scaling', MinMaxScaler())]),\n",
              "                                    Index(['culmen_length_mm', 'culmen_depth_mm', 'flipper_length_mm',\n",
              "          'body_mass_g'],\n",
              "         dtype='object'))])),\n",
              "  ('model',\n",
              "   SVC())], 'estimator__verbose': False, 'n_jobs': -1, 'param_grid': {'model__C': [1,\n",
              "   10],\n",
              "  'model__kernel': ('linear',\n",
              "   'rbf')}, 'pre_dispatch': '2*n_jobs', 'refit': 'roc_auc', 'return_train_score': False, 'scoring': ['accuracy',\n",
              "  'precision',\n",
              "  'recall',\n",
              "  'roc_auc'], 'verbose': 1}"
            ]
          },
          "metadata": {},
          "execution_count": 71
        }
      ]
    },
    {
      "cell_type": "markdown",
      "source": [
        "List of available results."
      ],
      "metadata": {
        "id": "orvv5Ce4z0qw"
      }
    },
    {
      "cell_type": "code",
      "source": [
        "sorted(grid.cv_results_.keys())"
      ],
      "metadata": {
        "colab": {
          "base_uri": "https://localhost:8080/"
        },
        "outputId": "af235064-dccd-4ef9-efd6-36d015fc215a",
        "id": "ZRC9Ym-_z0qw"
      },
      "execution_count": 40,
      "outputs": [
        {
          "output_type": "execute_result",
          "data": {
            "text/plain": [
              "['mean_fit_time',\n",
              " 'mean_score_time',\n",
              " 'mean_test_accuracy',\n",
              " 'mean_test_precision',\n",
              " 'mean_test_recall',\n",
              " 'mean_test_roc_auc',\n",
              " 'param_model__C',\n",
              " 'param_model__kernel',\n",
              " 'params',\n",
              " 'rank_test_accuracy',\n",
              " 'rank_test_precision',\n",
              " 'rank_test_recall',\n",
              " 'rank_test_roc_auc',\n",
              " 'split0_test_accuracy',\n",
              " 'split0_test_precision',\n",
              " 'split0_test_recall',\n",
              " 'split0_test_roc_auc',\n",
              " 'split1_test_accuracy',\n",
              " 'split1_test_precision',\n",
              " 'split1_test_recall',\n",
              " 'split1_test_roc_auc',\n",
              " 'split2_test_accuracy',\n",
              " 'split2_test_precision',\n",
              " 'split2_test_recall',\n",
              " 'split2_test_roc_auc',\n",
              " 'split3_test_accuracy',\n",
              " 'split3_test_precision',\n",
              " 'split3_test_recall',\n",
              " 'split3_test_roc_auc',\n",
              " 'split4_test_accuracy',\n",
              " 'split4_test_precision',\n",
              " 'split4_test_recall',\n",
              " 'split4_test_roc_auc',\n",
              " 'std_fit_time',\n",
              " 'std_score_time',\n",
              " 'std_test_accuracy',\n",
              " 'std_test_precision',\n",
              " 'std_test_recall',\n",
              " 'std_test_roc_auc']"
            ]
          },
          "metadata": {},
          "execution_count": 40
        }
      ]
    },
    {
      "cell_type": "markdown",
      "source": [
        "Access to the mean fit time from `cv_results_`."
      ],
      "metadata": {
        "id": "bSb3YdTlQ8BN"
      }
    },
    {
      "cell_type": "code",
      "source": [
        "grid.cv_results_['mean_fit_time']"
      ],
      "metadata": {
        "id": "zOI9lrNQQ7dS"
      },
      "execution_count": null,
      "outputs": []
    },
    {
      "cell_type": "markdown",
      "source": [
        "Access to the best score"
      ],
      "metadata": {
        "id": "Kjat556hz0qx"
      }
    },
    {
      "cell_type": "code",
      "source": [
        "grid.best_score_"
      ],
      "metadata": {
        "colab": {
          "base_uri": "https://localhost:8080/"
        },
        "outputId": "756f1b0f-faa5-41be-a1c7-07232fd5d07d",
        "id": "-2XaQYyvz0qx"
      },
      "execution_count": 40,
      "outputs": [
        {
          "output_type": "execute_result",
          "data": {
            "text/plain": [
              "1.0"
            ]
          },
          "metadata": {},
          "execution_count": 40
        }
      ]
    },
    {
      "cell_type": "markdown",
      "source": [
        "Acces to the parameters providing the best score"
      ],
      "metadata": {
        "id": "Udga_q5Qz0qy"
      }
    },
    {
      "cell_type": "code",
      "source": [
        "grid.best_params_"
      ],
      "metadata": {
        "colab": {
          "base_uri": "https://localhost:8080/"
        },
        "outputId": "d18b04ad-1fc9-45d3-82ff-f7ef9073c5a6",
        "id": "e4VvMh_-z0qy"
      },
      "execution_count": 35,
      "outputs": [
        {
          "output_type": "execute_result",
          "data": {
            "text/plain": [
              "{'model__C': 1, 'model__kernel': 'linear'}"
            ]
          },
          "metadata": {},
          "execution_count": 35
        }
      ]
    },
    {
      "cell_type": "markdown",
      "source": [
        "### Make predictions"
      ],
      "metadata": {
        "id": "GsZTYZJTz0qz"
      }
    },
    {
      "cell_type": "code",
      "source": [
        "y_pred = grid.predict(X_test)"
      ],
      "metadata": {
        "id": "tbqzDF4mz0qz"
      },
      "execution_count": 73,
      "outputs": []
    },
    {
      "cell_type": "markdown",
      "source": [
        "### Evaluate the accuracy score of the model\n",
        "At this stage, performance are evaluated on the test set of data."
      ],
      "metadata": {
        "id": "yAM5xzTsRTrp"
      }
    },
    {
      "cell_type": "code",
      "source": [
        "# Score of models\n",
        "score = accuracy_score(y_test, y_pred)\n",
        "print(\"score :\", round(score, 5))"
      ],
      "metadata": {
        "colab": {
          "base_uri": "https://localhost:8080/"
        },
        "outputId": "a02d50e4-2d35-4ba7-fec4-09537b24dd98",
        "id": "8oi_tQWNRTr1"
      },
      "execution_count": 74,
      "outputs": [
        {
          "output_type": "stream",
          "name": "stdout",
          "text": [
            "score : 1.0\n"
          ]
        }
      ]
    },
    {
      "cell_type": "markdown",
      "metadata": {
        "id": "g0ehPzz2PK3r"
      },
      "source": [
        "# Conclusions\n",
        "This notebook aimed at giving an overview of the classification metrics that can be used to evaluate the predictive model generalization performance."
      ]
    }
  ]
}